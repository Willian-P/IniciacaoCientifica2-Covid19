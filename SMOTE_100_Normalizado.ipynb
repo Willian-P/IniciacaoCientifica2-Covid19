{
  "nbformat": 4,
  "nbformat_minor": 0,
  "metadata": {
    "colab": {
      "provenance": [],
      "collapsed_sections": [
        "gAc0zNIAqUEr",
        "wKyC10bMrUKI",
        "cJVtFTDMvOLk",
        "yhyPfXz1v2a0",
        "_MGwotqdwL-k",
        "yjjJUiZpwrvu",
        "gHkOrHKMxQse",
        "lR8RJSAt4DN9",
        "LLIGQIS94qMe",
        "UB5jC4Oz57FL",
        "VcK2oS1p7rw3",
        "DauRoIgX9Ga-"
      ],
      "mount_file_id": "1LsY1CKZeeuKL0nPiQ9DXzvwVjrUlDgtg",
      "authorship_tag": "ABX9TyMGVeWN6o+lvRJtaKu6n3FJ"
    },
    "kernelspec": {
      "name": "python3",
      "display_name": "Python 3"
    },
    "language_info": {
      "name": "python"
    }
  },
  "cells": [
    {
      "cell_type": "markdown",
      "source": [
        "# Dataset 100% SMOTE **Normalizado**"
      ],
      "metadata": {
        "id": "gAc0zNIAqUEr"
      }
    },
    {
      "cell_type": "code",
      "execution_count": null,
      "metadata": {
        "id": "2CAx4VSvpn7z"
      },
      "outputs": [],
      "source": [
        "# Importações de Bibliotecas\n",
        "import pandas as pd\n",
        "import numpy as np\n",
        "import sklearn\n",
        "import math\n",
        "\n",
        "# Datas\n",
        "from datetime import datetime, timedelta\n",
        "\n",
        "# Gráficos\n",
        "import matplotlib.pyplot as plt\n",
        "import seaborn as sns\n",
        "\n",
        "# Balanceamento\n",
        "# from imblearn.under_sampling import NearMiss\n",
        "from imblearn.over_sampling import SMOTE\n",
        "\n",
        "# Divisão de dados\n",
        "from sklearn.model_selection import train_test_split\n",
        "\n",
        "# Normalização\n",
        "from sklearn.preprocessing import StandardScaler\n",
        "\n",
        "# Classificador\n",
        "from sklearn.ensemble import AdaBoostClassifier\n",
        "from sklearn.linear_model import LogisticRegression\n",
        "from sklearn.tree import DecisionTreeClassifier\n",
        "\n",
        "# Métricas\n",
        "from sklearn.metrics import accuracy_score, classification_report, RocCurveDisplay, f1_score"
      ]
    },
    {
      "cell_type": "code",
      "source": [
        "# Local do Dataset\n",
        "url = \"https://s3.sa-east-1.amazonaws.com/ckan.saude.gov.br/SRAG/2022/INFLUD22-23-01-2023.csv\""
      ],
      "metadata": {
        "id": "wE1JPqAKqr5M"
      },
      "execution_count": null,
      "outputs": []
    },
    {
      "cell_type": "code",
      "source": [
        "# Carregando Dataset\n",
        "data = pd.read_csv(url, sep=';', na_filter = True)\n",
        "print(f\"{len(data)} linhas lidas\")"
      ],
      "metadata": {
        "colab": {
          "base_uri": "https://localhost:8080/"
        },
        "id": "lBJwvOL6rFtM",
        "outputId": "225498f1-d035-441d-fd87-5626779c2ab8"
      },
      "execution_count": null,
      "outputs": [
        {
          "output_type": "stream",
          "name": "stderr",
          "text": [
            "<ipython-input-220-5503c4e8948e>:2: DtypeWarning: Columns (15,59,61,62,63,91,93,105,107,120,122,143) have mixed types. Specify dtype option on import or set low_memory=False.\n",
            "  data = pd.read_csv(url, sep=';', na_filter = True)\n"
          ]
        },
        {
          "output_type": "stream",
          "name": "stdout",
          "text": [
            "561242 linhas lidas\n"
          ]
        }
      ]
    },
    {
      "cell_type": "code",
      "source": [
        "# Formato do Dataset\n",
        "data.shape"
      ],
      "metadata": {
        "colab": {
          "base_uri": "https://localhost:8080/"
        },
        "id": "xTFzAGgorHa0",
        "outputId": "dc49a48e-e14f-4143-da98-101148ab851e"
      },
      "execution_count": null,
      "outputs": [
        {
          "output_type": "execute_result",
          "data": {
            "text/plain": [
              "(561242, 166)"
            ]
          },
          "metadata": {},
          "execution_count": 221
        }
      ]
    },
    {
      "cell_type": "markdown",
      "source": [
        "# Delimitando Dataset"
      ],
      "metadata": {
        "id": "wKyC10bMrUKI"
      }
    },
    {
      "cell_type": "markdown",
      "source": [
        "Este dataset é composto por notificações realacionadas as Síndromes Respiratórias Agudas Graves SRAGs no Brasil no ano de 2022"
      ],
      "metadata": {
        "id": "DY2Pg9EhrOhG"
      }
    },
    {
      "cell_type": "code",
      "source": [
        "# Delimitando apenas para notificações de Covid-19\n",
        "data = data[data['CLASSI_FIN'] == 5]\n",
        "data.shape"
      ],
      "metadata": {
        "colab": {
          "base_uri": "https://localhost:8080/"
        },
        "id": "rB4xjcegrHiW",
        "outputId": "bf533f59-c76b-4fd1-d87b-cad40fe9f529"
      },
      "execution_count": null,
      "outputs": [
        {
          "output_type": "execute_result",
          "data": {
            "text/plain": [
              "(235891, 166)"
            ]
          },
          "metadata": {},
          "execution_count": 222
        }
      ]
    },
    {
      "cell_type": "code",
      "source": [
        "# Deixando apenas com notificações do Paraná\n",
        "data = data[data['SG_UF_NOT'] == 'PR']\n",
        "data.shape"
      ],
      "metadata": {
        "colab": {
          "base_uri": "https://localhost:8080/"
        },
        "id": "9guxBCopsQyg",
        "outputId": "694901bf-244e-4209-fb29-76f9ce01a3d2"
      },
      "execution_count": null,
      "outputs": [
        {
          "output_type": "execute_result",
          "data": {
            "text/plain": [
              "(19002, 166)"
            ]
          },
          "metadata": {},
          "execution_count": 223
        }
      ]
    },
    {
      "cell_type": "code",
      "source": [
        "# Removendo instâncias com 3 e 9, pois equivalem, respectivamente a \"óbito por outras causas\" e \"ignorado\"\n",
        "data = data[(data['EVOLUCAO'] == 1) | (data['EVOLUCAO'] == 2)]\n",
        "\n",
        "# Atualizando o target 'EVOLUCAO' para 0 e 1\n",
        "data['EVOLUCAO'] = data['EVOLUCAO'].map({1: 0, 2: 1})\n",
        "data.shape"
      ],
      "metadata": {
        "colab": {
          "base_uri": "https://localhost:8080/"
        },
        "id": "DaXxBeA1uyW0",
        "outputId": "70915c6c-f8b5-4b70-bf26-f5e9f46300be"
      },
      "execution_count": null,
      "outputs": [
        {
          "output_type": "stream",
          "name": "stderr",
          "text": [
            "<ipython-input-224-da8d121ee4c8>:5: SettingWithCopyWarning: \n",
            "A value is trying to be set on a copy of a slice from a DataFrame.\n",
            "Try using .loc[row_indexer,col_indexer] = value instead\n",
            "\n",
            "See the caveats in the documentation: https://pandas.pydata.org/pandas-docs/stable/user_guide/indexing.html#returning-a-view-versus-a-copy\n",
            "  data['EVOLUCAO'] = data['EVOLUCAO'].map({1: 0, 2: 1})\n"
          ]
        },
        {
          "output_type": "execute_result",
          "data": {
            "text/plain": [
              "(17699, 166)"
            ]
          },
          "metadata": {},
          "execution_count": 224
        }
      ]
    },
    {
      "cell_type": "markdown",
      "source": [
        "# Eliminação Manual de Atributos"
      ],
      "metadata": {
        "id": "cJVtFTDMvOLk"
      }
    },
    {
      "cell_type": "code",
      "source": [
        "# Dados redundantes após a delimitação\n",
        "data.drop(['CLASSI_FIN', 'SG_UF_NOT'], axis=1, inplace=True)\n",
        "data.shape"
      ],
      "metadata": {
        "colab": {
          "base_uri": "https://localhost:8080/"
        },
        "id": "cwKxvEPCvXcd",
        "outputId": "6515e7ef-a132-4507-ffa0-fd8b2ac179fe"
      },
      "execution_count": null,
      "outputs": [
        {
          "output_type": "stream",
          "name": "stderr",
          "text": [
            "<ipython-input-225-282e3f1eb280>:2: SettingWithCopyWarning: \n",
            "A value is trying to be set on a copy of a slice from a DataFrame\n",
            "\n",
            "See the caveats in the documentation: https://pandas.pydata.org/pandas-docs/stable/user_guide/indexing.html#returning-a-view-versus-a-copy\n",
            "  data.drop(['CLASSI_FIN', 'SG_UF_NOT'], axis=1, inplace=True)\n"
          ]
        },
        {
          "output_type": "execute_result",
          "data": {
            "text/plain": [
              "(17699, 164)"
            ]
          },
          "metadata": {},
          "execution_count": 225
        }
      ]
    },
    {
      "cell_type": "code",
      "source": [
        "# Retirando atributos categorizadas como Campos Internos\n",
        "data.drop([\"SEM_NOT\", \"SEM_PRI\", \"ID_REGIONA\", \"CO_REGIONA\", \"ID_RG_RESI\",\n",
        "           \"CO_RG_RESI\", \"FNT_IN_COV\", \"ID_RG_INTE\", \"CO_RG_INTE\", \"DT_DIGITA\"],\n",
        "          axis=1, inplace=True)\n",
        "data.shape"
      ],
      "metadata": {
        "colab": {
          "base_uri": "https://localhost:8080/"
        },
        "id": "UmkyCdD5vezX",
        "outputId": "5ad0dbaa-550e-4ddb-92bb-e9733cc65b55"
      },
      "execution_count": null,
      "outputs": [
        {
          "output_type": "stream",
          "name": "stderr",
          "text": [
            "<ipython-input-226-3026bbd4e268>:2: SettingWithCopyWarning: \n",
            "A value is trying to be set on a copy of a slice from a DataFrame\n",
            "\n",
            "See the caveats in the documentation: https://pandas.pydata.org/pandas-docs/stable/user_guide/indexing.html#returning-a-view-versus-a-copy\n",
            "  data.drop([\"SEM_NOT\", \"SEM_PRI\", \"ID_REGIONA\", \"CO_REGIONA\", \"ID_RG_RESI\",\n"
          ]
        },
        {
          "output_type": "execute_result",
          "data": {
            "text/plain": [
              "(17699, 154)"
            ]
          },
          "metadata": {},
          "execution_count": 226
        }
      ]
    },
    {
      "cell_type": "code",
      "source": [
        "# Atributos Relacionados a localização\n",
        "data.drop([\"ID_MUNICIP\", \"CO_MUN_NOT\", \"ID_UNIDADE\", \"CO_UNI_NOT\", \"ID_PAIS\",\n",
        "           \"CO_PAIS\", \"SG_UF\", \"ID_MN_RESI\", \"CO_MUN_RES\", \"CS_ZONA\", \"ESTRANG\",\n",
        "           \"SG_UF_INTE\", \"ID_MN_INTE\", \"CO_MU_INTE\"], axis=1, inplace=True)\n",
        "data.shape"
      ],
      "metadata": {
        "colab": {
          "base_uri": "https://localhost:8080/"
        },
        "id": "MP_uM7kgve2N",
        "outputId": "74a8dc8e-de72-47cd-bb98-679e259577bc"
      },
      "execution_count": null,
      "outputs": [
        {
          "output_type": "stream",
          "name": "stderr",
          "text": [
            "<ipython-input-227-132b8bb13a71>:2: SettingWithCopyWarning: \n",
            "A value is trying to be set on a copy of a slice from a DataFrame\n",
            "\n",
            "See the caveats in the documentation: https://pandas.pydata.org/pandas-docs/stable/user_guide/indexing.html#returning-a-view-versus-a-copy\n",
            "  data.drop([\"ID_MUNICIP\", \"CO_MUN_NOT\", \"ID_UNIDADE\", \"CO_UNI_NOT\", \"ID_PAIS\",\n"
          ]
        },
        {
          "output_type": "execute_result",
          "data": {
            "text/plain": [
              "(17699, 140)"
            ]
          },
          "metadata": {},
          "execution_count": 227
        }
      ]
    },
    {
      "cell_type": "code",
      "source": [
        "# Redundância na idade\n",
        "data.drop([\"DT_NASC\", \"TP_IDADE\", \"COD_IDADE\"], axis=1, inplace=True)\n",
        "data.shape"
      ],
      "metadata": {
        "colab": {
          "base_uri": "https://localhost:8080/"
        },
        "id": "vMeQcJT0vlQJ",
        "outputId": "94e1af4c-140d-4ca0-afe3-27233ea2f125"
      },
      "execution_count": null,
      "outputs": [
        {
          "output_type": "execute_result",
          "data": {
            "text/plain": [
              "(17699, 137)"
            ]
          },
          "metadata": {},
          "execution_count": 228
        }
      ]
    },
    {
      "cell_type": "code",
      "source": [
        "# Dados relacionados a informações da vacina\n",
        "data.drop([\"LOTE_1_COV\", \"LOTE_2_COV\",\"LOTE_REF\", \"FAB_COV_1\", \"FAB_COV_2\",\n",
        "           \"FAB_COVREF\", \"LAB_PR_COV\"], axis=1, inplace=True)\n",
        "data.shape"
      ],
      "metadata": {
        "colab": {
          "base_uri": "https://localhost:8080/"
        },
        "id": "ajlNAGJKvmmB",
        "outputId": "e1c3b726-3a89-480d-81f0-3d0d067b0a78"
      },
      "execution_count": null,
      "outputs": [
        {
          "output_type": "execute_result",
          "data": {
            "text/plain": [
              "(17699, 130)"
            ]
          },
          "metadata": {},
          "execution_count": 229
        }
      ]
    },
    {
      "cell_type": "code",
      "source": [
        "# Atributos que não constam no dicionário de dados\n",
        "data.drop([\"HISTO_VGM\", \"PCR_SARS2\"], axis=1, inplace=True)\n",
        "data.shape"
      ],
      "metadata": {
        "colab": {
          "base_uri": "https://localhost:8080/"
        },
        "id": "Q40jd46Bvn48",
        "outputId": "d441decc-ff98-4926-d3d4-8191efb864b4"
      },
      "execution_count": null,
      "outputs": [
        {
          "output_type": "execute_result",
          "data": {
            "text/plain": [
              "(17699, 128)"
            ]
          },
          "metadata": {},
          "execution_count": 230
        }
      ]
    },
    {
      "cell_type": "code",
      "source": [
        "# datas administrativas\n",
        "data.drop([\"DT_ENCERRA\", \"DT_COLETA\"], axis=1, inplace=True)\n",
        "data.shape"
      ],
      "metadata": {
        "colab": {
          "base_uri": "https://localhost:8080/"
        },
        "id": "k46F_1hLvpOC",
        "outputId": "2427c103-ee3e-4d9a-ead6-6f132825cbc7"
      },
      "execution_count": null,
      "outputs": [
        {
          "output_type": "execute_result",
          "data": {
            "text/plain": [
              "(17699, 126)"
            ]
          },
          "metadata": {},
          "execution_count": 231
        }
      ]
    },
    {
      "cell_type": "code",
      "source": [
        "# Outras colunas\n",
        "data.drop([\"AVE_SUINO\", \"CS_RACA\"], axis=1, inplace=True)\n",
        "data.shape"
      ],
      "metadata": {
        "colab": {
          "base_uri": "https://localhost:8080/"
        },
        "id": "rofQ3t9xvqks",
        "outputId": "22207d92-7167-4330-bead-996c653ae95f"
      },
      "execution_count": null,
      "outputs": [
        {
          "output_type": "execute_result",
          "data": {
            "text/plain": [
              "(17699, 124)"
            ]
          },
          "metadata": {},
          "execution_count": 232
        }
      ]
    },
    {
      "cell_type": "code",
      "source": [
        "data.info()"
      ],
      "metadata": {
        "colab": {
          "base_uri": "https://localhost:8080/"
        },
        "id": "uGfTZnanvyPI",
        "outputId": "a1015df5-bc5c-49ac-de0a-5975cee6220e"
      },
      "execution_count": null,
      "outputs": [
        {
          "output_type": "stream",
          "name": "stdout",
          "text": [
            "<class 'pandas.core.frame.DataFrame'>\n",
            "Int64Index: 17699 entries, 32 to 561154\n",
            "Columns: 124 entries, DT_NOTIFIC to DOSE_REF\n",
            "dtypes: float64(81), int64(4), object(39)\n",
            "memory usage: 16.9+ MB\n"
          ]
        }
      ]
    },
    {
      "cell_type": "markdown",
      "source": [
        "# Tratamento de Valores Ignorados"
      ],
      "metadata": {
        "id": "yhyPfXz1v2a0"
      }
    },
    {
      "cell_type": "code",
      "source": [
        "# Alteração dos valores 9 (ignorados) para NaN\n",
        "for column in data:\n",
        "  if ((data[column].dtypes != 'object') and\n",
        "   (column != 'NU_IDADE_N')) or (column == 'CS_SEXO'):\n",
        "    data[column] = data[column].apply(lambda x: np.nan if x == 9 else x)"
      ],
      "metadata": {
        "id": "DvOyUbLAv6Bg"
      },
      "execution_count": null,
      "outputs": []
    },
    {
      "cell_type": "markdown",
      "source": [
        "# Filtro 50%"
      ],
      "metadata": {
        "id": "_MGwotqdwL-k"
      }
    },
    {
      "cell_type": "markdown",
      "source": [
        "Filtro de 50% em linhas e colunas, prezando pela qualidade e não quantidade de dados."
      ],
      "metadata": {
        "id": "p-R3HIMBwRKW"
      }
    },
    {
      "cell_type": "code",
      "source": [
        "# Limiar de procentagem de dados faltantes\n",
        "threshold = 0.5\n",
        "\n",
        "# Calcula a porcentagem de dados faltantes em cada coluna\n",
        "porcentagem_nan = data.isnull().sum() / len(data)\n",
        "\n",
        "# Filtra as colunas que têm mais de 50% dos dados faltantes\n",
        "colunas_remocao = porcentagem_nan[porcentagem_nan > threshold].index\n",
        "\n",
        "# Remoção das colunas\n",
        "data = data.drop(colunas_remocao, axis=1)\n",
        "\n",
        "print(f'{len(colunas_remocao)} colunas foram removidas')\n",
        "print(data.shape)"
      ],
      "metadata": {
        "colab": {
          "base_uri": "https://localhost:8080/"
        },
        "id": "5MV2H4Q9wOEY",
        "outputId": "7e3b32cd-41a7-4ce9-8f1e-58d1fe6695ca"
      },
      "execution_count": null,
      "outputs": [
        {
          "output_type": "stream",
          "name": "stdout",
          "text": [
            "82 colunas foram removidas\n",
            "(17699, 42)\n"
          ]
        }
      ]
    },
    {
      "cell_type": "code",
      "source": [
        "data.info()"
      ],
      "metadata": {
        "colab": {
          "base_uri": "https://localhost:8080/"
        },
        "id": "r2GdphQWwXqQ",
        "outputId": "6ea34b8c-e619-4ff4-8923-edc8b7c5a792"
      },
      "execution_count": null,
      "outputs": [
        {
          "output_type": "stream",
          "name": "stdout",
          "text": [
            "<class 'pandas.core.frame.DataFrame'>\n",
            "Int64Index: 17699 entries, 32 to 561154\n",
            "Data columns (total 42 columns):\n",
            " #   Column      Non-Null Count  Dtype  \n",
            "---  ------      --------------  -----  \n",
            " 0   DT_NOTIFIC  17699 non-null  object \n",
            " 1   DT_SIN_PRI  17699 non-null  object \n",
            " 2   CS_SEXO     17699 non-null  object \n",
            " 3   NU_IDADE_N  17699 non-null  int64  \n",
            " 4   CS_GESTANT  17444 non-null  float64\n",
            " 5   NOSOCOMIAL  16050 non-null  float64\n",
            " 6   FEBRE       14589 non-null  float64\n",
            " 7   TOSSE       15203 non-null  float64\n",
            " 8   GARGANTA    13245 non-null  float64\n",
            " 9   DISPNEIA    14895 non-null  float64\n",
            " 10  DESC_RESP   14042 non-null  float64\n",
            " 11  SATURACAO   14704 non-null  float64\n",
            " 12  DIARREIA    12727 non-null  float64\n",
            " 13  VOMITO      12720 non-null  float64\n",
            " 14  OUTRO_SIN   12936 non-null  float64\n",
            " 15  FATOR_RISC  17699 non-null  int64  \n",
            " 16  CARDIOPATI  9805 non-null   float64\n",
            " 17  DIABETES    9129 non-null   float64\n",
            " 18  OUT_MORBI   9683 non-null   float64\n",
            " 19  ANTIVIRAL   15008 non-null  float64\n",
            " 20  HOSPITAL    17598 non-null  float64\n",
            " 21  DT_INTERNA  17160 non-null  object \n",
            " 22  UTI         16849 non-null  float64\n",
            " 23  SUPORT_VEN  16875 non-null  float64\n",
            " 24  RAIOX_RES   11129 non-null  float64\n",
            " 25  AMOSTRA     17294 non-null  float64\n",
            " 26  TP_AMOSTRA  16833 non-null  float64\n",
            " 27  PCR_RESUL   16780 non-null  float64\n",
            " 28  DT_PCR      11124 non-null  object \n",
            " 29  POS_PCROUT  10088 non-null  float64\n",
            " 30  CRITERIO    17363 non-null  float64\n",
            " 31  EVOLUCAO    17699 non-null  int64  \n",
            " 32  DT_EVOLUCA  17542 non-null  object \n",
            " 33  DOR_ABD     12549 non-null  float64\n",
            " 34  FADIGA      12869 non-null  float64\n",
            " 35  PERD_OLFT   12389 non-null  float64\n",
            " 36  PERD_PALA   12357 non-null  float64\n",
            " 37  TOMO_RES    9981 non-null   float64\n",
            " 38  RES_AN      17153 non-null  float64\n",
            " 39  VACINA_COV  17355 non-null  float64\n",
            " 40  DOSE_1_COV  12965 non-null  object \n",
            " 41  DOSE_2_COV  12287 non-null  object \n",
            "dtypes: float64(31), int64(3), object(8)\n",
            "memory usage: 5.8+ MB\n"
          ]
        }
      ]
    },
    {
      "cell_type": "code",
      "source": [
        "# Reinicia o index de cada instância\n",
        "data = data.reset_index(drop=True)"
      ],
      "metadata": {
        "id": "KoRrUEUGwbaa"
      },
      "execution_count": null,
      "outputs": []
    },
    {
      "cell_type": "code",
      "source": [
        "# Limiar de procentagem de dados faltantes\n",
        "threshold = 0.5\n",
        "\n",
        "# Calcula a porcentagem de dados faltantes em cada linha\n",
        "porcentagem_nan = data.isnull().sum(axis=1) / data.shape[1]\n",
        "\n",
        "# Filtra as linhas que têm mais de 50% dos dados faltantes\n",
        "linhas_remocao = porcentagem_nan[porcentagem_nan > threshold].index\n",
        "\n",
        "# Remove as linhas\n",
        "data = data.drop(linhas_remocao, axis=0)\n",
        "\n",
        "print(f'{len(linhas_remocao)} linhas foram removidas')\n",
        "print(data.shape)"
      ],
      "metadata": {
        "colab": {
          "base_uri": "https://localhost:8080/"
        },
        "id": "E63vmmW1wjYP",
        "outputId": "3b3b74df-3808-4945-9080-c8f657d823b6"
      },
      "execution_count": null,
      "outputs": [
        {
          "output_type": "stream",
          "name": "stdout",
          "text": [
            "267 linhas foram removidas\n",
            "(17432, 42)\n"
          ]
        }
      ]
    },
    {
      "cell_type": "code",
      "source": [
        "# Reinicia o index de cada instância\n",
        "data = data.reset_index(drop=True)"
      ],
      "metadata": {
        "id": "OaTar_euwpXa"
      },
      "execution_count": null,
      "outputs": []
    },
    {
      "cell_type": "markdown",
      "source": [
        "# Preenchimento de valores NaN do tipo float"
      ],
      "metadata": {
        "id": "yjjJUiZpwrvu"
      }
    },
    {
      "cell_type": "code",
      "source": [
        "# Dados faltantes\n",
        "faltantes = data.isnull().sum()\n",
        "faltantes"
      ],
      "metadata": {
        "colab": {
          "base_uri": "https://localhost:8080/"
        },
        "id": "Yw8ikTh9wyE-",
        "outputId": "26faf9e4-4498-44f6-949c-3c8f51b8fd64"
      },
      "execution_count": null,
      "outputs": [
        {
          "output_type": "execute_result",
          "data": {
            "text/plain": [
              "DT_NOTIFIC       0\n",
              "DT_SIN_PRI       0\n",
              "CS_SEXO          0\n",
              "NU_IDADE_N       0\n",
              "CS_GESTANT     249\n",
              "NOSOCOMIAL    1582\n",
              "FEBRE         2871\n",
              "TOSSE         2271\n",
              "GARGANTA      4203\n",
              "DISPNEIA      2564\n",
              "DESC_RESP     3406\n",
              "SATURACAO     2756\n",
              "DIARREIA      4712\n",
              "VOMITO        4714\n",
              "OUTRO_SIN     4522\n",
              "FATOR_RISC       0\n",
              "CARDIOPATI    7639\n",
              "DIABETES      8314\n",
              "OUT_MORBI     7762\n",
              "ANTIVIRAL     2580\n",
              "HOSPITAL        73\n",
              "DT_INTERNA     486\n",
              "UTI            777\n",
              "SUPORT_VEN     607\n",
              "RAIOX_RES     6310\n",
              "AMOSTRA        360\n",
              "TP_AMOSTRA     809\n",
              "PCR_RESUL      722\n",
              "DT_PCR        6336\n",
              "POS_PCROUT    7362\n",
              "CRITERIO       331\n",
              "EVOLUCAO         0\n",
              "DT_EVOLUCA     137\n",
              "DOR_ABD       4883\n",
              "FADIGA        4567\n",
              "PERD_OLFT     5043\n",
              "PERD_PALA     5075\n",
              "TOMO_RES      7470\n",
              "RES_AN         523\n",
              "VACINA_COV     284\n",
              "DOSE_1_COV    4601\n",
              "DOSE_2_COV    5264\n",
              "dtype: int64"
            ]
          },
          "metadata": {},
          "execution_count": 240
        }
      ]
    },
    {
      "cell_type": "markdown",
      "source": [
        "Todos os NaN serão substituidos pelo valor da mediana daquele atributo."
      ],
      "metadata": {
        "id": "khSJlyy0w7Oo"
      }
    },
    {
      "cell_type": "code",
      "source": [
        "# Seleciona as colunas do tipo float\n",
        "colunas_float = data.select_dtypes(include='float64').columns\n",
        "\n",
        "# Substitui os valores NaN pela mediana de cada coluna\n",
        "data[colunas_float] = data[colunas_float].fillna(data[colunas_float].median().iloc[0])"
      ],
      "metadata": {
        "id": "gBDAF35Zw0yQ"
      },
      "execution_count": null,
      "outputs": []
    },
    {
      "cell_type": "code",
      "source": [
        "# Dados faltantes\n",
        "faltantes = data.isnull().sum()\n",
        "faltantes"
      ],
      "metadata": {
        "colab": {
          "base_uri": "https://localhost:8080/"
        },
        "id": "-zdzVkTWw00x",
        "outputId": "7d27768c-1529-4546-a1ce-75a20373b567"
      },
      "execution_count": null,
      "outputs": [
        {
          "output_type": "execute_result",
          "data": {
            "text/plain": [
              "DT_NOTIFIC       0\n",
              "DT_SIN_PRI       0\n",
              "CS_SEXO          0\n",
              "NU_IDADE_N       0\n",
              "CS_GESTANT       0\n",
              "NOSOCOMIAL       0\n",
              "FEBRE            0\n",
              "TOSSE            0\n",
              "GARGANTA         0\n",
              "DISPNEIA         0\n",
              "DESC_RESP        0\n",
              "SATURACAO        0\n",
              "DIARREIA         0\n",
              "VOMITO           0\n",
              "OUTRO_SIN        0\n",
              "FATOR_RISC       0\n",
              "CARDIOPATI       0\n",
              "DIABETES         0\n",
              "OUT_MORBI        0\n",
              "ANTIVIRAL        0\n",
              "HOSPITAL         0\n",
              "DT_INTERNA     486\n",
              "UTI              0\n",
              "SUPORT_VEN       0\n",
              "RAIOX_RES        0\n",
              "AMOSTRA          0\n",
              "TP_AMOSTRA       0\n",
              "PCR_RESUL        0\n",
              "DT_PCR        6336\n",
              "POS_PCROUT       0\n",
              "CRITERIO         0\n",
              "EVOLUCAO         0\n",
              "DT_EVOLUCA     137\n",
              "DOR_ABD          0\n",
              "FADIGA           0\n",
              "PERD_OLFT        0\n",
              "PERD_PALA        0\n",
              "TOMO_RES         0\n",
              "RES_AN           0\n",
              "VACINA_COV       0\n",
              "DOSE_1_COV    4601\n",
              "DOSE_2_COV    5264\n",
              "dtype: int64"
            ]
          },
          "metadata": {},
          "execution_count": 242
        }
      ]
    },
    {
      "cell_type": "markdown",
      "source": [
        "# Tratando Datas"
      ],
      "metadata": {
        "id": "gHkOrHKMxQse"
      }
    },
    {
      "cell_type": "markdown",
      "source": [
        "Criação de uma coluna chamada \"QTD_DIAS\" que é resultante da relação entre data da Notificação do paciente até a Evolução."
      ],
      "metadata": {
        "id": "-qm8oLyKxVya"
      }
    },
    {
      "cell_type": "markdown",
      "source": [
        "*DT_NOTIFIC com DT_EVOLUCA*"
      ],
      "metadata": {
        "id": "7QHiPYlbMnEs"
      }
    },
    {
      "cell_type": "code",
      "source": [
        "# QTD_DIAS armazena a quantidade de dias desde a notificação até a evolução.\n",
        "data['QTD_DIAS'] = ''"
      ],
      "metadata": {
        "id": "vQ7Dgahcw038"
      },
      "execution_count": null,
      "outputs": []
    },
    {
      "cell_type": "code",
      "source": [
        "# Calcula o intervalo de dias entre duas datas\n",
        "def calcular_qtd_dias(row):\n",
        "  if pd.isna(row['DT_EVOLUCA']):\n",
        "    return np.nan\n",
        "  else:\n",
        "    data1 = datetime.strptime(row['DT_NOTIFIC'], '%d/%m/%Y')\n",
        "    data2 = datetime.strptime(row['DT_EVOLUCA'], '%d/%m/%Y')\n",
        "    dias = abs((data2 - data1).days)\n",
        "    return dias\n",
        "\n",
        "# Chama a função e atribui o resultado à coluna 'QTD_DIAS'\n",
        "data['QTD_DIAS'] = data.apply(calcular_qtd_dias, axis=1)"
      ],
      "metadata": {
        "id": "H1xKl65fxcjM"
      },
      "execution_count": null,
      "outputs": []
    },
    {
      "cell_type": "code",
      "source": [
        "data[['DT_NOTIFIC', 'DT_EVOLUCA', 'QTD_DIAS']]"
      ],
      "metadata": {
        "colab": {
          "base_uri": "https://localhost:8080/"
        },
        "id": "x8BN6BGXxcmW",
        "outputId": "d34a7058-0234-4818-9d41-035647dc4faa"
      },
      "execution_count": null,
      "outputs": [
        {
          "output_type": "execute_result",
          "data": {
            "text/plain": [
              "       DT_NOTIFIC  DT_EVOLUCA  QTD_DIAS\n",
              "0      05/01/2022  06/01/2022       1.0\n",
              "1      07/01/2022  25/01/2022      18.0\n",
              "2      10/01/2022  13/01/2022       3.0\n",
              "3      19/01/2022  07/02/2022      19.0\n",
              "4      10/01/2022  13/01/2022       3.0\n",
              "...           ...         ...       ...\n",
              "17427  29/06/2022  29/06/2022       0.0\n",
              "17428  09/08/2022  12/08/2022       3.0\n",
              "17429  30/08/2022  01/09/2022       2.0\n",
              "17430  10/11/2022  17/11/2022       7.0\n",
              "17431  24/12/2022  29/12/2022       5.0\n",
              "\n",
              "[17432 rows x 3 columns]"
            ],
            "text/html": [
              "\n",
              "  <div id=\"df-79ba890a-ed49-4ce2-9235-5436efc7ece2\" class=\"colab-df-container\">\n",
              "    <div>\n",
              "<style scoped>\n",
              "    .dataframe tbody tr th:only-of-type {\n",
              "        vertical-align: middle;\n",
              "    }\n",
              "\n",
              "    .dataframe tbody tr th {\n",
              "        vertical-align: top;\n",
              "    }\n",
              "\n",
              "    .dataframe thead th {\n",
              "        text-align: right;\n",
              "    }\n",
              "</style>\n",
              "<table border=\"1\" class=\"dataframe\">\n",
              "  <thead>\n",
              "    <tr style=\"text-align: right;\">\n",
              "      <th></th>\n",
              "      <th>DT_NOTIFIC</th>\n",
              "      <th>DT_EVOLUCA</th>\n",
              "      <th>QTD_DIAS</th>\n",
              "    </tr>\n",
              "  </thead>\n",
              "  <tbody>\n",
              "    <tr>\n",
              "      <th>0</th>\n",
              "      <td>05/01/2022</td>\n",
              "      <td>06/01/2022</td>\n",
              "      <td>1.0</td>\n",
              "    </tr>\n",
              "    <tr>\n",
              "      <th>1</th>\n",
              "      <td>07/01/2022</td>\n",
              "      <td>25/01/2022</td>\n",
              "      <td>18.0</td>\n",
              "    </tr>\n",
              "    <tr>\n",
              "      <th>2</th>\n",
              "      <td>10/01/2022</td>\n",
              "      <td>13/01/2022</td>\n",
              "      <td>3.0</td>\n",
              "    </tr>\n",
              "    <tr>\n",
              "      <th>3</th>\n",
              "      <td>19/01/2022</td>\n",
              "      <td>07/02/2022</td>\n",
              "      <td>19.0</td>\n",
              "    </tr>\n",
              "    <tr>\n",
              "      <th>4</th>\n",
              "      <td>10/01/2022</td>\n",
              "      <td>13/01/2022</td>\n",
              "      <td>3.0</td>\n",
              "    </tr>\n",
              "    <tr>\n",
              "      <th>...</th>\n",
              "      <td>...</td>\n",
              "      <td>...</td>\n",
              "      <td>...</td>\n",
              "    </tr>\n",
              "    <tr>\n",
              "      <th>17427</th>\n",
              "      <td>29/06/2022</td>\n",
              "      <td>29/06/2022</td>\n",
              "      <td>0.0</td>\n",
              "    </tr>\n",
              "    <tr>\n",
              "      <th>17428</th>\n",
              "      <td>09/08/2022</td>\n",
              "      <td>12/08/2022</td>\n",
              "      <td>3.0</td>\n",
              "    </tr>\n",
              "    <tr>\n",
              "      <th>17429</th>\n",
              "      <td>30/08/2022</td>\n",
              "      <td>01/09/2022</td>\n",
              "      <td>2.0</td>\n",
              "    </tr>\n",
              "    <tr>\n",
              "      <th>17430</th>\n",
              "      <td>10/11/2022</td>\n",
              "      <td>17/11/2022</td>\n",
              "      <td>7.0</td>\n",
              "    </tr>\n",
              "    <tr>\n",
              "      <th>17431</th>\n",
              "      <td>24/12/2022</td>\n",
              "      <td>29/12/2022</td>\n",
              "      <td>5.0</td>\n",
              "    </tr>\n",
              "  </tbody>\n",
              "</table>\n",
              "<p>17432 rows × 3 columns</p>\n",
              "</div>\n",
              "    <div class=\"colab-df-buttons\">\n",
              "\n",
              "  <div class=\"colab-df-container\">\n",
              "    <button class=\"colab-df-convert\" onclick=\"convertToInteractive('df-79ba890a-ed49-4ce2-9235-5436efc7ece2')\"\n",
              "            title=\"Convert this dataframe to an interactive table.\"\n",
              "            style=\"display:none;\">\n",
              "\n",
              "  <svg xmlns=\"http://www.w3.org/2000/svg\" height=\"24px\" viewBox=\"0 -960 960 960\">\n",
              "    <path d=\"M120-120v-720h720v720H120Zm60-500h600v-160H180v160Zm220 220h160v-160H400v160Zm0 220h160v-160H400v160ZM180-400h160v-160H180v160Zm440 0h160v-160H620v160ZM180-180h160v-160H180v160Zm440 0h160v-160H620v160Z\"/>\n",
              "  </svg>\n",
              "    </button>\n",
              "\n",
              "  <style>\n",
              "    .colab-df-container {\n",
              "      display:flex;\n",
              "      gap: 12px;\n",
              "    }\n",
              "\n",
              "    .colab-df-convert {\n",
              "      background-color: #E8F0FE;\n",
              "      border: none;\n",
              "      border-radius: 50%;\n",
              "      cursor: pointer;\n",
              "      display: none;\n",
              "      fill: #1967D2;\n",
              "      height: 32px;\n",
              "      padding: 0 0 0 0;\n",
              "      width: 32px;\n",
              "    }\n",
              "\n",
              "    .colab-df-convert:hover {\n",
              "      background-color: #E2EBFA;\n",
              "      box-shadow: 0px 1px 2px rgba(60, 64, 67, 0.3), 0px 1px 3px 1px rgba(60, 64, 67, 0.15);\n",
              "      fill: #174EA6;\n",
              "    }\n",
              "\n",
              "    .colab-df-buttons div {\n",
              "      margin-bottom: 4px;\n",
              "    }\n",
              "\n",
              "    [theme=dark] .colab-df-convert {\n",
              "      background-color: #3B4455;\n",
              "      fill: #D2E3FC;\n",
              "    }\n",
              "\n",
              "    [theme=dark] .colab-df-convert:hover {\n",
              "      background-color: #434B5C;\n",
              "      box-shadow: 0px 1px 3px 1px rgba(0, 0, 0, 0.15);\n",
              "      filter: drop-shadow(0px 1px 2px rgba(0, 0, 0, 0.3));\n",
              "      fill: #FFFFFF;\n",
              "    }\n",
              "  </style>\n",
              "\n",
              "    <script>\n",
              "      const buttonEl =\n",
              "        document.querySelector('#df-79ba890a-ed49-4ce2-9235-5436efc7ece2 button.colab-df-convert');\n",
              "      buttonEl.style.display =\n",
              "        google.colab.kernel.accessAllowed ? 'block' : 'none';\n",
              "\n",
              "      async function convertToInteractive(key) {\n",
              "        const element = document.querySelector('#df-79ba890a-ed49-4ce2-9235-5436efc7ece2');\n",
              "        const dataTable =\n",
              "          await google.colab.kernel.invokeFunction('convertToInteractive',\n",
              "                                                    [key], {});\n",
              "        if (!dataTable) return;\n",
              "\n",
              "        const docLinkHtml = 'Like what you see? Visit the ' +\n",
              "          '<a target=\"_blank\" href=https://colab.research.google.com/notebooks/data_table.ipynb>data table notebook</a>'\n",
              "          + ' to learn more about interactive tables.';\n",
              "        element.innerHTML = '';\n",
              "        dataTable['output_type'] = 'display_data';\n",
              "        await google.colab.output.renderOutput(dataTable, element);\n",
              "        const docLink = document.createElement('div');\n",
              "        docLink.innerHTML = docLinkHtml;\n",
              "        element.appendChild(docLink);\n",
              "      }\n",
              "    </script>\n",
              "  </div>\n",
              "\n",
              "\n",
              "<div id=\"df-be70596a-b033-4163-8acc-59cb771f1ce8\">\n",
              "  <button class=\"colab-df-quickchart\" onclick=\"quickchart('df-be70596a-b033-4163-8acc-59cb771f1ce8')\"\n",
              "            title=\"Suggest charts.\"\n",
              "            style=\"display:none;\">\n",
              "\n",
              "<svg xmlns=\"http://www.w3.org/2000/svg\" height=\"24px\"viewBox=\"0 0 24 24\"\n",
              "     width=\"24px\">\n",
              "    <g>\n",
              "        <path d=\"M19 3H5c-1.1 0-2 .9-2 2v14c0 1.1.9 2 2 2h14c1.1 0 2-.9 2-2V5c0-1.1-.9-2-2-2zM9 17H7v-7h2v7zm4 0h-2V7h2v10zm4 0h-2v-4h2v4z\"/>\n",
              "    </g>\n",
              "</svg>\n",
              "  </button>\n",
              "\n",
              "<style>\n",
              "  .colab-df-quickchart {\n",
              "    background-color: #E8F0FE;\n",
              "    border: none;\n",
              "    border-radius: 50%;\n",
              "    cursor: pointer;\n",
              "    display: none;\n",
              "    fill: #1967D2;\n",
              "    height: 32px;\n",
              "    padding: 0 0 0 0;\n",
              "    width: 32px;\n",
              "  }\n",
              "\n",
              "  .colab-df-quickchart:hover {\n",
              "    background-color: #E2EBFA;\n",
              "    box-shadow: 0px 1px 2px rgba(60, 64, 67, 0.3), 0px 1px 3px 1px rgba(60, 64, 67, 0.15);\n",
              "    fill: #174EA6;\n",
              "  }\n",
              "\n",
              "  [theme=dark] .colab-df-quickchart {\n",
              "    background-color: #3B4455;\n",
              "    fill: #D2E3FC;\n",
              "  }\n",
              "\n",
              "  [theme=dark] .colab-df-quickchart:hover {\n",
              "    background-color: #434B5C;\n",
              "    box-shadow: 0px 1px 3px 1px rgba(0, 0, 0, 0.15);\n",
              "    filter: drop-shadow(0px 1px 2px rgba(0, 0, 0, 0.3));\n",
              "    fill: #FFFFFF;\n",
              "  }\n",
              "</style>\n",
              "\n",
              "  <script>\n",
              "    async function quickchart(key) {\n",
              "      const charts = await google.colab.kernel.invokeFunction(\n",
              "          'suggestCharts', [key], {});\n",
              "    }\n",
              "    (() => {\n",
              "      let quickchartButtonEl =\n",
              "        document.querySelector('#df-be70596a-b033-4163-8acc-59cb771f1ce8 button');\n",
              "      quickchartButtonEl.style.display =\n",
              "        google.colab.kernel.accessAllowed ? 'block' : 'none';\n",
              "    })();\n",
              "  </script>\n",
              "</div>\n",
              "    </div>\n",
              "  </div>\n"
            ]
          },
          "metadata": {},
          "execution_count": 245
        }
      ]
    },
    {
      "cell_type": "code",
      "source": [
        "data['QTD_DIAS'].info()"
      ],
      "metadata": {
        "colab": {
          "base_uri": "https://localhost:8080/"
        },
        "id": "7TK3nH9oxco5",
        "outputId": "f7ad187c-4206-4cd2-9de2-c67bfd94b589"
      },
      "execution_count": null,
      "outputs": [
        {
          "output_type": "stream",
          "name": "stdout",
          "text": [
            "<class 'pandas.core.series.Series'>\n",
            "RangeIndex: 17432 entries, 0 to 17431\n",
            "Series name: QTD_DIAS\n",
            "Non-Null Count  Dtype  \n",
            "--------------  -----  \n",
            "17295 non-null  float64\n",
            "dtypes: float64(1)\n",
            "memory usage: 136.3 KB\n"
          ]
        }
      ]
    },
    {
      "cell_type": "code",
      "source": [
        "# Calcula a mediana de 'QTD_DIAS'\n",
        "data['QTD_DIAS'].median()"
      ],
      "metadata": {
        "colab": {
          "base_uri": "https://localhost:8080/"
        },
        "id": "zIRzdYRdxcr5",
        "outputId": "cac555c4-29df-48a8-fa8f-1bd5153f24e4"
      },
      "execution_count": null,
      "outputs": [
        {
          "output_type": "execute_result",
          "data": {
            "text/plain": [
              "5.0"
            ]
          },
          "metadata": {},
          "execution_count": 247
        }
      ]
    },
    {
      "cell_type": "code",
      "source": [
        "# Conta os valores NaN em 'QTD_DIAS'\n",
        "data['QTD_DIAS'].isnull().sum()"
      ],
      "metadata": {
        "colab": {
          "base_uri": "https://localhost:8080/"
        },
        "id": "p8rDJBgsxcua",
        "outputId": "40ee3d2f-5bd5-402c-ae3a-7679db7ba095"
      },
      "execution_count": null,
      "outputs": [
        {
          "output_type": "execute_result",
          "data": {
            "text/plain": [
              "137"
            ]
          },
          "metadata": {},
          "execution_count": 248
        }
      ]
    },
    {
      "cell_type": "code",
      "source": [
        "# Preenche valores NaN com a mediana\n",
        "data['QTD_DIAS'].fillna(data['QTD_DIAS'].median(), inplace=True)"
      ],
      "metadata": {
        "id": "nBA5MhPTw06y"
      },
      "execution_count": null,
      "outputs": []
    },
    {
      "cell_type": "code",
      "source": [
        "# Converte o tipo de dados de float para int\n",
        "data['QTD_DIAS'] = data['QTD_DIAS'].astype(int)"
      ],
      "metadata": {
        "id": "7VNHz0NuxyS0"
      },
      "execution_count": null,
      "outputs": []
    },
    {
      "cell_type": "code",
      "source": [
        "data['QTD_DIAS'].info()"
      ],
      "metadata": {
        "colab": {
          "base_uri": "https://localhost:8080/"
        },
        "id": "Vh2fKQfpxyYK",
        "outputId": "9a85f226-2f55-4d56-957b-729cb70709c8"
      },
      "execution_count": null,
      "outputs": [
        {
          "output_type": "stream",
          "name": "stdout",
          "text": [
            "<class 'pandas.core.series.Series'>\n",
            "RangeIndex: 17432 entries, 0 to 17431\n",
            "Series name: QTD_DIAS\n",
            "Non-Null Count  Dtype\n",
            "--------------  -----\n",
            "17432 non-null  int64\n",
            "dtypes: int64(1)\n",
            "memory usage: 136.3 KB\n"
          ]
        }
      ]
    },
    {
      "cell_type": "markdown",
      "source": [
        "Criação de uma coluna chamada \"DIAS_INTERNA\" que representa a quantidade de dias que um paciente ficou hospitalizado."
      ],
      "metadata": {
        "id": "XDiss8pwx5cQ"
      }
    },
    {
      "cell_type": "markdown",
      "source": [
        "*DT_INTERNA com DT_EVOLUCA*"
      ],
      "metadata": {
        "id": "6Ymso8ATM5x4"
      }
    },
    {
      "cell_type": "code",
      "source": [
        "# DIAS_INTERNA armazena a quantidade de dias internado desde a data de internação\n",
        "# até a evolução.\n",
        "data['DIAS_INTERNA'] = ''"
      ],
      "metadata": {
        "id": "XZ_jlRenxybK"
      },
      "execution_count": null,
      "outputs": []
    },
    {
      "cell_type": "code",
      "source": [
        "# Calcula o intervalo de dias entre duas datas\n",
        "def calc_dias_interna(row):\n",
        "  if row['HOSPITAL'] == 1:\n",
        "    if pd.isna(row['DT_INTERNA']) or pd.isna(row['DT_EVOLUCA']):\n",
        "      return np.nan\n",
        "    else:\n",
        "      data1 = datetime.strptime(row['DT_INTERNA'], '%d/%m/%Y')\n",
        "      data2 = datetime.strptime(row['DT_EVOLUCA'], '%d/%m/%Y')\n",
        "      return abs((data2 - data1).days)\n",
        "  else:\n",
        "    return 0\n",
        "\n",
        "# Chama a função e atribui o resultado à coluna 'DIAS_INTERNA'\n",
        "data['DIAS_INTERNA'] = data.apply(calc_dias_interna, axis=1)"
      ],
      "metadata": {
        "id": "sgiIPH4pxyd2"
      },
      "execution_count": null,
      "outputs": []
    },
    {
      "cell_type": "code",
      "source": [
        "data[['DT_INTERNA', 'DT_EVOLUCA', 'DIAS_INTERNA']]"
      ],
      "metadata": {
        "colab": {
          "base_uri": "https://localhost:8080/"
        },
        "id": "kkSsAeuYxyg2",
        "outputId": "cd8972d5-ce4e-403b-a6f2-5731ea4f67b2"
      },
      "execution_count": null,
      "outputs": [
        {
          "output_type": "execute_result",
          "data": {
            "text/plain": [
              "       DT_INTERNA  DT_EVOLUCA  DIAS_INTERNA\n",
              "0      05/01/2022  06/01/2022           1.0\n",
              "1      07/01/2022  25/01/2022          18.0\n",
              "2      11/01/2022  13/01/2022           2.0\n",
              "3      19/01/2022  07/02/2022          19.0\n",
              "4      10/01/2022  13/01/2022           3.0\n",
              "...           ...         ...           ...\n",
              "17427  28/06/2022  29/06/2022           1.0\n",
              "17428  09/08/2022  12/08/2022           3.0\n",
              "17429  30/08/2022  01/09/2022           2.0\n",
              "17430  09/11/2022  17/11/2022           8.0\n",
              "17431  24/12/2022  29/12/2022           5.0\n",
              "\n",
              "[17432 rows x 3 columns]"
            ],
            "text/html": [
              "\n",
              "  <div id=\"df-d82b6b91-b8b5-4213-aa2c-ee08747bce77\" class=\"colab-df-container\">\n",
              "    <div>\n",
              "<style scoped>\n",
              "    .dataframe tbody tr th:only-of-type {\n",
              "        vertical-align: middle;\n",
              "    }\n",
              "\n",
              "    .dataframe tbody tr th {\n",
              "        vertical-align: top;\n",
              "    }\n",
              "\n",
              "    .dataframe thead th {\n",
              "        text-align: right;\n",
              "    }\n",
              "</style>\n",
              "<table border=\"1\" class=\"dataframe\">\n",
              "  <thead>\n",
              "    <tr style=\"text-align: right;\">\n",
              "      <th></th>\n",
              "      <th>DT_INTERNA</th>\n",
              "      <th>DT_EVOLUCA</th>\n",
              "      <th>DIAS_INTERNA</th>\n",
              "    </tr>\n",
              "  </thead>\n",
              "  <tbody>\n",
              "    <tr>\n",
              "      <th>0</th>\n",
              "      <td>05/01/2022</td>\n",
              "      <td>06/01/2022</td>\n",
              "      <td>1.0</td>\n",
              "    </tr>\n",
              "    <tr>\n",
              "      <th>1</th>\n",
              "      <td>07/01/2022</td>\n",
              "      <td>25/01/2022</td>\n",
              "      <td>18.0</td>\n",
              "    </tr>\n",
              "    <tr>\n",
              "      <th>2</th>\n",
              "      <td>11/01/2022</td>\n",
              "      <td>13/01/2022</td>\n",
              "      <td>2.0</td>\n",
              "    </tr>\n",
              "    <tr>\n",
              "      <th>3</th>\n",
              "      <td>19/01/2022</td>\n",
              "      <td>07/02/2022</td>\n",
              "      <td>19.0</td>\n",
              "    </tr>\n",
              "    <tr>\n",
              "      <th>4</th>\n",
              "      <td>10/01/2022</td>\n",
              "      <td>13/01/2022</td>\n",
              "      <td>3.0</td>\n",
              "    </tr>\n",
              "    <tr>\n",
              "      <th>...</th>\n",
              "      <td>...</td>\n",
              "      <td>...</td>\n",
              "      <td>...</td>\n",
              "    </tr>\n",
              "    <tr>\n",
              "      <th>17427</th>\n",
              "      <td>28/06/2022</td>\n",
              "      <td>29/06/2022</td>\n",
              "      <td>1.0</td>\n",
              "    </tr>\n",
              "    <tr>\n",
              "      <th>17428</th>\n",
              "      <td>09/08/2022</td>\n",
              "      <td>12/08/2022</td>\n",
              "      <td>3.0</td>\n",
              "    </tr>\n",
              "    <tr>\n",
              "      <th>17429</th>\n",
              "      <td>30/08/2022</td>\n",
              "      <td>01/09/2022</td>\n",
              "      <td>2.0</td>\n",
              "    </tr>\n",
              "    <tr>\n",
              "      <th>17430</th>\n",
              "      <td>09/11/2022</td>\n",
              "      <td>17/11/2022</td>\n",
              "      <td>8.0</td>\n",
              "    </tr>\n",
              "    <tr>\n",
              "      <th>17431</th>\n",
              "      <td>24/12/2022</td>\n",
              "      <td>29/12/2022</td>\n",
              "      <td>5.0</td>\n",
              "    </tr>\n",
              "  </tbody>\n",
              "</table>\n",
              "<p>17432 rows × 3 columns</p>\n",
              "</div>\n",
              "    <div class=\"colab-df-buttons\">\n",
              "\n",
              "  <div class=\"colab-df-container\">\n",
              "    <button class=\"colab-df-convert\" onclick=\"convertToInteractive('df-d82b6b91-b8b5-4213-aa2c-ee08747bce77')\"\n",
              "            title=\"Convert this dataframe to an interactive table.\"\n",
              "            style=\"display:none;\">\n",
              "\n",
              "  <svg xmlns=\"http://www.w3.org/2000/svg\" height=\"24px\" viewBox=\"0 -960 960 960\">\n",
              "    <path d=\"M120-120v-720h720v720H120Zm60-500h600v-160H180v160Zm220 220h160v-160H400v160Zm0 220h160v-160H400v160ZM180-400h160v-160H180v160Zm440 0h160v-160H620v160ZM180-180h160v-160H180v160Zm440 0h160v-160H620v160Z\"/>\n",
              "  </svg>\n",
              "    </button>\n",
              "\n",
              "  <style>\n",
              "    .colab-df-container {\n",
              "      display:flex;\n",
              "      gap: 12px;\n",
              "    }\n",
              "\n",
              "    .colab-df-convert {\n",
              "      background-color: #E8F0FE;\n",
              "      border: none;\n",
              "      border-radius: 50%;\n",
              "      cursor: pointer;\n",
              "      display: none;\n",
              "      fill: #1967D2;\n",
              "      height: 32px;\n",
              "      padding: 0 0 0 0;\n",
              "      width: 32px;\n",
              "    }\n",
              "\n",
              "    .colab-df-convert:hover {\n",
              "      background-color: #E2EBFA;\n",
              "      box-shadow: 0px 1px 2px rgba(60, 64, 67, 0.3), 0px 1px 3px 1px rgba(60, 64, 67, 0.15);\n",
              "      fill: #174EA6;\n",
              "    }\n",
              "\n",
              "    .colab-df-buttons div {\n",
              "      margin-bottom: 4px;\n",
              "    }\n",
              "\n",
              "    [theme=dark] .colab-df-convert {\n",
              "      background-color: #3B4455;\n",
              "      fill: #D2E3FC;\n",
              "    }\n",
              "\n",
              "    [theme=dark] .colab-df-convert:hover {\n",
              "      background-color: #434B5C;\n",
              "      box-shadow: 0px 1px 3px 1px rgba(0, 0, 0, 0.15);\n",
              "      filter: drop-shadow(0px 1px 2px rgba(0, 0, 0, 0.3));\n",
              "      fill: #FFFFFF;\n",
              "    }\n",
              "  </style>\n",
              "\n",
              "    <script>\n",
              "      const buttonEl =\n",
              "        document.querySelector('#df-d82b6b91-b8b5-4213-aa2c-ee08747bce77 button.colab-df-convert');\n",
              "      buttonEl.style.display =\n",
              "        google.colab.kernel.accessAllowed ? 'block' : 'none';\n",
              "\n",
              "      async function convertToInteractive(key) {\n",
              "        const element = document.querySelector('#df-d82b6b91-b8b5-4213-aa2c-ee08747bce77');\n",
              "        const dataTable =\n",
              "          await google.colab.kernel.invokeFunction('convertToInteractive',\n",
              "                                                    [key], {});\n",
              "        if (!dataTable) return;\n",
              "\n",
              "        const docLinkHtml = 'Like what you see? Visit the ' +\n",
              "          '<a target=\"_blank\" href=https://colab.research.google.com/notebooks/data_table.ipynb>data table notebook</a>'\n",
              "          + ' to learn more about interactive tables.';\n",
              "        element.innerHTML = '';\n",
              "        dataTable['output_type'] = 'display_data';\n",
              "        await google.colab.output.renderOutput(dataTable, element);\n",
              "        const docLink = document.createElement('div');\n",
              "        docLink.innerHTML = docLinkHtml;\n",
              "        element.appendChild(docLink);\n",
              "      }\n",
              "    </script>\n",
              "  </div>\n",
              "\n",
              "\n",
              "<div id=\"df-c3e0090a-4736-4ed8-a480-3c3634436d9f\">\n",
              "  <button class=\"colab-df-quickchart\" onclick=\"quickchart('df-c3e0090a-4736-4ed8-a480-3c3634436d9f')\"\n",
              "            title=\"Suggest charts.\"\n",
              "            style=\"display:none;\">\n",
              "\n",
              "<svg xmlns=\"http://www.w3.org/2000/svg\" height=\"24px\"viewBox=\"0 0 24 24\"\n",
              "     width=\"24px\">\n",
              "    <g>\n",
              "        <path d=\"M19 3H5c-1.1 0-2 .9-2 2v14c0 1.1.9 2 2 2h14c1.1 0 2-.9 2-2V5c0-1.1-.9-2-2-2zM9 17H7v-7h2v7zm4 0h-2V7h2v10zm4 0h-2v-4h2v4z\"/>\n",
              "    </g>\n",
              "</svg>\n",
              "  </button>\n",
              "\n",
              "<style>\n",
              "  .colab-df-quickchart {\n",
              "    background-color: #E8F0FE;\n",
              "    border: none;\n",
              "    border-radius: 50%;\n",
              "    cursor: pointer;\n",
              "    display: none;\n",
              "    fill: #1967D2;\n",
              "    height: 32px;\n",
              "    padding: 0 0 0 0;\n",
              "    width: 32px;\n",
              "  }\n",
              "\n",
              "  .colab-df-quickchart:hover {\n",
              "    background-color: #E2EBFA;\n",
              "    box-shadow: 0px 1px 2px rgba(60, 64, 67, 0.3), 0px 1px 3px 1px rgba(60, 64, 67, 0.15);\n",
              "    fill: #174EA6;\n",
              "  }\n",
              "\n",
              "  [theme=dark] .colab-df-quickchart {\n",
              "    background-color: #3B4455;\n",
              "    fill: #D2E3FC;\n",
              "  }\n",
              "\n",
              "  [theme=dark] .colab-df-quickchart:hover {\n",
              "    background-color: #434B5C;\n",
              "    box-shadow: 0px 1px 3px 1px rgba(0, 0, 0, 0.15);\n",
              "    filter: drop-shadow(0px 1px 2px rgba(0, 0, 0, 0.3));\n",
              "    fill: #FFFFFF;\n",
              "  }\n",
              "</style>\n",
              "\n",
              "  <script>\n",
              "    async function quickchart(key) {\n",
              "      const charts = await google.colab.kernel.invokeFunction(\n",
              "          'suggestCharts', [key], {});\n",
              "    }\n",
              "    (() => {\n",
              "      let quickchartButtonEl =\n",
              "        document.querySelector('#df-c3e0090a-4736-4ed8-a480-3c3634436d9f button');\n",
              "      quickchartButtonEl.style.display =\n",
              "        google.colab.kernel.accessAllowed ? 'block' : 'none';\n",
              "    })();\n",
              "  </script>\n",
              "</div>\n",
              "    </div>\n",
              "  </div>\n"
            ]
          },
          "metadata": {},
          "execution_count": 254
        }
      ]
    },
    {
      "cell_type": "code",
      "source": [
        "data['DIAS_INTERNA'].info()"
      ],
      "metadata": {
        "colab": {
          "base_uri": "https://localhost:8080/"
        },
        "id": "zlAGuibAxyko",
        "outputId": "b35780dc-ab65-45a7-d7b1-6e2e8ea77a18"
      },
      "execution_count": null,
      "outputs": [
        {
          "output_type": "stream",
          "name": "stdout",
          "text": [
            "<class 'pandas.core.series.Series'>\n",
            "RangeIndex: 17432 entries, 0 to 17431\n",
            "Series name: DIAS_INTERNA\n",
            "Non-Null Count  Dtype  \n",
            "--------------  -----  \n",
            "17255 non-null  float64\n",
            "dtypes: float64(1)\n",
            "memory usage: 136.3 KB\n"
          ]
        }
      ]
    },
    {
      "cell_type": "code",
      "source": [
        "# Calcula a mediana de 'DIAS_INTERNA'\n",
        "data['DIAS_INTERNA'].median()"
      ],
      "metadata": {
        "colab": {
          "base_uri": "https://localhost:8080/"
        },
        "id": "GOmGuTVsxyoQ",
        "outputId": "2145c12e-bc97-40a4-8399-5d534b55e786"
      },
      "execution_count": null,
      "outputs": [
        {
          "output_type": "execute_result",
          "data": {
            "text/plain": [
              "5.0"
            ]
          },
          "metadata": {},
          "execution_count": 256
        }
      ]
    },
    {
      "cell_type": "code",
      "source": [
        "# Conta os valores NaN em 'DIAS_INTERNA'\n",
        "data['DIAS_INTERNA'].isnull().sum()"
      ],
      "metadata": {
        "colab": {
          "base_uri": "https://localhost:8080/"
        },
        "id": "g2dow9WGyPxB",
        "outputId": "eed0fd06-dd51-45f0-96eb-91eb4f63be05"
      },
      "execution_count": null,
      "outputs": [
        {
          "output_type": "execute_result",
          "data": {
            "text/plain": [
              "177"
            ]
          },
          "metadata": {},
          "execution_count": 257
        }
      ]
    },
    {
      "cell_type": "code",
      "source": [
        "# Preenche valores NaN com a mediana\n",
        "data['DIAS_INTERNA'].fillna(data['DIAS_INTERNA'].median(), inplace=True)"
      ],
      "metadata": {
        "id": "bwvZBrdmyPuq"
      },
      "execution_count": null,
      "outputs": []
    },
    {
      "cell_type": "code",
      "source": [
        "# Converte o tipo de dados de float para int\n",
        "data['DIAS_INTERNA'] = data['DIAS_INTERNA'].astype(int)"
      ],
      "metadata": {
        "id": "yaT9aerlyPr0"
      },
      "execution_count": null,
      "outputs": []
    },
    {
      "cell_type": "code",
      "source": [
        "data['DIAS_INTERNA'].info()"
      ],
      "metadata": {
        "colab": {
          "base_uri": "https://localhost:8080/"
        },
        "id": "n4jltrGYyPo0",
        "outputId": "efd432a1-c18f-4ea6-9ceb-95cdca5fdda2"
      },
      "execution_count": null,
      "outputs": [
        {
          "output_type": "stream",
          "name": "stdout",
          "text": [
            "<class 'pandas.core.series.Series'>\n",
            "RangeIndex: 17432 entries, 0 to 17431\n",
            "Series name: DIAS_INTERNA\n",
            "Non-Null Count  Dtype\n",
            "--------------  -----\n",
            "17432 non-null  int64\n",
            "dtypes: int64(1)\n",
            "memory usage: 136.3 KB\n"
          ]
        }
      ]
    },
    {
      "cell_type": "code",
      "source": [
        "data[['DT_INTERNA', 'DT_EVOLUCA', 'DT_SIN_PRI', 'DT_NOTIFIC', 'DT_PCR']]"
      ],
      "metadata": {
        "colab": {
          "base_uri": "https://localhost:8080/"
        },
        "id": "_WgxLIVgyPl9",
        "outputId": "43b42b22-28ac-4440-b70d-5027dbd46420"
      },
      "execution_count": null,
      "outputs": [
        {
          "output_type": "execute_result",
          "data": {
            "text/plain": [
              "       DT_INTERNA  DT_EVOLUCA  DT_SIN_PRI  DT_NOTIFIC      DT_PCR\n",
              "0      05/01/2022  06/01/2022  03/01/2022  05/01/2022  09/01/2022\n",
              "1      07/01/2022  25/01/2022  05/01/2022  07/01/2022         NaN\n",
              "2      11/01/2022  13/01/2022  07/01/2022  10/01/2022  13/01/2022\n",
              "3      19/01/2022  07/02/2022  06/01/2022  19/01/2022  21/01/2022\n",
              "4      10/01/2022  13/01/2022  10/01/2022  10/01/2022  13/01/2022\n",
              "...           ...         ...         ...         ...         ...\n",
              "17427  28/06/2022  29/06/2022  26/06/2022  29/06/2022         NaN\n",
              "17428  09/08/2022  12/08/2022  06/08/2022  09/08/2022  15/08/2022\n",
              "17429  30/08/2022  01/09/2022  27/08/2022  30/08/2022  02/09/2022\n",
              "17430  09/11/2022  17/11/2022  03/11/2022  10/11/2022  17/11/2022\n",
              "17431  24/12/2022  29/12/2022  24/12/2022  24/12/2022  26/12/2022\n",
              "\n",
              "[17432 rows x 5 columns]"
            ],
            "text/html": [
              "\n",
              "  <div id=\"df-75cd4e43-f5bd-465b-8b00-df73a8113aa1\" class=\"colab-df-container\">\n",
              "    <div>\n",
              "<style scoped>\n",
              "    .dataframe tbody tr th:only-of-type {\n",
              "        vertical-align: middle;\n",
              "    }\n",
              "\n",
              "    .dataframe tbody tr th {\n",
              "        vertical-align: top;\n",
              "    }\n",
              "\n",
              "    .dataframe thead th {\n",
              "        text-align: right;\n",
              "    }\n",
              "</style>\n",
              "<table border=\"1\" class=\"dataframe\">\n",
              "  <thead>\n",
              "    <tr style=\"text-align: right;\">\n",
              "      <th></th>\n",
              "      <th>DT_INTERNA</th>\n",
              "      <th>DT_EVOLUCA</th>\n",
              "      <th>DT_SIN_PRI</th>\n",
              "      <th>DT_NOTIFIC</th>\n",
              "      <th>DT_PCR</th>\n",
              "    </tr>\n",
              "  </thead>\n",
              "  <tbody>\n",
              "    <tr>\n",
              "      <th>0</th>\n",
              "      <td>05/01/2022</td>\n",
              "      <td>06/01/2022</td>\n",
              "      <td>03/01/2022</td>\n",
              "      <td>05/01/2022</td>\n",
              "      <td>09/01/2022</td>\n",
              "    </tr>\n",
              "    <tr>\n",
              "      <th>1</th>\n",
              "      <td>07/01/2022</td>\n",
              "      <td>25/01/2022</td>\n",
              "      <td>05/01/2022</td>\n",
              "      <td>07/01/2022</td>\n",
              "      <td>NaN</td>\n",
              "    </tr>\n",
              "    <tr>\n",
              "      <th>2</th>\n",
              "      <td>11/01/2022</td>\n",
              "      <td>13/01/2022</td>\n",
              "      <td>07/01/2022</td>\n",
              "      <td>10/01/2022</td>\n",
              "      <td>13/01/2022</td>\n",
              "    </tr>\n",
              "    <tr>\n",
              "      <th>3</th>\n",
              "      <td>19/01/2022</td>\n",
              "      <td>07/02/2022</td>\n",
              "      <td>06/01/2022</td>\n",
              "      <td>19/01/2022</td>\n",
              "      <td>21/01/2022</td>\n",
              "    </tr>\n",
              "    <tr>\n",
              "      <th>4</th>\n",
              "      <td>10/01/2022</td>\n",
              "      <td>13/01/2022</td>\n",
              "      <td>10/01/2022</td>\n",
              "      <td>10/01/2022</td>\n",
              "      <td>13/01/2022</td>\n",
              "    </tr>\n",
              "    <tr>\n",
              "      <th>...</th>\n",
              "      <td>...</td>\n",
              "      <td>...</td>\n",
              "      <td>...</td>\n",
              "      <td>...</td>\n",
              "      <td>...</td>\n",
              "    </tr>\n",
              "    <tr>\n",
              "      <th>17427</th>\n",
              "      <td>28/06/2022</td>\n",
              "      <td>29/06/2022</td>\n",
              "      <td>26/06/2022</td>\n",
              "      <td>29/06/2022</td>\n",
              "      <td>NaN</td>\n",
              "    </tr>\n",
              "    <tr>\n",
              "      <th>17428</th>\n",
              "      <td>09/08/2022</td>\n",
              "      <td>12/08/2022</td>\n",
              "      <td>06/08/2022</td>\n",
              "      <td>09/08/2022</td>\n",
              "      <td>15/08/2022</td>\n",
              "    </tr>\n",
              "    <tr>\n",
              "      <th>17429</th>\n",
              "      <td>30/08/2022</td>\n",
              "      <td>01/09/2022</td>\n",
              "      <td>27/08/2022</td>\n",
              "      <td>30/08/2022</td>\n",
              "      <td>02/09/2022</td>\n",
              "    </tr>\n",
              "    <tr>\n",
              "      <th>17430</th>\n",
              "      <td>09/11/2022</td>\n",
              "      <td>17/11/2022</td>\n",
              "      <td>03/11/2022</td>\n",
              "      <td>10/11/2022</td>\n",
              "      <td>17/11/2022</td>\n",
              "    </tr>\n",
              "    <tr>\n",
              "      <th>17431</th>\n",
              "      <td>24/12/2022</td>\n",
              "      <td>29/12/2022</td>\n",
              "      <td>24/12/2022</td>\n",
              "      <td>24/12/2022</td>\n",
              "      <td>26/12/2022</td>\n",
              "    </tr>\n",
              "  </tbody>\n",
              "</table>\n",
              "<p>17432 rows × 5 columns</p>\n",
              "</div>\n",
              "    <div class=\"colab-df-buttons\">\n",
              "\n",
              "  <div class=\"colab-df-container\">\n",
              "    <button class=\"colab-df-convert\" onclick=\"convertToInteractive('df-75cd4e43-f5bd-465b-8b00-df73a8113aa1')\"\n",
              "            title=\"Convert this dataframe to an interactive table.\"\n",
              "            style=\"display:none;\">\n",
              "\n",
              "  <svg xmlns=\"http://www.w3.org/2000/svg\" height=\"24px\" viewBox=\"0 -960 960 960\">\n",
              "    <path d=\"M120-120v-720h720v720H120Zm60-500h600v-160H180v160Zm220 220h160v-160H400v160Zm0 220h160v-160H400v160ZM180-400h160v-160H180v160Zm440 0h160v-160H620v160ZM180-180h160v-160H180v160Zm440 0h160v-160H620v160Z\"/>\n",
              "  </svg>\n",
              "    </button>\n",
              "\n",
              "  <style>\n",
              "    .colab-df-container {\n",
              "      display:flex;\n",
              "      gap: 12px;\n",
              "    }\n",
              "\n",
              "    .colab-df-convert {\n",
              "      background-color: #E8F0FE;\n",
              "      border: none;\n",
              "      border-radius: 50%;\n",
              "      cursor: pointer;\n",
              "      display: none;\n",
              "      fill: #1967D2;\n",
              "      height: 32px;\n",
              "      padding: 0 0 0 0;\n",
              "      width: 32px;\n",
              "    }\n",
              "\n",
              "    .colab-df-convert:hover {\n",
              "      background-color: #E2EBFA;\n",
              "      box-shadow: 0px 1px 2px rgba(60, 64, 67, 0.3), 0px 1px 3px 1px rgba(60, 64, 67, 0.15);\n",
              "      fill: #174EA6;\n",
              "    }\n",
              "\n",
              "    .colab-df-buttons div {\n",
              "      margin-bottom: 4px;\n",
              "    }\n",
              "\n",
              "    [theme=dark] .colab-df-convert {\n",
              "      background-color: #3B4455;\n",
              "      fill: #D2E3FC;\n",
              "    }\n",
              "\n",
              "    [theme=dark] .colab-df-convert:hover {\n",
              "      background-color: #434B5C;\n",
              "      box-shadow: 0px 1px 3px 1px rgba(0, 0, 0, 0.15);\n",
              "      filter: drop-shadow(0px 1px 2px rgba(0, 0, 0, 0.3));\n",
              "      fill: #FFFFFF;\n",
              "    }\n",
              "  </style>\n",
              "\n",
              "    <script>\n",
              "      const buttonEl =\n",
              "        document.querySelector('#df-75cd4e43-f5bd-465b-8b00-df73a8113aa1 button.colab-df-convert');\n",
              "      buttonEl.style.display =\n",
              "        google.colab.kernel.accessAllowed ? 'block' : 'none';\n",
              "\n",
              "      async function convertToInteractive(key) {\n",
              "        const element = document.querySelector('#df-75cd4e43-f5bd-465b-8b00-df73a8113aa1');\n",
              "        const dataTable =\n",
              "          await google.colab.kernel.invokeFunction('convertToInteractive',\n",
              "                                                    [key], {});\n",
              "        if (!dataTable) return;\n",
              "\n",
              "        const docLinkHtml = 'Like what you see? Visit the ' +\n",
              "          '<a target=\"_blank\" href=https://colab.research.google.com/notebooks/data_table.ipynb>data table notebook</a>'\n",
              "          + ' to learn more about interactive tables.';\n",
              "        element.innerHTML = '';\n",
              "        dataTable['output_type'] = 'display_data';\n",
              "        await google.colab.output.renderOutput(dataTable, element);\n",
              "        const docLink = document.createElement('div');\n",
              "        docLink.innerHTML = docLinkHtml;\n",
              "        element.appendChild(docLink);\n",
              "      }\n",
              "    </script>\n",
              "  </div>\n",
              "\n",
              "\n",
              "<div id=\"df-879d1c38-e6c5-4986-b6b8-4b37ac2de10c\">\n",
              "  <button class=\"colab-df-quickchart\" onclick=\"quickchart('df-879d1c38-e6c5-4986-b6b8-4b37ac2de10c')\"\n",
              "            title=\"Suggest charts.\"\n",
              "            style=\"display:none;\">\n",
              "\n",
              "<svg xmlns=\"http://www.w3.org/2000/svg\" height=\"24px\"viewBox=\"0 0 24 24\"\n",
              "     width=\"24px\">\n",
              "    <g>\n",
              "        <path d=\"M19 3H5c-1.1 0-2 .9-2 2v14c0 1.1.9 2 2 2h14c1.1 0 2-.9 2-2V5c0-1.1-.9-2-2-2zM9 17H7v-7h2v7zm4 0h-2V7h2v10zm4 0h-2v-4h2v4z\"/>\n",
              "    </g>\n",
              "</svg>\n",
              "  </button>\n",
              "\n",
              "<style>\n",
              "  .colab-df-quickchart {\n",
              "    background-color: #E8F0FE;\n",
              "    border: none;\n",
              "    border-radius: 50%;\n",
              "    cursor: pointer;\n",
              "    display: none;\n",
              "    fill: #1967D2;\n",
              "    height: 32px;\n",
              "    padding: 0 0 0 0;\n",
              "    width: 32px;\n",
              "  }\n",
              "\n",
              "  .colab-df-quickchart:hover {\n",
              "    background-color: #E2EBFA;\n",
              "    box-shadow: 0px 1px 2px rgba(60, 64, 67, 0.3), 0px 1px 3px 1px rgba(60, 64, 67, 0.15);\n",
              "    fill: #174EA6;\n",
              "  }\n",
              "\n",
              "  [theme=dark] .colab-df-quickchart {\n",
              "    background-color: #3B4455;\n",
              "    fill: #D2E3FC;\n",
              "  }\n",
              "\n",
              "  [theme=dark] .colab-df-quickchart:hover {\n",
              "    background-color: #434B5C;\n",
              "    box-shadow: 0px 1px 3px 1px rgba(0, 0, 0, 0.15);\n",
              "    filter: drop-shadow(0px 1px 2px rgba(0, 0, 0, 0.3));\n",
              "    fill: #FFFFFF;\n",
              "  }\n",
              "</style>\n",
              "\n",
              "  <script>\n",
              "    async function quickchart(key) {\n",
              "      const charts = await google.colab.kernel.invokeFunction(\n",
              "          'suggestCharts', [key], {});\n",
              "    }\n",
              "    (() => {\n",
              "      let quickchartButtonEl =\n",
              "        document.querySelector('#df-879d1c38-e6c5-4986-b6b8-4b37ac2de10c button');\n",
              "      quickchartButtonEl.style.display =\n",
              "        google.colab.kernel.accessAllowed ? 'block' : 'none';\n",
              "    })();\n",
              "  </script>\n",
              "</div>\n",
              "    </div>\n",
              "  </div>\n"
            ]
          },
          "metadata": {},
          "execution_count": 261
        }
      ]
    },
    {
      "cell_type": "markdown",
      "source": [
        "Criação de uma coluna \"SINT_ATE_NOTIF\" que representa a quantidade de dias entre os primeiros sintomas do paciente até a notificação."
      ],
      "metadata": {
        "id": "HEl4IjDVPghG"
      }
    },
    {
      "cell_type": "markdown",
      "source": [
        "*DT_SIN_PRI com DT_NOTIFIC*"
      ],
      "metadata": {
        "id": "6vbSAhumRIzB"
      }
    },
    {
      "cell_type": "code",
      "source": [
        "data['SINT_ATE_NOTIF'] = ''"
      ],
      "metadata": {
        "id": "Es1VVyieyPi-"
      },
      "execution_count": null,
      "outputs": []
    },
    {
      "cell_type": "code",
      "source": [
        "# Calcula o intervalo de dias entre duas datas\n",
        "def calc_dias_sintomas(row):\n",
        "  data1 = datetime.strptime(row['DT_SIN_PRI'], '%d/%m/%Y')\n",
        "  data2 = datetime.strptime(row['DT_NOTIFIC'], '%d/%m/%Y')\n",
        "  return abs((data2 - data1).days)\n",
        "\n",
        "# Chama a função e atribui o resultado à coluna 'SINT_ATE_NOTIF'\n",
        "data['SINT_ATE_NOTIF'] = data.apply(calc_dias_sintomas, axis=1)"
      ],
      "metadata": {
        "id": "K6vDAsjryPgC"
      },
      "execution_count": null,
      "outputs": []
    },
    {
      "cell_type": "code",
      "source": [
        "data[['DT_SIN_PRI', 'DT_NOTIFIC', 'SINT_ATE_NOTIF']]"
      ],
      "metadata": {
        "colab": {
          "base_uri": "https://localhost:8080/"
        },
        "id": "tc7NyzQAyPc0",
        "outputId": "48a7dace-dde3-4192-b7cd-1d6f41fbab0d"
      },
      "execution_count": null,
      "outputs": [
        {
          "output_type": "execute_result",
          "data": {
            "text/plain": [
              "       DT_SIN_PRI  DT_NOTIFIC  SINT_ATE_NOTIF\n",
              "0      03/01/2022  05/01/2022               2\n",
              "1      05/01/2022  07/01/2022               2\n",
              "2      07/01/2022  10/01/2022               3\n",
              "3      06/01/2022  19/01/2022              13\n",
              "4      10/01/2022  10/01/2022               0\n",
              "...           ...         ...             ...\n",
              "17427  26/06/2022  29/06/2022               3\n",
              "17428  06/08/2022  09/08/2022               3\n",
              "17429  27/08/2022  30/08/2022               3\n",
              "17430  03/11/2022  10/11/2022               7\n",
              "17431  24/12/2022  24/12/2022               0\n",
              "\n",
              "[17432 rows x 3 columns]"
            ],
            "text/html": [
              "\n",
              "  <div id=\"df-abf908ea-75d8-4c82-80bd-e5252ae5b640\" class=\"colab-df-container\">\n",
              "    <div>\n",
              "<style scoped>\n",
              "    .dataframe tbody tr th:only-of-type {\n",
              "        vertical-align: middle;\n",
              "    }\n",
              "\n",
              "    .dataframe tbody tr th {\n",
              "        vertical-align: top;\n",
              "    }\n",
              "\n",
              "    .dataframe thead th {\n",
              "        text-align: right;\n",
              "    }\n",
              "</style>\n",
              "<table border=\"1\" class=\"dataframe\">\n",
              "  <thead>\n",
              "    <tr style=\"text-align: right;\">\n",
              "      <th></th>\n",
              "      <th>DT_SIN_PRI</th>\n",
              "      <th>DT_NOTIFIC</th>\n",
              "      <th>SINT_ATE_NOTIF</th>\n",
              "    </tr>\n",
              "  </thead>\n",
              "  <tbody>\n",
              "    <tr>\n",
              "      <th>0</th>\n",
              "      <td>03/01/2022</td>\n",
              "      <td>05/01/2022</td>\n",
              "      <td>2</td>\n",
              "    </tr>\n",
              "    <tr>\n",
              "      <th>1</th>\n",
              "      <td>05/01/2022</td>\n",
              "      <td>07/01/2022</td>\n",
              "      <td>2</td>\n",
              "    </tr>\n",
              "    <tr>\n",
              "      <th>2</th>\n",
              "      <td>07/01/2022</td>\n",
              "      <td>10/01/2022</td>\n",
              "      <td>3</td>\n",
              "    </tr>\n",
              "    <tr>\n",
              "      <th>3</th>\n",
              "      <td>06/01/2022</td>\n",
              "      <td>19/01/2022</td>\n",
              "      <td>13</td>\n",
              "    </tr>\n",
              "    <tr>\n",
              "      <th>4</th>\n",
              "      <td>10/01/2022</td>\n",
              "      <td>10/01/2022</td>\n",
              "      <td>0</td>\n",
              "    </tr>\n",
              "    <tr>\n",
              "      <th>...</th>\n",
              "      <td>...</td>\n",
              "      <td>...</td>\n",
              "      <td>...</td>\n",
              "    </tr>\n",
              "    <tr>\n",
              "      <th>17427</th>\n",
              "      <td>26/06/2022</td>\n",
              "      <td>29/06/2022</td>\n",
              "      <td>3</td>\n",
              "    </tr>\n",
              "    <tr>\n",
              "      <th>17428</th>\n",
              "      <td>06/08/2022</td>\n",
              "      <td>09/08/2022</td>\n",
              "      <td>3</td>\n",
              "    </tr>\n",
              "    <tr>\n",
              "      <th>17429</th>\n",
              "      <td>27/08/2022</td>\n",
              "      <td>30/08/2022</td>\n",
              "      <td>3</td>\n",
              "    </tr>\n",
              "    <tr>\n",
              "      <th>17430</th>\n",
              "      <td>03/11/2022</td>\n",
              "      <td>10/11/2022</td>\n",
              "      <td>7</td>\n",
              "    </tr>\n",
              "    <tr>\n",
              "      <th>17431</th>\n",
              "      <td>24/12/2022</td>\n",
              "      <td>24/12/2022</td>\n",
              "      <td>0</td>\n",
              "    </tr>\n",
              "  </tbody>\n",
              "</table>\n",
              "<p>17432 rows × 3 columns</p>\n",
              "</div>\n",
              "    <div class=\"colab-df-buttons\">\n",
              "\n",
              "  <div class=\"colab-df-container\">\n",
              "    <button class=\"colab-df-convert\" onclick=\"convertToInteractive('df-abf908ea-75d8-4c82-80bd-e5252ae5b640')\"\n",
              "            title=\"Convert this dataframe to an interactive table.\"\n",
              "            style=\"display:none;\">\n",
              "\n",
              "  <svg xmlns=\"http://www.w3.org/2000/svg\" height=\"24px\" viewBox=\"0 -960 960 960\">\n",
              "    <path d=\"M120-120v-720h720v720H120Zm60-500h600v-160H180v160Zm220 220h160v-160H400v160Zm0 220h160v-160H400v160ZM180-400h160v-160H180v160Zm440 0h160v-160H620v160ZM180-180h160v-160H180v160Zm440 0h160v-160H620v160Z\"/>\n",
              "  </svg>\n",
              "    </button>\n",
              "\n",
              "  <style>\n",
              "    .colab-df-container {\n",
              "      display:flex;\n",
              "      gap: 12px;\n",
              "    }\n",
              "\n",
              "    .colab-df-convert {\n",
              "      background-color: #E8F0FE;\n",
              "      border: none;\n",
              "      border-radius: 50%;\n",
              "      cursor: pointer;\n",
              "      display: none;\n",
              "      fill: #1967D2;\n",
              "      height: 32px;\n",
              "      padding: 0 0 0 0;\n",
              "      width: 32px;\n",
              "    }\n",
              "\n",
              "    .colab-df-convert:hover {\n",
              "      background-color: #E2EBFA;\n",
              "      box-shadow: 0px 1px 2px rgba(60, 64, 67, 0.3), 0px 1px 3px 1px rgba(60, 64, 67, 0.15);\n",
              "      fill: #174EA6;\n",
              "    }\n",
              "\n",
              "    .colab-df-buttons div {\n",
              "      margin-bottom: 4px;\n",
              "    }\n",
              "\n",
              "    [theme=dark] .colab-df-convert {\n",
              "      background-color: #3B4455;\n",
              "      fill: #D2E3FC;\n",
              "    }\n",
              "\n",
              "    [theme=dark] .colab-df-convert:hover {\n",
              "      background-color: #434B5C;\n",
              "      box-shadow: 0px 1px 3px 1px rgba(0, 0, 0, 0.15);\n",
              "      filter: drop-shadow(0px 1px 2px rgba(0, 0, 0, 0.3));\n",
              "      fill: #FFFFFF;\n",
              "    }\n",
              "  </style>\n",
              "\n",
              "    <script>\n",
              "      const buttonEl =\n",
              "        document.querySelector('#df-abf908ea-75d8-4c82-80bd-e5252ae5b640 button.colab-df-convert');\n",
              "      buttonEl.style.display =\n",
              "        google.colab.kernel.accessAllowed ? 'block' : 'none';\n",
              "\n",
              "      async function convertToInteractive(key) {\n",
              "        const element = document.querySelector('#df-abf908ea-75d8-4c82-80bd-e5252ae5b640');\n",
              "        const dataTable =\n",
              "          await google.colab.kernel.invokeFunction('convertToInteractive',\n",
              "                                                    [key], {});\n",
              "        if (!dataTable) return;\n",
              "\n",
              "        const docLinkHtml = 'Like what you see? Visit the ' +\n",
              "          '<a target=\"_blank\" href=https://colab.research.google.com/notebooks/data_table.ipynb>data table notebook</a>'\n",
              "          + ' to learn more about interactive tables.';\n",
              "        element.innerHTML = '';\n",
              "        dataTable['output_type'] = 'display_data';\n",
              "        await google.colab.output.renderOutput(dataTable, element);\n",
              "        const docLink = document.createElement('div');\n",
              "        docLink.innerHTML = docLinkHtml;\n",
              "        element.appendChild(docLink);\n",
              "      }\n",
              "    </script>\n",
              "  </div>\n",
              "\n",
              "\n",
              "<div id=\"df-9a16e3df-066f-46b1-8fe9-1c0c1713680e\">\n",
              "  <button class=\"colab-df-quickchart\" onclick=\"quickchart('df-9a16e3df-066f-46b1-8fe9-1c0c1713680e')\"\n",
              "            title=\"Suggest charts.\"\n",
              "            style=\"display:none;\">\n",
              "\n",
              "<svg xmlns=\"http://www.w3.org/2000/svg\" height=\"24px\"viewBox=\"0 0 24 24\"\n",
              "     width=\"24px\">\n",
              "    <g>\n",
              "        <path d=\"M19 3H5c-1.1 0-2 .9-2 2v14c0 1.1.9 2 2 2h14c1.1 0 2-.9 2-2V5c0-1.1-.9-2-2-2zM9 17H7v-7h2v7zm4 0h-2V7h2v10zm4 0h-2v-4h2v4z\"/>\n",
              "    </g>\n",
              "</svg>\n",
              "  </button>\n",
              "\n",
              "<style>\n",
              "  .colab-df-quickchart {\n",
              "    background-color: #E8F0FE;\n",
              "    border: none;\n",
              "    border-radius: 50%;\n",
              "    cursor: pointer;\n",
              "    display: none;\n",
              "    fill: #1967D2;\n",
              "    height: 32px;\n",
              "    padding: 0 0 0 0;\n",
              "    width: 32px;\n",
              "  }\n",
              "\n",
              "  .colab-df-quickchart:hover {\n",
              "    background-color: #E2EBFA;\n",
              "    box-shadow: 0px 1px 2px rgba(60, 64, 67, 0.3), 0px 1px 3px 1px rgba(60, 64, 67, 0.15);\n",
              "    fill: #174EA6;\n",
              "  }\n",
              "\n",
              "  [theme=dark] .colab-df-quickchart {\n",
              "    background-color: #3B4455;\n",
              "    fill: #D2E3FC;\n",
              "  }\n",
              "\n",
              "  [theme=dark] .colab-df-quickchart:hover {\n",
              "    background-color: #434B5C;\n",
              "    box-shadow: 0px 1px 3px 1px rgba(0, 0, 0, 0.15);\n",
              "    filter: drop-shadow(0px 1px 2px rgba(0, 0, 0, 0.3));\n",
              "    fill: #FFFFFF;\n",
              "  }\n",
              "</style>\n",
              "\n",
              "  <script>\n",
              "    async function quickchart(key) {\n",
              "      const charts = await google.colab.kernel.invokeFunction(\n",
              "          'suggestCharts', [key], {});\n",
              "    }\n",
              "    (() => {\n",
              "      let quickchartButtonEl =\n",
              "        document.querySelector('#df-9a16e3df-066f-46b1-8fe9-1c0c1713680e button');\n",
              "      quickchartButtonEl.style.display =\n",
              "        google.colab.kernel.accessAllowed ? 'block' : 'none';\n",
              "    })();\n",
              "  </script>\n",
              "</div>\n",
              "    </div>\n",
              "  </div>\n"
            ]
          },
          "metadata": {},
          "execution_count": 264
        }
      ]
    },
    {
      "cell_type": "code",
      "source": [
        "data['SINT_ATE_NOTIF'].info()"
      ],
      "metadata": {
        "colab": {
          "base_uri": "https://localhost:8080/"
        },
        "id": "h08RPxkTyPaH",
        "outputId": "f8d7760c-02b9-4168-ee74-95ed3bbb55bd"
      },
      "execution_count": null,
      "outputs": [
        {
          "output_type": "stream",
          "name": "stdout",
          "text": [
            "<class 'pandas.core.series.Series'>\n",
            "RangeIndex: 17432 entries, 0 to 17431\n",
            "Series name: SINT_ATE_NOTIF\n",
            "Non-Null Count  Dtype\n",
            "--------------  -----\n",
            "17432 non-null  int64\n",
            "dtypes: int64(1)\n",
            "memory usage: 136.3 KB\n"
          ]
        }
      ]
    },
    {
      "cell_type": "markdown",
      "source": [
        "Criação da coluna \"PCR_EVOLUCAO\" que calcula a diferença de dias entre a data do PCR e a data da evolução."
      ],
      "metadata": {
        "id": "1-u5dclISwAv"
      }
    },
    {
      "cell_type": "markdown",
      "source": [
        "*DT_PCR com DT_EVOLUCA*"
      ],
      "metadata": {
        "id": "N-1vOmXvSwAv"
      }
    },
    {
      "cell_type": "code",
      "source": [
        "data['PCR_EVOLUCAO'] = ''"
      ],
      "metadata": {
        "id": "-BT4t8gAyPXR"
      },
      "execution_count": null,
      "outputs": []
    },
    {
      "cell_type": "code",
      "source": [
        "# Calcula a diferença de dias entre duas datas\n",
        "def calc_pcr_evo(row):\n",
        "  if row['PCR_RESUL'] != 4:\n",
        "    if pd.isna(row['DT_PCR']) or pd.isna(row['DT_EVOLUCA']):\n",
        "      return np.nan\n",
        "    else:\n",
        "      data1 = datetime.strptime(row['DT_PCR'], '%d/%m/%Y')\n",
        "      data2 = datetime.strptime(row['DT_EVOLUCA'], '%d/%m/%Y')\n",
        "      return abs((data2 - data1).days)\n",
        "  else:\n",
        "    return 0\n",
        "\n",
        "# Chama a função e atribui o resultado à coluna 'PCR_EVOLUCAO'\n",
        "data['PCR_EVOLUCAO'] = data.apply(calc_pcr_evo, axis=1)"
      ],
      "metadata": {
        "id": "vkei31aPyPT0"
      },
      "execution_count": null,
      "outputs": []
    },
    {
      "cell_type": "code",
      "source": [
        "data[['DT_PCR', 'DT_EVOLUCA', 'PCR_EVOLUCAO']]"
      ],
      "metadata": {
        "colab": {
          "base_uri": "https://localhost:8080/"
        },
        "id": "-HJ36ev2yPQ-",
        "outputId": "84bca218-df96-43f5-e705-83fc1cfa36fa"
      },
      "execution_count": null,
      "outputs": [
        {
          "output_type": "execute_result",
          "data": {
            "text/plain": [
              "           DT_PCR  DT_EVOLUCA  PCR_EVOLUCAO\n",
              "0      09/01/2022  06/01/2022           3.0\n",
              "1             NaN  25/01/2022           0.0\n",
              "2      13/01/2022  13/01/2022           0.0\n",
              "3      21/01/2022  07/02/2022          17.0\n",
              "4      13/01/2022  13/01/2022           0.0\n",
              "...           ...         ...           ...\n",
              "17427         NaN  29/06/2022           0.0\n",
              "17428  15/08/2022  12/08/2022           3.0\n",
              "17429  02/09/2022  01/09/2022           1.0\n",
              "17430  17/11/2022  17/11/2022           0.0\n",
              "17431  26/12/2022  29/12/2022           3.0\n",
              "\n",
              "[17432 rows x 3 columns]"
            ],
            "text/html": [
              "\n",
              "  <div id=\"df-e2b31609-644c-4086-9ea9-ee0f94db9f95\" class=\"colab-df-container\">\n",
              "    <div>\n",
              "<style scoped>\n",
              "    .dataframe tbody tr th:only-of-type {\n",
              "        vertical-align: middle;\n",
              "    }\n",
              "\n",
              "    .dataframe tbody tr th {\n",
              "        vertical-align: top;\n",
              "    }\n",
              "\n",
              "    .dataframe thead th {\n",
              "        text-align: right;\n",
              "    }\n",
              "</style>\n",
              "<table border=\"1\" class=\"dataframe\">\n",
              "  <thead>\n",
              "    <tr style=\"text-align: right;\">\n",
              "      <th></th>\n",
              "      <th>DT_PCR</th>\n",
              "      <th>DT_EVOLUCA</th>\n",
              "      <th>PCR_EVOLUCAO</th>\n",
              "    </tr>\n",
              "  </thead>\n",
              "  <tbody>\n",
              "    <tr>\n",
              "      <th>0</th>\n",
              "      <td>09/01/2022</td>\n",
              "      <td>06/01/2022</td>\n",
              "      <td>3.0</td>\n",
              "    </tr>\n",
              "    <tr>\n",
              "      <th>1</th>\n",
              "      <td>NaN</td>\n",
              "      <td>25/01/2022</td>\n",
              "      <td>0.0</td>\n",
              "    </tr>\n",
              "    <tr>\n",
              "      <th>2</th>\n",
              "      <td>13/01/2022</td>\n",
              "      <td>13/01/2022</td>\n",
              "      <td>0.0</td>\n",
              "    </tr>\n",
              "    <tr>\n",
              "      <th>3</th>\n",
              "      <td>21/01/2022</td>\n",
              "      <td>07/02/2022</td>\n",
              "      <td>17.0</td>\n",
              "    </tr>\n",
              "    <tr>\n",
              "      <th>4</th>\n",
              "      <td>13/01/2022</td>\n",
              "      <td>13/01/2022</td>\n",
              "      <td>0.0</td>\n",
              "    </tr>\n",
              "    <tr>\n",
              "      <th>...</th>\n",
              "      <td>...</td>\n",
              "      <td>...</td>\n",
              "      <td>...</td>\n",
              "    </tr>\n",
              "    <tr>\n",
              "      <th>17427</th>\n",
              "      <td>NaN</td>\n",
              "      <td>29/06/2022</td>\n",
              "      <td>0.0</td>\n",
              "    </tr>\n",
              "    <tr>\n",
              "      <th>17428</th>\n",
              "      <td>15/08/2022</td>\n",
              "      <td>12/08/2022</td>\n",
              "      <td>3.0</td>\n",
              "    </tr>\n",
              "    <tr>\n",
              "      <th>17429</th>\n",
              "      <td>02/09/2022</td>\n",
              "      <td>01/09/2022</td>\n",
              "      <td>1.0</td>\n",
              "    </tr>\n",
              "    <tr>\n",
              "      <th>17430</th>\n",
              "      <td>17/11/2022</td>\n",
              "      <td>17/11/2022</td>\n",
              "      <td>0.0</td>\n",
              "    </tr>\n",
              "    <tr>\n",
              "      <th>17431</th>\n",
              "      <td>26/12/2022</td>\n",
              "      <td>29/12/2022</td>\n",
              "      <td>3.0</td>\n",
              "    </tr>\n",
              "  </tbody>\n",
              "</table>\n",
              "<p>17432 rows × 3 columns</p>\n",
              "</div>\n",
              "    <div class=\"colab-df-buttons\">\n",
              "\n",
              "  <div class=\"colab-df-container\">\n",
              "    <button class=\"colab-df-convert\" onclick=\"convertToInteractive('df-e2b31609-644c-4086-9ea9-ee0f94db9f95')\"\n",
              "            title=\"Convert this dataframe to an interactive table.\"\n",
              "            style=\"display:none;\">\n",
              "\n",
              "  <svg xmlns=\"http://www.w3.org/2000/svg\" height=\"24px\" viewBox=\"0 -960 960 960\">\n",
              "    <path d=\"M120-120v-720h720v720H120Zm60-500h600v-160H180v160Zm220 220h160v-160H400v160Zm0 220h160v-160H400v160ZM180-400h160v-160H180v160Zm440 0h160v-160H620v160ZM180-180h160v-160H180v160Zm440 0h160v-160H620v160Z\"/>\n",
              "  </svg>\n",
              "    </button>\n",
              "\n",
              "  <style>\n",
              "    .colab-df-container {\n",
              "      display:flex;\n",
              "      gap: 12px;\n",
              "    }\n",
              "\n",
              "    .colab-df-convert {\n",
              "      background-color: #E8F0FE;\n",
              "      border: none;\n",
              "      border-radius: 50%;\n",
              "      cursor: pointer;\n",
              "      display: none;\n",
              "      fill: #1967D2;\n",
              "      height: 32px;\n",
              "      padding: 0 0 0 0;\n",
              "      width: 32px;\n",
              "    }\n",
              "\n",
              "    .colab-df-convert:hover {\n",
              "      background-color: #E2EBFA;\n",
              "      box-shadow: 0px 1px 2px rgba(60, 64, 67, 0.3), 0px 1px 3px 1px rgba(60, 64, 67, 0.15);\n",
              "      fill: #174EA6;\n",
              "    }\n",
              "\n",
              "    .colab-df-buttons div {\n",
              "      margin-bottom: 4px;\n",
              "    }\n",
              "\n",
              "    [theme=dark] .colab-df-convert {\n",
              "      background-color: #3B4455;\n",
              "      fill: #D2E3FC;\n",
              "    }\n",
              "\n",
              "    [theme=dark] .colab-df-convert:hover {\n",
              "      background-color: #434B5C;\n",
              "      box-shadow: 0px 1px 3px 1px rgba(0, 0, 0, 0.15);\n",
              "      filter: drop-shadow(0px 1px 2px rgba(0, 0, 0, 0.3));\n",
              "      fill: #FFFFFF;\n",
              "    }\n",
              "  </style>\n",
              "\n",
              "    <script>\n",
              "      const buttonEl =\n",
              "        document.querySelector('#df-e2b31609-644c-4086-9ea9-ee0f94db9f95 button.colab-df-convert');\n",
              "      buttonEl.style.display =\n",
              "        google.colab.kernel.accessAllowed ? 'block' : 'none';\n",
              "\n",
              "      async function convertToInteractive(key) {\n",
              "        const element = document.querySelector('#df-e2b31609-644c-4086-9ea9-ee0f94db9f95');\n",
              "        const dataTable =\n",
              "          await google.colab.kernel.invokeFunction('convertToInteractive',\n",
              "                                                    [key], {});\n",
              "        if (!dataTable) return;\n",
              "\n",
              "        const docLinkHtml = 'Like what you see? Visit the ' +\n",
              "          '<a target=\"_blank\" href=https://colab.research.google.com/notebooks/data_table.ipynb>data table notebook</a>'\n",
              "          + ' to learn more about interactive tables.';\n",
              "        element.innerHTML = '';\n",
              "        dataTable['output_type'] = 'display_data';\n",
              "        await google.colab.output.renderOutput(dataTable, element);\n",
              "        const docLink = document.createElement('div');\n",
              "        docLink.innerHTML = docLinkHtml;\n",
              "        element.appendChild(docLink);\n",
              "      }\n",
              "    </script>\n",
              "  </div>\n",
              "\n",
              "\n",
              "<div id=\"df-e892abc4-4148-49f2-9c8f-5834af04116d\">\n",
              "  <button class=\"colab-df-quickchart\" onclick=\"quickchart('df-e892abc4-4148-49f2-9c8f-5834af04116d')\"\n",
              "            title=\"Suggest charts.\"\n",
              "            style=\"display:none;\">\n",
              "\n",
              "<svg xmlns=\"http://www.w3.org/2000/svg\" height=\"24px\"viewBox=\"0 0 24 24\"\n",
              "     width=\"24px\">\n",
              "    <g>\n",
              "        <path d=\"M19 3H5c-1.1 0-2 .9-2 2v14c0 1.1.9 2 2 2h14c1.1 0 2-.9 2-2V5c0-1.1-.9-2-2-2zM9 17H7v-7h2v7zm4 0h-2V7h2v10zm4 0h-2v-4h2v4z\"/>\n",
              "    </g>\n",
              "</svg>\n",
              "  </button>\n",
              "\n",
              "<style>\n",
              "  .colab-df-quickchart {\n",
              "    background-color: #E8F0FE;\n",
              "    border: none;\n",
              "    border-radius: 50%;\n",
              "    cursor: pointer;\n",
              "    display: none;\n",
              "    fill: #1967D2;\n",
              "    height: 32px;\n",
              "    padding: 0 0 0 0;\n",
              "    width: 32px;\n",
              "  }\n",
              "\n",
              "  .colab-df-quickchart:hover {\n",
              "    background-color: #E2EBFA;\n",
              "    box-shadow: 0px 1px 2px rgba(60, 64, 67, 0.3), 0px 1px 3px 1px rgba(60, 64, 67, 0.15);\n",
              "    fill: #174EA6;\n",
              "  }\n",
              "\n",
              "  [theme=dark] .colab-df-quickchart {\n",
              "    background-color: #3B4455;\n",
              "    fill: #D2E3FC;\n",
              "  }\n",
              "\n",
              "  [theme=dark] .colab-df-quickchart:hover {\n",
              "    background-color: #434B5C;\n",
              "    box-shadow: 0px 1px 3px 1px rgba(0, 0, 0, 0.15);\n",
              "    filter: drop-shadow(0px 1px 2px rgba(0, 0, 0, 0.3));\n",
              "    fill: #FFFFFF;\n",
              "  }\n",
              "</style>\n",
              "\n",
              "  <script>\n",
              "    async function quickchart(key) {\n",
              "      const charts = await google.colab.kernel.invokeFunction(\n",
              "          'suggestCharts', [key], {});\n",
              "    }\n",
              "    (() => {\n",
              "      let quickchartButtonEl =\n",
              "        document.querySelector('#df-e892abc4-4148-49f2-9c8f-5834af04116d button');\n",
              "      quickchartButtonEl.style.display =\n",
              "        google.colab.kernel.accessAllowed ? 'block' : 'none';\n",
              "    })();\n",
              "  </script>\n",
              "</div>\n",
              "    </div>\n",
              "  </div>\n"
            ]
          },
          "metadata": {},
          "execution_count": 268
        }
      ]
    },
    {
      "cell_type": "code",
      "source": [
        "data['PCR_EVOLUCAO'].info()"
      ],
      "metadata": {
        "colab": {
          "base_uri": "https://localhost:8080/"
        },
        "id": "z68sa1aUyPOI",
        "outputId": "635aa295-3865-4103-a25f-44d77aa8551a"
      },
      "execution_count": null,
      "outputs": [
        {
          "output_type": "stream",
          "name": "stdout",
          "text": [
            "<class 'pandas.core.series.Series'>\n",
            "RangeIndex: 17432 entries, 0 to 17431\n",
            "Series name: PCR_EVOLUCAO\n",
            "Non-Null Count  Dtype  \n",
            "--------------  -----  \n",
            "15486 non-null  float64\n",
            "dtypes: float64(1)\n",
            "memory usage: 136.3 KB\n"
          ]
        }
      ]
    },
    {
      "cell_type": "code",
      "source": [
        "# Calcula a mediana de 'PCR_EVOLUCAO'\n",
        "data['PCR_EVOLUCAO'].median()"
      ],
      "metadata": {
        "colab": {
          "base_uri": "https://localhost:8080/"
        },
        "id": "HWxL9bOdyPLS",
        "outputId": "3186e31c-5c69-4540-9d70-82edc75ef990"
      },
      "execution_count": null,
      "outputs": [
        {
          "output_type": "execute_result",
          "data": {
            "text/plain": [
              "2.0"
            ]
          },
          "metadata": {},
          "execution_count": 270
        }
      ]
    },
    {
      "cell_type": "code",
      "source": [
        "# Conta os valores NaN em 'PCR_EVOLUCAO'\n",
        "data['PCR_EVOLUCAO'].isnull().sum()"
      ],
      "metadata": {
        "colab": {
          "base_uri": "https://localhost:8080/"
        },
        "id": "fHX3PeLcyPIc",
        "outputId": "7ea7378c-5b2d-4fd9-dbc7-b6e70204d45e"
      },
      "execution_count": null,
      "outputs": [
        {
          "output_type": "execute_result",
          "data": {
            "text/plain": [
              "1946"
            ]
          },
          "metadata": {},
          "execution_count": 271
        }
      ]
    },
    {
      "cell_type": "code",
      "source": [
        "# Preenche valores NaN com a mediana\n",
        "data['PCR_EVOLUCAO'].fillna(data['PCR_EVOLUCAO'].median(), inplace=True)"
      ],
      "metadata": {
        "id": "FOqGSQE0yPCe"
      },
      "execution_count": null,
      "outputs": []
    },
    {
      "cell_type": "code",
      "source": [
        "# Converte o tipo de dados de float para int\n",
        "data['PCR_EVOLUCAO'] = data['PCR_EVOLUCAO'].astype(int)"
      ],
      "metadata": {
        "id": "TihvztPiyO_8"
      },
      "execution_count": null,
      "outputs": []
    },
    {
      "cell_type": "code",
      "source": [
        "data['PCR_EVOLUCAO'].info()"
      ],
      "metadata": {
        "colab": {
          "base_uri": "https://localhost:8080/"
        },
        "id": "Tc6jhGKhy65U",
        "outputId": "68f638d7-3734-4232-9599-4ba3926e32f9"
      },
      "execution_count": null,
      "outputs": [
        {
          "output_type": "stream",
          "name": "stdout",
          "text": [
            "<class 'pandas.core.series.Series'>\n",
            "RangeIndex: 17432 entries, 0 to 17431\n",
            "Series name: PCR_EVOLUCAO\n",
            "Non-Null Count  Dtype\n",
            "--------------  -----\n",
            "17432 non-null  int64\n",
            "dtypes: int64(1)\n",
            "memory usage: 136.3 KB\n"
          ]
        }
      ]
    },
    {
      "cell_type": "markdown",
      "source": [
        "SEGUNDA DOSE\n",
        "\n",
        "Criação da coluna \"DIAS_DOSE2\" que calcula a quantidade de dias da data da segunda dose até a notificação."
      ],
      "metadata": {
        "id": "y2Il2TahUNy6"
      }
    },
    {
      "cell_type": "markdown",
      "source": [
        "*DOSE_2_COV com DT_NOTIFIC*"
      ],
      "metadata": {
        "id": "MfRtoGK1UNy_"
      }
    },
    {
      "cell_type": "code",
      "source": [
        "data['DIAS_DOSE2'] = ''"
      ],
      "metadata": {
        "id": "XoqavVsEy9jc"
      },
      "execution_count": null,
      "outputs": []
    },
    {
      "cell_type": "code",
      "source": [
        "# Calcula o intervalo de dias entre duas datas\n",
        "def vac_segunda_dose(row):\n",
        "  if row['VACINA_COV'] == 1:\n",
        "    if pd.isna(row['DOSE_2_COV']):\n",
        "      return np.nan\n",
        "    else:\n",
        "      data1 = datetime.strptime(row['DOSE_2_COV'], '%d/%m/%Y')\n",
        "      data2 = datetime.strptime(row['DT_NOTIFIC'], '%d/%m/%Y')\n",
        "      return abs((data2 - data1).days)\n",
        "  else:\n",
        "    return 0\n",
        "\n",
        "# Chama a função e atribui o resultado à coluna 'DIAS_DOSE2'\n",
        "data['DIAS_DOSE2'] = data.apply(vac_segunda_dose, axis=1)"
      ],
      "metadata": {
        "id": "-CA3sXyPy9nF"
      },
      "execution_count": null,
      "outputs": []
    },
    {
      "cell_type": "code",
      "source": [
        "data[['DOSE_1_COV','DOSE_2_COV', 'DT_NOTIFIC', 'DIAS_DOSE2']]"
      ],
      "metadata": {
        "colab": {
          "base_uri": "https://localhost:8080/"
        },
        "id": "DVevhHdgy9qZ",
        "outputId": "d347b666-2f64-4e2b-a40e-ced63a869243"
      },
      "execution_count": null,
      "outputs": [
        {
          "output_type": "execute_result",
          "data": {
            "text/plain": [
              "       DOSE_1_COV  DOSE_2_COV  DT_NOTIFIC  DIAS_DOSE2\n",
              "0      17/08/2021  05/11/2021  05/01/2022        61.0\n",
              "1      27/03/2021  19/04/2021  07/01/2022       263.0\n",
              "2      10/06/2021  30/09/2021  10/01/2022       102.0\n",
              "3             NaN         NaN  19/01/2022         0.0\n",
              "4      24/06/2021  16/09/2021  10/01/2022       116.0\n",
              "...           ...         ...         ...         ...\n",
              "17427         NaN         NaN  29/06/2022         0.0\n",
              "17428  19/02/2021  16/03/2021  09/08/2022       511.0\n",
              "17429         NaN  16/03/2021  30/08/2022       532.0\n",
              "17430  23/03/2021  14/04/2021  10/11/2022       575.0\n",
              "17431  30/03/2021  27/04/2021  24/12/2022       606.0\n",
              "\n",
              "[17432 rows x 4 columns]"
            ],
            "text/html": [
              "\n",
              "  <div id=\"df-d17eca08-0eb7-4ba2-bb39-40186b16d4f3\" class=\"colab-df-container\">\n",
              "    <div>\n",
              "<style scoped>\n",
              "    .dataframe tbody tr th:only-of-type {\n",
              "        vertical-align: middle;\n",
              "    }\n",
              "\n",
              "    .dataframe tbody tr th {\n",
              "        vertical-align: top;\n",
              "    }\n",
              "\n",
              "    .dataframe thead th {\n",
              "        text-align: right;\n",
              "    }\n",
              "</style>\n",
              "<table border=\"1\" class=\"dataframe\">\n",
              "  <thead>\n",
              "    <tr style=\"text-align: right;\">\n",
              "      <th></th>\n",
              "      <th>DOSE_1_COV</th>\n",
              "      <th>DOSE_2_COV</th>\n",
              "      <th>DT_NOTIFIC</th>\n",
              "      <th>DIAS_DOSE2</th>\n",
              "    </tr>\n",
              "  </thead>\n",
              "  <tbody>\n",
              "    <tr>\n",
              "      <th>0</th>\n",
              "      <td>17/08/2021</td>\n",
              "      <td>05/11/2021</td>\n",
              "      <td>05/01/2022</td>\n",
              "      <td>61.0</td>\n",
              "    </tr>\n",
              "    <tr>\n",
              "      <th>1</th>\n",
              "      <td>27/03/2021</td>\n",
              "      <td>19/04/2021</td>\n",
              "      <td>07/01/2022</td>\n",
              "      <td>263.0</td>\n",
              "    </tr>\n",
              "    <tr>\n",
              "      <th>2</th>\n",
              "      <td>10/06/2021</td>\n",
              "      <td>30/09/2021</td>\n",
              "      <td>10/01/2022</td>\n",
              "      <td>102.0</td>\n",
              "    </tr>\n",
              "    <tr>\n",
              "      <th>3</th>\n",
              "      <td>NaN</td>\n",
              "      <td>NaN</td>\n",
              "      <td>19/01/2022</td>\n",
              "      <td>0.0</td>\n",
              "    </tr>\n",
              "    <tr>\n",
              "      <th>4</th>\n",
              "      <td>24/06/2021</td>\n",
              "      <td>16/09/2021</td>\n",
              "      <td>10/01/2022</td>\n",
              "      <td>116.0</td>\n",
              "    </tr>\n",
              "    <tr>\n",
              "      <th>...</th>\n",
              "      <td>...</td>\n",
              "      <td>...</td>\n",
              "      <td>...</td>\n",
              "      <td>...</td>\n",
              "    </tr>\n",
              "    <tr>\n",
              "      <th>17427</th>\n",
              "      <td>NaN</td>\n",
              "      <td>NaN</td>\n",
              "      <td>29/06/2022</td>\n",
              "      <td>0.0</td>\n",
              "    </tr>\n",
              "    <tr>\n",
              "      <th>17428</th>\n",
              "      <td>19/02/2021</td>\n",
              "      <td>16/03/2021</td>\n",
              "      <td>09/08/2022</td>\n",
              "      <td>511.0</td>\n",
              "    </tr>\n",
              "    <tr>\n",
              "      <th>17429</th>\n",
              "      <td>NaN</td>\n",
              "      <td>16/03/2021</td>\n",
              "      <td>30/08/2022</td>\n",
              "      <td>532.0</td>\n",
              "    </tr>\n",
              "    <tr>\n",
              "      <th>17430</th>\n",
              "      <td>23/03/2021</td>\n",
              "      <td>14/04/2021</td>\n",
              "      <td>10/11/2022</td>\n",
              "      <td>575.0</td>\n",
              "    </tr>\n",
              "    <tr>\n",
              "      <th>17431</th>\n",
              "      <td>30/03/2021</td>\n",
              "      <td>27/04/2021</td>\n",
              "      <td>24/12/2022</td>\n",
              "      <td>606.0</td>\n",
              "    </tr>\n",
              "  </tbody>\n",
              "</table>\n",
              "<p>17432 rows × 4 columns</p>\n",
              "</div>\n",
              "    <div class=\"colab-df-buttons\">\n",
              "\n",
              "  <div class=\"colab-df-container\">\n",
              "    <button class=\"colab-df-convert\" onclick=\"convertToInteractive('df-d17eca08-0eb7-4ba2-bb39-40186b16d4f3')\"\n",
              "            title=\"Convert this dataframe to an interactive table.\"\n",
              "            style=\"display:none;\">\n",
              "\n",
              "  <svg xmlns=\"http://www.w3.org/2000/svg\" height=\"24px\" viewBox=\"0 -960 960 960\">\n",
              "    <path d=\"M120-120v-720h720v720H120Zm60-500h600v-160H180v160Zm220 220h160v-160H400v160Zm0 220h160v-160H400v160ZM180-400h160v-160H180v160Zm440 0h160v-160H620v160ZM180-180h160v-160H180v160Zm440 0h160v-160H620v160Z\"/>\n",
              "  </svg>\n",
              "    </button>\n",
              "\n",
              "  <style>\n",
              "    .colab-df-container {\n",
              "      display:flex;\n",
              "      gap: 12px;\n",
              "    }\n",
              "\n",
              "    .colab-df-convert {\n",
              "      background-color: #E8F0FE;\n",
              "      border: none;\n",
              "      border-radius: 50%;\n",
              "      cursor: pointer;\n",
              "      display: none;\n",
              "      fill: #1967D2;\n",
              "      height: 32px;\n",
              "      padding: 0 0 0 0;\n",
              "      width: 32px;\n",
              "    }\n",
              "\n",
              "    .colab-df-convert:hover {\n",
              "      background-color: #E2EBFA;\n",
              "      box-shadow: 0px 1px 2px rgba(60, 64, 67, 0.3), 0px 1px 3px 1px rgba(60, 64, 67, 0.15);\n",
              "      fill: #174EA6;\n",
              "    }\n",
              "\n",
              "    .colab-df-buttons div {\n",
              "      margin-bottom: 4px;\n",
              "    }\n",
              "\n",
              "    [theme=dark] .colab-df-convert {\n",
              "      background-color: #3B4455;\n",
              "      fill: #D2E3FC;\n",
              "    }\n",
              "\n",
              "    [theme=dark] .colab-df-convert:hover {\n",
              "      background-color: #434B5C;\n",
              "      box-shadow: 0px 1px 3px 1px rgba(0, 0, 0, 0.15);\n",
              "      filter: drop-shadow(0px 1px 2px rgba(0, 0, 0, 0.3));\n",
              "      fill: #FFFFFF;\n",
              "    }\n",
              "  </style>\n",
              "\n",
              "    <script>\n",
              "      const buttonEl =\n",
              "        document.querySelector('#df-d17eca08-0eb7-4ba2-bb39-40186b16d4f3 button.colab-df-convert');\n",
              "      buttonEl.style.display =\n",
              "        google.colab.kernel.accessAllowed ? 'block' : 'none';\n",
              "\n",
              "      async function convertToInteractive(key) {\n",
              "        const element = document.querySelector('#df-d17eca08-0eb7-4ba2-bb39-40186b16d4f3');\n",
              "        const dataTable =\n",
              "          await google.colab.kernel.invokeFunction('convertToInteractive',\n",
              "                                                    [key], {});\n",
              "        if (!dataTable) return;\n",
              "\n",
              "        const docLinkHtml = 'Like what you see? Visit the ' +\n",
              "          '<a target=\"_blank\" href=https://colab.research.google.com/notebooks/data_table.ipynb>data table notebook</a>'\n",
              "          + ' to learn more about interactive tables.';\n",
              "        element.innerHTML = '';\n",
              "        dataTable['output_type'] = 'display_data';\n",
              "        await google.colab.output.renderOutput(dataTable, element);\n",
              "        const docLink = document.createElement('div');\n",
              "        docLink.innerHTML = docLinkHtml;\n",
              "        element.appendChild(docLink);\n",
              "      }\n",
              "    </script>\n",
              "  </div>\n",
              "\n",
              "\n",
              "<div id=\"df-4b82e083-d495-421d-997c-7bb001662479\">\n",
              "  <button class=\"colab-df-quickchart\" onclick=\"quickchart('df-4b82e083-d495-421d-997c-7bb001662479')\"\n",
              "            title=\"Suggest charts.\"\n",
              "            style=\"display:none;\">\n",
              "\n",
              "<svg xmlns=\"http://www.w3.org/2000/svg\" height=\"24px\"viewBox=\"0 0 24 24\"\n",
              "     width=\"24px\">\n",
              "    <g>\n",
              "        <path d=\"M19 3H5c-1.1 0-2 .9-2 2v14c0 1.1.9 2 2 2h14c1.1 0 2-.9 2-2V5c0-1.1-.9-2-2-2zM9 17H7v-7h2v7zm4 0h-2V7h2v10zm4 0h-2v-4h2v4z\"/>\n",
              "    </g>\n",
              "</svg>\n",
              "  </button>\n",
              "\n",
              "<style>\n",
              "  .colab-df-quickchart {\n",
              "    background-color: #E8F0FE;\n",
              "    border: none;\n",
              "    border-radius: 50%;\n",
              "    cursor: pointer;\n",
              "    display: none;\n",
              "    fill: #1967D2;\n",
              "    height: 32px;\n",
              "    padding: 0 0 0 0;\n",
              "    width: 32px;\n",
              "  }\n",
              "\n",
              "  .colab-df-quickchart:hover {\n",
              "    background-color: #E2EBFA;\n",
              "    box-shadow: 0px 1px 2px rgba(60, 64, 67, 0.3), 0px 1px 3px 1px rgba(60, 64, 67, 0.15);\n",
              "    fill: #174EA6;\n",
              "  }\n",
              "\n",
              "  [theme=dark] .colab-df-quickchart {\n",
              "    background-color: #3B4455;\n",
              "    fill: #D2E3FC;\n",
              "  }\n",
              "\n",
              "  [theme=dark] .colab-df-quickchart:hover {\n",
              "    background-color: #434B5C;\n",
              "    box-shadow: 0px 1px 3px 1px rgba(0, 0, 0, 0.15);\n",
              "    filter: drop-shadow(0px 1px 2px rgba(0, 0, 0, 0.3));\n",
              "    fill: #FFFFFF;\n",
              "  }\n",
              "</style>\n",
              "\n",
              "  <script>\n",
              "    async function quickchart(key) {\n",
              "      const charts = await google.colab.kernel.invokeFunction(\n",
              "          'suggestCharts', [key], {});\n",
              "    }\n",
              "    (() => {\n",
              "      let quickchartButtonEl =\n",
              "        document.querySelector('#df-4b82e083-d495-421d-997c-7bb001662479 button');\n",
              "      quickchartButtonEl.style.display =\n",
              "        google.colab.kernel.accessAllowed ? 'block' : 'none';\n",
              "    })();\n",
              "  </script>\n",
              "</div>\n",
              "    </div>\n",
              "  </div>\n"
            ]
          },
          "metadata": {},
          "execution_count": 277
        }
      ]
    },
    {
      "cell_type": "code",
      "source": [
        "data['DIAS_DOSE2'].info()"
      ],
      "metadata": {
        "colab": {
          "base_uri": "https://localhost:8080/"
        },
        "id": "HfUrdM26y9tc",
        "outputId": "2a40ec42-606e-47ed-fe6b-1d99b76669ab"
      },
      "execution_count": null,
      "outputs": [
        {
          "output_type": "stream",
          "name": "stdout",
          "text": [
            "<class 'pandas.core.series.Series'>\n",
            "RangeIndex: 17432 entries, 0 to 17431\n",
            "Series name: DIAS_DOSE2\n",
            "Non-Null Count  Dtype  \n",
            "--------------  -----  \n",
            "16254 non-null  float64\n",
            "dtypes: float64(1)\n",
            "memory usage: 136.3 KB\n"
          ]
        }
      ]
    },
    {
      "cell_type": "code",
      "source": [
        "# Calcula a mediana\n",
        "data['DIAS_DOSE2'].median()"
      ],
      "metadata": {
        "colab": {
          "base_uri": "https://localhost:8080/"
        },
        "id": "tTLFAVgay9xA",
        "outputId": "3d1144c1-1019-4e4b-c1a3-ca70cc58898b"
      },
      "execution_count": null,
      "outputs": [
        {
          "output_type": "execute_result",
          "data": {
            "text/plain": [
              "280.0"
            ]
          },
          "metadata": {},
          "execution_count": 279
        }
      ]
    },
    {
      "cell_type": "code",
      "source": [
        "# Conta os valores NaN\n",
        "data['DIAS_DOSE2'].isnull().sum()"
      ],
      "metadata": {
        "colab": {
          "base_uri": "https://localhost:8080/"
        },
        "id": "Rmh3yB3Uy90U",
        "outputId": "414ed824-a2e0-42e5-8d69-7787c0de9bac"
      },
      "execution_count": null,
      "outputs": [
        {
          "output_type": "execute_result",
          "data": {
            "text/plain": [
              "1178"
            ]
          },
          "metadata": {},
          "execution_count": 280
        }
      ]
    },
    {
      "cell_type": "code",
      "source": [
        "# Preenche valores NaN com a mediana\n",
        "data['DIAS_DOSE2'].fillna(data['DIAS_DOSE2'].median(), inplace=True)\n",
        "\n",
        "# Converte o tipo de dados de float para int\n",
        "data['DIAS_DOSE2'] = data['DIAS_DOSE2'].astype(int)"
      ],
      "metadata": {
        "id": "TOhjp547y93g"
      },
      "execution_count": null,
      "outputs": []
    },
    {
      "cell_type": "code",
      "source": [
        "data['DIAS_DOSE2'].info()"
      ],
      "metadata": {
        "colab": {
          "base_uri": "https://localhost:8080/"
        },
        "id": "Ll1Scjr1y97J",
        "outputId": "86b0a2fb-0a1e-4f45-c528-58e28db7a68f"
      },
      "execution_count": null,
      "outputs": [
        {
          "output_type": "stream",
          "name": "stdout",
          "text": [
            "<class 'pandas.core.series.Series'>\n",
            "RangeIndex: 17432 entries, 0 to 17431\n",
            "Series name: DIAS_DOSE2\n",
            "Non-Null Count  Dtype\n",
            "--------------  -----\n",
            "17432 non-null  int64\n",
            "dtypes: int64(1)\n",
            "memory usage: 136.3 KB\n"
          ]
        }
      ]
    },
    {
      "cell_type": "markdown",
      "source": [
        "PRIMEIRA DOSE"
      ],
      "metadata": {
        "id": "Jys3bE1Xi-eS"
      }
    },
    {
      "cell_type": "code",
      "source": [
        "# Instância 17429\n",
        "data[['DOSE_1_COV','DOSE_2_COV', 'DT_NOTIFIC', 'DIAS_DOSE2']]"
      ],
      "metadata": {
        "colab": {
          "base_uri": "https://localhost:8080/"
        },
        "id": "OOZK6bWyy-Cp",
        "outputId": "b2498c53-29d5-4914-b4eb-e771abf0dd39"
      },
      "execution_count": null,
      "outputs": [
        {
          "output_type": "execute_result",
          "data": {
            "text/plain": [
              "       DOSE_1_COV  DOSE_2_COV  DT_NOTIFIC  DIAS_DOSE2\n",
              "0      17/08/2021  05/11/2021  05/01/2022          61\n",
              "1      27/03/2021  19/04/2021  07/01/2022         263\n",
              "2      10/06/2021  30/09/2021  10/01/2022         102\n",
              "3             NaN         NaN  19/01/2022           0\n",
              "4      24/06/2021  16/09/2021  10/01/2022         116\n",
              "...           ...         ...         ...         ...\n",
              "17427         NaN         NaN  29/06/2022           0\n",
              "17428  19/02/2021  16/03/2021  09/08/2022         511\n",
              "17429         NaN  16/03/2021  30/08/2022         532\n",
              "17430  23/03/2021  14/04/2021  10/11/2022         575\n",
              "17431  30/03/2021  27/04/2021  24/12/2022         606\n",
              "\n",
              "[17432 rows x 4 columns]"
            ],
            "text/html": [
              "\n",
              "  <div id=\"df-290b9445-c996-4010-bdcb-37725363932c\" class=\"colab-df-container\">\n",
              "    <div>\n",
              "<style scoped>\n",
              "    .dataframe tbody tr th:only-of-type {\n",
              "        vertical-align: middle;\n",
              "    }\n",
              "\n",
              "    .dataframe tbody tr th {\n",
              "        vertical-align: top;\n",
              "    }\n",
              "\n",
              "    .dataframe thead th {\n",
              "        text-align: right;\n",
              "    }\n",
              "</style>\n",
              "<table border=\"1\" class=\"dataframe\">\n",
              "  <thead>\n",
              "    <tr style=\"text-align: right;\">\n",
              "      <th></th>\n",
              "      <th>DOSE_1_COV</th>\n",
              "      <th>DOSE_2_COV</th>\n",
              "      <th>DT_NOTIFIC</th>\n",
              "      <th>DIAS_DOSE2</th>\n",
              "    </tr>\n",
              "  </thead>\n",
              "  <tbody>\n",
              "    <tr>\n",
              "      <th>0</th>\n",
              "      <td>17/08/2021</td>\n",
              "      <td>05/11/2021</td>\n",
              "      <td>05/01/2022</td>\n",
              "      <td>61</td>\n",
              "    </tr>\n",
              "    <tr>\n",
              "      <th>1</th>\n",
              "      <td>27/03/2021</td>\n",
              "      <td>19/04/2021</td>\n",
              "      <td>07/01/2022</td>\n",
              "      <td>263</td>\n",
              "    </tr>\n",
              "    <tr>\n",
              "      <th>2</th>\n",
              "      <td>10/06/2021</td>\n",
              "      <td>30/09/2021</td>\n",
              "      <td>10/01/2022</td>\n",
              "      <td>102</td>\n",
              "    </tr>\n",
              "    <tr>\n",
              "      <th>3</th>\n",
              "      <td>NaN</td>\n",
              "      <td>NaN</td>\n",
              "      <td>19/01/2022</td>\n",
              "      <td>0</td>\n",
              "    </tr>\n",
              "    <tr>\n",
              "      <th>4</th>\n",
              "      <td>24/06/2021</td>\n",
              "      <td>16/09/2021</td>\n",
              "      <td>10/01/2022</td>\n",
              "      <td>116</td>\n",
              "    </tr>\n",
              "    <tr>\n",
              "      <th>...</th>\n",
              "      <td>...</td>\n",
              "      <td>...</td>\n",
              "      <td>...</td>\n",
              "      <td>...</td>\n",
              "    </tr>\n",
              "    <tr>\n",
              "      <th>17427</th>\n",
              "      <td>NaN</td>\n",
              "      <td>NaN</td>\n",
              "      <td>29/06/2022</td>\n",
              "      <td>0</td>\n",
              "    </tr>\n",
              "    <tr>\n",
              "      <th>17428</th>\n",
              "      <td>19/02/2021</td>\n",
              "      <td>16/03/2021</td>\n",
              "      <td>09/08/2022</td>\n",
              "      <td>511</td>\n",
              "    </tr>\n",
              "    <tr>\n",
              "      <th>17429</th>\n",
              "      <td>NaN</td>\n",
              "      <td>16/03/2021</td>\n",
              "      <td>30/08/2022</td>\n",
              "      <td>532</td>\n",
              "    </tr>\n",
              "    <tr>\n",
              "      <th>17430</th>\n",
              "      <td>23/03/2021</td>\n",
              "      <td>14/04/2021</td>\n",
              "      <td>10/11/2022</td>\n",
              "      <td>575</td>\n",
              "    </tr>\n",
              "    <tr>\n",
              "      <th>17431</th>\n",
              "      <td>30/03/2021</td>\n",
              "      <td>27/04/2021</td>\n",
              "      <td>24/12/2022</td>\n",
              "      <td>606</td>\n",
              "    </tr>\n",
              "  </tbody>\n",
              "</table>\n",
              "<p>17432 rows × 4 columns</p>\n",
              "</div>\n",
              "    <div class=\"colab-df-buttons\">\n",
              "\n",
              "  <div class=\"colab-df-container\">\n",
              "    <button class=\"colab-df-convert\" onclick=\"convertToInteractive('df-290b9445-c996-4010-bdcb-37725363932c')\"\n",
              "            title=\"Convert this dataframe to an interactive table.\"\n",
              "            style=\"display:none;\">\n",
              "\n",
              "  <svg xmlns=\"http://www.w3.org/2000/svg\" height=\"24px\" viewBox=\"0 -960 960 960\">\n",
              "    <path d=\"M120-120v-720h720v720H120Zm60-500h600v-160H180v160Zm220 220h160v-160H400v160Zm0 220h160v-160H400v160ZM180-400h160v-160H180v160Zm440 0h160v-160H620v160ZM180-180h160v-160H180v160Zm440 0h160v-160H620v160Z\"/>\n",
              "  </svg>\n",
              "    </button>\n",
              "\n",
              "  <style>\n",
              "    .colab-df-container {\n",
              "      display:flex;\n",
              "      gap: 12px;\n",
              "    }\n",
              "\n",
              "    .colab-df-convert {\n",
              "      background-color: #E8F0FE;\n",
              "      border: none;\n",
              "      border-radius: 50%;\n",
              "      cursor: pointer;\n",
              "      display: none;\n",
              "      fill: #1967D2;\n",
              "      height: 32px;\n",
              "      padding: 0 0 0 0;\n",
              "      width: 32px;\n",
              "    }\n",
              "\n",
              "    .colab-df-convert:hover {\n",
              "      background-color: #E2EBFA;\n",
              "      box-shadow: 0px 1px 2px rgba(60, 64, 67, 0.3), 0px 1px 3px 1px rgba(60, 64, 67, 0.15);\n",
              "      fill: #174EA6;\n",
              "    }\n",
              "\n",
              "    .colab-df-buttons div {\n",
              "      margin-bottom: 4px;\n",
              "    }\n",
              "\n",
              "    [theme=dark] .colab-df-convert {\n",
              "      background-color: #3B4455;\n",
              "      fill: #D2E3FC;\n",
              "    }\n",
              "\n",
              "    [theme=dark] .colab-df-convert:hover {\n",
              "      background-color: #434B5C;\n",
              "      box-shadow: 0px 1px 3px 1px rgba(0, 0, 0, 0.15);\n",
              "      filter: drop-shadow(0px 1px 2px rgba(0, 0, 0, 0.3));\n",
              "      fill: #FFFFFF;\n",
              "    }\n",
              "  </style>\n",
              "\n",
              "    <script>\n",
              "      const buttonEl =\n",
              "        document.querySelector('#df-290b9445-c996-4010-bdcb-37725363932c button.colab-df-convert');\n",
              "      buttonEl.style.display =\n",
              "        google.colab.kernel.accessAllowed ? 'block' : 'none';\n",
              "\n",
              "      async function convertToInteractive(key) {\n",
              "        const element = document.querySelector('#df-290b9445-c996-4010-bdcb-37725363932c');\n",
              "        const dataTable =\n",
              "          await google.colab.kernel.invokeFunction('convertToInteractive',\n",
              "                                                    [key], {});\n",
              "        if (!dataTable) return;\n",
              "\n",
              "        const docLinkHtml = 'Like what you see? Visit the ' +\n",
              "          '<a target=\"_blank\" href=https://colab.research.google.com/notebooks/data_table.ipynb>data table notebook</a>'\n",
              "          + ' to learn more about interactive tables.';\n",
              "        element.innerHTML = '';\n",
              "        dataTable['output_type'] = 'display_data';\n",
              "        await google.colab.output.renderOutput(dataTable, element);\n",
              "        const docLink = document.createElement('div');\n",
              "        docLink.innerHTML = docLinkHtml;\n",
              "        element.appendChild(docLink);\n",
              "      }\n",
              "    </script>\n",
              "  </div>\n",
              "\n",
              "\n",
              "<div id=\"df-43354ca2-a541-4f69-8af0-6efc8a059f2d\">\n",
              "  <button class=\"colab-df-quickchart\" onclick=\"quickchart('df-43354ca2-a541-4f69-8af0-6efc8a059f2d')\"\n",
              "            title=\"Suggest charts.\"\n",
              "            style=\"display:none;\">\n",
              "\n",
              "<svg xmlns=\"http://www.w3.org/2000/svg\" height=\"24px\"viewBox=\"0 0 24 24\"\n",
              "     width=\"24px\">\n",
              "    <g>\n",
              "        <path d=\"M19 3H5c-1.1 0-2 .9-2 2v14c0 1.1.9 2 2 2h14c1.1 0 2-.9 2-2V5c0-1.1-.9-2-2-2zM9 17H7v-7h2v7zm4 0h-2V7h2v10zm4 0h-2v-4h2v4z\"/>\n",
              "    </g>\n",
              "</svg>\n",
              "  </button>\n",
              "\n",
              "<style>\n",
              "  .colab-df-quickchart {\n",
              "    background-color: #E8F0FE;\n",
              "    border: none;\n",
              "    border-radius: 50%;\n",
              "    cursor: pointer;\n",
              "    display: none;\n",
              "    fill: #1967D2;\n",
              "    height: 32px;\n",
              "    padding: 0 0 0 0;\n",
              "    width: 32px;\n",
              "  }\n",
              "\n",
              "  .colab-df-quickchart:hover {\n",
              "    background-color: #E2EBFA;\n",
              "    box-shadow: 0px 1px 2px rgba(60, 64, 67, 0.3), 0px 1px 3px 1px rgba(60, 64, 67, 0.15);\n",
              "    fill: #174EA6;\n",
              "  }\n",
              "\n",
              "  [theme=dark] .colab-df-quickchart {\n",
              "    background-color: #3B4455;\n",
              "    fill: #D2E3FC;\n",
              "  }\n",
              "\n",
              "  [theme=dark] .colab-df-quickchart:hover {\n",
              "    background-color: #434B5C;\n",
              "    box-shadow: 0px 1px 3px 1px rgba(0, 0, 0, 0.15);\n",
              "    filter: drop-shadow(0px 1px 2px rgba(0, 0, 0, 0.3));\n",
              "    fill: #FFFFFF;\n",
              "  }\n",
              "</style>\n",
              "\n",
              "  <script>\n",
              "    async function quickchart(key) {\n",
              "      const charts = await google.colab.kernel.invokeFunction(\n",
              "          'suggestCharts', [key], {});\n",
              "    }\n",
              "    (() => {\n",
              "      let quickchartButtonEl =\n",
              "        document.querySelector('#df-43354ca2-a541-4f69-8af0-6efc8a059f2d button');\n",
              "      quickchartButtonEl.style.display =\n",
              "        google.colab.kernel.accessAllowed ? 'block' : 'none';\n",
              "    })();\n",
              "  </script>\n",
              "</div>\n",
              "    </div>\n",
              "  </div>\n"
            ]
          },
          "metadata": {},
          "execution_count": 283
        }
      ]
    },
    {
      "cell_type": "markdown",
      "source": [
        "Preenchimento dos dados\n",
        "\n",
        "O simples preenchimento com a moda deixará alguns dados incoerentes, pois existem instâncias que possuem NaN no valor da data da primeira dose e possui a data da segunda dose. Com isso, pode ocorrer instâncias onde os dias da segunda dose serem mais distantes que os dias da primeira dose, causando incoerência.\n",
        "\n",
        "Dessa forma, uma nova coluna será criada para extrair a moda da diferença dos dias entre a segunda e a primeira dose."
      ],
      "metadata": {
        "id": "qAYmv5M4zyS4"
      }
    },
    {
      "cell_type": "code",
      "source": [
        "# Criação de uma coluna par armazenar a quantidade de dias entre a primeira e segunda dose\n",
        "data['INTERVALO_VACINAS'] = ''"
      ],
      "metadata": {
        "id": "gQ2ESYXny-H_"
      },
      "execution_count": null,
      "outputs": []
    },
    {
      "cell_type": "code",
      "source": [
        "# Calcula o intervalo entre vacinas\n",
        "def calc_interval_vac(row):\n",
        "  if pd.isna(row['DOSE_2_COV']) or pd.isna(row['DOSE_1_COV']):\n",
        "    return np.nan\n",
        "  else:\n",
        "    data1 = datetime.strptime(row['DOSE_2_COV'], '%d/%m/%Y')\n",
        "    data2 = datetime.strptime(row['DOSE_1_COV'], '%d/%m/%Y')\n",
        "    return abs((data2 - data1).days)\n",
        "\n",
        "# Chama a função e atribui o resultado à coluna 'INTERVALO_VACINAS'\n",
        "data['INTERVALO_VACINAS'] = data.apply(calc_interval_vac, axis=1)"
      ],
      "metadata": {
        "id": "mSoNPehyy-K1"
      },
      "execution_count": null,
      "outputs": []
    },
    {
      "cell_type": "code",
      "source": [
        "data[['DOSE_1_COV','DOSE_2_COV', 'INTERVALO_VACINAS']]"
      ],
      "metadata": {
        "colab": {
          "base_uri": "https://localhost:8080/"
        },
        "id": "BCnoqRo8y-OJ",
        "outputId": "5179266c-1dc2-467d-f787-47e05908df16"
      },
      "execution_count": null,
      "outputs": [
        {
          "output_type": "execute_result",
          "data": {
            "text/plain": [
              "       DOSE_1_COV  DOSE_2_COV  INTERVALO_VACINAS\n",
              "0      17/08/2021  05/11/2021               80.0\n",
              "1      27/03/2021  19/04/2021               23.0\n",
              "2      10/06/2021  30/09/2021              112.0\n",
              "3             NaN         NaN                NaN\n",
              "4      24/06/2021  16/09/2021               84.0\n",
              "...           ...         ...                ...\n",
              "17427         NaN         NaN                NaN\n",
              "17428  19/02/2021  16/03/2021               25.0\n",
              "17429         NaN  16/03/2021                NaN\n",
              "17430  23/03/2021  14/04/2021               22.0\n",
              "17431  30/03/2021  27/04/2021               28.0\n",
              "\n",
              "[17432 rows x 3 columns]"
            ],
            "text/html": [
              "\n",
              "  <div id=\"df-3322b7c7-ac3b-4e21-bb4f-51a6355b488d\" class=\"colab-df-container\">\n",
              "    <div>\n",
              "<style scoped>\n",
              "    .dataframe tbody tr th:only-of-type {\n",
              "        vertical-align: middle;\n",
              "    }\n",
              "\n",
              "    .dataframe tbody tr th {\n",
              "        vertical-align: top;\n",
              "    }\n",
              "\n",
              "    .dataframe thead th {\n",
              "        text-align: right;\n",
              "    }\n",
              "</style>\n",
              "<table border=\"1\" class=\"dataframe\">\n",
              "  <thead>\n",
              "    <tr style=\"text-align: right;\">\n",
              "      <th></th>\n",
              "      <th>DOSE_1_COV</th>\n",
              "      <th>DOSE_2_COV</th>\n",
              "      <th>INTERVALO_VACINAS</th>\n",
              "    </tr>\n",
              "  </thead>\n",
              "  <tbody>\n",
              "    <tr>\n",
              "      <th>0</th>\n",
              "      <td>17/08/2021</td>\n",
              "      <td>05/11/2021</td>\n",
              "      <td>80.0</td>\n",
              "    </tr>\n",
              "    <tr>\n",
              "      <th>1</th>\n",
              "      <td>27/03/2021</td>\n",
              "      <td>19/04/2021</td>\n",
              "      <td>23.0</td>\n",
              "    </tr>\n",
              "    <tr>\n",
              "      <th>2</th>\n",
              "      <td>10/06/2021</td>\n",
              "      <td>30/09/2021</td>\n",
              "      <td>112.0</td>\n",
              "    </tr>\n",
              "    <tr>\n",
              "      <th>3</th>\n",
              "      <td>NaN</td>\n",
              "      <td>NaN</td>\n",
              "      <td>NaN</td>\n",
              "    </tr>\n",
              "    <tr>\n",
              "      <th>4</th>\n",
              "      <td>24/06/2021</td>\n",
              "      <td>16/09/2021</td>\n",
              "      <td>84.0</td>\n",
              "    </tr>\n",
              "    <tr>\n",
              "      <th>...</th>\n",
              "      <td>...</td>\n",
              "      <td>...</td>\n",
              "      <td>...</td>\n",
              "    </tr>\n",
              "    <tr>\n",
              "      <th>17427</th>\n",
              "      <td>NaN</td>\n",
              "      <td>NaN</td>\n",
              "      <td>NaN</td>\n",
              "    </tr>\n",
              "    <tr>\n",
              "      <th>17428</th>\n",
              "      <td>19/02/2021</td>\n",
              "      <td>16/03/2021</td>\n",
              "      <td>25.0</td>\n",
              "    </tr>\n",
              "    <tr>\n",
              "      <th>17429</th>\n",
              "      <td>NaN</td>\n",
              "      <td>16/03/2021</td>\n",
              "      <td>NaN</td>\n",
              "    </tr>\n",
              "    <tr>\n",
              "      <th>17430</th>\n",
              "      <td>23/03/2021</td>\n",
              "      <td>14/04/2021</td>\n",
              "      <td>22.0</td>\n",
              "    </tr>\n",
              "    <tr>\n",
              "      <th>17431</th>\n",
              "      <td>30/03/2021</td>\n",
              "      <td>27/04/2021</td>\n",
              "      <td>28.0</td>\n",
              "    </tr>\n",
              "  </tbody>\n",
              "</table>\n",
              "<p>17432 rows × 3 columns</p>\n",
              "</div>\n",
              "    <div class=\"colab-df-buttons\">\n",
              "\n",
              "  <div class=\"colab-df-container\">\n",
              "    <button class=\"colab-df-convert\" onclick=\"convertToInteractive('df-3322b7c7-ac3b-4e21-bb4f-51a6355b488d')\"\n",
              "            title=\"Convert this dataframe to an interactive table.\"\n",
              "            style=\"display:none;\">\n",
              "\n",
              "  <svg xmlns=\"http://www.w3.org/2000/svg\" height=\"24px\" viewBox=\"0 -960 960 960\">\n",
              "    <path d=\"M120-120v-720h720v720H120Zm60-500h600v-160H180v160Zm220 220h160v-160H400v160Zm0 220h160v-160H400v160ZM180-400h160v-160H180v160Zm440 0h160v-160H620v160ZM180-180h160v-160H180v160Zm440 0h160v-160H620v160Z\"/>\n",
              "  </svg>\n",
              "    </button>\n",
              "\n",
              "  <style>\n",
              "    .colab-df-container {\n",
              "      display:flex;\n",
              "      gap: 12px;\n",
              "    }\n",
              "\n",
              "    .colab-df-convert {\n",
              "      background-color: #E8F0FE;\n",
              "      border: none;\n",
              "      border-radius: 50%;\n",
              "      cursor: pointer;\n",
              "      display: none;\n",
              "      fill: #1967D2;\n",
              "      height: 32px;\n",
              "      padding: 0 0 0 0;\n",
              "      width: 32px;\n",
              "    }\n",
              "\n",
              "    .colab-df-convert:hover {\n",
              "      background-color: #E2EBFA;\n",
              "      box-shadow: 0px 1px 2px rgba(60, 64, 67, 0.3), 0px 1px 3px 1px rgba(60, 64, 67, 0.15);\n",
              "      fill: #174EA6;\n",
              "    }\n",
              "\n",
              "    .colab-df-buttons div {\n",
              "      margin-bottom: 4px;\n",
              "    }\n",
              "\n",
              "    [theme=dark] .colab-df-convert {\n",
              "      background-color: #3B4455;\n",
              "      fill: #D2E3FC;\n",
              "    }\n",
              "\n",
              "    [theme=dark] .colab-df-convert:hover {\n",
              "      background-color: #434B5C;\n",
              "      box-shadow: 0px 1px 3px 1px rgba(0, 0, 0, 0.15);\n",
              "      filter: drop-shadow(0px 1px 2px rgba(0, 0, 0, 0.3));\n",
              "      fill: #FFFFFF;\n",
              "    }\n",
              "  </style>\n",
              "\n",
              "    <script>\n",
              "      const buttonEl =\n",
              "        document.querySelector('#df-3322b7c7-ac3b-4e21-bb4f-51a6355b488d button.colab-df-convert');\n",
              "      buttonEl.style.display =\n",
              "        google.colab.kernel.accessAllowed ? 'block' : 'none';\n",
              "\n",
              "      async function convertToInteractive(key) {\n",
              "        const element = document.querySelector('#df-3322b7c7-ac3b-4e21-bb4f-51a6355b488d');\n",
              "        const dataTable =\n",
              "          await google.colab.kernel.invokeFunction('convertToInteractive',\n",
              "                                                    [key], {});\n",
              "        if (!dataTable) return;\n",
              "\n",
              "        const docLinkHtml = 'Like what you see? Visit the ' +\n",
              "          '<a target=\"_blank\" href=https://colab.research.google.com/notebooks/data_table.ipynb>data table notebook</a>'\n",
              "          + ' to learn more about interactive tables.';\n",
              "        element.innerHTML = '';\n",
              "        dataTable['output_type'] = 'display_data';\n",
              "        await google.colab.output.renderOutput(dataTable, element);\n",
              "        const docLink = document.createElement('div');\n",
              "        docLink.innerHTML = docLinkHtml;\n",
              "        element.appendChild(docLink);\n",
              "      }\n",
              "    </script>\n",
              "  </div>\n",
              "\n",
              "\n",
              "<div id=\"df-7ded4804-fd95-418b-b03b-815caef12cf0\">\n",
              "  <button class=\"colab-df-quickchart\" onclick=\"quickchart('df-7ded4804-fd95-418b-b03b-815caef12cf0')\"\n",
              "            title=\"Suggest charts.\"\n",
              "            style=\"display:none;\">\n",
              "\n",
              "<svg xmlns=\"http://www.w3.org/2000/svg\" height=\"24px\"viewBox=\"0 0 24 24\"\n",
              "     width=\"24px\">\n",
              "    <g>\n",
              "        <path d=\"M19 3H5c-1.1 0-2 .9-2 2v14c0 1.1.9 2 2 2h14c1.1 0 2-.9 2-2V5c0-1.1-.9-2-2-2zM9 17H7v-7h2v7zm4 0h-2V7h2v10zm4 0h-2v-4h2v4z\"/>\n",
              "    </g>\n",
              "</svg>\n",
              "  </button>\n",
              "\n",
              "<style>\n",
              "  .colab-df-quickchart {\n",
              "    background-color: #E8F0FE;\n",
              "    border: none;\n",
              "    border-radius: 50%;\n",
              "    cursor: pointer;\n",
              "    display: none;\n",
              "    fill: #1967D2;\n",
              "    height: 32px;\n",
              "    padding: 0 0 0 0;\n",
              "    width: 32px;\n",
              "  }\n",
              "\n",
              "  .colab-df-quickchart:hover {\n",
              "    background-color: #E2EBFA;\n",
              "    box-shadow: 0px 1px 2px rgba(60, 64, 67, 0.3), 0px 1px 3px 1px rgba(60, 64, 67, 0.15);\n",
              "    fill: #174EA6;\n",
              "  }\n",
              "\n",
              "  [theme=dark] .colab-df-quickchart {\n",
              "    background-color: #3B4455;\n",
              "    fill: #D2E3FC;\n",
              "  }\n",
              "\n",
              "  [theme=dark] .colab-df-quickchart:hover {\n",
              "    background-color: #434B5C;\n",
              "    box-shadow: 0px 1px 3px 1px rgba(0, 0, 0, 0.15);\n",
              "    filter: drop-shadow(0px 1px 2px rgba(0, 0, 0, 0.3));\n",
              "    fill: #FFFFFF;\n",
              "  }\n",
              "</style>\n",
              "\n",
              "  <script>\n",
              "    async function quickchart(key) {\n",
              "      const charts = await google.colab.kernel.invokeFunction(\n",
              "          'suggestCharts', [key], {});\n",
              "    }\n",
              "    (() => {\n",
              "      let quickchartButtonEl =\n",
              "        document.querySelector('#df-7ded4804-fd95-418b-b03b-815caef12cf0 button');\n",
              "      quickchartButtonEl.style.display =\n",
              "        google.colab.kernel.accessAllowed ? 'block' : 'none';\n",
              "    })();\n",
              "  </script>\n",
              "</div>\n",
              "    </div>\n",
              "  </div>\n"
            ]
          },
          "metadata": {},
          "execution_count": 286
        }
      ]
    },
    {
      "cell_type": "code",
      "source": [
        "# Calcula mediana\n",
        "mediana_intervalo = data['INTERVALO_VACINAS'].median()\n",
        "mediana_intervalo"
      ],
      "metadata": {
        "colab": {
          "base_uri": "https://localhost:8080/"
        },
        "id": "3s6idcBJy-RJ",
        "outputId": "5ff07000-e516-43de-96c6-1b7ffd1ecfd8"
      },
      "execution_count": null,
      "outputs": [
        {
          "output_type": "execute_result",
          "data": {
            "text/plain": [
              "40.0"
            ]
          },
          "metadata": {},
          "execution_count": 287
        }
      ]
    },
    {
      "cell_type": "code",
      "source": [
        "# Remove coluna\n",
        "data.drop(['INTERVALO_VACINAS'], axis=1, inplace=True)"
      ],
      "metadata": {
        "id": "N-OktibIy-UT"
      },
      "execution_count": null,
      "outputs": []
    },
    {
      "cell_type": "code",
      "source": [
        "# Armazena a quantidade de dias da primeira dose até a notificação\n",
        "data['DIAS_DOSE1'] = ''"
      ],
      "metadata": {
        "id": "pFyDfQZ1y-Xo"
      },
      "execution_count": null,
      "outputs": []
    },
    {
      "cell_type": "code",
      "source": [
        "# Calcula a quantidade de dias da primeira dose até a notificação\n",
        "def calc_dias_vac(row):\n",
        "  if row['VACINA_COV'] != 1:\n",
        "    return 0\n",
        "\n",
        "  if pd.isna(row['DOSE_1_COV']) and pd.isna(row['DOSE_2_COV']):\n",
        "    return np.nan\n",
        "\n",
        "  if pd.isna(row['DOSE_1_COV']):\n",
        "    dataDose2 = datetime.strptime(row['DOSE_2_COV'], '%d/%m/%Y')\n",
        "    data1 = dataDose2 - timedelta(days=mediana_intervalo)\n",
        "  else:\n",
        "    data1 = datetime.strptime(row['DOSE_1_COV'], '%d/%m/%Y')\n",
        "\n",
        "  data2 = datetime.strptime(row['DT_NOTIFIC'], '%d/%m/%Y')\n",
        "  return abs((data2 - data1).days)\n",
        "\n",
        "# Chama a função e atribui o resultado à coluna 'DIAS_DOSE1'\n",
        "data['DIAS_DOSE1'] = data.apply(calc_dias_vac, axis=1)"
      ],
      "metadata": {
        "id": "pq9gybRAy-an"
      },
      "execution_count": null,
      "outputs": []
    },
    {
      "cell_type": "code",
      "source": [
        "data[['DOSE_1_COV','DOSE_2_COV', 'DT_NOTIFIC', 'DIAS_DOSE1', 'DIAS_DOSE2']]"
      ],
      "metadata": {
        "colab": {
          "base_uri": "https://localhost:8080/"
        },
        "id": "k54PBFRky-dx",
        "outputId": "4c9e8679-c354-41fc-d65c-86c6e62eec5f"
      },
      "execution_count": null,
      "outputs": [
        {
          "output_type": "execute_result",
          "data": {
            "text/plain": [
              "       DOSE_1_COV  DOSE_2_COV  DT_NOTIFIC  DIAS_DOSE1  DIAS_DOSE2\n",
              "0      17/08/2021  05/11/2021  05/01/2022       141.0          61\n",
              "1      27/03/2021  19/04/2021  07/01/2022       286.0         263\n",
              "2      10/06/2021  30/09/2021  10/01/2022       214.0         102\n",
              "3             NaN         NaN  19/01/2022         0.0           0\n",
              "4      24/06/2021  16/09/2021  10/01/2022       200.0         116\n",
              "...           ...         ...         ...         ...         ...\n",
              "17427         NaN         NaN  29/06/2022         0.0           0\n",
              "17428  19/02/2021  16/03/2021  09/08/2022       536.0         511\n",
              "17429         NaN  16/03/2021  30/08/2022       572.0         532\n",
              "17430  23/03/2021  14/04/2021  10/11/2022       597.0         575\n",
              "17431  30/03/2021  27/04/2021  24/12/2022       634.0         606\n",
              "\n",
              "[17432 rows x 5 columns]"
            ],
            "text/html": [
              "\n",
              "  <div id=\"df-5a0bef84-f894-4938-b7e7-2237c068d9c3\" class=\"colab-df-container\">\n",
              "    <div>\n",
              "<style scoped>\n",
              "    .dataframe tbody tr th:only-of-type {\n",
              "        vertical-align: middle;\n",
              "    }\n",
              "\n",
              "    .dataframe tbody tr th {\n",
              "        vertical-align: top;\n",
              "    }\n",
              "\n",
              "    .dataframe thead th {\n",
              "        text-align: right;\n",
              "    }\n",
              "</style>\n",
              "<table border=\"1\" class=\"dataframe\">\n",
              "  <thead>\n",
              "    <tr style=\"text-align: right;\">\n",
              "      <th></th>\n",
              "      <th>DOSE_1_COV</th>\n",
              "      <th>DOSE_2_COV</th>\n",
              "      <th>DT_NOTIFIC</th>\n",
              "      <th>DIAS_DOSE1</th>\n",
              "      <th>DIAS_DOSE2</th>\n",
              "    </tr>\n",
              "  </thead>\n",
              "  <tbody>\n",
              "    <tr>\n",
              "      <th>0</th>\n",
              "      <td>17/08/2021</td>\n",
              "      <td>05/11/2021</td>\n",
              "      <td>05/01/2022</td>\n",
              "      <td>141.0</td>\n",
              "      <td>61</td>\n",
              "    </tr>\n",
              "    <tr>\n",
              "      <th>1</th>\n",
              "      <td>27/03/2021</td>\n",
              "      <td>19/04/2021</td>\n",
              "      <td>07/01/2022</td>\n",
              "      <td>286.0</td>\n",
              "      <td>263</td>\n",
              "    </tr>\n",
              "    <tr>\n",
              "      <th>2</th>\n",
              "      <td>10/06/2021</td>\n",
              "      <td>30/09/2021</td>\n",
              "      <td>10/01/2022</td>\n",
              "      <td>214.0</td>\n",
              "      <td>102</td>\n",
              "    </tr>\n",
              "    <tr>\n",
              "      <th>3</th>\n",
              "      <td>NaN</td>\n",
              "      <td>NaN</td>\n",
              "      <td>19/01/2022</td>\n",
              "      <td>0.0</td>\n",
              "      <td>0</td>\n",
              "    </tr>\n",
              "    <tr>\n",
              "      <th>4</th>\n",
              "      <td>24/06/2021</td>\n",
              "      <td>16/09/2021</td>\n",
              "      <td>10/01/2022</td>\n",
              "      <td>200.0</td>\n",
              "      <td>116</td>\n",
              "    </tr>\n",
              "    <tr>\n",
              "      <th>...</th>\n",
              "      <td>...</td>\n",
              "      <td>...</td>\n",
              "      <td>...</td>\n",
              "      <td>...</td>\n",
              "      <td>...</td>\n",
              "    </tr>\n",
              "    <tr>\n",
              "      <th>17427</th>\n",
              "      <td>NaN</td>\n",
              "      <td>NaN</td>\n",
              "      <td>29/06/2022</td>\n",
              "      <td>0.0</td>\n",
              "      <td>0</td>\n",
              "    </tr>\n",
              "    <tr>\n",
              "      <th>17428</th>\n",
              "      <td>19/02/2021</td>\n",
              "      <td>16/03/2021</td>\n",
              "      <td>09/08/2022</td>\n",
              "      <td>536.0</td>\n",
              "      <td>511</td>\n",
              "    </tr>\n",
              "    <tr>\n",
              "      <th>17429</th>\n",
              "      <td>NaN</td>\n",
              "      <td>16/03/2021</td>\n",
              "      <td>30/08/2022</td>\n",
              "      <td>572.0</td>\n",
              "      <td>532</td>\n",
              "    </tr>\n",
              "    <tr>\n",
              "      <th>17430</th>\n",
              "      <td>23/03/2021</td>\n",
              "      <td>14/04/2021</td>\n",
              "      <td>10/11/2022</td>\n",
              "      <td>597.0</td>\n",
              "      <td>575</td>\n",
              "    </tr>\n",
              "    <tr>\n",
              "      <th>17431</th>\n",
              "      <td>30/03/2021</td>\n",
              "      <td>27/04/2021</td>\n",
              "      <td>24/12/2022</td>\n",
              "      <td>634.0</td>\n",
              "      <td>606</td>\n",
              "    </tr>\n",
              "  </tbody>\n",
              "</table>\n",
              "<p>17432 rows × 5 columns</p>\n",
              "</div>\n",
              "    <div class=\"colab-df-buttons\">\n",
              "\n",
              "  <div class=\"colab-df-container\">\n",
              "    <button class=\"colab-df-convert\" onclick=\"convertToInteractive('df-5a0bef84-f894-4938-b7e7-2237c068d9c3')\"\n",
              "            title=\"Convert this dataframe to an interactive table.\"\n",
              "            style=\"display:none;\">\n",
              "\n",
              "  <svg xmlns=\"http://www.w3.org/2000/svg\" height=\"24px\" viewBox=\"0 -960 960 960\">\n",
              "    <path d=\"M120-120v-720h720v720H120Zm60-500h600v-160H180v160Zm220 220h160v-160H400v160Zm0 220h160v-160H400v160ZM180-400h160v-160H180v160Zm440 0h160v-160H620v160ZM180-180h160v-160H180v160Zm440 0h160v-160H620v160Z\"/>\n",
              "  </svg>\n",
              "    </button>\n",
              "\n",
              "  <style>\n",
              "    .colab-df-container {\n",
              "      display:flex;\n",
              "      gap: 12px;\n",
              "    }\n",
              "\n",
              "    .colab-df-convert {\n",
              "      background-color: #E8F0FE;\n",
              "      border: none;\n",
              "      border-radius: 50%;\n",
              "      cursor: pointer;\n",
              "      display: none;\n",
              "      fill: #1967D2;\n",
              "      height: 32px;\n",
              "      padding: 0 0 0 0;\n",
              "      width: 32px;\n",
              "    }\n",
              "\n",
              "    .colab-df-convert:hover {\n",
              "      background-color: #E2EBFA;\n",
              "      box-shadow: 0px 1px 2px rgba(60, 64, 67, 0.3), 0px 1px 3px 1px rgba(60, 64, 67, 0.15);\n",
              "      fill: #174EA6;\n",
              "    }\n",
              "\n",
              "    .colab-df-buttons div {\n",
              "      margin-bottom: 4px;\n",
              "    }\n",
              "\n",
              "    [theme=dark] .colab-df-convert {\n",
              "      background-color: #3B4455;\n",
              "      fill: #D2E3FC;\n",
              "    }\n",
              "\n",
              "    [theme=dark] .colab-df-convert:hover {\n",
              "      background-color: #434B5C;\n",
              "      box-shadow: 0px 1px 3px 1px rgba(0, 0, 0, 0.15);\n",
              "      filter: drop-shadow(0px 1px 2px rgba(0, 0, 0, 0.3));\n",
              "      fill: #FFFFFF;\n",
              "    }\n",
              "  </style>\n",
              "\n",
              "    <script>\n",
              "      const buttonEl =\n",
              "        document.querySelector('#df-5a0bef84-f894-4938-b7e7-2237c068d9c3 button.colab-df-convert');\n",
              "      buttonEl.style.display =\n",
              "        google.colab.kernel.accessAllowed ? 'block' : 'none';\n",
              "\n",
              "      async function convertToInteractive(key) {\n",
              "        const element = document.querySelector('#df-5a0bef84-f894-4938-b7e7-2237c068d9c3');\n",
              "        const dataTable =\n",
              "          await google.colab.kernel.invokeFunction('convertToInteractive',\n",
              "                                                    [key], {});\n",
              "        if (!dataTable) return;\n",
              "\n",
              "        const docLinkHtml = 'Like what you see? Visit the ' +\n",
              "          '<a target=\"_blank\" href=https://colab.research.google.com/notebooks/data_table.ipynb>data table notebook</a>'\n",
              "          + ' to learn more about interactive tables.';\n",
              "        element.innerHTML = '';\n",
              "        dataTable['output_type'] = 'display_data';\n",
              "        await google.colab.output.renderOutput(dataTable, element);\n",
              "        const docLink = document.createElement('div');\n",
              "        docLink.innerHTML = docLinkHtml;\n",
              "        element.appendChild(docLink);\n",
              "      }\n",
              "    </script>\n",
              "  </div>\n",
              "\n",
              "\n",
              "<div id=\"df-49d05d61-5ae5-4cc7-8b8e-4c876b83fb03\">\n",
              "  <button class=\"colab-df-quickchart\" onclick=\"quickchart('df-49d05d61-5ae5-4cc7-8b8e-4c876b83fb03')\"\n",
              "            title=\"Suggest charts.\"\n",
              "            style=\"display:none;\">\n",
              "\n",
              "<svg xmlns=\"http://www.w3.org/2000/svg\" height=\"24px\"viewBox=\"0 0 24 24\"\n",
              "     width=\"24px\">\n",
              "    <g>\n",
              "        <path d=\"M19 3H5c-1.1 0-2 .9-2 2v14c0 1.1.9 2 2 2h14c1.1 0 2-.9 2-2V5c0-1.1-.9-2-2-2zM9 17H7v-7h2v7zm4 0h-2V7h2v10zm4 0h-2v-4h2v4z\"/>\n",
              "    </g>\n",
              "</svg>\n",
              "  </button>\n",
              "\n",
              "<style>\n",
              "  .colab-df-quickchart {\n",
              "    background-color: #E8F0FE;\n",
              "    border: none;\n",
              "    border-radius: 50%;\n",
              "    cursor: pointer;\n",
              "    display: none;\n",
              "    fill: #1967D2;\n",
              "    height: 32px;\n",
              "    padding: 0 0 0 0;\n",
              "    width: 32px;\n",
              "  }\n",
              "\n",
              "  .colab-df-quickchart:hover {\n",
              "    background-color: #E2EBFA;\n",
              "    box-shadow: 0px 1px 2px rgba(60, 64, 67, 0.3), 0px 1px 3px 1px rgba(60, 64, 67, 0.15);\n",
              "    fill: #174EA6;\n",
              "  }\n",
              "\n",
              "  [theme=dark] .colab-df-quickchart {\n",
              "    background-color: #3B4455;\n",
              "    fill: #D2E3FC;\n",
              "  }\n",
              "\n",
              "  [theme=dark] .colab-df-quickchart:hover {\n",
              "    background-color: #434B5C;\n",
              "    box-shadow: 0px 1px 3px 1px rgba(0, 0, 0, 0.15);\n",
              "    filter: drop-shadow(0px 1px 2px rgba(0, 0, 0, 0.3));\n",
              "    fill: #FFFFFF;\n",
              "  }\n",
              "</style>\n",
              "\n",
              "  <script>\n",
              "    async function quickchart(key) {\n",
              "      const charts = await google.colab.kernel.invokeFunction(\n",
              "          'suggestCharts', [key], {});\n",
              "    }\n",
              "    (() => {\n",
              "      let quickchartButtonEl =\n",
              "        document.querySelector('#df-49d05d61-5ae5-4cc7-8b8e-4c876b83fb03 button');\n",
              "      quickchartButtonEl.style.display =\n",
              "        google.colab.kernel.accessAllowed ? 'block' : 'none';\n",
              "    })();\n",
              "  </script>\n",
              "</div>\n",
              "    </div>\n",
              "  </div>\n"
            ]
          },
          "metadata": {},
          "execution_count": 291
        }
      ]
    },
    {
      "cell_type": "code",
      "source": [
        "# Conta os valores NaN\n",
        "data['DIAS_DOSE1'].isnull().sum()"
      ],
      "metadata": {
        "colab": {
          "base_uri": "https://localhost:8080/"
        },
        "id": "SSEHXgCny-g7",
        "outputId": "cdf86c00-a1b8-4535-a2f4-e0cc76ed1dd2"
      },
      "execution_count": null,
      "outputs": [
        {
          "output_type": "execute_result",
          "data": {
            "text/plain": [
              "392"
            ]
          },
          "metadata": {},
          "execution_count": 292
        }
      ]
    },
    {
      "cell_type": "code",
      "source": [
        "# Calcula a mediana\n",
        "data['DIAS_DOSE1'].median()"
      ],
      "metadata": {
        "colab": {
          "base_uri": "https://localhost:8080/"
        },
        "id": "lJDVYE0Xy-j8",
        "outputId": "53d76a34-1c07-4634-b971-392bc17ce48a"
      },
      "execution_count": null,
      "outputs": [
        {
          "output_type": "execute_result",
          "data": {
            "text/plain": [
              "323.5"
            ]
          },
          "metadata": {},
          "execution_count": 293
        }
      ]
    },
    {
      "cell_type": "code",
      "source": [
        "# Preenche valores NaN com a moda mediana\n",
        "data['DIAS_DOSE1'].fillna(data['DIAS_DOSE1'].median(), inplace=True)\n",
        "\n",
        "# Converte o tipo de dados de float para int\n",
        "data['DIAS_DOSE1'] = data['DIAS_DOSE1'].astype(int)"
      ],
      "metadata": {
        "id": "dy-YVegay-nE"
      },
      "execution_count": null,
      "outputs": []
    },
    {
      "cell_type": "code",
      "source": [
        "data['DIAS_DOSE1'].info()"
      ],
      "metadata": {
        "colab": {
          "base_uri": "https://localhost:8080/"
        },
        "id": "Hn87Qpb_y-qY",
        "outputId": "4e5a0884-9c50-434d-8fda-2d64d748234d"
      },
      "execution_count": null,
      "outputs": [
        {
          "output_type": "stream",
          "name": "stdout",
          "text": [
            "<class 'pandas.core.series.Series'>\n",
            "RangeIndex: 17432 entries, 0 to 17431\n",
            "Series name: DIAS_DOSE1\n",
            "Non-Null Count  Dtype\n",
            "--------------  -----\n",
            "17432 non-null  int64\n",
            "dtypes: int64(1)\n",
            "memory usage: 136.3 KB\n"
          ]
        }
      ]
    },
    {
      "cell_type": "code",
      "source": [
        "data[['DOSE_1_COV','DOSE_2_COV', 'DT_NOTIFIC', 'DIAS_DOSE1','DIAS_DOSE2']]"
      ],
      "metadata": {
        "colab": {
          "base_uri": "https://localhost:8080/"
        },
        "id": "KWaQ4LGFy-tj",
        "outputId": "1bff02ce-8ddf-4513-9272-259a1502b44a"
      },
      "execution_count": null,
      "outputs": [
        {
          "output_type": "execute_result",
          "data": {
            "text/plain": [
              "       DOSE_1_COV  DOSE_2_COV  DT_NOTIFIC  DIAS_DOSE1  DIAS_DOSE2\n",
              "0      17/08/2021  05/11/2021  05/01/2022         141          61\n",
              "1      27/03/2021  19/04/2021  07/01/2022         286         263\n",
              "2      10/06/2021  30/09/2021  10/01/2022         214         102\n",
              "3             NaN         NaN  19/01/2022           0           0\n",
              "4      24/06/2021  16/09/2021  10/01/2022         200         116\n",
              "...           ...         ...         ...         ...         ...\n",
              "17427         NaN         NaN  29/06/2022           0           0\n",
              "17428  19/02/2021  16/03/2021  09/08/2022         536         511\n",
              "17429         NaN  16/03/2021  30/08/2022         572         532\n",
              "17430  23/03/2021  14/04/2021  10/11/2022         597         575\n",
              "17431  30/03/2021  27/04/2021  24/12/2022         634         606\n",
              "\n",
              "[17432 rows x 5 columns]"
            ],
            "text/html": [
              "\n",
              "  <div id=\"df-8ea0b9e1-a447-49a5-b48a-4b126fa6c39e\" class=\"colab-df-container\">\n",
              "    <div>\n",
              "<style scoped>\n",
              "    .dataframe tbody tr th:only-of-type {\n",
              "        vertical-align: middle;\n",
              "    }\n",
              "\n",
              "    .dataframe tbody tr th {\n",
              "        vertical-align: top;\n",
              "    }\n",
              "\n",
              "    .dataframe thead th {\n",
              "        text-align: right;\n",
              "    }\n",
              "</style>\n",
              "<table border=\"1\" class=\"dataframe\">\n",
              "  <thead>\n",
              "    <tr style=\"text-align: right;\">\n",
              "      <th></th>\n",
              "      <th>DOSE_1_COV</th>\n",
              "      <th>DOSE_2_COV</th>\n",
              "      <th>DT_NOTIFIC</th>\n",
              "      <th>DIAS_DOSE1</th>\n",
              "      <th>DIAS_DOSE2</th>\n",
              "    </tr>\n",
              "  </thead>\n",
              "  <tbody>\n",
              "    <tr>\n",
              "      <th>0</th>\n",
              "      <td>17/08/2021</td>\n",
              "      <td>05/11/2021</td>\n",
              "      <td>05/01/2022</td>\n",
              "      <td>141</td>\n",
              "      <td>61</td>\n",
              "    </tr>\n",
              "    <tr>\n",
              "      <th>1</th>\n",
              "      <td>27/03/2021</td>\n",
              "      <td>19/04/2021</td>\n",
              "      <td>07/01/2022</td>\n",
              "      <td>286</td>\n",
              "      <td>263</td>\n",
              "    </tr>\n",
              "    <tr>\n",
              "      <th>2</th>\n",
              "      <td>10/06/2021</td>\n",
              "      <td>30/09/2021</td>\n",
              "      <td>10/01/2022</td>\n",
              "      <td>214</td>\n",
              "      <td>102</td>\n",
              "    </tr>\n",
              "    <tr>\n",
              "      <th>3</th>\n",
              "      <td>NaN</td>\n",
              "      <td>NaN</td>\n",
              "      <td>19/01/2022</td>\n",
              "      <td>0</td>\n",
              "      <td>0</td>\n",
              "    </tr>\n",
              "    <tr>\n",
              "      <th>4</th>\n",
              "      <td>24/06/2021</td>\n",
              "      <td>16/09/2021</td>\n",
              "      <td>10/01/2022</td>\n",
              "      <td>200</td>\n",
              "      <td>116</td>\n",
              "    </tr>\n",
              "    <tr>\n",
              "      <th>...</th>\n",
              "      <td>...</td>\n",
              "      <td>...</td>\n",
              "      <td>...</td>\n",
              "      <td>...</td>\n",
              "      <td>...</td>\n",
              "    </tr>\n",
              "    <tr>\n",
              "      <th>17427</th>\n",
              "      <td>NaN</td>\n",
              "      <td>NaN</td>\n",
              "      <td>29/06/2022</td>\n",
              "      <td>0</td>\n",
              "      <td>0</td>\n",
              "    </tr>\n",
              "    <tr>\n",
              "      <th>17428</th>\n",
              "      <td>19/02/2021</td>\n",
              "      <td>16/03/2021</td>\n",
              "      <td>09/08/2022</td>\n",
              "      <td>536</td>\n",
              "      <td>511</td>\n",
              "    </tr>\n",
              "    <tr>\n",
              "      <th>17429</th>\n",
              "      <td>NaN</td>\n",
              "      <td>16/03/2021</td>\n",
              "      <td>30/08/2022</td>\n",
              "      <td>572</td>\n",
              "      <td>532</td>\n",
              "    </tr>\n",
              "    <tr>\n",
              "      <th>17430</th>\n",
              "      <td>23/03/2021</td>\n",
              "      <td>14/04/2021</td>\n",
              "      <td>10/11/2022</td>\n",
              "      <td>597</td>\n",
              "      <td>575</td>\n",
              "    </tr>\n",
              "    <tr>\n",
              "      <th>17431</th>\n",
              "      <td>30/03/2021</td>\n",
              "      <td>27/04/2021</td>\n",
              "      <td>24/12/2022</td>\n",
              "      <td>634</td>\n",
              "      <td>606</td>\n",
              "    </tr>\n",
              "  </tbody>\n",
              "</table>\n",
              "<p>17432 rows × 5 columns</p>\n",
              "</div>\n",
              "    <div class=\"colab-df-buttons\">\n",
              "\n",
              "  <div class=\"colab-df-container\">\n",
              "    <button class=\"colab-df-convert\" onclick=\"convertToInteractive('df-8ea0b9e1-a447-49a5-b48a-4b126fa6c39e')\"\n",
              "            title=\"Convert this dataframe to an interactive table.\"\n",
              "            style=\"display:none;\">\n",
              "\n",
              "  <svg xmlns=\"http://www.w3.org/2000/svg\" height=\"24px\" viewBox=\"0 -960 960 960\">\n",
              "    <path d=\"M120-120v-720h720v720H120Zm60-500h600v-160H180v160Zm220 220h160v-160H400v160Zm0 220h160v-160H400v160ZM180-400h160v-160H180v160Zm440 0h160v-160H620v160ZM180-180h160v-160H180v160Zm440 0h160v-160H620v160Z\"/>\n",
              "  </svg>\n",
              "    </button>\n",
              "\n",
              "  <style>\n",
              "    .colab-df-container {\n",
              "      display:flex;\n",
              "      gap: 12px;\n",
              "    }\n",
              "\n",
              "    .colab-df-convert {\n",
              "      background-color: #E8F0FE;\n",
              "      border: none;\n",
              "      border-radius: 50%;\n",
              "      cursor: pointer;\n",
              "      display: none;\n",
              "      fill: #1967D2;\n",
              "      height: 32px;\n",
              "      padding: 0 0 0 0;\n",
              "      width: 32px;\n",
              "    }\n",
              "\n",
              "    .colab-df-convert:hover {\n",
              "      background-color: #E2EBFA;\n",
              "      box-shadow: 0px 1px 2px rgba(60, 64, 67, 0.3), 0px 1px 3px 1px rgba(60, 64, 67, 0.15);\n",
              "      fill: #174EA6;\n",
              "    }\n",
              "\n",
              "    .colab-df-buttons div {\n",
              "      margin-bottom: 4px;\n",
              "    }\n",
              "\n",
              "    [theme=dark] .colab-df-convert {\n",
              "      background-color: #3B4455;\n",
              "      fill: #D2E3FC;\n",
              "    }\n",
              "\n",
              "    [theme=dark] .colab-df-convert:hover {\n",
              "      background-color: #434B5C;\n",
              "      box-shadow: 0px 1px 3px 1px rgba(0, 0, 0, 0.15);\n",
              "      filter: drop-shadow(0px 1px 2px rgba(0, 0, 0, 0.3));\n",
              "      fill: #FFFFFF;\n",
              "    }\n",
              "  </style>\n",
              "\n",
              "    <script>\n",
              "      const buttonEl =\n",
              "        document.querySelector('#df-8ea0b9e1-a447-49a5-b48a-4b126fa6c39e button.colab-df-convert');\n",
              "      buttonEl.style.display =\n",
              "        google.colab.kernel.accessAllowed ? 'block' : 'none';\n",
              "\n",
              "      async function convertToInteractive(key) {\n",
              "        const element = document.querySelector('#df-8ea0b9e1-a447-49a5-b48a-4b126fa6c39e');\n",
              "        const dataTable =\n",
              "          await google.colab.kernel.invokeFunction('convertToInteractive',\n",
              "                                                    [key], {});\n",
              "        if (!dataTable) return;\n",
              "\n",
              "        const docLinkHtml = 'Like what you see? Visit the ' +\n",
              "          '<a target=\"_blank\" href=https://colab.research.google.com/notebooks/data_table.ipynb>data table notebook</a>'\n",
              "          + ' to learn more about interactive tables.';\n",
              "        element.innerHTML = '';\n",
              "        dataTable['output_type'] = 'display_data';\n",
              "        await google.colab.output.renderOutput(dataTable, element);\n",
              "        const docLink = document.createElement('div');\n",
              "        docLink.innerHTML = docLinkHtml;\n",
              "        element.appendChild(docLink);\n",
              "      }\n",
              "    </script>\n",
              "  </div>\n",
              "\n",
              "\n",
              "<div id=\"df-ad529a5b-9bb1-4985-9c4e-10eee818369d\">\n",
              "  <button class=\"colab-df-quickchart\" onclick=\"quickchart('df-ad529a5b-9bb1-4985-9c4e-10eee818369d')\"\n",
              "            title=\"Suggest charts.\"\n",
              "            style=\"display:none;\">\n",
              "\n",
              "<svg xmlns=\"http://www.w3.org/2000/svg\" height=\"24px\"viewBox=\"0 0 24 24\"\n",
              "     width=\"24px\">\n",
              "    <g>\n",
              "        <path d=\"M19 3H5c-1.1 0-2 .9-2 2v14c0 1.1.9 2 2 2h14c1.1 0 2-.9 2-2V5c0-1.1-.9-2-2-2zM9 17H7v-7h2v7zm4 0h-2V7h2v10zm4 0h-2v-4h2v4z\"/>\n",
              "    </g>\n",
              "</svg>\n",
              "  </button>\n",
              "\n",
              "<style>\n",
              "  .colab-df-quickchart {\n",
              "    background-color: #E8F0FE;\n",
              "    border: none;\n",
              "    border-radius: 50%;\n",
              "    cursor: pointer;\n",
              "    display: none;\n",
              "    fill: #1967D2;\n",
              "    height: 32px;\n",
              "    padding: 0 0 0 0;\n",
              "    width: 32px;\n",
              "  }\n",
              "\n",
              "  .colab-df-quickchart:hover {\n",
              "    background-color: #E2EBFA;\n",
              "    box-shadow: 0px 1px 2px rgba(60, 64, 67, 0.3), 0px 1px 3px 1px rgba(60, 64, 67, 0.15);\n",
              "    fill: #174EA6;\n",
              "  }\n",
              "\n",
              "  [theme=dark] .colab-df-quickchart {\n",
              "    background-color: #3B4455;\n",
              "    fill: #D2E3FC;\n",
              "  }\n",
              "\n",
              "  [theme=dark] .colab-df-quickchart:hover {\n",
              "    background-color: #434B5C;\n",
              "    box-shadow: 0px 1px 3px 1px rgba(0, 0, 0, 0.15);\n",
              "    filter: drop-shadow(0px 1px 2px rgba(0, 0, 0, 0.3));\n",
              "    fill: #FFFFFF;\n",
              "  }\n",
              "</style>\n",
              "\n",
              "  <script>\n",
              "    async function quickchart(key) {\n",
              "      const charts = await google.colab.kernel.invokeFunction(\n",
              "          'suggestCharts', [key], {});\n",
              "    }\n",
              "    (() => {\n",
              "      let quickchartButtonEl =\n",
              "        document.querySelector('#df-ad529a5b-9bb1-4985-9c4e-10eee818369d button');\n",
              "      quickchartButtonEl.style.display =\n",
              "        google.colab.kernel.accessAllowed ? 'block' : 'none';\n",
              "    })();\n",
              "  </script>\n",
              "</div>\n",
              "    </div>\n",
              "  </div>\n"
            ]
          },
          "metadata": {},
          "execution_count": 296
        }
      ]
    },
    {
      "cell_type": "code",
      "source": [
        "data.info()"
      ],
      "metadata": {
        "colab": {
          "base_uri": "https://localhost:8080/"
        },
        "id": "_kLht80Ly-wt",
        "outputId": "f0098de0-2da3-448f-ce44-0258c29dc34b"
      },
      "execution_count": null,
      "outputs": [
        {
          "output_type": "stream",
          "name": "stdout",
          "text": [
            "<class 'pandas.core.frame.DataFrame'>\n",
            "RangeIndex: 17432 entries, 0 to 17431\n",
            "Data columns (total 48 columns):\n",
            " #   Column          Non-Null Count  Dtype  \n",
            "---  ------          --------------  -----  \n",
            " 0   DT_NOTIFIC      17432 non-null  object \n",
            " 1   DT_SIN_PRI      17432 non-null  object \n",
            " 2   CS_SEXO         17432 non-null  object \n",
            " 3   NU_IDADE_N      17432 non-null  int64  \n",
            " 4   CS_GESTANT      17432 non-null  float64\n",
            " 5   NOSOCOMIAL      17432 non-null  float64\n",
            " 6   FEBRE           17432 non-null  float64\n",
            " 7   TOSSE           17432 non-null  float64\n",
            " 8   GARGANTA        17432 non-null  float64\n",
            " 9   DISPNEIA        17432 non-null  float64\n",
            " 10  DESC_RESP       17432 non-null  float64\n",
            " 11  SATURACAO       17432 non-null  float64\n",
            " 12  DIARREIA        17432 non-null  float64\n",
            " 13  VOMITO          17432 non-null  float64\n",
            " 14  OUTRO_SIN       17432 non-null  float64\n",
            " 15  FATOR_RISC      17432 non-null  int64  \n",
            " 16  CARDIOPATI      17432 non-null  float64\n",
            " 17  DIABETES        17432 non-null  float64\n",
            " 18  OUT_MORBI       17432 non-null  float64\n",
            " 19  ANTIVIRAL       17432 non-null  float64\n",
            " 20  HOSPITAL        17432 non-null  float64\n",
            " 21  DT_INTERNA      16946 non-null  object \n",
            " 22  UTI             17432 non-null  float64\n",
            " 23  SUPORT_VEN      17432 non-null  float64\n",
            " 24  RAIOX_RES       17432 non-null  float64\n",
            " 25  AMOSTRA         17432 non-null  float64\n",
            " 26  TP_AMOSTRA      17432 non-null  float64\n",
            " 27  PCR_RESUL       17432 non-null  float64\n",
            " 28  DT_PCR          11096 non-null  object \n",
            " 29  POS_PCROUT      17432 non-null  float64\n",
            " 30  CRITERIO        17432 non-null  float64\n",
            " 31  EVOLUCAO        17432 non-null  int64  \n",
            " 32  DT_EVOLUCA      17295 non-null  object \n",
            " 33  DOR_ABD         17432 non-null  float64\n",
            " 34  FADIGA          17432 non-null  float64\n",
            " 35  PERD_OLFT       17432 non-null  float64\n",
            " 36  PERD_PALA       17432 non-null  float64\n",
            " 37  TOMO_RES        17432 non-null  float64\n",
            " 38  RES_AN          17432 non-null  float64\n",
            " 39  VACINA_COV      17432 non-null  float64\n",
            " 40  DOSE_1_COV      12831 non-null  object \n",
            " 41  DOSE_2_COV      12168 non-null  object \n",
            " 42  QTD_DIAS        17432 non-null  int64  \n",
            " 43  DIAS_INTERNA    17432 non-null  int64  \n",
            " 44  SINT_ATE_NOTIF  17432 non-null  int64  \n",
            " 45  PCR_EVOLUCAO    17432 non-null  int64  \n",
            " 46  DIAS_DOSE2      17432 non-null  int64  \n",
            " 47  DIAS_DOSE1      17432 non-null  int64  \n",
            "dtypes: float64(31), int64(9), object(8)\n",
            "memory usage: 6.4+ MB\n"
          ]
        }
      ]
    },
    {
      "cell_type": "code",
      "source": [
        "# Remove os atributos com datas\n",
        "data.drop(['DT_NOTIFIC', 'DT_SIN_PRI', 'DT_INTERNA', 'DT_PCR', 'DT_EVOLUCA', 'DOSE_1_COV', 'DOSE_2_COV'], axis = 1, inplace = True)\n",
        "data.shape"
      ],
      "metadata": {
        "colab": {
          "base_uri": "https://localhost:8080/"
        },
        "id": "Pkw5erOY3--9",
        "outputId": "0b3b3d5e-2947-46df-95ee-9efff1931836"
      },
      "execution_count": null,
      "outputs": [
        {
          "output_type": "execute_result",
          "data": {
            "text/plain": [
              "(17432, 41)"
            ]
          },
          "metadata": {},
          "execution_count": 298
        }
      ]
    },
    {
      "cell_type": "markdown",
      "source": [
        "# Conversão do tipo de dado"
      ],
      "metadata": {
        "id": "lR8RJSAt4DN9"
      }
    },
    {
      "cell_type": "markdown",
      "source": [
        "Alterando o atributo \"CS_SEXO\" de object para int"
      ],
      "metadata": {
        "id": "soLf-re3oSx_"
      }
    },
    {
      "cell_type": "code",
      "source": [
        "# Teste Objects\n",
        "for i, row in data.iterrows():\n",
        "  if row['CS_SEXO'] == 'M':\n",
        "    data.at[i, 'CS_SEXO'] = 1\n",
        "  if row['CS_SEXO'] == 'F':\n",
        "    data.at[i, 'CS_SEXO'] = 2\n",
        "\n",
        "# Convertendo object -> int\n",
        "data['CS_SEXO'] = data['CS_SEXO'].astype(int)\n",
        "\n",
        "data['CS_SEXO'].info()"
      ],
      "metadata": {
        "colab": {
          "base_uri": "https://localhost:8080/"
        },
        "id": "uqVdxhbr4IBG",
        "outputId": "8714ea1c-c44b-4e12-bd88-49806c49eaad"
      },
      "execution_count": null,
      "outputs": [
        {
          "output_type": "stream",
          "name": "stdout",
          "text": [
            "<class 'pandas.core.series.Series'>\n",
            "RangeIndex: 17432 entries, 0 to 17431\n",
            "Series name: CS_SEXO\n",
            "Non-Null Count  Dtype\n",
            "--------------  -----\n",
            "17432 non-null  int64\n",
            "dtypes: int64(1)\n",
            "memory usage: 136.3 KB\n"
          ]
        }
      ]
    },
    {
      "cell_type": "code",
      "source": [
        "# Convertendo float -> int\n",
        "for column in data:\n",
        "  if data[column].dtypes == 'float64':\n",
        "    data[column] = data[column].astype(int)\n",
        "\n",
        "data.info()"
      ],
      "metadata": {
        "colab": {
          "base_uri": "https://localhost:8080/"
        },
        "id": "aAvkFrkJ4Nju",
        "outputId": "dc81cc33-f706-4149-9a27-ccc8fb394858"
      },
      "execution_count": null,
      "outputs": [
        {
          "output_type": "stream",
          "name": "stdout",
          "text": [
            "<class 'pandas.core.frame.DataFrame'>\n",
            "RangeIndex: 17432 entries, 0 to 17431\n",
            "Data columns (total 41 columns):\n",
            " #   Column          Non-Null Count  Dtype\n",
            "---  ------          --------------  -----\n",
            " 0   CS_SEXO         17432 non-null  int64\n",
            " 1   NU_IDADE_N      17432 non-null  int64\n",
            " 2   CS_GESTANT      17432 non-null  int64\n",
            " 3   NOSOCOMIAL      17432 non-null  int64\n",
            " 4   FEBRE           17432 non-null  int64\n",
            " 5   TOSSE           17432 non-null  int64\n",
            " 6   GARGANTA        17432 non-null  int64\n",
            " 7   DISPNEIA        17432 non-null  int64\n",
            " 8   DESC_RESP       17432 non-null  int64\n",
            " 9   SATURACAO       17432 non-null  int64\n",
            " 10  DIARREIA        17432 non-null  int64\n",
            " 11  VOMITO          17432 non-null  int64\n",
            " 12  OUTRO_SIN       17432 non-null  int64\n",
            " 13  FATOR_RISC      17432 non-null  int64\n",
            " 14  CARDIOPATI      17432 non-null  int64\n",
            " 15  DIABETES        17432 non-null  int64\n",
            " 16  OUT_MORBI       17432 non-null  int64\n",
            " 17  ANTIVIRAL       17432 non-null  int64\n",
            " 18  HOSPITAL        17432 non-null  int64\n",
            " 19  UTI             17432 non-null  int64\n",
            " 20  SUPORT_VEN      17432 non-null  int64\n",
            " 21  RAIOX_RES       17432 non-null  int64\n",
            " 22  AMOSTRA         17432 non-null  int64\n",
            " 23  TP_AMOSTRA      17432 non-null  int64\n",
            " 24  PCR_RESUL       17432 non-null  int64\n",
            " 25  POS_PCROUT      17432 non-null  int64\n",
            " 26  CRITERIO        17432 non-null  int64\n",
            " 27  EVOLUCAO        17432 non-null  int64\n",
            " 28  DOR_ABD         17432 non-null  int64\n",
            " 29  FADIGA          17432 non-null  int64\n",
            " 30  PERD_OLFT       17432 non-null  int64\n",
            " 31  PERD_PALA       17432 non-null  int64\n",
            " 32  TOMO_RES        17432 non-null  int64\n",
            " 33  RES_AN          17432 non-null  int64\n",
            " 34  VACINA_COV      17432 non-null  int64\n",
            " 35  QTD_DIAS        17432 non-null  int64\n",
            " 36  DIAS_INTERNA    17432 non-null  int64\n",
            " 37  SINT_ATE_NOTIF  17432 non-null  int64\n",
            " 38  PCR_EVOLUCAO    17432 non-null  int64\n",
            " 39  DIAS_DOSE2      17432 non-null  int64\n",
            " 40  DIAS_DOSE1      17432 non-null  int64\n",
            "dtypes: int64(41)\n",
            "memory usage: 5.5 MB\n"
          ]
        }
      ]
    },
    {
      "cell_type": "code",
      "source": [
        "data.shape"
      ],
      "metadata": {
        "colab": {
          "base_uri": "https://localhost:8080/"
        },
        "id": "_mMG1son4Nm4",
        "outputId": "3da69afb-d8ca-42a5-bf63-c21f3b9d0763"
      },
      "execution_count": null,
      "outputs": [
        {
          "output_type": "execute_result",
          "data": {
            "text/plain": [
              "(17432, 41)"
            ]
          },
          "metadata": {},
          "execution_count": 301
        }
      ]
    },
    {
      "cell_type": "code",
      "source": [
        "data.head()"
      ],
      "metadata": {
        "colab": {
          "base_uri": "https://localhost:8080/"
        },
        "id": "edVb_bUv4NqC",
        "outputId": "427e3aa3-a1fa-4b02-d78c-734b3e208a86"
      },
      "execution_count": null,
      "outputs": [
        {
          "output_type": "execute_result",
          "data": {
            "text/plain": [
              "   CS_SEXO  NU_IDADE_N  CS_GESTANT  NOSOCOMIAL  FEBRE  TOSSE  GARGANTA  \\\n",
              "0        2          28           5           2      1      1         2   \n",
              "1        1          72           6           2      6      6         1   \n",
              "2        2          50           5           2      2      1         1   \n",
              "3        1          59           6           2      1      1         2   \n",
              "4        2          43           5           2      2      1         1   \n",
              "\n",
              "   DISPNEIA  DESC_RESP  SATURACAO  ...  PERD_PALA  TOMO_RES  RES_AN  \\\n",
              "0         2          2          2  ...          2         6       4   \n",
              "1         6          6          1  ...          1         6       1   \n",
              "2         1          1          2  ...          1         6       5   \n",
              "3         1          1          1  ...          2         6       6   \n",
              "4         2          2          2  ...          2         1       4   \n",
              "\n",
              "   VACINA_COV  QTD_DIAS  DIAS_INTERNA  SINT_ATE_NOTIF  PCR_EVOLUCAO  \\\n",
              "0           1         1             1               2             3   \n",
              "1           1        18            18               2             0   \n",
              "2           1         3             2               3             0   \n",
              "3           2        19            19              13            17   \n",
              "4           1         3             3               0             0   \n",
              "\n",
              "   DIAS_DOSE2  DIAS_DOSE1  \n",
              "0          61         141  \n",
              "1         263         286  \n",
              "2         102         214  \n",
              "3           0           0  \n",
              "4         116         200  \n",
              "\n",
              "[5 rows x 41 columns]"
            ],
            "text/html": [
              "\n",
              "  <div id=\"df-e7e01fc1-17cc-4c26-ba63-8728e9532e73\" class=\"colab-df-container\">\n",
              "    <div>\n",
              "<style scoped>\n",
              "    .dataframe tbody tr th:only-of-type {\n",
              "        vertical-align: middle;\n",
              "    }\n",
              "\n",
              "    .dataframe tbody tr th {\n",
              "        vertical-align: top;\n",
              "    }\n",
              "\n",
              "    .dataframe thead th {\n",
              "        text-align: right;\n",
              "    }\n",
              "</style>\n",
              "<table border=\"1\" class=\"dataframe\">\n",
              "  <thead>\n",
              "    <tr style=\"text-align: right;\">\n",
              "      <th></th>\n",
              "      <th>CS_SEXO</th>\n",
              "      <th>NU_IDADE_N</th>\n",
              "      <th>CS_GESTANT</th>\n",
              "      <th>NOSOCOMIAL</th>\n",
              "      <th>FEBRE</th>\n",
              "      <th>TOSSE</th>\n",
              "      <th>GARGANTA</th>\n",
              "      <th>DISPNEIA</th>\n",
              "      <th>DESC_RESP</th>\n",
              "      <th>SATURACAO</th>\n",
              "      <th>...</th>\n",
              "      <th>PERD_PALA</th>\n",
              "      <th>TOMO_RES</th>\n",
              "      <th>RES_AN</th>\n",
              "      <th>VACINA_COV</th>\n",
              "      <th>QTD_DIAS</th>\n",
              "      <th>DIAS_INTERNA</th>\n",
              "      <th>SINT_ATE_NOTIF</th>\n",
              "      <th>PCR_EVOLUCAO</th>\n",
              "      <th>DIAS_DOSE2</th>\n",
              "      <th>DIAS_DOSE1</th>\n",
              "    </tr>\n",
              "  </thead>\n",
              "  <tbody>\n",
              "    <tr>\n",
              "      <th>0</th>\n",
              "      <td>2</td>\n",
              "      <td>28</td>\n",
              "      <td>5</td>\n",
              "      <td>2</td>\n",
              "      <td>1</td>\n",
              "      <td>1</td>\n",
              "      <td>2</td>\n",
              "      <td>2</td>\n",
              "      <td>2</td>\n",
              "      <td>2</td>\n",
              "      <td>...</td>\n",
              "      <td>2</td>\n",
              "      <td>6</td>\n",
              "      <td>4</td>\n",
              "      <td>1</td>\n",
              "      <td>1</td>\n",
              "      <td>1</td>\n",
              "      <td>2</td>\n",
              "      <td>3</td>\n",
              "      <td>61</td>\n",
              "      <td>141</td>\n",
              "    </tr>\n",
              "    <tr>\n",
              "      <th>1</th>\n",
              "      <td>1</td>\n",
              "      <td>72</td>\n",
              "      <td>6</td>\n",
              "      <td>2</td>\n",
              "      <td>6</td>\n",
              "      <td>6</td>\n",
              "      <td>1</td>\n",
              "      <td>6</td>\n",
              "      <td>6</td>\n",
              "      <td>1</td>\n",
              "      <td>...</td>\n",
              "      <td>1</td>\n",
              "      <td>6</td>\n",
              "      <td>1</td>\n",
              "      <td>1</td>\n",
              "      <td>18</td>\n",
              "      <td>18</td>\n",
              "      <td>2</td>\n",
              "      <td>0</td>\n",
              "      <td>263</td>\n",
              "      <td>286</td>\n",
              "    </tr>\n",
              "    <tr>\n",
              "      <th>2</th>\n",
              "      <td>2</td>\n",
              "      <td>50</td>\n",
              "      <td>5</td>\n",
              "      <td>2</td>\n",
              "      <td>2</td>\n",
              "      <td>1</td>\n",
              "      <td>1</td>\n",
              "      <td>1</td>\n",
              "      <td>1</td>\n",
              "      <td>2</td>\n",
              "      <td>...</td>\n",
              "      <td>1</td>\n",
              "      <td>6</td>\n",
              "      <td>5</td>\n",
              "      <td>1</td>\n",
              "      <td>3</td>\n",
              "      <td>2</td>\n",
              "      <td>3</td>\n",
              "      <td>0</td>\n",
              "      <td>102</td>\n",
              "      <td>214</td>\n",
              "    </tr>\n",
              "    <tr>\n",
              "      <th>3</th>\n",
              "      <td>1</td>\n",
              "      <td>59</td>\n",
              "      <td>6</td>\n",
              "      <td>2</td>\n",
              "      <td>1</td>\n",
              "      <td>1</td>\n",
              "      <td>2</td>\n",
              "      <td>1</td>\n",
              "      <td>1</td>\n",
              "      <td>1</td>\n",
              "      <td>...</td>\n",
              "      <td>2</td>\n",
              "      <td>6</td>\n",
              "      <td>6</td>\n",
              "      <td>2</td>\n",
              "      <td>19</td>\n",
              "      <td>19</td>\n",
              "      <td>13</td>\n",
              "      <td>17</td>\n",
              "      <td>0</td>\n",
              "      <td>0</td>\n",
              "    </tr>\n",
              "    <tr>\n",
              "      <th>4</th>\n",
              "      <td>2</td>\n",
              "      <td>43</td>\n",
              "      <td>5</td>\n",
              "      <td>2</td>\n",
              "      <td>2</td>\n",
              "      <td>1</td>\n",
              "      <td>1</td>\n",
              "      <td>2</td>\n",
              "      <td>2</td>\n",
              "      <td>2</td>\n",
              "      <td>...</td>\n",
              "      <td>2</td>\n",
              "      <td>1</td>\n",
              "      <td>4</td>\n",
              "      <td>1</td>\n",
              "      <td>3</td>\n",
              "      <td>3</td>\n",
              "      <td>0</td>\n",
              "      <td>0</td>\n",
              "      <td>116</td>\n",
              "      <td>200</td>\n",
              "    </tr>\n",
              "  </tbody>\n",
              "</table>\n",
              "<p>5 rows × 41 columns</p>\n",
              "</div>\n",
              "    <div class=\"colab-df-buttons\">\n",
              "\n",
              "  <div class=\"colab-df-container\">\n",
              "    <button class=\"colab-df-convert\" onclick=\"convertToInteractive('df-e7e01fc1-17cc-4c26-ba63-8728e9532e73')\"\n",
              "            title=\"Convert this dataframe to an interactive table.\"\n",
              "            style=\"display:none;\">\n",
              "\n",
              "  <svg xmlns=\"http://www.w3.org/2000/svg\" height=\"24px\" viewBox=\"0 -960 960 960\">\n",
              "    <path d=\"M120-120v-720h720v720H120Zm60-500h600v-160H180v160Zm220 220h160v-160H400v160Zm0 220h160v-160H400v160ZM180-400h160v-160H180v160Zm440 0h160v-160H620v160ZM180-180h160v-160H180v160Zm440 0h160v-160H620v160Z\"/>\n",
              "  </svg>\n",
              "    </button>\n",
              "\n",
              "  <style>\n",
              "    .colab-df-container {\n",
              "      display:flex;\n",
              "      gap: 12px;\n",
              "    }\n",
              "\n",
              "    .colab-df-convert {\n",
              "      background-color: #E8F0FE;\n",
              "      border: none;\n",
              "      border-radius: 50%;\n",
              "      cursor: pointer;\n",
              "      display: none;\n",
              "      fill: #1967D2;\n",
              "      height: 32px;\n",
              "      padding: 0 0 0 0;\n",
              "      width: 32px;\n",
              "    }\n",
              "\n",
              "    .colab-df-convert:hover {\n",
              "      background-color: #E2EBFA;\n",
              "      box-shadow: 0px 1px 2px rgba(60, 64, 67, 0.3), 0px 1px 3px 1px rgba(60, 64, 67, 0.15);\n",
              "      fill: #174EA6;\n",
              "    }\n",
              "\n",
              "    .colab-df-buttons div {\n",
              "      margin-bottom: 4px;\n",
              "    }\n",
              "\n",
              "    [theme=dark] .colab-df-convert {\n",
              "      background-color: #3B4455;\n",
              "      fill: #D2E3FC;\n",
              "    }\n",
              "\n",
              "    [theme=dark] .colab-df-convert:hover {\n",
              "      background-color: #434B5C;\n",
              "      box-shadow: 0px 1px 3px 1px rgba(0, 0, 0, 0.15);\n",
              "      filter: drop-shadow(0px 1px 2px rgba(0, 0, 0, 0.3));\n",
              "      fill: #FFFFFF;\n",
              "    }\n",
              "  </style>\n",
              "\n",
              "    <script>\n",
              "      const buttonEl =\n",
              "        document.querySelector('#df-e7e01fc1-17cc-4c26-ba63-8728e9532e73 button.colab-df-convert');\n",
              "      buttonEl.style.display =\n",
              "        google.colab.kernel.accessAllowed ? 'block' : 'none';\n",
              "\n",
              "      async function convertToInteractive(key) {\n",
              "        const element = document.querySelector('#df-e7e01fc1-17cc-4c26-ba63-8728e9532e73');\n",
              "        const dataTable =\n",
              "          await google.colab.kernel.invokeFunction('convertToInteractive',\n",
              "                                                    [key], {});\n",
              "        if (!dataTable) return;\n",
              "\n",
              "        const docLinkHtml = 'Like what you see? Visit the ' +\n",
              "          '<a target=\"_blank\" href=https://colab.research.google.com/notebooks/data_table.ipynb>data table notebook</a>'\n",
              "          + ' to learn more about interactive tables.';\n",
              "        element.innerHTML = '';\n",
              "        dataTable['output_type'] = 'display_data';\n",
              "        await google.colab.output.renderOutput(dataTable, element);\n",
              "        const docLink = document.createElement('div');\n",
              "        docLink.innerHTML = docLinkHtml;\n",
              "        element.appendChild(docLink);\n",
              "      }\n",
              "    </script>\n",
              "  </div>\n",
              "\n",
              "\n",
              "<div id=\"df-a0050b81-0c50-4d17-94df-af688c1f596a\">\n",
              "  <button class=\"colab-df-quickchart\" onclick=\"quickchart('df-a0050b81-0c50-4d17-94df-af688c1f596a')\"\n",
              "            title=\"Suggest charts.\"\n",
              "            style=\"display:none;\">\n",
              "\n",
              "<svg xmlns=\"http://www.w3.org/2000/svg\" height=\"24px\"viewBox=\"0 0 24 24\"\n",
              "     width=\"24px\">\n",
              "    <g>\n",
              "        <path d=\"M19 3H5c-1.1 0-2 .9-2 2v14c0 1.1.9 2 2 2h14c1.1 0 2-.9 2-2V5c0-1.1-.9-2-2-2zM9 17H7v-7h2v7zm4 0h-2V7h2v10zm4 0h-2v-4h2v4z\"/>\n",
              "    </g>\n",
              "</svg>\n",
              "  </button>\n",
              "\n",
              "<style>\n",
              "  .colab-df-quickchart {\n",
              "    background-color: #E8F0FE;\n",
              "    border: none;\n",
              "    border-radius: 50%;\n",
              "    cursor: pointer;\n",
              "    display: none;\n",
              "    fill: #1967D2;\n",
              "    height: 32px;\n",
              "    padding: 0 0 0 0;\n",
              "    width: 32px;\n",
              "  }\n",
              "\n",
              "  .colab-df-quickchart:hover {\n",
              "    background-color: #E2EBFA;\n",
              "    box-shadow: 0px 1px 2px rgba(60, 64, 67, 0.3), 0px 1px 3px 1px rgba(60, 64, 67, 0.15);\n",
              "    fill: #174EA6;\n",
              "  }\n",
              "\n",
              "  [theme=dark] .colab-df-quickchart {\n",
              "    background-color: #3B4455;\n",
              "    fill: #D2E3FC;\n",
              "  }\n",
              "\n",
              "  [theme=dark] .colab-df-quickchart:hover {\n",
              "    background-color: #434B5C;\n",
              "    box-shadow: 0px 1px 3px 1px rgba(0, 0, 0, 0.15);\n",
              "    filter: drop-shadow(0px 1px 2px rgba(0, 0, 0, 0.3));\n",
              "    fill: #FFFFFF;\n",
              "  }\n",
              "</style>\n",
              "\n",
              "  <script>\n",
              "    async function quickchart(key) {\n",
              "      const charts = await google.colab.kernel.invokeFunction(\n",
              "          'suggestCharts', [key], {});\n",
              "    }\n",
              "    (() => {\n",
              "      let quickchartButtonEl =\n",
              "        document.querySelector('#df-a0050b81-0c50-4d17-94df-af688c1f596a button');\n",
              "      quickchartButtonEl.style.display =\n",
              "        google.colab.kernel.accessAllowed ? 'block' : 'none';\n",
              "    })();\n",
              "  </script>\n",
              "</div>\n",
              "    </div>\n",
              "  </div>\n"
            ]
          },
          "metadata": {},
          "execution_count": 302
        }
      ]
    },
    {
      "cell_type": "markdown",
      "source": [
        "# Análise do valor alvo"
      ],
      "metadata": {
        "id": "LLIGQIS94qMe"
      }
    },
    {
      "cell_type": "code",
      "source": [
        "target_count = data['EVOLUCAO'].value_counts()\n",
        "recuperado_count = target_count[0]\n",
        "obito_count = target_count[1]\n",
        "proportion = round(recuperado_count / obito_count, 2)\n",
        "\n",
        "# Plotar gráfico de barras\n",
        "plt.bar(['RECUPERADO', 'ÓBITO'], [recuperado_count, obito_count])\n",
        "plt.title('Distribuição das evoluções dos casos de Covid-19')\n",
        "plt.xlabel('Evolução')\n",
        "plt.ylabel('Casos')\n",
        "\n",
        "# Adicionar rótulo com a contagem de casos em cada barra\n",
        "for i, count in enumerate([recuperado_count, obito_count]):\n",
        "    plt.text(i, count + 100, str(count), ha='center')\n",
        "\n",
        "# Adicionar rótulo com a proporção\n",
        "plt.text(0.5, max(recuperado_count, obito_count) + 200, f'Proporção de {proportion} para 1', ha='center')\n",
        "\n",
        "plt.show()"
      ],
      "metadata": {
        "colab": {
          "base_uri": "https://localhost:8080/"
        },
        "id": "nQgRdWf84zHm",
        "outputId": "da73a4f3-7278-441b-95df-45268108187d"
      },
      "execution_count": null,
      "outputs": [
        {
          "output_type": "display_data",
          "data": {
            "text/plain": [
              "<Figure size 640x480 with 1 Axes>"
            ],
            "image/png": "[encoded data removed]"
          },
          "metadata": {}
        }
      ]
    },
    {
      "cell_type": "markdown",
      "source": [
        "# Normalização"
      ],
      "metadata": {
        "id": "UB5jC4Oz57FL"
      }
    },
    {
      "cell_type": "code",
      "source": [
        "# Separando o dataset entre atributos e rótulos\n",
        "atributos = data.drop(columns = 'EVOLUCAO')\n",
        "rotulos = data['EVOLUCAO']"
      ],
      "metadata": {
        "id": "Wx1mlycR6A_r"
      },
      "execution_count": null,
      "outputs": []
    },
    {
      "cell_type": "code",
      "source": [
        "atributos"
      ],
      "metadata": {
        "colab": {
          "base_uri": "https://localhost:8080/"
        },
        "id": "EoK1eOP9d3HK",
        "outputId": "9b07d615-86a7-48bb-d9af-817322743a17"
      },
      "execution_count": null,
      "outputs": [
        {
          "output_type": "execute_result",
          "data": {
            "text/plain": [
              "       CS_SEXO  NU_IDADE_N  CS_GESTANT  NOSOCOMIAL  FEBRE  TOSSE  GARGANTA  \\\n",
              "0            2          28           5           2      1      1         2   \n",
              "1            1          72           6           2      6      6         1   \n",
              "2            2          50           5           2      2      1         1   \n",
              "3            1          59           6           2      1      1         2   \n",
              "4            2          43           5           2      2      1         1   \n",
              "...        ...         ...         ...         ...    ...    ...       ...   \n",
              "17427        1          27           6           2      1      1         2   \n",
              "17428        2          87           5           2      1      1         2   \n",
              "17429        2          92           6           2      1      1         1   \n",
              "17430        1          76           6           2      1      2         2   \n",
              "17431        2          67           5           2      2      2         2   \n",
              "\n",
              "       DISPNEIA  DESC_RESP  SATURACAO  ...  PERD_PALA  TOMO_RES  RES_AN  \\\n",
              "0             2          2          2  ...          2         6       4   \n",
              "1             6          6          1  ...          1         6       1   \n",
              "2             1          1          2  ...          1         6       5   \n",
              "3             1          1          1  ...          2         6       6   \n",
              "4             2          2          2  ...          2         1       4   \n",
              "...         ...        ...        ...  ...        ...       ...     ...   \n",
              "17427         1          1          2  ...          2         6       1   \n",
              "17428         1          1          1  ...          6         6       4   \n",
              "17429         2          2          2  ...          1         6       5   \n",
              "17430         1          1          1  ...          6         1       4   \n",
              "17431         1          1          1  ...          2         6       5   \n",
              "\n",
              "       VACINA_COV  QTD_DIAS  DIAS_INTERNA  SINT_ATE_NOTIF  PCR_EVOLUCAO  \\\n",
              "0               1         1             1               2             3   \n",
              "1               1        18            18               2             0   \n",
              "2               1         3             2               3             0   \n",
              "3               2        19            19              13            17   \n",
              "4               1         3             3               0             0   \n",
              "...           ...       ...           ...             ...           ...   \n",
              "17427           2         0             1               3             0   \n",
              "17428           1         3             3               3             3   \n",
              "17429           1         2             2               3             1   \n",
              "17430           1         7             8               7             0   \n",
              "17431           1         5             5               0             3   \n",
              "\n",
              "       DIAS_DOSE2  DIAS_DOSE1  \n",
              "0              61         141  \n",
              "1             263         286  \n",
              "2             102         214  \n",
              "3               0           0  \n",
              "4             116         200  \n",
              "...           ...         ...  \n",
              "17427           0           0  \n",
              "17428         511         536  \n",
              "17429         532         572  \n",
              "17430         575         597  \n",
              "17431         606         634  \n",
              "\n",
              "[17432 rows x 40 columns]"
            ],
            "text/html": [
              "\n",
              "  <div id=\"df-d7f75e86-704f-4ec5-80d6-b0ad86610fd4\" class=\"colab-df-container\">\n",
              "    <div>\n",
              "<style scoped>\n",
              "    .dataframe tbody tr th:only-of-type {\n",
              "        vertical-align: middle;\n",
              "    }\n",
              "\n",
              "    .dataframe tbody tr th {\n",
              "        vertical-align: top;\n",
              "    }\n",
              "\n",
              "    .dataframe thead th {\n",
              "        text-align: right;\n",
              "    }\n",
              "</style>\n",
              "<table border=\"1\" class=\"dataframe\">\n",
              "  <thead>\n",
              "    <tr style=\"text-align: right;\">\n",
              "      <th></th>\n",
              "      <th>CS_SEXO</th>\n",
              "      <th>NU_IDADE_N</th>\n",
              "      <th>CS_GESTANT</th>\n",
              "      <th>NOSOCOMIAL</th>\n",
              "      <th>FEBRE</th>\n",
              "      <th>TOSSE</th>\n",
              "      <th>GARGANTA</th>\n",
              "      <th>DISPNEIA</th>\n",
              "      <th>DESC_RESP</th>\n",
              "      <th>SATURACAO</th>\n",
              "      <th>...</th>\n",
              "      <th>PERD_PALA</th>\n",
              "      <th>TOMO_RES</th>\n",
              "      <th>RES_AN</th>\n",
              "      <th>VACINA_COV</th>\n",
              "      <th>QTD_DIAS</th>\n",
              "      <th>DIAS_INTERNA</th>\n",
              "      <th>SINT_ATE_NOTIF</th>\n",
              "      <th>PCR_EVOLUCAO</th>\n",
              "      <th>DIAS_DOSE2</th>\n",
              "      <th>DIAS_DOSE1</th>\n",
              "    </tr>\n",
              "  </thead>\n",
              "  <tbody>\n",
              "    <tr>\n",
              "      <th>0</th>\n",
              "      <td>2</td>\n",
              "      <td>28</td>\n",
              "      <td>5</td>\n",
              "      <td>2</td>\n",
              "      <td>1</td>\n",
              "      <td>1</td>\n",
              "      <td>2</td>\n",
              "      <td>2</td>\n",
              "      <td>2</td>\n",
              "      <td>2</td>\n",
              "      <td>...</td>\n",
              "      <td>2</td>\n",
              "      <td>6</td>\n",
              "      <td>4</td>\n",
              "      <td>1</td>\n",
              "      <td>1</td>\n",
              "      <td>1</td>\n",
              "      <td>2</td>\n",
              "      <td>3</td>\n",
              "      <td>61</td>\n",
              "      <td>141</td>\n",
              "    </tr>\n",
              "    <tr>\n",
              "      <th>1</th>\n",
              "      <td>1</td>\n",
              "      <td>72</td>\n",
              "      <td>6</td>\n",
              "      <td>2</td>\n",
              "      <td>6</td>\n",
              "      <td>6</td>\n",
              "      <td>1</td>\n",
              "      <td>6</td>\n",
              "      <td>6</td>\n",
              "      <td>1</td>\n",
              "      <td>...</td>\n",
              "      <td>1</td>\n",
              "      <td>6</td>\n",
              "      <td>1</td>\n",
              "      <td>1</td>\n",
              "      <td>18</td>\n",
              "      <td>18</td>\n",
              "      <td>2</td>\n",
              "      <td>0</td>\n",
              "      <td>263</td>\n",
              "      <td>286</td>\n",
              "    </tr>\n",
              "    <tr>\n",
              "      <th>2</th>\n",
              "      <td>2</td>\n",
              "      <td>50</td>\n",
              "      <td>5</td>\n",
              "      <td>2</td>\n",
              "      <td>2</td>\n",
              "      <td>1</td>\n",
              "      <td>1</td>\n",
              "      <td>1</td>\n",
              "      <td>1</td>\n",
              "      <td>2</td>\n",
              "      <td>...</td>\n",
              "      <td>1</td>\n",
              "      <td>6</td>\n",
              "      <td>5</td>\n",
              "      <td>1</td>\n",
              "      <td>3</td>\n",
              "      <td>2</td>\n",
              "      <td>3</td>\n",
              "      <td>0</td>\n",
              "      <td>102</td>\n",
              "      <td>214</td>\n",
              "    </tr>\n",
              "    <tr>\n",
              "      <th>3</th>\n",
              "      <td>1</td>\n",
              "      <td>59</td>\n",
              "      <td>6</td>\n",
              "      <td>2</td>\n",
              "      <td>1</td>\n",
              "      <td>1</td>\n",
              "      <td>2</td>\n",
              "      <td>1</td>\n",
              "      <td>1</td>\n",
              "      <td>1</td>\n",
              "      <td>...</td>\n",
              "      <td>2</td>\n",
              "      <td>6</td>\n",
              "      <td>6</td>\n",
              "      <td>2</td>\n",
              "      <td>19</td>\n",
              "      <td>19</td>\n",
              "      <td>13</td>\n",
              "      <td>17</td>\n",
              "      <td>0</td>\n",
              "      <td>0</td>\n",
              "    </tr>\n",
              "    <tr>\n",
              "      <th>4</th>\n",
              "      <td>2</td>\n",
              "      <td>43</td>\n",
              "      <td>5</td>\n",
              "      <td>2</td>\n",
              "      <td>2</td>\n",
              "      <td>1</td>\n",
              "      <td>1</td>\n",
              "      <td>2</td>\n",
              "      <td>2</td>\n",
              "      <td>2</td>\n",
              "      <td>...</td>\n",
              "      <td>2</td>\n",
              "      <td>1</td>\n",
              "      <td>4</td>\n",
              "      <td>1</td>\n",
              "      <td>3</td>\n",
              "      <td>3</td>\n",
              "      <td>0</td>\n",
              "      <td>0</td>\n",
              "      <td>116</td>\n",
              "      <td>200</td>\n",
              "    </tr>\n",
              "    <tr>\n",
              "      <th>...</th>\n",
              "      <td>...</td>\n",
              "      <td>...</td>\n",
              "      <td>...</td>\n",
              "      <td>...</td>\n",
              "      <td>...</td>\n",
              "      <td>...</td>\n",
              "      <td>...</td>\n",
              "      <td>...</td>\n",
              "      <td>...</td>\n",
              "      <td>...</td>\n",
              "      <td>...</td>\n",
              "      <td>...</td>\n",
              "      <td>...</td>\n",
              "      <td>...</td>\n",
              "      <td>...</td>\n",
              "      <td>...</td>\n",
              "      <td>...</td>\n",
              "      <td>...</td>\n",
              "      <td>...</td>\n",
              "      <td>...</td>\n",
              "      <td>...</td>\n",
              "    </tr>\n",
              "    <tr>\n",
              "      <th>17427</th>\n",
              "      <td>1</td>\n",
              "      <td>27</td>\n",
              "      <td>6</td>\n",
              "      <td>2</td>\n",
              "      <td>1</td>\n",
              "      <td>1</td>\n",
              "      <td>2</td>\n",
              "      <td>1</td>\n",
              "      <td>1</td>\n",
              "      <td>2</td>\n",
              "      <td>...</td>\n",
              "      <td>2</td>\n",
              "      <td>6</td>\n",
              "      <td>1</td>\n",
              "      <td>2</td>\n",
              "      <td>0</td>\n",
              "      <td>1</td>\n",
              "      <td>3</td>\n",
              "      <td>0</td>\n",
              "      <td>0</td>\n",
              "      <td>0</td>\n",
              "    </tr>\n",
              "    <tr>\n",
              "      <th>17428</th>\n",
              "      <td>2</td>\n",
              "      <td>87</td>\n",
              "      <td>5</td>\n",
              "      <td>2</td>\n",
              "      <td>1</td>\n",
              "      <td>1</td>\n",
              "      <td>2</td>\n",
              "      <td>1</td>\n",
              "      <td>1</td>\n",
              "      <td>1</td>\n",
              "      <td>...</td>\n",
              "      <td>6</td>\n",
              "      <td>6</td>\n",
              "      <td>4</td>\n",
              "      <td>1</td>\n",
              "      <td>3</td>\n",
              "      <td>3</td>\n",
              "      <td>3</td>\n",
              "      <td>3</td>\n",
              "      <td>511</td>\n",
              "      <td>536</td>\n",
              "    </tr>\n",
              "    <tr>\n",
              "      <th>17429</th>\n",
              "      <td>2</td>\n",
              "      <td>92</td>\n",
              "      <td>6</td>\n",
              "      <td>2</td>\n",
              "      <td>1</td>\n",
              "      <td>1</td>\n",
              "      <td>1</td>\n",
              "      <td>2</td>\n",
              "      <td>2</td>\n",
              "      <td>2</td>\n",
              "      <td>...</td>\n",
              "      <td>1</td>\n",
              "      <td>6</td>\n",
              "      <td>5</td>\n",
              "      <td>1</td>\n",
              "      <td>2</td>\n",
              "      <td>2</td>\n",
              "      <td>3</td>\n",
              "      <td>1</td>\n",
              "      <td>532</td>\n",
              "      <td>572</td>\n",
              "    </tr>\n",
              "    <tr>\n",
              "      <th>17430</th>\n",
              "      <td>1</td>\n",
              "      <td>76</td>\n",
              "      <td>6</td>\n",
              "      <td>2</td>\n",
              "      <td>1</td>\n",
              "      <td>2</td>\n",
              "      <td>2</td>\n",
              "      <td>1</td>\n",
              "      <td>1</td>\n",
              "      <td>1</td>\n",
              "      <td>...</td>\n",
              "      <td>6</td>\n",
              "      <td>1</td>\n",
              "      <td>4</td>\n",
              "      <td>1</td>\n",
              "      <td>7</td>\n",
              "      <td>8</td>\n",
              "      <td>7</td>\n",
              "      <td>0</td>\n",
              "      <td>575</td>\n",
              "      <td>597</td>\n",
              "    </tr>\n",
              "    <tr>\n",
              "      <th>17431</th>\n",
              "      <td>2</td>\n",
              "      <td>67</td>\n",
              "      <td>5</td>\n",
              "      <td>2</td>\n",
              "      <td>2</td>\n",
              "      <td>2</td>\n",
              "      <td>2</td>\n",
              "      <td>1</td>\n",
              "      <td>1</td>\n",
              "      <td>1</td>\n",
              "      <td>...</td>\n",
              "      <td>2</td>\n",
              "      <td>6</td>\n",
              "      <td>5</td>\n",
              "      <td>1</td>\n",
              "      <td>5</td>\n",
              "      <td>5</td>\n",
              "      <td>0</td>\n",
              "      <td>3</td>\n",
              "      <td>606</td>\n",
              "      <td>634</td>\n",
              "    </tr>\n",
              "  </tbody>\n",
              "</table>\n",
              "<p>17432 rows × 40 columns</p>\n",
              "</div>\n",
              "    <div class=\"colab-df-buttons\">\n",
              "\n",
              "  <div class=\"colab-df-container\">\n",
              "    <button class=\"colab-df-convert\" onclick=\"convertToInteractive('df-d7f75e86-704f-4ec5-80d6-b0ad86610fd4')\"\n",
              "            title=\"Convert this dataframe to an interactive table.\"\n",
              "            style=\"display:none;\">\n",
              "\n",
              "  <svg xmlns=\"http://www.w3.org/2000/svg\" height=\"24px\" viewBox=\"0 -960 960 960\">\n",
              "    <path d=\"M120-120v-720h720v720H120Zm60-500h600v-160H180v160Zm220 220h160v-160H400v160Zm0 220h160v-160H400v160ZM180-400h160v-160H180v160Zm440 0h160v-160H620v160ZM180-180h160v-160H180v160Zm440 0h160v-160H620v160Z\"/>\n",
              "  </svg>\n",
              "    </button>\n",
              "\n",
              "  <style>\n",
              "    .colab-df-container {\n",
              "      display:flex;\n",
              "      gap: 12px;\n",
              "    }\n",
              "\n",
              "    .colab-df-convert {\n",
              "      background-color: #E8F0FE;\n",
              "      border: none;\n",
              "      border-radius: 50%;\n",
              "      cursor: pointer;\n",
              "      display: none;\n",
              "      fill: #1967D2;\n",
              "      height: 32px;\n",
              "      padding: 0 0 0 0;\n",
              "      width: 32px;\n",
              "    }\n",
              "\n",
              "    .colab-df-convert:hover {\n",
              "      background-color: #E2EBFA;\n",
              "      box-shadow: 0px 1px 2px rgba(60, 64, 67, 0.3), 0px 1px 3px 1px rgba(60, 64, 67, 0.15);\n",
              "      fill: #174EA6;\n",
              "    }\n",
              "\n",
              "    .colab-df-buttons div {\n",
              "      margin-bottom: 4px;\n",
              "    }\n",
              "\n",
              "    [theme=dark] .colab-df-convert {\n",
              "      background-color: #3B4455;\n",
              "      fill: #D2E3FC;\n",
              "    }\n",
              "\n",
              "    [theme=dark] .colab-df-convert:hover {\n",
              "      background-color: #434B5C;\n",
              "      box-shadow: 0px 1px 3px 1px rgba(0, 0, 0, 0.15);\n",
              "      filter: drop-shadow(0px 1px 2px rgba(0, 0, 0, 0.3));\n",
              "      fill: #FFFFFF;\n",
              "    }\n",
              "  </style>\n",
              "\n",
              "    <script>\n",
              "      const buttonEl =\n",
              "        document.querySelector('#df-d7f75e86-704f-4ec5-80d6-b0ad86610fd4 button.colab-df-convert');\n",
              "      buttonEl.style.display =\n",
              "        google.colab.kernel.accessAllowed ? 'block' : 'none';\n",
              "\n",
              "      async function convertToInteractive(key) {\n",
              "        const element = document.querySelector('#df-d7f75e86-704f-4ec5-80d6-b0ad86610fd4');\n",
              "        const dataTable =\n",
              "          await google.colab.kernel.invokeFunction('convertToInteractive',\n",
              "                                                    [key], {});\n",
              "        if (!dataTable) return;\n",
              "\n",
              "        const docLinkHtml = 'Like what you see? Visit the ' +\n",
              "          '<a target=\"_blank\" href=https://colab.research.google.com/notebooks/data_table.ipynb>data table notebook</a>'\n",
              "          + ' to learn more about interactive tables.';\n",
              "        element.innerHTML = '';\n",
              "        dataTable['output_type'] = 'display_data';\n",
              "        await google.colab.output.renderOutput(dataTable, element);\n",
              "        const docLink = document.createElement('div');\n",
              "        docLink.innerHTML = docLinkHtml;\n",
              "        element.appendChild(docLink);\n",
              "      }\n",
              "    </script>\n",
              "  </div>\n",
              "\n",
              "\n",
              "<div id=\"df-362860b0-b6fb-4a5e-a950-cb7d594836f5\">\n",
              "  <button class=\"colab-df-quickchart\" onclick=\"quickchart('df-362860b0-b6fb-4a5e-a950-cb7d594836f5')\"\n",
              "            title=\"Suggest charts.\"\n",
              "            style=\"display:none;\">\n",
              "\n",
              "<svg xmlns=\"http://www.w3.org/2000/svg\" height=\"24px\"viewBox=\"0 0 24 24\"\n",
              "     width=\"24px\">\n",
              "    <g>\n",
              "        <path d=\"M19 3H5c-1.1 0-2 .9-2 2v14c0 1.1.9 2 2 2h14c1.1 0 2-.9 2-2V5c0-1.1-.9-2-2-2zM9 17H7v-7h2v7zm4 0h-2V7h2v10zm4 0h-2v-4h2v4z\"/>\n",
              "    </g>\n",
              "</svg>\n",
              "  </button>\n",
              "\n",
              "<style>\n",
              "  .colab-df-quickchart {\n",
              "    background-color: #E8F0FE;\n",
              "    border: none;\n",
              "    border-radius: 50%;\n",
              "    cursor: pointer;\n",
              "    display: none;\n",
              "    fill: #1967D2;\n",
              "    height: 32px;\n",
              "    padding: 0 0 0 0;\n",
              "    width: 32px;\n",
              "  }\n",
              "\n",
              "  .colab-df-quickchart:hover {\n",
              "    background-color: #E2EBFA;\n",
              "    box-shadow: 0px 1px 2px rgba(60, 64, 67, 0.3), 0px 1px 3px 1px rgba(60, 64, 67, 0.15);\n",
              "    fill: #174EA6;\n",
              "  }\n",
              "\n",
              "  [theme=dark] .colab-df-quickchart {\n",
              "    background-color: #3B4455;\n",
              "    fill: #D2E3FC;\n",
              "  }\n",
              "\n",
              "  [theme=dark] .colab-df-quickchart:hover {\n",
              "    background-color: #434B5C;\n",
              "    box-shadow: 0px 1px 3px 1px rgba(0, 0, 0, 0.15);\n",
              "    filter: drop-shadow(0px 1px 2px rgba(0, 0, 0, 0.3));\n",
              "    fill: #FFFFFF;\n",
              "  }\n",
              "</style>\n",
              "\n",
              "  <script>\n",
              "    async function quickchart(key) {\n",
              "      const charts = await google.colab.kernel.invokeFunction(\n",
              "          'suggestCharts', [key], {});\n",
              "    }\n",
              "    (() => {\n",
              "      let quickchartButtonEl =\n",
              "        document.querySelector('#df-362860b0-b6fb-4a5e-a950-cb7d594836f5 button');\n",
              "      quickchartButtonEl.style.display =\n",
              "        google.colab.kernel.accessAllowed ? 'block' : 'none';\n",
              "    })();\n",
              "  </script>\n",
              "</div>\n",
              "    </div>\n",
              "  </div>\n"
            ]
          },
          "metadata": {},
          "execution_count": 305
        }
      ]
    },
    {
      "cell_type": "code",
      "source": [
        "# Normalização\n",
        "atributosNormalizados = StandardScaler().fit_transform(atributos)"
      ],
      "metadata": {
        "id": "fN7gT8eXd3p3"
      },
      "execution_count": null,
      "outputs": []
    },
    {
      "cell_type": "code",
      "source": [
        "atributosNormalizados"
      ],
      "metadata": {
        "colab": {
          "base_uri": "https://localhost:8080/"
        },
        "id": "_Dudvfoad35r",
        "outputId": "b254a79f-dd23-4dc4-af10-446bd7ceb53a"
      },
      "execution_count": null,
      "outputs": [
        {
          "output_type": "execute_result",
          "data": {
            "text/plain": [
              "array([[ 0.99542122, -1.24214463, -0.71867654, ..., -0.19781279,\n",
              "        -0.02995595, -0.75664128],\n",
              "       [-1.00459984,  0.44322882,  0.65787213, ..., -0.47798552,\n",
              "        -0.00699514, -0.05333584],\n",
              "       [ 0.99542122, -0.3994579 , -0.71867654, ..., -0.47798552,\n",
              "        -0.02529559, -0.40256337],\n",
              "       ...,\n",
              "       [ 0.99542122,  1.20930765,  0.65787213, ..., -0.38459461,\n",
              "         0.02358139,  1.3338735 ],\n",
              "       [-1.00459984,  0.59644458,  0.65787213, ..., -0.47798552,\n",
              "         0.02846909,  1.45513306],\n",
              "       [ 0.99542122,  0.25170911, -0.71867654, ..., -0.19781279,\n",
              "         0.03199278,  1.6345972 ]])"
            ]
          },
          "metadata": {},
          "execution_count": 307
        }
      ]
    },
    {
      "cell_type": "markdown",
      "source": [
        "# SMOTE 100%"
      ],
      "metadata": {
        "id": "1ZoM6lDcZfsT"
      }
    },
    {
      "cell_type": "code",
      "source": [
        "np.bincount(rotulos)"
      ],
      "metadata": {
        "colab": {
          "base_uri": "https://localhost:8080/"
        },
        "id": "xBClrzEP7IHg",
        "outputId": "6ce51580-ba09-4631-ef81-976bc2d9625b"
      },
      "execution_count": null,
      "outputs": [
        {
          "output_type": "execute_result",
          "data": {
            "text/plain": [
              "array([13521,  3911])"
            ]
          },
          "metadata": {},
          "execution_count": 308
        }
      ]
    },
    {
      "cell_type": "code",
      "source": [
        "# instância\n",
        "smt = SMOTE()"
      ],
      "metadata": {
        "id": "jzM4q9ROZiP7"
      },
      "execution_count": null,
      "outputs": []
    },
    {
      "cell_type": "code",
      "source": [
        "# Balanceia os dados\n",
        "atributosBalanceados, rotulosBalanceados = smt.fit_resample(atributosNormalizados, rotulos)"
      ],
      "metadata": {
        "id": "WDanmvY6ZmXL"
      },
      "execution_count": null,
      "outputs": []
    },
    {
      "cell_type": "code",
      "source": [
        "grafico = sns.countplot(x=rotulosBalanceados)"
      ],
      "metadata": {
        "colab": {
          "base_uri": "https://localhost:8080/",
          "height": 450
        },
        "id": "c4VTaDvLeRY3",
        "outputId": "16b852f0-052d-4ca3-f92e-2cec1f8903c7"
      },
      "execution_count": null,
      "outputs": [
        {
          "output_type": "display_data",
          "data": {
            "text/plain": [
              "<Figure size 640x480 with 1 Axes>"
            ],
            "image/png": "[encoded data removed]"
          },
          "metadata": {}
        }
      ]
    },
    {
      "cell_type": "code",
      "source": [
        "np.bincount(rotulos)"
      ],
      "metadata": {
        "colab": {
          "base_uri": "https://localhost:8080/"
        },
        "id": "u0sTPVmDeE6U",
        "outputId": "d4f5db29-736e-415e-e6c9-1281c320da3e"
      },
      "execution_count": null,
      "outputs": [
        {
          "output_type": "execute_result",
          "data": {
            "text/plain": [
              "array([13521,  3911])"
            ]
          },
          "metadata": {},
          "execution_count": 312
        }
      ]
    },
    {
      "cell_type": "markdown",
      "source": [
        "# Gerando Dataset"
      ],
      "metadata": {
        "id": "vpGh7SwM5bKu"
      }
    },
    {
      "cell_type": "code",
      "source": [
        "datasetBalanceado = pd.DataFrame(atributosBalanceados, columns=atributos.columns)"
      ],
      "metadata": {
        "id": "Tz8PB4n6QOWA"
      },
      "execution_count": null,
      "outputs": []
    },
    {
      "cell_type": "code",
      "source": [
        "datasetBalanceado['EVOLUCAO'] = rotulosBalanceados"
      ],
      "metadata": {
        "id": "GUPal2dHQS_H"
      },
      "execution_count": null,
      "outputs": []
    },
    {
      "cell_type": "code",
      "source": [
        "datasetBalanceado"
      ],
      "metadata": {
        "colab": {
          "base_uri": "https://localhost:8080/",
          "height": 443
        },
        "id": "-r0JLUGjbQJ1",
        "outputId": "888f61da-1015-4557-a741-dcd144ff6e59"
      },
      "execution_count": null,
      "outputs": [
        {
          "output_type": "execute_result",
          "data": {
            "text/plain": [
              "        CS_SEXO  NU_IDADE_N  CS_GESTANT  NOSOCOMIAL     FEBRE     TOSSE  \\\n",
              "0      0.995421   -1.242145   -0.718677   -0.291673 -0.699049 -0.561770   \n",
              "1     -1.004600    0.443229    0.657872   -0.291673  2.173339  2.492745   \n",
              "2      0.995421   -0.399458   -0.718677   -0.291673 -0.124571 -0.561770   \n",
              "3     -1.004600   -0.054722    0.657872   -0.291673 -0.699049 -0.561770   \n",
              "4      0.995421   -0.667585   -0.718677   -0.291673 -0.124571 -0.561770   \n",
              "...         ...         ...         ...         ...       ...       ...   \n",
              "27037 -1.004600   -0.541098    0.657872   -0.291673  2.173339  2.492745   \n",
              "27038  0.995421   -0.118309   -0.626452   -0.291673 -0.124571  0.049133   \n",
              "27039  0.995421    0.538418   -0.617424   -0.291673 -0.699049 -0.561770   \n",
              "27040 -1.004600    0.781689    0.657872    1.054509 -0.349986 -0.561770   \n",
              "27041 -1.004600    1.293630    0.657872   -0.291673 -0.699049  2.492745   \n",
              "\n",
              "       GARGANTA  DISPNEIA  DESC_RESP  SATURACAO  ...  TOMO_RES    RES_AN  \\\n",
              "0     -0.427354 -0.039069  -0.201868  -0.085837  ...  0.545826  0.553550   \n",
              "1     -0.968870  2.321590   1.968317  -0.664007  ...  0.545826 -1.105958   \n",
              "2     -0.968870 -0.629234  -0.744414  -0.085837  ...  0.545826  1.106720   \n",
              "3     -0.427354 -0.629234  -0.744414  -0.664007  ...  0.545826  1.659889   \n",
              "4     -0.968870 -0.039069  -0.201868  -0.085837  ... -2.106320  0.553550   \n",
              "...         ...       ...        ...        ...  ...       ...       ...   \n",
              "27037  1.738710  2.321590   1.968317   2.226844  ...  0.545826  0.553550   \n",
              "27038 -0.427354 -0.629234  -0.744414  -0.664007  ...  0.545826  0.553550   \n",
              "27039 -0.929039 -0.585824  -0.704507  -0.621479  ...  0.545826 -1.105958   \n",
              "27040 -0.427354 -0.629234  -0.744414  -0.664007  ...  0.545826 -1.105958   \n",
              "27041 -0.968870  2.321590   1.968317  -0.664007  ...  0.545826  0.995304   \n",
              "\n",
              "       VACINA_COV  QTD_DIAS  DIAS_INTERNA  SINT_ATE_NOTIF  PCR_EVOLUCAO  \\\n",
              "0       -0.409720 -0.444636     -0.568138       -0.344578     -0.197813   \n",
              "1       -0.409720  0.268908      0.656730       -0.344578     -0.477986   \n",
              "2       -0.409720 -0.360690     -0.496087       -0.303805     -0.477986   \n",
              "3        0.956430  0.310881      0.728781        0.103916      1.109660   \n",
              "4       -0.409720 -0.360690     -0.424036       -0.426122     -0.477986   \n",
              "...           ...       ...           ...             ...           ...   \n",
              "27037    0.164265 -0.486609     -0.640189       -0.426122     -0.251966   \n",
              "27038   -0.409720 -0.416515     -0.370937       -0.333651     -0.396646   \n",
              "27039   -0.409720  6.630896     -0.306432        6.729356     -0.477986   \n",
              "27040   -0.409720 -0.410098     -0.508850       -0.238259     -0.364493   \n",
              "27041    0.681270 -0.376708     -0.350457       -0.238685     -0.140723   \n",
              "\n",
              "       DIAS_DOSE2  DIAS_DOSE1  EVOLUCAO  \n",
              "0       -0.029956   -0.756641         0  \n",
              "1       -0.006995   -0.053336         0  \n",
              "2       -0.025296   -0.402563         0  \n",
              "3       -0.036890   -1.440545         1  \n",
              "4       -0.023704   -0.470469         0  \n",
              "...           ...         ...       ...  \n",
              "27037   -0.023246   -0.622106         1  \n",
              "27038   -0.002092    0.448083         1  \n",
              "27039    0.014782    0.906675         1  \n",
              "27040    0.009676    0.799241         1  \n",
              "27041   -0.028579   -1.060519         1  \n",
              "\n",
              "[27042 rows x 41 columns]"
            ],
            "text/html": [
              "\n",
              "  <div id=\"df-6c838041-69ed-4978-95c5-581e357de999\" class=\"colab-df-container\">\n",
              "    <div>\n",
              "<style scoped>\n",
              "    .dataframe tbody tr th:only-of-type {\n",
              "        vertical-align: middle;\n",
              "    }\n",
              "\n",
              "    .dataframe tbody tr th {\n",
              "        vertical-align: top;\n",
              "    }\n",
              "\n",
              "    .dataframe thead th {\n",
              "        text-align: right;\n",
              "    }\n",
              "</style>\n",
              "<table border=\"1\" class=\"dataframe\">\n",
              "  <thead>\n",
              "    <tr style=\"text-align: right;\">\n",
              "      <th></th>\n",
              "      <th>CS_SEXO</th>\n",
              "      <th>NU_IDADE_N</th>\n",
              "      <th>CS_GESTANT</th>\n",
              "      <th>NOSOCOMIAL</th>\n",
              "      <th>FEBRE</th>\n",
              "      <th>TOSSE</th>\n",
              "      <th>GARGANTA</th>\n",
              "      <th>DISPNEIA</th>\n",
              "      <th>DESC_RESP</th>\n",
              "      <th>SATURACAO</th>\n",
              "      <th>...</th>\n",
              "      <th>TOMO_RES</th>\n",
              "      <th>RES_AN</th>\n",
              "      <th>VACINA_COV</th>\n",
              "      <th>QTD_DIAS</th>\n",
              "      <th>DIAS_INTERNA</th>\n",
              "      <th>SINT_ATE_NOTIF</th>\n",
              "      <th>PCR_EVOLUCAO</th>\n",
              "      <th>DIAS_DOSE2</th>\n",
              "      <th>DIAS_DOSE1</th>\n",
              "      <th>EVOLUCAO</th>\n",
              "    </tr>\n",
              "  </thead>\n",
              "  <tbody>\n",
              "    <tr>\n",
              "      <th>0</th>\n",
              "      <td>0.995421</td>\n",
              "      <td>-1.242145</td>\n",
              "      <td>-0.718677</td>\n",
              "      <td>-0.291673</td>\n",
              "      <td>-0.699049</td>\n",
              "      <td>-0.561770</td>\n",
              "      <td>-0.427354</td>\n",
              "      <td>-0.039069</td>\n",
              "      <td>-0.201868</td>\n",
              "      <td>-0.085837</td>\n",
              "      <td>...</td>\n",
              "      <td>0.545826</td>\n",
              "      <td>0.553550</td>\n",
              "      <td>-0.409720</td>\n",
              "      <td>-0.444636</td>\n",
              "      <td>-0.568138</td>\n",
              "      <td>-0.344578</td>\n",
              "      <td>-0.197813</td>\n",
              "      <td>-0.029956</td>\n",
              "      <td>-0.756641</td>\n",
              "      <td>0</td>\n",
              "    </tr>\n",
              "    <tr>\n",
              "      <th>1</th>\n",
              "      <td>-1.004600</td>\n",
              "      <td>0.443229</td>\n",
              "      <td>0.657872</td>\n",
              "      <td>-0.291673</td>\n",
              "      <td>2.173339</td>\n",
              "      <td>2.492745</td>\n",
              "      <td>-0.968870</td>\n",
              "      <td>2.321590</td>\n",
              "      <td>1.968317</td>\n",
              "      <td>-0.664007</td>\n",
              "      <td>...</td>\n",
              "      <td>0.545826</td>\n",
              "      <td>-1.105958</td>\n",
              "      <td>-0.409720</td>\n",
              "      <td>0.268908</td>\n",
              "      <td>0.656730</td>\n",
              "      <td>-0.344578</td>\n",
              "      <td>-0.477986</td>\n",
              "      <td>-0.006995</td>\n",
              "      <td>-0.053336</td>\n",
              "      <td>0</td>\n",
              "    </tr>\n",
              "    <tr>\n",
              "      <th>2</th>\n",
              "      <td>0.995421</td>\n",
              "      <td>-0.399458</td>\n",
              "      <td>-0.718677</td>\n",
              "      <td>-0.291673</td>\n",
              "      <td>-0.124571</td>\n",
              "      <td>-0.561770</td>\n",
              "      <td>-0.968870</td>\n",
              "      <td>-0.629234</td>\n",
              "      <td>-0.744414</td>\n",
              "      <td>-0.085837</td>\n",
              "      <td>...</td>\n",
              "      <td>0.545826</td>\n",
              "      <td>1.106720</td>\n",
              "      <td>-0.409720</td>\n",
              "      <td>-0.360690</td>\n",
              "      <td>-0.496087</td>\n",
              "      <td>-0.303805</td>\n",
              "      <td>-0.477986</td>\n",
              "      <td>-0.025296</td>\n",
              "      <td>-0.402563</td>\n",
              "      <td>0</td>\n",
              "    </tr>\n",
              "    <tr>\n",
              "      <th>3</th>\n",
              "      <td>-1.004600</td>\n",
              "      <td>-0.054722</td>\n",
              "      <td>0.657872</td>\n",
              "      <td>-0.291673</td>\n",
              "      <td>-0.699049</td>\n",
              "      <td>-0.561770</td>\n",
              "      <td>-0.427354</td>\n",
              "      <td>-0.629234</td>\n",
              "      <td>-0.744414</td>\n",
              "      <td>-0.664007</td>\n",
              "      <td>...</td>\n",
              "      <td>0.545826</td>\n",
              "      <td>1.659889</td>\n",
              "      <td>0.956430</td>\n",
              "      <td>0.310881</td>\n",
              "      <td>0.728781</td>\n",
              "      <td>0.103916</td>\n",
              "      <td>1.109660</td>\n",
              "      <td>-0.036890</td>\n",
              "      <td>-1.440545</td>\n",
              "      <td>1</td>\n",
              "    </tr>\n",
              "    <tr>\n",
              "      <th>4</th>\n",
              "      <td>0.995421</td>\n",
              "      <td>-0.667585</td>\n",
              "      <td>-0.718677</td>\n",
              "      <td>-0.291673</td>\n",
              "      <td>-0.124571</td>\n",
              "      <td>-0.561770</td>\n",
              "      <td>-0.968870</td>\n",
              "      <td>-0.039069</td>\n",
              "      <td>-0.201868</td>\n",
              "      <td>-0.085837</td>\n",
              "      <td>...</td>\n",
              "      <td>-2.106320</td>\n",
              "      <td>0.553550</td>\n",
              "      <td>-0.409720</td>\n",
              "      <td>-0.360690</td>\n",
              "      <td>-0.424036</td>\n",
              "      <td>-0.426122</td>\n",
              "      <td>-0.477986</td>\n",
              "      <td>-0.023704</td>\n",
              "      <td>-0.470469</td>\n",
              "      <td>0</td>\n",
              "    </tr>\n",
              "    <tr>\n",
              "      <th>...</th>\n",
              "      <td>...</td>\n",
              "      <td>...</td>\n",
              "      <td>...</td>\n",
              "      <td>...</td>\n",
              "      <td>...</td>\n",
              "      <td>...</td>\n",
              "      <td>...</td>\n",
              "      <td>...</td>\n",
              "      <td>...</td>\n",
              "      <td>...</td>\n",
              "      <td>...</td>\n",
              "      <td>...</td>\n",
              "      <td>...</td>\n",
              "      <td>...</td>\n",
              "      <td>...</td>\n",
              "      <td>...</td>\n",
              "      <td>...</td>\n",
              "      <td>...</td>\n",
              "      <td>...</td>\n",
              "      <td>...</td>\n",
              "      <td>...</td>\n",
              "    </tr>\n",
              "    <tr>\n",
              "      <th>27037</th>\n",
              "      <td>-1.004600</td>\n",
              "      <td>-0.541098</td>\n",
              "      <td>0.657872</td>\n",
              "      <td>-0.291673</td>\n",
              "      <td>2.173339</td>\n",
              "      <td>2.492745</td>\n",
              "      <td>1.738710</td>\n",
              "      <td>2.321590</td>\n",
              "      <td>1.968317</td>\n",
              "      <td>2.226844</td>\n",
              "      <td>...</td>\n",
              "      <td>0.545826</td>\n",
              "      <td>0.553550</td>\n",
              "      <td>0.164265</td>\n",
              "      <td>-0.486609</td>\n",
              "      <td>-0.640189</td>\n",
              "      <td>-0.426122</td>\n",
              "      <td>-0.251966</td>\n",
              "      <td>-0.023246</td>\n",
              "      <td>-0.622106</td>\n",
              "      <td>1</td>\n",
              "    </tr>\n",
              "    <tr>\n",
              "      <th>27038</th>\n",
              "      <td>0.995421</td>\n",
              "      <td>-0.118309</td>\n",
              "      <td>-0.626452</td>\n",
              "      <td>-0.291673</td>\n",
              "      <td>-0.124571</td>\n",
              "      <td>0.049133</td>\n",
              "      <td>-0.427354</td>\n",
              "      <td>-0.629234</td>\n",
              "      <td>-0.744414</td>\n",
              "      <td>-0.664007</td>\n",
              "      <td>...</td>\n",
              "      <td>0.545826</td>\n",
              "      <td>0.553550</td>\n",
              "      <td>-0.409720</td>\n",
              "      <td>-0.416515</td>\n",
              "      <td>-0.370937</td>\n",
              "      <td>-0.333651</td>\n",
              "      <td>-0.396646</td>\n",
              "      <td>-0.002092</td>\n",
              "      <td>0.448083</td>\n",
              "      <td>1</td>\n",
              "    </tr>\n",
              "    <tr>\n",
              "      <th>27039</th>\n",
              "      <td>0.995421</td>\n",
              "      <td>0.538418</td>\n",
              "      <td>-0.617424</td>\n",
              "      <td>-0.291673</td>\n",
              "      <td>-0.699049</td>\n",
              "      <td>-0.561770</td>\n",
              "      <td>-0.929039</td>\n",
              "      <td>-0.585824</td>\n",
              "      <td>-0.704507</td>\n",
              "      <td>-0.621479</td>\n",
              "      <td>...</td>\n",
              "      <td>0.545826</td>\n",
              "      <td>-1.105958</td>\n",
              "      <td>-0.409720</td>\n",
              "      <td>6.630896</td>\n",
              "      <td>-0.306432</td>\n",
              "      <td>6.729356</td>\n",
              "      <td>-0.477986</td>\n",
              "      <td>0.014782</td>\n",
              "      <td>0.906675</td>\n",
              "      <td>1</td>\n",
              "    </tr>\n",
              "    <tr>\n",
              "      <th>27040</th>\n",
              "      <td>-1.004600</td>\n",
              "      <td>0.781689</td>\n",
              "      <td>0.657872</td>\n",
              "      <td>1.054509</td>\n",
              "      <td>-0.349986</td>\n",
              "      <td>-0.561770</td>\n",
              "      <td>-0.427354</td>\n",
              "      <td>-0.629234</td>\n",
              "      <td>-0.744414</td>\n",
              "      <td>-0.664007</td>\n",
              "      <td>...</td>\n",
              "      <td>0.545826</td>\n",
              "      <td>-1.105958</td>\n",
              "      <td>-0.409720</td>\n",
              "      <td>-0.410098</td>\n",
              "      <td>-0.508850</td>\n",
              "      <td>-0.238259</td>\n",
              "      <td>-0.364493</td>\n",
              "      <td>0.009676</td>\n",
              "      <td>0.799241</td>\n",
              "      <td>1</td>\n",
              "    </tr>\n",
              "    <tr>\n",
              "      <th>27041</th>\n",
              "      <td>-1.004600</td>\n",
              "      <td>1.293630</td>\n",
              "      <td>0.657872</td>\n",
              "      <td>-0.291673</td>\n",
              "      <td>-0.699049</td>\n",
              "      <td>2.492745</td>\n",
              "      <td>-0.968870</td>\n",
              "      <td>2.321590</td>\n",
              "      <td>1.968317</td>\n",
              "      <td>-0.664007</td>\n",
              "      <td>...</td>\n",
              "      <td>0.545826</td>\n",
              "      <td>0.995304</td>\n",
              "      <td>0.681270</td>\n",
              "      <td>-0.376708</td>\n",
              "      <td>-0.350457</td>\n",
              "      <td>-0.238685</td>\n",
              "      <td>-0.140723</td>\n",
              "      <td>-0.028579</td>\n",
              "      <td>-1.060519</td>\n",
              "      <td>1</td>\n",
              "    </tr>\n",
              "  </tbody>\n",
              "</table>\n",
              "<p>27042 rows × 41 columns</p>\n",
              "</div>\n",
              "    <div class=\"colab-df-buttons\">\n",
              "\n",
              "  <div class=\"colab-df-container\">\n",
              "    <button class=\"colab-df-convert\" onclick=\"convertToInteractive('df-6c838041-69ed-4978-95c5-581e357de999')\"\n",
              "            title=\"Convert this dataframe to an interactive table.\"\n",
              "            style=\"display:none;\">\n",
              "\n",
              "  <svg xmlns=\"http://www.w3.org/2000/svg\" height=\"24px\" viewBox=\"0 -960 960 960\">\n",
              "    <path d=\"M120-120v-720h720v720H120Zm60-500h600v-160H180v160Zm220 220h160v-160H400v160Zm0 220h160v-160H400v160ZM180-400h160v-160H180v160Zm440 0h160v-160H620v160ZM180-180h160v-160H180v160Zm440 0h160v-160H620v160Z\"/>\n",
              "  </svg>\n",
              "    </button>\n",
              "\n",
              "  <style>\n",
              "    .colab-df-container {\n",
              "      display:flex;\n",
              "      gap: 12px;\n",
              "    }\n",
              "\n",
              "    .colab-df-convert {\n",
              "      background-color: #E8F0FE;\n",
              "      border: none;\n",
              "      border-radius: 50%;\n",
              "      cursor: pointer;\n",
              "      display: none;\n",
              "      fill: #1967D2;\n",
              "      height: 32px;\n",
              "      padding: 0 0 0 0;\n",
              "      width: 32px;\n",
              "    }\n",
              "\n",
              "    .colab-df-convert:hover {\n",
              "      background-color: #E2EBFA;\n",
              "      box-shadow: 0px 1px 2px rgba(60, 64, 67, 0.3), 0px 1px 3px 1px rgba(60, 64, 67, 0.15);\n",
              "      fill: #174EA6;\n",
              "    }\n",
              "\n",
              "    .colab-df-buttons div {\n",
              "      margin-bottom: 4px;\n",
              "    }\n",
              "\n",
              "    [theme=dark] .colab-df-convert {\n",
              "      background-color: #3B4455;\n",
              "      fill: #D2E3FC;\n",
              "    }\n",
              "\n",
              "    [theme=dark] .colab-df-convert:hover {\n",
              "      background-color: #434B5C;\n",
              "      box-shadow: 0px 1px 3px 1px rgba(0, 0, 0, 0.15);\n",
              "      filter: drop-shadow(0px 1px 2px rgba(0, 0, 0, 0.3));\n",
              "      fill: #FFFFFF;\n",
              "    }\n",
              "  </style>\n",
              "\n",
              "    <script>\n",
              "      const buttonEl =\n",
              "        document.querySelector('#df-6c838041-69ed-4978-95c5-581e357de999 button.colab-df-convert');\n",
              "      buttonEl.style.display =\n",
              "        google.colab.kernel.accessAllowed ? 'block' : 'none';\n",
              "\n",
              "      async function convertToInteractive(key) {\n",
              "        const element = document.querySelector('#df-6c838041-69ed-4978-95c5-581e357de999');\n",
              "        const dataTable =\n",
              "          await google.colab.kernel.invokeFunction('convertToInteractive',\n",
              "                                                    [key], {});\n",
              "        if (!dataTable) return;\n",
              "\n",
              "        const docLinkHtml = 'Like what you see? Visit the ' +\n",
              "          '<a target=\"_blank\" href=https://colab.research.google.com/notebooks/data_table.ipynb>data table notebook</a>'\n",
              "          + ' to learn more about interactive tables.';\n",
              "        element.innerHTML = '';\n",
              "        dataTable['output_type'] = 'display_data';\n",
              "        await google.colab.output.renderOutput(dataTable, element);\n",
              "        const docLink = document.createElement('div');\n",
              "        docLink.innerHTML = docLinkHtml;\n",
              "        element.appendChild(docLink);\n",
              "      }\n",
              "    </script>\n",
              "  </div>\n",
              "\n",
              "\n",
              "<div id=\"df-752b3afb-e41b-4b2d-b1c6-d68de093eb21\">\n",
              "  <button class=\"colab-df-quickchart\" onclick=\"quickchart('df-752b3afb-e41b-4b2d-b1c6-d68de093eb21')\"\n",
              "            title=\"Suggest charts.\"\n",
              "            style=\"display:none;\">\n",
              "\n",
              "<svg xmlns=\"http://www.w3.org/2000/svg\" height=\"24px\"viewBox=\"0 0 24 24\"\n",
              "     width=\"24px\">\n",
              "    <g>\n",
              "        <path d=\"M19 3H5c-1.1 0-2 .9-2 2v14c0 1.1.9 2 2 2h14c1.1 0 2-.9 2-2V5c0-1.1-.9-2-2-2zM9 17H7v-7h2v7zm4 0h-2V7h2v10zm4 0h-2v-4h2v4z\"/>\n",
              "    </g>\n",
              "</svg>\n",
              "  </button>\n",
              "\n",
              "<style>\n",
              "  .colab-df-quickchart {\n",
              "    background-color: #E8F0FE;\n",
              "    border: none;\n",
              "    border-radius: 50%;\n",
              "    cursor: pointer;\n",
              "    display: none;\n",
              "    fill: #1967D2;\n",
              "    height: 32px;\n",
              "    padding: 0 0 0 0;\n",
              "    width: 32px;\n",
              "  }\n",
              "\n",
              "  .colab-df-quickchart:hover {\n",
              "    background-color: #E2EBFA;\n",
              "    box-shadow: 0px 1px 2px rgba(60, 64, 67, 0.3), 0px 1px 3px 1px rgba(60, 64, 67, 0.15);\n",
              "    fill: #174EA6;\n",
              "  }\n",
              "\n",
              "  [theme=dark] .colab-df-quickchart {\n",
              "    background-color: #3B4455;\n",
              "    fill: #D2E3FC;\n",
              "  }\n",
              "\n",
              "  [theme=dark] .colab-df-quickchart:hover {\n",
              "    background-color: #434B5C;\n",
              "    box-shadow: 0px 1px 3px 1px rgba(0, 0, 0, 0.15);\n",
              "    filter: drop-shadow(0px 1px 2px rgba(0, 0, 0, 0.3));\n",
              "    fill: #FFFFFF;\n",
              "  }\n",
              "</style>\n",
              "\n",
              "  <script>\n",
              "    async function quickchart(key) {\n",
              "      const charts = await google.colab.kernel.invokeFunction(\n",
              "          'suggestCharts', [key], {});\n",
              "    }\n",
              "    (() => {\n",
              "      let quickchartButtonEl =\n",
              "        document.querySelector('#df-752b3afb-e41b-4b2d-b1c6-d68de093eb21 button');\n",
              "      quickchartButtonEl.style.display =\n",
              "        google.colab.kernel.accessAllowed ? 'block' : 'none';\n",
              "    })();\n",
              "  </script>\n",
              "</div>\n",
              "    </div>\n",
              "  </div>\n"
            ]
          },
          "metadata": {},
          "execution_count": 315
        }
      ]
    },
    {
      "cell_type": "code",
      "source": [
        "# Criando um novo dataset\n",
        "#datasetBalanceado.to_csv('dataset_SMOTE100_Scaler.csv', index=False)"
      ],
      "metadata": {
        "id": "DM8RDQ4N5fTM"
      },
      "execution_count": null,
      "outputs": []
    },
    {
      "cell_type": "markdown",
      "source": [
        "# Classificação"
      ],
      "metadata": {
        "id": "VcK2oS1p7rw3"
      }
    },
    {
      "cell_type": "code",
      "source": [
        "# Dividindo o dataset em conjunto de treino e teste\n",
        "train, test, train_labels, test_labels = train_test_split(\n",
        "    atributosBalanceados, rotulosBalanceados,test_size = 0.33, random_state = 42,\n",
        "    stratify=rotulosBalanceados)"
      ],
      "metadata": {
        "id": "R7dHDowleX0Z"
      },
      "execution_count": null,
      "outputs": []
    },
    {
      "cell_type": "code",
      "source": [
        "# Inicializando classificador\n",
        "ada = AdaBoostClassifier(estimator = DecisionTreeClassifier(), learning_rate = 0.5, n_estimators = 100)"
      ],
      "metadata": {
        "id": "7T0fFkHW7yry"
      },
      "execution_count": null,
      "outputs": []
    },
    {
      "cell_type": "code",
      "source": [
        "# treinando\n",
        "model = ada.fit(train, train_labels)"
      ],
      "metadata": {
        "id": "NmihB6bJ733C"
      },
      "execution_count": null,
      "outputs": []
    },
    {
      "cell_type": "code",
      "source": [
        "# Previsões\n",
        "preds = ada.predict(test)\n",
        "preds"
      ],
      "metadata": {
        "colab": {
          "base_uri": "https://localhost:8080/"
        },
        "id": "0615Ga0K75PS",
        "outputId": "6925d9c8-3151-4120-c75e-d9d98ffba981"
      },
      "execution_count": null,
      "outputs": [
        {
          "output_type": "execute_result",
          "data": {
            "text/plain": [
              "array([0, 1, 1, ..., 1, 1, 0])"
            ]
          },
          "metadata": {},
          "execution_count": 320
        }
      ]
    },
    {
      "cell_type": "code",
      "source": [
        "# Avaliando acurácia\n",
        "print(accuracy_score(test_labels, preds))"
      ],
      "metadata": {
        "colab": {
          "base_uri": "https://localhost:8080/"
        },
        "id": "g6nmGJn_76jn",
        "outputId": "4fe60bf9-af16-435e-f518-6d0714fa177c"
      },
      "execution_count": null,
      "outputs": [
        {
          "output_type": "stream",
          "name": "stdout",
          "text": [
            "0.8504034065441506\n"
          ]
        }
      ]
    },
    {
      "cell_type": "code",
      "source": [
        "# F1-score\n",
        "print(f1_score(test_labels, preds))"
      ],
      "metadata": {
        "colab": {
          "base_uri": "https://localhost:8080/"
        },
        "id": "3doU1x5nwgSX",
        "outputId": "ab21b25c-a003-42ca-a3a0-a337e7531972"
      },
      "execution_count": null,
      "outputs": [
        {
          "output_type": "stream",
          "name": "stdout",
          "text": [
            "0.8512866213657125\n"
          ]
        }
      ]
    },
    {
      "cell_type": "code",
      "source": [
        "# Analisando\n",
        "print(classification_report(test_labels, preds))"
      ],
      "metadata": {
        "colab": {
          "base_uri": "https://localhost:8080/"
        },
        "id": "K6Siw5z978ja",
        "outputId": "c3f6e592-cd5d-41eb-e5f3-924613b35153"
      },
      "execution_count": null,
      "outputs": [
        {
          "output_type": "stream",
          "name": "stdout",
          "text": [
            "              precision    recall  f1-score   support\n",
            "\n",
            "           0       0.85      0.84      0.85      4462\n",
            "           1       0.85      0.86      0.85      4462\n",
            "\n",
            "    accuracy                           0.85      8924\n",
            "   macro avg       0.85      0.85      0.85      8924\n",
            "weighted avg       0.85      0.85      0.85      8924\n",
            "\n"
          ]
        }
      ]
    },
    {
      "cell_type": "code",
      "source": [
        "# Avaliando modelo com valor curva ROC\n",
        "testeroc = RocCurveDisplay.from_estimator(ada, atributosBalanceados, rotulosBalanceados)\n",
        "plt.show()"
      ],
      "metadata": {
        "colab": {
          "base_uri": "https://localhost:8080/",
          "height": 449
        },
        "id": "5hb3tiOE8Adt",
        "outputId": "56a7acfb-92de-4538-8143-6b5b631922ab"
      },
      "execution_count": null,
      "outputs": [
        {
          "output_type": "display_data",
          "data": {
            "text/plain": [
              "<Figure size 640x480 with 1 Axes>"
            ],
            "image/png": "[encoded data removed]"
          },
          "metadata": {}
        }
      ]
    },
    {
      "cell_type": "code",
      "source": [
        "# Matriz de correlação\n",
        "matriz_correlacao = pd.crosstab(test_labels, preds, rownames=['Real'],\n",
        "                                colnames=['Predito'])\n",
        "# Plotar mapa de calor\n",
        "sns.heatmap(matriz_correlacao, annot=True, cmap='Blues', fmt='d')\n",
        "plt.title('Matriz de Correlação')\n",
        "plt.show()"
      ],
      "metadata": {
        "colab": {
          "base_uri": "https://localhost:8080/",
          "height": 472
        },
        "id": "P2lYqtQr8CVr",
        "outputId": "8d31aeb6-8aad-4802-9ffc-16f89cba1ba7"
      },
      "execution_count": null,
      "outputs": [
        {
          "output_type": "display_data",
          "data": {
            "text/plain": [
              "<Figure size 640x480 with 2 Axes>"
            ],
            "image/png": "[encoded data removed]"
          },
          "metadata": {}
        }
      ]
    },
    {
      "cell_type": "markdown",
      "source": [
        "# GridSearchCV"
      ],
      "metadata": {
        "id": "DauRoIgX9Ga-"
      }
    },
    {
      "cell_type": "code",
      "source": [
        "'''from sklearn.model_selection import GridSearchCV\n",
        "\n",
        "# Definir o modelo que deseja otimizar (por exemplo, AdaBoostClassifier)\n",
        "model = AdaBoostClassifier()\n",
        "\n",
        "# Definir os parâmetros que deseja otimizar para o modelo\n",
        "parameters = {\n",
        "    'n_estimators': [50, 100, 150],\n",
        "    'learning_rate': [0.5, 1.0, 1.5],\n",
        "    'estimator': [DecisionTreeClassifier(), LogisticRegression()],\n",
        "}\n",
        "\n",
        "# Criar o objeto GridSearchCV com o modelo e os parâmetros definidos\n",
        "grid_search = GridSearchCV(model, parameters)\n",
        "\n",
        "# Executar a busca em grade usando o conjunto de treinamento e etiquetas de treinamento\n",
        "grid_search.fit(train, train_labels)\n",
        "\n",
        "# Melhores parâmetros encontrados\n",
        "best_params = grid_search.best_params_\n",
        "best_params'''"
      ],
      "metadata": {
        "id": "7OR4zIe7AX_v",
        "colab": {
          "base_uri": "https://localhost:8080/"
        },
        "outputId": "6df2f65b-949c-4efb-8316-aa40fc903c46"
      },
      "execution_count": null,
      "outputs": [
        {
          "output_type": "execute_result",
          "data": {
            "text/plain": [
              "\"from sklearn.model_selection import GridSearchCV\\n\\n# Definir o modelo que deseja otimizar (por exemplo, AdaBoostClassifier)\\nmodel = AdaBoostClassifier()\\n\\n# Definir os parâmetros que deseja otimizar para o modelo\\nparameters = {\\n    'n_estimators': [50, 100, 150],\\n    'learning_rate': [0.5, 1.0, 1.5],\\n    'estimator': [DecisionTreeClassifier(), LogisticRegression()],\\n}\\n\\n# Criar o objeto GridSearchCV com o modelo e os parâmetros definidos\\ngrid_search = GridSearchCV(model, parameters)\\n\\n# Executar a busca em grade usando o conjunto de treinamento e etiquetas de treinamento\\ngrid_search.fit(train, train_labels)\\n\\n# Melhores parâmetros encontrados\\nbest_params = grid_search.best_params_\\nbest_params\""
            ],
            "application/vnd.google.colaboratory.intrinsic+json": {
              "type": "string"
            }
          },
          "metadata": {},
          "execution_count": 326
        }
      ]
    }
  ]
}