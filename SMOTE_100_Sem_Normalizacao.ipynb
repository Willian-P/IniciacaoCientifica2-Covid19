{
  "nbformat": 4,
  "nbformat_minor": 0,
  "metadata": {
    "colab": {
      "provenance": [],
      "collapsed_sections": [
        "gAc0zNIAqUEr",
        "wKyC10bMrUKI",
        "cJVtFTDMvOLk",
        "yhyPfXz1v2a0",
        "_MGwotqdwL-k",
        "yjjJUiZpwrvu",
        "gHkOrHKMxQse",
        "lR8RJSAt4DN9",
        "LLIGQIS94qMe",
        "vpGh7SwM5bKu",
        "UB5jC4Oz57FL",
        "1ZoM6lDcZfsT"
      ],
      "authorship_tag": "ABX9TyMy7p0EU4rOE+IZhsUJuB76"
    },
    "kernelspec": {
      "name": "python3",
      "display_name": "Python 3"
    },
    "language_info": {
      "name": "python"
    }
  },
  "cells": [
    {
      "cell_type": "markdown",
      "source": [
        "# Dataset SMOTE 100% e **não** normalizado"
      ],
      "metadata": {
        "id": "gAc0zNIAqUEr"
      }
    },
    {
      "cell_type": "code",
      "execution_count": null,
      "metadata": {
        "id": "2CAx4VSvpn7z"
      },
      "outputs": [],
      "source": [
        "# Importações de Bibliotecas\n",
        "import pandas as pd\n",
        "import numpy as np\n",
        "import sklearn\n",
        "import math\n",
        "\n",
        "# Datas\n",
        "from datetime import datetime, timedelta\n",
        "\n",
        "# Gráficos\n",
        "import matplotlib.pyplot as plt\n",
        "import seaborn as sns\n",
        "\n",
        "# Balanceamento\n",
        "# from imblearn.under_sampling import NearMiss\n",
        "from imblearn.over_sampling import SMOTE\n",
        "\n",
        "# Divisão de dados\n",
        "from sklearn.model_selection import train_test_split\n",
        "\n",
        "# Classificador\n",
        "from sklearn.ensemble import AdaBoostClassifier\n",
        "from sklearn.linear_model import LogisticRegression\n",
        "from sklearn.tree import DecisionTreeClassifier\n",
        "\n",
        "# Métricas\n",
        "from sklearn.metrics import accuracy_score, classification_report, RocCurveDisplay, f1_score"
      ]
    },
    {
      "cell_type": "code",
      "source": [
        "# Local do Dataset\n",
        "url = \"https://s3.sa-east-1.amazonaws.com/ckan.saude.gov.br/SRAG/2022/INFLUD22-23-01-2023.csv\""
      ],
      "metadata": {
        "id": "wE1JPqAKqr5M"
      },
      "execution_count": null,
      "outputs": []
    },
    {
      "cell_type": "code",
      "source": [
        "# Carregando Dataset\n",
        "data = pd.read_csv(url, sep=';', na_filter = True)\n",
        "print(f\"{len(data)} linhas lidas\")"
      ],
      "metadata": {
        "colab": {
          "base_uri": "https://localhost:8080/"
        },
        "id": "lBJwvOL6rFtM",
        "outputId": "fd634141-ead8-47cb-add9-e5b949bc7364"
      },
      "execution_count": null,
      "outputs": [
        {
          "output_type": "stream",
          "name": "stderr",
          "text": [
            "<ipython-input-105-5503c4e8948e>:2: DtypeWarning: Columns (15,59,61,62,63,91,93,105,107,120,122,143) have mixed types. Specify dtype option on import or set low_memory=False.\n",
            "  data = pd.read_csv(url, sep=';', na_filter = True)\n"
          ]
        },
        {
          "output_type": "stream",
          "name": "stdout",
          "text": [
            "561242 linhas lidas\n"
          ]
        }
      ]
    },
    {
      "cell_type": "code",
      "source": [
        "# Formato do Dataset\n",
        "data.shape"
      ],
      "metadata": {
        "colab": {
          "base_uri": "https://localhost:8080/"
        },
        "id": "xTFzAGgorHa0",
        "outputId": "b503ce9b-47ae-436b-88e7-d7eca2a638c8"
      },
      "execution_count": null,
      "outputs": [
        {
          "output_type": "execute_result",
          "data": {
            "text/plain": [
              "(561242, 166)"
            ]
          },
          "metadata": {},
          "execution_count": 106
        }
      ]
    },
    {
      "cell_type": "markdown",
      "source": [
        "# Delimitando Dataset"
      ],
      "metadata": {
        "id": "wKyC10bMrUKI"
      }
    },
    {
      "cell_type": "markdown",
      "source": [
        "Este dataset é composto por notificações realacionadas as Síndromes Respiratórias Agudas Graves SRAGs no Brasil no ano de 2022"
      ],
      "metadata": {
        "id": "DY2Pg9EhrOhG"
      }
    },
    {
      "cell_type": "code",
      "source": [
        "# Delimitando apenas para notificações de Covid-19\n",
        "data = data[data['CLASSI_FIN'] == 5]\n",
        "data.shape"
      ],
      "metadata": {
        "colab": {
          "base_uri": "https://localhost:8080/"
        },
        "id": "rB4xjcegrHiW",
        "outputId": "0478978b-2cb6-40c0-bc97-2ccfa0721283"
      },
      "execution_count": null,
      "outputs": [
        {
          "output_type": "execute_result",
          "data": {
            "text/plain": [
              "(235891, 166)"
            ]
          },
          "metadata": {},
          "execution_count": 5
        }
      ]
    },
    {
      "cell_type": "code",
      "source": [
        "# Deixando apenas com notificações do Paraná\n",
        "data = data[data['SG_UF_NOT'] == 'PR']\n",
        "data.shape"
      ],
      "metadata": {
        "colab": {
          "base_uri": "https://localhost:8080/"
        },
        "id": "9guxBCopsQyg",
        "outputId": "e75c6456-9a3a-49a3-9d32-3247bdeefb8c"
      },
      "execution_count": null,
      "outputs": [
        {
          "output_type": "execute_result",
          "data": {
            "text/plain": [
              "(19002, 166)"
            ]
          },
          "metadata": {},
          "execution_count": 6
        }
      ]
    },
    {
      "cell_type": "code",
      "source": [
        "# Removendo instâncias com 3 e 9, pois equivalem, respectivamente a \"óbito por outras causas\" e \"ignorado\"\n",
        "data = data[(data['EVOLUCAO'] == 1) | (data['EVOLUCAO'] == 2)]\n",
        "\n",
        "# Atualizando o target 'EVOLUCAO' para 0 e 1\n",
        "data['EVOLUCAO'] = data['EVOLUCAO'].map({1: 0, 2: 1})\n",
        "data.shape"
      ],
      "metadata": {
        "colab": {
          "base_uri": "https://localhost:8080/"
        },
        "id": "DaXxBeA1uyW0",
        "outputId": "51e6de20-0b48-4b27-a02f-1990e10f2abf"
      },
      "execution_count": null,
      "outputs": [
        {
          "output_type": "stream",
          "name": "stderr",
          "text": [
            "<ipython-input-7-da8d121ee4c8>:5: SettingWithCopyWarning: \n",
            "A value is trying to be set on a copy of a slice from a DataFrame.\n",
            "Try using .loc[row_indexer,col_indexer] = value instead\n",
            "\n",
            "See the caveats in the documentation: https://pandas.pydata.org/pandas-docs/stable/user_guide/indexing.html#returning-a-view-versus-a-copy\n",
            "  data['EVOLUCAO'] = data['EVOLUCAO'].map({1: 0, 2: 1})\n"
          ]
        },
        {
          "output_type": "execute_result",
          "data": {
            "text/plain": [
              "(17699, 166)"
            ]
          },
          "metadata": {},
          "execution_count": 7
        }
      ]
    },
    {
      "cell_type": "markdown",
      "source": [
        "# Eliminação Manual de Atributos"
      ],
      "metadata": {
        "id": "cJVtFTDMvOLk"
      }
    },
    {
      "cell_type": "code",
      "source": [
        "# Dados redundantes após a delimitação\n",
        "data.drop(['CLASSI_FIN', 'SG_UF_NOT'], axis=1, inplace=True)\n",
        "data.shape"
      ],
      "metadata": {
        "colab": {
          "base_uri": "https://localhost:8080/"
        },
        "id": "cwKxvEPCvXcd",
        "outputId": "68796dbe-ebe1-4f5a-852e-71f814eb5f33"
      },
      "execution_count": null,
      "outputs": [
        {
          "output_type": "stream",
          "name": "stderr",
          "text": [
            "<ipython-input-8-282e3f1eb280>:2: SettingWithCopyWarning: \n",
            "A value is trying to be set on a copy of a slice from a DataFrame\n",
            "\n",
            "See the caveats in the documentation: https://pandas.pydata.org/pandas-docs/stable/user_guide/indexing.html#returning-a-view-versus-a-copy\n",
            "  data.drop(['CLASSI_FIN', 'SG_UF_NOT'], axis=1, inplace=True)\n"
          ]
        },
        {
          "output_type": "execute_result",
          "data": {
            "text/plain": [
              "(17699, 164)"
            ]
          },
          "metadata": {},
          "execution_count": 8
        }
      ]
    },
    {
      "cell_type": "code",
      "source": [
        "# Retirando atributos categorizadas como Campos Internos\n",
        "data.drop([\"SEM_NOT\", \"SEM_PRI\", \"ID_REGIONA\", \"CO_REGIONA\", \"ID_RG_RESI\",\n",
        "           \"CO_RG_RESI\", \"FNT_IN_COV\", \"ID_RG_INTE\", \"CO_RG_INTE\", \"DT_DIGITA\"],\n",
        "          axis=1, inplace=True)\n",
        "data.shape"
      ],
      "metadata": {
        "colab": {
          "base_uri": "https://localhost:8080/"
        },
        "id": "UmkyCdD5vezX",
        "outputId": "30753589-cffb-4a5f-8c72-c4759139d9a1"
      },
      "execution_count": null,
      "outputs": [
        {
          "output_type": "execute_result",
          "data": {
            "text/plain": [
              "(17699, 154)"
            ]
          },
          "metadata": {},
          "execution_count": 9
        }
      ]
    },
    {
      "cell_type": "code",
      "source": [
        "# Atributos Relacionados a localização\n",
        "data.drop([\"ID_MUNICIP\", \"CO_MUN_NOT\", \"ID_UNIDADE\", \"CO_UNI_NOT\", \"ID_PAIS\",\n",
        "           \"CO_PAIS\", \"SG_UF\", \"ID_MN_RESI\", \"CO_MUN_RES\", \"CS_ZONA\", \"ESTRANG\",\n",
        "           \"SG_UF_INTE\", \"ID_MN_INTE\", \"CO_MU_INTE\"], axis=1, inplace=True)\n",
        "data.shape"
      ],
      "metadata": {
        "colab": {
          "base_uri": "https://localhost:8080/"
        },
        "id": "MP_uM7kgve2N",
        "outputId": "75acbc99-6bc4-4823-b214-9e045556faf1"
      },
      "execution_count": null,
      "outputs": [
        {
          "output_type": "execute_result",
          "data": {
            "text/plain": [
              "(17699, 140)"
            ]
          },
          "metadata": {},
          "execution_count": 10
        }
      ]
    },
    {
      "cell_type": "code",
      "source": [
        "# Redundância na idade\n",
        "data.drop([\"DT_NASC\", \"TP_IDADE\", \"COD_IDADE\"], axis=1, inplace=True)\n",
        "data.shape"
      ],
      "metadata": {
        "colab": {
          "base_uri": "https://localhost:8080/"
        },
        "id": "vMeQcJT0vlQJ",
        "outputId": "d6378f35-0d7e-45ee-a751-086e114fdf64"
      },
      "execution_count": null,
      "outputs": [
        {
          "output_type": "execute_result",
          "data": {
            "text/plain": [
              "(17699, 137)"
            ]
          },
          "metadata": {},
          "execution_count": 11
        }
      ]
    },
    {
      "cell_type": "code",
      "source": [
        "# Dados relacionados a informações da vacina\n",
        "data.drop([\"LOTE_1_COV\", \"LOTE_2_COV\",\"LOTE_REF\", \"FAB_COV_1\", \"FAB_COV_2\",\n",
        "           \"FAB_COVREF\", \"LAB_PR_COV\"], axis=1, inplace=True)\n",
        "data.shape"
      ],
      "metadata": {
        "colab": {
          "base_uri": "https://localhost:8080/"
        },
        "id": "ajlNAGJKvmmB",
        "outputId": "946b61d5-04d8-4fa0-85cf-316be7598baf"
      },
      "execution_count": null,
      "outputs": [
        {
          "output_type": "execute_result",
          "data": {
            "text/plain": [
              "(17699, 130)"
            ]
          },
          "metadata": {},
          "execution_count": 12
        }
      ]
    },
    {
      "cell_type": "code",
      "source": [
        "# Atributos que não constam no dicionário de dados\n",
        "data.drop([\"HISTO_VGM\", \"PCR_SARS2\"], axis=1, inplace=True)\n",
        "data.shape"
      ],
      "metadata": {
        "colab": {
          "base_uri": "https://localhost:8080/"
        },
        "id": "Q40jd46Bvn48",
        "outputId": "3a65de39-fa15-459c-ce04-7c42a8e265c0"
      },
      "execution_count": null,
      "outputs": [
        {
          "output_type": "execute_result",
          "data": {
            "text/plain": [
              "(17699, 128)"
            ]
          },
          "metadata": {},
          "execution_count": 13
        }
      ]
    },
    {
      "cell_type": "code",
      "source": [
        "# datas administrativas\n",
        "data.drop([\"DT_ENCERRA\", \"DT_COLETA\"], axis=1, inplace=True)\n",
        "data.shape"
      ],
      "metadata": {
        "colab": {
          "base_uri": "https://localhost:8080/"
        },
        "id": "k46F_1hLvpOC",
        "outputId": "85f8a170-1f00-4fbf-da97-82dff120a831"
      },
      "execution_count": null,
      "outputs": [
        {
          "output_type": "execute_result",
          "data": {
            "text/plain": [
              "(17699, 126)"
            ]
          },
          "metadata": {},
          "execution_count": 14
        }
      ]
    },
    {
      "cell_type": "code",
      "source": [
        "# Outras colunas\n",
        "data.drop([\"AVE_SUINO\", \"CS_RACA\"], axis=1, inplace=True)\n",
        "data.shape"
      ],
      "metadata": {
        "colab": {
          "base_uri": "https://localhost:8080/"
        },
        "id": "rofQ3t9xvqks",
        "outputId": "a540e215-46a7-4910-dede-2ad5bcf0366f"
      },
      "execution_count": null,
      "outputs": [
        {
          "output_type": "execute_result",
          "data": {
            "text/plain": [
              "(17699, 124)"
            ]
          },
          "metadata": {},
          "execution_count": 15
        }
      ]
    },
    {
      "cell_type": "code",
      "source": [
        "data.info()"
      ],
      "metadata": {
        "colab": {
          "base_uri": "https://localhost:8080/"
        },
        "id": "uGfTZnanvyPI",
        "outputId": "59b0c6ef-1810-4df6-f501-690837dd14c7"
      },
      "execution_count": null,
      "outputs": [
        {
          "output_type": "stream",
          "name": "stdout",
          "text": [
            "<class 'pandas.core.frame.DataFrame'>\n",
            "Int64Index: 17699 entries, 32 to 561154\n",
            "Columns: 124 entries, DT_NOTIFIC to DOSE_REF\n",
            "dtypes: float64(81), int64(4), object(39)\n",
            "memory usage: 16.9+ MB\n"
          ]
        }
      ]
    },
    {
      "cell_type": "markdown",
      "source": [
        "# Tratamento de Valores Ignorados"
      ],
      "metadata": {
        "id": "yhyPfXz1v2a0"
      }
    },
    {
      "cell_type": "code",
      "source": [
        "# Alteração dos valores 9 (ignorados) para NaN\n",
        "for column in data:\n",
        "  if ((data[column].dtypes != 'object') and\n",
        "   (column != 'NU_IDADE_N')) or (column == 'CS_SEXO'):\n",
        "    data[column] = data[column].apply(lambda x: np.nan if x == 9 else x)"
      ],
      "metadata": {
        "id": "DvOyUbLAv6Bg"
      },
      "execution_count": null,
      "outputs": []
    },
    {
      "cell_type": "markdown",
      "source": [
        "# Filtro 50%"
      ],
      "metadata": {
        "id": "_MGwotqdwL-k"
      }
    },
    {
      "cell_type": "markdown",
      "source": [
        "Filtro de 50% em linhas e colunas, prezando pela qualidade e não quantidade de dados."
      ],
      "metadata": {
        "id": "p-R3HIMBwRKW"
      }
    },
    {
      "cell_type": "code",
      "source": [
        "# Limiar de procentagem de dados faltantes\n",
        "threshold = 0.5\n",
        "\n",
        "# Calcula a porcentagem de dados faltantes em cada coluna\n",
        "porcentagem_nan = data.isnull().sum() / len(data)\n",
        "\n",
        "# Filtra as colunas que têm mais de 50% dos dados faltantes\n",
        "colunas_remocao = porcentagem_nan[porcentagem_nan > threshold].index\n",
        "\n",
        "# Remoção das colunas\n",
        "data = data.drop(colunas_remocao, axis=1)\n",
        "\n",
        "print(f'{len(colunas_remocao)} colunas foram removidas')\n",
        "print(data.shape)"
      ],
      "metadata": {
        "colab": {
          "base_uri": "https://localhost:8080/"
        },
        "id": "5MV2H4Q9wOEY",
        "outputId": "a792e8b0-5835-4852-a186-7355073016fc"
      },
      "execution_count": null,
      "outputs": [
        {
          "output_type": "stream",
          "name": "stdout",
          "text": [
            "82 colunas foram removidas\n",
            "(17699, 42)\n"
          ]
        }
      ]
    },
    {
      "cell_type": "code",
      "source": [
        "data.info()"
      ],
      "metadata": {
        "colab": {
          "base_uri": "https://localhost:8080/"
        },
        "id": "r2GdphQWwXqQ",
        "outputId": "989a4d3e-2100-4747-e418-6295b2a1d202"
      },
      "execution_count": null,
      "outputs": [
        {
          "output_type": "stream",
          "name": "stdout",
          "text": [
            "<class 'pandas.core.frame.DataFrame'>\n",
            "Int64Index: 17699 entries, 32 to 561154\n",
            "Data columns (total 42 columns):\n",
            " #   Column      Non-Null Count  Dtype  \n",
            "---  ------      --------------  -----  \n",
            " 0   DT_NOTIFIC  17699 non-null  object \n",
            " 1   DT_SIN_PRI  17699 non-null  object \n",
            " 2   CS_SEXO     17699 non-null  object \n",
            " 3   NU_IDADE_N  17699 non-null  int64  \n",
            " 4   CS_GESTANT  17444 non-null  float64\n",
            " 5   NOSOCOMIAL  16050 non-null  float64\n",
            " 6   FEBRE       14589 non-null  float64\n",
            " 7   TOSSE       15203 non-null  float64\n",
            " 8   GARGANTA    13245 non-null  float64\n",
            " 9   DISPNEIA    14895 non-null  float64\n",
            " 10  DESC_RESP   14042 non-null  float64\n",
            " 11  SATURACAO   14704 non-null  float64\n",
            " 12  DIARREIA    12727 non-null  float64\n",
            " 13  VOMITO      12720 non-null  float64\n",
            " 14  OUTRO_SIN   12936 non-null  float64\n",
            " 15  FATOR_RISC  17699 non-null  int64  \n",
            " 16  CARDIOPATI  9805 non-null   float64\n",
            " 17  DIABETES    9129 non-null   float64\n",
            " 18  OUT_MORBI   9683 non-null   float64\n",
            " 19  ANTIVIRAL   15008 non-null  float64\n",
            " 20  HOSPITAL    17598 non-null  float64\n",
            " 21  DT_INTERNA  17160 non-null  object \n",
            " 22  UTI         16849 non-null  float64\n",
            " 23  SUPORT_VEN  16875 non-null  float64\n",
            " 24  RAIOX_RES   11129 non-null  float64\n",
            " 25  AMOSTRA     17294 non-null  float64\n",
            " 26  TP_AMOSTRA  16833 non-null  float64\n",
            " 27  PCR_RESUL   16780 non-null  float64\n",
            " 28  DT_PCR      11124 non-null  object \n",
            " 29  POS_PCROUT  10088 non-null  float64\n",
            " 30  CRITERIO    17363 non-null  float64\n",
            " 31  EVOLUCAO    17699 non-null  int64  \n",
            " 32  DT_EVOLUCA  17542 non-null  object \n",
            " 33  DOR_ABD     12549 non-null  float64\n",
            " 34  FADIGA      12869 non-null  float64\n",
            " 35  PERD_OLFT   12389 non-null  float64\n",
            " 36  PERD_PALA   12357 non-null  float64\n",
            " 37  TOMO_RES    9981 non-null   float64\n",
            " 38  RES_AN      17153 non-null  float64\n",
            " 39  VACINA_COV  17355 non-null  float64\n",
            " 40  DOSE_1_COV  12965 non-null  object \n",
            " 41  DOSE_2_COV  12287 non-null  object \n",
            "dtypes: float64(31), int64(3), object(8)\n",
            "memory usage: 5.8+ MB\n"
          ]
        }
      ]
    },
    {
      "cell_type": "code",
      "source": [
        "# Reinicia o index de cada instância\n",
        "data = data.reset_index(drop=True)"
      ],
      "metadata": {
        "id": "KoRrUEUGwbaa"
      },
      "execution_count": null,
      "outputs": []
    },
    {
      "cell_type": "code",
      "source": [
        "# Limiar de procentagem de dados faltantes\n",
        "threshold = 0.5\n",
        "\n",
        "# Calcula a porcentagem de dados faltantes em cada linha\n",
        "porcentagem_nan = data.isnull().sum(axis=1) / data.shape[1]\n",
        "\n",
        "# Filtra as linhas que têm mais de 50% dos dados faltantes\n",
        "linhas_remocao = porcentagem_nan[porcentagem_nan > threshold].index\n",
        "\n",
        "# Remove as linhas\n",
        "data = data.drop(linhas_remocao, axis=0)\n",
        "\n",
        "print(f'{len(linhas_remocao)} linhas foram removidas')\n",
        "print(data.shape)"
      ],
      "metadata": {
        "colab": {
          "base_uri": "https://localhost:8080/"
        },
        "id": "E63vmmW1wjYP",
        "outputId": "a3f5ce8d-58c8-404f-9227-9f82a17c819d"
      },
      "execution_count": null,
      "outputs": [
        {
          "output_type": "stream",
          "name": "stdout",
          "text": [
            "267 linhas foram removidas\n",
            "(17432, 42)\n"
          ]
        }
      ]
    },
    {
      "cell_type": "code",
      "source": [
        "# Reinicia o index de cada instância\n",
        "data = data.reset_index(drop=True)"
      ],
      "metadata": {
        "id": "OaTar_euwpXa"
      },
      "execution_count": null,
      "outputs": []
    },
    {
      "cell_type": "markdown",
      "source": [
        "# Preenchimento de valores NaN do tipo float"
      ],
      "metadata": {
        "id": "yjjJUiZpwrvu"
      }
    },
    {
      "cell_type": "code",
      "source": [
        "# Dados faltantes\n",
        "faltantes = data.isnull().sum()\n",
        "faltantes"
      ],
      "metadata": {
        "colab": {
          "base_uri": "https://localhost:8080/"
        },
        "id": "Yw8ikTh9wyE-",
        "outputId": "65cc97f8-21e5-4c3d-ab6e-25b52d65a675"
      },
      "execution_count": null,
      "outputs": [
        {
          "output_type": "execute_result",
          "data": {
            "text/plain": [
              "DT_NOTIFIC       0\n",
              "DT_SIN_PRI       0\n",
              "CS_SEXO          0\n",
              "NU_IDADE_N       0\n",
              "CS_GESTANT     249\n",
              "NOSOCOMIAL    1582\n",
              "FEBRE         2871\n",
              "TOSSE         2271\n",
              "GARGANTA      4203\n",
              "DISPNEIA      2564\n",
              "DESC_RESP     3406\n",
              "SATURACAO     2756\n",
              "DIARREIA      4712\n",
              "VOMITO        4714\n",
              "OUTRO_SIN     4522\n",
              "FATOR_RISC       0\n",
              "CARDIOPATI    7639\n",
              "DIABETES      8314\n",
              "OUT_MORBI     7762\n",
              "ANTIVIRAL     2580\n",
              "HOSPITAL        73\n",
              "DT_INTERNA     486\n",
              "UTI            777\n",
              "SUPORT_VEN     607\n",
              "RAIOX_RES     6310\n",
              "AMOSTRA        360\n",
              "TP_AMOSTRA     809\n",
              "PCR_RESUL      722\n",
              "DT_PCR        6336\n",
              "POS_PCROUT    7362\n",
              "CRITERIO       331\n",
              "EVOLUCAO         0\n",
              "DT_EVOLUCA     137\n",
              "DOR_ABD       4883\n",
              "FADIGA        4567\n",
              "PERD_OLFT     5043\n",
              "PERD_PALA     5075\n",
              "TOMO_RES      7470\n",
              "RES_AN         523\n",
              "VACINA_COV     284\n",
              "DOSE_1_COV    4601\n",
              "DOSE_2_COV    5264\n",
              "dtype: int64"
            ]
          },
          "metadata": {},
          "execution_count": 23
        }
      ]
    },
    {
      "cell_type": "markdown",
      "source": [
        "Todos os NaN serão substituidos pelo valor da mediana daquele atributo."
      ],
      "metadata": {
        "id": "khSJlyy0w7Oo"
      }
    },
    {
      "cell_type": "code",
      "source": [
        "# Seleciona as colunas do tipo float\n",
        "colunas_float = data.select_dtypes(include='float64').columns\n",
        "\n",
        "# Substitui os valores NaN pela mediana de cada coluna\n",
        "data[colunas_float] = data[colunas_float].fillna(data[colunas_float].median().iloc[0])"
      ],
      "metadata": {
        "id": "gBDAF35Zw0yQ"
      },
      "execution_count": null,
      "outputs": []
    },
    {
      "cell_type": "code",
      "source": [
        "# Dados faltantes\n",
        "faltantes = data.isnull().sum()\n",
        "faltantes"
      ],
      "metadata": {
        "colab": {
          "base_uri": "https://localhost:8080/"
        },
        "id": "-zdzVkTWw00x",
        "outputId": "e4a8b08c-43a4-467e-ccfc-a170dcdba744"
      },
      "execution_count": null,
      "outputs": [
        {
          "output_type": "execute_result",
          "data": {
            "text/plain": [
              "DT_NOTIFIC       0\n",
              "DT_SIN_PRI       0\n",
              "CS_SEXO          0\n",
              "NU_IDADE_N       0\n",
              "CS_GESTANT       0\n",
              "NOSOCOMIAL       0\n",
              "FEBRE            0\n",
              "TOSSE            0\n",
              "GARGANTA         0\n",
              "DISPNEIA         0\n",
              "DESC_RESP        0\n",
              "SATURACAO        0\n",
              "DIARREIA         0\n",
              "VOMITO           0\n",
              "OUTRO_SIN        0\n",
              "FATOR_RISC       0\n",
              "CARDIOPATI       0\n",
              "DIABETES         0\n",
              "OUT_MORBI        0\n",
              "ANTIVIRAL        0\n",
              "HOSPITAL         0\n",
              "DT_INTERNA     486\n",
              "UTI              0\n",
              "SUPORT_VEN       0\n",
              "RAIOX_RES        0\n",
              "AMOSTRA          0\n",
              "TP_AMOSTRA       0\n",
              "PCR_RESUL        0\n",
              "DT_PCR        6336\n",
              "POS_PCROUT       0\n",
              "CRITERIO         0\n",
              "EVOLUCAO         0\n",
              "DT_EVOLUCA     137\n",
              "DOR_ABD          0\n",
              "FADIGA           0\n",
              "PERD_OLFT        0\n",
              "PERD_PALA        0\n",
              "TOMO_RES         0\n",
              "RES_AN           0\n",
              "VACINA_COV       0\n",
              "DOSE_1_COV    4601\n",
              "DOSE_2_COV    5264\n",
              "dtype: int64"
            ]
          },
          "metadata": {},
          "execution_count": 25
        }
      ]
    },
    {
      "cell_type": "markdown",
      "source": [
        "# Tratando Datas"
      ],
      "metadata": {
        "id": "gHkOrHKMxQse"
      }
    },
    {
      "cell_type": "markdown",
      "source": [
        "Criação de uma coluna chamada \"QTD_DIAS\" que é resultante da relação entre data da Notificação do paciente até a Evolução."
      ],
      "metadata": {
        "id": "-qm8oLyKxVya"
      }
    },
    {
      "cell_type": "markdown",
      "source": [
        "*DT_NOTIFIC com DT_EVOLUCA*"
      ],
      "metadata": {
        "id": "7QHiPYlbMnEs"
      }
    },
    {
      "cell_type": "code",
      "source": [
        "# QTD_DIAS armazena a quantidade de dias desde a notificação até a evolução.\n",
        "data['QTD_DIAS'] = ''"
      ],
      "metadata": {
        "id": "vQ7Dgahcw038"
      },
      "execution_count": null,
      "outputs": []
    },
    {
      "cell_type": "code",
      "source": [
        "# Calcula o intervalo de dias entre duas datas\n",
        "def calcular_qtd_dias(row):\n",
        "  if pd.isna(row['DT_EVOLUCA']):\n",
        "    return np.nan\n",
        "  else:\n",
        "    data1 = datetime.strptime(row['DT_NOTIFIC'], '%d/%m/%Y')\n",
        "    data2 = datetime.strptime(row['DT_EVOLUCA'], '%d/%m/%Y')\n",
        "    dias = abs((data2 - data1).days)\n",
        "    return dias\n",
        "\n",
        "# Chama a função e atribui o resultado à coluna 'QTD_DIAS'\n",
        "data['QTD_DIAS'] = data.apply(calcular_qtd_dias, axis=1)"
      ],
      "metadata": {
        "id": "H1xKl65fxcjM"
      },
      "execution_count": null,
      "outputs": []
    },
    {
      "cell_type": "code",
      "source": [
        "data[['DT_NOTIFIC', 'DT_EVOLUCA', 'QTD_DIAS']]"
      ],
      "metadata": {
        "colab": {
          "base_uri": "https://localhost:8080/"
        },
        "id": "x8BN6BGXxcmW",
        "outputId": "21057140-4978-4d43-fc39-d8e60ce89ba8"
      },
      "execution_count": null,
      "outputs": [
        {
          "output_type": "execute_result",
          "data": {
            "text/plain": [
              "       DT_NOTIFIC  DT_EVOLUCA  QTD_DIAS\n",
              "0      05/01/2022  06/01/2022       1.0\n",
              "1      07/01/2022  25/01/2022      18.0\n",
              "2      10/01/2022  13/01/2022       3.0\n",
              "3      19/01/2022  07/02/2022      19.0\n",
              "4      10/01/2022  13/01/2022       3.0\n",
              "...           ...         ...       ...\n",
              "17427  29/06/2022  29/06/2022       0.0\n",
              "17428  09/08/2022  12/08/2022       3.0\n",
              "17429  30/08/2022  01/09/2022       2.0\n",
              "17430  10/11/2022  17/11/2022       7.0\n",
              "17431  24/12/2022  29/12/2022       5.0\n",
              "\n",
              "[17432 rows x 3 columns]"
            ],
            "text/html": [
              "\n",
              "\n",
              "  <div id=\"df-61c75f70-bece-412a-87d8-03ae3a81113a\">\n",
              "    <div class=\"colab-df-container\">\n",
              "      <div>\n",
              "<style scoped>\n",
              "    .dataframe tbody tr th:only-of-type {\n",
              "        vertical-align: middle;\n",
              "    }\n",
              "\n",
              "    .dataframe tbody tr th {\n",
              "        vertical-align: top;\n",
              "    }\n",
              "\n",
              "    .dataframe thead th {\n",
              "        text-align: right;\n",
              "    }\n",
              "</style>\n",
              "<table border=\"1\" class=\"dataframe\">\n",
              "  <thead>\n",
              "    <tr style=\"text-align: right;\">\n",
              "      <th></th>\n",
              "      <th>DT_NOTIFIC</th>\n",
              "      <th>DT_EVOLUCA</th>\n",
              "      <th>QTD_DIAS</th>\n",
              "    </tr>\n",
              "  </thead>\n",
              "  <tbody>\n",
              "    <tr>\n",
              "      <th>0</th>\n",
              "      <td>05/01/2022</td>\n",
              "      <td>06/01/2022</td>\n",
              "      <td>1.0</td>\n",
              "    </tr>\n",
              "    <tr>\n",
              "      <th>1</th>\n",
              "      <td>07/01/2022</td>\n",
              "      <td>25/01/2022</td>\n",
              "      <td>18.0</td>\n",
              "    </tr>\n",
              "    <tr>\n",
              "      <th>2</th>\n",
              "      <td>10/01/2022</td>\n",
              "      <td>13/01/2022</td>\n",
              "      <td>3.0</td>\n",
              "    </tr>\n",
              "    <tr>\n",
              "      <th>3</th>\n",
              "      <td>19/01/2022</td>\n",
              "      <td>07/02/2022</td>\n",
              "      <td>19.0</td>\n",
              "    </tr>\n",
              "    <tr>\n",
              "      <th>4</th>\n",
              "      <td>10/01/2022</td>\n",
              "      <td>13/01/2022</td>\n",
              "      <td>3.0</td>\n",
              "    </tr>\n",
              "    <tr>\n",
              "      <th>...</th>\n",
              "      <td>...</td>\n",
              "      <td>...</td>\n",
              "      <td>...</td>\n",
              "    </tr>\n",
              "    <tr>\n",
              "      <th>17427</th>\n",
              "      <td>29/06/2022</td>\n",
              "      <td>29/06/2022</td>\n",
              "      <td>0.0</td>\n",
              "    </tr>\n",
              "    <tr>\n",
              "      <th>17428</th>\n",
              "      <td>09/08/2022</td>\n",
              "      <td>12/08/2022</td>\n",
              "      <td>3.0</td>\n",
              "    </tr>\n",
              "    <tr>\n",
              "      <th>17429</th>\n",
              "      <td>30/08/2022</td>\n",
              "      <td>01/09/2022</td>\n",
              "      <td>2.0</td>\n",
              "    </tr>\n",
              "    <tr>\n",
              "      <th>17430</th>\n",
              "      <td>10/11/2022</td>\n",
              "      <td>17/11/2022</td>\n",
              "      <td>7.0</td>\n",
              "    </tr>\n",
              "    <tr>\n",
              "      <th>17431</th>\n",
              "      <td>24/12/2022</td>\n",
              "      <td>29/12/2022</td>\n",
              "      <td>5.0</td>\n",
              "    </tr>\n",
              "  </tbody>\n",
              "</table>\n",
              "<p>17432 rows × 3 columns</p>\n",
              "</div>\n",
              "      <button class=\"colab-df-convert\" onclick=\"convertToInteractive('df-61c75f70-bece-412a-87d8-03ae3a81113a')\"\n",
              "              title=\"Convert this dataframe to an interactive table.\"\n",
              "              style=\"display:none;\">\n",
              "\n",
              "  <svg xmlns=\"http://www.w3.org/2000/svg\" height=\"24px\"viewBox=\"0 0 24 24\"\n",
              "       width=\"24px\">\n",
              "    <path d=\"M0 0h24v24H0V0z\" fill=\"none\"/>\n",
              "    <path d=\"M18.56 5.44l.94 2.06.94-2.06 2.06-.94-2.06-.94-.94-2.06-.94 2.06-2.06.94zm-11 1L8.5 8.5l.94-2.06 2.06-.94-2.06-.94L8.5 2.5l-.94 2.06-2.06.94zm10 10l.94 2.06.94-2.06 2.06-.94-2.06-.94-.94-2.06-.94 2.06-2.06.94z\"/><path d=\"M17.41 7.96l-1.37-1.37c-.4-.4-.92-.59-1.43-.59-.52 0-1.04.2-1.43.59L10.3 9.45l-7.72 7.72c-.78.78-.78 2.05 0 2.83L4 21.41c.39.39.9.59 1.41.59.51 0 1.02-.2 1.41-.59l7.78-7.78 2.81-2.81c.8-.78.8-2.07 0-2.86zM5.41 20L4 18.59l7.72-7.72 1.47 1.35L5.41 20z\"/>\n",
              "  </svg>\n",
              "      </button>\n",
              "\n",
              "\n",
              "\n",
              "    <div id=\"df-059e84e1-80c5-4afc-b906-770ff4fa3a56\">\n",
              "      <button class=\"colab-df-quickchart\" onclick=\"quickchart('df-059e84e1-80c5-4afc-b906-770ff4fa3a56')\"\n",
              "              title=\"Suggest charts.\"\n",
              "              style=\"display:none;\">\n",
              "\n",
              "<svg xmlns=\"http://www.w3.org/2000/svg\" height=\"24px\"viewBox=\"0 0 24 24\"\n",
              "     width=\"24px\">\n",
              "    <g>\n",
              "        <path d=\"M19 3H5c-1.1 0-2 .9-2 2v14c0 1.1.9 2 2 2h14c1.1 0 2-.9 2-2V5c0-1.1-.9-2-2-2zM9 17H7v-7h2v7zm4 0h-2V7h2v10zm4 0h-2v-4h2v4z\"/>\n",
              "    </g>\n",
              "</svg>\n",
              "      </button>\n",
              "    </div>\n",
              "\n",
              "<style>\n",
              "  .colab-df-quickchart {\n",
              "    background-color: #E8F0FE;\n",
              "    border: none;\n",
              "    border-radius: 50%;\n",
              "    cursor: pointer;\n",
              "    display: none;\n",
              "    fill: #1967D2;\n",
              "    height: 32px;\n",
              "    padding: 0 0 0 0;\n",
              "    width: 32px;\n",
              "  }\n",
              "\n",
              "  .colab-df-quickchart:hover {\n",
              "    background-color: #E2EBFA;\n",
              "    box-shadow: 0px 1px 2px rgba(60, 64, 67, 0.3), 0px 1px 3px 1px rgba(60, 64, 67, 0.15);\n",
              "    fill: #174EA6;\n",
              "  }\n",
              "\n",
              "  [theme=dark] .colab-df-quickchart {\n",
              "    background-color: #3B4455;\n",
              "    fill: #D2E3FC;\n",
              "  }\n",
              "\n",
              "  [theme=dark] .colab-df-quickchart:hover {\n",
              "    background-color: #434B5C;\n",
              "    box-shadow: 0px 1px 3px 1px rgba(0, 0, 0, 0.15);\n",
              "    filter: drop-shadow(0px 1px 2px rgba(0, 0, 0, 0.3));\n",
              "    fill: #FFFFFF;\n",
              "  }\n",
              "</style>\n",
              "\n",
              "    <script>\n",
              "      async function quickchart(key) {\n",
              "        const containerElement = document.querySelector('#' + key);\n",
              "        const charts = await google.colab.kernel.invokeFunction(\n",
              "            'suggestCharts', [key], {});\n",
              "      }\n",
              "    </script>\n",
              "\n",
              "      <script>\n",
              "\n",
              "function displayQuickchartButton(domScope) {\n",
              "  let quickchartButtonEl =\n",
              "    domScope.querySelector('#df-059e84e1-80c5-4afc-b906-770ff4fa3a56 button.colab-df-quickchart');\n",
              "  quickchartButtonEl.style.display =\n",
              "    google.colab.kernel.accessAllowed ? 'block' : 'none';\n",
              "}\n",
              "\n",
              "        displayQuickchartButton(document);\n",
              "      </script>\n",
              "      <style>\n",
              "    .colab-df-container {\n",
              "      display:flex;\n",
              "      flex-wrap:wrap;\n",
              "      gap: 12px;\n",
              "    }\n",
              "\n",
              "    .colab-df-convert {\n",
              "      background-color: #E8F0FE;\n",
              "      border: none;\n",
              "      border-radius: 50%;\n",
              "      cursor: pointer;\n",
              "      display: none;\n",
              "      fill: #1967D2;\n",
              "      height: 32px;\n",
              "      padding: 0 0 0 0;\n",
              "      width: 32px;\n",
              "    }\n",
              "\n",
              "    .colab-df-convert:hover {\n",
              "      background-color: #E2EBFA;\n",
              "      box-shadow: 0px 1px 2px rgba(60, 64, 67, 0.3), 0px 1px 3px 1px rgba(60, 64, 67, 0.15);\n",
              "      fill: #174EA6;\n",
              "    }\n",
              "\n",
              "    [theme=dark] .colab-df-convert {\n",
              "      background-color: #3B4455;\n",
              "      fill: #D2E3FC;\n",
              "    }\n",
              "\n",
              "    [theme=dark] .colab-df-convert:hover {\n",
              "      background-color: #434B5C;\n",
              "      box-shadow: 0px 1px 3px 1px rgba(0, 0, 0, 0.15);\n",
              "      filter: drop-shadow(0px 1px 2px rgba(0, 0, 0, 0.3));\n",
              "      fill: #FFFFFF;\n",
              "    }\n",
              "  </style>\n",
              "\n",
              "      <script>\n",
              "        const buttonEl =\n",
              "          document.querySelector('#df-61c75f70-bece-412a-87d8-03ae3a81113a button.colab-df-convert');\n",
              "        buttonEl.style.display =\n",
              "          google.colab.kernel.accessAllowed ? 'block' : 'none';\n",
              "\n",
              "        async function convertToInteractive(key) {\n",
              "          const element = document.querySelector('#df-61c75f70-bece-412a-87d8-03ae3a81113a');\n",
              "          const dataTable =\n",
              "            await google.colab.kernel.invokeFunction('convertToInteractive',\n",
              "                                                     [key], {});\n",
              "          if (!dataTable) return;\n",
              "\n",
              "          const docLinkHtml = 'Like what you see? Visit the ' +\n",
              "            '<a target=\"_blank\" href=https://colab.research.google.com/notebooks/data_table.ipynb>data table notebook</a>'\n",
              "            + ' to learn more about interactive tables.';\n",
              "          element.innerHTML = '';\n",
              "          dataTable['output_type'] = 'display_data';\n",
              "          await google.colab.output.renderOutput(dataTable, element);\n",
              "          const docLink = document.createElement('div');\n",
              "          docLink.innerHTML = docLinkHtml;\n",
              "          element.appendChild(docLink);\n",
              "        }\n",
              "      </script>\n",
              "    </div>\n",
              "  </div>\n"
            ]
          },
          "metadata": {},
          "execution_count": 28
        }
      ]
    },
    {
      "cell_type": "code",
      "source": [
        "data['QTD_DIAS'].info()"
      ],
      "metadata": {
        "colab": {
          "base_uri": "https://localhost:8080/"
        },
        "id": "7TK3nH9oxco5",
        "outputId": "67ba703c-cc7c-4ce3-b57e-b39419187896"
      },
      "execution_count": null,
      "outputs": [
        {
          "output_type": "stream",
          "name": "stdout",
          "text": [
            "<class 'pandas.core.series.Series'>\n",
            "RangeIndex: 17432 entries, 0 to 17431\n",
            "Series name: QTD_DIAS\n",
            "Non-Null Count  Dtype  \n",
            "--------------  -----  \n",
            "17295 non-null  float64\n",
            "dtypes: float64(1)\n",
            "memory usage: 136.3 KB\n"
          ]
        }
      ]
    },
    {
      "cell_type": "code",
      "source": [
        "# Calcula a mediana de 'QTD_DIAS'\n",
        "data['QTD_DIAS'].median()"
      ],
      "metadata": {
        "colab": {
          "base_uri": "https://localhost:8080/"
        },
        "id": "zIRzdYRdxcr5",
        "outputId": "ff7f881d-266b-4cb0-9241-d018044111a1"
      },
      "execution_count": null,
      "outputs": [
        {
          "output_type": "execute_result",
          "data": {
            "text/plain": [
              "5.0"
            ]
          },
          "metadata": {},
          "execution_count": 30
        }
      ]
    },
    {
      "cell_type": "code",
      "source": [
        "# Conta os valores NaN em 'QTD_DIAS'\n",
        "data['QTD_DIAS'].isnull().sum()"
      ],
      "metadata": {
        "colab": {
          "base_uri": "https://localhost:8080/"
        },
        "id": "p8rDJBgsxcua",
        "outputId": "c2894bcc-0793-4708-e887-74794ceaa68b"
      },
      "execution_count": null,
      "outputs": [
        {
          "output_type": "execute_result",
          "data": {
            "text/plain": [
              "137"
            ]
          },
          "metadata": {},
          "execution_count": 31
        }
      ]
    },
    {
      "cell_type": "code",
      "source": [
        "# Preenche valores NaN com a mediana\n",
        "data['QTD_DIAS'].fillna(data['QTD_DIAS'].median(), inplace=True)"
      ],
      "metadata": {
        "id": "nBA5MhPTw06y"
      },
      "execution_count": null,
      "outputs": []
    },
    {
      "cell_type": "code",
      "source": [
        "# Converte o tipo de dados de float para int\n",
        "data['QTD_DIAS'] = data['QTD_DIAS'].astype(int)"
      ],
      "metadata": {
        "id": "7VNHz0NuxyS0"
      },
      "execution_count": null,
      "outputs": []
    },
    {
      "cell_type": "code",
      "source": [
        "data['QTD_DIAS'].info()"
      ],
      "metadata": {
        "colab": {
          "base_uri": "https://localhost:8080/"
        },
        "id": "Vh2fKQfpxyYK",
        "outputId": "7ae78351-f4b6-4d38-e2cd-cfbc1d2588b6"
      },
      "execution_count": null,
      "outputs": [
        {
          "output_type": "stream",
          "name": "stdout",
          "text": [
            "<class 'pandas.core.series.Series'>\n",
            "RangeIndex: 17432 entries, 0 to 17431\n",
            "Series name: QTD_DIAS\n",
            "Non-Null Count  Dtype\n",
            "--------------  -----\n",
            "17432 non-null  int64\n",
            "dtypes: int64(1)\n",
            "memory usage: 136.3 KB\n"
          ]
        }
      ]
    },
    {
      "cell_type": "markdown",
      "source": [
        "Criação de uma coluna chamada \"DIAS_INTERNA\" que representa a quantidade de dias que um paciente ficou hospitalizado."
      ],
      "metadata": {
        "id": "XDiss8pwx5cQ"
      }
    },
    {
      "cell_type": "markdown",
      "source": [
        "*DT_INTERNA com DT_EVOLUCA*"
      ],
      "metadata": {
        "id": "6Ymso8ATM5x4"
      }
    },
    {
      "cell_type": "code",
      "source": [
        "# DIAS_INTERNA armazena a quantidade de dias internado desde a data de internação\n",
        "# até a evolução.\n",
        "data['DIAS_INTERNA'] = ''"
      ],
      "metadata": {
        "id": "XZ_jlRenxybK"
      },
      "execution_count": null,
      "outputs": []
    },
    {
      "cell_type": "code",
      "source": [
        "# Calcula o intervalo de dias entre duas datas\n",
        "def calc_dias_interna(row):\n",
        "  if row['HOSPITAL'] == 1:\n",
        "    if pd.isna(row['DT_INTERNA']) or pd.isna(row['DT_EVOLUCA']):\n",
        "      return np.nan\n",
        "    else:\n",
        "      data1 = datetime.strptime(row['DT_INTERNA'], '%d/%m/%Y')\n",
        "      data2 = datetime.strptime(row['DT_EVOLUCA'], '%d/%m/%Y')\n",
        "      return abs((data2 - data1).days)\n",
        "  else:\n",
        "    return 0\n",
        "\n",
        "# Chama a função e atribui o resultado à coluna 'DIAS_INTERNA'\n",
        "data['DIAS_INTERNA'] = data.apply(calc_dias_interna, axis=1)"
      ],
      "metadata": {
        "id": "sgiIPH4pxyd2"
      },
      "execution_count": null,
      "outputs": []
    },
    {
      "cell_type": "code",
      "source": [
        "data[['DT_INTERNA', 'DT_EVOLUCA', 'DIAS_INTERNA']]"
      ],
      "metadata": {
        "colab": {
          "base_uri": "https://localhost:8080/"
        },
        "id": "kkSsAeuYxyg2",
        "outputId": "1e536dcc-1880-43c9-b07a-a63109d54379"
      },
      "execution_count": null,
      "outputs": [
        {
          "output_type": "execute_result",
          "data": {
            "text/plain": [
              "       DT_INTERNA  DT_EVOLUCA  DIAS_INTERNA\n",
              "0      05/01/2022  06/01/2022           1.0\n",
              "1      07/01/2022  25/01/2022          18.0\n",
              "2      11/01/2022  13/01/2022           2.0\n",
              "3      19/01/2022  07/02/2022          19.0\n",
              "4      10/01/2022  13/01/2022           3.0\n",
              "...           ...         ...           ...\n",
              "17427  28/06/2022  29/06/2022           1.0\n",
              "17428  09/08/2022  12/08/2022           3.0\n",
              "17429  30/08/2022  01/09/2022           2.0\n",
              "17430  09/11/2022  17/11/2022           8.0\n",
              "17431  24/12/2022  29/12/2022           5.0\n",
              "\n",
              "[17432 rows x 3 columns]"
            ],
            "text/html": [
              "\n",
              "\n",
              "  <div id=\"df-a706dadb-8965-4a07-9b73-9e0aafc5bd30\">\n",
              "    <div class=\"colab-df-container\">\n",
              "      <div>\n",
              "<style scoped>\n",
              "    .dataframe tbody tr th:only-of-type {\n",
              "        vertical-align: middle;\n",
              "    }\n",
              "\n",
              "    .dataframe tbody tr th {\n",
              "        vertical-align: top;\n",
              "    }\n",
              "\n",
              "    .dataframe thead th {\n",
              "        text-align: right;\n",
              "    }\n",
              "</style>\n",
              "<table border=\"1\" class=\"dataframe\">\n",
              "  <thead>\n",
              "    <tr style=\"text-align: right;\">\n",
              "      <th></th>\n",
              "      <th>DT_INTERNA</th>\n",
              "      <th>DT_EVOLUCA</th>\n",
              "      <th>DIAS_INTERNA</th>\n",
              "    </tr>\n",
              "  </thead>\n",
              "  <tbody>\n",
              "    <tr>\n",
              "      <th>0</th>\n",
              "      <td>05/01/2022</td>\n",
              "      <td>06/01/2022</td>\n",
              "      <td>1.0</td>\n",
              "    </tr>\n",
              "    <tr>\n",
              "      <th>1</th>\n",
              "      <td>07/01/2022</td>\n",
              "      <td>25/01/2022</td>\n",
              "      <td>18.0</td>\n",
              "    </tr>\n",
              "    <tr>\n",
              "      <th>2</th>\n",
              "      <td>11/01/2022</td>\n",
              "      <td>13/01/2022</td>\n",
              "      <td>2.0</td>\n",
              "    </tr>\n",
              "    <tr>\n",
              "      <th>3</th>\n",
              "      <td>19/01/2022</td>\n",
              "      <td>07/02/2022</td>\n",
              "      <td>19.0</td>\n",
              "    </tr>\n",
              "    <tr>\n",
              "      <th>4</th>\n",
              "      <td>10/01/2022</td>\n",
              "      <td>13/01/2022</td>\n",
              "      <td>3.0</td>\n",
              "    </tr>\n",
              "    <tr>\n",
              "      <th>...</th>\n",
              "      <td>...</td>\n",
              "      <td>...</td>\n",
              "      <td>...</td>\n",
              "    </tr>\n",
              "    <tr>\n",
              "      <th>17427</th>\n",
              "      <td>28/06/2022</td>\n",
              "      <td>29/06/2022</td>\n",
              "      <td>1.0</td>\n",
              "    </tr>\n",
              "    <tr>\n",
              "      <th>17428</th>\n",
              "      <td>09/08/2022</td>\n",
              "      <td>12/08/2022</td>\n",
              "      <td>3.0</td>\n",
              "    </tr>\n",
              "    <tr>\n",
              "      <th>17429</th>\n",
              "      <td>30/08/2022</td>\n",
              "      <td>01/09/2022</td>\n",
              "      <td>2.0</td>\n",
              "    </tr>\n",
              "    <tr>\n",
              "      <th>17430</th>\n",
              "      <td>09/11/2022</td>\n",
              "      <td>17/11/2022</td>\n",
              "      <td>8.0</td>\n",
              "    </tr>\n",
              "    <tr>\n",
              "      <th>17431</th>\n",
              "      <td>24/12/2022</td>\n",
              "      <td>29/12/2022</td>\n",
              "      <td>5.0</td>\n",
              "    </tr>\n",
              "  </tbody>\n",
              "</table>\n",
              "<p>17432 rows × 3 columns</p>\n",
              "</div>\n",
              "      <button class=\"colab-df-convert\" onclick=\"convertToInteractive('df-a706dadb-8965-4a07-9b73-9e0aafc5bd30')\"\n",
              "              title=\"Convert this dataframe to an interactive table.\"\n",
              "              style=\"display:none;\">\n",
              "\n",
              "  <svg xmlns=\"http://www.w3.org/2000/svg\" height=\"24px\"viewBox=\"0 0 24 24\"\n",
              "       width=\"24px\">\n",
              "    <path d=\"M0 0h24v24H0V0z\" fill=\"none\"/>\n",
              "    <path d=\"M18.56 5.44l.94 2.06.94-2.06 2.06-.94-2.06-.94-.94-2.06-.94 2.06-2.06.94zm-11 1L8.5 8.5l.94-2.06 2.06-.94-2.06-.94L8.5 2.5l-.94 2.06-2.06.94zm10 10l.94 2.06.94-2.06 2.06-.94-2.06-.94-.94-2.06-.94 2.06-2.06.94z\"/><path d=\"M17.41 7.96l-1.37-1.37c-.4-.4-.92-.59-1.43-.59-.52 0-1.04.2-1.43.59L10.3 9.45l-7.72 7.72c-.78.78-.78 2.05 0 2.83L4 21.41c.39.39.9.59 1.41.59.51 0 1.02-.2 1.41-.59l7.78-7.78 2.81-2.81c.8-.78.8-2.07 0-2.86zM5.41 20L4 18.59l7.72-7.72 1.47 1.35L5.41 20z\"/>\n",
              "  </svg>\n",
              "      </button>\n",
              "\n",
              "\n",
              "\n",
              "    <div id=\"df-fa7c6238-ca63-48cd-a377-b0470b7f8336\">\n",
              "      <button class=\"colab-df-quickchart\" onclick=\"quickchart('df-fa7c6238-ca63-48cd-a377-b0470b7f8336')\"\n",
              "              title=\"Suggest charts.\"\n",
              "              style=\"display:none;\">\n",
              "\n",
              "<svg xmlns=\"http://www.w3.org/2000/svg\" height=\"24px\"viewBox=\"0 0 24 24\"\n",
              "     width=\"24px\">\n",
              "    <g>\n",
              "        <path d=\"M19 3H5c-1.1 0-2 .9-2 2v14c0 1.1.9 2 2 2h14c1.1 0 2-.9 2-2V5c0-1.1-.9-2-2-2zM9 17H7v-7h2v7zm4 0h-2V7h2v10zm4 0h-2v-4h2v4z\"/>\n",
              "    </g>\n",
              "</svg>\n",
              "      </button>\n",
              "    </div>\n",
              "\n",
              "<style>\n",
              "  .colab-df-quickchart {\n",
              "    background-color: #E8F0FE;\n",
              "    border: none;\n",
              "    border-radius: 50%;\n",
              "    cursor: pointer;\n",
              "    display: none;\n",
              "    fill: #1967D2;\n",
              "    height: 32px;\n",
              "    padding: 0 0 0 0;\n",
              "    width: 32px;\n",
              "  }\n",
              "\n",
              "  .colab-df-quickchart:hover {\n",
              "    background-color: #E2EBFA;\n",
              "    box-shadow: 0px 1px 2px rgba(60, 64, 67, 0.3), 0px 1px 3px 1px rgba(60, 64, 67, 0.15);\n",
              "    fill: #174EA6;\n",
              "  }\n",
              "\n",
              "  [theme=dark] .colab-df-quickchart {\n",
              "    background-color: #3B4455;\n",
              "    fill: #D2E3FC;\n",
              "  }\n",
              "\n",
              "  [theme=dark] .colab-df-quickchart:hover {\n",
              "    background-color: #434B5C;\n",
              "    box-shadow: 0px 1px 3px 1px rgba(0, 0, 0, 0.15);\n",
              "    filter: drop-shadow(0px 1px 2px rgba(0, 0, 0, 0.3));\n",
              "    fill: #FFFFFF;\n",
              "  }\n",
              "</style>\n",
              "\n",
              "    <script>\n",
              "      async function quickchart(key) {\n",
              "        const containerElement = document.querySelector('#' + key);\n",
              "        const charts = await google.colab.kernel.invokeFunction(\n",
              "            'suggestCharts', [key], {});\n",
              "      }\n",
              "    </script>\n",
              "\n",
              "      <script>\n",
              "\n",
              "function displayQuickchartButton(domScope) {\n",
              "  let quickchartButtonEl =\n",
              "    domScope.querySelector('#df-fa7c6238-ca63-48cd-a377-b0470b7f8336 button.colab-df-quickchart');\n",
              "  quickchartButtonEl.style.display =\n",
              "    google.colab.kernel.accessAllowed ? 'block' : 'none';\n",
              "}\n",
              "\n",
              "        displayQuickchartButton(document);\n",
              "      </script>\n",
              "      <style>\n",
              "    .colab-df-container {\n",
              "      display:flex;\n",
              "      flex-wrap:wrap;\n",
              "      gap: 12px;\n",
              "    }\n",
              "\n",
              "    .colab-df-convert {\n",
              "      background-color: #E8F0FE;\n",
              "      border: none;\n",
              "      border-radius: 50%;\n",
              "      cursor: pointer;\n",
              "      display: none;\n",
              "      fill: #1967D2;\n",
              "      height: 32px;\n",
              "      padding: 0 0 0 0;\n",
              "      width: 32px;\n",
              "    }\n",
              "\n",
              "    .colab-df-convert:hover {\n",
              "      background-color: #E2EBFA;\n",
              "      box-shadow: 0px 1px 2px rgba(60, 64, 67, 0.3), 0px 1px 3px 1px rgba(60, 64, 67, 0.15);\n",
              "      fill: #174EA6;\n",
              "    }\n",
              "\n",
              "    [theme=dark] .colab-df-convert {\n",
              "      background-color: #3B4455;\n",
              "      fill: #D2E3FC;\n",
              "    }\n",
              "\n",
              "    [theme=dark] .colab-df-convert:hover {\n",
              "      background-color: #434B5C;\n",
              "      box-shadow: 0px 1px 3px 1px rgba(0, 0, 0, 0.15);\n",
              "      filter: drop-shadow(0px 1px 2px rgba(0, 0, 0, 0.3));\n",
              "      fill: #FFFFFF;\n",
              "    }\n",
              "  </style>\n",
              "\n",
              "      <script>\n",
              "        const buttonEl =\n",
              "          document.querySelector('#df-a706dadb-8965-4a07-9b73-9e0aafc5bd30 button.colab-df-convert');\n",
              "        buttonEl.style.display =\n",
              "          google.colab.kernel.accessAllowed ? 'block' : 'none';\n",
              "\n",
              "        async function convertToInteractive(key) {\n",
              "          const element = document.querySelector('#df-a706dadb-8965-4a07-9b73-9e0aafc5bd30');\n",
              "          const dataTable =\n",
              "            await google.colab.kernel.invokeFunction('convertToInteractive',\n",
              "                                                     [key], {});\n",
              "          if (!dataTable) return;\n",
              "\n",
              "          const docLinkHtml = 'Like what you see? Visit the ' +\n",
              "            '<a target=\"_blank\" href=https://colab.research.google.com/notebooks/data_table.ipynb>data table notebook</a>'\n",
              "            + ' to learn more about interactive tables.';\n",
              "          element.innerHTML = '';\n",
              "          dataTable['output_type'] = 'display_data';\n",
              "          await google.colab.output.renderOutput(dataTable, element);\n",
              "          const docLink = document.createElement('div');\n",
              "          docLink.innerHTML = docLinkHtml;\n",
              "          element.appendChild(docLink);\n",
              "        }\n",
              "      </script>\n",
              "    </div>\n",
              "  </div>\n"
            ]
          },
          "metadata": {},
          "execution_count": 37
        }
      ]
    },
    {
      "cell_type": "code",
      "source": [
        "data['DIAS_INTERNA'].info()"
      ],
      "metadata": {
        "colab": {
          "base_uri": "https://localhost:8080/"
        },
        "id": "zlAGuibAxyko",
        "outputId": "df21ce4e-3b4c-43b6-a453-31505afa5f5b"
      },
      "execution_count": null,
      "outputs": [
        {
          "output_type": "stream",
          "name": "stdout",
          "text": [
            "<class 'pandas.core.series.Series'>\n",
            "RangeIndex: 17432 entries, 0 to 17431\n",
            "Series name: DIAS_INTERNA\n",
            "Non-Null Count  Dtype  \n",
            "--------------  -----  \n",
            "17255 non-null  float64\n",
            "dtypes: float64(1)\n",
            "memory usage: 136.3 KB\n"
          ]
        }
      ]
    },
    {
      "cell_type": "code",
      "source": [
        "# Calcula a mediana de 'DIAS_INTERNA'\n",
        "data['DIAS_INTERNA'].median()"
      ],
      "metadata": {
        "colab": {
          "base_uri": "https://localhost:8080/"
        },
        "id": "GOmGuTVsxyoQ",
        "outputId": "ae9bc821-daf8-443e-cbcd-38a464d2b12f"
      },
      "execution_count": null,
      "outputs": [
        {
          "output_type": "execute_result",
          "data": {
            "text/plain": [
              "5.0"
            ]
          },
          "metadata": {},
          "execution_count": 39
        }
      ]
    },
    {
      "cell_type": "code",
      "source": [
        "# Conta os valores NaN em 'DIAS_INTERNA'\n",
        "data['DIAS_INTERNA'].isnull().sum()"
      ],
      "metadata": {
        "colab": {
          "base_uri": "https://localhost:8080/"
        },
        "id": "g2dow9WGyPxB",
        "outputId": "2e05e67e-be20-415e-cdd7-17f20144d0b4"
      },
      "execution_count": null,
      "outputs": [
        {
          "output_type": "execute_result",
          "data": {
            "text/plain": [
              "177"
            ]
          },
          "metadata": {},
          "execution_count": 40
        }
      ]
    },
    {
      "cell_type": "code",
      "source": [
        "# Preenche valores NaN com a mediana\n",
        "data['DIAS_INTERNA'].fillna(data['DIAS_INTERNA'].median(), inplace=True)"
      ],
      "metadata": {
        "id": "bwvZBrdmyPuq"
      },
      "execution_count": null,
      "outputs": []
    },
    {
      "cell_type": "code",
      "source": [
        "# Converte o tipo de dados de float para int\n",
        "data['DIAS_INTERNA'] = data['DIAS_INTERNA'].astype(int)"
      ],
      "metadata": {
        "id": "yaT9aerlyPr0"
      },
      "execution_count": null,
      "outputs": []
    },
    {
      "cell_type": "code",
      "source": [
        "data['DIAS_INTERNA'].info()"
      ],
      "metadata": {
        "colab": {
          "base_uri": "https://localhost:8080/"
        },
        "id": "n4jltrGYyPo0",
        "outputId": "c84c96a8-e9aa-4d8c-d99b-47cc2aaab99b"
      },
      "execution_count": null,
      "outputs": [
        {
          "output_type": "stream",
          "name": "stdout",
          "text": [
            "<class 'pandas.core.series.Series'>\n",
            "RangeIndex: 17432 entries, 0 to 17431\n",
            "Series name: DIAS_INTERNA\n",
            "Non-Null Count  Dtype\n",
            "--------------  -----\n",
            "17432 non-null  int64\n",
            "dtypes: int64(1)\n",
            "memory usage: 136.3 KB\n"
          ]
        }
      ]
    },
    {
      "cell_type": "code",
      "source": [
        "data[['DT_INTERNA', 'DT_EVOLUCA', 'DT_SIN_PRI', 'DT_NOTIFIC', 'DT_PCR']]"
      ],
      "metadata": {
        "colab": {
          "base_uri": "https://localhost:8080/"
        },
        "id": "_WgxLIVgyPl9",
        "outputId": "ddafa0a4-9d3d-4d1f-8bf4-65b8702cd521"
      },
      "execution_count": null,
      "outputs": [
        {
          "output_type": "execute_result",
          "data": {
            "text/plain": [
              "       DT_INTERNA  DT_EVOLUCA  DT_SIN_PRI  DT_NOTIFIC      DT_PCR\n",
              "0      05/01/2022  06/01/2022  03/01/2022  05/01/2022  09/01/2022\n",
              "1      07/01/2022  25/01/2022  05/01/2022  07/01/2022         NaN\n",
              "2      11/01/2022  13/01/2022  07/01/2022  10/01/2022  13/01/2022\n",
              "3      19/01/2022  07/02/2022  06/01/2022  19/01/2022  21/01/2022\n",
              "4      10/01/2022  13/01/2022  10/01/2022  10/01/2022  13/01/2022\n",
              "...           ...         ...         ...         ...         ...\n",
              "17427  28/06/2022  29/06/2022  26/06/2022  29/06/2022         NaN\n",
              "17428  09/08/2022  12/08/2022  06/08/2022  09/08/2022  15/08/2022\n",
              "17429  30/08/2022  01/09/2022  27/08/2022  30/08/2022  02/09/2022\n",
              "17430  09/11/2022  17/11/2022  03/11/2022  10/11/2022  17/11/2022\n",
              "17431  24/12/2022  29/12/2022  24/12/2022  24/12/2022  26/12/2022\n",
              "\n",
              "[17432 rows x 5 columns]"
            ],
            "text/html": [
              "\n",
              "\n",
              "  <div id=\"df-cf227fc6-090f-4b46-8654-62223986d3d4\">\n",
              "    <div class=\"colab-df-container\">\n",
              "      <div>\n",
              "<style scoped>\n",
              "    .dataframe tbody tr th:only-of-type {\n",
              "        vertical-align: middle;\n",
              "    }\n",
              "\n",
              "    .dataframe tbody tr th {\n",
              "        vertical-align: top;\n",
              "    }\n",
              "\n",
              "    .dataframe thead th {\n",
              "        text-align: right;\n",
              "    }\n",
              "</style>\n",
              "<table border=\"1\" class=\"dataframe\">\n",
              "  <thead>\n",
              "    <tr style=\"text-align: right;\">\n",
              "      <th></th>\n",
              "      <th>DT_INTERNA</th>\n",
              "      <th>DT_EVOLUCA</th>\n",
              "      <th>DT_SIN_PRI</th>\n",
              "      <th>DT_NOTIFIC</th>\n",
              "      <th>DT_PCR</th>\n",
              "    </tr>\n",
              "  </thead>\n",
              "  <tbody>\n",
              "    <tr>\n",
              "      <th>0</th>\n",
              "      <td>05/01/2022</td>\n",
              "      <td>06/01/2022</td>\n",
              "      <td>03/01/2022</td>\n",
              "      <td>05/01/2022</td>\n",
              "      <td>09/01/2022</td>\n",
              "    </tr>\n",
              "    <tr>\n",
              "      <th>1</th>\n",
              "      <td>07/01/2022</td>\n",
              "      <td>25/01/2022</td>\n",
              "      <td>05/01/2022</td>\n",
              "      <td>07/01/2022</td>\n",
              "      <td>NaN</td>\n",
              "    </tr>\n",
              "    <tr>\n",
              "      <th>2</th>\n",
              "      <td>11/01/2022</td>\n",
              "      <td>13/01/2022</td>\n",
              "      <td>07/01/2022</td>\n",
              "      <td>10/01/2022</td>\n",
              "      <td>13/01/2022</td>\n",
              "    </tr>\n",
              "    <tr>\n",
              "      <th>3</th>\n",
              "      <td>19/01/2022</td>\n",
              "      <td>07/02/2022</td>\n",
              "      <td>06/01/2022</td>\n",
              "      <td>19/01/2022</td>\n",
              "      <td>21/01/2022</td>\n",
              "    </tr>\n",
              "    <tr>\n",
              "      <th>4</th>\n",
              "      <td>10/01/2022</td>\n",
              "      <td>13/01/2022</td>\n",
              "      <td>10/01/2022</td>\n",
              "      <td>10/01/2022</td>\n",
              "      <td>13/01/2022</td>\n",
              "    </tr>\n",
              "    <tr>\n",
              "      <th>...</th>\n",
              "      <td>...</td>\n",
              "      <td>...</td>\n",
              "      <td>...</td>\n",
              "      <td>...</td>\n",
              "      <td>...</td>\n",
              "    </tr>\n",
              "    <tr>\n",
              "      <th>17427</th>\n",
              "      <td>28/06/2022</td>\n",
              "      <td>29/06/2022</td>\n",
              "      <td>26/06/2022</td>\n",
              "      <td>29/06/2022</td>\n",
              "      <td>NaN</td>\n",
              "    </tr>\n",
              "    <tr>\n",
              "      <th>17428</th>\n",
              "      <td>09/08/2022</td>\n",
              "      <td>12/08/2022</td>\n",
              "      <td>06/08/2022</td>\n",
              "      <td>09/08/2022</td>\n",
              "      <td>15/08/2022</td>\n",
              "    </tr>\n",
              "    <tr>\n",
              "      <th>17429</th>\n",
              "      <td>30/08/2022</td>\n",
              "      <td>01/09/2022</td>\n",
              "      <td>27/08/2022</td>\n",
              "      <td>30/08/2022</td>\n",
              "      <td>02/09/2022</td>\n",
              "    </tr>\n",
              "    <tr>\n",
              "      <th>17430</th>\n",
              "      <td>09/11/2022</td>\n",
              "      <td>17/11/2022</td>\n",
              "      <td>03/11/2022</td>\n",
              "      <td>10/11/2022</td>\n",
              "      <td>17/11/2022</td>\n",
              "    </tr>\n",
              "    <tr>\n",
              "      <th>17431</th>\n",
              "      <td>24/12/2022</td>\n",
              "      <td>29/12/2022</td>\n",
              "      <td>24/12/2022</td>\n",
              "      <td>24/12/2022</td>\n",
              "      <td>26/12/2022</td>\n",
              "    </tr>\n",
              "  </tbody>\n",
              "</table>\n",
              "<p>17432 rows × 5 columns</p>\n",
              "</div>\n",
              "      <button class=\"colab-df-convert\" onclick=\"convertToInteractive('df-cf227fc6-090f-4b46-8654-62223986d3d4')\"\n",
              "              title=\"Convert this dataframe to an interactive table.\"\n",
              "              style=\"display:none;\">\n",
              "\n",
              "  <svg xmlns=\"http://www.w3.org/2000/svg\" height=\"24px\"viewBox=\"0 0 24 24\"\n",
              "       width=\"24px\">\n",
              "    <path d=\"M0 0h24v24H0V0z\" fill=\"none\"/>\n",
              "    <path d=\"M18.56 5.44l.94 2.06.94-2.06 2.06-.94-2.06-.94-.94-2.06-.94 2.06-2.06.94zm-11 1L8.5 8.5l.94-2.06 2.06-.94-2.06-.94L8.5 2.5l-.94 2.06-2.06.94zm10 10l.94 2.06.94-2.06 2.06-.94-2.06-.94-.94-2.06-.94 2.06-2.06.94z\"/><path d=\"M17.41 7.96l-1.37-1.37c-.4-.4-.92-.59-1.43-.59-.52 0-1.04.2-1.43.59L10.3 9.45l-7.72 7.72c-.78.78-.78 2.05 0 2.83L4 21.41c.39.39.9.59 1.41.59.51 0 1.02-.2 1.41-.59l7.78-7.78 2.81-2.81c.8-.78.8-2.07 0-2.86zM5.41 20L4 18.59l7.72-7.72 1.47 1.35L5.41 20z\"/>\n",
              "  </svg>\n",
              "      </button>\n",
              "\n",
              "\n",
              "\n",
              "    <div id=\"df-b0a9382e-1d4f-4fc6-bc16-f70efbacafc0\">\n",
              "      <button class=\"colab-df-quickchart\" onclick=\"quickchart('df-b0a9382e-1d4f-4fc6-bc16-f70efbacafc0')\"\n",
              "              title=\"Suggest charts.\"\n",
              "              style=\"display:none;\">\n",
              "\n",
              "<svg xmlns=\"http://www.w3.org/2000/svg\" height=\"24px\"viewBox=\"0 0 24 24\"\n",
              "     width=\"24px\">\n",
              "    <g>\n",
              "        <path d=\"M19 3H5c-1.1 0-2 .9-2 2v14c0 1.1.9 2 2 2h14c1.1 0 2-.9 2-2V5c0-1.1-.9-2-2-2zM9 17H7v-7h2v7zm4 0h-2V7h2v10zm4 0h-2v-4h2v4z\"/>\n",
              "    </g>\n",
              "</svg>\n",
              "      </button>\n",
              "    </div>\n",
              "\n",
              "<style>\n",
              "  .colab-df-quickchart {\n",
              "    background-color: #E8F0FE;\n",
              "    border: none;\n",
              "    border-radius: 50%;\n",
              "    cursor: pointer;\n",
              "    display: none;\n",
              "    fill: #1967D2;\n",
              "    height: 32px;\n",
              "    padding: 0 0 0 0;\n",
              "    width: 32px;\n",
              "  }\n",
              "\n",
              "  .colab-df-quickchart:hover {\n",
              "    background-color: #E2EBFA;\n",
              "    box-shadow: 0px 1px 2px rgba(60, 64, 67, 0.3), 0px 1px 3px 1px rgba(60, 64, 67, 0.15);\n",
              "    fill: #174EA6;\n",
              "  }\n",
              "\n",
              "  [theme=dark] .colab-df-quickchart {\n",
              "    background-color: #3B4455;\n",
              "    fill: #D2E3FC;\n",
              "  }\n",
              "\n",
              "  [theme=dark] .colab-df-quickchart:hover {\n",
              "    background-color: #434B5C;\n",
              "    box-shadow: 0px 1px 3px 1px rgba(0, 0, 0, 0.15);\n",
              "    filter: drop-shadow(0px 1px 2px rgba(0, 0, 0, 0.3));\n",
              "    fill: #FFFFFF;\n",
              "  }\n",
              "</style>\n",
              "\n",
              "    <script>\n",
              "      async function quickchart(key) {\n",
              "        const containerElement = document.querySelector('#' + key);\n",
              "        const charts = await google.colab.kernel.invokeFunction(\n",
              "            'suggestCharts', [key], {});\n",
              "      }\n",
              "    </script>\n",
              "\n",
              "      <script>\n",
              "\n",
              "function displayQuickchartButton(domScope) {\n",
              "  let quickchartButtonEl =\n",
              "    domScope.querySelector('#df-b0a9382e-1d4f-4fc6-bc16-f70efbacafc0 button.colab-df-quickchart');\n",
              "  quickchartButtonEl.style.display =\n",
              "    google.colab.kernel.accessAllowed ? 'block' : 'none';\n",
              "}\n",
              "\n",
              "        displayQuickchartButton(document);\n",
              "      </script>\n",
              "      <style>\n",
              "    .colab-df-container {\n",
              "      display:flex;\n",
              "      flex-wrap:wrap;\n",
              "      gap: 12px;\n",
              "    }\n",
              "\n",
              "    .colab-df-convert {\n",
              "      background-color: #E8F0FE;\n",
              "      border: none;\n",
              "      border-radius: 50%;\n",
              "      cursor: pointer;\n",
              "      display: none;\n",
              "      fill: #1967D2;\n",
              "      height: 32px;\n",
              "      padding: 0 0 0 0;\n",
              "      width: 32px;\n",
              "    }\n",
              "\n",
              "    .colab-df-convert:hover {\n",
              "      background-color: #E2EBFA;\n",
              "      box-shadow: 0px 1px 2px rgba(60, 64, 67, 0.3), 0px 1px 3px 1px rgba(60, 64, 67, 0.15);\n",
              "      fill: #174EA6;\n",
              "    }\n",
              "\n",
              "    [theme=dark] .colab-df-convert {\n",
              "      background-color: #3B4455;\n",
              "      fill: #D2E3FC;\n",
              "    }\n",
              "\n",
              "    [theme=dark] .colab-df-convert:hover {\n",
              "      background-color: #434B5C;\n",
              "      box-shadow: 0px 1px 3px 1px rgba(0, 0, 0, 0.15);\n",
              "      filter: drop-shadow(0px 1px 2px rgba(0, 0, 0, 0.3));\n",
              "      fill: #FFFFFF;\n",
              "    }\n",
              "  </style>\n",
              "\n",
              "      <script>\n",
              "        const buttonEl =\n",
              "          document.querySelector('#df-cf227fc6-090f-4b46-8654-62223986d3d4 button.colab-df-convert');\n",
              "        buttonEl.style.display =\n",
              "          google.colab.kernel.accessAllowed ? 'block' : 'none';\n",
              "\n",
              "        async function convertToInteractive(key) {\n",
              "          const element = document.querySelector('#df-cf227fc6-090f-4b46-8654-62223986d3d4');\n",
              "          const dataTable =\n",
              "            await google.colab.kernel.invokeFunction('convertToInteractive',\n",
              "                                                     [key], {});\n",
              "          if (!dataTable) return;\n",
              "\n",
              "          const docLinkHtml = 'Like what you see? Visit the ' +\n",
              "            '<a target=\"_blank\" href=https://colab.research.google.com/notebooks/data_table.ipynb>data table notebook</a>'\n",
              "            + ' to learn more about interactive tables.';\n",
              "          element.innerHTML = '';\n",
              "          dataTable['output_type'] = 'display_data';\n",
              "          await google.colab.output.renderOutput(dataTable, element);\n",
              "          const docLink = document.createElement('div');\n",
              "          docLink.innerHTML = docLinkHtml;\n",
              "          element.appendChild(docLink);\n",
              "        }\n",
              "      </script>\n",
              "    </div>\n",
              "  </div>\n"
            ]
          },
          "metadata": {},
          "execution_count": 44
        }
      ]
    },
    {
      "cell_type": "markdown",
      "source": [
        "Criação de uma coluna \"SINT_ATE_NOTIF\" que representa a quantidade de dias entre os primeiros sintomas do paciente até a notificação."
      ],
      "metadata": {
        "id": "HEl4IjDVPghG"
      }
    },
    {
      "cell_type": "markdown",
      "source": [
        "*DT_SIN_PRI com DT_NOTIFIC*"
      ],
      "metadata": {
        "id": "6vbSAhumRIzB"
      }
    },
    {
      "cell_type": "code",
      "source": [
        "data['SINT_ATE_NOTIF'] = ''"
      ],
      "metadata": {
        "id": "Es1VVyieyPi-"
      },
      "execution_count": null,
      "outputs": []
    },
    {
      "cell_type": "code",
      "source": [
        "# Calcula o intervalo de dias entre duas datas\n",
        "def calc_dias_sintomas(row):\n",
        "  data1 = datetime.strptime(row['DT_SIN_PRI'], '%d/%m/%Y')\n",
        "  data2 = datetime.strptime(row['DT_NOTIFIC'], '%d/%m/%Y')\n",
        "  return abs((data2 - data1).days)\n",
        "\n",
        "# Chama a função e atribui o resultado à coluna 'SINT_ATE_NOTIF'\n",
        "data['SINT_ATE_NOTIF'] = data.apply(calc_dias_sintomas, axis=1)"
      ],
      "metadata": {
        "id": "K6vDAsjryPgC"
      },
      "execution_count": null,
      "outputs": []
    },
    {
      "cell_type": "code",
      "source": [
        "data[['DT_SIN_PRI', 'DT_NOTIFIC', 'SINT_ATE_NOTIF']]"
      ],
      "metadata": {
        "colab": {
          "base_uri": "https://localhost:8080/"
        },
        "id": "tc7NyzQAyPc0",
        "outputId": "67e9de0b-2456-4fb6-8407-b0bc26957419"
      },
      "execution_count": null,
      "outputs": [
        {
          "output_type": "execute_result",
          "data": {
            "text/plain": [
              "       DT_SIN_PRI  DT_NOTIFIC  SINT_ATE_NOTIF\n",
              "0      03/01/2022  05/01/2022               2\n",
              "1      05/01/2022  07/01/2022               2\n",
              "2      07/01/2022  10/01/2022               3\n",
              "3      06/01/2022  19/01/2022              13\n",
              "4      10/01/2022  10/01/2022               0\n",
              "...           ...         ...             ...\n",
              "17427  26/06/2022  29/06/2022               3\n",
              "17428  06/08/2022  09/08/2022               3\n",
              "17429  27/08/2022  30/08/2022               3\n",
              "17430  03/11/2022  10/11/2022               7\n",
              "17431  24/12/2022  24/12/2022               0\n",
              "\n",
              "[17432 rows x 3 columns]"
            ],
            "text/html": [
              "\n",
              "\n",
              "  <div id=\"df-87164562-615b-47af-b759-d58f1f7656d9\">\n",
              "    <div class=\"colab-df-container\">\n",
              "      <div>\n",
              "<style scoped>\n",
              "    .dataframe tbody tr th:only-of-type {\n",
              "        vertical-align: middle;\n",
              "    }\n",
              "\n",
              "    .dataframe tbody tr th {\n",
              "        vertical-align: top;\n",
              "    }\n",
              "\n",
              "    .dataframe thead th {\n",
              "        text-align: right;\n",
              "    }\n",
              "</style>\n",
              "<table border=\"1\" class=\"dataframe\">\n",
              "  <thead>\n",
              "    <tr style=\"text-align: right;\">\n",
              "      <th></th>\n",
              "      <th>DT_SIN_PRI</th>\n",
              "      <th>DT_NOTIFIC</th>\n",
              "      <th>SINT_ATE_NOTIF</th>\n",
              "    </tr>\n",
              "  </thead>\n",
              "  <tbody>\n",
              "    <tr>\n",
              "      <th>0</th>\n",
              "      <td>03/01/2022</td>\n",
              "      <td>05/01/2022</td>\n",
              "      <td>2</td>\n",
              "    </tr>\n",
              "    <tr>\n",
              "      <th>1</th>\n",
              "      <td>05/01/2022</td>\n",
              "      <td>07/01/2022</td>\n",
              "      <td>2</td>\n",
              "    </tr>\n",
              "    <tr>\n",
              "      <th>2</th>\n",
              "      <td>07/01/2022</td>\n",
              "      <td>10/01/2022</td>\n",
              "      <td>3</td>\n",
              "    </tr>\n",
              "    <tr>\n",
              "      <th>3</th>\n",
              "      <td>06/01/2022</td>\n",
              "      <td>19/01/2022</td>\n",
              "      <td>13</td>\n",
              "    </tr>\n",
              "    <tr>\n",
              "      <th>4</th>\n",
              "      <td>10/01/2022</td>\n",
              "      <td>10/01/2022</td>\n",
              "      <td>0</td>\n",
              "    </tr>\n",
              "    <tr>\n",
              "      <th>...</th>\n",
              "      <td>...</td>\n",
              "      <td>...</td>\n",
              "      <td>...</td>\n",
              "    </tr>\n",
              "    <tr>\n",
              "      <th>17427</th>\n",
              "      <td>26/06/2022</td>\n",
              "      <td>29/06/2022</td>\n",
              "      <td>3</td>\n",
              "    </tr>\n",
              "    <tr>\n",
              "      <th>17428</th>\n",
              "      <td>06/08/2022</td>\n",
              "      <td>09/08/2022</td>\n",
              "      <td>3</td>\n",
              "    </tr>\n",
              "    <tr>\n",
              "      <th>17429</th>\n",
              "      <td>27/08/2022</td>\n",
              "      <td>30/08/2022</td>\n",
              "      <td>3</td>\n",
              "    </tr>\n",
              "    <tr>\n",
              "      <th>17430</th>\n",
              "      <td>03/11/2022</td>\n",
              "      <td>10/11/2022</td>\n",
              "      <td>7</td>\n",
              "    </tr>\n",
              "    <tr>\n",
              "      <th>17431</th>\n",
              "      <td>24/12/2022</td>\n",
              "      <td>24/12/2022</td>\n",
              "      <td>0</td>\n",
              "    </tr>\n",
              "  </tbody>\n",
              "</table>\n",
              "<p>17432 rows × 3 columns</p>\n",
              "</div>\n",
              "      <button class=\"colab-df-convert\" onclick=\"convertToInteractive('df-87164562-615b-47af-b759-d58f1f7656d9')\"\n",
              "              title=\"Convert this dataframe to an interactive table.\"\n",
              "              style=\"display:none;\">\n",
              "\n",
              "  <svg xmlns=\"http://www.w3.org/2000/svg\" height=\"24px\"viewBox=\"0 0 24 24\"\n",
              "       width=\"24px\">\n",
              "    <path d=\"M0 0h24v24H0V0z\" fill=\"none\"/>\n",
              "    <path d=\"M18.56 5.44l.94 2.06.94-2.06 2.06-.94-2.06-.94-.94-2.06-.94 2.06-2.06.94zm-11 1L8.5 8.5l.94-2.06 2.06-.94-2.06-.94L8.5 2.5l-.94 2.06-2.06.94zm10 10l.94 2.06.94-2.06 2.06-.94-2.06-.94-.94-2.06-.94 2.06-2.06.94z\"/><path d=\"M17.41 7.96l-1.37-1.37c-.4-.4-.92-.59-1.43-.59-.52 0-1.04.2-1.43.59L10.3 9.45l-7.72 7.72c-.78.78-.78 2.05 0 2.83L4 21.41c.39.39.9.59 1.41.59.51 0 1.02-.2 1.41-.59l7.78-7.78 2.81-2.81c.8-.78.8-2.07 0-2.86zM5.41 20L4 18.59l7.72-7.72 1.47 1.35L5.41 20z\"/>\n",
              "  </svg>\n",
              "      </button>\n",
              "\n",
              "\n",
              "\n",
              "    <div id=\"df-469c6f9a-1b4f-4142-8769-c6e0dd7224c8\">\n",
              "      <button class=\"colab-df-quickchart\" onclick=\"quickchart('df-469c6f9a-1b4f-4142-8769-c6e0dd7224c8')\"\n",
              "              title=\"Suggest charts.\"\n",
              "              style=\"display:none;\">\n",
              "\n",
              "<svg xmlns=\"http://www.w3.org/2000/svg\" height=\"24px\"viewBox=\"0 0 24 24\"\n",
              "     width=\"24px\">\n",
              "    <g>\n",
              "        <path d=\"M19 3H5c-1.1 0-2 .9-2 2v14c0 1.1.9 2 2 2h14c1.1 0 2-.9 2-2V5c0-1.1-.9-2-2-2zM9 17H7v-7h2v7zm4 0h-2V7h2v10zm4 0h-2v-4h2v4z\"/>\n",
              "    </g>\n",
              "</svg>\n",
              "      </button>\n",
              "    </div>\n",
              "\n",
              "<style>\n",
              "  .colab-df-quickchart {\n",
              "    background-color: #E8F0FE;\n",
              "    border: none;\n",
              "    border-radius: 50%;\n",
              "    cursor: pointer;\n",
              "    display: none;\n",
              "    fill: #1967D2;\n",
              "    height: 32px;\n",
              "    padding: 0 0 0 0;\n",
              "    width: 32px;\n",
              "  }\n",
              "\n",
              "  .colab-df-quickchart:hover {\n",
              "    background-color: #E2EBFA;\n",
              "    box-shadow: 0px 1px 2px rgba(60, 64, 67, 0.3), 0px 1px 3px 1px rgba(60, 64, 67, 0.15);\n",
              "    fill: #174EA6;\n",
              "  }\n",
              "\n",
              "  [theme=dark] .colab-df-quickchart {\n",
              "    background-color: #3B4455;\n",
              "    fill: #D2E3FC;\n",
              "  }\n",
              "\n",
              "  [theme=dark] .colab-df-quickchart:hover {\n",
              "    background-color: #434B5C;\n",
              "    box-shadow: 0px 1px 3px 1px rgba(0, 0, 0, 0.15);\n",
              "    filter: drop-shadow(0px 1px 2px rgba(0, 0, 0, 0.3));\n",
              "    fill: #FFFFFF;\n",
              "  }\n",
              "</style>\n",
              "\n",
              "    <script>\n",
              "      async function quickchart(key) {\n",
              "        const containerElement = document.querySelector('#' + key);\n",
              "        const charts = await google.colab.kernel.invokeFunction(\n",
              "            'suggestCharts', [key], {});\n",
              "      }\n",
              "    </script>\n",
              "\n",
              "      <script>\n",
              "\n",
              "function displayQuickchartButton(domScope) {\n",
              "  let quickchartButtonEl =\n",
              "    domScope.querySelector('#df-469c6f9a-1b4f-4142-8769-c6e0dd7224c8 button.colab-df-quickchart');\n",
              "  quickchartButtonEl.style.display =\n",
              "    google.colab.kernel.accessAllowed ? 'block' : 'none';\n",
              "}\n",
              "\n",
              "        displayQuickchartButton(document);\n",
              "      </script>\n",
              "      <style>\n",
              "    .colab-df-container {\n",
              "      display:flex;\n",
              "      flex-wrap:wrap;\n",
              "      gap: 12px;\n",
              "    }\n",
              "\n",
              "    .colab-df-convert {\n",
              "      background-color: #E8F0FE;\n",
              "      border: none;\n",
              "      border-radius: 50%;\n",
              "      cursor: pointer;\n",
              "      display: none;\n",
              "      fill: #1967D2;\n",
              "      height: 32px;\n",
              "      padding: 0 0 0 0;\n",
              "      width: 32px;\n",
              "    }\n",
              "\n",
              "    .colab-df-convert:hover {\n",
              "      background-color: #E2EBFA;\n",
              "      box-shadow: 0px 1px 2px rgba(60, 64, 67, 0.3), 0px 1px 3px 1px rgba(60, 64, 67, 0.15);\n",
              "      fill: #174EA6;\n",
              "    }\n",
              "\n",
              "    [theme=dark] .colab-df-convert {\n",
              "      background-color: #3B4455;\n",
              "      fill: #D2E3FC;\n",
              "    }\n",
              "\n",
              "    [theme=dark] .colab-df-convert:hover {\n",
              "      background-color: #434B5C;\n",
              "      box-shadow: 0px 1px 3px 1px rgba(0, 0, 0, 0.15);\n",
              "      filter: drop-shadow(0px 1px 2px rgba(0, 0, 0, 0.3));\n",
              "      fill: #FFFFFF;\n",
              "    }\n",
              "  </style>\n",
              "\n",
              "      <script>\n",
              "        const buttonEl =\n",
              "          document.querySelector('#df-87164562-615b-47af-b759-d58f1f7656d9 button.colab-df-convert');\n",
              "        buttonEl.style.display =\n",
              "          google.colab.kernel.accessAllowed ? 'block' : 'none';\n",
              "\n",
              "        async function convertToInteractive(key) {\n",
              "          const element = document.querySelector('#df-87164562-615b-47af-b759-d58f1f7656d9');\n",
              "          const dataTable =\n",
              "            await google.colab.kernel.invokeFunction('convertToInteractive',\n",
              "                                                     [key], {});\n",
              "          if (!dataTable) return;\n",
              "\n",
              "          const docLinkHtml = 'Like what you see? Visit the ' +\n",
              "            '<a target=\"_blank\" href=https://colab.research.google.com/notebooks/data_table.ipynb>data table notebook</a>'\n",
              "            + ' to learn more about interactive tables.';\n",
              "          element.innerHTML = '';\n",
              "          dataTable['output_type'] = 'display_data';\n",
              "          await google.colab.output.renderOutput(dataTable, element);\n",
              "          const docLink = document.createElement('div');\n",
              "          docLink.innerHTML = docLinkHtml;\n",
              "          element.appendChild(docLink);\n",
              "        }\n",
              "      </script>\n",
              "    </div>\n",
              "  </div>\n"
            ]
          },
          "metadata": {},
          "execution_count": 47
        }
      ]
    },
    {
      "cell_type": "code",
      "source": [
        "data['SINT_ATE_NOTIF'].info()"
      ],
      "metadata": {
        "colab": {
          "base_uri": "https://localhost:8080/"
        },
        "id": "h08RPxkTyPaH",
        "outputId": "d74333eb-2276-4c5a-e2b6-96d83afd7f96"
      },
      "execution_count": null,
      "outputs": [
        {
          "output_type": "stream",
          "name": "stdout",
          "text": [
            "<class 'pandas.core.series.Series'>\n",
            "RangeIndex: 17432 entries, 0 to 17431\n",
            "Series name: SINT_ATE_NOTIF\n",
            "Non-Null Count  Dtype\n",
            "--------------  -----\n",
            "17432 non-null  int64\n",
            "dtypes: int64(1)\n",
            "memory usage: 136.3 KB\n"
          ]
        }
      ]
    },
    {
      "cell_type": "markdown",
      "source": [
        "Criação da coluna \"PCR_EVOLUCAO\" que calcula a diferença de dias entre a data do PCR e a data da evolução."
      ],
      "metadata": {
        "id": "1-u5dclISwAv"
      }
    },
    {
      "cell_type": "markdown",
      "source": [
        "*DT_PCR com DT_EVOLUCA*"
      ],
      "metadata": {
        "id": "N-1vOmXvSwAv"
      }
    },
    {
      "cell_type": "code",
      "source": [
        "data['PCR_EVOLUCAO'] = ''"
      ],
      "metadata": {
        "id": "-BT4t8gAyPXR"
      },
      "execution_count": null,
      "outputs": []
    },
    {
      "cell_type": "code",
      "source": [
        "# Calcula a diferença de dias entre duas datas\n",
        "def calc_pcr_evo(row):\n",
        "  if row['PCR_RESUL'] != 4:\n",
        "    if pd.isna(row['DT_PCR']) or pd.isna(row['DT_EVOLUCA']):\n",
        "      return np.nan\n",
        "    else:\n",
        "      data1 = datetime.strptime(row['DT_PCR'], '%d/%m/%Y')\n",
        "      data2 = datetime.strptime(row['DT_EVOLUCA'], '%d/%m/%Y')\n",
        "      return abs((data2 - data1).days)\n",
        "  else:\n",
        "    return 0\n",
        "\n",
        "# Chama a função e atribui o resultado à coluna 'PCR_EVOLUCAO'\n",
        "data['PCR_EVOLUCAO'] = data.apply(calc_pcr_evo, axis=1)"
      ],
      "metadata": {
        "id": "vkei31aPyPT0"
      },
      "execution_count": null,
      "outputs": []
    },
    {
      "cell_type": "code",
      "source": [
        "data[['DT_PCR', 'DT_EVOLUCA', 'PCR_EVOLUCAO']]"
      ],
      "metadata": {
        "colab": {
          "base_uri": "https://localhost:8080/"
        },
        "id": "-HJ36ev2yPQ-",
        "outputId": "9e55cbaa-dbb7-4c50-e7bf-ab4a13712201"
      },
      "execution_count": null,
      "outputs": [
        {
          "output_type": "execute_result",
          "data": {
            "text/plain": [
              "           DT_PCR  DT_EVOLUCA  PCR_EVOLUCAO\n",
              "0      09/01/2022  06/01/2022           3.0\n",
              "1             NaN  25/01/2022           0.0\n",
              "2      13/01/2022  13/01/2022           0.0\n",
              "3      21/01/2022  07/02/2022          17.0\n",
              "4      13/01/2022  13/01/2022           0.0\n",
              "...           ...         ...           ...\n",
              "17427         NaN  29/06/2022           0.0\n",
              "17428  15/08/2022  12/08/2022           3.0\n",
              "17429  02/09/2022  01/09/2022           1.0\n",
              "17430  17/11/2022  17/11/2022           0.0\n",
              "17431  26/12/2022  29/12/2022           3.0\n",
              "\n",
              "[17432 rows x 3 columns]"
            ],
            "text/html": [
              "\n",
              "\n",
              "  <div id=\"df-2815d787-5750-4266-8f55-086ac912b85c\">\n",
              "    <div class=\"colab-df-container\">\n",
              "      <div>\n",
              "<style scoped>\n",
              "    .dataframe tbody tr th:only-of-type {\n",
              "        vertical-align: middle;\n",
              "    }\n",
              "\n",
              "    .dataframe tbody tr th {\n",
              "        vertical-align: top;\n",
              "    }\n",
              "\n",
              "    .dataframe thead th {\n",
              "        text-align: right;\n",
              "    }\n",
              "</style>\n",
              "<table border=\"1\" class=\"dataframe\">\n",
              "  <thead>\n",
              "    <tr style=\"text-align: right;\">\n",
              "      <th></th>\n",
              "      <th>DT_PCR</th>\n",
              "      <th>DT_EVOLUCA</th>\n",
              "      <th>PCR_EVOLUCAO</th>\n",
              "    </tr>\n",
              "  </thead>\n",
              "  <tbody>\n",
              "    <tr>\n",
              "      <th>0</th>\n",
              "      <td>09/01/2022</td>\n",
              "      <td>06/01/2022</td>\n",
              "      <td>3.0</td>\n",
              "    </tr>\n",
              "    <tr>\n",
              "      <th>1</th>\n",
              "      <td>NaN</td>\n",
              "      <td>25/01/2022</td>\n",
              "      <td>0.0</td>\n",
              "    </tr>\n",
              "    <tr>\n",
              "      <th>2</th>\n",
              "      <td>13/01/2022</td>\n",
              "      <td>13/01/2022</td>\n",
              "      <td>0.0</td>\n",
              "    </tr>\n",
              "    <tr>\n",
              "      <th>3</th>\n",
              "      <td>21/01/2022</td>\n",
              "      <td>07/02/2022</td>\n",
              "      <td>17.0</td>\n",
              "    </tr>\n",
              "    <tr>\n",
              "      <th>4</th>\n",
              "      <td>13/01/2022</td>\n",
              "      <td>13/01/2022</td>\n",
              "      <td>0.0</td>\n",
              "    </tr>\n",
              "    <tr>\n",
              "      <th>...</th>\n",
              "      <td>...</td>\n",
              "      <td>...</td>\n",
              "      <td>...</td>\n",
              "    </tr>\n",
              "    <tr>\n",
              "      <th>17427</th>\n",
              "      <td>NaN</td>\n",
              "      <td>29/06/2022</td>\n",
              "      <td>0.0</td>\n",
              "    </tr>\n",
              "    <tr>\n",
              "      <th>17428</th>\n",
              "      <td>15/08/2022</td>\n",
              "      <td>12/08/2022</td>\n",
              "      <td>3.0</td>\n",
              "    </tr>\n",
              "    <tr>\n",
              "      <th>17429</th>\n",
              "      <td>02/09/2022</td>\n",
              "      <td>01/09/2022</td>\n",
              "      <td>1.0</td>\n",
              "    </tr>\n",
              "    <tr>\n",
              "      <th>17430</th>\n",
              "      <td>17/11/2022</td>\n",
              "      <td>17/11/2022</td>\n",
              "      <td>0.0</td>\n",
              "    </tr>\n",
              "    <tr>\n",
              "      <th>17431</th>\n",
              "      <td>26/12/2022</td>\n",
              "      <td>29/12/2022</td>\n",
              "      <td>3.0</td>\n",
              "    </tr>\n",
              "  </tbody>\n",
              "</table>\n",
              "<p>17432 rows × 3 columns</p>\n",
              "</div>\n",
              "      <button class=\"colab-df-convert\" onclick=\"convertToInteractive('df-2815d787-5750-4266-8f55-086ac912b85c')\"\n",
              "              title=\"Convert this dataframe to an interactive table.\"\n",
              "              style=\"display:none;\">\n",
              "\n",
              "  <svg xmlns=\"http://www.w3.org/2000/svg\" height=\"24px\"viewBox=\"0 0 24 24\"\n",
              "       width=\"24px\">\n",
              "    <path d=\"M0 0h24v24H0V0z\" fill=\"none\"/>\n",
              "    <path d=\"M18.56 5.44l.94 2.06.94-2.06 2.06-.94-2.06-.94-.94-2.06-.94 2.06-2.06.94zm-11 1L8.5 8.5l.94-2.06 2.06-.94-2.06-.94L8.5 2.5l-.94 2.06-2.06.94zm10 10l.94 2.06.94-2.06 2.06-.94-2.06-.94-.94-2.06-.94 2.06-2.06.94z\"/><path d=\"M17.41 7.96l-1.37-1.37c-.4-.4-.92-.59-1.43-.59-.52 0-1.04.2-1.43.59L10.3 9.45l-7.72 7.72c-.78.78-.78 2.05 0 2.83L4 21.41c.39.39.9.59 1.41.59.51 0 1.02-.2 1.41-.59l7.78-7.78 2.81-2.81c.8-.78.8-2.07 0-2.86zM5.41 20L4 18.59l7.72-7.72 1.47 1.35L5.41 20z\"/>\n",
              "  </svg>\n",
              "      </button>\n",
              "\n",
              "\n",
              "\n",
              "    <div id=\"df-b8ad4708-33e7-4f7b-bc43-b47e5071b7c0\">\n",
              "      <button class=\"colab-df-quickchart\" onclick=\"quickchart('df-b8ad4708-33e7-4f7b-bc43-b47e5071b7c0')\"\n",
              "              title=\"Suggest charts.\"\n",
              "              style=\"display:none;\">\n",
              "\n",
              "<svg xmlns=\"http://www.w3.org/2000/svg\" height=\"24px\"viewBox=\"0 0 24 24\"\n",
              "     width=\"24px\">\n",
              "    <g>\n",
              "        <path d=\"M19 3H5c-1.1 0-2 .9-2 2v14c0 1.1.9 2 2 2h14c1.1 0 2-.9 2-2V5c0-1.1-.9-2-2-2zM9 17H7v-7h2v7zm4 0h-2V7h2v10zm4 0h-2v-4h2v4z\"/>\n",
              "    </g>\n",
              "</svg>\n",
              "      </button>\n",
              "    </div>\n",
              "\n",
              "<style>\n",
              "  .colab-df-quickchart {\n",
              "    background-color: #E8F0FE;\n",
              "    border: none;\n",
              "    border-radius: 50%;\n",
              "    cursor: pointer;\n",
              "    display: none;\n",
              "    fill: #1967D2;\n",
              "    height: 32px;\n",
              "    padding: 0 0 0 0;\n",
              "    width: 32px;\n",
              "  }\n",
              "\n",
              "  .colab-df-quickchart:hover {\n",
              "    background-color: #E2EBFA;\n",
              "    box-shadow: 0px 1px 2px rgba(60, 64, 67, 0.3), 0px 1px 3px 1px rgba(60, 64, 67, 0.15);\n",
              "    fill: #174EA6;\n",
              "  }\n",
              "\n",
              "  [theme=dark] .colab-df-quickchart {\n",
              "    background-color: #3B4455;\n",
              "    fill: #D2E3FC;\n",
              "  }\n",
              "\n",
              "  [theme=dark] .colab-df-quickchart:hover {\n",
              "    background-color: #434B5C;\n",
              "    box-shadow: 0px 1px 3px 1px rgba(0, 0, 0, 0.15);\n",
              "    filter: drop-shadow(0px 1px 2px rgba(0, 0, 0, 0.3));\n",
              "    fill: #FFFFFF;\n",
              "  }\n",
              "</style>\n",
              "\n",
              "    <script>\n",
              "      async function quickchart(key) {\n",
              "        const containerElement = document.querySelector('#' + key);\n",
              "        const charts = await google.colab.kernel.invokeFunction(\n",
              "            'suggestCharts', [key], {});\n",
              "      }\n",
              "    </script>\n",
              "\n",
              "      <script>\n",
              "\n",
              "function displayQuickchartButton(domScope) {\n",
              "  let quickchartButtonEl =\n",
              "    domScope.querySelector('#df-b8ad4708-33e7-4f7b-bc43-b47e5071b7c0 button.colab-df-quickchart');\n",
              "  quickchartButtonEl.style.display =\n",
              "    google.colab.kernel.accessAllowed ? 'block' : 'none';\n",
              "}\n",
              "\n",
              "        displayQuickchartButton(document);\n",
              "      </script>\n",
              "      <style>\n",
              "    .colab-df-container {\n",
              "      display:flex;\n",
              "      flex-wrap:wrap;\n",
              "      gap: 12px;\n",
              "    }\n",
              "\n",
              "    .colab-df-convert {\n",
              "      background-color: #E8F0FE;\n",
              "      border: none;\n",
              "      border-radius: 50%;\n",
              "      cursor: pointer;\n",
              "      display: none;\n",
              "      fill: #1967D2;\n",
              "      height: 32px;\n",
              "      padding: 0 0 0 0;\n",
              "      width: 32px;\n",
              "    }\n",
              "\n",
              "    .colab-df-convert:hover {\n",
              "      background-color: #E2EBFA;\n",
              "      box-shadow: 0px 1px 2px rgba(60, 64, 67, 0.3), 0px 1px 3px 1px rgba(60, 64, 67, 0.15);\n",
              "      fill: #174EA6;\n",
              "    }\n",
              "\n",
              "    [theme=dark] .colab-df-convert {\n",
              "      background-color: #3B4455;\n",
              "      fill: #D2E3FC;\n",
              "    }\n",
              "\n",
              "    [theme=dark] .colab-df-convert:hover {\n",
              "      background-color: #434B5C;\n",
              "      box-shadow: 0px 1px 3px 1px rgba(0, 0, 0, 0.15);\n",
              "      filter: drop-shadow(0px 1px 2px rgba(0, 0, 0, 0.3));\n",
              "      fill: #FFFFFF;\n",
              "    }\n",
              "  </style>\n",
              "\n",
              "      <script>\n",
              "        const buttonEl =\n",
              "          document.querySelector('#df-2815d787-5750-4266-8f55-086ac912b85c button.colab-df-convert');\n",
              "        buttonEl.style.display =\n",
              "          google.colab.kernel.accessAllowed ? 'block' : 'none';\n",
              "\n",
              "        async function convertToInteractive(key) {\n",
              "          const element = document.querySelector('#df-2815d787-5750-4266-8f55-086ac912b85c');\n",
              "          const dataTable =\n",
              "            await google.colab.kernel.invokeFunction('convertToInteractive',\n",
              "                                                     [key], {});\n",
              "          if (!dataTable) return;\n",
              "\n",
              "          const docLinkHtml = 'Like what you see? Visit the ' +\n",
              "            '<a target=\"_blank\" href=https://colab.research.google.com/notebooks/data_table.ipynb>data table notebook</a>'\n",
              "            + ' to learn more about interactive tables.';\n",
              "          element.innerHTML = '';\n",
              "          dataTable['output_type'] = 'display_data';\n",
              "          await google.colab.output.renderOutput(dataTable, element);\n",
              "          const docLink = document.createElement('div');\n",
              "          docLink.innerHTML = docLinkHtml;\n",
              "          element.appendChild(docLink);\n",
              "        }\n",
              "      </script>\n",
              "    </div>\n",
              "  </div>\n"
            ]
          },
          "metadata": {},
          "execution_count": 51
        }
      ]
    },
    {
      "cell_type": "code",
      "source": [
        "data['PCR_EVOLUCAO'].info()"
      ],
      "metadata": {
        "colab": {
          "base_uri": "https://localhost:8080/"
        },
        "id": "z68sa1aUyPOI",
        "outputId": "ffe91e37-9420-4a43-991a-c316f72c470e"
      },
      "execution_count": null,
      "outputs": [
        {
          "output_type": "stream",
          "name": "stdout",
          "text": [
            "<class 'pandas.core.series.Series'>\n",
            "RangeIndex: 17432 entries, 0 to 17431\n",
            "Series name: PCR_EVOLUCAO\n",
            "Non-Null Count  Dtype  \n",
            "--------------  -----  \n",
            "15486 non-null  float64\n",
            "dtypes: float64(1)\n",
            "memory usage: 136.3 KB\n"
          ]
        }
      ]
    },
    {
      "cell_type": "code",
      "source": [
        "# Calcula a mediana de 'PCR_EVOLUCAO'\n",
        "data['PCR_EVOLUCAO'].median()"
      ],
      "metadata": {
        "colab": {
          "base_uri": "https://localhost:8080/"
        },
        "id": "HWxL9bOdyPLS",
        "outputId": "bf375ac8-d932-418c-f121-03b5a3830be7"
      },
      "execution_count": null,
      "outputs": [
        {
          "output_type": "execute_result",
          "data": {
            "text/plain": [
              "2.0"
            ]
          },
          "metadata": {},
          "execution_count": 53
        }
      ]
    },
    {
      "cell_type": "code",
      "source": [
        "# Conta os valores NaN em 'PCR_EVOLUCAO'\n",
        "data['PCR_EVOLUCAO'].isnull().sum()"
      ],
      "metadata": {
        "colab": {
          "base_uri": "https://localhost:8080/"
        },
        "id": "fHX3PeLcyPIc",
        "outputId": "7bf47012-577d-4076-d13d-a3b18a3d8911"
      },
      "execution_count": null,
      "outputs": [
        {
          "output_type": "execute_result",
          "data": {
            "text/plain": [
              "1946"
            ]
          },
          "metadata": {},
          "execution_count": 54
        }
      ]
    },
    {
      "cell_type": "code",
      "source": [
        "# Preenche valores NaN com a mediana\n",
        "data['PCR_EVOLUCAO'].fillna(data['PCR_EVOLUCAO'].median(), inplace=True)"
      ],
      "metadata": {
        "id": "FOqGSQE0yPCe"
      },
      "execution_count": null,
      "outputs": []
    },
    {
      "cell_type": "code",
      "source": [
        "# Converte o tipo de dados de float para int\n",
        "data['PCR_EVOLUCAO'] = data['PCR_EVOLUCAO'].astype(int)"
      ],
      "metadata": {
        "id": "TihvztPiyO_8"
      },
      "execution_count": null,
      "outputs": []
    },
    {
      "cell_type": "code",
      "source": [
        "data['PCR_EVOLUCAO'].info()"
      ],
      "metadata": {
        "colab": {
          "base_uri": "https://localhost:8080/"
        },
        "id": "Tc6jhGKhy65U",
        "outputId": "c0a3db64-3400-4ed4-e4e1-2fdd4077a528"
      },
      "execution_count": null,
      "outputs": [
        {
          "output_type": "stream",
          "name": "stdout",
          "text": [
            "<class 'pandas.core.series.Series'>\n",
            "RangeIndex: 17432 entries, 0 to 17431\n",
            "Series name: PCR_EVOLUCAO\n",
            "Non-Null Count  Dtype\n",
            "--------------  -----\n",
            "17432 non-null  int64\n",
            "dtypes: int64(1)\n",
            "memory usage: 136.3 KB\n"
          ]
        }
      ]
    },
    {
      "cell_type": "markdown",
      "source": [
        "SEGUNDA DOSE\n",
        "\n",
        "Criação da coluna \"DIAS_DOSE2\" que calcula a quantidade de dias da data da segunda dose até a notificação."
      ],
      "metadata": {
        "id": "y2Il2TahUNy6"
      }
    },
    {
      "cell_type": "markdown",
      "source": [
        "*DOSE_2_COV com DT_NOTIFIC*"
      ],
      "metadata": {
        "id": "MfRtoGK1UNy_"
      }
    },
    {
      "cell_type": "code",
      "source": [
        "data['DIAS_DOSE2'] = ''"
      ],
      "metadata": {
        "id": "XoqavVsEy9jc"
      },
      "execution_count": null,
      "outputs": []
    },
    {
      "cell_type": "code",
      "source": [
        "# Calcula o intervalo de dias entre duas datas\n",
        "def vac_segunda_dose(row):\n",
        "  if row['VACINA_COV'] == 1:\n",
        "    if pd.isna(row['DOSE_2_COV']):\n",
        "      return np.nan\n",
        "    else:\n",
        "      data1 = datetime.strptime(row['DOSE_2_COV'], '%d/%m/%Y')\n",
        "      data2 = datetime.strptime(row['DT_NOTIFIC'], '%d/%m/%Y')\n",
        "      return abs((data2 - data1).days)\n",
        "  else:\n",
        "    return 0\n",
        "\n",
        "# Chama a função e atribui o resultado à coluna 'DIAS_DOSE2'\n",
        "data['DIAS_DOSE2'] = data.apply(vac_segunda_dose, axis=1)"
      ],
      "metadata": {
        "id": "-CA3sXyPy9nF"
      },
      "execution_count": null,
      "outputs": []
    },
    {
      "cell_type": "code",
      "source": [
        "data[['DOSE_1_COV','DOSE_2_COV', 'DT_NOTIFIC', 'DIAS_DOSE2']]"
      ],
      "metadata": {
        "colab": {
          "base_uri": "https://localhost:8080/"
        },
        "id": "DVevhHdgy9qZ",
        "outputId": "95af26da-509a-4469-f383-741570439249"
      },
      "execution_count": null,
      "outputs": [
        {
          "output_type": "execute_result",
          "data": {
            "text/plain": [
              "       DOSE_1_COV  DOSE_2_COV  DT_NOTIFIC  DIAS_DOSE2\n",
              "0      17/08/2021  05/11/2021  05/01/2022        61.0\n",
              "1      27/03/2021  19/04/2021  07/01/2022       263.0\n",
              "2      10/06/2021  30/09/2021  10/01/2022       102.0\n",
              "3             NaN         NaN  19/01/2022         0.0\n",
              "4      24/06/2021  16/09/2021  10/01/2022       116.0\n",
              "...           ...         ...         ...         ...\n",
              "17427         NaN         NaN  29/06/2022         0.0\n",
              "17428  19/02/2021  16/03/2021  09/08/2022       511.0\n",
              "17429         NaN  16/03/2021  30/08/2022       532.0\n",
              "17430  23/03/2021  14/04/2021  10/11/2022       575.0\n",
              "17431  30/03/2021  27/04/2021  24/12/2022       606.0\n",
              "\n",
              "[17432 rows x 4 columns]"
            ],
            "text/html": [
              "\n",
              "\n",
              "  <div id=\"df-6e9eb782-7d50-4245-b378-d1bdb91b97fd\">\n",
              "    <div class=\"colab-df-container\">\n",
              "      <div>\n",
              "<style scoped>\n",
              "    .dataframe tbody tr th:only-of-type {\n",
              "        vertical-align: middle;\n",
              "    }\n",
              "\n",
              "    .dataframe tbody tr th {\n",
              "        vertical-align: top;\n",
              "    }\n",
              "\n",
              "    .dataframe thead th {\n",
              "        text-align: right;\n",
              "    }\n",
              "</style>\n",
              "<table border=\"1\" class=\"dataframe\">\n",
              "  <thead>\n",
              "    <tr style=\"text-align: right;\">\n",
              "      <th></th>\n",
              "      <th>DOSE_1_COV</th>\n",
              "      <th>DOSE_2_COV</th>\n",
              "      <th>DT_NOTIFIC</th>\n",
              "      <th>DIAS_DOSE2</th>\n",
              "    </tr>\n",
              "  </thead>\n",
              "  <tbody>\n",
              "    <tr>\n",
              "      <th>0</th>\n",
              "      <td>17/08/2021</td>\n",
              "      <td>05/11/2021</td>\n",
              "      <td>05/01/2022</td>\n",
              "      <td>61.0</td>\n",
              "    </tr>\n",
              "    <tr>\n",
              "      <th>1</th>\n",
              "      <td>27/03/2021</td>\n",
              "      <td>19/04/2021</td>\n",
              "      <td>07/01/2022</td>\n",
              "      <td>263.0</td>\n",
              "    </tr>\n",
              "    <tr>\n",
              "      <th>2</th>\n",
              "      <td>10/06/2021</td>\n",
              "      <td>30/09/2021</td>\n",
              "      <td>10/01/2022</td>\n",
              "      <td>102.0</td>\n",
              "    </tr>\n",
              "    <tr>\n",
              "      <th>3</th>\n",
              "      <td>NaN</td>\n",
              "      <td>NaN</td>\n",
              "      <td>19/01/2022</td>\n",
              "      <td>0.0</td>\n",
              "    </tr>\n",
              "    <tr>\n",
              "      <th>4</th>\n",
              "      <td>24/06/2021</td>\n",
              "      <td>16/09/2021</td>\n",
              "      <td>10/01/2022</td>\n",
              "      <td>116.0</td>\n",
              "    </tr>\n",
              "    <tr>\n",
              "      <th>...</th>\n",
              "      <td>...</td>\n",
              "      <td>...</td>\n",
              "      <td>...</td>\n",
              "      <td>...</td>\n",
              "    </tr>\n",
              "    <tr>\n",
              "      <th>17427</th>\n",
              "      <td>NaN</td>\n",
              "      <td>NaN</td>\n",
              "      <td>29/06/2022</td>\n",
              "      <td>0.0</td>\n",
              "    </tr>\n",
              "    <tr>\n",
              "      <th>17428</th>\n",
              "      <td>19/02/2021</td>\n",
              "      <td>16/03/2021</td>\n",
              "      <td>09/08/2022</td>\n",
              "      <td>511.0</td>\n",
              "    </tr>\n",
              "    <tr>\n",
              "      <th>17429</th>\n",
              "      <td>NaN</td>\n",
              "      <td>16/03/2021</td>\n",
              "      <td>30/08/2022</td>\n",
              "      <td>532.0</td>\n",
              "    </tr>\n",
              "    <tr>\n",
              "      <th>17430</th>\n",
              "      <td>23/03/2021</td>\n",
              "      <td>14/04/2021</td>\n",
              "      <td>10/11/2022</td>\n",
              "      <td>575.0</td>\n",
              "    </tr>\n",
              "    <tr>\n",
              "      <th>17431</th>\n",
              "      <td>30/03/2021</td>\n",
              "      <td>27/04/2021</td>\n",
              "      <td>24/12/2022</td>\n",
              "      <td>606.0</td>\n",
              "    </tr>\n",
              "  </tbody>\n",
              "</table>\n",
              "<p>17432 rows × 4 columns</p>\n",
              "</div>\n",
              "      <button class=\"colab-df-convert\" onclick=\"convertToInteractive('df-6e9eb782-7d50-4245-b378-d1bdb91b97fd')\"\n",
              "              title=\"Convert this dataframe to an interactive table.\"\n",
              "              style=\"display:none;\">\n",
              "\n",
              "  <svg xmlns=\"http://www.w3.org/2000/svg\" height=\"24px\"viewBox=\"0 0 24 24\"\n",
              "       width=\"24px\">\n",
              "    <path d=\"M0 0h24v24H0V0z\" fill=\"none\"/>\n",
              "    <path d=\"M18.56 5.44l.94 2.06.94-2.06 2.06-.94-2.06-.94-.94-2.06-.94 2.06-2.06.94zm-11 1L8.5 8.5l.94-2.06 2.06-.94-2.06-.94L8.5 2.5l-.94 2.06-2.06.94zm10 10l.94 2.06.94-2.06 2.06-.94-2.06-.94-.94-2.06-.94 2.06-2.06.94z\"/><path d=\"M17.41 7.96l-1.37-1.37c-.4-.4-.92-.59-1.43-.59-.52 0-1.04.2-1.43.59L10.3 9.45l-7.72 7.72c-.78.78-.78 2.05 0 2.83L4 21.41c.39.39.9.59 1.41.59.51 0 1.02-.2 1.41-.59l7.78-7.78 2.81-2.81c.8-.78.8-2.07 0-2.86zM5.41 20L4 18.59l7.72-7.72 1.47 1.35L5.41 20z\"/>\n",
              "  </svg>\n",
              "      </button>\n",
              "\n",
              "\n",
              "\n",
              "    <div id=\"df-defb8d37-ba61-4847-aa33-56c461784b8c\">\n",
              "      <button class=\"colab-df-quickchart\" onclick=\"quickchart('df-defb8d37-ba61-4847-aa33-56c461784b8c')\"\n",
              "              title=\"Suggest charts.\"\n",
              "              style=\"display:none;\">\n",
              "\n",
              "<svg xmlns=\"http://www.w3.org/2000/svg\" height=\"24px\"viewBox=\"0 0 24 24\"\n",
              "     width=\"24px\">\n",
              "    <g>\n",
              "        <path d=\"M19 3H5c-1.1 0-2 .9-2 2v14c0 1.1.9 2 2 2h14c1.1 0 2-.9 2-2V5c0-1.1-.9-2-2-2zM9 17H7v-7h2v7zm4 0h-2V7h2v10zm4 0h-2v-4h2v4z\"/>\n",
              "    </g>\n",
              "</svg>\n",
              "      </button>\n",
              "    </div>\n",
              "\n",
              "<style>\n",
              "  .colab-df-quickchart {\n",
              "    background-color: #E8F0FE;\n",
              "    border: none;\n",
              "    border-radius: 50%;\n",
              "    cursor: pointer;\n",
              "    display: none;\n",
              "    fill: #1967D2;\n",
              "    height: 32px;\n",
              "    padding: 0 0 0 0;\n",
              "    width: 32px;\n",
              "  }\n",
              "\n",
              "  .colab-df-quickchart:hover {\n",
              "    background-color: #E2EBFA;\n",
              "    box-shadow: 0px 1px 2px rgba(60, 64, 67, 0.3), 0px 1px 3px 1px rgba(60, 64, 67, 0.15);\n",
              "    fill: #174EA6;\n",
              "  }\n",
              "\n",
              "  [theme=dark] .colab-df-quickchart {\n",
              "    background-color: #3B4455;\n",
              "    fill: #D2E3FC;\n",
              "  }\n",
              "\n",
              "  [theme=dark] .colab-df-quickchart:hover {\n",
              "    background-color: #434B5C;\n",
              "    box-shadow: 0px 1px 3px 1px rgba(0, 0, 0, 0.15);\n",
              "    filter: drop-shadow(0px 1px 2px rgba(0, 0, 0, 0.3));\n",
              "    fill: #FFFFFF;\n",
              "  }\n",
              "</style>\n",
              "\n",
              "    <script>\n",
              "      async function quickchart(key) {\n",
              "        const containerElement = document.querySelector('#' + key);\n",
              "        const charts = await google.colab.kernel.invokeFunction(\n",
              "            'suggestCharts', [key], {});\n",
              "      }\n",
              "    </script>\n",
              "\n",
              "      <script>\n",
              "\n",
              "function displayQuickchartButton(domScope) {\n",
              "  let quickchartButtonEl =\n",
              "    domScope.querySelector('#df-defb8d37-ba61-4847-aa33-56c461784b8c button.colab-df-quickchart');\n",
              "  quickchartButtonEl.style.display =\n",
              "    google.colab.kernel.accessAllowed ? 'block' : 'none';\n",
              "}\n",
              "\n",
              "        displayQuickchartButton(document);\n",
              "      </script>\n",
              "      <style>\n",
              "    .colab-df-container {\n",
              "      display:flex;\n",
              "      flex-wrap:wrap;\n",
              "      gap: 12px;\n",
              "    }\n",
              "\n",
              "    .colab-df-convert {\n",
              "      background-color: #E8F0FE;\n",
              "      border: none;\n",
              "      border-radius: 50%;\n",
              "      cursor: pointer;\n",
              "      display: none;\n",
              "      fill: #1967D2;\n",
              "      height: 32px;\n",
              "      padding: 0 0 0 0;\n",
              "      width: 32px;\n",
              "    }\n",
              "\n",
              "    .colab-df-convert:hover {\n",
              "      background-color: #E2EBFA;\n",
              "      box-shadow: 0px 1px 2px rgba(60, 64, 67, 0.3), 0px 1px 3px 1px rgba(60, 64, 67, 0.15);\n",
              "      fill: #174EA6;\n",
              "    }\n",
              "\n",
              "    [theme=dark] .colab-df-convert {\n",
              "      background-color: #3B4455;\n",
              "      fill: #D2E3FC;\n",
              "    }\n",
              "\n",
              "    [theme=dark] .colab-df-convert:hover {\n",
              "      background-color: #434B5C;\n",
              "      box-shadow: 0px 1px 3px 1px rgba(0, 0, 0, 0.15);\n",
              "      filter: drop-shadow(0px 1px 2px rgba(0, 0, 0, 0.3));\n",
              "      fill: #FFFFFF;\n",
              "    }\n",
              "  </style>\n",
              "\n",
              "      <script>\n",
              "        const buttonEl =\n",
              "          document.querySelector('#df-6e9eb782-7d50-4245-b378-d1bdb91b97fd button.colab-df-convert');\n",
              "        buttonEl.style.display =\n",
              "          google.colab.kernel.accessAllowed ? 'block' : 'none';\n",
              "\n",
              "        async function convertToInteractive(key) {\n",
              "          const element = document.querySelector('#df-6e9eb782-7d50-4245-b378-d1bdb91b97fd');\n",
              "          const dataTable =\n",
              "            await google.colab.kernel.invokeFunction('convertToInteractive',\n",
              "                                                     [key], {});\n",
              "          if (!dataTable) return;\n",
              "\n",
              "          const docLinkHtml = 'Like what you see? Visit the ' +\n",
              "            '<a target=\"_blank\" href=https://colab.research.google.com/notebooks/data_table.ipynb>data table notebook</a>'\n",
              "            + ' to learn more about interactive tables.';\n",
              "          element.innerHTML = '';\n",
              "          dataTable['output_type'] = 'display_data';\n",
              "          await google.colab.output.renderOutput(dataTable, element);\n",
              "          const docLink = document.createElement('div');\n",
              "          docLink.innerHTML = docLinkHtml;\n",
              "          element.appendChild(docLink);\n",
              "        }\n",
              "      </script>\n",
              "    </div>\n",
              "  </div>\n"
            ]
          },
          "metadata": {},
          "execution_count": 60
        }
      ]
    },
    {
      "cell_type": "code",
      "source": [
        "data['DIAS_DOSE2'].info()"
      ],
      "metadata": {
        "colab": {
          "base_uri": "https://localhost:8080/"
        },
        "id": "HfUrdM26y9tc",
        "outputId": "bb06b86a-f0c0-4940-fc88-50af723f11a8"
      },
      "execution_count": null,
      "outputs": [
        {
          "output_type": "stream",
          "name": "stdout",
          "text": [
            "<class 'pandas.core.series.Series'>\n",
            "RangeIndex: 17432 entries, 0 to 17431\n",
            "Series name: DIAS_DOSE2\n",
            "Non-Null Count  Dtype  \n",
            "--------------  -----  \n",
            "16254 non-null  float64\n",
            "dtypes: float64(1)\n",
            "memory usage: 136.3 KB\n"
          ]
        }
      ]
    },
    {
      "cell_type": "code",
      "source": [
        "# Calcula a mediana\n",
        "data['DIAS_DOSE2'].median()"
      ],
      "metadata": {
        "colab": {
          "base_uri": "https://localhost:8080/"
        },
        "id": "tTLFAVgay9xA",
        "outputId": "b34c19c4-1ca8-4549-fb4e-fc1a2099190c"
      },
      "execution_count": null,
      "outputs": [
        {
          "output_type": "execute_result",
          "data": {
            "text/plain": [
              "280.0"
            ]
          },
          "metadata": {},
          "execution_count": 62
        }
      ]
    },
    {
      "cell_type": "code",
      "source": [
        "# Conta os valores NaN\n",
        "data['DIAS_DOSE2'].isnull().sum()"
      ],
      "metadata": {
        "colab": {
          "base_uri": "https://localhost:8080/"
        },
        "id": "Rmh3yB3Uy90U",
        "outputId": "767ccb1f-8a45-46a2-8845-b8a9e4c108c9"
      },
      "execution_count": null,
      "outputs": [
        {
          "output_type": "execute_result",
          "data": {
            "text/plain": [
              "1178"
            ]
          },
          "metadata": {},
          "execution_count": 63
        }
      ]
    },
    {
      "cell_type": "code",
      "source": [
        "# Preenche valores NaN com a mediana\n",
        "data['DIAS_DOSE2'].fillna(data['DIAS_DOSE2'].median(), inplace=True)\n",
        "\n",
        "# Converte o tipo de dados de float para int\n",
        "data['DIAS_DOSE2'] = data['DIAS_DOSE2'].astype(int)"
      ],
      "metadata": {
        "id": "TOhjp547y93g"
      },
      "execution_count": null,
      "outputs": []
    },
    {
      "cell_type": "code",
      "source": [
        "data['DIAS_DOSE2'].info()"
      ],
      "metadata": {
        "colab": {
          "base_uri": "https://localhost:8080/"
        },
        "id": "Ll1Scjr1y97J",
        "outputId": "0577a1c4-5598-45a3-c6f5-b0254416f9ef"
      },
      "execution_count": null,
      "outputs": [
        {
          "output_type": "stream",
          "name": "stdout",
          "text": [
            "<class 'pandas.core.series.Series'>\n",
            "RangeIndex: 17432 entries, 0 to 17431\n",
            "Series name: DIAS_DOSE2\n",
            "Non-Null Count  Dtype\n",
            "--------------  -----\n",
            "17432 non-null  int64\n",
            "dtypes: int64(1)\n",
            "memory usage: 136.3 KB\n"
          ]
        }
      ]
    },
    {
      "cell_type": "markdown",
      "source": [
        "PRIMEIRA DOSE"
      ],
      "metadata": {
        "id": "Jys3bE1Xi-eS"
      }
    },
    {
      "cell_type": "code",
      "source": [
        "# Instância 17429\n",
        "data[['DOSE_1_COV','DOSE_2_COV', 'DT_NOTIFIC', 'DIAS_DOSE2']]"
      ],
      "metadata": {
        "colab": {
          "base_uri": "https://localhost:8080/"
        },
        "id": "OOZK6bWyy-Cp",
        "outputId": "d5b284cd-23ea-44e3-ea4b-8ca2036933a7"
      },
      "execution_count": null,
      "outputs": [
        {
          "output_type": "execute_result",
          "data": {
            "text/plain": [
              "       DOSE_1_COV  DOSE_2_COV  DT_NOTIFIC  DIAS_DOSE2\n",
              "0      17/08/2021  05/11/2021  05/01/2022          61\n",
              "1      27/03/2021  19/04/2021  07/01/2022         263\n",
              "2      10/06/2021  30/09/2021  10/01/2022         102\n",
              "3             NaN         NaN  19/01/2022           0\n",
              "4      24/06/2021  16/09/2021  10/01/2022         116\n",
              "...           ...         ...         ...         ...\n",
              "17427         NaN         NaN  29/06/2022           0\n",
              "17428  19/02/2021  16/03/2021  09/08/2022         511\n",
              "17429         NaN  16/03/2021  30/08/2022         532\n",
              "17430  23/03/2021  14/04/2021  10/11/2022         575\n",
              "17431  30/03/2021  27/04/2021  24/12/2022         606\n",
              "\n",
              "[17432 rows x 4 columns]"
            ],
            "text/html": [
              "\n",
              "\n",
              "  <div id=\"df-c4ea8c2e-8392-4541-bf26-42a8a94d0aa9\">\n",
              "    <div class=\"colab-df-container\">\n",
              "      <div>\n",
              "<style scoped>\n",
              "    .dataframe tbody tr th:only-of-type {\n",
              "        vertical-align: middle;\n",
              "    }\n",
              "\n",
              "    .dataframe tbody tr th {\n",
              "        vertical-align: top;\n",
              "    }\n",
              "\n",
              "    .dataframe thead th {\n",
              "        text-align: right;\n",
              "    }\n",
              "</style>\n",
              "<table border=\"1\" class=\"dataframe\">\n",
              "  <thead>\n",
              "    <tr style=\"text-align: right;\">\n",
              "      <th></th>\n",
              "      <th>DOSE_1_COV</th>\n",
              "      <th>DOSE_2_COV</th>\n",
              "      <th>DT_NOTIFIC</th>\n",
              "      <th>DIAS_DOSE2</th>\n",
              "    </tr>\n",
              "  </thead>\n",
              "  <tbody>\n",
              "    <tr>\n",
              "      <th>0</th>\n",
              "      <td>17/08/2021</td>\n",
              "      <td>05/11/2021</td>\n",
              "      <td>05/01/2022</td>\n",
              "      <td>61</td>\n",
              "    </tr>\n",
              "    <tr>\n",
              "      <th>1</th>\n",
              "      <td>27/03/2021</td>\n",
              "      <td>19/04/2021</td>\n",
              "      <td>07/01/2022</td>\n",
              "      <td>263</td>\n",
              "    </tr>\n",
              "    <tr>\n",
              "      <th>2</th>\n",
              "      <td>10/06/2021</td>\n",
              "      <td>30/09/2021</td>\n",
              "      <td>10/01/2022</td>\n",
              "      <td>102</td>\n",
              "    </tr>\n",
              "    <tr>\n",
              "      <th>3</th>\n",
              "      <td>NaN</td>\n",
              "      <td>NaN</td>\n",
              "      <td>19/01/2022</td>\n",
              "      <td>0</td>\n",
              "    </tr>\n",
              "    <tr>\n",
              "      <th>4</th>\n",
              "      <td>24/06/2021</td>\n",
              "      <td>16/09/2021</td>\n",
              "      <td>10/01/2022</td>\n",
              "      <td>116</td>\n",
              "    </tr>\n",
              "    <tr>\n",
              "      <th>...</th>\n",
              "      <td>...</td>\n",
              "      <td>...</td>\n",
              "      <td>...</td>\n",
              "      <td>...</td>\n",
              "    </tr>\n",
              "    <tr>\n",
              "      <th>17427</th>\n",
              "      <td>NaN</td>\n",
              "      <td>NaN</td>\n",
              "      <td>29/06/2022</td>\n",
              "      <td>0</td>\n",
              "    </tr>\n",
              "    <tr>\n",
              "      <th>17428</th>\n",
              "      <td>19/02/2021</td>\n",
              "      <td>16/03/2021</td>\n",
              "      <td>09/08/2022</td>\n",
              "      <td>511</td>\n",
              "    </tr>\n",
              "    <tr>\n",
              "      <th>17429</th>\n",
              "      <td>NaN</td>\n",
              "      <td>16/03/2021</td>\n",
              "      <td>30/08/2022</td>\n",
              "      <td>532</td>\n",
              "    </tr>\n",
              "    <tr>\n",
              "      <th>17430</th>\n",
              "      <td>23/03/2021</td>\n",
              "      <td>14/04/2021</td>\n",
              "      <td>10/11/2022</td>\n",
              "      <td>575</td>\n",
              "    </tr>\n",
              "    <tr>\n",
              "      <th>17431</th>\n",
              "      <td>30/03/2021</td>\n",
              "      <td>27/04/2021</td>\n",
              "      <td>24/12/2022</td>\n",
              "      <td>606</td>\n",
              "    </tr>\n",
              "  </tbody>\n",
              "</table>\n",
              "<p>17432 rows × 4 columns</p>\n",
              "</div>\n",
              "      <button class=\"colab-df-convert\" onclick=\"convertToInteractive('df-c4ea8c2e-8392-4541-bf26-42a8a94d0aa9')\"\n",
              "              title=\"Convert this dataframe to an interactive table.\"\n",
              "              style=\"display:none;\">\n",
              "\n",
              "  <svg xmlns=\"http://www.w3.org/2000/svg\" height=\"24px\"viewBox=\"0 0 24 24\"\n",
              "       width=\"24px\">\n",
              "    <path d=\"M0 0h24v24H0V0z\" fill=\"none\"/>\n",
              "    <path d=\"M18.56 5.44l.94 2.06.94-2.06 2.06-.94-2.06-.94-.94-2.06-.94 2.06-2.06.94zm-11 1L8.5 8.5l.94-2.06 2.06-.94-2.06-.94L8.5 2.5l-.94 2.06-2.06.94zm10 10l.94 2.06.94-2.06 2.06-.94-2.06-.94-.94-2.06-.94 2.06-2.06.94z\"/><path d=\"M17.41 7.96l-1.37-1.37c-.4-.4-.92-.59-1.43-.59-.52 0-1.04.2-1.43.59L10.3 9.45l-7.72 7.72c-.78.78-.78 2.05 0 2.83L4 21.41c.39.39.9.59 1.41.59.51 0 1.02-.2 1.41-.59l7.78-7.78 2.81-2.81c.8-.78.8-2.07 0-2.86zM5.41 20L4 18.59l7.72-7.72 1.47 1.35L5.41 20z\"/>\n",
              "  </svg>\n",
              "      </button>\n",
              "\n",
              "\n",
              "\n",
              "    <div id=\"df-debcc455-3711-45a7-b8a8-a414412a6f55\">\n",
              "      <button class=\"colab-df-quickchart\" onclick=\"quickchart('df-debcc455-3711-45a7-b8a8-a414412a6f55')\"\n",
              "              title=\"Suggest charts.\"\n",
              "              style=\"display:none;\">\n",
              "\n",
              "<svg xmlns=\"http://www.w3.org/2000/svg\" height=\"24px\"viewBox=\"0 0 24 24\"\n",
              "     width=\"24px\">\n",
              "    <g>\n",
              "        <path d=\"M19 3H5c-1.1 0-2 .9-2 2v14c0 1.1.9 2 2 2h14c1.1 0 2-.9 2-2V5c0-1.1-.9-2-2-2zM9 17H7v-7h2v7zm4 0h-2V7h2v10zm4 0h-2v-4h2v4z\"/>\n",
              "    </g>\n",
              "</svg>\n",
              "      </button>\n",
              "    </div>\n",
              "\n",
              "<style>\n",
              "  .colab-df-quickchart {\n",
              "    background-color: #E8F0FE;\n",
              "    border: none;\n",
              "    border-radius: 50%;\n",
              "    cursor: pointer;\n",
              "    display: none;\n",
              "    fill: #1967D2;\n",
              "    height: 32px;\n",
              "    padding: 0 0 0 0;\n",
              "    width: 32px;\n",
              "  }\n",
              "\n",
              "  .colab-df-quickchart:hover {\n",
              "    background-color: #E2EBFA;\n",
              "    box-shadow: 0px 1px 2px rgba(60, 64, 67, 0.3), 0px 1px 3px 1px rgba(60, 64, 67, 0.15);\n",
              "    fill: #174EA6;\n",
              "  }\n",
              "\n",
              "  [theme=dark] .colab-df-quickchart {\n",
              "    background-color: #3B4455;\n",
              "    fill: #D2E3FC;\n",
              "  }\n",
              "\n",
              "  [theme=dark] .colab-df-quickchart:hover {\n",
              "    background-color: #434B5C;\n",
              "    box-shadow: 0px 1px 3px 1px rgba(0, 0, 0, 0.15);\n",
              "    filter: drop-shadow(0px 1px 2px rgba(0, 0, 0, 0.3));\n",
              "    fill: #FFFFFF;\n",
              "  }\n",
              "</style>\n",
              "\n",
              "    <script>\n",
              "      async function quickchart(key) {\n",
              "        const containerElement = document.querySelector('#' + key);\n",
              "        const charts = await google.colab.kernel.invokeFunction(\n",
              "            'suggestCharts', [key], {});\n",
              "      }\n",
              "    </script>\n",
              "\n",
              "      <script>\n",
              "\n",
              "function displayQuickchartButton(domScope) {\n",
              "  let quickchartButtonEl =\n",
              "    domScope.querySelector('#df-debcc455-3711-45a7-b8a8-a414412a6f55 button.colab-df-quickchart');\n",
              "  quickchartButtonEl.style.display =\n",
              "    google.colab.kernel.accessAllowed ? 'block' : 'none';\n",
              "}\n",
              "\n",
              "        displayQuickchartButton(document);\n",
              "      </script>\n",
              "      <style>\n",
              "    .colab-df-container {\n",
              "      display:flex;\n",
              "      flex-wrap:wrap;\n",
              "      gap: 12px;\n",
              "    }\n",
              "\n",
              "    .colab-df-convert {\n",
              "      background-color: #E8F0FE;\n",
              "      border: none;\n",
              "      border-radius: 50%;\n",
              "      cursor: pointer;\n",
              "      display: none;\n",
              "      fill: #1967D2;\n",
              "      height: 32px;\n",
              "      padding: 0 0 0 0;\n",
              "      width: 32px;\n",
              "    }\n",
              "\n",
              "    .colab-df-convert:hover {\n",
              "      background-color: #E2EBFA;\n",
              "      box-shadow: 0px 1px 2px rgba(60, 64, 67, 0.3), 0px 1px 3px 1px rgba(60, 64, 67, 0.15);\n",
              "      fill: #174EA6;\n",
              "    }\n",
              "\n",
              "    [theme=dark] .colab-df-convert {\n",
              "      background-color: #3B4455;\n",
              "      fill: #D2E3FC;\n",
              "    }\n",
              "\n",
              "    [theme=dark] .colab-df-convert:hover {\n",
              "      background-color: #434B5C;\n",
              "      box-shadow: 0px 1px 3px 1px rgba(0, 0, 0, 0.15);\n",
              "      filter: drop-shadow(0px 1px 2px rgba(0, 0, 0, 0.3));\n",
              "      fill: #FFFFFF;\n",
              "    }\n",
              "  </style>\n",
              "\n",
              "      <script>\n",
              "        const buttonEl =\n",
              "          document.querySelector('#df-c4ea8c2e-8392-4541-bf26-42a8a94d0aa9 button.colab-df-convert');\n",
              "        buttonEl.style.display =\n",
              "          google.colab.kernel.accessAllowed ? 'block' : 'none';\n",
              "\n",
              "        async function convertToInteractive(key) {\n",
              "          const element = document.querySelector('#df-c4ea8c2e-8392-4541-bf26-42a8a94d0aa9');\n",
              "          const dataTable =\n",
              "            await google.colab.kernel.invokeFunction('convertToInteractive',\n",
              "                                                     [key], {});\n",
              "          if (!dataTable) return;\n",
              "\n",
              "          const docLinkHtml = 'Like what you see? Visit the ' +\n",
              "            '<a target=\"_blank\" href=https://colab.research.google.com/notebooks/data_table.ipynb>data table notebook</a>'\n",
              "            + ' to learn more about interactive tables.';\n",
              "          element.innerHTML = '';\n",
              "          dataTable['output_type'] = 'display_data';\n",
              "          await google.colab.output.renderOutput(dataTable, element);\n",
              "          const docLink = document.createElement('div');\n",
              "          docLink.innerHTML = docLinkHtml;\n",
              "          element.appendChild(docLink);\n",
              "        }\n",
              "      </script>\n",
              "    </div>\n",
              "  </div>\n"
            ]
          },
          "metadata": {},
          "execution_count": 66
        }
      ]
    },
    {
      "cell_type": "markdown",
      "source": [
        "Preenchimento dos dados\n",
        "\n",
        "O simples preenchimento com a moda deixará alguns dados incoerentes, pois existem instâncias que possuem NaN no valor da data da primeira dose e possui a data da segunda dose. Com isso, pode ocorrer instâncias onde os dias da segunda dose serem mais distantes que os dias da primeira dose, causando incoerência.\n",
        "\n",
        "Dessa forma, uma nova coluna será criada para extrair a moda da diferença dos dias entre a segunda e a primeira dose."
      ],
      "metadata": {
        "id": "qAYmv5M4zyS4"
      }
    },
    {
      "cell_type": "code",
      "source": [
        "# Criação de uma coluna par armazenar a quantidade de dias entre a primeira e segunda dose\n",
        "data['INTERVALO_VACINAS'] = ''"
      ],
      "metadata": {
        "id": "gQ2ESYXny-H_"
      },
      "execution_count": null,
      "outputs": []
    },
    {
      "cell_type": "code",
      "source": [
        "# Calcula o intervalo entre vacinas\n",
        "def calc_interval_vac(row):\n",
        "  if pd.isna(row['DOSE_2_COV']) or pd.isna(row['DOSE_1_COV']):\n",
        "    return np.nan\n",
        "  else:\n",
        "    data1 = datetime.strptime(row['DOSE_2_COV'], '%d/%m/%Y')\n",
        "    data2 = datetime.strptime(row['DOSE_1_COV'], '%d/%m/%Y')\n",
        "    return abs((data2 - data1).days)\n",
        "\n",
        "# Chama a função e atribui o resultado à coluna 'INTERVALO_VACINAS'\n",
        "data['INTERVALO_VACINAS'] = data.apply(calc_interval_vac, axis=1)"
      ],
      "metadata": {
        "id": "mSoNPehyy-K1"
      },
      "execution_count": null,
      "outputs": []
    },
    {
      "cell_type": "code",
      "source": [
        "data[['DOSE_1_COV','DOSE_2_COV', 'INTERVALO_VACINAS']]"
      ],
      "metadata": {
        "colab": {
          "base_uri": "https://localhost:8080/"
        },
        "id": "BCnoqRo8y-OJ",
        "outputId": "b794d9ec-2e9f-4741-d24d-f4f0c095838b"
      },
      "execution_count": null,
      "outputs": [
        {
          "output_type": "execute_result",
          "data": {
            "text/plain": [
              "       DOSE_1_COV  DOSE_2_COV  INTERVALO_VACINAS\n",
              "0      17/08/2021  05/11/2021               80.0\n",
              "1      27/03/2021  19/04/2021               23.0\n",
              "2      10/06/2021  30/09/2021              112.0\n",
              "3             NaN         NaN                NaN\n",
              "4      24/06/2021  16/09/2021               84.0\n",
              "...           ...         ...                ...\n",
              "17427         NaN         NaN                NaN\n",
              "17428  19/02/2021  16/03/2021               25.0\n",
              "17429         NaN  16/03/2021                NaN\n",
              "17430  23/03/2021  14/04/2021               22.0\n",
              "17431  30/03/2021  27/04/2021               28.0\n",
              "\n",
              "[17432 rows x 3 columns]"
            ],
            "text/html": [
              "\n",
              "\n",
              "  <div id=\"df-c3af3426-2dc3-4ae2-9250-14735930870c\">\n",
              "    <div class=\"colab-df-container\">\n",
              "      <div>\n",
              "<style scoped>\n",
              "    .dataframe tbody tr th:only-of-type {\n",
              "        vertical-align: middle;\n",
              "    }\n",
              "\n",
              "    .dataframe tbody tr th {\n",
              "        vertical-align: top;\n",
              "    }\n",
              "\n",
              "    .dataframe thead th {\n",
              "        text-align: right;\n",
              "    }\n",
              "</style>\n",
              "<table border=\"1\" class=\"dataframe\">\n",
              "  <thead>\n",
              "    <tr style=\"text-align: right;\">\n",
              "      <th></th>\n",
              "      <th>DOSE_1_COV</th>\n",
              "      <th>DOSE_2_COV</th>\n",
              "      <th>INTERVALO_VACINAS</th>\n",
              "    </tr>\n",
              "  </thead>\n",
              "  <tbody>\n",
              "    <tr>\n",
              "      <th>0</th>\n",
              "      <td>17/08/2021</td>\n",
              "      <td>05/11/2021</td>\n",
              "      <td>80.0</td>\n",
              "    </tr>\n",
              "    <tr>\n",
              "      <th>1</th>\n",
              "      <td>27/03/2021</td>\n",
              "      <td>19/04/2021</td>\n",
              "      <td>23.0</td>\n",
              "    </tr>\n",
              "    <tr>\n",
              "      <th>2</th>\n",
              "      <td>10/06/2021</td>\n",
              "      <td>30/09/2021</td>\n",
              "      <td>112.0</td>\n",
              "    </tr>\n",
              "    <tr>\n",
              "      <th>3</th>\n",
              "      <td>NaN</td>\n",
              "      <td>NaN</td>\n",
              "      <td>NaN</td>\n",
              "    </tr>\n",
              "    <tr>\n",
              "      <th>4</th>\n",
              "      <td>24/06/2021</td>\n",
              "      <td>16/09/2021</td>\n",
              "      <td>84.0</td>\n",
              "    </tr>\n",
              "    <tr>\n",
              "      <th>...</th>\n",
              "      <td>...</td>\n",
              "      <td>...</td>\n",
              "      <td>...</td>\n",
              "    </tr>\n",
              "    <tr>\n",
              "      <th>17427</th>\n",
              "      <td>NaN</td>\n",
              "      <td>NaN</td>\n",
              "      <td>NaN</td>\n",
              "    </tr>\n",
              "    <tr>\n",
              "      <th>17428</th>\n",
              "      <td>19/02/2021</td>\n",
              "      <td>16/03/2021</td>\n",
              "      <td>25.0</td>\n",
              "    </tr>\n",
              "    <tr>\n",
              "      <th>17429</th>\n",
              "      <td>NaN</td>\n",
              "      <td>16/03/2021</td>\n",
              "      <td>NaN</td>\n",
              "    </tr>\n",
              "    <tr>\n",
              "      <th>17430</th>\n",
              "      <td>23/03/2021</td>\n",
              "      <td>14/04/2021</td>\n",
              "      <td>22.0</td>\n",
              "    </tr>\n",
              "    <tr>\n",
              "      <th>17431</th>\n",
              "      <td>30/03/2021</td>\n",
              "      <td>27/04/2021</td>\n",
              "      <td>28.0</td>\n",
              "    </tr>\n",
              "  </tbody>\n",
              "</table>\n",
              "<p>17432 rows × 3 columns</p>\n",
              "</div>\n",
              "      <button class=\"colab-df-convert\" onclick=\"convertToInteractive('df-c3af3426-2dc3-4ae2-9250-14735930870c')\"\n",
              "              title=\"Convert this dataframe to an interactive table.\"\n",
              "              style=\"display:none;\">\n",
              "\n",
              "  <svg xmlns=\"http://www.w3.org/2000/svg\" height=\"24px\"viewBox=\"0 0 24 24\"\n",
              "       width=\"24px\">\n",
              "    <path d=\"M0 0h24v24H0V0z\" fill=\"none\"/>\n",
              "    <path d=\"M18.56 5.44l.94 2.06.94-2.06 2.06-.94-2.06-.94-.94-2.06-.94 2.06-2.06.94zm-11 1L8.5 8.5l.94-2.06 2.06-.94-2.06-.94L8.5 2.5l-.94 2.06-2.06.94zm10 10l.94 2.06.94-2.06 2.06-.94-2.06-.94-.94-2.06-.94 2.06-2.06.94z\"/><path d=\"M17.41 7.96l-1.37-1.37c-.4-.4-.92-.59-1.43-.59-.52 0-1.04.2-1.43.59L10.3 9.45l-7.72 7.72c-.78.78-.78 2.05 0 2.83L4 21.41c.39.39.9.59 1.41.59.51 0 1.02-.2 1.41-.59l7.78-7.78 2.81-2.81c.8-.78.8-2.07 0-2.86zM5.41 20L4 18.59l7.72-7.72 1.47 1.35L5.41 20z\"/>\n",
              "  </svg>\n",
              "      </button>\n",
              "\n",
              "\n",
              "\n",
              "    <div id=\"df-1b533256-9791-49ce-9691-1c9a728b71e3\">\n",
              "      <button class=\"colab-df-quickchart\" onclick=\"quickchart('df-1b533256-9791-49ce-9691-1c9a728b71e3')\"\n",
              "              title=\"Suggest charts.\"\n",
              "              style=\"display:none;\">\n",
              "\n",
              "<svg xmlns=\"http://www.w3.org/2000/svg\" height=\"24px\"viewBox=\"0 0 24 24\"\n",
              "     width=\"24px\">\n",
              "    <g>\n",
              "        <path d=\"M19 3H5c-1.1 0-2 .9-2 2v14c0 1.1.9 2 2 2h14c1.1 0 2-.9 2-2V5c0-1.1-.9-2-2-2zM9 17H7v-7h2v7zm4 0h-2V7h2v10zm4 0h-2v-4h2v4z\"/>\n",
              "    </g>\n",
              "</svg>\n",
              "      </button>\n",
              "    </div>\n",
              "\n",
              "<style>\n",
              "  .colab-df-quickchart {\n",
              "    background-color: #E8F0FE;\n",
              "    border: none;\n",
              "    border-radius: 50%;\n",
              "    cursor: pointer;\n",
              "    display: none;\n",
              "    fill: #1967D2;\n",
              "    height: 32px;\n",
              "    padding: 0 0 0 0;\n",
              "    width: 32px;\n",
              "  }\n",
              "\n",
              "  .colab-df-quickchart:hover {\n",
              "    background-color: #E2EBFA;\n",
              "    box-shadow: 0px 1px 2px rgba(60, 64, 67, 0.3), 0px 1px 3px 1px rgba(60, 64, 67, 0.15);\n",
              "    fill: #174EA6;\n",
              "  }\n",
              "\n",
              "  [theme=dark] .colab-df-quickchart {\n",
              "    background-color: #3B4455;\n",
              "    fill: #D2E3FC;\n",
              "  }\n",
              "\n",
              "  [theme=dark] .colab-df-quickchart:hover {\n",
              "    background-color: #434B5C;\n",
              "    box-shadow: 0px 1px 3px 1px rgba(0, 0, 0, 0.15);\n",
              "    filter: drop-shadow(0px 1px 2px rgba(0, 0, 0, 0.3));\n",
              "    fill: #FFFFFF;\n",
              "  }\n",
              "</style>\n",
              "\n",
              "    <script>\n",
              "      async function quickchart(key) {\n",
              "        const containerElement = document.querySelector('#' + key);\n",
              "        const charts = await google.colab.kernel.invokeFunction(\n",
              "            'suggestCharts', [key], {});\n",
              "      }\n",
              "    </script>\n",
              "\n",
              "      <script>\n",
              "\n",
              "function displayQuickchartButton(domScope) {\n",
              "  let quickchartButtonEl =\n",
              "    domScope.querySelector('#df-1b533256-9791-49ce-9691-1c9a728b71e3 button.colab-df-quickchart');\n",
              "  quickchartButtonEl.style.display =\n",
              "    google.colab.kernel.accessAllowed ? 'block' : 'none';\n",
              "}\n",
              "\n",
              "        displayQuickchartButton(document);\n",
              "      </script>\n",
              "      <style>\n",
              "    .colab-df-container {\n",
              "      display:flex;\n",
              "      flex-wrap:wrap;\n",
              "      gap: 12px;\n",
              "    }\n",
              "\n",
              "    .colab-df-convert {\n",
              "      background-color: #E8F0FE;\n",
              "      border: none;\n",
              "      border-radius: 50%;\n",
              "      cursor: pointer;\n",
              "      display: none;\n",
              "      fill: #1967D2;\n",
              "      height: 32px;\n",
              "      padding: 0 0 0 0;\n",
              "      width: 32px;\n",
              "    }\n",
              "\n",
              "    .colab-df-convert:hover {\n",
              "      background-color: #E2EBFA;\n",
              "      box-shadow: 0px 1px 2px rgba(60, 64, 67, 0.3), 0px 1px 3px 1px rgba(60, 64, 67, 0.15);\n",
              "      fill: #174EA6;\n",
              "    }\n",
              "\n",
              "    [theme=dark] .colab-df-convert {\n",
              "      background-color: #3B4455;\n",
              "      fill: #D2E3FC;\n",
              "    }\n",
              "\n",
              "    [theme=dark] .colab-df-convert:hover {\n",
              "      background-color: #434B5C;\n",
              "      box-shadow: 0px 1px 3px 1px rgba(0, 0, 0, 0.15);\n",
              "      filter: drop-shadow(0px 1px 2px rgba(0, 0, 0, 0.3));\n",
              "      fill: #FFFFFF;\n",
              "    }\n",
              "  </style>\n",
              "\n",
              "      <script>\n",
              "        const buttonEl =\n",
              "          document.querySelector('#df-c3af3426-2dc3-4ae2-9250-14735930870c button.colab-df-convert');\n",
              "        buttonEl.style.display =\n",
              "          google.colab.kernel.accessAllowed ? 'block' : 'none';\n",
              "\n",
              "        async function convertToInteractive(key) {\n",
              "          const element = document.querySelector('#df-c3af3426-2dc3-4ae2-9250-14735930870c');\n",
              "          const dataTable =\n",
              "            await google.colab.kernel.invokeFunction('convertToInteractive',\n",
              "                                                     [key], {});\n",
              "          if (!dataTable) return;\n",
              "\n",
              "          const docLinkHtml = 'Like what you see? Visit the ' +\n",
              "            '<a target=\"_blank\" href=https://colab.research.google.com/notebooks/data_table.ipynb>data table notebook</a>'\n",
              "            + ' to learn more about interactive tables.';\n",
              "          element.innerHTML = '';\n",
              "          dataTable['output_type'] = 'display_data';\n",
              "          await google.colab.output.renderOutput(dataTable, element);\n",
              "          const docLink = document.createElement('div');\n",
              "          docLink.innerHTML = docLinkHtml;\n",
              "          element.appendChild(docLink);\n",
              "        }\n",
              "      </script>\n",
              "    </div>\n",
              "  </div>\n"
            ]
          },
          "metadata": {},
          "execution_count": 69
        }
      ]
    },
    {
      "cell_type": "code",
      "source": [
        "# Calcula mediana\n",
        "mediana_intervalo = data['INTERVALO_VACINAS'].median()\n",
        "mediana_intervalo"
      ],
      "metadata": {
        "colab": {
          "base_uri": "https://localhost:8080/"
        },
        "id": "3s6idcBJy-RJ",
        "outputId": "13122783-da21-4d30-e016-dbb6c9740618"
      },
      "execution_count": null,
      "outputs": [
        {
          "output_type": "execute_result",
          "data": {
            "text/plain": [
              "40.0"
            ]
          },
          "metadata": {},
          "execution_count": 70
        }
      ]
    },
    {
      "cell_type": "code",
      "source": [
        "# Remove coluna\n",
        "data.drop(['INTERVALO_VACINAS'], axis=1, inplace=True)"
      ],
      "metadata": {
        "id": "N-OktibIy-UT"
      },
      "execution_count": null,
      "outputs": []
    },
    {
      "cell_type": "code",
      "source": [
        "# Armazena a quantidade de dias da primeira dose até a notificação\n",
        "data['DIAS_DOSE1'] = ''"
      ],
      "metadata": {
        "id": "pFyDfQZ1y-Xo"
      },
      "execution_count": null,
      "outputs": []
    },
    {
      "cell_type": "code",
      "source": [
        "# Calcula a quantidade de dias da primeira dose até a notificação\n",
        "def calc_dias_vac(row):\n",
        "  if row['VACINA_COV'] != 1:\n",
        "    return 0\n",
        "\n",
        "  if pd.isna(row['DOSE_1_COV']) and pd.isna(row['DOSE_2_COV']):\n",
        "    return np.nan\n",
        "\n",
        "  if pd.isna(row['DOSE_1_COV']):\n",
        "    dataDose2 = datetime.strptime(row['DOSE_2_COV'], '%d/%m/%Y')\n",
        "    data1 = dataDose2 - timedelta(days=mediana_intervalo)\n",
        "  else:\n",
        "    data1 = datetime.strptime(row['DOSE_1_COV'], '%d/%m/%Y')\n",
        "\n",
        "  data2 = datetime.strptime(row['DT_NOTIFIC'], '%d/%m/%Y')\n",
        "  return abs((data2 - data1).days)\n",
        "\n",
        "# Chama a função e atribui o resultado à coluna 'DIAS_DOSE1'\n",
        "data['DIAS_DOSE1'] = data.apply(calc_dias_vac, axis=1)"
      ],
      "metadata": {
        "id": "pq9gybRAy-an"
      },
      "execution_count": null,
      "outputs": []
    },
    {
      "cell_type": "code",
      "source": [
        "data[['DOSE_1_COV','DOSE_2_COV', 'DT_NOTIFIC', 'DIAS_DOSE1', 'DIAS_DOSE2']]"
      ],
      "metadata": {
        "colab": {
          "base_uri": "https://localhost:8080/"
        },
        "id": "k54PBFRky-dx",
        "outputId": "dc8f883e-5e52-42bf-bd04-d3ccc6eeb457"
      },
      "execution_count": null,
      "outputs": [
        {
          "output_type": "execute_result",
          "data": {
            "text/plain": [
              "       DOSE_1_COV  DOSE_2_COV  DT_NOTIFIC  DIAS_DOSE1  DIAS_DOSE2\n",
              "0      17/08/2021  05/11/2021  05/01/2022       141.0          61\n",
              "1      27/03/2021  19/04/2021  07/01/2022       286.0         263\n",
              "2      10/06/2021  30/09/2021  10/01/2022       214.0         102\n",
              "3             NaN         NaN  19/01/2022         0.0           0\n",
              "4      24/06/2021  16/09/2021  10/01/2022       200.0         116\n",
              "...           ...         ...         ...         ...         ...\n",
              "17427         NaN         NaN  29/06/2022         0.0           0\n",
              "17428  19/02/2021  16/03/2021  09/08/2022       536.0         511\n",
              "17429         NaN  16/03/2021  30/08/2022       572.0         532\n",
              "17430  23/03/2021  14/04/2021  10/11/2022       597.0         575\n",
              "17431  30/03/2021  27/04/2021  24/12/2022       634.0         606\n",
              "\n",
              "[17432 rows x 5 columns]"
            ],
            "text/html": [
              "\n",
              "\n",
              "  <div id=\"df-a91af1bf-c4a1-462b-a807-fe5818756f40\">\n",
              "    <div class=\"colab-df-container\">\n",
              "      <div>\n",
              "<style scoped>\n",
              "    .dataframe tbody tr th:only-of-type {\n",
              "        vertical-align: middle;\n",
              "    }\n",
              "\n",
              "    .dataframe tbody tr th {\n",
              "        vertical-align: top;\n",
              "    }\n",
              "\n",
              "    .dataframe thead th {\n",
              "        text-align: right;\n",
              "    }\n",
              "</style>\n",
              "<table border=\"1\" class=\"dataframe\">\n",
              "  <thead>\n",
              "    <tr style=\"text-align: right;\">\n",
              "      <th></th>\n",
              "      <th>DOSE_1_COV</th>\n",
              "      <th>DOSE_2_COV</th>\n",
              "      <th>DT_NOTIFIC</th>\n",
              "      <th>DIAS_DOSE1</th>\n",
              "      <th>DIAS_DOSE2</th>\n",
              "    </tr>\n",
              "  </thead>\n",
              "  <tbody>\n",
              "    <tr>\n",
              "      <th>0</th>\n",
              "      <td>17/08/2021</td>\n",
              "      <td>05/11/2021</td>\n",
              "      <td>05/01/2022</td>\n",
              "      <td>141.0</td>\n",
              "      <td>61</td>\n",
              "    </tr>\n",
              "    <tr>\n",
              "      <th>1</th>\n",
              "      <td>27/03/2021</td>\n",
              "      <td>19/04/2021</td>\n",
              "      <td>07/01/2022</td>\n",
              "      <td>286.0</td>\n",
              "      <td>263</td>\n",
              "    </tr>\n",
              "    <tr>\n",
              "      <th>2</th>\n",
              "      <td>10/06/2021</td>\n",
              "      <td>30/09/2021</td>\n",
              "      <td>10/01/2022</td>\n",
              "      <td>214.0</td>\n",
              "      <td>102</td>\n",
              "    </tr>\n",
              "    <tr>\n",
              "      <th>3</th>\n",
              "      <td>NaN</td>\n",
              "      <td>NaN</td>\n",
              "      <td>19/01/2022</td>\n",
              "      <td>0.0</td>\n",
              "      <td>0</td>\n",
              "    </tr>\n",
              "    <tr>\n",
              "      <th>4</th>\n",
              "      <td>24/06/2021</td>\n",
              "      <td>16/09/2021</td>\n",
              "      <td>10/01/2022</td>\n",
              "      <td>200.0</td>\n",
              "      <td>116</td>\n",
              "    </tr>\n",
              "    <tr>\n",
              "      <th>...</th>\n",
              "      <td>...</td>\n",
              "      <td>...</td>\n",
              "      <td>...</td>\n",
              "      <td>...</td>\n",
              "      <td>...</td>\n",
              "    </tr>\n",
              "    <tr>\n",
              "      <th>17427</th>\n",
              "      <td>NaN</td>\n",
              "      <td>NaN</td>\n",
              "      <td>29/06/2022</td>\n",
              "      <td>0.0</td>\n",
              "      <td>0</td>\n",
              "    </tr>\n",
              "    <tr>\n",
              "      <th>17428</th>\n",
              "      <td>19/02/2021</td>\n",
              "      <td>16/03/2021</td>\n",
              "      <td>09/08/2022</td>\n",
              "      <td>536.0</td>\n",
              "      <td>511</td>\n",
              "    </tr>\n",
              "    <tr>\n",
              "      <th>17429</th>\n",
              "      <td>NaN</td>\n",
              "      <td>16/03/2021</td>\n",
              "      <td>30/08/2022</td>\n",
              "      <td>572.0</td>\n",
              "      <td>532</td>\n",
              "    </tr>\n",
              "    <tr>\n",
              "      <th>17430</th>\n",
              "      <td>23/03/2021</td>\n",
              "      <td>14/04/2021</td>\n",
              "      <td>10/11/2022</td>\n",
              "      <td>597.0</td>\n",
              "      <td>575</td>\n",
              "    </tr>\n",
              "    <tr>\n",
              "      <th>17431</th>\n",
              "      <td>30/03/2021</td>\n",
              "      <td>27/04/2021</td>\n",
              "      <td>24/12/2022</td>\n",
              "      <td>634.0</td>\n",
              "      <td>606</td>\n",
              "    </tr>\n",
              "  </tbody>\n",
              "</table>\n",
              "<p>17432 rows × 5 columns</p>\n",
              "</div>\n",
              "      <button class=\"colab-df-convert\" onclick=\"convertToInteractive('df-a91af1bf-c4a1-462b-a807-fe5818756f40')\"\n",
              "              title=\"Convert this dataframe to an interactive table.\"\n",
              "              style=\"display:none;\">\n",
              "\n",
              "  <svg xmlns=\"http://www.w3.org/2000/svg\" height=\"24px\"viewBox=\"0 0 24 24\"\n",
              "       width=\"24px\">\n",
              "    <path d=\"M0 0h24v24H0V0z\" fill=\"none\"/>\n",
              "    <path d=\"M18.56 5.44l.94 2.06.94-2.06 2.06-.94-2.06-.94-.94-2.06-.94 2.06-2.06.94zm-11 1L8.5 8.5l.94-2.06 2.06-.94-2.06-.94L8.5 2.5l-.94 2.06-2.06.94zm10 10l.94 2.06.94-2.06 2.06-.94-2.06-.94-.94-2.06-.94 2.06-2.06.94z\"/><path d=\"M17.41 7.96l-1.37-1.37c-.4-.4-.92-.59-1.43-.59-.52 0-1.04.2-1.43.59L10.3 9.45l-7.72 7.72c-.78.78-.78 2.05 0 2.83L4 21.41c.39.39.9.59 1.41.59.51 0 1.02-.2 1.41-.59l7.78-7.78 2.81-2.81c.8-.78.8-2.07 0-2.86zM5.41 20L4 18.59l7.72-7.72 1.47 1.35L5.41 20z\"/>\n",
              "  </svg>\n",
              "      </button>\n",
              "\n",
              "\n",
              "\n",
              "    <div id=\"df-11e70e15-53f3-4500-bebf-d21be95e37ae\">\n",
              "      <button class=\"colab-df-quickchart\" onclick=\"quickchart('df-11e70e15-53f3-4500-bebf-d21be95e37ae')\"\n",
              "              title=\"Suggest charts.\"\n",
              "              style=\"display:none;\">\n",
              "\n",
              "<svg xmlns=\"http://www.w3.org/2000/svg\" height=\"24px\"viewBox=\"0 0 24 24\"\n",
              "     width=\"24px\">\n",
              "    <g>\n",
              "        <path d=\"M19 3H5c-1.1 0-2 .9-2 2v14c0 1.1.9 2 2 2h14c1.1 0 2-.9 2-2V5c0-1.1-.9-2-2-2zM9 17H7v-7h2v7zm4 0h-2V7h2v10zm4 0h-2v-4h2v4z\"/>\n",
              "    </g>\n",
              "</svg>\n",
              "      </button>\n",
              "    </div>\n",
              "\n",
              "<style>\n",
              "  .colab-df-quickchart {\n",
              "    background-color: #E8F0FE;\n",
              "    border: none;\n",
              "    border-radius: 50%;\n",
              "    cursor: pointer;\n",
              "    display: none;\n",
              "    fill: #1967D2;\n",
              "    height: 32px;\n",
              "    padding: 0 0 0 0;\n",
              "    width: 32px;\n",
              "  }\n",
              "\n",
              "  .colab-df-quickchart:hover {\n",
              "    background-color: #E2EBFA;\n",
              "    box-shadow: 0px 1px 2px rgba(60, 64, 67, 0.3), 0px 1px 3px 1px rgba(60, 64, 67, 0.15);\n",
              "    fill: #174EA6;\n",
              "  }\n",
              "\n",
              "  [theme=dark] .colab-df-quickchart {\n",
              "    background-color: #3B4455;\n",
              "    fill: #D2E3FC;\n",
              "  }\n",
              "\n",
              "  [theme=dark] .colab-df-quickchart:hover {\n",
              "    background-color: #434B5C;\n",
              "    box-shadow: 0px 1px 3px 1px rgba(0, 0, 0, 0.15);\n",
              "    filter: drop-shadow(0px 1px 2px rgba(0, 0, 0, 0.3));\n",
              "    fill: #FFFFFF;\n",
              "  }\n",
              "</style>\n",
              "\n",
              "    <script>\n",
              "      async function quickchart(key) {\n",
              "        const containerElement = document.querySelector('#' + key);\n",
              "        const charts = await google.colab.kernel.invokeFunction(\n",
              "            'suggestCharts', [key], {});\n",
              "      }\n",
              "    </script>\n",
              "\n",
              "      <script>\n",
              "\n",
              "function displayQuickchartButton(domScope) {\n",
              "  let quickchartButtonEl =\n",
              "    domScope.querySelector('#df-11e70e15-53f3-4500-bebf-d21be95e37ae button.colab-df-quickchart');\n",
              "  quickchartButtonEl.style.display =\n",
              "    google.colab.kernel.accessAllowed ? 'block' : 'none';\n",
              "}\n",
              "\n",
              "        displayQuickchartButton(document);\n",
              "      </script>\n",
              "      <style>\n",
              "    .colab-df-container {\n",
              "      display:flex;\n",
              "      flex-wrap:wrap;\n",
              "      gap: 12px;\n",
              "    }\n",
              "\n",
              "    .colab-df-convert {\n",
              "      background-color: #E8F0FE;\n",
              "      border: none;\n",
              "      border-radius: 50%;\n",
              "      cursor: pointer;\n",
              "      display: none;\n",
              "      fill: #1967D2;\n",
              "      height: 32px;\n",
              "      padding: 0 0 0 0;\n",
              "      width: 32px;\n",
              "    }\n",
              "\n",
              "    .colab-df-convert:hover {\n",
              "      background-color: #E2EBFA;\n",
              "      box-shadow: 0px 1px 2px rgba(60, 64, 67, 0.3), 0px 1px 3px 1px rgba(60, 64, 67, 0.15);\n",
              "      fill: #174EA6;\n",
              "    }\n",
              "\n",
              "    [theme=dark] .colab-df-convert {\n",
              "      background-color: #3B4455;\n",
              "      fill: #D2E3FC;\n",
              "    }\n",
              "\n",
              "    [theme=dark] .colab-df-convert:hover {\n",
              "      background-color: #434B5C;\n",
              "      box-shadow: 0px 1px 3px 1px rgba(0, 0, 0, 0.15);\n",
              "      filter: drop-shadow(0px 1px 2px rgba(0, 0, 0, 0.3));\n",
              "      fill: #FFFFFF;\n",
              "    }\n",
              "  </style>\n",
              "\n",
              "      <script>\n",
              "        const buttonEl =\n",
              "          document.querySelector('#df-a91af1bf-c4a1-462b-a807-fe5818756f40 button.colab-df-convert');\n",
              "        buttonEl.style.display =\n",
              "          google.colab.kernel.accessAllowed ? 'block' : 'none';\n",
              "\n",
              "        async function convertToInteractive(key) {\n",
              "          const element = document.querySelector('#df-a91af1bf-c4a1-462b-a807-fe5818756f40');\n",
              "          const dataTable =\n",
              "            await google.colab.kernel.invokeFunction('convertToInteractive',\n",
              "                                                     [key], {});\n",
              "          if (!dataTable) return;\n",
              "\n",
              "          const docLinkHtml = 'Like what you see? Visit the ' +\n",
              "            '<a target=\"_blank\" href=https://colab.research.google.com/notebooks/data_table.ipynb>data table notebook</a>'\n",
              "            + ' to learn more about interactive tables.';\n",
              "          element.innerHTML = '';\n",
              "          dataTable['output_type'] = 'display_data';\n",
              "          await google.colab.output.renderOutput(dataTable, element);\n",
              "          const docLink = document.createElement('div');\n",
              "          docLink.innerHTML = docLinkHtml;\n",
              "          element.appendChild(docLink);\n",
              "        }\n",
              "      </script>\n",
              "    </div>\n",
              "  </div>\n"
            ]
          },
          "metadata": {},
          "execution_count": 74
        }
      ]
    },
    {
      "cell_type": "code",
      "source": [
        "# Conta os valores NaN\n",
        "data['DIAS_DOSE1'].isnull().sum()"
      ],
      "metadata": {
        "colab": {
          "base_uri": "https://localhost:8080/"
        },
        "id": "SSEHXgCny-g7",
        "outputId": "b0e4b869-1637-42a6-f799-4b6145fe2cb3"
      },
      "execution_count": null,
      "outputs": [
        {
          "output_type": "execute_result",
          "data": {
            "text/plain": [
              "392"
            ]
          },
          "metadata": {},
          "execution_count": 75
        }
      ]
    },
    {
      "cell_type": "code",
      "source": [
        "# Calcula a mediana\n",
        "data['DIAS_DOSE1'].median()"
      ],
      "metadata": {
        "colab": {
          "base_uri": "https://localhost:8080/"
        },
        "id": "lJDVYE0Xy-j8",
        "outputId": "8438a664-1b66-48ee-a261-1c75f64e6ffb"
      },
      "execution_count": null,
      "outputs": [
        {
          "output_type": "execute_result",
          "data": {
            "text/plain": [
              "323.5"
            ]
          },
          "metadata": {},
          "execution_count": 76
        }
      ]
    },
    {
      "cell_type": "code",
      "source": [
        "# Preenche valores NaN com a moda mediana\n",
        "data['DIAS_DOSE1'].fillna(data['DIAS_DOSE1'].median(), inplace=True)\n",
        "\n",
        "# Converte o tipo de dados de float para int\n",
        "data['DIAS_DOSE1'] = data['DIAS_DOSE1'].astype(int)"
      ],
      "metadata": {
        "id": "dy-YVegay-nE"
      },
      "execution_count": null,
      "outputs": []
    },
    {
      "cell_type": "code",
      "source": [
        "data['DIAS_DOSE1'].info()"
      ],
      "metadata": {
        "colab": {
          "base_uri": "https://localhost:8080/"
        },
        "id": "Hn87Qpb_y-qY",
        "outputId": "405cc470-9ea4-4b5c-bb70-1164d7fe192d"
      },
      "execution_count": null,
      "outputs": [
        {
          "output_type": "stream",
          "name": "stdout",
          "text": [
            "<class 'pandas.core.series.Series'>\n",
            "RangeIndex: 17432 entries, 0 to 17431\n",
            "Series name: DIAS_DOSE1\n",
            "Non-Null Count  Dtype\n",
            "--------------  -----\n",
            "17432 non-null  int64\n",
            "dtypes: int64(1)\n",
            "memory usage: 136.3 KB\n"
          ]
        }
      ]
    },
    {
      "cell_type": "code",
      "source": [
        "data[['DOSE_1_COV','DOSE_2_COV', 'DT_NOTIFIC', 'DIAS_DOSE1','DIAS_DOSE2']]"
      ],
      "metadata": {
        "colab": {
          "base_uri": "https://localhost:8080/"
        },
        "id": "KWaQ4LGFy-tj",
        "outputId": "913eebb2-af2e-4a30-aa3c-a8f98c7d2f8a"
      },
      "execution_count": null,
      "outputs": [
        {
          "output_type": "execute_result",
          "data": {
            "text/plain": [
              "       DOSE_1_COV  DOSE_2_COV  DT_NOTIFIC  DIAS_DOSE1  DIAS_DOSE2\n",
              "0      17/08/2021  05/11/2021  05/01/2022         141          61\n",
              "1      27/03/2021  19/04/2021  07/01/2022         286         263\n",
              "2      10/06/2021  30/09/2021  10/01/2022         214         102\n",
              "3             NaN         NaN  19/01/2022           0           0\n",
              "4      24/06/2021  16/09/2021  10/01/2022         200         116\n",
              "...           ...         ...         ...         ...         ...\n",
              "17427         NaN         NaN  29/06/2022           0           0\n",
              "17428  19/02/2021  16/03/2021  09/08/2022         536         511\n",
              "17429         NaN  16/03/2021  30/08/2022         572         532\n",
              "17430  23/03/2021  14/04/2021  10/11/2022         597         575\n",
              "17431  30/03/2021  27/04/2021  24/12/2022         634         606\n",
              "\n",
              "[17432 rows x 5 columns]"
            ],
            "text/html": [
              "\n",
              "\n",
              "  <div id=\"df-ab57864f-efb3-47d7-887e-a1e33b0588f5\">\n",
              "    <div class=\"colab-df-container\">\n",
              "      <div>\n",
              "<style scoped>\n",
              "    .dataframe tbody tr th:only-of-type {\n",
              "        vertical-align: middle;\n",
              "    }\n",
              "\n",
              "    .dataframe tbody tr th {\n",
              "        vertical-align: top;\n",
              "    }\n",
              "\n",
              "    .dataframe thead th {\n",
              "        text-align: right;\n",
              "    }\n",
              "</style>\n",
              "<table border=\"1\" class=\"dataframe\">\n",
              "  <thead>\n",
              "    <tr style=\"text-align: right;\">\n",
              "      <th></th>\n",
              "      <th>DOSE_1_COV</th>\n",
              "      <th>DOSE_2_COV</th>\n",
              "      <th>DT_NOTIFIC</th>\n",
              "      <th>DIAS_DOSE1</th>\n",
              "      <th>DIAS_DOSE2</th>\n",
              "    </tr>\n",
              "  </thead>\n",
              "  <tbody>\n",
              "    <tr>\n",
              "      <th>0</th>\n",
              "      <td>17/08/2021</td>\n",
              "      <td>05/11/2021</td>\n",
              "      <td>05/01/2022</td>\n",
              "      <td>141</td>\n",
              "      <td>61</td>\n",
              "    </tr>\n",
              "    <tr>\n",
              "      <th>1</th>\n",
              "      <td>27/03/2021</td>\n",
              "      <td>19/04/2021</td>\n",
              "      <td>07/01/2022</td>\n",
              "      <td>286</td>\n",
              "      <td>263</td>\n",
              "    </tr>\n",
              "    <tr>\n",
              "      <th>2</th>\n",
              "      <td>10/06/2021</td>\n",
              "      <td>30/09/2021</td>\n",
              "      <td>10/01/2022</td>\n",
              "      <td>214</td>\n",
              "      <td>102</td>\n",
              "    </tr>\n",
              "    <tr>\n",
              "      <th>3</th>\n",
              "      <td>NaN</td>\n",
              "      <td>NaN</td>\n",
              "      <td>19/01/2022</td>\n",
              "      <td>0</td>\n",
              "      <td>0</td>\n",
              "    </tr>\n",
              "    <tr>\n",
              "      <th>4</th>\n",
              "      <td>24/06/2021</td>\n",
              "      <td>16/09/2021</td>\n",
              "      <td>10/01/2022</td>\n",
              "      <td>200</td>\n",
              "      <td>116</td>\n",
              "    </tr>\n",
              "    <tr>\n",
              "      <th>...</th>\n",
              "      <td>...</td>\n",
              "      <td>...</td>\n",
              "      <td>...</td>\n",
              "      <td>...</td>\n",
              "      <td>...</td>\n",
              "    </tr>\n",
              "    <tr>\n",
              "      <th>17427</th>\n",
              "      <td>NaN</td>\n",
              "      <td>NaN</td>\n",
              "      <td>29/06/2022</td>\n",
              "      <td>0</td>\n",
              "      <td>0</td>\n",
              "    </tr>\n",
              "    <tr>\n",
              "      <th>17428</th>\n",
              "      <td>19/02/2021</td>\n",
              "      <td>16/03/2021</td>\n",
              "      <td>09/08/2022</td>\n",
              "      <td>536</td>\n",
              "      <td>511</td>\n",
              "    </tr>\n",
              "    <tr>\n",
              "      <th>17429</th>\n",
              "      <td>NaN</td>\n",
              "      <td>16/03/2021</td>\n",
              "      <td>30/08/2022</td>\n",
              "      <td>572</td>\n",
              "      <td>532</td>\n",
              "    </tr>\n",
              "    <tr>\n",
              "      <th>17430</th>\n",
              "      <td>23/03/2021</td>\n",
              "      <td>14/04/2021</td>\n",
              "      <td>10/11/2022</td>\n",
              "      <td>597</td>\n",
              "      <td>575</td>\n",
              "    </tr>\n",
              "    <tr>\n",
              "      <th>17431</th>\n",
              "      <td>30/03/2021</td>\n",
              "      <td>27/04/2021</td>\n",
              "      <td>24/12/2022</td>\n",
              "      <td>634</td>\n",
              "      <td>606</td>\n",
              "    </tr>\n",
              "  </tbody>\n",
              "</table>\n",
              "<p>17432 rows × 5 columns</p>\n",
              "</div>\n",
              "      <button class=\"colab-df-convert\" onclick=\"convertToInteractive('df-ab57864f-efb3-47d7-887e-a1e33b0588f5')\"\n",
              "              title=\"Convert this dataframe to an interactive table.\"\n",
              "              style=\"display:none;\">\n",
              "\n",
              "  <svg xmlns=\"http://www.w3.org/2000/svg\" height=\"24px\"viewBox=\"0 0 24 24\"\n",
              "       width=\"24px\">\n",
              "    <path d=\"M0 0h24v24H0V0z\" fill=\"none\"/>\n",
              "    <path d=\"M18.56 5.44l.94 2.06.94-2.06 2.06-.94-2.06-.94-.94-2.06-.94 2.06-2.06.94zm-11 1L8.5 8.5l.94-2.06 2.06-.94-2.06-.94L8.5 2.5l-.94 2.06-2.06.94zm10 10l.94 2.06.94-2.06 2.06-.94-2.06-.94-.94-2.06-.94 2.06-2.06.94z\"/><path d=\"M17.41 7.96l-1.37-1.37c-.4-.4-.92-.59-1.43-.59-.52 0-1.04.2-1.43.59L10.3 9.45l-7.72 7.72c-.78.78-.78 2.05 0 2.83L4 21.41c.39.39.9.59 1.41.59.51 0 1.02-.2 1.41-.59l7.78-7.78 2.81-2.81c.8-.78.8-2.07 0-2.86zM5.41 20L4 18.59l7.72-7.72 1.47 1.35L5.41 20z\"/>\n",
              "  </svg>\n",
              "      </button>\n",
              "\n",
              "\n",
              "\n",
              "    <div id=\"df-ea8050a9-2f87-48e6-83fd-f4c54d80f9e4\">\n",
              "      <button class=\"colab-df-quickchart\" onclick=\"quickchart('df-ea8050a9-2f87-48e6-83fd-f4c54d80f9e4')\"\n",
              "              title=\"Suggest charts.\"\n",
              "              style=\"display:none;\">\n",
              "\n",
              "<svg xmlns=\"http://www.w3.org/2000/svg\" height=\"24px\"viewBox=\"0 0 24 24\"\n",
              "     width=\"24px\">\n",
              "    <g>\n",
              "        <path d=\"M19 3H5c-1.1 0-2 .9-2 2v14c0 1.1.9 2 2 2h14c1.1 0 2-.9 2-2V5c0-1.1-.9-2-2-2zM9 17H7v-7h2v7zm4 0h-2V7h2v10zm4 0h-2v-4h2v4z\"/>\n",
              "    </g>\n",
              "</svg>\n",
              "      </button>\n",
              "    </div>\n",
              "\n",
              "<style>\n",
              "  .colab-df-quickchart {\n",
              "    background-color: #E8F0FE;\n",
              "    border: none;\n",
              "    border-radius: 50%;\n",
              "    cursor: pointer;\n",
              "    display: none;\n",
              "    fill: #1967D2;\n",
              "    height: 32px;\n",
              "    padding: 0 0 0 0;\n",
              "    width: 32px;\n",
              "  }\n",
              "\n",
              "  .colab-df-quickchart:hover {\n",
              "    background-color: #E2EBFA;\n",
              "    box-shadow: 0px 1px 2px rgba(60, 64, 67, 0.3), 0px 1px 3px 1px rgba(60, 64, 67, 0.15);\n",
              "    fill: #174EA6;\n",
              "  }\n",
              "\n",
              "  [theme=dark] .colab-df-quickchart {\n",
              "    background-color: #3B4455;\n",
              "    fill: #D2E3FC;\n",
              "  }\n",
              "\n",
              "  [theme=dark] .colab-df-quickchart:hover {\n",
              "    background-color: #434B5C;\n",
              "    box-shadow: 0px 1px 3px 1px rgba(0, 0, 0, 0.15);\n",
              "    filter: drop-shadow(0px 1px 2px rgba(0, 0, 0, 0.3));\n",
              "    fill: #FFFFFF;\n",
              "  }\n",
              "</style>\n",
              "\n",
              "    <script>\n",
              "      async function quickchart(key) {\n",
              "        const containerElement = document.querySelector('#' + key);\n",
              "        const charts = await google.colab.kernel.invokeFunction(\n",
              "            'suggestCharts', [key], {});\n",
              "      }\n",
              "    </script>\n",
              "\n",
              "      <script>\n",
              "\n",
              "function displayQuickchartButton(domScope) {\n",
              "  let quickchartButtonEl =\n",
              "    domScope.querySelector('#df-ea8050a9-2f87-48e6-83fd-f4c54d80f9e4 button.colab-df-quickchart');\n",
              "  quickchartButtonEl.style.display =\n",
              "    google.colab.kernel.accessAllowed ? 'block' : 'none';\n",
              "}\n",
              "\n",
              "        displayQuickchartButton(document);\n",
              "      </script>\n",
              "      <style>\n",
              "    .colab-df-container {\n",
              "      display:flex;\n",
              "      flex-wrap:wrap;\n",
              "      gap: 12px;\n",
              "    }\n",
              "\n",
              "    .colab-df-convert {\n",
              "      background-color: #E8F0FE;\n",
              "      border: none;\n",
              "      border-radius: 50%;\n",
              "      cursor: pointer;\n",
              "      display: none;\n",
              "      fill: #1967D2;\n",
              "      height: 32px;\n",
              "      padding: 0 0 0 0;\n",
              "      width: 32px;\n",
              "    }\n",
              "\n",
              "    .colab-df-convert:hover {\n",
              "      background-color: #E2EBFA;\n",
              "      box-shadow: 0px 1px 2px rgba(60, 64, 67, 0.3), 0px 1px 3px 1px rgba(60, 64, 67, 0.15);\n",
              "      fill: #174EA6;\n",
              "    }\n",
              "\n",
              "    [theme=dark] .colab-df-convert {\n",
              "      background-color: #3B4455;\n",
              "      fill: #D2E3FC;\n",
              "    }\n",
              "\n",
              "    [theme=dark] .colab-df-convert:hover {\n",
              "      background-color: #434B5C;\n",
              "      box-shadow: 0px 1px 3px 1px rgba(0, 0, 0, 0.15);\n",
              "      filter: drop-shadow(0px 1px 2px rgba(0, 0, 0, 0.3));\n",
              "      fill: #FFFFFF;\n",
              "    }\n",
              "  </style>\n",
              "\n",
              "      <script>\n",
              "        const buttonEl =\n",
              "          document.querySelector('#df-ab57864f-efb3-47d7-887e-a1e33b0588f5 button.colab-df-convert');\n",
              "        buttonEl.style.display =\n",
              "          google.colab.kernel.accessAllowed ? 'block' : 'none';\n",
              "\n",
              "        async function convertToInteractive(key) {\n",
              "          const element = document.querySelector('#df-ab57864f-efb3-47d7-887e-a1e33b0588f5');\n",
              "          const dataTable =\n",
              "            await google.colab.kernel.invokeFunction('convertToInteractive',\n",
              "                                                     [key], {});\n",
              "          if (!dataTable) return;\n",
              "\n",
              "          const docLinkHtml = 'Like what you see? Visit the ' +\n",
              "            '<a target=\"_blank\" href=https://colab.research.google.com/notebooks/data_table.ipynb>data table notebook</a>'\n",
              "            + ' to learn more about interactive tables.';\n",
              "          element.innerHTML = '';\n",
              "          dataTable['output_type'] = 'display_data';\n",
              "          await google.colab.output.renderOutput(dataTable, element);\n",
              "          const docLink = document.createElement('div');\n",
              "          docLink.innerHTML = docLinkHtml;\n",
              "          element.appendChild(docLink);\n",
              "        }\n",
              "      </script>\n",
              "    </div>\n",
              "  </div>\n"
            ]
          },
          "metadata": {},
          "execution_count": 79
        }
      ]
    },
    {
      "cell_type": "code",
      "source": [
        "data.info()"
      ],
      "metadata": {
        "colab": {
          "base_uri": "https://localhost:8080/"
        },
        "id": "_kLht80Ly-wt",
        "outputId": "c11bfe26-0b34-4881-ff2f-30c89e686362"
      },
      "execution_count": null,
      "outputs": [
        {
          "output_type": "stream",
          "name": "stdout",
          "text": [
            "<class 'pandas.core.frame.DataFrame'>\n",
            "RangeIndex: 17432 entries, 0 to 17431\n",
            "Data columns (total 48 columns):\n",
            " #   Column          Non-Null Count  Dtype  \n",
            "---  ------          --------------  -----  \n",
            " 0   DT_NOTIFIC      17432 non-null  object \n",
            " 1   DT_SIN_PRI      17432 non-null  object \n",
            " 2   CS_SEXO         17432 non-null  object \n",
            " 3   NU_IDADE_N      17432 non-null  int64  \n",
            " 4   CS_GESTANT      17432 non-null  float64\n",
            " 5   NOSOCOMIAL      17432 non-null  float64\n",
            " 6   FEBRE           17432 non-null  float64\n",
            " 7   TOSSE           17432 non-null  float64\n",
            " 8   GARGANTA        17432 non-null  float64\n",
            " 9   DISPNEIA        17432 non-null  float64\n",
            " 10  DESC_RESP       17432 non-null  float64\n",
            " 11  SATURACAO       17432 non-null  float64\n",
            " 12  DIARREIA        17432 non-null  float64\n",
            " 13  VOMITO          17432 non-null  float64\n",
            " 14  OUTRO_SIN       17432 non-null  float64\n",
            " 15  FATOR_RISC      17432 non-null  int64  \n",
            " 16  CARDIOPATI      17432 non-null  float64\n",
            " 17  DIABETES        17432 non-null  float64\n",
            " 18  OUT_MORBI       17432 non-null  float64\n",
            " 19  ANTIVIRAL       17432 non-null  float64\n",
            " 20  HOSPITAL        17432 non-null  float64\n",
            " 21  DT_INTERNA      16946 non-null  object \n",
            " 22  UTI             17432 non-null  float64\n",
            " 23  SUPORT_VEN      17432 non-null  float64\n",
            " 24  RAIOX_RES       17432 non-null  float64\n",
            " 25  AMOSTRA         17432 non-null  float64\n",
            " 26  TP_AMOSTRA      17432 non-null  float64\n",
            " 27  PCR_RESUL       17432 non-null  float64\n",
            " 28  DT_PCR          11096 non-null  object \n",
            " 29  POS_PCROUT      17432 non-null  float64\n",
            " 30  CRITERIO        17432 non-null  float64\n",
            " 31  EVOLUCAO        17432 non-null  int64  \n",
            " 32  DT_EVOLUCA      17295 non-null  object \n",
            " 33  DOR_ABD         17432 non-null  float64\n",
            " 34  FADIGA          17432 non-null  float64\n",
            " 35  PERD_OLFT       17432 non-null  float64\n",
            " 36  PERD_PALA       17432 non-null  float64\n",
            " 37  TOMO_RES        17432 non-null  float64\n",
            " 38  RES_AN          17432 non-null  float64\n",
            " 39  VACINA_COV      17432 non-null  float64\n",
            " 40  DOSE_1_COV      12831 non-null  object \n",
            " 41  DOSE_2_COV      12168 non-null  object \n",
            " 42  QTD_DIAS        17432 non-null  int64  \n",
            " 43  DIAS_INTERNA    17432 non-null  int64  \n",
            " 44  SINT_ATE_NOTIF  17432 non-null  int64  \n",
            " 45  PCR_EVOLUCAO    17432 non-null  int64  \n",
            " 46  DIAS_DOSE2      17432 non-null  int64  \n",
            " 47  DIAS_DOSE1      17432 non-null  int64  \n",
            "dtypes: float64(31), int64(9), object(8)\n",
            "memory usage: 6.4+ MB\n"
          ]
        }
      ]
    },
    {
      "cell_type": "code",
      "source": [
        "# Remove os atributos com datas\n",
        "data.drop(['DT_NOTIFIC', 'DT_SIN_PRI', 'DT_INTERNA', 'DT_PCR', 'DT_EVOLUCA', 'DOSE_1_COV', 'DOSE_2_COV'], axis = 1, inplace = True)\n",
        "data.shape"
      ],
      "metadata": {
        "colab": {
          "base_uri": "https://localhost:8080/"
        },
        "id": "Pkw5erOY3--9",
        "outputId": "0b1c1ba9-92f6-4a1f-d471-e826c6642f7a"
      },
      "execution_count": null,
      "outputs": [
        {
          "output_type": "execute_result",
          "data": {
            "text/plain": [
              "(17432, 41)"
            ]
          },
          "metadata": {},
          "execution_count": 81
        }
      ]
    },
    {
      "cell_type": "markdown",
      "source": [
        "# Conversão do tipo de dado"
      ],
      "metadata": {
        "id": "lR8RJSAt4DN9"
      }
    },
    {
      "cell_type": "markdown",
      "source": [
        "Alterando o atributo \"CS_SEXO\" de object para int"
      ],
      "metadata": {
        "id": "soLf-re3oSx_"
      }
    },
    {
      "cell_type": "code",
      "source": [
        "# Teste Objects\n",
        "for i, row in data.iterrows():\n",
        "  if row['CS_SEXO'] == 'M':\n",
        "    data.at[i, 'CS_SEXO'] = 1\n",
        "  if row['CS_SEXO'] == 'F':\n",
        "    data.at[i, 'CS_SEXO'] = 2\n",
        "\n",
        "# Convertendo object -> int\n",
        "data['CS_SEXO'] = data['CS_SEXO'].astype(int)\n",
        "\n",
        "data['CS_SEXO'].info()"
      ],
      "metadata": {
        "colab": {
          "base_uri": "https://localhost:8080/"
        },
        "id": "uqVdxhbr4IBG",
        "outputId": "cc3a7b33-6e2e-467a-8a0b-79fefa829279"
      },
      "execution_count": null,
      "outputs": [
        {
          "output_type": "stream",
          "name": "stdout",
          "text": [
            "<class 'pandas.core.series.Series'>\n",
            "RangeIndex: 17432 entries, 0 to 17431\n",
            "Series name: CS_SEXO\n",
            "Non-Null Count  Dtype\n",
            "--------------  -----\n",
            "17432 non-null  int64\n",
            "dtypes: int64(1)\n",
            "memory usage: 136.3 KB\n"
          ]
        }
      ]
    },
    {
      "cell_type": "code",
      "source": [
        "# Convertendo float -> int\n",
        "for column in data:\n",
        "  if data[column].dtypes == 'float64':\n",
        "    data[column] = data[column].astype(int)\n",
        "\n",
        "data.info()"
      ],
      "metadata": {
        "colab": {
          "base_uri": "https://localhost:8080/"
        },
        "id": "aAvkFrkJ4Nju",
        "outputId": "0b53adfa-5bab-47d1-81ea-6569309d7114"
      },
      "execution_count": null,
      "outputs": [
        {
          "output_type": "stream",
          "name": "stdout",
          "text": [
            "<class 'pandas.core.frame.DataFrame'>\n",
            "RangeIndex: 17432 entries, 0 to 17431\n",
            "Data columns (total 41 columns):\n",
            " #   Column          Non-Null Count  Dtype\n",
            "---  ------          --------------  -----\n",
            " 0   CS_SEXO         17432 non-null  int64\n",
            " 1   NU_IDADE_N      17432 non-null  int64\n",
            " 2   CS_GESTANT      17432 non-null  int64\n",
            " 3   NOSOCOMIAL      17432 non-null  int64\n",
            " 4   FEBRE           17432 non-null  int64\n",
            " 5   TOSSE           17432 non-null  int64\n",
            " 6   GARGANTA        17432 non-null  int64\n",
            " 7   DISPNEIA        17432 non-null  int64\n",
            " 8   DESC_RESP       17432 non-null  int64\n",
            " 9   SATURACAO       17432 non-null  int64\n",
            " 10  DIARREIA        17432 non-null  int64\n",
            " 11  VOMITO          17432 non-null  int64\n",
            " 12  OUTRO_SIN       17432 non-null  int64\n",
            " 13  FATOR_RISC      17432 non-null  int64\n",
            " 14  CARDIOPATI      17432 non-null  int64\n",
            " 15  DIABETES        17432 non-null  int64\n",
            " 16  OUT_MORBI       17432 non-null  int64\n",
            " 17  ANTIVIRAL       17432 non-null  int64\n",
            " 18  HOSPITAL        17432 non-null  int64\n",
            " 19  UTI             17432 non-null  int64\n",
            " 20  SUPORT_VEN      17432 non-null  int64\n",
            " 21  RAIOX_RES       17432 non-null  int64\n",
            " 22  AMOSTRA         17432 non-null  int64\n",
            " 23  TP_AMOSTRA      17432 non-null  int64\n",
            " 24  PCR_RESUL       17432 non-null  int64\n",
            " 25  POS_PCROUT      17432 non-null  int64\n",
            " 26  CRITERIO        17432 non-null  int64\n",
            " 27  EVOLUCAO        17432 non-null  int64\n",
            " 28  DOR_ABD         17432 non-null  int64\n",
            " 29  FADIGA          17432 non-null  int64\n",
            " 30  PERD_OLFT       17432 non-null  int64\n",
            " 31  PERD_PALA       17432 non-null  int64\n",
            " 32  TOMO_RES        17432 non-null  int64\n",
            " 33  RES_AN          17432 non-null  int64\n",
            " 34  VACINA_COV      17432 non-null  int64\n",
            " 35  QTD_DIAS        17432 non-null  int64\n",
            " 36  DIAS_INTERNA    17432 non-null  int64\n",
            " 37  SINT_ATE_NOTIF  17432 non-null  int64\n",
            " 38  PCR_EVOLUCAO    17432 non-null  int64\n",
            " 39  DIAS_DOSE2      17432 non-null  int64\n",
            " 40  DIAS_DOSE1      17432 non-null  int64\n",
            "dtypes: int64(41)\n",
            "memory usage: 5.5 MB\n"
          ]
        }
      ]
    },
    {
      "cell_type": "code",
      "source": [
        "data.shape"
      ],
      "metadata": {
        "colab": {
          "base_uri": "https://localhost:8080/"
        },
        "id": "_mMG1son4Nm4",
        "outputId": "a27599bc-fd8e-415f-851b-5ffff9613877"
      },
      "execution_count": null,
      "outputs": [
        {
          "output_type": "execute_result",
          "data": {
            "text/plain": [
              "(17432, 41)"
            ]
          },
          "metadata": {},
          "execution_count": 84
        }
      ]
    },
    {
      "cell_type": "code",
      "source": [
        "data.head()"
      ],
      "metadata": {
        "colab": {
          "base_uri": "https://localhost:8080/"
        },
        "id": "edVb_bUv4NqC",
        "outputId": "5902a982-32ee-40b4-aeba-a0393dbed390"
      },
      "execution_count": null,
      "outputs": [
        {
          "output_type": "execute_result",
          "data": {
            "text/plain": [
              "   CS_SEXO  NU_IDADE_N  CS_GESTANT  NOSOCOMIAL  FEBRE  TOSSE  GARGANTA  \\\n",
              "0        2          28           5           2      1      1         2   \n",
              "1        1          72           6           2      6      6         1   \n",
              "2        2          50           5           2      2      1         1   \n",
              "3        1          59           6           2      1      1         2   \n",
              "4        2          43           5           2      2      1         1   \n",
              "\n",
              "   DISPNEIA  DESC_RESP  SATURACAO  ...  PERD_PALA  TOMO_RES  RES_AN  \\\n",
              "0         2          2          2  ...          2         6       4   \n",
              "1         6          6          1  ...          1         6       1   \n",
              "2         1          1          2  ...          1         6       5   \n",
              "3         1          1          1  ...          2         6       6   \n",
              "4         2          2          2  ...          2         1       4   \n",
              "\n",
              "   VACINA_COV  QTD_DIAS  DIAS_INTERNA  SINT_ATE_NOTIF  PCR_EVOLUCAO  \\\n",
              "0           1         1             1               2             3   \n",
              "1           1        18            18               2             0   \n",
              "2           1         3             2               3             0   \n",
              "3           2        19            19              13            17   \n",
              "4           1         3             3               0             0   \n",
              "\n",
              "   DIAS_DOSE2  DIAS_DOSE1  \n",
              "0          61         141  \n",
              "1         263         286  \n",
              "2         102         214  \n",
              "3           0           0  \n",
              "4         116         200  \n",
              "\n",
              "[5 rows x 41 columns]"
            ],
            "text/html": [
              "\n",
              "\n",
              "  <div id=\"df-23107bf4-7a3f-4a2b-8543-b867f824a6af\">\n",
              "    <div class=\"colab-df-container\">\n",
              "      <div>\n",
              "<style scoped>\n",
              "    .dataframe tbody tr th:only-of-type {\n",
              "        vertical-align: middle;\n",
              "    }\n",
              "\n",
              "    .dataframe tbody tr th {\n",
              "        vertical-align: top;\n",
              "    }\n",
              "\n",
              "    .dataframe thead th {\n",
              "        text-align: right;\n",
              "    }\n",
              "</style>\n",
              "<table border=\"1\" class=\"dataframe\">\n",
              "  <thead>\n",
              "    <tr style=\"text-align: right;\">\n",
              "      <th></th>\n",
              "      <th>CS_SEXO</th>\n",
              "      <th>NU_IDADE_N</th>\n",
              "      <th>CS_GESTANT</th>\n",
              "      <th>NOSOCOMIAL</th>\n",
              "      <th>FEBRE</th>\n",
              "      <th>TOSSE</th>\n",
              "      <th>GARGANTA</th>\n",
              "      <th>DISPNEIA</th>\n",
              "      <th>DESC_RESP</th>\n",
              "      <th>SATURACAO</th>\n",
              "      <th>...</th>\n",
              "      <th>PERD_PALA</th>\n",
              "      <th>TOMO_RES</th>\n",
              "      <th>RES_AN</th>\n",
              "      <th>VACINA_COV</th>\n",
              "      <th>QTD_DIAS</th>\n",
              "      <th>DIAS_INTERNA</th>\n",
              "      <th>SINT_ATE_NOTIF</th>\n",
              "      <th>PCR_EVOLUCAO</th>\n",
              "      <th>DIAS_DOSE2</th>\n",
              "      <th>DIAS_DOSE1</th>\n",
              "    </tr>\n",
              "  </thead>\n",
              "  <tbody>\n",
              "    <tr>\n",
              "      <th>0</th>\n",
              "      <td>2</td>\n",
              "      <td>28</td>\n",
              "      <td>5</td>\n",
              "      <td>2</td>\n",
              "      <td>1</td>\n",
              "      <td>1</td>\n",
              "      <td>2</td>\n",
              "      <td>2</td>\n",
              "      <td>2</td>\n",
              "      <td>2</td>\n",
              "      <td>...</td>\n",
              "      <td>2</td>\n",
              "      <td>6</td>\n",
              "      <td>4</td>\n",
              "      <td>1</td>\n",
              "      <td>1</td>\n",
              "      <td>1</td>\n",
              "      <td>2</td>\n",
              "      <td>3</td>\n",
              "      <td>61</td>\n",
              "      <td>141</td>\n",
              "    </tr>\n",
              "    <tr>\n",
              "      <th>1</th>\n",
              "      <td>1</td>\n",
              "      <td>72</td>\n",
              "      <td>6</td>\n",
              "      <td>2</td>\n",
              "      <td>6</td>\n",
              "      <td>6</td>\n",
              "      <td>1</td>\n",
              "      <td>6</td>\n",
              "      <td>6</td>\n",
              "      <td>1</td>\n",
              "      <td>...</td>\n",
              "      <td>1</td>\n",
              "      <td>6</td>\n",
              "      <td>1</td>\n",
              "      <td>1</td>\n",
              "      <td>18</td>\n",
              "      <td>18</td>\n",
              "      <td>2</td>\n",
              "      <td>0</td>\n",
              "      <td>263</td>\n",
              "      <td>286</td>\n",
              "    </tr>\n",
              "    <tr>\n",
              "      <th>2</th>\n",
              "      <td>2</td>\n",
              "      <td>50</td>\n",
              "      <td>5</td>\n",
              "      <td>2</td>\n",
              "      <td>2</td>\n",
              "      <td>1</td>\n",
              "      <td>1</td>\n",
              "      <td>1</td>\n",
              "      <td>1</td>\n",
              "      <td>2</td>\n",
              "      <td>...</td>\n",
              "      <td>1</td>\n",
              "      <td>6</td>\n",
              "      <td>5</td>\n",
              "      <td>1</td>\n",
              "      <td>3</td>\n",
              "      <td>2</td>\n",
              "      <td>3</td>\n",
              "      <td>0</td>\n",
              "      <td>102</td>\n",
              "      <td>214</td>\n",
              "    </tr>\n",
              "    <tr>\n",
              "      <th>3</th>\n",
              "      <td>1</td>\n",
              "      <td>59</td>\n",
              "      <td>6</td>\n",
              "      <td>2</td>\n",
              "      <td>1</td>\n",
              "      <td>1</td>\n",
              "      <td>2</td>\n",
              "      <td>1</td>\n",
              "      <td>1</td>\n",
              "      <td>1</td>\n",
              "      <td>...</td>\n",
              "      <td>2</td>\n",
              "      <td>6</td>\n",
              "      <td>6</td>\n",
              "      <td>2</td>\n",
              "      <td>19</td>\n",
              "      <td>19</td>\n",
              "      <td>13</td>\n",
              "      <td>17</td>\n",
              "      <td>0</td>\n",
              "      <td>0</td>\n",
              "    </tr>\n",
              "    <tr>\n",
              "      <th>4</th>\n",
              "      <td>2</td>\n",
              "      <td>43</td>\n",
              "      <td>5</td>\n",
              "      <td>2</td>\n",
              "      <td>2</td>\n",
              "      <td>1</td>\n",
              "      <td>1</td>\n",
              "      <td>2</td>\n",
              "      <td>2</td>\n",
              "      <td>2</td>\n",
              "      <td>...</td>\n",
              "      <td>2</td>\n",
              "      <td>1</td>\n",
              "      <td>4</td>\n",
              "      <td>1</td>\n",
              "      <td>3</td>\n",
              "      <td>3</td>\n",
              "      <td>0</td>\n",
              "      <td>0</td>\n",
              "      <td>116</td>\n",
              "      <td>200</td>\n",
              "    </tr>\n",
              "  </tbody>\n",
              "</table>\n",
              "<p>5 rows × 41 columns</p>\n",
              "</div>\n",
              "      <button class=\"colab-df-convert\" onclick=\"convertToInteractive('df-23107bf4-7a3f-4a2b-8543-b867f824a6af')\"\n",
              "              title=\"Convert this dataframe to an interactive table.\"\n",
              "              style=\"display:none;\">\n",
              "\n",
              "  <svg xmlns=\"http://www.w3.org/2000/svg\" height=\"24px\"viewBox=\"0 0 24 24\"\n",
              "       width=\"24px\">\n",
              "    <path d=\"M0 0h24v24H0V0z\" fill=\"none\"/>\n",
              "    <path d=\"M18.56 5.44l.94 2.06.94-2.06 2.06-.94-2.06-.94-.94-2.06-.94 2.06-2.06.94zm-11 1L8.5 8.5l.94-2.06 2.06-.94-2.06-.94L8.5 2.5l-.94 2.06-2.06.94zm10 10l.94 2.06.94-2.06 2.06-.94-2.06-.94-.94-2.06-.94 2.06-2.06.94z\"/><path d=\"M17.41 7.96l-1.37-1.37c-.4-.4-.92-.59-1.43-.59-.52 0-1.04.2-1.43.59L10.3 9.45l-7.72 7.72c-.78.78-.78 2.05 0 2.83L4 21.41c.39.39.9.59 1.41.59.51 0 1.02-.2 1.41-.59l7.78-7.78 2.81-2.81c.8-.78.8-2.07 0-2.86zM5.41 20L4 18.59l7.72-7.72 1.47 1.35L5.41 20z\"/>\n",
              "  </svg>\n",
              "      </button>\n",
              "\n",
              "\n",
              "\n",
              "    <div id=\"df-eb56bcf7-fb2f-4b47-8361-f4552cab194b\">\n",
              "      <button class=\"colab-df-quickchart\" onclick=\"quickchart('df-eb56bcf7-fb2f-4b47-8361-f4552cab194b')\"\n",
              "              title=\"Suggest charts.\"\n",
              "              style=\"display:none;\">\n",
              "\n",
              "<svg xmlns=\"http://www.w3.org/2000/svg\" height=\"24px\"viewBox=\"0 0 24 24\"\n",
              "     width=\"24px\">\n",
              "    <g>\n",
              "        <path d=\"M19 3H5c-1.1 0-2 .9-2 2v14c0 1.1.9 2 2 2h14c1.1 0 2-.9 2-2V5c0-1.1-.9-2-2-2zM9 17H7v-7h2v7zm4 0h-2V7h2v10zm4 0h-2v-4h2v4z\"/>\n",
              "    </g>\n",
              "</svg>\n",
              "      </button>\n",
              "    </div>\n",
              "\n",
              "<style>\n",
              "  .colab-df-quickchart {\n",
              "    background-color: #E8F0FE;\n",
              "    border: none;\n",
              "    border-radius: 50%;\n",
              "    cursor: pointer;\n",
              "    display: none;\n",
              "    fill: #1967D2;\n",
              "    height: 32px;\n",
              "    padding: 0 0 0 0;\n",
              "    width: 32px;\n",
              "  }\n",
              "\n",
              "  .colab-df-quickchart:hover {\n",
              "    background-color: #E2EBFA;\n",
              "    box-shadow: 0px 1px 2px rgba(60, 64, 67, 0.3), 0px 1px 3px 1px rgba(60, 64, 67, 0.15);\n",
              "    fill: #174EA6;\n",
              "  }\n",
              "\n",
              "  [theme=dark] .colab-df-quickchart {\n",
              "    background-color: #3B4455;\n",
              "    fill: #D2E3FC;\n",
              "  }\n",
              "\n",
              "  [theme=dark] .colab-df-quickchart:hover {\n",
              "    background-color: #434B5C;\n",
              "    box-shadow: 0px 1px 3px 1px rgba(0, 0, 0, 0.15);\n",
              "    filter: drop-shadow(0px 1px 2px rgba(0, 0, 0, 0.3));\n",
              "    fill: #FFFFFF;\n",
              "  }\n",
              "</style>\n",
              "\n",
              "    <script>\n",
              "      async function quickchart(key) {\n",
              "        const containerElement = document.querySelector('#' + key);\n",
              "        const charts = await google.colab.kernel.invokeFunction(\n",
              "            'suggestCharts', [key], {});\n",
              "      }\n",
              "    </script>\n",
              "\n",
              "      <script>\n",
              "\n",
              "function displayQuickchartButton(domScope) {\n",
              "  let quickchartButtonEl =\n",
              "    domScope.querySelector('#df-eb56bcf7-fb2f-4b47-8361-f4552cab194b button.colab-df-quickchart');\n",
              "  quickchartButtonEl.style.display =\n",
              "    google.colab.kernel.accessAllowed ? 'block' : 'none';\n",
              "}\n",
              "\n",
              "        displayQuickchartButton(document);\n",
              "      </script>\n",
              "      <style>\n",
              "    .colab-df-container {\n",
              "      display:flex;\n",
              "      flex-wrap:wrap;\n",
              "      gap: 12px;\n",
              "    }\n",
              "\n",
              "    .colab-df-convert {\n",
              "      background-color: #E8F0FE;\n",
              "      border: none;\n",
              "      border-radius: 50%;\n",
              "      cursor: pointer;\n",
              "      display: none;\n",
              "      fill: #1967D2;\n",
              "      height: 32px;\n",
              "      padding: 0 0 0 0;\n",
              "      width: 32px;\n",
              "    }\n",
              "\n",
              "    .colab-df-convert:hover {\n",
              "      background-color: #E2EBFA;\n",
              "      box-shadow: 0px 1px 2px rgba(60, 64, 67, 0.3), 0px 1px 3px 1px rgba(60, 64, 67, 0.15);\n",
              "      fill: #174EA6;\n",
              "    }\n",
              "\n",
              "    [theme=dark] .colab-df-convert {\n",
              "      background-color: #3B4455;\n",
              "      fill: #D2E3FC;\n",
              "    }\n",
              "\n",
              "    [theme=dark] .colab-df-convert:hover {\n",
              "      background-color: #434B5C;\n",
              "      box-shadow: 0px 1px 3px 1px rgba(0, 0, 0, 0.15);\n",
              "      filter: drop-shadow(0px 1px 2px rgba(0, 0, 0, 0.3));\n",
              "      fill: #FFFFFF;\n",
              "    }\n",
              "  </style>\n",
              "\n",
              "      <script>\n",
              "        const buttonEl =\n",
              "          document.querySelector('#df-23107bf4-7a3f-4a2b-8543-b867f824a6af button.colab-df-convert');\n",
              "        buttonEl.style.display =\n",
              "          google.colab.kernel.accessAllowed ? 'block' : 'none';\n",
              "\n",
              "        async function convertToInteractive(key) {\n",
              "          const element = document.querySelector('#df-23107bf4-7a3f-4a2b-8543-b867f824a6af');\n",
              "          const dataTable =\n",
              "            await google.colab.kernel.invokeFunction('convertToInteractive',\n",
              "                                                     [key], {});\n",
              "          if (!dataTable) return;\n",
              "\n",
              "          const docLinkHtml = 'Like what you see? Visit the ' +\n",
              "            '<a target=\"_blank\" href=https://colab.research.google.com/notebooks/data_table.ipynb>data table notebook</a>'\n",
              "            + ' to learn more about interactive tables.';\n",
              "          element.innerHTML = '';\n",
              "          dataTable['output_type'] = 'display_data';\n",
              "          await google.colab.output.renderOutput(dataTable, element);\n",
              "          const docLink = document.createElement('div');\n",
              "          docLink.innerHTML = docLinkHtml;\n",
              "          element.appendChild(docLink);\n",
              "        }\n",
              "      </script>\n",
              "    </div>\n",
              "  </div>\n"
            ]
          },
          "metadata": {},
          "execution_count": 85
        }
      ]
    },
    {
      "cell_type": "markdown",
      "source": [
        "# Análise do valor alvo"
      ],
      "metadata": {
        "id": "LLIGQIS94qMe"
      }
    },
    {
      "cell_type": "code",
      "source": [
        "target_count = data['EVOLUCAO'].value_counts()\n",
        "recuperado_count = target_count[0]\n",
        "obito_count = target_count[1]\n",
        "proportion = round(recuperado_count / obito_count, 2)\n",
        "\n",
        "# Plotar gráfico de barras\n",
        "plt.bar(['RECUPERADO', 'ÓBITO'], [recuperado_count, obito_count])\n",
        "plt.title('Distribuição das evoluções dos casos de Covid-19')\n",
        "plt.xlabel('Evolução')\n",
        "plt.ylabel('Casos')\n",
        "\n",
        "# Adicionar rótulo com a contagem de casos em cada barra\n",
        "for i, count in enumerate([recuperado_count, obito_count]):\n",
        "    plt.text(i, count + 100, str(count), ha='center')\n",
        "\n",
        "# Adicionar rótulo com a proporção\n",
        "plt.text(0.5, max(recuperado_count, obito_count) + 200, f'Proporção de {proportion} para 1', ha='center')\n",
        "\n",
        "plt.show()"
      ],
      "metadata": {
        "colab": {
          "base_uri": "https://localhost:8080/"
        },
        "id": "nQgRdWf84zHm",
        "outputId": "53d986d2-4e4b-4a81-9102-b8edbf4883a7"
      },
      "execution_count": null,
      "outputs": [
        {
          "output_type": "display_data",
          "data": {
            "text/plain": [
              "<Figure size 640x480 with 1 Axes>"
            ],
            "image/png": "[encoded data removed]"
          },
          "metadata": {}
        }
      ]
    },
    {
      "cell_type": "markdown",
      "source": [
        "# Gerando Dataset"
      ],
      "metadata": {
        "id": "vpGh7SwM5bKu"
      }
    },
    {
      "cell_type": "code",
      "source": [
        "# Criando um novo dataset\n",
        "#data.to_csv('covid19_PR_2022_SMOTE100_S_Norm.csv', index=False)"
      ],
      "metadata": {
        "id": "DM8RDQ4N5fTM"
      },
      "execution_count": null,
      "outputs": []
    },
    {
      "cell_type": "markdown",
      "source": [
        "# Dividindo Dataset"
      ],
      "metadata": {
        "id": "UB5jC4Oz57FL"
      }
    },
    {
      "cell_type": "code",
      "source": [
        "atributos = data.drop(columns = 'EVOLUCAO')\n",
        "rotulos = data['EVOLUCAO']"
      ],
      "metadata": {
        "id": "Wx1mlycR6A_r"
      },
      "execution_count": null,
      "outputs": []
    },
    {
      "cell_type": "markdown",
      "source": [
        "# SMOTE 100%"
      ],
      "metadata": {
        "id": "oV4ByYht00dr"
      }
    },
    {
      "cell_type": "code",
      "source": [
        "np.bincount(rotulos)"
      ],
      "metadata": {
        "colab": {
          "base_uri": "https://localhost:8080/"
        },
        "outputId": "16814a8b-4488-40ed-99bc-5baee93989d0",
        "id": "gWUnVQgz00dx"
      },
      "execution_count": null,
      "outputs": [
        {
          "output_type": "execute_result",
          "data": {
            "text/plain": [
              "array([13521,  3911])"
            ]
          },
          "metadata": {},
          "execution_count": 89
        }
      ]
    },
    {
      "cell_type": "code",
      "source": [
        "# instância\n",
        "smt = SMOTE()"
      ],
      "metadata": {
        "id": "IXhDJCbs00dx"
      },
      "execution_count": null,
      "outputs": []
    },
    {
      "cell_type": "code",
      "source": [
        "# Balanceia os dados\n",
        "atributos, rotulos = smt.fit_resample(atributos, rotulos)"
      ],
      "metadata": {
        "id": "sLvMYTNO00dx"
      },
      "execution_count": null,
      "outputs": []
    },
    {
      "cell_type": "code",
      "source": [
        "aux = sns.countplot(x=rotulos)"
      ],
      "metadata": {
        "colab": {
          "base_uri": "https://localhost:8080/",
          "height": 450
        },
        "id": "c4VTaDvLeRY3",
        "outputId": "4afa9c02-9af0-4e71-b7a2-6339b2f926b9"
      },
      "execution_count": null,
      "outputs": [
        {
          "output_type": "display_data",
          "data": {
            "text/plain": [
              "<Figure size 640x480 with 1 Axes>"
            ],
            "image/png": "[encoded data removed]"
          },
          "metadata": {}
        }
      ]
    },
    {
      "cell_type": "code",
      "source": [
        "np.bincount(rotulos)"
      ],
      "metadata": {
        "colab": {
          "base_uri": "https://localhost:8080/"
        },
        "id": "u0sTPVmDeE6U",
        "outputId": "060886e2-0d87-42bd-9621-50a26368d83c"
      },
      "execution_count": null,
      "outputs": [
        {
          "output_type": "execute_result",
          "data": {
            "text/plain": [
              "array([13521, 13521])"
            ]
          },
          "metadata": {},
          "execution_count": 93
        }
      ]
    },
    {
      "cell_type": "code",
      "source": [
        "# Dividindo o dataset em conjunto de treino e teste\n",
        "train, test, train_labels, test_labels = train_test_split(\n",
        "    atributos, rotulos,test_size = 0.33, random_state = 42, stratify=rotulos)"
      ],
      "metadata": {
        "id": "R7dHDowleX0Z"
      },
      "execution_count": null,
      "outputs": []
    },
    {
      "cell_type": "markdown",
      "source": [
        "# Classificação"
      ],
      "metadata": {
        "id": "VcK2oS1p7rw3"
      }
    },
    {
      "cell_type": "code",
      "source": [
        "# Inicializando classificador\n",
        "ada = AdaBoostClassifier(estimator = DecisionTreeClassifier(), learning_rate = 1.5, n_estimators = 50)"
      ],
      "metadata": {
        "id": "7T0fFkHW7yry"
      },
      "execution_count": null,
      "outputs": []
    },
    {
      "cell_type": "code",
      "source": [
        "# treinando\n",
        "model = ada.fit(train, train_labels)"
      ],
      "metadata": {
        "id": "NmihB6bJ733C"
      },
      "execution_count": null,
      "outputs": []
    },
    {
      "cell_type": "code",
      "source": [
        "# Previsões\n",
        "preds = ada.predict(test)\n",
        "preds"
      ],
      "metadata": {
        "colab": {
          "base_uri": "https://localhost:8080/"
        },
        "id": "0615Ga0K75PS",
        "outputId": "6fa292ec-2f65-41d8-baa6-bd5b119cd089"
      },
      "execution_count": null,
      "outputs": [
        {
          "output_type": "execute_result",
          "data": {
            "text/plain": [
              "array([0, 1, 1, ..., 1, 1, 1])"
            ]
          },
          "metadata": {},
          "execution_count": 97
        }
      ]
    },
    {
      "cell_type": "code",
      "source": [
        "# Avaliando acurácia\n",
        "print(accuracy_score(test_labels, preds))"
      ],
      "metadata": {
        "colab": {
          "base_uri": "https://localhost:8080/"
        },
        "id": "g6nmGJn_76jn",
        "outputId": "33b84677-3cf6-47b5-c93d-b9e128546618"
      },
      "execution_count": null,
      "outputs": [
        {
          "output_type": "stream",
          "name": "stdout",
          "text": [
            "0.8334827431645002\n"
          ]
        }
      ]
    },
    {
      "cell_type": "code",
      "source": [
        "# F1-score\n",
        "print(f1_score(test_labels, preds))"
      ],
      "metadata": {
        "colab": {
          "base_uri": "https://localhost:8080/"
        },
        "id": "E3ZxHYBgwcTr",
        "outputId": "f76f130c-3ed0-44e6-def0-47e147aec71d"
      },
      "execution_count": null,
      "outputs": [
        {
          "output_type": "stream",
          "name": "stdout",
          "text": [
            "0.8342627704662056\n"
          ]
        }
      ]
    },
    {
      "cell_type": "code",
      "source": [
        "# Analisando\n",
        "print(classification_report(test_labels, preds))"
      ],
      "metadata": {
        "colab": {
          "base_uri": "https://localhost:8080/"
        },
        "id": "K6Siw5z978ja",
        "outputId": "e855d151-633e-471f-a235-4be893d7ffb0"
      },
      "execution_count": null,
      "outputs": [
        {
          "output_type": "stream",
          "name": "stdout",
          "text": [
            "              precision    recall  f1-score   support\n",
            "\n",
            "           0       0.84      0.83      0.83      4462\n",
            "           1       0.83      0.84      0.83      4462\n",
            "\n",
            "    accuracy                           0.83      8924\n",
            "   macro avg       0.83      0.83      0.83      8924\n",
            "weighted avg       0.83      0.83      0.83      8924\n",
            "\n"
          ]
        }
      ]
    },
    {
      "cell_type": "code",
      "source": [
        "# Avaliando modelo com valor curva ROC\n",
        "testeroc = RocCurveDisplay.from_estimator(ada, atributos, rotulos)\n",
        "plt.show()"
      ],
      "metadata": {
        "colab": {
          "base_uri": "https://localhost:8080/",
          "height": 449
        },
        "id": "5hb3tiOE8Adt",
        "outputId": "47f7bc05-d50c-430a-f273-062f38439357"
      },
      "execution_count": null,
      "outputs": [
        {
          "output_type": "display_data",
          "data": {
            "text/plain": [
              "<Figure size 640x480 with 1 Axes>"
            ],
            "image/png": "[encoded data removed]"
          },
          "metadata": {}
        }
      ]
    },
    {
      "cell_type": "code",
      "source": [
        "# Matriz de correlação\n",
        "matriz_correlacao = pd.crosstab(test_labels, preds, rownames=['Real'],\n",
        "                                colnames=['Predito'])\n",
        "# Plotar mapa de calor\n",
        "sns.heatmap(matriz_correlacao, annot=True, cmap='Blues', fmt='d')\n",
        "plt.title('Matriz de Correlação')\n",
        "plt.show()"
      ],
      "metadata": {
        "colab": {
          "base_uri": "https://localhost:8080/",
          "height": 472
        },
        "id": "P2lYqtQr8CVr",
        "outputId": "dff2f0d5-4fa9-46a6-a871-8feeb85626f8"
      },
      "execution_count": null,
      "outputs": [
        {
          "output_type": "display_data",
          "data": {
            "text/plain": [
              "<Figure size 640x480 with 2 Axes>"
            ],
            "image/png": "[encoded data removed]"
          },
          "metadata": {}
        }
      ]
    },
    {
      "cell_type": "markdown",
      "source": [
        "# GridSearchCV"
      ],
      "metadata": {
        "id": "DauRoIgX9Ga-"
      }
    },
    {
      "cell_type": "code",
      "source": [
        "'''from sklearn.ensemble import AdaBoostClassifier\n",
        "from sklearn.model_selection import GridSearchCV\n",
        "from sklearn.tree import DecisionTreeClassifier\n",
        "from sklearn.linear_model import LogisticRegression\n",
        "\n",
        "# Definir o modelo que deseja otimizar (por exemplo, AdaBoostClassifier)\n",
        "model = AdaBoostClassifier()\n",
        "\n",
        "# Definir os parâmetros que deseja otimizar para o modelo\n",
        "parameters = {\n",
        "    'n_estimators': [50, 100, 150],\n",
        "    'learning_rate': [0.5, 1.0, 1.5],\n",
        "    'estimator': [DecisionTreeClassifier(), LogisticRegression(max_iter=1000)],\n",
        "}\n",
        "\n",
        "# Criar o objeto GridSearchCV com o modelo e os parâmetros definidos\n",
        "grid_search = GridSearchCV(model, parameters)\n",
        "\n",
        "# Executar a busca em grade usando o conjunto de treinamento e etiquetas de treinamento\n",
        "grid_search.fit(train, train_labels)\n",
        "\n",
        "# Melhores parâmetros encontrados\n",
        "best_params = grid_search.best_params_\n",
        "best_params'''\n",
        "# 24min"
      ],
      "metadata": {
        "id": "7OR4zIe7AX_v",
        "colab": {
          "base_uri": "https://localhost:8080/"
        },
        "outputId": "023d824c-d300-4a1c-d90e-ee495884c7b6"
      },
      "execution_count": null,
      "outputs": [
        {
          "output_type": "execute_result",
          "data": {
            "text/plain": [
              "{'estimator': DecisionTreeClassifier(),\n",
              " 'learning_rate': 1.5,\n",
              " 'n_estimators': 50}"
            ]
          },
          "metadata": {},
          "execution_count": 97
        }
      ]
    }
  ]
}