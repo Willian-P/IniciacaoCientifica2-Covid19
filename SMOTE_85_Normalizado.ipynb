{
  "nbformat": 4,
  "nbformat_minor": 0,
  "metadata": {
    "colab": {
      "provenance": [],
      "collapsed_sections": [
        "gAc0zNIAqUEr",
        "wKyC10bMrUKI",
        "cJVtFTDMvOLk",
        "yhyPfXz1v2a0",
        "_MGwotqdwL-k",
        "yjjJUiZpwrvu",
        "gHkOrHKMxQse",
        "lR8RJSAt4DN9",
        "LLIGQIS94qMe",
        "vpGh7SwM5bKu",
        "UB5jC4Oz57FL"
      ],
      "mount_file_id": "1vnnRl_axN1ct0EknQzCHYXvE9IjsuBZY",
      "authorship_tag": "ABX9TyNSkk/cRdL8WatpkwlXdp3S"
    },
    "kernelspec": {
      "name": "python3",
      "display_name": "Python 3"
    },
    "language_info": {
      "name": "python"
    }
  },
  "cells": [
    {
      "cell_type": "markdown",
      "source": [
        "# Dataset 85% SMOTE **Normalizado**"
      ],
      "metadata": {
        "id": "gAc0zNIAqUEr"
      }
    },
    {
      "cell_type": "code",
      "execution_count": null,
      "metadata": {
        "id": "2CAx4VSvpn7z"
      },
      "outputs": [],
      "source": [
        "# Importações de Bibliotecas\n",
        "import pandas as pd\n",
        "import numpy as np\n",
        "import sklearn\n",
        "import math\n",
        "\n",
        "# Datas\n",
        "from datetime import datetime, timedelta\n",
        "\n",
        "# Gráficos\n",
        "import matplotlib.pyplot as plt\n",
        "import seaborn as sns\n",
        "\n",
        "# Balanceamento\n",
        "# from imblearn.under_sampling import NearMiss\n",
        "from imblearn.over_sampling import SMOTE\n",
        "\n",
        "# Divisão de dados\n",
        "from sklearn.model_selection import train_test_split\n",
        "\n",
        "# Normalização\n",
        "from sklearn.preprocessing import StandardScaler\n",
        "\n",
        "# Classificador\n",
        "from sklearn.ensemble import AdaBoostClassifier\n",
        "from sklearn.linear_model import LogisticRegression\n",
        "from sklearn.tree import DecisionTreeClassifier\n",
        "\n",
        "# Métricas\n",
        "from sklearn.metrics import accuracy_score, classification_report, RocCurveDisplay, f1_score"
      ]
    },
    {
      "cell_type": "code",
      "source": [
        "# Local do Dataset\n",
        "url = \"https://s3.sa-east-1.amazonaws.com/ckan.saude.gov.br/SRAG/2022/INFLUD22-23-01-2023.csv\""
      ],
      "metadata": {
        "id": "wE1JPqAKqr5M"
      },
      "execution_count": null,
      "outputs": []
    },
    {
      "cell_type": "code",
      "source": [
        "# Carregando Dataset\n",
        "data = pd.read_csv(url, sep=';', na_filter = True)\n",
        "print(f\"{len(data)} linhas lidas\")"
      ],
      "metadata": {
        "colab": {
          "base_uri": "https://localhost:8080/"
        },
        "id": "lBJwvOL6rFtM",
        "outputId": "8f468602-58a6-4152-b6f3-920df9b7b552"
      },
      "execution_count": null,
      "outputs": [
        {
          "output_type": "stream",
          "name": "stderr",
          "text": [
            "<ipython-input-113-5503c4e8948e>:2: DtypeWarning: Columns (15,59,61,62,63,91,93,105,107,120,122,143) have mixed types. Specify dtype option on import or set low_memory=False.\n",
            "  data = pd.read_csv(url, sep=';', na_filter = True)\n"
          ]
        },
        {
          "output_type": "stream",
          "name": "stdout",
          "text": [
            "561242 linhas lidas\n"
          ]
        }
      ]
    },
    {
      "cell_type": "code",
      "source": [
        "# Formato do Dataset\n",
        "data.shape"
      ],
      "metadata": {
        "colab": {
          "base_uri": "https://localhost:8080/"
        },
        "id": "xTFzAGgorHa0",
        "outputId": "289b5c1e-7c4e-4a82-92fe-5fdf4b140255"
      },
      "execution_count": null,
      "outputs": [
        {
          "output_type": "execute_result",
          "data": {
            "text/plain": [
              "(561242, 166)"
            ]
          },
          "metadata": {},
          "execution_count": 114
        }
      ]
    },
    {
      "cell_type": "markdown",
      "source": [
        "# Delimitando Dataset"
      ],
      "metadata": {
        "id": "wKyC10bMrUKI"
      }
    },
    {
      "cell_type": "markdown",
      "source": [
        "Este dataset é composto por notificações realacionadas as Síndromes Respiratórias Agudas Graves SRAGs no Brasil no ano de 2022"
      ],
      "metadata": {
        "id": "DY2Pg9EhrOhG"
      }
    },
    {
      "cell_type": "code",
      "source": [
        "# Delimitando apenas para notificações de Covid-19\n",
        "data = data[data['CLASSI_FIN'] == 5]\n",
        "data.shape"
      ],
      "metadata": {
        "colab": {
          "base_uri": "https://localhost:8080/"
        },
        "id": "rB4xjcegrHiW",
        "outputId": "5fa8fe23-7be6-42d6-8ae0-3c69da2adbc5"
      },
      "execution_count": null,
      "outputs": [
        {
          "output_type": "execute_result",
          "data": {
            "text/plain": [
              "(235891, 166)"
            ]
          },
          "metadata": {},
          "execution_count": 115
        }
      ]
    },
    {
      "cell_type": "code",
      "source": [
        "# Deixando apenas com notificações do Paraná\n",
        "data = data[data['SG_UF_NOT'] == 'PR']\n",
        "data.shape"
      ],
      "metadata": {
        "colab": {
          "base_uri": "https://localhost:8080/"
        },
        "id": "9guxBCopsQyg",
        "outputId": "9647cea2-ddf3-4cca-c9e0-949c1c8c6c9d"
      },
      "execution_count": null,
      "outputs": [
        {
          "output_type": "execute_result",
          "data": {
            "text/plain": [
              "(19002, 166)"
            ]
          },
          "metadata": {},
          "execution_count": 116
        }
      ]
    },
    {
      "cell_type": "code",
      "source": [
        "# Removendo instâncias com 3 e 9, pois equivalem, respectivamente a \"óbito por outras causas\" e \"ignorado\"\n",
        "data = data[(data['EVOLUCAO'] == 1) | (data['EVOLUCAO'] == 2)]\n",
        "\n",
        "# Atualizando o target 'EVOLUCAO' para 0 e 1\n",
        "data['EVOLUCAO'] = data['EVOLUCAO'].map({1: 0, 2: 1})\n",
        "data.shape"
      ],
      "metadata": {
        "colab": {
          "base_uri": "https://localhost:8080/"
        },
        "id": "DaXxBeA1uyW0",
        "outputId": "13676595-e77f-4cb2-c4ee-63692937110b"
      },
      "execution_count": null,
      "outputs": [
        {
          "output_type": "stream",
          "name": "stderr",
          "text": [
            "<ipython-input-117-da8d121ee4c8>:5: SettingWithCopyWarning: \n",
            "A value is trying to be set on a copy of a slice from a DataFrame.\n",
            "Try using .loc[row_indexer,col_indexer] = value instead\n",
            "\n",
            "See the caveats in the documentation: https://pandas.pydata.org/pandas-docs/stable/user_guide/indexing.html#returning-a-view-versus-a-copy\n",
            "  data['EVOLUCAO'] = data['EVOLUCAO'].map({1: 0, 2: 1})\n"
          ]
        },
        {
          "output_type": "execute_result",
          "data": {
            "text/plain": [
              "(17699, 166)"
            ]
          },
          "metadata": {},
          "execution_count": 117
        }
      ]
    },
    {
      "cell_type": "markdown",
      "source": [
        "# Eliminação Manual de Atributos"
      ],
      "metadata": {
        "id": "cJVtFTDMvOLk"
      }
    },
    {
      "cell_type": "code",
      "source": [
        "# Dados redundantes após a delimitação\n",
        "data.drop(['CLASSI_FIN', 'SG_UF_NOT'], axis=1, inplace=True)\n",
        "data.shape"
      ],
      "metadata": {
        "colab": {
          "base_uri": "https://localhost:8080/"
        },
        "id": "cwKxvEPCvXcd",
        "outputId": "4920e715-f231-4abc-96e3-14e27325831e"
      },
      "execution_count": null,
      "outputs": [
        {
          "output_type": "stream",
          "name": "stderr",
          "text": [
            "<ipython-input-118-282e3f1eb280>:2: SettingWithCopyWarning: \n",
            "A value is trying to be set on a copy of a slice from a DataFrame\n",
            "\n",
            "See the caveats in the documentation: https://pandas.pydata.org/pandas-docs/stable/user_guide/indexing.html#returning-a-view-versus-a-copy\n",
            "  data.drop(['CLASSI_FIN', 'SG_UF_NOT'], axis=1, inplace=True)\n"
          ]
        },
        {
          "output_type": "execute_result",
          "data": {
            "text/plain": [
              "(17699, 164)"
            ]
          },
          "metadata": {},
          "execution_count": 118
        }
      ]
    },
    {
      "cell_type": "code",
      "source": [
        "# Retirando atributos categorizadas como Campos Internos\n",
        "data.drop([\"SEM_NOT\", \"SEM_PRI\", \"ID_REGIONA\", \"CO_REGIONA\", \"ID_RG_RESI\",\n",
        "           \"CO_RG_RESI\", \"FNT_IN_COV\", \"ID_RG_INTE\", \"CO_RG_INTE\", \"DT_DIGITA\"],\n",
        "          axis=1, inplace=True)\n",
        "data.shape"
      ],
      "metadata": {
        "colab": {
          "base_uri": "https://localhost:8080/"
        },
        "id": "UmkyCdD5vezX",
        "outputId": "db349d8c-b90c-4ad4-a4de-d51de56d5403"
      },
      "execution_count": null,
      "outputs": [
        {
          "output_type": "stream",
          "name": "stderr",
          "text": [
            "<ipython-input-119-3026bbd4e268>:2: SettingWithCopyWarning: \n",
            "A value is trying to be set on a copy of a slice from a DataFrame\n",
            "\n",
            "See the caveats in the documentation: https://pandas.pydata.org/pandas-docs/stable/user_guide/indexing.html#returning-a-view-versus-a-copy\n",
            "  data.drop([\"SEM_NOT\", \"SEM_PRI\", \"ID_REGIONA\", \"CO_REGIONA\", \"ID_RG_RESI\",\n"
          ]
        },
        {
          "output_type": "execute_result",
          "data": {
            "text/plain": [
              "(17699, 154)"
            ]
          },
          "metadata": {},
          "execution_count": 119
        }
      ]
    },
    {
      "cell_type": "code",
      "source": [
        "# Atributos Relacionados a localização\n",
        "data.drop([\"ID_MUNICIP\", \"CO_MUN_NOT\", \"ID_UNIDADE\", \"CO_UNI_NOT\", \"ID_PAIS\",\n",
        "           \"CO_PAIS\", \"SG_UF\", \"ID_MN_RESI\", \"CO_MUN_RES\", \"CS_ZONA\", \"ESTRANG\",\n",
        "           \"SG_UF_INTE\", \"ID_MN_INTE\", \"CO_MU_INTE\"], axis=1, inplace=True)\n",
        "data.shape"
      ],
      "metadata": {
        "colab": {
          "base_uri": "https://localhost:8080/"
        },
        "id": "MP_uM7kgve2N",
        "outputId": "d771d724-c0d3-4c32-8b7b-643cec28fc65"
      },
      "execution_count": null,
      "outputs": [
        {
          "output_type": "stream",
          "name": "stderr",
          "text": [
            "<ipython-input-120-132b8bb13a71>:2: SettingWithCopyWarning: \n",
            "A value is trying to be set on a copy of a slice from a DataFrame\n",
            "\n",
            "See the caveats in the documentation: https://pandas.pydata.org/pandas-docs/stable/user_guide/indexing.html#returning-a-view-versus-a-copy\n",
            "  data.drop([\"ID_MUNICIP\", \"CO_MUN_NOT\", \"ID_UNIDADE\", \"CO_UNI_NOT\", \"ID_PAIS\",\n"
          ]
        },
        {
          "output_type": "execute_result",
          "data": {
            "text/plain": [
              "(17699, 140)"
            ]
          },
          "metadata": {},
          "execution_count": 120
        }
      ]
    },
    {
      "cell_type": "code",
      "source": [
        "# Redundância na idade\n",
        "data.drop([\"DT_NASC\", \"TP_IDADE\", \"COD_IDADE\"], axis=1, inplace=True)\n",
        "data.shape"
      ],
      "metadata": {
        "colab": {
          "base_uri": "https://localhost:8080/"
        },
        "id": "vMeQcJT0vlQJ",
        "outputId": "1d5a839b-453d-420c-f4e1-0ef0b8bd6e71"
      },
      "execution_count": null,
      "outputs": [
        {
          "output_type": "execute_result",
          "data": {
            "text/plain": [
              "(17699, 137)"
            ]
          },
          "metadata": {},
          "execution_count": 121
        }
      ]
    },
    {
      "cell_type": "code",
      "source": [
        "# Dados relacionados a informações da vacina\n",
        "data.drop([\"LOTE_1_COV\", \"LOTE_2_COV\",\"LOTE_REF\", \"FAB_COV_1\", \"FAB_COV_2\",\n",
        "           \"FAB_COVREF\", \"LAB_PR_COV\"], axis=1, inplace=True)\n",
        "data.shape"
      ],
      "metadata": {
        "colab": {
          "base_uri": "https://localhost:8080/"
        },
        "id": "ajlNAGJKvmmB",
        "outputId": "96f19d28-0120-4225-9175-1548f746b860"
      },
      "execution_count": null,
      "outputs": [
        {
          "output_type": "execute_result",
          "data": {
            "text/plain": [
              "(17699, 130)"
            ]
          },
          "metadata": {},
          "execution_count": 122
        }
      ]
    },
    {
      "cell_type": "code",
      "source": [
        "# Atributos que não constam no dicionário de dados\n",
        "data.drop([\"HISTO_VGM\", \"PCR_SARS2\"], axis=1, inplace=True)\n",
        "data.shape"
      ],
      "metadata": {
        "colab": {
          "base_uri": "https://localhost:8080/"
        },
        "id": "Q40jd46Bvn48",
        "outputId": "b5eaf351-470c-4d1e-bb25-ef1ff25e1296"
      },
      "execution_count": null,
      "outputs": [
        {
          "output_type": "execute_result",
          "data": {
            "text/plain": [
              "(17699, 128)"
            ]
          },
          "metadata": {},
          "execution_count": 123
        }
      ]
    },
    {
      "cell_type": "code",
      "source": [
        "# datas administrativas\n",
        "data.drop([\"DT_ENCERRA\", \"DT_COLETA\"], axis=1, inplace=True)\n",
        "data.shape"
      ],
      "metadata": {
        "colab": {
          "base_uri": "https://localhost:8080/"
        },
        "id": "k46F_1hLvpOC",
        "outputId": "b2e4f8f0-ffd7-4627-c65c-da96c43e7c37"
      },
      "execution_count": null,
      "outputs": [
        {
          "output_type": "execute_result",
          "data": {
            "text/plain": [
              "(17699, 126)"
            ]
          },
          "metadata": {},
          "execution_count": 124
        }
      ]
    },
    {
      "cell_type": "code",
      "source": [
        "# Outras colunas\n",
        "data.drop([\"AVE_SUINO\", \"CS_RACA\"], axis=1, inplace=True)\n",
        "data.shape"
      ],
      "metadata": {
        "colab": {
          "base_uri": "https://localhost:8080/"
        },
        "id": "rofQ3t9xvqks",
        "outputId": "57520d57-154d-4797-f788-48ea0bc122c8"
      },
      "execution_count": null,
      "outputs": [
        {
          "output_type": "execute_result",
          "data": {
            "text/plain": [
              "(17699, 124)"
            ]
          },
          "metadata": {},
          "execution_count": 125
        }
      ]
    },
    {
      "cell_type": "code",
      "source": [
        "data.info()"
      ],
      "metadata": {
        "colab": {
          "base_uri": "https://localhost:8080/"
        },
        "id": "uGfTZnanvyPI",
        "outputId": "1f1d3d97-4134-4312-b85a-5120992eaafd"
      },
      "execution_count": null,
      "outputs": [
        {
          "output_type": "stream",
          "name": "stdout",
          "text": [
            "<class 'pandas.core.frame.DataFrame'>\n",
            "Int64Index: 17699 entries, 32 to 561154\n",
            "Columns: 124 entries, DT_NOTIFIC to DOSE_REF\n",
            "dtypes: float64(81), int64(4), object(39)\n",
            "memory usage: 16.9+ MB\n"
          ]
        }
      ]
    },
    {
      "cell_type": "markdown",
      "source": [
        "# Tratamento de Valores Ignorados"
      ],
      "metadata": {
        "id": "yhyPfXz1v2a0"
      }
    },
    {
      "cell_type": "code",
      "source": [
        "# Alteração dos valores 9 (ignorados) para NaN\n",
        "for column in data:\n",
        "  if ((data[column].dtypes != 'object') and\n",
        "   (column != 'NU_IDADE_N')) or (column == 'CS_SEXO'):\n",
        "    data[column] = data[column].apply(lambda x: np.nan if x == 9 else x)"
      ],
      "metadata": {
        "id": "DvOyUbLAv6Bg"
      },
      "execution_count": null,
      "outputs": []
    },
    {
      "cell_type": "markdown",
      "source": [
        "# Filtro 50%"
      ],
      "metadata": {
        "id": "_MGwotqdwL-k"
      }
    },
    {
      "cell_type": "markdown",
      "source": [
        "Filtro de 50% em linhas e colunas, prezando pela qualidade e não quantidade de dados."
      ],
      "metadata": {
        "id": "p-R3HIMBwRKW"
      }
    },
    {
      "cell_type": "code",
      "source": [
        "# Limiar de procentagem de dados faltantes\n",
        "threshold = 0.5\n",
        "\n",
        "# Calcula a porcentagem de dados faltantes em cada coluna\n",
        "porcentagem_nan = data.isnull().sum() / len(data)\n",
        "\n",
        "# Filtra as colunas que têm mais de 50% dos dados faltantes\n",
        "colunas_remocao = porcentagem_nan[porcentagem_nan > threshold].index\n",
        "\n",
        "# Remoção das colunas\n",
        "data = data.drop(colunas_remocao, axis=1)\n",
        "\n",
        "print(f'{len(colunas_remocao)} colunas foram removidas')\n",
        "print(data.shape)"
      ],
      "metadata": {
        "colab": {
          "base_uri": "https://localhost:8080/"
        },
        "id": "5MV2H4Q9wOEY",
        "outputId": "20ef640d-921b-4eca-991f-ce4615597a91"
      },
      "execution_count": null,
      "outputs": [
        {
          "output_type": "stream",
          "name": "stdout",
          "text": [
            "82 colunas foram removidas\n",
            "(17699, 42)\n"
          ]
        }
      ]
    },
    {
      "cell_type": "code",
      "source": [
        "data.info()"
      ],
      "metadata": {
        "colab": {
          "base_uri": "https://localhost:8080/"
        },
        "id": "r2GdphQWwXqQ",
        "outputId": "8521758f-6059-4e8e-97ef-6dd7ae35b705"
      },
      "execution_count": null,
      "outputs": [
        {
          "output_type": "stream",
          "name": "stdout",
          "text": [
            "<class 'pandas.core.frame.DataFrame'>\n",
            "Int64Index: 17699 entries, 32 to 561154\n",
            "Data columns (total 42 columns):\n",
            " #   Column      Non-Null Count  Dtype  \n",
            "---  ------      --------------  -----  \n",
            " 0   DT_NOTIFIC  17699 non-null  object \n",
            " 1   DT_SIN_PRI  17699 non-null  object \n",
            " 2   CS_SEXO     17699 non-null  object \n",
            " 3   NU_IDADE_N  17699 non-null  int64  \n",
            " 4   CS_GESTANT  17444 non-null  float64\n",
            " 5   NOSOCOMIAL  16050 non-null  float64\n",
            " 6   FEBRE       14589 non-null  float64\n",
            " 7   TOSSE       15203 non-null  float64\n",
            " 8   GARGANTA    13245 non-null  float64\n",
            " 9   DISPNEIA    14895 non-null  float64\n",
            " 10  DESC_RESP   14042 non-null  float64\n",
            " 11  SATURACAO   14704 non-null  float64\n",
            " 12  DIARREIA    12727 non-null  float64\n",
            " 13  VOMITO      12720 non-null  float64\n",
            " 14  OUTRO_SIN   12936 non-null  float64\n",
            " 15  FATOR_RISC  17699 non-null  int64  \n",
            " 16  CARDIOPATI  9805 non-null   float64\n",
            " 17  DIABETES    9129 non-null   float64\n",
            " 18  OUT_MORBI   9683 non-null   float64\n",
            " 19  ANTIVIRAL   15008 non-null  float64\n",
            " 20  HOSPITAL    17598 non-null  float64\n",
            " 21  DT_INTERNA  17160 non-null  object \n",
            " 22  UTI         16849 non-null  float64\n",
            " 23  SUPORT_VEN  16875 non-null  float64\n",
            " 24  RAIOX_RES   11129 non-null  float64\n",
            " 25  AMOSTRA     17294 non-null  float64\n",
            " 26  TP_AMOSTRA  16833 non-null  float64\n",
            " 27  PCR_RESUL   16780 non-null  float64\n",
            " 28  DT_PCR      11124 non-null  object \n",
            " 29  POS_PCROUT  10088 non-null  float64\n",
            " 30  CRITERIO    17363 non-null  float64\n",
            " 31  EVOLUCAO    17699 non-null  int64  \n",
            " 32  DT_EVOLUCA  17542 non-null  object \n",
            " 33  DOR_ABD     12549 non-null  float64\n",
            " 34  FADIGA      12869 non-null  float64\n",
            " 35  PERD_OLFT   12389 non-null  float64\n",
            " 36  PERD_PALA   12357 non-null  float64\n",
            " 37  TOMO_RES    9981 non-null   float64\n",
            " 38  RES_AN      17153 non-null  float64\n",
            " 39  VACINA_COV  17355 non-null  float64\n",
            " 40  DOSE_1_COV  12965 non-null  object \n",
            " 41  DOSE_2_COV  12287 non-null  object \n",
            "dtypes: float64(31), int64(3), object(8)\n",
            "memory usage: 5.8+ MB\n"
          ]
        }
      ]
    },
    {
      "cell_type": "code",
      "source": [
        "# Reinicia o index de cada instância\n",
        "data = data.reset_index(drop=True)"
      ],
      "metadata": {
        "id": "KoRrUEUGwbaa"
      },
      "execution_count": null,
      "outputs": []
    },
    {
      "cell_type": "code",
      "source": [
        "# Limiar de procentagem de dados faltantes\n",
        "threshold = 0.5\n",
        "\n",
        "# Calcula a porcentagem de dados faltantes em cada linha\n",
        "porcentagem_nan = data.isnull().sum(axis=1) / data.shape[1]\n",
        "\n",
        "# Filtra as linhas que têm mais de 50% dos dados faltantes\n",
        "linhas_remocao = porcentagem_nan[porcentagem_nan > threshold].index\n",
        "\n",
        "# Remove as linhas\n",
        "data = data.drop(linhas_remocao, axis=0)\n",
        "\n",
        "print(f'{len(linhas_remocao)} linhas foram removidas')\n",
        "print(data.shape)"
      ],
      "metadata": {
        "colab": {
          "base_uri": "https://localhost:8080/"
        },
        "id": "E63vmmW1wjYP",
        "outputId": "fe8040e6-c83d-4163-cafc-ac49e741b231"
      },
      "execution_count": null,
      "outputs": [
        {
          "output_type": "stream",
          "name": "stdout",
          "text": [
            "267 linhas foram removidas\n",
            "(17432, 42)\n"
          ]
        }
      ]
    },
    {
      "cell_type": "code",
      "source": [
        "# Reinicia o index de cada instância\n",
        "data = data.reset_index(drop=True)"
      ],
      "metadata": {
        "id": "OaTar_euwpXa"
      },
      "execution_count": null,
      "outputs": []
    },
    {
      "cell_type": "markdown",
      "source": [
        "# Preenchimento de valores NaN do tipo float"
      ],
      "metadata": {
        "id": "yjjJUiZpwrvu"
      }
    },
    {
      "cell_type": "code",
      "source": [
        "# Dados faltantes\n",
        "faltantes = data.isnull().sum()\n",
        "faltantes"
      ],
      "metadata": {
        "colab": {
          "base_uri": "https://localhost:8080/"
        },
        "id": "Yw8ikTh9wyE-",
        "outputId": "9dfc291c-790d-4efe-f294-b838081bd584"
      },
      "execution_count": null,
      "outputs": [
        {
          "output_type": "execute_result",
          "data": {
            "text/plain": [
              "DT_NOTIFIC       0\n",
              "DT_SIN_PRI       0\n",
              "CS_SEXO          0\n",
              "NU_IDADE_N       0\n",
              "CS_GESTANT     249\n",
              "NOSOCOMIAL    1582\n",
              "FEBRE         2871\n",
              "TOSSE         2271\n",
              "GARGANTA      4203\n",
              "DISPNEIA      2564\n",
              "DESC_RESP     3406\n",
              "SATURACAO     2756\n",
              "DIARREIA      4712\n",
              "VOMITO        4714\n",
              "OUTRO_SIN     4522\n",
              "FATOR_RISC       0\n",
              "CARDIOPATI    7639\n",
              "DIABETES      8314\n",
              "OUT_MORBI     7762\n",
              "ANTIVIRAL     2580\n",
              "HOSPITAL        73\n",
              "DT_INTERNA     486\n",
              "UTI            777\n",
              "SUPORT_VEN     607\n",
              "RAIOX_RES     6310\n",
              "AMOSTRA        360\n",
              "TP_AMOSTRA     809\n",
              "PCR_RESUL      722\n",
              "DT_PCR        6336\n",
              "POS_PCROUT    7362\n",
              "CRITERIO       331\n",
              "EVOLUCAO         0\n",
              "DT_EVOLUCA     137\n",
              "DOR_ABD       4883\n",
              "FADIGA        4567\n",
              "PERD_OLFT     5043\n",
              "PERD_PALA     5075\n",
              "TOMO_RES      7470\n",
              "RES_AN         523\n",
              "VACINA_COV     284\n",
              "DOSE_1_COV    4601\n",
              "DOSE_2_COV    5264\n",
              "dtype: int64"
            ]
          },
          "metadata": {},
          "execution_count": 133
        }
      ]
    },
    {
      "cell_type": "markdown",
      "source": [
        "Todos os NaN serão substituidos pelo valor da mediana daquele atributo."
      ],
      "metadata": {
        "id": "khSJlyy0w7Oo"
      }
    },
    {
      "cell_type": "code",
      "source": [
        "# Seleciona as colunas do tipo float\n",
        "colunas_float = data.select_dtypes(include='float64').columns\n",
        "\n",
        "# Substitui os valores NaN pela mediana de cada coluna\n",
        "data[colunas_float] = data[colunas_float].fillna(data[colunas_float].median().iloc[0])"
      ],
      "metadata": {
        "id": "gBDAF35Zw0yQ"
      },
      "execution_count": null,
      "outputs": []
    },
    {
      "cell_type": "code",
      "source": [
        "# Dados faltantes\n",
        "faltantes = data.isnull().sum()\n",
        "faltantes"
      ],
      "metadata": {
        "colab": {
          "base_uri": "https://localhost:8080/"
        },
        "id": "-zdzVkTWw00x",
        "outputId": "2a326a35-4b54-4cd5-c395-78386c9542da"
      },
      "execution_count": null,
      "outputs": [
        {
          "output_type": "execute_result",
          "data": {
            "text/plain": [
              "DT_NOTIFIC       0\n",
              "DT_SIN_PRI       0\n",
              "CS_SEXO          0\n",
              "NU_IDADE_N       0\n",
              "CS_GESTANT       0\n",
              "NOSOCOMIAL       0\n",
              "FEBRE            0\n",
              "TOSSE            0\n",
              "GARGANTA         0\n",
              "DISPNEIA         0\n",
              "DESC_RESP        0\n",
              "SATURACAO        0\n",
              "DIARREIA         0\n",
              "VOMITO           0\n",
              "OUTRO_SIN        0\n",
              "FATOR_RISC       0\n",
              "CARDIOPATI       0\n",
              "DIABETES         0\n",
              "OUT_MORBI        0\n",
              "ANTIVIRAL        0\n",
              "HOSPITAL         0\n",
              "DT_INTERNA     486\n",
              "UTI              0\n",
              "SUPORT_VEN       0\n",
              "RAIOX_RES        0\n",
              "AMOSTRA          0\n",
              "TP_AMOSTRA       0\n",
              "PCR_RESUL        0\n",
              "DT_PCR        6336\n",
              "POS_PCROUT       0\n",
              "CRITERIO         0\n",
              "EVOLUCAO         0\n",
              "DT_EVOLUCA     137\n",
              "DOR_ABD          0\n",
              "FADIGA           0\n",
              "PERD_OLFT        0\n",
              "PERD_PALA        0\n",
              "TOMO_RES         0\n",
              "RES_AN           0\n",
              "VACINA_COV       0\n",
              "DOSE_1_COV    4601\n",
              "DOSE_2_COV    5264\n",
              "dtype: int64"
            ]
          },
          "metadata": {},
          "execution_count": 135
        }
      ]
    },
    {
      "cell_type": "markdown",
      "source": [
        "# Tratando Datas"
      ],
      "metadata": {
        "id": "gHkOrHKMxQse"
      }
    },
    {
      "cell_type": "markdown",
      "source": [
        "Criação de uma coluna chamada \"QTD_DIAS\" que é resultante da relação entre data da Notificação do paciente até a Evolução."
      ],
      "metadata": {
        "id": "-qm8oLyKxVya"
      }
    },
    {
      "cell_type": "markdown",
      "source": [
        "*DT_NOTIFIC com DT_EVOLUCA*"
      ],
      "metadata": {
        "id": "7QHiPYlbMnEs"
      }
    },
    {
      "cell_type": "code",
      "source": [
        "# QTD_DIAS armazena a quantidade de dias desde a notificação até a evolução.\n",
        "data['QTD_DIAS'] = ''"
      ],
      "metadata": {
        "id": "vQ7Dgahcw038"
      },
      "execution_count": null,
      "outputs": []
    },
    {
      "cell_type": "code",
      "source": [
        "# Calcula o intervalo de dias entre duas datas\n",
        "def calcular_qtd_dias(row):\n",
        "  if pd.isna(row['DT_EVOLUCA']):\n",
        "    return np.nan\n",
        "  else:\n",
        "    data1 = datetime.strptime(row['DT_NOTIFIC'], '%d/%m/%Y')\n",
        "    data2 = datetime.strptime(row['DT_EVOLUCA'], '%d/%m/%Y')\n",
        "    dias = abs((data2 - data1).days)\n",
        "    return dias\n",
        "\n",
        "# Chama a função e atribui o resultado à coluna 'QTD_DIAS'\n",
        "data['QTD_DIAS'] = data.apply(calcular_qtd_dias, axis=1)"
      ],
      "metadata": {
        "id": "H1xKl65fxcjM"
      },
      "execution_count": null,
      "outputs": []
    },
    {
      "cell_type": "code",
      "source": [
        "data[['DT_NOTIFIC', 'DT_EVOLUCA', 'QTD_DIAS']]"
      ],
      "metadata": {
        "colab": {
          "base_uri": "https://localhost:8080/"
        },
        "id": "x8BN6BGXxcmW",
        "outputId": "835e9a5f-c294-4647-8297-2a103fdaac52"
      },
      "execution_count": null,
      "outputs": [
        {
          "output_type": "execute_result",
          "data": {
            "text/plain": [
              "       DT_NOTIFIC  DT_EVOLUCA  QTD_DIAS\n",
              "0      05/01/2022  06/01/2022       1.0\n",
              "1      07/01/2022  25/01/2022      18.0\n",
              "2      10/01/2022  13/01/2022       3.0\n",
              "3      19/01/2022  07/02/2022      19.0\n",
              "4      10/01/2022  13/01/2022       3.0\n",
              "...           ...         ...       ...\n",
              "17427  29/06/2022  29/06/2022       0.0\n",
              "17428  09/08/2022  12/08/2022       3.0\n",
              "17429  30/08/2022  01/09/2022       2.0\n",
              "17430  10/11/2022  17/11/2022       7.0\n",
              "17431  24/12/2022  29/12/2022       5.0\n",
              "\n",
              "[17432 rows x 3 columns]"
            ],
            "text/html": [
              "\n",
              "\n",
              "  <div id=\"df-97ac8172-f791-4fde-bb42-15aadb1fce59\">\n",
              "    <div class=\"colab-df-container\">\n",
              "      <div>\n",
              "<style scoped>\n",
              "    .dataframe tbody tr th:only-of-type {\n",
              "        vertical-align: middle;\n",
              "    }\n",
              "\n",
              "    .dataframe tbody tr th {\n",
              "        vertical-align: top;\n",
              "    }\n",
              "\n",
              "    .dataframe thead th {\n",
              "        text-align: right;\n",
              "    }\n",
              "</style>\n",
              "<table border=\"1\" class=\"dataframe\">\n",
              "  <thead>\n",
              "    <tr style=\"text-align: right;\">\n",
              "      <th></th>\n",
              "      <th>DT_NOTIFIC</th>\n",
              "      <th>DT_EVOLUCA</th>\n",
              "      <th>QTD_DIAS</th>\n",
              "    </tr>\n",
              "  </thead>\n",
              "  <tbody>\n",
              "    <tr>\n",
              "      <th>0</th>\n",
              "      <td>05/01/2022</td>\n",
              "      <td>06/01/2022</td>\n",
              "      <td>1.0</td>\n",
              "    </tr>\n",
              "    <tr>\n",
              "      <th>1</th>\n",
              "      <td>07/01/2022</td>\n",
              "      <td>25/01/2022</td>\n",
              "      <td>18.0</td>\n",
              "    </tr>\n",
              "    <tr>\n",
              "      <th>2</th>\n",
              "      <td>10/01/2022</td>\n",
              "      <td>13/01/2022</td>\n",
              "      <td>3.0</td>\n",
              "    </tr>\n",
              "    <tr>\n",
              "      <th>3</th>\n",
              "      <td>19/01/2022</td>\n",
              "      <td>07/02/2022</td>\n",
              "      <td>19.0</td>\n",
              "    </tr>\n",
              "    <tr>\n",
              "      <th>4</th>\n",
              "      <td>10/01/2022</td>\n",
              "      <td>13/01/2022</td>\n",
              "      <td>3.0</td>\n",
              "    </tr>\n",
              "    <tr>\n",
              "      <th>...</th>\n",
              "      <td>...</td>\n",
              "      <td>...</td>\n",
              "      <td>...</td>\n",
              "    </tr>\n",
              "    <tr>\n",
              "      <th>17427</th>\n",
              "      <td>29/06/2022</td>\n",
              "      <td>29/06/2022</td>\n",
              "      <td>0.0</td>\n",
              "    </tr>\n",
              "    <tr>\n",
              "      <th>17428</th>\n",
              "      <td>09/08/2022</td>\n",
              "      <td>12/08/2022</td>\n",
              "      <td>3.0</td>\n",
              "    </tr>\n",
              "    <tr>\n",
              "      <th>17429</th>\n",
              "      <td>30/08/2022</td>\n",
              "      <td>01/09/2022</td>\n",
              "      <td>2.0</td>\n",
              "    </tr>\n",
              "    <tr>\n",
              "      <th>17430</th>\n",
              "      <td>10/11/2022</td>\n",
              "      <td>17/11/2022</td>\n",
              "      <td>7.0</td>\n",
              "    </tr>\n",
              "    <tr>\n",
              "      <th>17431</th>\n",
              "      <td>24/12/2022</td>\n",
              "      <td>29/12/2022</td>\n",
              "      <td>5.0</td>\n",
              "    </tr>\n",
              "  </tbody>\n",
              "</table>\n",
              "<p>17432 rows × 3 columns</p>\n",
              "</div>\n",
              "      <button class=\"colab-df-convert\" onclick=\"convertToInteractive('df-97ac8172-f791-4fde-bb42-15aadb1fce59')\"\n",
              "              title=\"Convert this dataframe to an interactive table.\"\n",
              "              style=\"display:none;\">\n",
              "\n",
              "  <svg xmlns=\"http://www.w3.org/2000/svg\" height=\"24px\"viewBox=\"0 0 24 24\"\n",
              "       width=\"24px\">\n",
              "    <path d=\"M0 0h24v24H0V0z\" fill=\"none\"/>\n",
              "    <path d=\"M18.56 5.44l.94 2.06.94-2.06 2.06-.94-2.06-.94-.94-2.06-.94 2.06-2.06.94zm-11 1L8.5 8.5l.94-2.06 2.06-.94-2.06-.94L8.5 2.5l-.94 2.06-2.06.94zm10 10l.94 2.06.94-2.06 2.06-.94-2.06-.94-.94-2.06-.94 2.06-2.06.94z\"/><path d=\"M17.41 7.96l-1.37-1.37c-.4-.4-.92-.59-1.43-.59-.52 0-1.04.2-1.43.59L10.3 9.45l-7.72 7.72c-.78.78-.78 2.05 0 2.83L4 21.41c.39.39.9.59 1.41.59.51 0 1.02-.2 1.41-.59l7.78-7.78 2.81-2.81c.8-.78.8-2.07 0-2.86zM5.41 20L4 18.59l7.72-7.72 1.47 1.35L5.41 20z\"/>\n",
              "  </svg>\n",
              "      </button>\n",
              "\n",
              "\n",
              "\n",
              "    <div id=\"df-074df0b0-df94-478f-b6f4-2faf59a9aec3\">\n",
              "      <button class=\"colab-df-quickchart\" onclick=\"quickchart('df-074df0b0-df94-478f-b6f4-2faf59a9aec3')\"\n",
              "              title=\"Suggest charts.\"\n",
              "              style=\"display:none;\">\n",
              "\n",
              "<svg xmlns=\"http://www.w3.org/2000/svg\" height=\"24px\"viewBox=\"0 0 24 24\"\n",
              "     width=\"24px\">\n",
              "    <g>\n",
              "        <path d=\"M19 3H5c-1.1 0-2 .9-2 2v14c0 1.1.9 2 2 2h14c1.1 0 2-.9 2-2V5c0-1.1-.9-2-2-2zM9 17H7v-7h2v7zm4 0h-2V7h2v10zm4 0h-2v-4h2v4z\"/>\n",
              "    </g>\n",
              "</svg>\n",
              "      </button>\n",
              "    </div>\n",
              "\n",
              "<style>\n",
              "  .colab-df-quickchart {\n",
              "    background-color: #E8F0FE;\n",
              "    border: none;\n",
              "    border-radius: 50%;\n",
              "    cursor: pointer;\n",
              "    display: none;\n",
              "    fill: #1967D2;\n",
              "    height: 32px;\n",
              "    padding: 0 0 0 0;\n",
              "    width: 32px;\n",
              "  }\n",
              "\n",
              "  .colab-df-quickchart:hover {\n",
              "    background-color: #E2EBFA;\n",
              "    box-shadow: 0px 1px 2px rgba(60, 64, 67, 0.3), 0px 1px 3px 1px rgba(60, 64, 67, 0.15);\n",
              "    fill: #174EA6;\n",
              "  }\n",
              "\n",
              "  [theme=dark] .colab-df-quickchart {\n",
              "    background-color: #3B4455;\n",
              "    fill: #D2E3FC;\n",
              "  }\n",
              "\n",
              "  [theme=dark] .colab-df-quickchart:hover {\n",
              "    background-color: #434B5C;\n",
              "    box-shadow: 0px 1px 3px 1px rgba(0, 0, 0, 0.15);\n",
              "    filter: drop-shadow(0px 1px 2px rgba(0, 0, 0, 0.3));\n",
              "    fill: #FFFFFF;\n",
              "  }\n",
              "</style>\n",
              "\n",
              "    <script>\n",
              "      async function quickchart(key) {\n",
              "        const containerElement = document.querySelector('#' + key);\n",
              "        const charts = await google.colab.kernel.invokeFunction(\n",
              "            'suggestCharts', [key], {});\n",
              "      }\n",
              "    </script>\n",
              "\n",
              "      <script>\n",
              "\n",
              "function displayQuickchartButton(domScope) {\n",
              "  let quickchartButtonEl =\n",
              "    domScope.querySelector('#df-074df0b0-df94-478f-b6f4-2faf59a9aec3 button.colab-df-quickchart');\n",
              "  quickchartButtonEl.style.display =\n",
              "    google.colab.kernel.accessAllowed ? 'block' : 'none';\n",
              "}\n",
              "\n",
              "        displayQuickchartButton(document);\n",
              "      </script>\n",
              "      <style>\n",
              "    .colab-df-container {\n",
              "      display:flex;\n",
              "      flex-wrap:wrap;\n",
              "      gap: 12px;\n",
              "    }\n",
              "\n",
              "    .colab-df-convert {\n",
              "      background-color: #E8F0FE;\n",
              "      border: none;\n",
              "      border-radius: 50%;\n",
              "      cursor: pointer;\n",
              "      display: none;\n",
              "      fill: #1967D2;\n",
              "      height: 32px;\n",
              "      padding: 0 0 0 0;\n",
              "      width: 32px;\n",
              "    }\n",
              "\n",
              "    .colab-df-convert:hover {\n",
              "      background-color: #E2EBFA;\n",
              "      box-shadow: 0px 1px 2px rgba(60, 64, 67, 0.3), 0px 1px 3px 1px rgba(60, 64, 67, 0.15);\n",
              "      fill: #174EA6;\n",
              "    }\n",
              "\n",
              "    [theme=dark] .colab-df-convert {\n",
              "      background-color: #3B4455;\n",
              "      fill: #D2E3FC;\n",
              "    }\n",
              "\n",
              "    [theme=dark] .colab-df-convert:hover {\n",
              "      background-color: #434B5C;\n",
              "      box-shadow: 0px 1px 3px 1px rgba(0, 0, 0, 0.15);\n",
              "      filter: drop-shadow(0px 1px 2px rgba(0, 0, 0, 0.3));\n",
              "      fill: #FFFFFF;\n",
              "    }\n",
              "  </style>\n",
              "\n",
              "      <script>\n",
              "        const buttonEl =\n",
              "          document.querySelector('#df-97ac8172-f791-4fde-bb42-15aadb1fce59 button.colab-df-convert');\n",
              "        buttonEl.style.display =\n",
              "          google.colab.kernel.accessAllowed ? 'block' : 'none';\n",
              "\n",
              "        async function convertToInteractive(key) {\n",
              "          const element = document.querySelector('#df-97ac8172-f791-4fde-bb42-15aadb1fce59');\n",
              "          const dataTable =\n",
              "            await google.colab.kernel.invokeFunction('convertToInteractive',\n",
              "                                                     [key], {});\n",
              "          if (!dataTable) return;\n",
              "\n",
              "          const docLinkHtml = 'Like what you see? Visit the ' +\n",
              "            '<a target=\"_blank\" href=https://colab.research.google.com/notebooks/data_table.ipynb>data table notebook</a>'\n",
              "            + ' to learn more about interactive tables.';\n",
              "          element.innerHTML = '';\n",
              "          dataTable['output_type'] = 'display_data';\n",
              "          await google.colab.output.renderOutput(dataTable, element);\n",
              "          const docLink = document.createElement('div');\n",
              "          docLink.innerHTML = docLinkHtml;\n",
              "          element.appendChild(docLink);\n",
              "        }\n",
              "      </script>\n",
              "    </div>\n",
              "  </div>\n"
            ]
          },
          "metadata": {},
          "execution_count": 138
        }
      ]
    },
    {
      "cell_type": "code",
      "source": [
        "data['QTD_DIAS'].info()"
      ],
      "metadata": {
        "colab": {
          "base_uri": "https://localhost:8080/"
        },
        "id": "7TK3nH9oxco5",
        "outputId": "9d16988a-0df3-4acb-8be8-ea3708362baa"
      },
      "execution_count": null,
      "outputs": [
        {
          "output_type": "stream",
          "name": "stdout",
          "text": [
            "<class 'pandas.core.series.Series'>\n",
            "RangeIndex: 17432 entries, 0 to 17431\n",
            "Series name: QTD_DIAS\n",
            "Non-Null Count  Dtype  \n",
            "--------------  -----  \n",
            "17295 non-null  float64\n",
            "dtypes: float64(1)\n",
            "memory usage: 136.3 KB\n"
          ]
        }
      ]
    },
    {
      "cell_type": "code",
      "source": [
        "# Calcula a mediana de 'QTD_DIAS'\n",
        "data['QTD_DIAS'].median()"
      ],
      "metadata": {
        "colab": {
          "base_uri": "https://localhost:8080/"
        },
        "id": "zIRzdYRdxcr5",
        "outputId": "47191cf6-5de8-46be-a13a-9a3a6cebf7ba"
      },
      "execution_count": null,
      "outputs": [
        {
          "output_type": "execute_result",
          "data": {
            "text/plain": [
              "5.0"
            ]
          },
          "metadata": {},
          "execution_count": 140
        }
      ]
    },
    {
      "cell_type": "code",
      "source": [
        "# Conta os valores NaN em 'QTD_DIAS'\n",
        "data['QTD_DIAS'].isnull().sum()"
      ],
      "metadata": {
        "colab": {
          "base_uri": "https://localhost:8080/"
        },
        "id": "p8rDJBgsxcua",
        "outputId": "35be81e8-dbe0-4b04-8924-d49909e3489d"
      },
      "execution_count": null,
      "outputs": [
        {
          "output_type": "execute_result",
          "data": {
            "text/plain": [
              "137"
            ]
          },
          "metadata": {},
          "execution_count": 141
        }
      ]
    },
    {
      "cell_type": "code",
      "source": [
        "# Preenche valores NaN com a mediana\n",
        "data['QTD_DIAS'].fillna(data['QTD_DIAS'].median(), inplace=True)"
      ],
      "metadata": {
        "id": "nBA5MhPTw06y"
      },
      "execution_count": null,
      "outputs": []
    },
    {
      "cell_type": "code",
      "source": [
        "# Converte o tipo de dados de float para int\n",
        "data['QTD_DIAS'] = data['QTD_DIAS'].astype(int)"
      ],
      "metadata": {
        "id": "7VNHz0NuxyS0"
      },
      "execution_count": null,
      "outputs": []
    },
    {
      "cell_type": "code",
      "source": [
        "data['QTD_DIAS'].info()"
      ],
      "metadata": {
        "colab": {
          "base_uri": "https://localhost:8080/"
        },
        "id": "Vh2fKQfpxyYK",
        "outputId": "3b2b2d7c-0f57-4274-8cbb-3fa9bddad7c5"
      },
      "execution_count": null,
      "outputs": [
        {
          "output_type": "stream",
          "name": "stdout",
          "text": [
            "<class 'pandas.core.series.Series'>\n",
            "RangeIndex: 17432 entries, 0 to 17431\n",
            "Series name: QTD_DIAS\n",
            "Non-Null Count  Dtype\n",
            "--------------  -----\n",
            "17432 non-null  int64\n",
            "dtypes: int64(1)\n",
            "memory usage: 136.3 KB\n"
          ]
        }
      ]
    },
    {
      "cell_type": "markdown",
      "source": [
        "Criação de uma coluna chamada \"DIAS_INTERNA\" que representa a quantidade de dias que um paciente ficou hospitalizado."
      ],
      "metadata": {
        "id": "XDiss8pwx5cQ"
      }
    },
    {
      "cell_type": "markdown",
      "source": [
        "*DT_INTERNA com DT_EVOLUCA*"
      ],
      "metadata": {
        "id": "6Ymso8ATM5x4"
      }
    },
    {
      "cell_type": "code",
      "source": [
        "# DIAS_INTERNA armazena a quantidade de dias internado desde a data de internação\n",
        "# até a evolução.\n",
        "data['DIAS_INTERNA'] = ''"
      ],
      "metadata": {
        "id": "XZ_jlRenxybK"
      },
      "execution_count": null,
      "outputs": []
    },
    {
      "cell_type": "code",
      "source": [
        "# Calcula o intervalo de dias entre duas datas\n",
        "def calc_dias_interna(row):\n",
        "  if row['HOSPITAL'] == 1:\n",
        "    if pd.isna(row['DT_INTERNA']) or pd.isna(row['DT_EVOLUCA']):\n",
        "      return np.nan\n",
        "    else:\n",
        "      data1 = datetime.strptime(row['DT_INTERNA'], '%d/%m/%Y')\n",
        "      data2 = datetime.strptime(row['DT_EVOLUCA'], '%d/%m/%Y')\n",
        "      return abs((data2 - data1).days)\n",
        "  else:\n",
        "    return 0\n",
        "\n",
        "# Chama a função e atribui o resultado à coluna 'DIAS_INTERNA'\n",
        "data['DIAS_INTERNA'] = data.apply(calc_dias_interna, axis=1)"
      ],
      "metadata": {
        "id": "sgiIPH4pxyd2"
      },
      "execution_count": null,
      "outputs": []
    },
    {
      "cell_type": "code",
      "source": [
        "data[['DT_INTERNA', 'DT_EVOLUCA', 'DIAS_INTERNA']]"
      ],
      "metadata": {
        "colab": {
          "base_uri": "https://localhost:8080/"
        },
        "id": "kkSsAeuYxyg2",
        "outputId": "a057bcd8-94d6-4b13-8d92-f05e66803db4"
      },
      "execution_count": null,
      "outputs": [
        {
          "output_type": "execute_result",
          "data": {
            "text/plain": [
              "       DT_INTERNA  DT_EVOLUCA  DIAS_INTERNA\n",
              "0      05/01/2022  06/01/2022           1.0\n",
              "1      07/01/2022  25/01/2022          18.0\n",
              "2      11/01/2022  13/01/2022           2.0\n",
              "3      19/01/2022  07/02/2022          19.0\n",
              "4      10/01/2022  13/01/2022           3.0\n",
              "...           ...         ...           ...\n",
              "17427  28/06/2022  29/06/2022           1.0\n",
              "17428  09/08/2022  12/08/2022           3.0\n",
              "17429  30/08/2022  01/09/2022           2.0\n",
              "17430  09/11/2022  17/11/2022           8.0\n",
              "17431  24/12/2022  29/12/2022           5.0\n",
              "\n",
              "[17432 rows x 3 columns]"
            ],
            "text/html": [
              "\n",
              "\n",
              "  <div id=\"df-5aebdc97-b4e7-4283-99b7-eb37f459a6a3\">\n",
              "    <div class=\"colab-df-container\">\n",
              "      <div>\n",
              "<style scoped>\n",
              "    .dataframe tbody tr th:only-of-type {\n",
              "        vertical-align: middle;\n",
              "    }\n",
              "\n",
              "    .dataframe tbody tr th {\n",
              "        vertical-align: top;\n",
              "    }\n",
              "\n",
              "    .dataframe thead th {\n",
              "        text-align: right;\n",
              "    }\n",
              "</style>\n",
              "<table border=\"1\" class=\"dataframe\">\n",
              "  <thead>\n",
              "    <tr style=\"text-align: right;\">\n",
              "      <th></th>\n",
              "      <th>DT_INTERNA</th>\n",
              "      <th>DT_EVOLUCA</th>\n",
              "      <th>DIAS_INTERNA</th>\n",
              "    </tr>\n",
              "  </thead>\n",
              "  <tbody>\n",
              "    <tr>\n",
              "      <th>0</th>\n",
              "      <td>05/01/2022</td>\n",
              "      <td>06/01/2022</td>\n",
              "      <td>1.0</td>\n",
              "    </tr>\n",
              "    <tr>\n",
              "      <th>1</th>\n",
              "      <td>07/01/2022</td>\n",
              "      <td>25/01/2022</td>\n",
              "      <td>18.0</td>\n",
              "    </tr>\n",
              "    <tr>\n",
              "      <th>2</th>\n",
              "      <td>11/01/2022</td>\n",
              "      <td>13/01/2022</td>\n",
              "      <td>2.0</td>\n",
              "    </tr>\n",
              "    <tr>\n",
              "      <th>3</th>\n",
              "      <td>19/01/2022</td>\n",
              "      <td>07/02/2022</td>\n",
              "      <td>19.0</td>\n",
              "    </tr>\n",
              "    <tr>\n",
              "      <th>4</th>\n",
              "      <td>10/01/2022</td>\n",
              "      <td>13/01/2022</td>\n",
              "      <td>3.0</td>\n",
              "    </tr>\n",
              "    <tr>\n",
              "      <th>...</th>\n",
              "      <td>...</td>\n",
              "      <td>...</td>\n",
              "      <td>...</td>\n",
              "    </tr>\n",
              "    <tr>\n",
              "      <th>17427</th>\n",
              "      <td>28/06/2022</td>\n",
              "      <td>29/06/2022</td>\n",
              "      <td>1.0</td>\n",
              "    </tr>\n",
              "    <tr>\n",
              "      <th>17428</th>\n",
              "      <td>09/08/2022</td>\n",
              "      <td>12/08/2022</td>\n",
              "      <td>3.0</td>\n",
              "    </tr>\n",
              "    <tr>\n",
              "      <th>17429</th>\n",
              "      <td>30/08/2022</td>\n",
              "      <td>01/09/2022</td>\n",
              "      <td>2.0</td>\n",
              "    </tr>\n",
              "    <tr>\n",
              "      <th>17430</th>\n",
              "      <td>09/11/2022</td>\n",
              "      <td>17/11/2022</td>\n",
              "      <td>8.0</td>\n",
              "    </tr>\n",
              "    <tr>\n",
              "      <th>17431</th>\n",
              "      <td>24/12/2022</td>\n",
              "      <td>29/12/2022</td>\n",
              "      <td>5.0</td>\n",
              "    </tr>\n",
              "  </tbody>\n",
              "</table>\n",
              "<p>17432 rows × 3 columns</p>\n",
              "</div>\n",
              "      <button class=\"colab-df-convert\" onclick=\"convertToInteractive('df-5aebdc97-b4e7-4283-99b7-eb37f459a6a3')\"\n",
              "              title=\"Convert this dataframe to an interactive table.\"\n",
              "              style=\"display:none;\">\n",
              "\n",
              "  <svg xmlns=\"http://www.w3.org/2000/svg\" height=\"24px\"viewBox=\"0 0 24 24\"\n",
              "       width=\"24px\">\n",
              "    <path d=\"M0 0h24v24H0V0z\" fill=\"none\"/>\n",
              "    <path d=\"M18.56 5.44l.94 2.06.94-2.06 2.06-.94-2.06-.94-.94-2.06-.94 2.06-2.06.94zm-11 1L8.5 8.5l.94-2.06 2.06-.94-2.06-.94L8.5 2.5l-.94 2.06-2.06.94zm10 10l.94 2.06.94-2.06 2.06-.94-2.06-.94-.94-2.06-.94 2.06-2.06.94z\"/><path d=\"M17.41 7.96l-1.37-1.37c-.4-.4-.92-.59-1.43-.59-.52 0-1.04.2-1.43.59L10.3 9.45l-7.72 7.72c-.78.78-.78 2.05 0 2.83L4 21.41c.39.39.9.59 1.41.59.51 0 1.02-.2 1.41-.59l7.78-7.78 2.81-2.81c.8-.78.8-2.07 0-2.86zM5.41 20L4 18.59l7.72-7.72 1.47 1.35L5.41 20z\"/>\n",
              "  </svg>\n",
              "      </button>\n",
              "\n",
              "\n",
              "\n",
              "    <div id=\"df-e588677b-d00a-468a-a982-4ac64a4ee32f\">\n",
              "      <button class=\"colab-df-quickchart\" onclick=\"quickchart('df-e588677b-d00a-468a-a982-4ac64a4ee32f')\"\n",
              "              title=\"Suggest charts.\"\n",
              "              style=\"display:none;\">\n",
              "\n",
              "<svg xmlns=\"http://www.w3.org/2000/svg\" height=\"24px\"viewBox=\"0 0 24 24\"\n",
              "     width=\"24px\">\n",
              "    <g>\n",
              "        <path d=\"M19 3H5c-1.1 0-2 .9-2 2v14c0 1.1.9 2 2 2h14c1.1 0 2-.9 2-2V5c0-1.1-.9-2-2-2zM9 17H7v-7h2v7zm4 0h-2V7h2v10zm4 0h-2v-4h2v4z\"/>\n",
              "    </g>\n",
              "</svg>\n",
              "      </button>\n",
              "    </div>\n",
              "\n",
              "<style>\n",
              "  .colab-df-quickchart {\n",
              "    background-color: #E8F0FE;\n",
              "    border: none;\n",
              "    border-radius: 50%;\n",
              "    cursor: pointer;\n",
              "    display: none;\n",
              "    fill: #1967D2;\n",
              "    height: 32px;\n",
              "    padding: 0 0 0 0;\n",
              "    width: 32px;\n",
              "  }\n",
              "\n",
              "  .colab-df-quickchart:hover {\n",
              "    background-color: #E2EBFA;\n",
              "    box-shadow: 0px 1px 2px rgba(60, 64, 67, 0.3), 0px 1px 3px 1px rgba(60, 64, 67, 0.15);\n",
              "    fill: #174EA6;\n",
              "  }\n",
              "\n",
              "  [theme=dark] .colab-df-quickchart {\n",
              "    background-color: #3B4455;\n",
              "    fill: #D2E3FC;\n",
              "  }\n",
              "\n",
              "  [theme=dark] .colab-df-quickchart:hover {\n",
              "    background-color: #434B5C;\n",
              "    box-shadow: 0px 1px 3px 1px rgba(0, 0, 0, 0.15);\n",
              "    filter: drop-shadow(0px 1px 2px rgba(0, 0, 0, 0.3));\n",
              "    fill: #FFFFFF;\n",
              "  }\n",
              "</style>\n",
              "\n",
              "    <script>\n",
              "      async function quickchart(key) {\n",
              "        const containerElement = document.querySelector('#' + key);\n",
              "        const charts = await google.colab.kernel.invokeFunction(\n",
              "            'suggestCharts', [key], {});\n",
              "      }\n",
              "    </script>\n",
              "\n",
              "      <script>\n",
              "\n",
              "function displayQuickchartButton(domScope) {\n",
              "  let quickchartButtonEl =\n",
              "    domScope.querySelector('#df-e588677b-d00a-468a-a982-4ac64a4ee32f button.colab-df-quickchart');\n",
              "  quickchartButtonEl.style.display =\n",
              "    google.colab.kernel.accessAllowed ? 'block' : 'none';\n",
              "}\n",
              "\n",
              "        displayQuickchartButton(document);\n",
              "      </script>\n",
              "      <style>\n",
              "    .colab-df-container {\n",
              "      display:flex;\n",
              "      flex-wrap:wrap;\n",
              "      gap: 12px;\n",
              "    }\n",
              "\n",
              "    .colab-df-convert {\n",
              "      background-color: #E8F0FE;\n",
              "      border: none;\n",
              "      border-radius: 50%;\n",
              "      cursor: pointer;\n",
              "      display: none;\n",
              "      fill: #1967D2;\n",
              "      height: 32px;\n",
              "      padding: 0 0 0 0;\n",
              "      width: 32px;\n",
              "    }\n",
              "\n",
              "    .colab-df-convert:hover {\n",
              "      background-color: #E2EBFA;\n",
              "      box-shadow: 0px 1px 2px rgba(60, 64, 67, 0.3), 0px 1px 3px 1px rgba(60, 64, 67, 0.15);\n",
              "      fill: #174EA6;\n",
              "    }\n",
              "\n",
              "    [theme=dark] .colab-df-convert {\n",
              "      background-color: #3B4455;\n",
              "      fill: #D2E3FC;\n",
              "    }\n",
              "\n",
              "    [theme=dark] .colab-df-convert:hover {\n",
              "      background-color: #434B5C;\n",
              "      box-shadow: 0px 1px 3px 1px rgba(0, 0, 0, 0.15);\n",
              "      filter: drop-shadow(0px 1px 2px rgba(0, 0, 0, 0.3));\n",
              "      fill: #FFFFFF;\n",
              "    }\n",
              "  </style>\n",
              "\n",
              "      <script>\n",
              "        const buttonEl =\n",
              "          document.querySelector('#df-5aebdc97-b4e7-4283-99b7-eb37f459a6a3 button.colab-df-convert');\n",
              "        buttonEl.style.display =\n",
              "          google.colab.kernel.accessAllowed ? 'block' : 'none';\n",
              "\n",
              "        async function convertToInteractive(key) {\n",
              "          const element = document.querySelector('#df-5aebdc97-b4e7-4283-99b7-eb37f459a6a3');\n",
              "          const dataTable =\n",
              "            await google.colab.kernel.invokeFunction('convertToInteractive',\n",
              "                                                     [key], {});\n",
              "          if (!dataTable) return;\n",
              "\n",
              "          const docLinkHtml = 'Like what you see? Visit the ' +\n",
              "            '<a target=\"_blank\" href=https://colab.research.google.com/notebooks/data_table.ipynb>data table notebook</a>'\n",
              "            + ' to learn more about interactive tables.';\n",
              "          element.innerHTML = '';\n",
              "          dataTable['output_type'] = 'display_data';\n",
              "          await google.colab.output.renderOutput(dataTable, element);\n",
              "          const docLink = document.createElement('div');\n",
              "          docLink.innerHTML = docLinkHtml;\n",
              "          element.appendChild(docLink);\n",
              "        }\n",
              "      </script>\n",
              "    </div>\n",
              "  </div>\n"
            ]
          },
          "metadata": {},
          "execution_count": 147
        }
      ]
    },
    {
      "cell_type": "code",
      "source": [
        "data['DIAS_INTERNA'].info()"
      ],
      "metadata": {
        "colab": {
          "base_uri": "https://localhost:8080/"
        },
        "id": "zlAGuibAxyko",
        "outputId": "af21bb85-4f33-462e-dad7-78b05b9f0d4e"
      },
      "execution_count": null,
      "outputs": [
        {
          "output_type": "stream",
          "name": "stdout",
          "text": [
            "<class 'pandas.core.series.Series'>\n",
            "RangeIndex: 17432 entries, 0 to 17431\n",
            "Series name: DIAS_INTERNA\n",
            "Non-Null Count  Dtype  \n",
            "--------------  -----  \n",
            "17255 non-null  float64\n",
            "dtypes: float64(1)\n",
            "memory usage: 136.3 KB\n"
          ]
        }
      ]
    },
    {
      "cell_type": "code",
      "source": [
        "# Calcula a mediana de 'DIAS_INTERNA'\n",
        "data['DIAS_INTERNA'].median()"
      ],
      "metadata": {
        "colab": {
          "base_uri": "https://localhost:8080/"
        },
        "id": "GOmGuTVsxyoQ",
        "outputId": "351444da-fc5e-4eee-8595-44c3a0fd3f1f"
      },
      "execution_count": null,
      "outputs": [
        {
          "output_type": "execute_result",
          "data": {
            "text/plain": [
              "5.0"
            ]
          },
          "metadata": {},
          "execution_count": 149
        }
      ]
    },
    {
      "cell_type": "code",
      "source": [
        "# Conta os valores NaN em 'DIAS_INTERNA'\n",
        "data['DIAS_INTERNA'].isnull().sum()"
      ],
      "metadata": {
        "colab": {
          "base_uri": "https://localhost:8080/"
        },
        "id": "g2dow9WGyPxB",
        "outputId": "267705f2-d0b7-4f83-a510-ab09fdee15f8"
      },
      "execution_count": null,
      "outputs": [
        {
          "output_type": "execute_result",
          "data": {
            "text/plain": [
              "177"
            ]
          },
          "metadata": {},
          "execution_count": 150
        }
      ]
    },
    {
      "cell_type": "code",
      "source": [
        "# Preenche valores NaN com a mediana\n",
        "data['DIAS_INTERNA'].fillna(data['DIAS_INTERNA'].median(), inplace=True)"
      ],
      "metadata": {
        "id": "bwvZBrdmyPuq"
      },
      "execution_count": null,
      "outputs": []
    },
    {
      "cell_type": "code",
      "source": [
        "# Converte o tipo de dados de float para int\n",
        "data['DIAS_INTERNA'] = data['DIAS_INTERNA'].astype(int)"
      ],
      "metadata": {
        "id": "yaT9aerlyPr0"
      },
      "execution_count": null,
      "outputs": []
    },
    {
      "cell_type": "code",
      "source": [
        "data['DIAS_INTERNA'].info()"
      ],
      "metadata": {
        "colab": {
          "base_uri": "https://localhost:8080/"
        },
        "id": "n4jltrGYyPo0",
        "outputId": "36597017-0127-4712-fddf-58fa44c0dc38"
      },
      "execution_count": null,
      "outputs": [
        {
          "output_type": "stream",
          "name": "stdout",
          "text": [
            "<class 'pandas.core.series.Series'>\n",
            "RangeIndex: 17432 entries, 0 to 17431\n",
            "Series name: DIAS_INTERNA\n",
            "Non-Null Count  Dtype\n",
            "--------------  -----\n",
            "17432 non-null  int64\n",
            "dtypes: int64(1)\n",
            "memory usage: 136.3 KB\n"
          ]
        }
      ]
    },
    {
      "cell_type": "code",
      "source": [
        "data[['DT_INTERNA', 'DT_EVOLUCA', 'DT_SIN_PRI', 'DT_NOTIFIC', 'DT_PCR']]"
      ],
      "metadata": {
        "colab": {
          "base_uri": "https://localhost:8080/"
        },
        "id": "_WgxLIVgyPl9",
        "outputId": "12e829ce-417b-4e4e-bc36-38f7c5597e1e"
      },
      "execution_count": null,
      "outputs": [
        {
          "output_type": "execute_result",
          "data": {
            "text/plain": [
              "       DT_INTERNA  DT_EVOLUCA  DT_SIN_PRI  DT_NOTIFIC      DT_PCR\n",
              "0      05/01/2022  06/01/2022  03/01/2022  05/01/2022  09/01/2022\n",
              "1      07/01/2022  25/01/2022  05/01/2022  07/01/2022         NaN\n",
              "2      11/01/2022  13/01/2022  07/01/2022  10/01/2022  13/01/2022\n",
              "3      19/01/2022  07/02/2022  06/01/2022  19/01/2022  21/01/2022\n",
              "4      10/01/2022  13/01/2022  10/01/2022  10/01/2022  13/01/2022\n",
              "...           ...         ...         ...         ...         ...\n",
              "17427  28/06/2022  29/06/2022  26/06/2022  29/06/2022         NaN\n",
              "17428  09/08/2022  12/08/2022  06/08/2022  09/08/2022  15/08/2022\n",
              "17429  30/08/2022  01/09/2022  27/08/2022  30/08/2022  02/09/2022\n",
              "17430  09/11/2022  17/11/2022  03/11/2022  10/11/2022  17/11/2022\n",
              "17431  24/12/2022  29/12/2022  24/12/2022  24/12/2022  26/12/2022\n",
              "\n",
              "[17432 rows x 5 columns]"
            ],
            "text/html": [
              "\n",
              "\n",
              "  <div id=\"df-65a666ef-64cf-4fdb-a665-3604f6c902e4\">\n",
              "    <div class=\"colab-df-container\">\n",
              "      <div>\n",
              "<style scoped>\n",
              "    .dataframe tbody tr th:only-of-type {\n",
              "        vertical-align: middle;\n",
              "    }\n",
              "\n",
              "    .dataframe tbody tr th {\n",
              "        vertical-align: top;\n",
              "    }\n",
              "\n",
              "    .dataframe thead th {\n",
              "        text-align: right;\n",
              "    }\n",
              "</style>\n",
              "<table border=\"1\" class=\"dataframe\">\n",
              "  <thead>\n",
              "    <tr style=\"text-align: right;\">\n",
              "      <th></th>\n",
              "      <th>DT_INTERNA</th>\n",
              "      <th>DT_EVOLUCA</th>\n",
              "      <th>DT_SIN_PRI</th>\n",
              "      <th>DT_NOTIFIC</th>\n",
              "      <th>DT_PCR</th>\n",
              "    </tr>\n",
              "  </thead>\n",
              "  <tbody>\n",
              "    <tr>\n",
              "      <th>0</th>\n",
              "      <td>05/01/2022</td>\n",
              "      <td>06/01/2022</td>\n",
              "      <td>03/01/2022</td>\n",
              "      <td>05/01/2022</td>\n",
              "      <td>09/01/2022</td>\n",
              "    </tr>\n",
              "    <tr>\n",
              "      <th>1</th>\n",
              "      <td>07/01/2022</td>\n",
              "      <td>25/01/2022</td>\n",
              "      <td>05/01/2022</td>\n",
              "      <td>07/01/2022</td>\n",
              "      <td>NaN</td>\n",
              "    </tr>\n",
              "    <tr>\n",
              "      <th>2</th>\n",
              "      <td>11/01/2022</td>\n",
              "      <td>13/01/2022</td>\n",
              "      <td>07/01/2022</td>\n",
              "      <td>10/01/2022</td>\n",
              "      <td>13/01/2022</td>\n",
              "    </tr>\n",
              "    <tr>\n",
              "      <th>3</th>\n",
              "      <td>19/01/2022</td>\n",
              "      <td>07/02/2022</td>\n",
              "      <td>06/01/2022</td>\n",
              "      <td>19/01/2022</td>\n",
              "      <td>21/01/2022</td>\n",
              "    </tr>\n",
              "    <tr>\n",
              "      <th>4</th>\n",
              "      <td>10/01/2022</td>\n",
              "      <td>13/01/2022</td>\n",
              "      <td>10/01/2022</td>\n",
              "      <td>10/01/2022</td>\n",
              "      <td>13/01/2022</td>\n",
              "    </tr>\n",
              "    <tr>\n",
              "      <th>...</th>\n",
              "      <td>...</td>\n",
              "      <td>...</td>\n",
              "      <td>...</td>\n",
              "      <td>...</td>\n",
              "      <td>...</td>\n",
              "    </tr>\n",
              "    <tr>\n",
              "      <th>17427</th>\n",
              "      <td>28/06/2022</td>\n",
              "      <td>29/06/2022</td>\n",
              "      <td>26/06/2022</td>\n",
              "      <td>29/06/2022</td>\n",
              "      <td>NaN</td>\n",
              "    </tr>\n",
              "    <tr>\n",
              "      <th>17428</th>\n",
              "      <td>09/08/2022</td>\n",
              "      <td>12/08/2022</td>\n",
              "      <td>06/08/2022</td>\n",
              "      <td>09/08/2022</td>\n",
              "      <td>15/08/2022</td>\n",
              "    </tr>\n",
              "    <tr>\n",
              "      <th>17429</th>\n",
              "      <td>30/08/2022</td>\n",
              "      <td>01/09/2022</td>\n",
              "      <td>27/08/2022</td>\n",
              "      <td>30/08/2022</td>\n",
              "      <td>02/09/2022</td>\n",
              "    </tr>\n",
              "    <tr>\n",
              "      <th>17430</th>\n",
              "      <td>09/11/2022</td>\n",
              "      <td>17/11/2022</td>\n",
              "      <td>03/11/2022</td>\n",
              "      <td>10/11/2022</td>\n",
              "      <td>17/11/2022</td>\n",
              "    </tr>\n",
              "    <tr>\n",
              "      <th>17431</th>\n",
              "      <td>24/12/2022</td>\n",
              "      <td>29/12/2022</td>\n",
              "      <td>24/12/2022</td>\n",
              "      <td>24/12/2022</td>\n",
              "      <td>26/12/2022</td>\n",
              "    </tr>\n",
              "  </tbody>\n",
              "</table>\n",
              "<p>17432 rows × 5 columns</p>\n",
              "</div>\n",
              "      <button class=\"colab-df-convert\" onclick=\"convertToInteractive('df-65a666ef-64cf-4fdb-a665-3604f6c902e4')\"\n",
              "              title=\"Convert this dataframe to an interactive table.\"\n",
              "              style=\"display:none;\">\n",
              "\n",
              "  <svg xmlns=\"http://www.w3.org/2000/svg\" height=\"24px\"viewBox=\"0 0 24 24\"\n",
              "       width=\"24px\">\n",
              "    <path d=\"M0 0h24v24H0V0z\" fill=\"none\"/>\n",
              "    <path d=\"M18.56 5.44l.94 2.06.94-2.06 2.06-.94-2.06-.94-.94-2.06-.94 2.06-2.06.94zm-11 1L8.5 8.5l.94-2.06 2.06-.94-2.06-.94L8.5 2.5l-.94 2.06-2.06.94zm10 10l.94 2.06.94-2.06 2.06-.94-2.06-.94-.94-2.06-.94 2.06-2.06.94z\"/><path d=\"M17.41 7.96l-1.37-1.37c-.4-.4-.92-.59-1.43-.59-.52 0-1.04.2-1.43.59L10.3 9.45l-7.72 7.72c-.78.78-.78 2.05 0 2.83L4 21.41c.39.39.9.59 1.41.59.51 0 1.02-.2 1.41-.59l7.78-7.78 2.81-2.81c.8-.78.8-2.07 0-2.86zM5.41 20L4 18.59l7.72-7.72 1.47 1.35L5.41 20z\"/>\n",
              "  </svg>\n",
              "      </button>\n",
              "\n",
              "\n",
              "\n",
              "    <div id=\"df-eb0969f9-7379-4e22-b063-f91ec32da4a8\">\n",
              "      <button class=\"colab-df-quickchart\" onclick=\"quickchart('df-eb0969f9-7379-4e22-b063-f91ec32da4a8')\"\n",
              "              title=\"Suggest charts.\"\n",
              "              style=\"display:none;\">\n",
              "\n",
              "<svg xmlns=\"http://www.w3.org/2000/svg\" height=\"24px\"viewBox=\"0 0 24 24\"\n",
              "     width=\"24px\">\n",
              "    <g>\n",
              "        <path d=\"M19 3H5c-1.1 0-2 .9-2 2v14c0 1.1.9 2 2 2h14c1.1 0 2-.9 2-2V5c0-1.1-.9-2-2-2zM9 17H7v-7h2v7zm4 0h-2V7h2v10zm4 0h-2v-4h2v4z\"/>\n",
              "    </g>\n",
              "</svg>\n",
              "      </button>\n",
              "    </div>\n",
              "\n",
              "<style>\n",
              "  .colab-df-quickchart {\n",
              "    background-color: #E8F0FE;\n",
              "    border: none;\n",
              "    border-radius: 50%;\n",
              "    cursor: pointer;\n",
              "    display: none;\n",
              "    fill: #1967D2;\n",
              "    height: 32px;\n",
              "    padding: 0 0 0 0;\n",
              "    width: 32px;\n",
              "  }\n",
              "\n",
              "  .colab-df-quickchart:hover {\n",
              "    background-color: #E2EBFA;\n",
              "    box-shadow: 0px 1px 2px rgba(60, 64, 67, 0.3), 0px 1px 3px 1px rgba(60, 64, 67, 0.15);\n",
              "    fill: #174EA6;\n",
              "  }\n",
              "\n",
              "  [theme=dark] .colab-df-quickchart {\n",
              "    background-color: #3B4455;\n",
              "    fill: #D2E3FC;\n",
              "  }\n",
              "\n",
              "  [theme=dark] .colab-df-quickchart:hover {\n",
              "    background-color: #434B5C;\n",
              "    box-shadow: 0px 1px 3px 1px rgba(0, 0, 0, 0.15);\n",
              "    filter: drop-shadow(0px 1px 2px rgba(0, 0, 0, 0.3));\n",
              "    fill: #FFFFFF;\n",
              "  }\n",
              "</style>\n",
              "\n",
              "    <script>\n",
              "      async function quickchart(key) {\n",
              "        const containerElement = document.querySelector('#' + key);\n",
              "        const charts = await google.colab.kernel.invokeFunction(\n",
              "            'suggestCharts', [key], {});\n",
              "      }\n",
              "    </script>\n",
              "\n",
              "      <script>\n",
              "\n",
              "function displayQuickchartButton(domScope) {\n",
              "  let quickchartButtonEl =\n",
              "    domScope.querySelector('#df-eb0969f9-7379-4e22-b063-f91ec32da4a8 button.colab-df-quickchart');\n",
              "  quickchartButtonEl.style.display =\n",
              "    google.colab.kernel.accessAllowed ? 'block' : 'none';\n",
              "}\n",
              "\n",
              "        displayQuickchartButton(document);\n",
              "      </script>\n",
              "      <style>\n",
              "    .colab-df-container {\n",
              "      display:flex;\n",
              "      flex-wrap:wrap;\n",
              "      gap: 12px;\n",
              "    }\n",
              "\n",
              "    .colab-df-convert {\n",
              "      background-color: #E8F0FE;\n",
              "      border: none;\n",
              "      border-radius: 50%;\n",
              "      cursor: pointer;\n",
              "      display: none;\n",
              "      fill: #1967D2;\n",
              "      height: 32px;\n",
              "      padding: 0 0 0 0;\n",
              "      width: 32px;\n",
              "    }\n",
              "\n",
              "    .colab-df-convert:hover {\n",
              "      background-color: #E2EBFA;\n",
              "      box-shadow: 0px 1px 2px rgba(60, 64, 67, 0.3), 0px 1px 3px 1px rgba(60, 64, 67, 0.15);\n",
              "      fill: #174EA6;\n",
              "    }\n",
              "\n",
              "    [theme=dark] .colab-df-convert {\n",
              "      background-color: #3B4455;\n",
              "      fill: #D2E3FC;\n",
              "    }\n",
              "\n",
              "    [theme=dark] .colab-df-convert:hover {\n",
              "      background-color: #434B5C;\n",
              "      box-shadow: 0px 1px 3px 1px rgba(0, 0, 0, 0.15);\n",
              "      filter: drop-shadow(0px 1px 2px rgba(0, 0, 0, 0.3));\n",
              "      fill: #FFFFFF;\n",
              "    }\n",
              "  </style>\n",
              "\n",
              "      <script>\n",
              "        const buttonEl =\n",
              "          document.querySelector('#df-65a666ef-64cf-4fdb-a665-3604f6c902e4 button.colab-df-convert');\n",
              "        buttonEl.style.display =\n",
              "          google.colab.kernel.accessAllowed ? 'block' : 'none';\n",
              "\n",
              "        async function convertToInteractive(key) {\n",
              "          const element = document.querySelector('#df-65a666ef-64cf-4fdb-a665-3604f6c902e4');\n",
              "          const dataTable =\n",
              "            await google.colab.kernel.invokeFunction('convertToInteractive',\n",
              "                                                     [key], {});\n",
              "          if (!dataTable) return;\n",
              "\n",
              "          const docLinkHtml = 'Like what you see? Visit the ' +\n",
              "            '<a target=\"_blank\" href=https://colab.research.google.com/notebooks/data_table.ipynb>data table notebook</a>'\n",
              "            + ' to learn more about interactive tables.';\n",
              "          element.innerHTML = '';\n",
              "          dataTable['output_type'] = 'display_data';\n",
              "          await google.colab.output.renderOutput(dataTable, element);\n",
              "          const docLink = document.createElement('div');\n",
              "          docLink.innerHTML = docLinkHtml;\n",
              "          element.appendChild(docLink);\n",
              "        }\n",
              "      </script>\n",
              "    </div>\n",
              "  </div>\n"
            ]
          },
          "metadata": {},
          "execution_count": 154
        }
      ]
    },
    {
      "cell_type": "markdown",
      "source": [
        "Criação de uma coluna \"SINT_ATE_NOTIF\" que representa a quantidade de dias entre os primeiros sintomas do paciente até a notificação."
      ],
      "metadata": {
        "id": "HEl4IjDVPghG"
      }
    },
    {
      "cell_type": "markdown",
      "source": [
        "*DT_SIN_PRI com DT_NOTIFIC*"
      ],
      "metadata": {
        "id": "6vbSAhumRIzB"
      }
    },
    {
      "cell_type": "code",
      "source": [
        "data['SINT_ATE_NOTIF'] = ''"
      ],
      "metadata": {
        "id": "Es1VVyieyPi-"
      },
      "execution_count": null,
      "outputs": []
    },
    {
      "cell_type": "code",
      "source": [
        "# Calcula o intervalo de dias entre duas datas\n",
        "def calc_dias_sintomas(row):\n",
        "  data1 = datetime.strptime(row['DT_SIN_PRI'], '%d/%m/%Y')\n",
        "  data2 = datetime.strptime(row['DT_NOTIFIC'], '%d/%m/%Y')\n",
        "  return abs((data2 - data1).days)\n",
        "\n",
        "# Chama a função e atribui o resultado à coluna 'SINT_ATE_NOTIF'\n",
        "data['SINT_ATE_NOTIF'] = data.apply(calc_dias_sintomas, axis=1)"
      ],
      "metadata": {
        "id": "K6vDAsjryPgC"
      },
      "execution_count": null,
      "outputs": []
    },
    {
      "cell_type": "code",
      "source": [
        "data[['DT_SIN_PRI', 'DT_NOTIFIC', 'SINT_ATE_NOTIF']]"
      ],
      "metadata": {
        "colab": {
          "base_uri": "https://localhost:8080/"
        },
        "id": "tc7NyzQAyPc0",
        "outputId": "88cb788f-3e16-440f-c8f3-3ca78e2d55d0"
      },
      "execution_count": null,
      "outputs": [
        {
          "output_type": "execute_result",
          "data": {
            "text/plain": [
              "       DT_SIN_PRI  DT_NOTIFIC  SINT_ATE_NOTIF\n",
              "0      03/01/2022  05/01/2022               2\n",
              "1      05/01/2022  07/01/2022               2\n",
              "2      07/01/2022  10/01/2022               3\n",
              "3      06/01/2022  19/01/2022              13\n",
              "4      10/01/2022  10/01/2022               0\n",
              "...           ...         ...             ...\n",
              "17427  26/06/2022  29/06/2022               3\n",
              "17428  06/08/2022  09/08/2022               3\n",
              "17429  27/08/2022  30/08/2022               3\n",
              "17430  03/11/2022  10/11/2022               7\n",
              "17431  24/12/2022  24/12/2022               0\n",
              "\n",
              "[17432 rows x 3 columns]"
            ],
            "text/html": [
              "\n",
              "\n",
              "  <div id=\"df-38d07681-8fed-4629-a705-0916897c5074\">\n",
              "    <div class=\"colab-df-container\">\n",
              "      <div>\n",
              "<style scoped>\n",
              "    .dataframe tbody tr th:only-of-type {\n",
              "        vertical-align: middle;\n",
              "    }\n",
              "\n",
              "    .dataframe tbody tr th {\n",
              "        vertical-align: top;\n",
              "    }\n",
              "\n",
              "    .dataframe thead th {\n",
              "        text-align: right;\n",
              "    }\n",
              "</style>\n",
              "<table border=\"1\" class=\"dataframe\">\n",
              "  <thead>\n",
              "    <tr style=\"text-align: right;\">\n",
              "      <th></th>\n",
              "      <th>DT_SIN_PRI</th>\n",
              "      <th>DT_NOTIFIC</th>\n",
              "      <th>SINT_ATE_NOTIF</th>\n",
              "    </tr>\n",
              "  </thead>\n",
              "  <tbody>\n",
              "    <tr>\n",
              "      <th>0</th>\n",
              "      <td>03/01/2022</td>\n",
              "      <td>05/01/2022</td>\n",
              "      <td>2</td>\n",
              "    </tr>\n",
              "    <tr>\n",
              "      <th>1</th>\n",
              "      <td>05/01/2022</td>\n",
              "      <td>07/01/2022</td>\n",
              "      <td>2</td>\n",
              "    </tr>\n",
              "    <tr>\n",
              "      <th>2</th>\n",
              "      <td>07/01/2022</td>\n",
              "      <td>10/01/2022</td>\n",
              "      <td>3</td>\n",
              "    </tr>\n",
              "    <tr>\n",
              "      <th>3</th>\n",
              "      <td>06/01/2022</td>\n",
              "      <td>19/01/2022</td>\n",
              "      <td>13</td>\n",
              "    </tr>\n",
              "    <tr>\n",
              "      <th>4</th>\n",
              "      <td>10/01/2022</td>\n",
              "      <td>10/01/2022</td>\n",
              "      <td>0</td>\n",
              "    </tr>\n",
              "    <tr>\n",
              "      <th>...</th>\n",
              "      <td>...</td>\n",
              "      <td>...</td>\n",
              "      <td>...</td>\n",
              "    </tr>\n",
              "    <tr>\n",
              "      <th>17427</th>\n",
              "      <td>26/06/2022</td>\n",
              "      <td>29/06/2022</td>\n",
              "      <td>3</td>\n",
              "    </tr>\n",
              "    <tr>\n",
              "      <th>17428</th>\n",
              "      <td>06/08/2022</td>\n",
              "      <td>09/08/2022</td>\n",
              "      <td>3</td>\n",
              "    </tr>\n",
              "    <tr>\n",
              "      <th>17429</th>\n",
              "      <td>27/08/2022</td>\n",
              "      <td>30/08/2022</td>\n",
              "      <td>3</td>\n",
              "    </tr>\n",
              "    <tr>\n",
              "      <th>17430</th>\n",
              "      <td>03/11/2022</td>\n",
              "      <td>10/11/2022</td>\n",
              "      <td>7</td>\n",
              "    </tr>\n",
              "    <tr>\n",
              "      <th>17431</th>\n",
              "      <td>24/12/2022</td>\n",
              "      <td>24/12/2022</td>\n",
              "      <td>0</td>\n",
              "    </tr>\n",
              "  </tbody>\n",
              "</table>\n",
              "<p>17432 rows × 3 columns</p>\n",
              "</div>\n",
              "      <button class=\"colab-df-convert\" onclick=\"convertToInteractive('df-38d07681-8fed-4629-a705-0916897c5074')\"\n",
              "              title=\"Convert this dataframe to an interactive table.\"\n",
              "              style=\"display:none;\">\n",
              "\n",
              "  <svg xmlns=\"http://www.w3.org/2000/svg\" height=\"24px\"viewBox=\"0 0 24 24\"\n",
              "       width=\"24px\">\n",
              "    <path d=\"M0 0h24v24H0V0z\" fill=\"none\"/>\n",
              "    <path d=\"M18.56 5.44l.94 2.06.94-2.06 2.06-.94-2.06-.94-.94-2.06-.94 2.06-2.06.94zm-11 1L8.5 8.5l.94-2.06 2.06-.94-2.06-.94L8.5 2.5l-.94 2.06-2.06.94zm10 10l.94 2.06.94-2.06 2.06-.94-2.06-.94-.94-2.06-.94 2.06-2.06.94z\"/><path d=\"M17.41 7.96l-1.37-1.37c-.4-.4-.92-.59-1.43-.59-.52 0-1.04.2-1.43.59L10.3 9.45l-7.72 7.72c-.78.78-.78 2.05 0 2.83L4 21.41c.39.39.9.59 1.41.59.51 0 1.02-.2 1.41-.59l7.78-7.78 2.81-2.81c.8-.78.8-2.07 0-2.86zM5.41 20L4 18.59l7.72-7.72 1.47 1.35L5.41 20z\"/>\n",
              "  </svg>\n",
              "      </button>\n",
              "\n",
              "\n",
              "\n",
              "    <div id=\"df-fd3c9538-41b0-4b2e-9689-73d4470ad4e8\">\n",
              "      <button class=\"colab-df-quickchart\" onclick=\"quickchart('df-fd3c9538-41b0-4b2e-9689-73d4470ad4e8')\"\n",
              "              title=\"Suggest charts.\"\n",
              "              style=\"display:none;\">\n",
              "\n",
              "<svg xmlns=\"http://www.w3.org/2000/svg\" height=\"24px\"viewBox=\"0 0 24 24\"\n",
              "     width=\"24px\">\n",
              "    <g>\n",
              "        <path d=\"M19 3H5c-1.1 0-2 .9-2 2v14c0 1.1.9 2 2 2h14c1.1 0 2-.9 2-2V5c0-1.1-.9-2-2-2zM9 17H7v-7h2v7zm4 0h-2V7h2v10zm4 0h-2v-4h2v4z\"/>\n",
              "    </g>\n",
              "</svg>\n",
              "      </button>\n",
              "    </div>\n",
              "\n",
              "<style>\n",
              "  .colab-df-quickchart {\n",
              "    background-color: #E8F0FE;\n",
              "    border: none;\n",
              "    border-radius: 50%;\n",
              "    cursor: pointer;\n",
              "    display: none;\n",
              "    fill: #1967D2;\n",
              "    height: 32px;\n",
              "    padding: 0 0 0 0;\n",
              "    width: 32px;\n",
              "  }\n",
              "\n",
              "  .colab-df-quickchart:hover {\n",
              "    background-color: #E2EBFA;\n",
              "    box-shadow: 0px 1px 2px rgba(60, 64, 67, 0.3), 0px 1px 3px 1px rgba(60, 64, 67, 0.15);\n",
              "    fill: #174EA6;\n",
              "  }\n",
              "\n",
              "  [theme=dark] .colab-df-quickchart {\n",
              "    background-color: #3B4455;\n",
              "    fill: #D2E3FC;\n",
              "  }\n",
              "\n",
              "  [theme=dark] .colab-df-quickchart:hover {\n",
              "    background-color: #434B5C;\n",
              "    box-shadow: 0px 1px 3px 1px rgba(0, 0, 0, 0.15);\n",
              "    filter: drop-shadow(0px 1px 2px rgba(0, 0, 0, 0.3));\n",
              "    fill: #FFFFFF;\n",
              "  }\n",
              "</style>\n",
              "\n",
              "    <script>\n",
              "      async function quickchart(key) {\n",
              "        const containerElement = document.querySelector('#' + key);\n",
              "        const charts = await google.colab.kernel.invokeFunction(\n",
              "            'suggestCharts', [key], {});\n",
              "      }\n",
              "    </script>\n",
              "\n",
              "      <script>\n",
              "\n",
              "function displayQuickchartButton(domScope) {\n",
              "  let quickchartButtonEl =\n",
              "    domScope.querySelector('#df-fd3c9538-41b0-4b2e-9689-73d4470ad4e8 button.colab-df-quickchart');\n",
              "  quickchartButtonEl.style.display =\n",
              "    google.colab.kernel.accessAllowed ? 'block' : 'none';\n",
              "}\n",
              "\n",
              "        displayQuickchartButton(document);\n",
              "      </script>\n",
              "      <style>\n",
              "    .colab-df-container {\n",
              "      display:flex;\n",
              "      flex-wrap:wrap;\n",
              "      gap: 12px;\n",
              "    }\n",
              "\n",
              "    .colab-df-convert {\n",
              "      background-color: #E8F0FE;\n",
              "      border: none;\n",
              "      border-radius: 50%;\n",
              "      cursor: pointer;\n",
              "      display: none;\n",
              "      fill: #1967D2;\n",
              "      height: 32px;\n",
              "      padding: 0 0 0 0;\n",
              "      width: 32px;\n",
              "    }\n",
              "\n",
              "    .colab-df-convert:hover {\n",
              "      background-color: #E2EBFA;\n",
              "      box-shadow: 0px 1px 2px rgba(60, 64, 67, 0.3), 0px 1px 3px 1px rgba(60, 64, 67, 0.15);\n",
              "      fill: #174EA6;\n",
              "    }\n",
              "\n",
              "    [theme=dark] .colab-df-convert {\n",
              "      background-color: #3B4455;\n",
              "      fill: #D2E3FC;\n",
              "    }\n",
              "\n",
              "    [theme=dark] .colab-df-convert:hover {\n",
              "      background-color: #434B5C;\n",
              "      box-shadow: 0px 1px 3px 1px rgba(0, 0, 0, 0.15);\n",
              "      filter: drop-shadow(0px 1px 2px rgba(0, 0, 0, 0.3));\n",
              "      fill: #FFFFFF;\n",
              "    }\n",
              "  </style>\n",
              "\n",
              "      <script>\n",
              "        const buttonEl =\n",
              "          document.querySelector('#df-38d07681-8fed-4629-a705-0916897c5074 button.colab-df-convert');\n",
              "        buttonEl.style.display =\n",
              "          google.colab.kernel.accessAllowed ? 'block' : 'none';\n",
              "\n",
              "        async function convertToInteractive(key) {\n",
              "          const element = document.querySelector('#df-38d07681-8fed-4629-a705-0916897c5074');\n",
              "          const dataTable =\n",
              "            await google.colab.kernel.invokeFunction('convertToInteractive',\n",
              "                                                     [key], {});\n",
              "          if (!dataTable) return;\n",
              "\n",
              "          const docLinkHtml = 'Like what you see? Visit the ' +\n",
              "            '<a target=\"_blank\" href=https://colab.research.google.com/notebooks/data_table.ipynb>data table notebook</a>'\n",
              "            + ' to learn more about interactive tables.';\n",
              "          element.innerHTML = '';\n",
              "          dataTable['output_type'] = 'display_data';\n",
              "          await google.colab.output.renderOutput(dataTable, element);\n",
              "          const docLink = document.createElement('div');\n",
              "          docLink.innerHTML = docLinkHtml;\n",
              "          element.appendChild(docLink);\n",
              "        }\n",
              "      </script>\n",
              "    </div>\n",
              "  </div>\n"
            ]
          },
          "metadata": {},
          "execution_count": 157
        }
      ]
    },
    {
      "cell_type": "code",
      "source": [
        "data['SINT_ATE_NOTIF'].info()"
      ],
      "metadata": {
        "colab": {
          "base_uri": "https://localhost:8080/"
        },
        "id": "h08RPxkTyPaH",
        "outputId": "b1a8edca-6b65-4eb1-bfcf-dd4063c169fa"
      },
      "execution_count": null,
      "outputs": [
        {
          "output_type": "stream",
          "name": "stdout",
          "text": [
            "<class 'pandas.core.series.Series'>\n",
            "RangeIndex: 17432 entries, 0 to 17431\n",
            "Series name: SINT_ATE_NOTIF\n",
            "Non-Null Count  Dtype\n",
            "--------------  -----\n",
            "17432 non-null  int64\n",
            "dtypes: int64(1)\n",
            "memory usage: 136.3 KB\n"
          ]
        }
      ]
    },
    {
      "cell_type": "markdown",
      "source": [
        "Criação da coluna \"PCR_EVOLUCAO\" que calcula a diferença de dias entre a data do PCR e a data da evolução."
      ],
      "metadata": {
        "id": "1-u5dclISwAv"
      }
    },
    {
      "cell_type": "markdown",
      "source": [
        "*DT_PCR com DT_EVOLUCA*"
      ],
      "metadata": {
        "id": "N-1vOmXvSwAv"
      }
    },
    {
      "cell_type": "code",
      "source": [
        "data['PCR_EVOLUCAO'] = ''"
      ],
      "metadata": {
        "id": "-BT4t8gAyPXR"
      },
      "execution_count": null,
      "outputs": []
    },
    {
      "cell_type": "code",
      "source": [
        "# Calcula a diferença de dias entre duas datas\n",
        "def calc_pcr_evo(row):\n",
        "  if row['PCR_RESUL'] != 4:\n",
        "    if pd.isna(row['DT_PCR']) or pd.isna(row['DT_EVOLUCA']):\n",
        "      return np.nan\n",
        "    else:\n",
        "      data1 = datetime.strptime(row['DT_PCR'], '%d/%m/%Y')\n",
        "      data2 = datetime.strptime(row['DT_EVOLUCA'], '%d/%m/%Y')\n",
        "      return abs((data2 - data1).days)\n",
        "  else:\n",
        "    return 0\n",
        "\n",
        "# Chama a função e atribui o resultado à coluna 'PCR_EVOLUCAO'\n",
        "data['PCR_EVOLUCAO'] = data.apply(calc_pcr_evo, axis=1)"
      ],
      "metadata": {
        "id": "vkei31aPyPT0"
      },
      "execution_count": null,
      "outputs": []
    },
    {
      "cell_type": "code",
      "source": [
        "data[['DT_PCR', 'DT_EVOLUCA', 'PCR_EVOLUCAO']]"
      ],
      "metadata": {
        "colab": {
          "base_uri": "https://localhost:8080/"
        },
        "id": "-HJ36ev2yPQ-",
        "outputId": "245ac011-19c0-47b7-ab45-a717d023c797"
      },
      "execution_count": null,
      "outputs": [
        {
          "output_type": "execute_result",
          "data": {
            "text/plain": [
              "           DT_PCR  DT_EVOLUCA  PCR_EVOLUCAO\n",
              "0      09/01/2022  06/01/2022           3.0\n",
              "1             NaN  25/01/2022           0.0\n",
              "2      13/01/2022  13/01/2022           0.0\n",
              "3      21/01/2022  07/02/2022          17.0\n",
              "4      13/01/2022  13/01/2022           0.0\n",
              "...           ...         ...           ...\n",
              "17427         NaN  29/06/2022           0.0\n",
              "17428  15/08/2022  12/08/2022           3.0\n",
              "17429  02/09/2022  01/09/2022           1.0\n",
              "17430  17/11/2022  17/11/2022           0.0\n",
              "17431  26/12/2022  29/12/2022           3.0\n",
              "\n",
              "[17432 rows x 3 columns]"
            ],
            "text/html": [
              "\n",
              "\n",
              "  <div id=\"df-0d7c0149-225d-4e05-9318-848d4963d507\">\n",
              "    <div class=\"colab-df-container\">\n",
              "      <div>\n",
              "<style scoped>\n",
              "    .dataframe tbody tr th:only-of-type {\n",
              "        vertical-align: middle;\n",
              "    }\n",
              "\n",
              "    .dataframe tbody tr th {\n",
              "        vertical-align: top;\n",
              "    }\n",
              "\n",
              "    .dataframe thead th {\n",
              "        text-align: right;\n",
              "    }\n",
              "</style>\n",
              "<table border=\"1\" class=\"dataframe\">\n",
              "  <thead>\n",
              "    <tr style=\"text-align: right;\">\n",
              "      <th></th>\n",
              "      <th>DT_PCR</th>\n",
              "      <th>DT_EVOLUCA</th>\n",
              "      <th>PCR_EVOLUCAO</th>\n",
              "    </tr>\n",
              "  </thead>\n",
              "  <tbody>\n",
              "    <tr>\n",
              "      <th>0</th>\n",
              "      <td>09/01/2022</td>\n",
              "      <td>06/01/2022</td>\n",
              "      <td>3.0</td>\n",
              "    </tr>\n",
              "    <tr>\n",
              "      <th>1</th>\n",
              "      <td>NaN</td>\n",
              "      <td>25/01/2022</td>\n",
              "      <td>0.0</td>\n",
              "    </tr>\n",
              "    <tr>\n",
              "      <th>2</th>\n",
              "      <td>13/01/2022</td>\n",
              "      <td>13/01/2022</td>\n",
              "      <td>0.0</td>\n",
              "    </tr>\n",
              "    <tr>\n",
              "      <th>3</th>\n",
              "      <td>21/01/2022</td>\n",
              "      <td>07/02/2022</td>\n",
              "      <td>17.0</td>\n",
              "    </tr>\n",
              "    <tr>\n",
              "      <th>4</th>\n",
              "      <td>13/01/2022</td>\n",
              "      <td>13/01/2022</td>\n",
              "      <td>0.0</td>\n",
              "    </tr>\n",
              "    <tr>\n",
              "      <th>...</th>\n",
              "      <td>...</td>\n",
              "      <td>...</td>\n",
              "      <td>...</td>\n",
              "    </tr>\n",
              "    <tr>\n",
              "      <th>17427</th>\n",
              "      <td>NaN</td>\n",
              "      <td>29/06/2022</td>\n",
              "      <td>0.0</td>\n",
              "    </tr>\n",
              "    <tr>\n",
              "      <th>17428</th>\n",
              "      <td>15/08/2022</td>\n",
              "      <td>12/08/2022</td>\n",
              "      <td>3.0</td>\n",
              "    </tr>\n",
              "    <tr>\n",
              "      <th>17429</th>\n",
              "      <td>02/09/2022</td>\n",
              "      <td>01/09/2022</td>\n",
              "      <td>1.0</td>\n",
              "    </tr>\n",
              "    <tr>\n",
              "      <th>17430</th>\n",
              "      <td>17/11/2022</td>\n",
              "      <td>17/11/2022</td>\n",
              "      <td>0.0</td>\n",
              "    </tr>\n",
              "    <tr>\n",
              "      <th>17431</th>\n",
              "      <td>26/12/2022</td>\n",
              "      <td>29/12/2022</td>\n",
              "      <td>3.0</td>\n",
              "    </tr>\n",
              "  </tbody>\n",
              "</table>\n",
              "<p>17432 rows × 3 columns</p>\n",
              "</div>\n",
              "      <button class=\"colab-df-convert\" onclick=\"convertToInteractive('df-0d7c0149-225d-4e05-9318-848d4963d507')\"\n",
              "              title=\"Convert this dataframe to an interactive table.\"\n",
              "              style=\"display:none;\">\n",
              "\n",
              "  <svg xmlns=\"http://www.w3.org/2000/svg\" height=\"24px\"viewBox=\"0 0 24 24\"\n",
              "       width=\"24px\">\n",
              "    <path d=\"M0 0h24v24H0V0z\" fill=\"none\"/>\n",
              "    <path d=\"M18.56 5.44l.94 2.06.94-2.06 2.06-.94-2.06-.94-.94-2.06-.94 2.06-2.06.94zm-11 1L8.5 8.5l.94-2.06 2.06-.94-2.06-.94L8.5 2.5l-.94 2.06-2.06.94zm10 10l.94 2.06.94-2.06 2.06-.94-2.06-.94-.94-2.06-.94 2.06-2.06.94z\"/><path d=\"M17.41 7.96l-1.37-1.37c-.4-.4-.92-.59-1.43-.59-.52 0-1.04.2-1.43.59L10.3 9.45l-7.72 7.72c-.78.78-.78 2.05 0 2.83L4 21.41c.39.39.9.59 1.41.59.51 0 1.02-.2 1.41-.59l7.78-7.78 2.81-2.81c.8-.78.8-2.07 0-2.86zM5.41 20L4 18.59l7.72-7.72 1.47 1.35L5.41 20z\"/>\n",
              "  </svg>\n",
              "      </button>\n",
              "\n",
              "\n",
              "\n",
              "    <div id=\"df-48758a52-301a-4bc5-8116-ec277b642cf1\">\n",
              "      <button class=\"colab-df-quickchart\" onclick=\"quickchart('df-48758a52-301a-4bc5-8116-ec277b642cf1')\"\n",
              "              title=\"Suggest charts.\"\n",
              "              style=\"display:none;\">\n",
              "\n",
              "<svg xmlns=\"http://www.w3.org/2000/svg\" height=\"24px\"viewBox=\"0 0 24 24\"\n",
              "     width=\"24px\">\n",
              "    <g>\n",
              "        <path d=\"M19 3H5c-1.1 0-2 .9-2 2v14c0 1.1.9 2 2 2h14c1.1 0 2-.9 2-2V5c0-1.1-.9-2-2-2zM9 17H7v-7h2v7zm4 0h-2V7h2v10zm4 0h-2v-4h2v4z\"/>\n",
              "    </g>\n",
              "</svg>\n",
              "      </button>\n",
              "    </div>\n",
              "\n",
              "<style>\n",
              "  .colab-df-quickchart {\n",
              "    background-color: #E8F0FE;\n",
              "    border: none;\n",
              "    border-radius: 50%;\n",
              "    cursor: pointer;\n",
              "    display: none;\n",
              "    fill: #1967D2;\n",
              "    height: 32px;\n",
              "    padding: 0 0 0 0;\n",
              "    width: 32px;\n",
              "  }\n",
              "\n",
              "  .colab-df-quickchart:hover {\n",
              "    background-color: #E2EBFA;\n",
              "    box-shadow: 0px 1px 2px rgba(60, 64, 67, 0.3), 0px 1px 3px 1px rgba(60, 64, 67, 0.15);\n",
              "    fill: #174EA6;\n",
              "  }\n",
              "\n",
              "  [theme=dark] .colab-df-quickchart {\n",
              "    background-color: #3B4455;\n",
              "    fill: #D2E3FC;\n",
              "  }\n",
              "\n",
              "  [theme=dark] .colab-df-quickchart:hover {\n",
              "    background-color: #434B5C;\n",
              "    box-shadow: 0px 1px 3px 1px rgba(0, 0, 0, 0.15);\n",
              "    filter: drop-shadow(0px 1px 2px rgba(0, 0, 0, 0.3));\n",
              "    fill: #FFFFFF;\n",
              "  }\n",
              "</style>\n",
              "\n",
              "    <script>\n",
              "      async function quickchart(key) {\n",
              "        const containerElement = document.querySelector('#' + key);\n",
              "        const charts = await google.colab.kernel.invokeFunction(\n",
              "            'suggestCharts', [key], {});\n",
              "      }\n",
              "    </script>\n",
              "\n",
              "      <script>\n",
              "\n",
              "function displayQuickchartButton(domScope) {\n",
              "  let quickchartButtonEl =\n",
              "    domScope.querySelector('#df-48758a52-301a-4bc5-8116-ec277b642cf1 button.colab-df-quickchart');\n",
              "  quickchartButtonEl.style.display =\n",
              "    google.colab.kernel.accessAllowed ? 'block' : 'none';\n",
              "}\n",
              "\n",
              "        displayQuickchartButton(document);\n",
              "      </script>\n",
              "      <style>\n",
              "    .colab-df-container {\n",
              "      display:flex;\n",
              "      flex-wrap:wrap;\n",
              "      gap: 12px;\n",
              "    }\n",
              "\n",
              "    .colab-df-convert {\n",
              "      background-color: #E8F0FE;\n",
              "      border: none;\n",
              "      border-radius: 50%;\n",
              "      cursor: pointer;\n",
              "      display: none;\n",
              "      fill: #1967D2;\n",
              "      height: 32px;\n",
              "      padding: 0 0 0 0;\n",
              "      width: 32px;\n",
              "    }\n",
              "\n",
              "    .colab-df-convert:hover {\n",
              "      background-color: #E2EBFA;\n",
              "      box-shadow: 0px 1px 2px rgba(60, 64, 67, 0.3), 0px 1px 3px 1px rgba(60, 64, 67, 0.15);\n",
              "      fill: #174EA6;\n",
              "    }\n",
              "\n",
              "    [theme=dark] .colab-df-convert {\n",
              "      background-color: #3B4455;\n",
              "      fill: #D2E3FC;\n",
              "    }\n",
              "\n",
              "    [theme=dark] .colab-df-convert:hover {\n",
              "      background-color: #434B5C;\n",
              "      box-shadow: 0px 1px 3px 1px rgba(0, 0, 0, 0.15);\n",
              "      filter: drop-shadow(0px 1px 2px rgba(0, 0, 0, 0.3));\n",
              "      fill: #FFFFFF;\n",
              "    }\n",
              "  </style>\n",
              "\n",
              "      <script>\n",
              "        const buttonEl =\n",
              "          document.querySelector('#df-0d7c0149-225d-4e05-9318-848d4963d507 button.colab-df-convert');\n",
              "        buttonEl.style.display =\n",
              "          google.colab.kernel.accessAllowed ? 'block' : 'none';\n",
              "\n",
              "        async function convertToInteractive(key) {\n",
              "          const element = document.querySelector('#df-0d7c0149-225d-4e05-9318-848d4963d507');\n",
              "          const dataTable =\n",
              "            await google.colab.kernel.invokeFunction('convertToInteractive',\n",
              "                                                     [key], {});\n",
              "          if (!dataTable) return;\n",
              "\n",
              "          const docLinkHtml = 'Like what you see? Visit the ' +\n",
              "            '<a target=\"_blank\" href=https://colab.research.google.com/notebooks/data_table.ipynb>data table notebook</a>'\n",
              "            + ' to learn more about interactive tables.';\n",
              "          element.innerHTML = '';\n",
              "          dataTable['output_type'] = 'display_data';\n",
              "          await google.colab.output.renderOutput(dataTable, element);\n",
              "          const docLink = document.createElement('div');\n",
              "          docLink.innerHTML = docLinkHtml;\n",
              "          element.appendChild(docLink);\n",
              "        }\n",
              "      </script>\n",
              "    </div>\n",
              "  </div>\n"
            ]
          },
          "metadata": {},
          "execution_count": 161
        }
      ]
    },
    {
      "cell_type": "code",
      "source": [
        "data['PCR_EVOLUCAO'].info()"
      ],
      "metadata": {
        "colab": {
          "base_uri": "https://localhost:8080/"
        },
        "id": "z68sa1aUyPOI",
        "outputId": "3f8a948d-2223-45d2-a040-c971662f2663"
      },
      "execution_count": null,
      "outputs": [
        {
          "output_type": "stream",
          "name": "stdout",
          "text": [
            "<class 'pandas.core.series.Series'>\n",
            "RangeIndex: 17432 entries, 0 to 17431\n",
            "Series name: PCR_EVOLUCAO\n",
            "Non-Null Count  Dtype  \n",
            "--------------  -----  \n",
            "15486 non-null  float64\n",
            "dtypes: float64(1)\n",
            "memory usage: 136.3 KB\n"
          ]
        }
      ]
    },
    {
      "cell_type": "code",
      "source": [
        "# Calcula a mediana de 'PCR_EVOLUCAO'\n",
        "data['PCR_EVOLUCAO'].median()"
      ],
      "metadata": {
        "colab": {
          "base_uri": "https://localhost:8080/"
        },
        "id": "HWxL9bOdyPLS",
        "outputId": "ec0a333a-93a8-4c70-f493-137cc9692efe"
      },
      "execution_count": null,
      "outputs": [
        {
          "output_type": "execute_result",
          "data": {
            "text/plain": [
              "2.0"
            ]
          },
          "metadata": {},
          "execution_count": 163
        }
      ]
    },
    {
      "cell_type": "code",
      "source": [
        "# Conta os valores NaN em 'PCR_EVOLUCAO'\n",
        "data['PCR_EVOLUCAO'].isnull().sum()"
      ],
      "metadata": {
        "colab": {
          "base_uri": "https://localhost:8080/"
        },
        "id": "fHX3PeLcyPIc",
        "outputId": "db7aab79-e78b-4cfc-ba34-975af5ae8e23"
      },
      "execution_count": null,
      "outputs": [
        {
          "output_type": "execute_result",
          "data": {
            "text/plain": [
              "1946"
            ]
          },
          "metadata": {},
          "execution_count": 164
        }
      ]
    },
    {
      "cell_type": "code",
      "source": [
        "# Preenche valores NaN com a mediana\n",
        "data['PCR_EVOLUCAO'].fillna(data['PCR_EVOLUCAO'].median(), inplace=True)"
      ],
      "metadata": {
        "id": "FOqGSQE0yPCe"
      },
      "execution_count": null,
      "outputs": []
    },
    {
      "cell_type": "code",
      "source": [
        "# Converte o tipo de dados de float para int\n",
        "data['PCR_EVOLUCAO'] = data['PCR_EVOLUCAO'].astype(int)"
      ],
      "metadata": {
        "id": "TihvztPiyO_8"
      },
      "execution_count": null,
      "outputs": []
    },
    {
      "cell_type": "code",
      "source": [
        "data['PCR_EVOLUCAO'].info()"
      ],
      "metadata": {
        "colab": {
          "base_uri": "https://localhost:8080/"
        },
        "id": "Tc6jhGKhy65U",
        "outputId": "1a96477c-a76c-4735-e992-b2228cabc03a"
      },
      "execution_count": null,
      "outputs": [
        {
          "output_type": "stream",
          "name": "stdout",
          "text": [
            "<class 'pandas.core.series.Series'>\n",
            "RangeIndex: 17432 entries, 0 to 17431\n",
            "Series name: PCR_EVOLUCAO\n",
            "Non-Null Count  Dtype\n",
            "--------------  -----\n",
            "17432 non-null  int64\n",
            "dtypes: int64(1)\n",
            "memory usage: 136.3 KB\n"
          ]
        }
      ]
    },
    {
      "cell_type": "markdown",
      "source": [
        "SEGUNDA DOSE\n",
        "\n",
        "Criação da coluna \"DIAS_DOSE2\" que calcula a quantidade de dias da data da segunda dose até a notificação."
      ],
      "metadata": {
        "id": "y2Il2TahUNy6"
      }
    },
    {
      "cell_type": "markdown",
      "source": [
        "*DOSE_2_COV com DT_NOTIFIC*"
      ],
      "metadata": {
        "id": "MfRtoGK1UNy_"
      }
    },
    {
      "cell_type": "code",
      "source": [
        "data['DIAS_DOSE2'] = ''"
      ],
      "metadata": {
        "id": "XoqavVsEy9jc"
      },
      "execution_count": null,
      "outputs": []
    },
    {
      "cell_type": "code",
      "source": [
        "# Calcula o intervalo de dias entre duas datas\n",
        "def vac_segunda_dose(row):\n",
        "  if row['VACINA_COV'] == 1:\n",
        "    if pd.isna(row['DOSE_2_COV']):\n",
        "      return np.nan\n",
        "    else:\n",
        "      data1 = datetime.strptime(row['DOSE_2_COV'], '%d/%m/%Y')\n",
        "      data2 = datetime.strptime(row['DT_NOTIFIC'], '%d/%m/%Y')\n",
        "      return abs((data2 - data1).days)\n",
        "  else:\n",
        "    return 0\n",
        "\n",
        "# Chama a função e atribui o resultado à coluna 'DIAS_DOSE2'\n",
        "data['DIAS_DOSE2'] = data.apply(vac_segunda_dose, axis=1)"
      ],
      "metadata": {
        "id": "-CA3sXyPy9nF"
      },
      "execution_count": null,
      "outputs": []
    },
    {
      "cell_type": "code",
      "source": [
        "data[['DOSE_1_COV','DOSE_2_COV', 'DT_NOTIFIC', 'DIAS_DOSE2']]"
      ],
      "metadata": {
        "colab": {
          "base_uri": "https://localhost:8080/"
        },
        "id": "DVevhHdgy9qZ",
        "outputId": "7070dbbc-17da-4b19-e066-ecd9c5e5b666"
      },
      "execution_count": null,
      "outputs": [
        {
          "output_type": "execute_result",
          "data": {
            "text/plain": [
              "       DOSE_1_COV  DOSE_2_COV  DT_NOTIFIC  DIAS_DOSE2\n",
              "0      17/08/2021  05/11/2021  05/01/2022        61.0\n",
              "1      27/03/2021  19/04/2021  07/01/2022       263.0\n",
              "2      10/06/2021  30/09/2021  10/01/2022       102.0\n",
              "3             NaN         NaN  19/01/2022         0.0\n",
              "4      24/06/2021  16/09/2021  10/01/2022       116.0\n",
              "...           ...         ...         ...         ...\n",
              "17427         NaN         NaN  29/06/2022         0.0\n",
              "17428  19/02/2021  16/03/2021  09/08/2022       511.0\n",
              "17429         NaN  16/03/2021  30/08/2022       532.0\n",
              "17430  23/03/2021  14/04/2021  10/11/2022       575.0\n",
              "17431  30/03/2021  27/04/2021  24/12/2022       606.0\n",
              "\n",
              "[17432 rows x 4 columns]"
            ],
            "text/html": [
              "\n",
              "\n",
              "  <div id=\"df-91928dde-a9f8-4a0a-8b56-3a85b1372300\">\n",
              "    <div class=\"colab-df-container\">\n",
              "      <div>\n",
              "<style scoped>\n",
              "    .dataframe tbody tr th:only-of-type {\n",
              "        vertical-align: middle;\n",
              "    }\n",
              "\n",
              "    .dataframe tbody tr th {\n",
              "        vertical-align: top;\n",
              "    }\n",
              "\n",
              "    .dataframe thead th {\n",
              "        text-align: right;\n",
              "    }\n",
              "</style>\n",
              "<table border=\"1\" class=\"dataframe\">\n",
              "  <thead>\n",
              "    <tr style=\"text-align: right;\">\n",
              "      <th></th>\n",
              "      <th>DOSE_1_COV</th>\n",
              "      <th>DOSE_2_COV</th>\n",
              "      <th>DT_NOTIFIC</th>\n",
              "      <th>DIAS_DOSE2</th>\n",
              "    </tr>\n",
              "  </thead>\n",
              "  <tbody>\n",
              "    <tr>\n",
              "      <th>0</th>\n",
              "      <td>17/08/2021</td>\n",
              "      <td>05/11/2021</td>\n",
              "      <td>05/01/2022</td>\n",
              "      <td>61.0</td>\n",
              "    </tr>\n",
              "    <tr>\n",
              "      <th>1</th>\n",
              "      <td>27/03/2021</td>\n",
              "      <td>19/04/2021</td>\n",
              "      <td>07/01/2022</td>\n",
              "      <td>263.0</td>\n",
              "    </tr>\n",
              "    <tr>\n",
              "      <th>2</th>\n",
              "      <td>10/06/2021</td>\n",
              "      <td>30/09/2021</td>\n",
              "      <td>10/01/2022</td>\n",
              "      <td>102.0</td>\n",
              "    </tr>\n",
              "    <tr>\n",
              "      <th>3</th>\n",
              "      <td>NaN</td>\n",
              "      <td>NaN</td>\n",
              "      <td>19/01/2022</td>\n",
              "      <td>0.0</td>\n",
              "    </tr>\n",
              "    <tr>\n",
              "      <th>4</th>\n",
              "      <td>24/06/2021</td>\n",
              "      <td>16/09/2021</td>\n",
              "      <td>10/01/2022</td>\n",
              "      <td>116.0</td>\n",
              "    </tr>\n",
              "    <tr>\n",
              "      <th>...</th>\n",
              "      <td>...</td>\n",
              "      <td>...</td>\n",
              "      <td>...</td>\n",
              "      <td>...</td>\n",
              "    </tr>\n",
              "    <tr>\n",
              "      <th>17427</th>\n",
              "      <td>NaN</td>\n",
              "      <td>NaN</td>\n",
              "      <td>29/06/2022</td>\n",
              "      <td>0.0</td>\n",
              "    </tr>\n",
              "    <tr>\n",
              "      <th>17428</th>\n",
              "      <td>19/02/2021</td>\n",
              "      <td>16/03/2021</td>\n",
              "      <td>09/08/2022</td>\n",
              "      <td>511.0</td>\n",
              "    </tr>\n",
              "    <tr>\n",
              "      <th>17429</th>\n",
              "      <td>NaN</td>\n",
              "      <td>16/03/2021</td>\n",
              "      <td>30/08/2022</td>\n",
              "      <td>532.0</td>\n",
              "    </tr>\n",
              "    <tr>\n",
              "      <th>17430</th>\n",
              "      <td>23/03/2021</td>\n",
              "      <td>14/04/2021</td>\n",
              "      <td>10/11/2022</td>\n",
              "      <td>575.0</td>\n",
              "    </tr>\n",
              "    <tr>\n",
              "      <th>17431</th>\n",
              "      <td>30/03/2021</td>\n",
              "      <td>27/04/2021</td>\n",
              "      <td>24/12/2022</td>\n",
              "      <td>606.0</td>\n",
              "    </tr>\n",
              "  </tbody>\n",
              "</table>\n",
              "<p>17432 rows × 4 columns</p>\n",
              "</div>\n",
              "      <button class=\"colab-df-convert\" onclick=\"convertToInteractive('df-91928dde-a9f8-4a0a-8b56-3a85b1372300')\"\n",
              "              title=\"Convert this dataframe to an interactive table.\"\n",
              "              style=\"display:none;\">\n",
              "\n",
              "  <svg xmlns=\"http://www.w3.org/2000/svg\" height=\"24px\"viewBox=\"0 0 24 24\"\n",
              "       width=\"24px\">\n",
              "    <path d=\"M0 0h24v24H0V0z\" fill=\"none\"/>\n",
              "    <path d=\"M18.56 5.44l.94 2.06.94-2.06 2.06-.94-2.06-.94-.94-2.06-.94 2.06-2.06.94zm-11 1L8.5 8.5l.94-2.06 2.06-.94-2.06-.94L8.5 2.5l-.94 2.06-2.06.94zm10 10l.94 2.06.94-2.06 2.06-.94-2.06-.94-.94-2.06-.94 2.06-2.06.94z\"/><path d=\"M17.41 7.96l-1.37-1.37c-.4-.4-.92-.59-1.43-.59-.52 0-1.04.2-1.43.59L10.3 9.45l-7.72 7.72c-.78.78-.78 2.05 0 2.83L4 21.41c.39.39.9.59 1.41.59.51 0 1.02-.2 1.41-.59l7.78-7.78 2.81-2.81c.8-.78.8-2.07 0-2.86zM5.41 20L4 18.59l7.72-7.72 1.47 1.35L5.41 20z\"/>\n",
              "  </svg>\n",
              "      </button>\n",
              "\n",
              "\n",
              "\n",
              "    <div id=\"df-a002ac35-77d2-428e-b6f9-4dcc3cd87140\">\n",
              "      <button class=\"colab-df-quickchart\" onclick=\"quickchart('df-a002ac35-77d2-428e-b6f9-4dcc3cd87140')\"\n",
              "              title=\"Suggest charts.\"\n",
              "              style=\"display:none;\">\n",
              "\n",
              "<svg xmlns=\"http://www.w3.org/2000/svg\" height=\"24px\"viewBox=\"0 0 24 24\"\n",
              "     width=\"24px\">\n",
              "    <g>\n",
              "        <path d=\"M19 3H5c-1.1 0-2 .9-2 2v14c0 1.1.9 2 2 2h14c1.1 0 2-.9 2-2V5c0-1.1-.9-2-2-2zM9 17H7v-7h2v7zm4 0h-2V7h2v10zm4 0h-2v-4h2v4z\"/>\n",
              "    </g>\n",
              "</svg>\n",
              "      </button>\n",
              "    </div>\n",
              "\n",
              "<style>\n",
              "  .colab-df-quickchart {\n",
              "    background-color: #E8F0FE;\n",
              "    border: none;\n",
              "    border-radius: 50%;\n",
              "    cursor: pointer;\n",
              "    display: none;\n",
              "    fill: #1967D2;\n",
              "    height: 32px;\n",
              "    padding: 0 0 0 0;\n",
              "    width: 32px;\n",
              "  }\n",
              "\n",
              "  .colab-df-quickchart:hover {\n",
              "    background-color: #E2EBFA;\n",
              "    box-shadow: 0px 1px 2px rgba(60, 64, 67, 0.3), 0px 1px 3px 1px rgba(60, 64, 67, 0.15);\n",
              "    fill: #174EA6;\n",
              "  }\n",
              "\n",
              "  [theme=dark] .colab-df-quickchart {\n",
              "    background-color: #3B4455;\n",
              "    fill: #D2E3FC;\n",
              "  }\n",
              "\n",
              "  [theme=dark] .colab-df-quickchart:hover {\n",
              "    background-color: #434B5C;\n",
              "    box-shadow: 0px 1px 3px 1px rgba(0, 0, 0, 0.15);\n",
              "    filter: drop-shadow(0px 1px 2px rgba(0, 0, 0, 0.3));\n",
              "    fill: #FFFFFF;\n",
              "  }\n",
              "</style>\n",
              "\n",
              "    <script>\n",
              "      async function quickchart(key) {\n",
              "        const containerElement = document.querySelector('#' + key);\n",
              "        const charts = await google.colab.kernel.invokeFunction(\n",
              "            'suggestCharts', [key], {});\n",
              "      }\n",
              "    </script>\n",
              "\n",
              "      <script>\n",
              "\n",
              "function displayQuickchartButton(domScope) {\n",
              "  let quickchartButtonEl =\n",
              "    domScope.querySelector('#df-a002ac35-77d2-428e-b6f9-4dcc3cd87140 button.colab-df-quickchart');\n",
              "  quickchartButtonEl.style.display =\n",
              "    google.colab.kernel.accessAllowed ? 'block' : 'none';\n",
              "}\n",
              "\n",
              "        displayQuickchartButton(document);\n",
              "      </script>\n",
              "      <style>\n",
              "    .colab-df-container {\n",
              "      display:flex;\n",
              "      flex-wrap:wrap;\n",
              "      gap: 12px;\n",
              "    }\n",
              "\n",
              "    .colab-df-convert {\n",
              "      background-color: #E8F0FE;\n",
              "      border: none;\n",
              "      border-radius: 50%;\n",
              "      cursor: pointer;\n",
              "      display: none;\n",
              "      fill: #1967D2;\n",
              "      height: 32px;\n",
              "      padding: 0 0 0 0;\n",
              "      width: 32px;\n",
              "    }\n",
              "\n",
              "    .colab-df-convert:hover {\n",
              "      background-color: #E2EBFA;\n",
              "      box-shadow: 0px 1px 2px rgba(60, 64, 67, 0.3), 0px 1px 3px 1px rgba(60, 64, 67, 0.15);\n",
              "      fill: #174EA6;\n",
              "    }\n",
              "\n",
              "    [theme=dark] .colab-df-convert {\n",
              "      background-color: #3B4455;\n",
              "      fill: #D2E3FC;\n",
              "    }\n",
              "\n",
              "    [theme=dark] .colab-df-convert:hover {\n",
              "      background-color: #434B5C;\n",
              "      box-shadow: 0px 1px 3px 1px rgba(0, 0, 0, 0.15);\n",
              "      filter: drop-shadow(0px 1px 2px rgba(0, 0, 0, 0.3));\n",
              "      fill: #FFFFFF;\n",
              "    }\n",
              "  </style>\n",
              "\n",
              "      <script>\n",
              "        const buttonEl =\n",
              "          document.querySelector('#df-91928dde-a9f8-4a0a-8b56-3a85b1372300 button.colab-df-convert');\n",
              "        buttonEl.style.display =\n",
              "          google.colab.kernel.accessAllowed ? 'block' : 'none';\n",
              "\n",
              "        async function convertToInteractive(key) {\n",
              "          const element = document.querySelector('#df-91928dde-a9f8-4a0a-8b56-3a85b1372300');\n",
              "          const dataTable =\n",
              "            await google.colab.kernel.invokeFunction('convertToInteractive',\n",
              "                                                     [key], {});\n",
              "          if (!dataTable) return;\n",
              "\n",
              "          const docLinkHtml = 'Like what you see? Visit the ' +\n",
              "            '<a target=\"_blank\" href=https://colab.research.google.com/notebooks/data_table.ipynb>data table notebook</a>'\n",
              "            + ' to learn more about interactive tables.';\n",
              "          element.innerHTML = '';\n",
              "          dataTable['output_type'] = 'display_data';\n",
              "          await google.colab.output.renderOutput(dataTable, element);\n",
              "          const docLink = document.createElement('div');\n",
              "          docLink.innerHTML = docLinkHtml;\n",
              "          element.appendChild(docLink);\n",
              "        }\n",
              "      </script>\n",
              "    </div>\n",
              "  </div>\n"
            ]
          },
          "metadata": {},
          "execution_count": 170
        }
      ]
    },
    {
      "cell_type": "code",
      "source": [
        "data['DIAS_DOSE2'].info()"
      ],
      "metadata": {
        "colab": {
          "base_uri": "https://localhost:8080/"
        },
        "id": "HfUrdM26y9tc",
        "outputId": "8ad4e12c-6709-4c27-b793-345a26097582"
      },
      "execution_count": null,
      "outputs": [
        {
          "output_type": "stream",
          "name": "stdout",
          "text": [
            "<class 'pandas.core.series.Series'>\n",
            "RangeIndex: 17432 entries, 0 to 17431\n",
            "Series name: DIAS_DOSE2\n",
            "Non-Null Count  Dtype  \n",
            "--------------  -----  \n",
            "16254 non-null  float64\n",
            "dtypes: float64(1)\n",
            "memory usage: 136.3 KB\n"
          ]
        }
      ]
    },
    {
      "cell_type": "code",
      "source": [
        "# Calcula a mediana\n",
        "data['DIAS_DOSE2'].median()"
      ],
      "metadata": {
        "colab": {
          "base_uri": "https://localhost:8080/"
        },
        "id": "tTLFAVgay9xA",
        "outputId": "26ba72b1-e2d9-4b66-eb7c-3efcccbd0fc7"
      },
      "execution_count": null,
      "outputs": [
        {
          "output_type": "execute_result",
          "data": {
            "text/plain": [
              "280.0"
            ]
          },
          "metadata": {},
          "execution_count": 172
        }
      ]
    },
    {
      "cell_type": "code",
      "source": [
        "# Conta os valores NaN\n",
        "data['DIAS_DOSE2'].isnull().sum()"
      ],
      "metadata": {
        "colab": {
          "base_uri": "https://localhost:8080/"
        },
        "id": "Rmh3yB3Uy90U",
        "outputId": "271207ce-01d4-4985-c307-1fcb7e1faa51"
      },
      "execution_count": null,
      "outputs": [
        {
          "output_type": "execute_result",
          "data": {
            "text/plain": [
              "1178"
            ]
          },
          "metadata": {},
          "execution_count": 173
        }
      ]
    },
    {
      "cell_type": "code",
      "source": [
        "# Preenche valores NaN com a mediana\n",
        "data['DIAS_DOSE2'].fillna(data['DIAS_DOSE2'].median(), inplace=True)\n",
        "\n",
        "# Converte o tipo de dados de float para int\n",
        "data['DIAS_DOSE2'] = data['DIAS_DOSE2'].astype(int)"
      ],
      "metadata": {
        "id": "TOhjp547y93g"
      },
      "execution_count": null,
      "outputs": []
    },
    {
      "cell_type": "code",
      "source": [
        "data['DIAS_DOSE2'].info()"
      ],
      "metadata": {
        "colab": {
          "base_uri": "https://localhost:8080/"
        },
        "id": "Ll1Scjr1y97J",
        "outputId": "fa6af332-04d3-4577-aed3-554bc4d61d05"
      },
      "execution_count": null,
      "outputs": [
        {
          "output_type": "stream",
          "name": "stdout",
          "text": [
            "<class 'pandas.core.series.Series'>\n",
            "RangeIndex: 17432 entries, 0 to 17431\n",
            "Series name: DIAS_DOSE2\n",
            "Non-Null Count  Dtype\n",
            "--------------  -----\n",
            "17432 non-null  int64\n",
            "dtypes: int64(1)\n",
            "memory usage: 136.3 KB\n"
          ]
        }
      ]
    },
    {
      "cell_type": "markdown",
      "source": [
        "PRIMEIRA DOSE"
      ],
      "metadata": {
        "id": "Jys3bE1Xi-eS"
      }
    },
    {
      "cell_type": "code",
      "source": [
        "# Instância 17429\n",
        "data[['DOSE_1_COV','DOSE_2_COV', 'DT_NOTIFIC', 'DIAS_DOSE2']]"
      ],
      "metadata": {
        "colab": {
          "base_uri": "https://localhost:8080/"
        },
        "id": "OOZK6bWyy-Cp",
        "outputId": "4ea0ff6e-da08-4a7c-823e-e2aeeaf029b8"
      },
      "execution_count": null,
      "outputs": [
        {
          "output_type": "execute_result",
          "data": {
            "text/plain": [
              "       DOSE_1_COV  DOSE_2_COV  DT_NOTIFIC  DIAS_DOSE2\n",
              "0      17/08/2021  05/11/2021  05/01/2022          61\n",
              "1      27/03/2021  19/04/2021  07/01/2022         263\n",
              "2      10/06/2021  30/09/2021  10/01/2022         102\n",
              "3             NaN         NaN  19/01/2022           0\n",
              "4      24/06/2021  16/09/2021  10/01/2022         116\n",
              "...           ...         ...         ...         ...\n",
              "17427         NaN         NaN  29/06/2022           0\n",
              "17428  19/02/2021  16/03/2021  09/08/2022         511\n",
              "17429         NaN  16/03/2021  30/08/2022         532\n",
              "17430  23/03/2021  14/04/2021  10/11/2022         575\n",
              "17431  30/03/2021  27/04/2021  24/12/2022         606\n",
              "\n",
              "[17432 rows x 4 columns]"
            ],
            "text/html": [
              "\n",
              "\n",
              "  <div id=\"df-6d217012-95c0-4725-9ef1-f99d4d522cd6\">\n",
              "    <div class=\"colab-df-container\">\n",
              "      <div>\n",
              "<style scoped>\n",
              "    .dataframe tbody tr th:only-of-type {\n",
              "        vertical-align: middle;\n",
              "    }\n",
              "\n",
              "    .dataframe tbody tr th {\n",
              "        vertical-align: top;\n",
              "    }\n",
              "\n",
              "    .dataframe thead th {\n",
              "        text-align: right;\n",
              "    }\n",
              "</style>\n",
              "<table border=\"1\" class=\"dataframe\">\n",
              "  <thead>\n",
              "    <tr style=\"text-align: right;\">\n",
              "      <th></th>\n",
              "      <th>DOSE_1_COV</th>\n",
              "      <th>DOSE_2_COV</th>\n",
              "      <th>DT_NOTIFIC</th>\n",
              "      <th>DIAS_DOSE2</th>\n",
              "    </tr>\n",
              "  </thead>\n",
              "  <tbody>\n",
              "    <tr>\n",
              "      <th>0</th>\n",
              "      <td>17/08/2021</td>\n",
              "      <td>05/11/2021</td>\n",
              "      <td>05/01/2022</td>\n",
              "      <td>61</td>\n",
              "    </tr>\n",
              "    <tr>\n",
              "      <th>1</th>\n",
              "      <td>27/03/2021</td>\n",
              "      <td>19/04/2021</td>\n",
              "      <td>07/01/2022</td>\n",
              "      <td>263</td>\n",
              "    </tr>\n",
              "    <tr>\n",
              "      <th>2</th>\n",
              "      <td>10/06/2021</td>\n",
              "      <td>30/09/2021</td>\n",
              "      <td>10/01/2022</td>\n",
              "      <td>102</td>\n",
              "    </tr>\n",
              "    <tr>\n",
              "      <th>3</th>\n",
              "      <td>NaN</td>\n",
              "      <td>NaN</td>\n",
              "      <td>19/01/2022</td>\n",
              "      <td>0</td>\n",
              "    </tr>\n",
              "    <tr>\n",
              "      <th>4</th>\n",
              "      <td>24/06/2021</td>\n",
              "      <td>16/09/2021</td>\n",
              "      <td>10/01/2022</td>\n",
              "      <td>116</td>\n",
              "    </tr>\n",
              "    <tr>\n",
              "      <th>...</th>\n",
              "      <td>...</td>\n",
              "      <td>...</td>\n",
              "      <td>...</td>\n",
              "      <td>...</td>\n",
              "    </tr>\n",
              "    <tr>\n",
              "      <th>17427</th>\n",
              "      <td>NaN</td>\n",
              "      <td>NaN</td>\n",
              "      <td>29/06/2022</td>\n",
              "      <td>0</td>\n",
              "    </tr>\n",
              "    <tr>\n",
              "      <th>17428</th>\n",
              "      <td>19/02/2021</td>\n",
              "      <td>16/03/2021</td>\n",
              "      <td>09/08/2022</td>\n",
              "      <td>511</td>\n",
              "    </tr>\n",
              "    <tr>\n",
              "      <th>17429</th>\n",
              "      <td>NaN</td>\n",
              "      <td>16/03/2021</td>\n",
              "      <td>30/08/2022</td>\n",
              "      <td>532</td>\n",
              "    </tr>\n",
              "    <tr>\n",
              "      <th>17430</th>\n",
              "      <td>23/03/2021</td>\n",
              "      <td>14/04/2021</td>\n",
              "      <td>10/11/2022</td>\n",
              "      <td>575</td>\n",
              "    </tr>\n",
              "    <tr>\n",
              "      <th>17431</th>\n",
              "      <td>30/03/2021</td>\n",
              "      <td>27/04/2021</td>\n",
              "      <td>24/12/2022</td>\n",
              "      <td>606</td>\n",
              "    </tr>\n",
              "  </tbody>\n",
              "</table>\n",
              "<p>17432 rows × 4 columns</p>\n",
              "</div>\n",
              "      <button class=\"colab-df-convert\" onclick=\"convertToInteractive('df-6d217012-95c0-4725-9ef1-f99d4d522cd6')\"\n",
              "              title=\"Convert this dataframe to an interactive table.\"\n",
              "              style=\"display:none;\">\n",
              "\n",
              "  <svg xmlns=\"http://www.w3.org/2000/svg\" height=\"24px\"viewBox=\"0 0 24 24\"\n",
              "       width=\"24px\">\n",
              "    <path d=\"M0 0h24v24H0V0z\" fill=\"none\"/>\n",
              "    <path d=\"M18.56 5.44l.94 2.06.94-2.06 2.06-.94-2.06-.94-.94-2.06-.94 2.06-2.06.94zm-11 1L8.5 8.5l.94-2.06 2.06-.94-2.06-.94L8.5 2.5l-.94 2.06-2.06.94zm10 10l.94 2.06.94-2.06 2.06-.94-2.06-.94-.94-2.06-.94 2.06-2.06.94z\"/><path d=\"M17.41 7.96l-1.37-1.37c-.4-.4-.92-.59-1.43-.59-.52 0-1.04.2-1.43.59L10.3 9.45l-7.72 7.72c-.78.78-.78 2.05 0 2.83L4 21.41c.39.39.9.59 1.41.59.51 0 1.02-.2 1.41-.59l7.78-7.78 2.81-2.81c.8-.78.8-2.07 0-2.86zM5.41 20L4 18.59l7.72-7.72 1.47 1.35L5.41 20z\"/>\n",
              "  </svg>\n",
              "      </button>\n",
              "\n",
              "\n",
              "\n",
              "    <div id=\"df-977dad8f-2b1a-4e7b-a9a0-6ad059c1ad54\">\n",
              "      <button class=\"colab-df-quickchart\" onclick=\"quickchart('df-977dad8f-2b1a-4e7b-a9a0-6ad059c1ad54')\"\n",
              "              title=\"Suggest charts.\"\n",
              "              style=\"display:none;\">\n",
              "\n",
              "<svg xmlns=\"http://www.w3.org/2000/svg\" height=\"24px\"viewBox=\"0 0 24 24\"\n",
              "     width=\"24px\">\n",
              "    <g>\n",
              "        <path d=\"M19 3H5c-1.1 0-2 .9-2 2v14c0 1.1.9 2 2 2h14c1.1 0 2-.9 2-2V5c0-1.1-.9-2-2-2zM9 17H7v-7h2v7zm4 0h-2V7h2v10zm4 0h-2v-4h2v4z\"/>\n",
              "    </g>\n",
              "</svg>\n",
              "      </button>\n",
              "    </div>\n",
              "\n",
              "<style>\n",
              "  .colab-df-quickchart {\n",
              "    background-color: #E8F0FE;\n",
              "    border: none;\n",
              "    border-radius: 50%;\n",
              "    cursor: pointer;\n",
              "    display: none;\n",
              "    fill: #1967D2;\n",
              "    height: 32px;\n",
              "    padding: 0 0 0 0;\n",
              "    width: 32px;\n",
              "  }\n",
              "\n",
              "  .colab-df-quickchart:hover {\n",
              "    background-color: #E2EBFA;\n",
              "    box-shadow: 0px 1px 2px rgba(60, 64, 67, 0.3), 0px 1px 3px 1px rgba(60, 64, 67, 0.15);\n",
              "    fill: #174EA6;\n",
              "  }\n",
              "\n",
              "  [theme=dark] .colab-df-quickchart {\n",
              "    background-color: #3B4455;\n",
              "    fill: #D2E3FC;\n",
              "  }\n",
              "\n",
              "  [theme=dark] .colab-df-quickchart:hover {\n",
              "    background-color: #434B5C;\n",
              "    box-shadow: 0px 1px 3px 1px rgba(0, 0, 0, 0.15);\n",
              "    filter: drop-shadow(0px 1px 2px rgba(0, 0, 0, 0.3));\n",
              "    fill: #FFFFFF;\n",
              "  }\n",
              "</style>\n",
              "\n",
              "    <script>\n",
              "      async function quickchart(key) {\n",
              "        const containerElement = document.querySelector('#' + key);\n",
              "        const charts = await google.colab.kernel.invokeFunction(\n",
              "            'suggestCharts', [key], {});\n",
              "      }\n",
              "    </script>\n",
              "\n",
              "      <script>\n",
              "\n",
              "function displayQuickchartButton(domScope) {\n",
              "  let quickchartButtonEl =\n",
              "    domScope.querySelector('#df-977dad8f-2b1a-4e7b-a9a0-6ad059c1ad54 button.colab-df-quickchart');\n",
              "  quickchartButtonEl.style.display =\n",
              "    google.colab.kernel.accessAllowed ? 'block' : 'none';\n",
              "}\n",
              "\n",
              "        displayQuickchartButton(document);\n",
              "      </script>\n",
              "      <style>\n",
              "    .colab-df-container {\n",
              "      display:flex;\n",
              "      flex-wrap:wrap;\n",
              "      gap: 12px;\n",
              "    }\n",
              "\n",
              "    .colab-df-convert {\n",
              "      background-color: #E8F0FE;\n",
              "      border: none;\n",
              "      border-radius: 50%;\n",
              "      cursor: pointer;\n",
              "      display: none;\n",
              "      fill: #1967D2;\n",
              "      height: 32px;\n",
              "      padding: 0 0 0 0;\n",
              "      width: 32px;\n",
              "    }\n",
              "\n",
              "    .colab-df-convert:hover {\n",
              "      background-color: #E2EBFA;\n",
              "      box-shadow: 0px 1px 2px rgba(60, 64, 67, 0.3), 0px 1px 3px 1px rgba(60, 64, 67, 0.15);\n",
              "      fill: #174EA6;\n",
              "    }\n",
              "\n",
              "    [theme=dark] .colab-df-convert {\n",
              "      background-color: #3B4455;\n",
              "      fill: #D2E3FC;\n",
              "    }\n",
              "\n",
              "    [theme=dark] .colab-df-convert:hover {\n",
              "      background-color: #434B5C;\n",
              "      box-shadow: 0px 1px 3px 1px rgba(0, 0, 0, 0.15);\n",
              "      filter: drop-shadow(0px 1px 2px rgba(0, 0, 0, 0.3));\n",
              "      fill: #FFFFFF;\n",
              "    }\n",
              "  </style>\n",
              "\n",
              "      <script>\n",
              "        const buttonEl =\n",
              "          document.querySelector('#df-6d217012-95c0-4725-9ef1-f99d4d522cd6 button.colab-df-convert');\n",
              "        buttonEl.style.display =\n",
              "          google.colab.kernel.accessAllowed ? 'block' : 'none';\n",
              "\n",
              "        async function convertToInteractive(key) {\n",
              "          const element = document.querySelector('#df-6d217012-95c0-4725-9ef1-f99d4d522cd6');\n",
              "          const dataTable =\n",
              "            await google.colab.kernel.invokeFunction('convertToInteractive',\n",
              "                                                     [key], {});\n",
              "          if (!dataTable) return;\n",
              "\n",
              "          const docLinkHtml = 'Like what you see? Visit the ' +\n",
              "            '<a target=\"_blank\" href=https://colab.research.google.com/notebooks/data_table.ipynb>data table notebook</a>'\n",
              "            + ' to learn more about interactive tables.';\n",
              "          element.innerHTML = '';\n",
              "          dataTable['output_type'] = 'display_data';\n",
              "          await google.colab.output.renderOutput(dataTable, element);\n",
              "          const docLink = document.createElement('div');\n",
              "          docLink.innerHTML = docLinkHtml;\n",
              "          element.appendChild(docLink);\n",
              "        }\n",
              "      </script>\n",
              "    </div>\n",
              "  </div>\n"
            ]
          },
          "metadata": {},
          "execution_count": 176
        }
      ]
    },
    {
      "cell_type": "markdown",
      "source": [
        "Preenchimento dos dados\n",
        "\n",
        "O simples preenchimento com a moda deixará alguns dados incoerentes, pois existem instâncias que possuem NaN no valor da data da primeira dose e possui a data da segunda dose. Com isso, pode ocorrer instâncias onde os dias da segunda dose serem mais distantes que os dias da primeira dose, causando incoerência.\n",
        "\n",
        "Dessa forma, uma nova coluna será criada para extrair a moda da diferença dos dias entre a segunda e a primeira dose."
      ],
      "metadata": {
        "id": "qAYmv5M4zyS4"
      }
    },
    {
      "cell_type": "code",
      "source": [
        "# Criação de uma coluna par armazenar a quantidade de dias entre a primeira e segunda dose\n",
        "data['INTERVALO_VACINAS'] = ''"
      ],
      "metadata": {
        "id": "gQ2ESYXny-H_"
      },
      "execution_count": null,
      "outputs": []
    },
    {
      "cell_type": "code",
      "source": [
        "# Calcula o intervalo entre vacinas\n",
        "def calc_interval_vac(row):\n",
        "  if pd.isna(row['DOSE_2_COV']) or pd.isna(row['DOSE_1_COV']):\n",
        "    return np.nan\n",
        "  else:\n",
        "    data1 = datetime.strptime(row['DOSE_2_COV'], '%d/%m/%Y')\n",
        "    data2 = datetime.strptime(row['DOSE_1_COV'], '%d/%m/%Y')\n",
        "    return abs((data2 - data1).days)\n",
        "\n",
        "# Chama a função e atribui o resultado à coluna 'INTERVALO_VACINAS'\n",
        "data['INTERVALO_VACINAS'] = data.apply(calc_interval_vac, axis=1)"
      ],
      "metadata": {
        "id": "mSoNPehyy-K1"
      },
      "execution_count": null,
      "outputs": []
    },
    {
      "cell_type": "code",
      "source": [
        "data[['DOSE_1_COV','DOSE_2_COV', 'INTERVALO_VACINAS']]"
      ],
      "metadata": {
        "colab": {
          "base_uri": "https://localhost:8080/"
        },
        "id": "BCnoqRo8y-OJ",
        "outputId": "649e88d9-7710-4664-e2a5-219a2ec313ca"
      },
      "execution_count": null,
      "outputs": [
        {
          "output_type": "execute_result",
          "data": {
            "text/plain": [
              "       DOSE_1_COV  DOSE_2_COV  INTERVALO_VACINAS\n",
              "0      17/08/2021  05/11/2021               80.0\n",
              "1      27/03/2021  19/04/2021               23.0\n",
              "2      10/06/2021  30/09/2021              112.0\n",
              "3             NaN         NaN                NaN\n",
              "4      24/06/2021  16/09/2021               84.0\n",
              "...           ...         ...                ...\n",
              "17427         NaN         NaN                NaN\n",
              "17428  19/02/2021  16/03/2021               25.0\n",
              "17429         NaN  16/03/2021                NaN\n",
              "17430  23/03/2021  14/04/2021               22.0\n",
              "17431  30/03/2021  27/04/2021               28.0\n",
              "\n",
              "[17432 rows x 3 columns]"
            ],
            "text/html": [
              "\n",
              "\n",
              "  <div id=\"df-7d246292-5de9-4ec0-a597-a32d419a5841\">\n",
              "    <div class=\"colab-df-container\">\n",
              "      <div>\n",
              "<style scoped>\n",
              "    .dataframe tbody tr th:only-of-type {\n",
              "        vertical-align: middle;\n",
              "    }\n",
              "\n",
              "    .dataframe tbody tr th {\n",
              "        vertical-align: top;\n",
              "    }\n",
              "\n",
              "    .dataframe thead th {\n",
              "        text-align: right;\n",
              "    }\n",
              "</style>\n",
              "<table border=\"1\" class=\"dataframe\">\n",
              "  <thead>\n",
              "    <tr style=\"text-align: right;\">\n",
              "      <th></th>\n",
              "      <th>DOSE_1_COV</th>\n",
              "      <th>DOSE_2_COV</th>\n",
              "      <th>INTERVALO_VACINAS</th>\n",
              "    </tr>\n",
              "  </thead>\n",
              "  <tbody>\n",
              "    <tr>\n",
              "      <th>0</th>\n",
              "      <td>17/08/2021</td>\n",
              "      <td>05/11/2021</td>\n",
              "      <td>80.0</td>\n",
              "    </tr>\n",
              "    <tr>\n",
              "      <th>1</th>\n",
              "      <td>27/03/2021</td>\n",
              "      <td>19/04/2021</td>\n",
              "      <td>23.0</td>\n",
              "    </tr>\n",
              "    <tr>\n",
              "      <th>2</th>\n",
              "      <td>10/06/2021</td>\n",
              "      <td>30/09/2021</td>\n",
              "      <td>112.0</td>\n",
              "    </tr>\n",
              "    <tr>\n",
              "      <th>3</th>\n",
              "      <td>NaN</td>\n",
              "      <td>NaN</td>\n",
              "      <td>NaN</td>\n",
              "    </tr>\n",
              "    <tr>\n",
              "      <th>4</th>\n",
              "      <td>24/06/2021</td>\n",
              "      <td>16/09/2021</td>\n",
              "      <td>84.0</td>\n",
              "    </tr>\n",
              "    <tr>\n",
              "      <th>...</th>\n",
              "      <td>...</td>\n",
              "      <td>...</td>\n",
              "      <td>...</td>\n",
              "    </tr>\n",
              "    <tr>\n",
              "      <th>17427</th>\n",
              "      <td>NaN</td>\n",
              "      <td>NaN</td>\n",
              "      <td>NaN</td>\n",
              "    </tr>\n",
              "    <tr>\n",
              "      <th>17428</th>\n",
              "      <td>19/02/2021</td>\n",
              "      <td>16/03/2021</td>\n",
              "      <td>25.0</td>\n",
              "    </tr>\n",
              "    <tr>\n",
              "      <th>17429</th>\n",
              "      <td>NaN</td>\n",
              "      <td>16/03/2021</td>\n",
              "      <td>NaN</td>\n",
              "    </tr>\n",
              "    <tr>\n",
              "      <th>17430</th>\n",
              "      <td>23/03/2021</td>\n",
              "      <td>14/04/2021</td>\n",
              "      <td>22.0</td>\n",
              "    </tr>\n",
              "    <tr>\n",
              "      <th>17431</th>\n",
              "      <td>30/03/2021</td>\n",
              "      <td>27/04/2021</td>\n",
              "      <td>28.0</td>\n",
              "    </tr>\n",
              "  </tbody>\n",
              "</table>\n",
              "<p>17432 rows × 3 columns</p>\n",
              "</div>\n",
              "      <button class=\"colab-df-convert\" onclick=\"convertToInteractive('df-7d246292-5de9-4ec0-a597-a32d419a5841')\"\n",
              "              title=\"Convert this dataframe to an interactive table.\"\n",
              "              style=\"display:none;\">\n",
              "\n",
              "  <svg xmlns=\"http://www.w3.org/2000/svg\" height=\"24px\"viewBox=\"0 0 24 24\"\n",
              "       width=\"24px\">\n",
              "    <path d=\"M0 0h24v24H0V0z\" fill=\"none\"/>\n",
              "    <path d=\"M18.56 5.44l.94 2.06.94-2.06 2.06-.94-2.06-.94-.94-2.06-.94 2.06-2.06.94zm-11 1L8.5 8.5l.94-2.06 2.06-.94-2.06-.94L8.5 2.5l-.94 2.06-2.06.94zm10 10l.94 2.06.94-2.06 2.06-.94-2.06-.94-.94-2.06-.94 2.06-2.06.94z\"/><path d=\"M17.41 7.96l-1.37-1.37c-.4-.4-.92-.59-1.43-.59-.52 0-1.04.2-1.43.59L10.3 9.45l-7.72 7.72c-.78.78-.78 2.05 0 2.83L4 21.41c.39.39.9.59 1.41.59.51 0 1.02-.2 1.41-.59l7.78-7.78 2.81-2.81c.8-.78.8-2.07 0-2.86zM5.41 20L4 18.59l7.72-7.72 1.47 1.35L5.41 20z\"/>\n",
              "  </svg>\n",
              "      </button>\n",
              "\n",
              "\n",
              "\n",
              "    <div id=\"df-ad68d2cd-24d2-4be0-9845-0cbbd4627f62\">\n",
              "      <button class=\"colab-df-quickchart\" onclick=\"quickchart('df-ad68d2cd-24d2-4be0-9845-0cbbd4627f62')\"\n",
              "              title=\"Suggest charts.\"\n",
              "              style=\"display:none;\">\n",
              "\n",
              "<svg xmlns=\"http://www.w3.org/2000/svg\" height=\"24px\"viewBox=\"0 0 24 24\"\n",
              "     width=\"24px\">\n",
              "    <g>\n",
              "        <path d=\"M19 3H5c-1.1 0-2 .9-2 2v14c0 1.1.9 2 2 2h14c1.1 0 2-.9 2-2V5c0-1.1-.9-2-2-2zM9 17H7v-7h2v7zm4 0h-2V7h2v10zm4 0h-2v-4h2v4z\"/>\n",
              "    </g>\n",
              "</svg>\n",
              "      </button>\n",
              "    </div>\n",
              "\n",
              "<style>\n",
              "  .colab-df-quickchart {\n",
              "    background-color: #E8F0FE;\n",
              "    border: none;\n",
              "    border-radius: 50%;\n",
              "    cursor: pointer;\n",
              "    display: none;\n",
              "    fill: #1967D2;\n",
              "    height: 32px;\n",
              "    padding: 0 0 0 0;\n",
              "    width: 32px;\n",
              "  }\n",
              "\n",
              "  .colab-df-quickchart:hover {\n",
              "    background-color: #E2EBFA;\n",
              "    box-shadow: 0px 1px 2px rgba(60, 64, 67, 0.3), 0px 1px 3px 1px rgba(60, 64, 67, 0.15);\n",
              "    fill: #174EA6;\n",
              "  }\n",
              "\n",
              "  [theme=dark] .colab-df-quickchart {\n",
              "    background-color: #3B4455;\n",
              "    fill: #D2E3FC;\n",
              "  }\n",
              "\n",
              "  [theme=dark] .colab-df-quickchart:hover {\n",
              "    background-color: #434B5C;\n",
              "    box-shadow: 0px 1px 3px 1px rgba(0, 0, 0, 0.15);\n",
              "    filter: drop-shadow(0px 1px 2px rgba(0, 0, 0, 0.3));\n",
              "    fill: #FFFFFF;\n",
              "  }\n",
              "</style>\n",
              "\n",
              "    <script>\n",
              "      async function quickchart(key) {\n",
              "        const containerElement = document.querySelector('#' + key);\n",
              "        const charts = await google.colab.kernel.invokeFunction(\n",
              "            'suggestCharts', [key], {});\n",
              "      }\n",
              "    </script>\n",
              "\n",
              "      <script>\n",
              "\n",
              "function displayQuickchartButton(domScope) {\n",
              "  let quickchartButtonEl =\n",
              "    domScope.querySelector('#df-ad68d2cd-24d2-4be0-9845-0cbbd4627f62 button.colab-df-quickchart');\n",
              "  quickchartButtonEl.style.display =\n",
              "    google.colab.kernel.accessAllowed ? 'block' : 'none';\n",
              "}\n",
              "\n",
              "        displayQuickchartButton(document);\n",
              "      </script>\n",
              "      <style>\n",
              "    .colab-df-container {\n",
              "      display:flex;\n",
              "      flex-wrap:wrap;\n",
              "      gap: 12px;\n",
              "    }\n",
              "\n",
              "    .colab-df-convert {\n",
              "      background-color: #E8F0FE;\n",
              "      border: none;\n",
              "      border-radius: 50%;\n",
              "      cursor: pointer;\n",
              "      display: none;\n",
              "      fill: #1967D2;\n",
              "      height: 32px;\n",
              "      padding: 0 0 0 0;\n",
              "      width: 32px;\n",
              "    }\n",
              "\n",
              "    .colab-df-convert:hover {\n",
              "      background-color: #E2EBFA;\n",
              "      box-shadow: 0px 1px 2px rgba(60, 64, 67, 0.3), 0px 1px 3px 1px rgba(60, 64, 67, 0.15);\n",
              "      fill: #174EA6;\n",
              "    }\n",
              "\n",
              "    [theme=dark] .colab-df-convert {\n",
              "      background-color: #3B4455;\n",
              "      fill: #D2E3FC;\n",
              "    }\n",
              "\n",
              "    [theme=dark] .colab-df-convert:hover {\n",
              "      background-color: #434B5C;\n",
              "      box-shadow: 0px 1px 3px 1px rgba(0, 0, 0, 0.15);\n",
              "      filter: drop-shadow(0px 1px 2px rgba(0, 0, 0, 0.3));\n",
              "      fill: #FFFFFF;\n",
              "    }\n",
              "  </style>\n",
              "\n",
              "      <script>\n",
              "        const buttonEl =\n",
              "          document.querySelector('#df-7d246292-5de9-4ec0-a597-a32d419a5841 button.colab-df-convert');\n",
              "        buttonEl.style.display =\n",
              "          google.colab.kernel.accessAllowed ? 'block' : 'none';\n",
              "\n",
              "        async function convertToInteractive(key) {\n",
              "          const element = document.querySelector('#df-7d246292-5de9-4ec0-a597-a32d419a5841');\n",
              "          const dataTable =\n",
              "            await google.colab.kernel.invokeFunction('convertToInteractive',\n",
              "                                                     [key], {});\n",
              "          if (!dataTable) return;\n",
              "\n",
              "          const docLinkHtml = 'Like what you see? Visit the ' +\n",
              "            '<a target=\"_blank\" href=https://colab.research.google.com/notebooks/data_table.ipynb>data table notebook</a>'\n",
              "            + ' to learn more about interactive tables.';\n",
              "          element.innerHTML = '';\n",
              "          dataTable['output_type'] = 'display_data';\n",
              "          await google.colab.output.renderOutput(dataTable, element);\n",
              "          const docLink = document.createElement('div');\n",
              "          docLink.innerHTML = docLinkHtml;\n",
              "          element.appendChild(docLink);\n",
              "        }\n",
              "      </script>\n",
              "    </div>\n",
              "  </div>\n"
            ]
          },
          "metadata": {},
          "execution_count": 179
        }
      ]
    },
    {
      "cell_type": "code",
      "source": [
        "# Calcula mediana\n",
        "mediana_intervalo = data['INTERVALO_VACINAS'].median()\n",
        "mediana_intervalo"
      ],
      "metadata": {
        "colab": {
          "base_uri": "https://localhost:8080/"
        },
        "id": "3s6idcBJy-RJ",
        "outputId": "85b7ac8b-c7bd-4c8a-c792-77f1704e80e4"
      },
      "execution_count": null,
      "outputs": [
        {
          "output_type": "execute_result",
          "data": {
            "text/plain": [
              "40.0"
            ]
          },
          "metadata": {},
          "execution_count": 180
        }
      ]
    },
    {
      "cell_type": "code",
      "source": [
        "# Remove coluna\n",
        "data.drop(['INTERVALO_VACINAS'], axis=1, inplace=True)"
      ],
      "metadata": {
        "id": "N-OktibIy-UT"
      },
      "execution_count": null,
      "outputs": []
    },
    {
      "cell_type": "code",
      "source": [
        "# Armazena a quantidade de dias da primeira dose até a notificação\n",
        "data['DIAS_DOSE1'] = ''"
      ],
      "metadata": {
        "id": "pFyDfQZ1y-Xo"
      },
      "execution_count": null,
      "outputs": []
    },
    {
      "cell_type": "code",
      "source": [
        "# Calcula a quantidade de dias da primeira dose até a notificação\n",
        "def calc_dias_vac(row):\n",
        "  if row['VACINA_COV'] != 1:\n",
        "    return 0\n",
        "\n",
        "  if pd.isna(row['DOSE_1_COV']) and pd.isna(row['DOSE_2_COV']):\n",
        "    return np.nan\n",
        "\n",
        "  if pd.isna(row['DOSE_1_COV']):\n",
        "    dataDose2 = datetime.strptime(row['DOSE_2_COV'], '%d/%m/%Y')\n",
        "    data1 = dataDose2 - timedelta(days=mediana_intervalo)\n",
        "  else:\n",
        "    data1 = datetime.strptime(row['DOSE_1_COV'], '%d/%m/%Y')\n",
        "\n",
        "  data2 = datetime.strptime(row['DT_NOTIFIC'], '%d/%m/%Y')\n",
        "  return abs((data2 - data1).days)\n",
        "\n",
        "# Chama a função e atribui o resultado à coluna 'DIAS_DOSE1'\n",
        "data['DIAS_DOSE1'] = data.apply(calc_dias_vac, axis=1)"
      ],
      "metadata": {
        "id": "pq9gybRAy-an"
      },
      "execution_count": null,
      "outputs": []
    },
    {
      "cell_type": "code",
      "source": [
        "data[['DOSE_1_COV','DOSE_2_COV', 'DT_NOTIFIC', 'DIAS_DOSE1', 'DIAS_DOSE2']]"
      ],
      "metadata": {
        "colab": {
          "base_uri": "https://localhost:8080/"
        },
        "id": "k54PBFRky-dx",
        "outputId": "2c6d93f6-f492-4072-b8ee-ba283640d470"
      },
      "execution_count": null,
      "outputs": [
        {
          "output_type": "execute_result",
          "data": {
            "text/plain": [
              "       DOSE_1_COV  DOSE_2_COV  DT_NOTIFIC  DIAS_DOSE1  DIAS_DOSE2\n",
              "0      17/08/2021  05/11/2021  05/01/2022       141.0          61\n",
              "1      27/03/2021  19/04/2021  07/01/2022       286.0         263\n",
              "2      10/06/2021  30/09/2021  10/01/2022       214.0         102\n",
              "3             NaN         NaN  19/01/2022         0.0           0\n",
              "4      24/06/2021  16/09/2021  10/01/2022       200.0         116\n",
              "...           ...         ...         ...         ...         ...\n",
              "17427         NaN         NaN  29/06/2022         0.0           0\n",
              "17428  19/02/2021  16/03/2021  09/08/2022       536.0         511\n",
              "17429         NaN  16/03/2021  30/08/2022       572.0         532\n",
              "17430  23/03/2021  14/04/2021  10/11/2022       597.0         575\n",
              "17431  30/03/2021  27/04/2021  24/12/2022       634.0         606\n",
              "\n",
              "[17432 rows x 5 columns]"
            ],
            "text/html": [
              "\n",
              "\n",
              "  <div id=\"df-17a489e6-21e2-4274-b4b2-dd0627d7d6d8\">\n",
              "    <div class=\"colab-df-container\">\n",
              "      <div>\n",
              "<style scoped>\n",
              "    .dataframe tbody tr th:only-of-type {\n",
              "        vertical-align: middle;\n",
              "    }\n",
              "\n",
              "    .dataframe tbody tr th {\n",
              "        vertical-align: top;\n",
              "    }\n",
              "\n",
              "    .dataframe thead th {\n",
              "        text-align: right;\n",
              "    }\n",
              "</style>\n",
              "<table border=\"1\" class=\"dataframe\">\n",
              "  <thead>\n",
              "    <tr style=\"text-align: right;\">\n",
              "      <th></th>\n",
              "      <th>DOSE_1_COV</th>\n",
              "      <th>DOSE_2_COV</th>\n",
              "      <th>DT_NOTIFIC</th>\n",
              "      <th>DIAS_DOSE1</th>\n",
              "      <th>DIAS_DOSE2</th>\n",
              "    </tr>\n",
              "  </thead>\n",
              "  <tbody>\n",
              "    <tr>\n",
              "      <th>0</th>\n",
              "      <td>17/08/2021</td>\n",
              "      <td>05/11/2021</td>\n",
              "      <td>05/01/2022</td>\n",
              "      <td>141.0</td>\n",
              "      <td>61</td>\n",
              "    </tr>\n",
              "    <tr>\n",
              "      <th>1</th>\n",
              "      <td>27/03/2021</td>\n",
              "      <td>19/04/2021</td>\n",
              "      <td>07/01/2022</td>\n",
              "      <td>286.0</td>\n",
              "      <td>263</td>\n",
              "    </tr>\n",
              "    <tr>\n",
              "      <th>2</th>\n",
              "      <td>10/06/2021</td>\n",
              "      <td>30/09/2021</td>\n",
              "      <td>10/01/2022</td>\n",
              "      <td>214.0</td>\n",
              "      <td>102</td>\n",
              "    </tr>\n",
              "    <tr>\n",
              "      <th>3</th>\n",
              "      <td>NaN</td>\n",
              "      <td>NaN</td>\n",
              "      <td>19/01/2022</td>\n",
              "      <td>0.0</td>\n",
              "      <td>0</td>\n",
              "    </tr>\n",
              "    <tr>\n",
              "      <th>4</th>\n",
              "      <td>24/06/2021</td>\n",
              "      <td>16/09/2021</td>\n",
              "      <td>10/01/2022</td>\n",
              "      <td>200.0</td>\n",
              "      <td>116</td>\n",
              "    </tr>\n",
              "    <tr>\n",
              "      <th>...</th>\n",
              "      <td>...</td>\n",
              "      <td>...</td>\n",
              "      <td>...</td>\n",
              "      <td>...</td>\n",
              "      <td>...</td>\n",
              "    </tr>\n",
              "    <tr>\n",
              "      <th>17427</th>\n",
              "      <td>NaN</td>\n",
              "      <td>NaN</td>\n",
              "      <td>29/06/2022</td>\n",
              "      <td>0.0</td>\n",
              "      <td>0</td>\n",
              "    </tr>\n",
              "    <tr>\n",
              "      <th>17428</th>\n",
              "      <td>19/02/2021</td>\n",
              "      <td>16/03/2021</td>\n",
              "      <td>09/08/2022</td>\n",
              "      <td>536.0</td>\n",
              "      <td>511</td>\n",
              "    </tr>\n",
              "    <tr>\n",
              "      <th>17429</th>\n",
              "      <td>NaN</td>\n",
              "      <td>16/03/2021</td>\n",
              "      <td>30/08/2022</td>\n",
              "      <td>572.0</td>\n",
              "      <td>532</td>\n",
              "    </tr>\n",
              "    <tr>\n",
              "      <th>17430</th>\n",
              "      <td>23/03/2021</td>\n",
              "      <td>14/04/2021</td>\n",
              "      <td>10/11/2022</td>\n",
              "      <td>597.0</td>\n",
              "      <td>575</td>\n",
              "    </tr>\n",
              "    <tr>\n",
              "      <th>17431</th>\n",
              "      <td>30/03/2021</td>\n",
              "      <td>27/04/2021</td>\n",
              "      <td>24/12/2022</td>\n",
              "      <td>634.0</td>\n",
              "      <td>606</td>\n",
              "    </tr>\n",
              "  </tbody>\n",
              "</table>\n",
              "<p>17432 rows × 5 columns</p>\n",
              "</div>\n",
              "      <button class=\"colab-df-convert\" onclick=\"convertToInteractive('df-17a489e6-21e2-4274-b4b2-dd0627d7d6d8')\"\n",
              "              title=\"Convert this dataframe to an interactive table.\"\n",
              "              style=\"display:none;\">\n",
              "\n",
              "  <svg xmlns=\"http://www.w3.org/2000/svg\" height=\"24px\"viewBox=\"0 0 24 24\"\n",
              "       width=\"24px\">\n",
              "    <path d=\"M0 0h24v24H0V0z\" fill=\"none\"/>\n",
              "    <path d=\"M18.56 5.44l.94 2.06.94-2.06 2.06-.94-2.06-.94-.94-2.06-.94 2.06-2.06.94zm-11 1L8.5 8.5l.94-2.06 2.06-.94-2.06-.94L8.5 2.5l-.94 2.06-2.06.94zm10 10l.94 2.06.94-2.06 2.06-.94-2.06-.94-.94-2.06-.94 2.06-2.06.94z\"/><path d=\"M17.41 7.96l-1.37-1.37c-.4-.4-.92-.59-1.43-.59-.52 0-1.04.2-1.43.59L10.3 9.45l-7.72 7.72c-.78.78-.78 2.05 0 2.83L4 21.41c.39.39.9.59 1.41.59.51 0 1.02-.2 1.41-.59l7.78-7.78 2.81-2.81c.8-.78.8-2.07 0-2.86zM5.41 20L4 18.59l7.72-7.72 1.47 1.35L5.41 20z\"/>\n",
              "  </svg>\n",
              "      </button>\n",
              "\n",
              "\n",
              "\n",
              "    <div id=\"df-9aa9cd03-6951-492a-898b-237f934648cc\">\n",
              "      <button class=\"colab-df-quickchart\" onclick=\"quickchart('df-9aa9cd03-6951-492a-898b-237f934648cc')\"\n",
              "              title=\"Suggest charts.\"\n",
              "              style=\"display:none;\">\n",
              "\n",
              "<svg xmlns=\"http://www.w3.org/2000/svg\" height=\"24px\"viewBox=\"0 0 24 24\"\n",
              "     width=\"24px\">\n",
              "    <g>\n",
              "        <path d=\"M19 3H5c-1.1 0-2 .9-2 2v14c0 1.1.9 2 2 2h14c1.1 0 2-.9 2-2V5c0-1.1-.9-2-2-2zM9 17H7v-7h2v7zm4 0h-2V7h2v10zm4 0h-2v-4h2v4z\"/>\n",
              "    </g>\n",
              "</svg>\n",
              "      </button>\n",
              "    </div>\n",
              "\n",
              "<style>\n",
              "  .colab-df-quickchart {\n",
              "    background-color: #E8F0FE;\n",
              "    border: none;\n",
              "    border-radius: 50%;\n",
              "    cursor: pointer;\n",
              "    display: none;\n",
              "    fill: #1967D2;\n",
              "    height: 32px;\n",
              "    padding: 0 0 0 0;\n",
              "    width: 32px;\n",
              "  }\n",
              "\n",
              "  .colab-df-quickchart:hover {\n",
              "    background-color: #E2EBFA;\n",
              "    box-shadow: 0px 1px 2px rgba(60, 64, 67, 0.3), 0px 1px 3px 1px rgba(60, 64, 67, 0.15);\n",
              "    fill: #174EA6;\n",
              "  }\n",
              "\n",
              "  [theme=dark] .colab-df-quickchart {\n",
              "    background-color: #3B4455;\n",
              "    fill: #D2E3FC;\n",
              "  }\n",
              "\n",
              "  [theme=dark] .colab-df-quickchart:hover {\n",
              "    background-color: #434B5C;\n",
              "    box-shadow: 0px 1px 3px 1px rgba(0, 0, 0, 0.15);\n",
              "    filter: drop-shadow(0px 1px 2px rgba(0, 0, 0, 0.3));\n",
              "    fill: #FFFFFF;\n",
              "  }\n",
              "</style>\n",
              "\n",
              "    <script>\n",
              "      async function quickchart(key) {\n",
              "        const containerElement = document.querySelector('#' + key);\n",
              "        const charts = await google.colab.kernel.invokeFunction(\n",
              "            'suggestCharts', [key], {});\n",
              "      }\n",
              "    </script>\n",
              "\n",
              "      <script>\n",
              "\n",
              "function displayQuickchartButton(domScope) {\n",
              "  let quickchartButtonEl =\n",
              "    domScope.querySelector('#df-9aa9cd03-6951-492a-898b-237f934648cc button.colab-df-quickchart');\n",
              "  quickchartButtonEl.style.display =\n",
              "    google.colab.kernel.accessAllowed ? 'block' : 'none';\n",
              "}\n",
              "\n",
              "        displayQuickchartButton(document);\n",
              "      </script>\n",
              "      <style>\n",
              "    .colab-df-container {\n",
              "      display:flex;\n",
              "      flex-wrap:wrap;\n",
              "      gap: 12px;\n",
              "    }\n",
              "\n",
              "    .colab-df-convert {\n",
              "      background-color: #E8F0FE;\n",
              "      border: none;\n",
              "      border-radius: 50%;\n",
              "      cursor: pointer;\n",
              "      display: none;\n",
              "      fill: #1967D2;\n",
              "      height: 32px;\n",
              "      padding: 0 0 0 0;\n",
              "      width: 32px;\n",
              "    }\n",
              "\n",
              "    .colab-df-convert:hover {\n",
              "      background-color: #E2EBFA;\n",
              "      box-shadow: 0px 1px 2px rgba(60, 64, 67, 0.3), 0px 1px 3px 1px rgba(60, 64, 67, 0.15);\n",
              "      fill: #174EA6;\n",
              "    }\n",
              "\n",
              "    [theme=dark] .colab-df-convert {\n",
              "      background-color: #3B4455;\n",
              "      fill: #D2E3FC;\n",
              "    }\n",
              "\n",
              "    [theme=dark] .colab-df-convert:hover {\n",
              "      background-color: #434B5C;\n",
              "      box-shadow: 0px 1px 3px 1px rgba(0, 0, 0, 0.15);\n",
              "      filter: drop-shadow(0px 1px 2px rgba(0, 0, 0, 0.3));\n",
              "      fill: #FFFFFF;\n",
              "    }\n",
              "  </style>\n",
              "\n",
              "      <script>\n",
              "        const buttonEl =\n",
              "          document.querySelector('#df-17a489e6-21e2-4274-b4b2-dd0627d7d6d8 button.colab-df-convert');\n",
              "        buttonEl.style.display =\n",
              "          google.colab.kernel.accessAllowed ? 'block' : 'none';\n",
              "\n",
              "        async function convertToInteractive(key) {\n",
              "          const element = document.querySelector('#df-17a489e6-21e2-4274-b4b2-dd0627d7d6d8');\n",
              "          const dataTable =\n",
              "            await google.colab.kernel.invokeFunction('convertToInteractive',\n",
              "                                                     [key], {});\n",
              "          if (!dataTable) return;\n",
              "\n",
              "          const docLinkHtml = 'Like what you see? Visit the ' +\n",
              "            '<a target=\"_blank\" href=https://colab.research.google.com/notebooks/data_table.ipynb>data table notebook</a>'\n",
              "            + ' to learn more about interactive tables.';\n",
              "          element.innerHTML = '';\n",
              "          dataTable['output_type'] = 'display_data';\n",
              "          await google.colab.output.renderOutput(dataTable, element);\n",
              "          const docLink = document.createElement('div');\n",
              "          docLink.innerHTML = docLinkHtml;\n",
              "          element.appendChild(docLink);\n",
              "        }\n",
              "      </script>\n",
              "    </div>\n",
              "  </div>\n"
            ]
          },
          "metadata": {},
          "execution_count": 184
        }
      ]
    },
    {
      "cell_type": "code",
      "source": [
        "# Conta os valores NaN\n",
        "data['DIAS_DOSE1'].isnull().sum()"
      ],
      "metadata": {
        "colab": {
          "base_uri": "https://localhost:8080/"
        },
        "id": "SSEHXgCny-g7",
        "outputId": "10140160-26f5-4e31-a4ba-f020ed0dd5b2"
      },
      "execution_count": null,
      "outputs": [
        {
          "output_type": "execute_result",
          "data": {
            "text/plain": [
              "392"
            ]
          },
          "metadata": {},
          "execution_count": 185
        }
      ]
    },
    {
      "cell_type": "code",
      "source": [
        "# Calcula a mediana\n",
        "data['DIAS_DOSE1'].median()"
      ],
      "metadata": {
        "colab": {
          "base_uri": "https://localhost:8080/"
        },
        "id": "lJDVYE0Xy-j8",
        "outputId": "7517625c-3abe-476d-f957-4cfa8aa2560c"
      },
      "execution_count": null,
      "outputs": [
        {
          "output_type": "execute_result",
          "data": {
            "text/plain": [
              "323.5"
            ]
          },
          "metadata": {},
          "execution_count": 186
        }
      ]
    },
    {
      "cell_type": "code",
      "source": [
        "# Preenche valores NaN com a moda mediana\n",
        "data['DIAS_DOSE1'].fillna(data['DIAS_DOSE1'].median(), inplace=True)\n",
        "\n",
        "# Converte o tipo de dados de float para int\n",
        "data['DIAS_DOSE1'] = data['DIAS_DOSE1'].astype(int)"
      ],
      "metadata": {
        "id": "dy-YVegay-nE"
      },
      "execution_count": null,
      "outputs": []
    },
    {
      "cell_type": "code",
      "source": [
        "data['DIAS_DOSE1'].info()"
      ],
      "metadata": {
        "colab": {
          "base_uri": "https://localhost:8080/"
        },
        "id": "Hn87Qpb_y-qY",
        "outputId": "24670b1f-a706-4130-cf31-12b05c8c97fb"
      },
      "execution_count": null,
      "outputs": [
        {
          "output_type": "stream",
          "name": "stdout",
          "text": [
            "<class 'pandas.core.series.Series'>\n",
            "RangeIndex: 17432 entries, 0 to 17431\n",
            "Series name: DIAS_DOSE1\n",
            "Non-Null Count  Dtype\n",
            "--------------  -----\n",
            "17432 non-null  int64\n",
            "dtypes: int64(1)\n",
            "memory usage: 136.3 KB\n"
          ]
        }
      ]
    },
    {
      "cell_type": "code",
      "source": [
        "data[['DOSE_1_COV','DOSE_2_COV', 'DT_NOTIFIC', 'DIAS_DOSE1','DIAS_DOSE2']]"
      ],
      "metadata": {
        "colab": {
          "base_uri": "https://localhost:8080/"
        },
        "id": "KWaQ4LGFy-tj",
        "outputId": "d2048d83-13ee-4d83-b223-4a02bced3b69"
      },
      "execution_count": null,
      "outputs": [
        {
          "output_type": "execute_result",
          "data": {
            "text/plain": [
              "       DOSE_1_COV  DOSE_2_COV  DT_NOTIFIC  DIAS_DOSE1  DIAS_DOSE2\n",
              "0      17/08/2021  05/11/2021  05/01/2022         141          61\n",
              "1      27/03/2021  19/04/2021  07/01/2022         286         263\n",
              "2      10/06/2021  30/09/2021  10/01/2022         214         102\n",
              "3             NaN         NaN  19/01/2022           0           0\n",
              "4      24/06/2021  16/09/2021  10/01/2022         200         116\n",
              "...           ...         ...         ...         ...         ...\n",
              "17427         NaN         NaN  29/06/2022           0           0\n",
              "17428  19/02/2021  16/03/2021  09/08/2022         536         511\n",
              "17429         NaN  16/03/2021  30/08/2022         572         532\n",
              "17430  23/03/2021  14/04/2021  10/11/2022         597         575\n",
              "17431  30/03/2021  27/04/2021  24/12/2022         634         606\n",
              "\n",
              "[17432 rows x 5 columns]"
            ],
            "text/html": [
              "\n",
              "\n",
              "  <div id=\"df-348f0ec1-5fdf-44c4-8958-f146fdf579ba\">\n",
              "    <div class=\"colab-df-container\">\n",
              "      <div>\n",
              "<style scoped>\n",
              "    .dataframe tbody tr th:only-of-type {\n",
              "        vertical-align: middle;\n",
              "    }\n",
              "\n",
              "    .dataframe tbody tr th {\n",
              "        vertical-align: top;\n",
              "    }\n",
              "\n",
              "    .dataframe thead th {\n",
              "        text-align: right;\n",
              "    }\n",
              "</style>\n",
              "<table border=\"1\" class=\"dataframe\">\n",
              "  <thead>\n",
              "    <tr style=\"text-align: right;\">\n",
              "      <th></th>\n",
              "      <th>DOSE_1_COV</th>\n",
              "      <th>DOSE_2_COV</th>\n",
              "      <th>DT_NOTIFIC</th>\n",
              "      <th>DIAS_DOSE1</th>\n",
              "      <th>DIAS_DOSE2</th>\n",
              "    </tr>\n",
              "  </thead>\n",
              "  <tbody>\n",
              "    <tr>\n",
              "      <th>0</th>\n",
              "      <td>17/08/2021</td>\n",
              "      <td>05/11/2021</td>\n",
              "      <td>05/01/2022</td>\n",
              "      <td>141</td>\n",
              "      <td>61</td>\n",
              "    </tr>\n",
              "    <tr>\n",
              "      <th>1</th>\n",
              "      <td>27/03/2021</td>\n",
              "      <td>19/04/2021</td>\n",
              "      <td>07/01/2022</td>\n",
              "      <td>286</td>\n",
              "      <td>263</td>\n",
              "    </tr>\n",
              "    <tr>\n",
              "      <th>2</th>\n",
              "      <td>10/06/2021</td>\n",
              "      <td>30/09/2021</td>\n",
              "      <td>10/01/2022</td>\n",
              "      <td>214</td>\n",
              "      <td>102</td>\n",
              "    </tr>\n",
              "    <tr>\n",
              "      <th>3</th>\n",
              "      <td>NaN</td>\n",
              "      <td>NaN</td>\n",
              "      <td>19/01/2022</td>\n",
              "      <td>0</td>\n",
              "      <td>0</td>\n",
              "    </tr>\n",
              "    <tr>\n",
              "      <th>4</th>\n",
              "      <td>24/06/2021</td>\n",
              "      <td>16/09/2021</td>\n",
              "      <td>10/01/2022</td>\n",
              "      <td>200</td>\n",
              "      <td>116</td>\n",
              "    </tr>\n",
              "    <tr>\n",
              "      <th>...</th>\n",
              "      <td>...</td>\n",
              "      <td>...</td>\n",
              "      <td>...</td>\n",
              "      <td>...</td>\n",
              "      <td>...</td>\n",
              "    </tr>\n",
              "    <tr>\n",
              "      <th>17427</th>\n",
              "      <td>NaN</td>\n",
              "      <td>NaN</td>\n",
              "      <td>29/06/2022</td>\n",
              "      <td>0</td>\n",
              "      <td>0</td>\n",
              "    </tr>\n",
              "    <tr>\n",
              "      <th>17428</th>\n",
              "      <td>19/02/2021</td>\n",
              "      <td>16/03/2021</td>\n",
              "      <td>09/08/2022</td>\n",
              "      <td>536</td>\n",
              "      <td>511</td>\n",
              "    </tr>\n",
              "    <tr>\n",
              "      <th>17429</th>\n",
              "      <td>NaN</td>\n",
              "      <td>16/03/2021</td>\n",
              "      <td>30/08/2022</td>\n",
              "      <td>572</td>\n",
              "      <td>532</td>\n",
              "    </tr>\n",
              "    <tr>\n",
              "      <th>17430</th>\n",
              "      <td>23/03/2021</td>\n",
              "      <td>14/04/2021</td>\n",
              "      <td>10/11/2022</td>\n",
              "      <td>597</td>\n",
              "      <td>575</td>\n",
              "    </tr>\n",
              "    <tr>\n",
              "      <th>17431</th>\n",
              "      <td>30/03/2021</td>\n",
              "      <td>27/04/2021</td>\n",
              "      <td>24/12/2022</td>\n",
              "      <td>634</td>\n",
              "      <td>606</td>\n",
              "    </tr>\n",
              "  </tbody>\n",
              "</table>\n",
              "<p>17432 rows × 5 columns</p>\n",
              "</div>\n",
              "      <button class=\"colab-df-convert\" onclick=\"convertToInteractive('df-348f0ec1-5fdf-44c4-8958-f146fdf579ba')\"\n",
              "              title=\"Convert this dataframe to an interactive table.\"\n",
              "              style=\"display:none;\">\n",
              "\n",
              "  <svg xmlns=\"http://www.w3.org/2000/svg\" height=\"24px\"viewBox=\"0 0 24 24\"\n",
              "       width=\"24px\">\n",
              "    <path d=\"M0 0h24v24H0V0z\" fill=\"none\"/>\n",
              "    <path d=\"M18.56 5.44l.94 2.06.94-2.06 2.06-.94-2.06-.94-.94-2.06-.94 2.06-2.06.94zm-11 1L8.5 8.5l.94-2.06 2.06-.94-2.06-.94L8.5 2.5l-.94 2.06-2.06.94zm10 10l.94 2.06.94-2.06 2.06-.94-2.06-.94-.94-2.06-.94 2.06-2.06.94z\"/><path d=\"M17.41 7.96l-1.37-1.37c-.4-.4-.92-.59-1.43-.59-.52 0-1.04.2-1.43.59L10.3 9.45l-7.72 7.72c-.78.78-.78 2.05 0 2.83L4 21.41c.39.39.9.59 1.41.59.51 0 1.02-.2 1.41-.59l7.78-7.78 2.81-2.81c.8-.78.8-2.07 0-2.86zM5.41 20L4 18.59l7.72-7.72 1.47 1.35L5.41 20z\"/>\n",
              "  </svg>\n",
              "      </button>\n",
              "\n",
              "\n",
              "\n",
              "    <div id=\"df-b5175895-df70-4071-886f-e0c9a25e791b\">\n",
              "      <button class=\"colab-df-quickchart\" onclick=\"quickchart('df-b5175895-df70-4071-886f-e0c9a25e791b')\"\n",
              "              title=\"Suggest charts.\"\n",
              "              style=\"display:none;\">\n",
              "\n",
              "<svg xmlns=\"http://www.w3.org/2000/svg\" height=\"24px\"viewBox=\"0 0 24 24\"\n",
              "     width=\"24px\">\n",
              "    <g>\n",
              "        <path d=\"M19 3H5c-1.1 0-2 .9-2 2v14c0 1.1.9 2 2 2h14c1.1 0 2-.9 2-2V5c0-1.1-.9-2-2-2zM9 17H7v-7h2v7zm4 0h-2V7h2v10zm4 0h-2v-4h2v4z\"/>\n",
              "    </g>\n",
              "</svg>\n",
              "      </button>\n",
              "    </div>\n",
              "\n",
              "<style>\n",
              "  .colab-df-quickchart {\n",
              "    background-color: #E8F0FE;\n",
              "    border: none;\n",
              "    border-radius: 50%;\n",
              "    cursor: pointer;\n",
              "    display: none;\n",
              "    fill: #1967D2;\n",
              "    height: 32px;\n",
              "    padding: 0 0 0 0;\n",
              "    width: 32px;\n",
              "  }\n",
              "\n",
              "  .colab-df-quickchart:hover {\n",
              "    background-color: #E2EBFA;\n",
              "    box-shadow: 0px 1px 2px rgba(60, 64, 67, 0.3), 0px 1px 3px 1px rgba(60, 64, 67, 0.15);\n",
              "    fill: #174EA6;\n",
              "  }\n",
              "\n",
              "  [theme=dark] .colab-df-quickchart {\n",
              "    background-color: #3B4455;\n",
              "    fill: #D2E3FC;\n",
              "  }\n",
              "\n",
              "  [theme=dark] .colab-df-quickchart:hover {\n",
              "    background-color: #434B5C;\n",
              "    box-shadow: 0px 1px 3px 1px rgba(0, 0, 0, 0.15);\n",
              "    filter: drop-shadow(0px 1px 2px rgba(0, 0, 0, 0.3));\n",
              "    fill: #FFFFFF;\n",
              "  }\n",
              "</style>\n",
              "\n",
              "    <script>\n",
              "      async function quickchart(key) {\n",
              "        const containerElement = document.querySelector('#' + key);\n",
              "        const charts = await google.colab.kernel.invokeFunction(\n",
              "            'suggestCharts', [key], {});\n",
              "      }\n",
              "    </script>\n",
              "\n",
              "      <script>\n",
              "\n",
              "function displayQuickchartButton(domScope) {\n",
              "  let quickchartButtonEl =\n",
              "    domScope.querySelector('#df-b5175895-df70-4071-886f-e0c9a25e791b button.colab-df-quickchart');\n",
              "  quickchartButtonEl.style.display =\n",
              "    google.colab.kernel.accessAllowed ? 'block' : 'none';\n",
              "}\n",
              "\n",
              "        displayQuickchartButton(document);\n",
              "      </script>\n",
              "      <style>\n",
              "    .colab-df-container {\n",
              "      display:flex;\n",
              "      flex-wrap:wrap;\n",
              "      gap: 12px;\n",
              "    }\n",
              "\n",
              "    .colab-df-convert {\n",
              "      background-color: #E8F0FE;\n",
              "      border: none;\n",
              "      border-radius: 50%;\n",
              "      cursor: pointer;\n",
              "      display: none;\n",
              "      fill: #1967D2;\n",
              "      height: 32px;\n",
              "      padding: 0 0 0 0;\n",
              "      width: 32px;\n",
              "    }\n",
              "\n",
              "    .colab-df-convert:hover {\n",
              "      background-color: #E2EBFA;\n",
              "      box-shadow: 0px 1px 2px rgba(60, 64, 67, 0.3), 0px 1px 3px 1px rgba(60, 64, 67, 0.15);\n",
              "      fill: #174EA6;\n",
              "    }\n",
              "\n",
              "    [theme=dark] .colab-df-convert {\n",
              "      background-color: #3B4455;\n",
              "      fill: #D2E3FC;\n",
              "    }\n",
              "\n",
              "    [theme=dark] .colab-df-convert:hover {\n",
              "      background-color: #434B5C;\n",
              "      box-shadow: 0px 1px 3px 1px rgba(0, 0, 0, 0.15);\n",
              "      filter: drop-shadow(0px 1px 2px rgba(0, 0, 0, 0.3));\n",
              "      fill: #FFFFFF;\n",
              "    }\n",
              "  </style>\n",
              "\n",
              "      <script>\n",
              "        const buttonEl =\n",
              "          document.querySelector('#df-348f0ec1-5fdf-44c4-8958-f146fdf579ba button.colab-df-convert');\n",
              "        buttonEl.style.display =\n",
              "          google.colab.kernel.accessAllowed ? 'block' : 'none';\n",
              "\n",
              "        async function convertToInteractive(key) {\n",
              "          const element = document.querySelector('#df-348f0ec1-5fdf-44c4-8958-f146fdf579ba');\n",
              "          const dataTable =\n",
              "            await google.colab.kernel.invokeFunction('convertToInteractive',\n",
              "                                                     [key], {});\n",
              "          if (!dataTable) return;\n",
              "\n",
              "          const docLinkHtml = 'Like what you see? Visit the ' +\n",
              "            '<a target=\"_blank\" href=https://colab.research.google.com/notebooks/data_table.ipynb>data table notebook</a>'\n",
              "            + ' to learn more about interactive tables.';\n",
              "          element.innerHTML = '';\n",
              "          dataTable['output_type'] = 'display_data';\n",
              "          await google.colab.output.renderOutput(dataTable, element);\n",
              "          const docLink = document.createElement('div');\n",
              "          docLink.innerHTML = docLinkHtml;\n",
              "          element.appendChild(docLink);\n",
              "        }\n",
              "      </script>\n",
              "    </div>\n",
              "  </div>\n"
            ]
          },
          "metadata": {},
          "execution_count": 189
        }
      ]
    },
    {
      "cell_type": "code",
      "source": [
        "data.info()"
      ],
      "metadata": {
        "colab": {
          "base_uri": "https://localhost:8080/"
        },
        "id": "_kLht80Ly-wt",
        "outputId": "2c3bc5c3-d615-45ed-8025-8e024f2252ee"
      },
      "execution_count": null,
      "outputs": [
        {
          "output_type": "stream",
          "name": "stdout",
          "text": [
            "<class 'pandas.core.frame.DataFrame'>\n",
            "RangeIndex: 17432 entries, 0 to 17431\n",
            "Data columns (total 48 columns):\n",
            " #   Column          Non-Null Count  Dtype  \n",
            "---  ------          --------------  -----  \n",
            " 0   DT_NOTIFIC      17432 non-null  object \n",
            " 1   DT_SIN_PRI      17432 non-null  object \n",
            " 2   CS_SEXO         17432 non-null  object \n",
            " 3   NU_IDADE_N      17432 non-null  int64  \n",
            " 4   CS_GESTANT      17432 non-null  float64\n",
            " 5   NOSOCOMIAL      17432 non-null  float64\n",
            " 6   FEBRE           17432 non-null  float64\n",
            " 7   TOSSE           17432 non-null  float64\n",
            " 8   GARGANTA        17432 non-null  float64\n",
            " 9   DISPNEIA        17432 non-null  float64\n",
            " 10  DESC_RESP       17432 non-null  float64\n",
            " 11  SATURACAO       17432 non-null  float64\n",
            " 12  DIARREIA        17432 non-null  float64\n",
            " 13  VOMITO          17432 non-null  float64\n",
            " 14  OUTRO_SIN       17432 non-null  float64\n",
            " 15  FATOR_RISC      17432 non-null  int64  \n",
            " 16  CARDIOPATI      17432 non-null  float64\n",
            " 17  DIABETES        17432 non-null  float64\n",
            " 18  OUT_MORBI       17432 non-null  float64\n",
            " 19  ANTIVIRAL       17432 non-null  float64\n",
            " 20  HOSPITAL        17432 non-null  float64\n",
            " 21  DT_INTERNA      16946 non-null  object \n",
            " 22  UTI             17432 non-null  float64\n",
            " 23  SUPORT_VEN      17432 non-null  float64\n",
            " 24  RAIOX_RES       17432 non-null  float64\n",
            " 25  AMOSTRA         17432 non-null  float64\n",
            " 26  TP_AMOSTRA      17432 non-null  float64\n",
            " 27  PCR_RESUL       17432 non-null  float64\n",
            " 28  DT_PCR          11096 non-null  object \n",
            " 29  POS_PCROUT      17432 non-null  float64\n",
            " 30  CRITERIO        17432 non-null  float64\n",
            " 31  EVOLUCAO        17432 non-null  int64  \n",
            " 32  DT_EVOLUCA      17295 non-null  object \n",
            " 33  DOR_ABD         17432 non-null  float64\n",
            " 34  FADIGA          17432 non-null  float64\n",
            " 35  PERD_OLFT       17432 non-null  float64\n",
            " 36  PERD_PALA       17432 non-null  float64\n",
            " 37  TOMO_RES        17432 non-null  float64\n",
            " 38  RES_AN          17432 non-null  float64\n",
            " 39  VACINA_COV      17432 non-null  float64\n",
            " 40  DOSE_1_COV      12831 non-null  object \n",
            " 41  DOSE_2_COV      12168 non-null  object \n",
            " 42  QTD_DIAS        17432 non-null  int64  \n",
            " 43  DIAS_INTERNA    17432 non-null  int64  \n",
            " 44  SINT_ATE_NOTIF  17432 non-null  int64  \n",
            " 45  PCR_EVOLUCAO    17432 non-null  int64  \n",
            " 46  DIAS_DOSE2      17432 non-null  int64  \n",
            " 47  DIAS_DOSE1      17432 non-null  int64  \n",
            "dtypes: float64(31), int64(9), object(8)\n",
            "memory usage: 6.4+ MB\n"
          ]
        }
      ]
    },
    {
      "cell_type": "code",
      "source": [
        "# Remove os atributos com datas\n",
        "data.drop(['DT_NOTIFIC', 'DT_SIN_PRI', 'DT_INTERNA', 'DT_PCR', 'DT_EVOLUCA', 'DOSE_1_COV', 'DOSE_2_COV'], axis = 1, inplace = True)\n",
        "data.shape"
      ],
      "metadata": {
        "colab": {
          "base_uri": "https://localhost:8080/"
        },
        "id": "Pkw5erOY3--9",
        "outputId": "91d7919a-2d9e-45d5-8f48-797000c6d630"
      },
      "execution_count": null,
      "outputs": [
        {
          "output_type": "execute_result",
          "data": {
            "text/plain": [
              "(17432, 41)"
            ]
          },
          "metadata": {},
          "execution_count": 191
        }
      ]
    },
    {
      "cell_type": "markdown",
      "source": [
        "# Conversão do tipo de dado"
      ],
      "metadata": {
        "id": "lR8RJSAt4DN9"
      }
    },
    {
      "cell_type": "markdown",
      "source": [
        "Alterando o atributo \"CS_SEXO\" de object para int"
      ],
      "metadata": {
        "id": "soLf-re3oSx_"
      }
    },
    {
      "cell_type": "code",
      "source": [
        "# Teste Objects\n",
        "for i, row in data.iterrows():\n",
        "  if row['CS_SEXO'] == 'M':\n",
        "    data.at[i, 'CS_SEXO'] = 1\n",
        "  if row['CS_SEXO'] == 'F':\n",
        "    data.at[i, 'CS_SEXO'] = 2\n",
        "\n",
        "# Convertendo object -> int\n",
        "data['CS_SEXO'] = data['CS_SEXO'].astype(int)\n",
        "\n",
        "data['CS_SEXO'].info()"
      ],
      "metadata": {
        "colab": {
          "base_uri": "https://localhost:8080/"
        },
        "id": "uqVdxhbr4IBG",
        "outputId": "841bf518-82b7-47c8-852b-0130227cf154"
      },
      "execution_count": null,
      "outputs": [
        {
          "output_type": "stream",
          "name": "stdout",
          "text": [
            "<class 'pandas.core.series.Series'>\n",
            "RangeIndex: 17432 entries, 0 to 17431\n",
            "Series name: CS_SEXO\n",
            "Non-Null Count  Dtype\n",
            "--------------  -----\n",
            "17432 non-null  int64\n",
            "dtypes: int64(1)\n",
            "memory usage: 136.3 KB\n"
          ]
        }
      ]
    },
    {
      "cell_type": "code",
      "source": [
        "# Convertendo float -> int\n",
        "for column in data:\n",
        "  if data[column].dtypes == 'float64':\n",
        "    data[column] = data[column].astype(int)\n",
        "\n",
        "data.info()"
      ],
      "metadata": {
        "colab": {
          "base_uri": "https://localhost:8080/"
        },
        "id": "aAvkFrkJ4Nju",
        "outputId": "4a1b7f3e-8dfe-4d09-e190-793e2346f36f"
      },
      "execution_count": null,
      "outputs": [
        {
          "output_type": "stream",
          "name": "stdout",
          "text": [
            "<class 'pandas.core.frame.DataFrame'>\n",
            "RangeIndex: 17432 entries, 0 to 17431\n",
            "Data columns (total 41 columns):\n",
            " #   Column          Non-Null Count  Dtype\n",
            "---  ------          --------------  -----\n",
            " 0   CS_SEXO         17432 non-null  int64\n",
            " 1   NU_IDADE_N      17432 non-null  int64\n",
            " 2   CS_GESTANT      17432 non-null  int64\n",
            " 3   NOSOCOMIAL      17432 non-null  int64\n",
            " 4   FEBRE           17432 non-null  int64\n",
            " 5   TOSSE           17432 non-null  int64\n",
            " 6   GARGANTA        17432 non-null  int64\n",
            " 7   DISPNEIA        17432 non-null  int64\n",
            " 8   DESC_RESP       17432 non-null  int64\n",
            " 9   SATURACAO       17432 non-null  int64\n",
            " 10  DIARREIA        17432 non-null  int64\n",
            " 11  VOMITO          17432 non-null  int64\n",
            " 12  OUTRO_SIN       17432 non-null  int64\n",
            " 13  FATOR_RISC      17432 non-null  int64\n",
            " 14  CARDIOPATI      17432 non-null  int64\n",
            " 15  DIABETES        17432 non-null  int64\n",
            " 16  OUT_MORBI       17432 non-null  int64\n",
            " 17  ANTIVIRAL       17432 non-null  int64\n",
            " 18  HOSPITAL        17432 non-null  int64\n",
            " 19  UTI             17432 non-null  int64\n",
            " 20  SUPORT_VEN      17432 non-null  int64\n",
            " 21  RAIOX_RES       17432 non-null  int64\n",
            " 22  AMOSTRA         17432 non-null  int64\n",
            " 23  TP_AMOSTRA      17432 non-null  int64\n",
            " 24  PCR_RESUL       17432 non-null  int64\n",
            " 25  POS_PCROUT      17432 non-null  int64\n",
            " 26  CRITERIO        17432 non-null  int64\n",
            " 27  EVOLUCAO        17432 non-null  int64\n",
            " 28  DOR_ABD         17432 non-null  int64\n",
            " 29  FADIGA          17432 non-null  int64\n",
            " 30  PERD_OLFT       17432 non-null  int64\n",
            " 31  PERD_PALA       17432 non-null  int64\n",
            " 32  TOMO_RES        17432 non-null  int64\n",
            " 33  RES_AN          17432 non-null  int64\n",
            " 34  VACINA_COV      17432 non-null  int64\n",
            " 35  QTD_DIAS        17432 non-null  int64\n",
            " 36  DIAS_INTERNA    17432 non-null  int64\n",
            " 37  SINT_ATE_NOTIF  17432 non-null  int64\n",
            " 38  PCR_EVOLUCAO    17432 non-null  int64\n",
            " 39  DIAS_DOSE2      17432 non-null  int64\n",
            " 40  DIAS_DOSE1      17432 non-null  int64\n",
            "dtypes: int64(41)\n",
            "memory usage: 5.5 MB\n"
          ]
        }
      ]
    },
    {
      "cell_type": "code",
      "source": [
        "data.shape"
      ],
      "metadata": {
        "colab": {
          "base_uri": "https://localhost:8080/"
        },
        "id": "_mMG1son4Nm4",
        "outputId": "e6cf9ac4-8f63-4786-867f-bbf773897a75"
      },
      "execution_count": null,
      "outputs": [
        {
          "output_type": "execute_result",
          "data": {
            "text/plain": [
              "(17432, 41)"
            ]
          },
          "metadata": {},
          "execution_count": 194
        }
      ]
    },
    {
      "cell_type": "code",
      "source": [
        "data.head()"
      ],
      "metadata": {
        "colab": {
          "base_uri": "https://localhost:8080/"
        },
        "id": "edVb_bUv4NqC",
        "outputId": "9dd6126f-d710-40b5-e457-32f5fcac60c8"
      },
      "execution_count": null,
      "outputs": [
        {
          "output_type": "execute_result",
          "data": {
            "text/plain": [
              "   CS_SEXO  NU_IDADE_N  CS_GESTANT  NOSOCOMIAL  FEBRE  TOSSE  GARGANTA  \\\n",
              "0        2          28           5           2      1      1         2   \n",
              "1        1          72           6           2      6      6         1   \n",
              "2        2          50           5           2      2      1         1   \n",
              "3        1          59           6           2      1      1         2   \n",
              "4        2          43           5           2      2      1         1   \n",
              "\n",
              "   DISPNEIA  DESC_RESP  SATURACAO  ...  PERD_PALA  TOMO_RES  RES_AN  \\\n",
              "0         2          2          2  ...          2         6       4   \n",
              "1         6          6          1  ...          1         6       1   \n",
              "2         1          1          2  ...          1         6       5   \n",
              "3         1          1          1  ...          2         6       6   \n",
              "4         2          2          2  ...          2         1       4   \n",
              "\n",
              "   VACINA_COV  QTD_DIAS  DIAS_INTERNA  SINT_ATE_NOTIF  PCR_EVOLUCAO  \\\n",
              "0           1         1             1               2             3   \n",
              "1           1        18            18               2             0   \n",
              "2           1         3             2               3             0   \n",
              "3           2        19            19              13            17   \n",
              "4           1         3             3               0             0   \n",
              "\n",
              "   DIAS_DOSE2  DIAS_DOSE1  \n",
              "0          61         141  \n",
              "1         263         286  \n",
              "2         102         214  \n",
              "3           0           0  \n",
              "4         116         200  \n",
              "\n",
              "[5 rows x 41 columns]"
            ],
            "text/html": [
              "\n",
              "\n",
              "  <div id=\"df-df161874-355a-413f-bb3e-c3d2593d5f54\">\n",
              "    <div class=\"colab-df-container\">\n",
              "      <div>\n",
              "<style scoped>\n",
              "    .dataframe tbody tr th:only-of-type {\n",
              "        vertical-align: middle;\n",
              "    }\n",
              "\n",
              "    .dataframe tbody tr th {\n",
              "        vertical-align: top;\n",
              "    }\n",
              "\n",
              "    .dataframe thead th {\n",
              "        text-align: right;\n",
              "    }\n",
              "</style>\n",
              "<table border=\"1\" class=\"dataframe\">\n",
              "  <thead>\n",
              "    <tr style=\"text-align: right;\">\n",
              "      <th></th>\n",
              "      <th>CS_SEXO</th>\n",
              "      <th>NU_IDADE_N</th>\n",
              "      <th>CS_GESTANT</th>\n",
              "      <th>NOSOCOMIAL</th>\n",
              "      <th>FEBRE</th>\n",
              "      <th>TOSSE</th>\n",
              "      <th>GARGANTA</th>\n",
              "      <th>DISPNEIA</th>\n",
              "      <th>DESC_RESP</th>\n",
              "      <th>SATURACAO</th>\n",
              "      <th>...</th>\n",
              "      <th>PERD_PALA</th>\n",
              "      <th>TOMO_RES</th>\n",
              "      <th>RES_AN</th>\n",
              "      <th>VACINA_COV</th>\n",
              "      <th>QTD_DIAS</th>\n",
              "      <th>DIAS_INTERNA</th>\n",
              "      <th>SINT_ATE_NOTIF</th>\n",
              "      <th>PCR_EVOLUCAO</th>\n",
              "      <th>DIAS_DOSE2</th>\n",
              "      <th>DIAS_DOSE1</th>\n",
              "    </tr>\n",
              "  </thead>\n",
              "  <tbody>\n",
              "    <tr>\n",
              "      <th>0</th>\n",
              "      <td>2</td>\n",
              "      <td>28</td>\n",
              "      <td>5</td>\n",
              "      <td>2</td>\n",
              "      <td>1</td>\n",
              "      <td>1</td>\n",
              "      <td>2</td>\n",
              "      <td>2</td>\n",
              "      <td>2</td>\n",
              "      <td>2</td>\n",
              "      <td>...</td>\n",
              "      <td>2</td>\n",
              "      <td>6</td>\n",
              "      <td>4</td>\n",
              "      <td>1</td>\n",
              "      <td>1</td>\n",
              "      <td>1</td>\n",
              "      <td>2</td>\n",
              "      <td>3</td>\n",
              "      <td>61</td>\n",
              "      <td>141</td>\n",
              "    </tr>\n",
              "    <tr>\n",
              "      <th>1</th>\n",
              "      <td>1</td>\n",
              "      <td>72</td>\n",
              "      <td>6</td>\n",
              "      <td>2</td>\n",
              "      <td>6</td>\n",
              "      <td>6</td>\n",
              "      <td>1</td>\n",
              "      <td>6</td>\n",
              "      <td>6</td>\n",
              "      <td>1</td>\n",
              "      <td>...</td>\n",
              "      <td>1</td>\n",
              "      <td>6</td>\n",
              "      <td>1</td>\n",
              "      <td>1</td>\n",
              "      <td>18</td>\n",
              "      <td>18</td>\n",
              "      <td>2</td>\n",
              "      <td>0</td>\n",
              "      <td>263</td>\n",
              "      <td>286</td>\n",
              "    </tr>\n",
              "    <tr>\n",
              "      <th>2</th>\n",
              "      <td>2</td>\n",
              "      <td>50</td>\n",
              "      <td>5</td>\n",
              "      <td>2</td>\n",
              "      <td>2</td>\n",
              "      <td>1</td>\n",
              "      <td>1</td>\n",
              "      <td>1</td>\n",
              "      <td>1</td>\n",
              "      <td>2</td>\n",
              "      <td>...</td>\n",
              "      <td>1</td>\n",
              "      <td>6</td>\n",
              "      <td>5</td>\n",
              "      <td>1</td>\n",
              "      <td>3</td>\n",
              "      <td>2</td>\n",
              "      <td>3</td>\n",
              "      <td>0</td>\n",
              "      <td>102</td>\n",
              "      <td>214</td>\n",
              "    </tr>\n",
              "    <tr>\n",
              "      <th>3</th>\n",
              "      <td>1</td>\n",
              "      <td>59</td>\n",
              "      <td>6</td>\n",
              "      <td>2</td>\n",
              "      <td>1</td>\n",
              "      <td>1</td>\n",
              "      <td>2</td>\n",
              "      <td>1</td>\n",
              "      <td>1</td>\n",
              "      <td>1</td>\n",
              "      <td>...</td>\n",
              "      <td>2</td>\n",
              "      <td>6</td>\n",
              "      <td>6</td>\n",
              "      <td>2</td>\n",
              "      <td>19</td>\n",
              "      <td>19</td>\n",
              "      <td>13</td>\n",
              "      <td>17</td>\n",
              "      <td>0</td>\n",
              "      <td>0</td>\n",
              "    </tr>\n",
              "    <tr>\n",
              "      <th>4</th>\n",
              "      <td>2</td>\n",
              "      <td>43</td>\n",
              "      <td>5</td>\n",
              "      <td>2</td>\n",
              "      <td>2</td>\n",
              "      <td>1</td>\n",
              "      <td>1</td>\n",
              "      <td>2</td>\n",
              "      <td>2</td>\n",
              "      <td>2</td>\n",
              "      <td>...</td>\n",
              "      <td>2</td>\n",
              "      <td>1</td>\n",
              "      <td>4</td>\n",
              "      <td>1</td>\n",
              "      <td>3</td>\n",
              "      <td>3</td>\n",
              "      <td>0</td>\n",
              "      <td>0</td>\n",
              "      <td>116</td>\n",
              "      <td>200</td>\n",
              "    </tr>\n",
              "  </tbody>\n",
              "</table>\n",
              "<p>5 rows × 41 columns</p>\n",
              "</div>\n",
              "      <button class=\"colab-df-convert\" onclick=\"convertToInteractive('df-df161874-355a-413f-bb3e-c3d2593d5f54')\"\n",
              "              title=\"Convert this dataframe to an interactive table.\"\n",
              "              style=\"display:none;\">\n",
              "\n",
              "  <svg xmlns=\"http://www.w3.org/2000/svg\" height=\"24px\"viewBox=\"0 0 24 24\"\n",
              "       width=\"24px\">\n",
              "    <path d=\"M0 0h24v24H0V0z\" fill=\"none\"/>\n",
              "    <path d=\"M18.56 5.44l.94 2.06.94-2.06 2.06-.94-2.06-.94-.94-2.06-.94 2.06-2.06.94zm-11 1L8.5 8.5l.94-2.06 2.06-.94-2.06-.94L8.5 2.5l-.94 2.06-2.06.94zm10 10l.94 2.06.94-2.06 2.06-.94-2.06-.94-.94-2.06-.94 2.06-2.06.94z\"/><path d=\"M17.41 7.96l-1.37-1.37c-.4-.4-.92-.59-1.43-.59-.52 0-1.04.2-1.43.59L10.3 9.45l-7.72 7.72c-.78.78-.78 2.05 0 2.83L4 21.41c.39.39.9.59 1.41.59.51 0 1.02-.2 1.41-.59l7.78-7.78 2.81-2.81c.8-.78.8-2.07 0-2.86zM5.41 20L4 18.59l7.72-7.72 1.47 1.35L5.41 20z\"/>\n",
              "  </svg>\n",
              "      </button>\n",
              "\n",
              "\n",
              "\n",
              "    <div id=\"df-c02a82b7-8864-41d5-b6e1-521567815ecc\">\n",
              "      <button class=\"colab-df-quickchart\" onclick=\"quickchart('df-c02a82b7-8864-41d5-b6e1-521567815ecc')\"\n",
              "              title=\"Suggest charts.\"\n",
              "              style=\"display:none;\">\n",
              "\n",
              "<svg xmlns=\"http://www.w3.org/2000/svg\" height=\"24px\"viewBox=\"0 0 24 24\"\n",
              "     width=\"24px\">\n",
              "    <g>\n",
              "        <path d=\"M19 3H5c-1.1 0-2 .9-2 2v14c0 1.1.9 2 2 2h14c1.1 0 2-.9 2-2V5c0-1.1-.9-2-2-2zM9 17H7v-7h2v7zm4 0h-2V7h2v10zm4 0h-2v-4h2v4z\"/>\n",
              "    </g>\n",
              "</svg>\n",
              "      </button>\n",
              "    </div>\n",
              "\n",
              "<style>\n",
              "  .colab-df-quickchart {\n",
              "    background-color: #E8F0FE;\n",
              "    border: none;\n",
              "    border-radius: 50%;\n",
              "    cursor: pointer;\n",
              "    display: none;\n",
              "    fill: #1967D2;\n",
              "    height: 32px;\n",
              "    padding: 0 0 0 0;\n",
              "    width: 32px;\n",
              "  }\n",
              "\n",
              "  .colab-df-quickchart:hover {\n",
              "    background-color: #E2EBFA;\n",
              "    box-shadow: 0px 1px 2px rgba(60, 64, 67, 0.3), 0px 1px 3px 1px rgba(60, 64, 67, 0.15);\n",
              "    fill: #174EA6;\n",
              "  }\n",
              "\n",
              "  [theme=dark] .colab-df-quickchart {\n",
              "    background-color: #3B4455;\n",
              "    fill: #D2E3FC;\n",
              "  }\n",
              "\n",
              "  [theme=dark] .colab-df-quickchart:hover {\n",
              "    background-color: #434B5C;\n",
              "    box-shadow: 0px 1px 3px 1px rgba(0, 0, 0, 0.15);\n",
              "    filter: drop-shadow(0px 1px 2px rgba(0, 0, 0, 0.3));\n",
              "    fill: #FFFFFF;\n",
              "  }\n",
              "</style>\n",
              "\n",
              "    <script>\n",
              "      async function quickchart(key) {\n",
              "        const containerElement = document.querySelector('#' + key);\n",
              "        const charts = await google.colab.kernel.invokeFunction(\n",
              "            'suggestCharts', [key], {});\n",
              "      }\n",
              "    </script>\n",
              "\n",
              "      <script>\n",
              "\n",
              "function displayQuickchartButton(domScope) {\n",
              "  let quickchartButtonEl =\n",
              "    domScope.querySelector('#df-c02a82b7-8864-41d5-b6e1-521567815ecc button.colab-df-quickchart');\n",
              "  quickchartButtonEl.style.display =\n",
              "    google.colab.kernel.accessAllowed ? 'block' : 'none';\n",
              "}\n",
              "\n",
              "        displayQuickchartButton(document);\n",
              "      </script>\n",
              "      <style>\n",
              "    .colab-df-container {\n",
              "      display:flex;\n",
              "      flex-wrap:wrap;\n",
              "      gap: 12px;\n",
              "    }\n",
              "\n",
              "    .colab-df-convert {\n",
              "      background-color: #E8F0FE;\n",
              "      border: none;\n",
              "      border-radius: 50%;\n",
              "      cursor: pointer;\n",
              "      display: none;\n",
              "      fill: #1967D2;\n",
              "      height: 32px;\n",
              "      padding: 0 0 0 0;\n",
              "      width: 32px;\n",
              "    }\n",
              "\n",
              "    .colab-df-convert:hover {\n",
              "      background-color: #E2EBFA;\n",
              "      box-shadow: 0px 1px 2px rgba(60, 64, 67, 0.3), 0px 1px 3px 1px rgba(60, 64, 67, 0.15);\n",
              "      fill: #174EA6;\n",
              "    }\n",
              "\n",
              "    [theme=dark] .colab-df-convert {\n",
              "      background-color: #3B4455;\n",
              "      fill: #D2E3FC;\n",
              "    }\n",
              "\n",
              "    [theme=dark] .colab-df-convert:hover {\n",
              "      background-color: #434B5C;\n",
              "      box-shadow: 0px 1px 3px 1px rgba(0, 0, 0, 0.15);\n",
              "      filter: drop-shadow(0px 1px 2px rgba(0, 0, 0, 0.3));\n",
              "      fill: #FFFFFF;\n",
              "    }\n",
              "  </style>\n",
              "\n",
              "      <script>\n",
              "        const buttonEl =\n",
              "          document.querySelector('#df-df161874-355a-413f-bb3e-c3d2593d5f54 button.colab-df-convert');\n",
              "        buttonEl.style.display =\n",
              "          google.colab.kernel.accessAllowed ? 'block' : 'none';\n",
              "\n",
              "        async function convertToInteractive(key) {\n",
              "          const element = document.querySelector('#df-df161874-355a-413f-bb3e-c3d2593d5f54');\n",
              "          const dataTable =\n",
              "            await google.colab.kernel.invokeFunction('convertToInteractive',\n",
              "                                                     [key], {});\n",
              "          if (!dataTable) return;\n",
              "\n",
              "          const docLinkHtml = 'Like what you see? Visit the ' +\n",
              "            '<a target=\"_blank\" href=https://colab.research.google.com/notebooks/data_table.ipynb>data table notebook</a>'\n",
              "            + ' to learn more about interactive tables.';\n",
              "          element.innerHTML = '';\n",
              "          dataTable['output_type'] = 'display_data';\n",
              "          await google.colab.output.renderOutput(dataTable, element);\n",
              "          const docLink = document.createElement('div');\n",
              "          docLink.innerHTML = docLinkHtml;\n",
              "          element.appendChild(docLink);\n",
              "        }\n",
              "      </script>\n",
              "    </div>\n",
              "  </div>\n"
            ]
          },
          "metadata": {},
          "execution_count": 195
        }
      ]
    },
    {
      "cell_type": "markdown",
      "source": [
        "# Análise do valor alvo"
      ],
      "metadata": {
        "id": "LLIGQIS94qMe"
      }
    },
    {
      "cell_type": "code",
      "source": [
        "target_count = data['EVOLUCAO'].value_counts()\n",
        "recuperado_count = target_count[0]\n",
        "obito_count = target_count[1]\n",
        "proportion = round(recuperado_count / obito_count, 2)\n",
        "\n",
        "# Plotar gráfico de barras\n",
        "plt.bar(['RECUPERADO', 'ÓBITO'], [recuperado_count, obito_count])\n",
        "plt.title('Distribuição das evoluções dos casos de Covid-19')\n",
        "plt.xlabel('Evolução')\n",
        "plt.ylabel('Casos')\n",
        "\n",
        "# Adicionar rótulo com a contagem de casos em cada barra\n",
        "for i, count in enumerate([recuperado_count, obito_count]):\n",
        "    plt.text(i, count + 100, str(count), ha='center')\n",
        "\n",
        "# Adicionar rótulo com a proporção\n",
        "plt.text(0.5, max(recuperado_count, obito_count) + 200, f'Proporção de {proportion} para 1', ha='center')\n",
        "\n",
        "plt.show()"
      ],
      "metadata": {
        "colab": {
          "base_uri": "https://localhost:8080/"
        },
        "id": "nQgRdWf84zHm",
        "outputId": "b8b5e101-c938-4898-bf73-9bd798c0c2e2"
      },
      "execution_count": null,
      "outputs": [
        {
          "output_type": "display_data",
          "data": {
            "text/plain": [
              "<Figure size 640x480 with 1 Axes>"
            ],
            "image/png": "[encoded data removed]"
          },
          "metadata": {}
        }
      ]
    },
    {
      "cell_type": "markdown",
      "source": [
        "# Normalização"
      ],
      "metadata": {
        "id": "UB5jC4Oz57FL"
      }
    },
    {
      "cell_type": "code",
      "source": [
        "# Separando o dataset entre atributos e rótulos\n",
        "atributos = data.drop(columns = 'EVOLUCAO')\n",
        "rotulos = data['EVOLUCAO']"
      ],
      "metadata": {
        "id": "Wx1mlycR6A_r"
      },
      "execution_count": null,
      "outputs": []
    },
    {
      "cell_type": "code",
      "source": [
        "atributos"
      ],
      "metadata": {
        "colab": {
          "base_uri": "https://localhost:8080/"
        },
        "id": "EoK1eOP9d3HK",
        "outputId": "1877483c-6eed-4be3-a858-840221527f8a"
      },
      "execution_count": null,
      "outputs": [
        {
          "output_type": "execute_result",
          "data": {
            "text/plain": [
              "       CS_SEXO  NU_IDADE_N  CS_GESTANT  NOSOCOMIAL  FEBRE  TOSSE  GARGANTA  \\\n",
              "0            2          28           5           2      1      1         2   \n",
              "1            1          72           6           2      6      6         1   \n",
              "2            2          50           5           2      2      1         1   \n",
              "3            1          59           6           2      1      1         2   \n",
              "4            2          43           5           2      2      1         1   \n",
              "...        ...         ...         ...         ...    ...    ...       ...   \n",
              "17427        1          27           6           2      1      1         2   \n",
              "17428        2          87           5           2      1      1         2   \n",
              "17429        2          92           6           2      1      1         1   \n",
              "17430        1          76           6           2      1      2         2   \n",
              "17431        2          67           5           2      2      2         2   \n",
              "\n",
              "       DISPNEIA  DESC_RESP  SATURACAO  ...  PERD_PALA  TOMO_RES  RES_AN  \\\n",
              "0             2          2          2  ...          2         6       4   \n",
              "1             6          6          1  ...          1         6       1   \n",
              "2             1          1          2  ...          1         6       5   \n",
              "3             1          1          1  ...          2         6       6   \n",
              "4             2          2          2  ...          2         1       4   \n",
              "...         ...        ...        ...  ...        ...       ...     ...   \n",
              "17427         1          1          2  ...          2         6       1   \n",
              "17428         1          1          1  ...          6         6       4   \n",
              "17429         2          2          2  ...          1         6       5   \n",
              "17430         1          1          1  ...          6         1       4   \n",
              "17431         1          1          1  ...          2         6       5   \n",
              "\n",
              "       VACINA_COV  QTD_DIAS  DIAS_INTERNA  SINT_ATE_NOTIF  PCR_EVOLUCAO  \\\n",
              "0               1         1             1               2             3   \n",
              "1               1        18            18               2             0   \n",
              "2               1         3             2               3             0   \n",
              "3               2        19            19              13            17   \n",
              "4               1         3             3               0             0   \n",
              "...           ...       ...           ...             ...           ...   \n",
              "17427           2         0             1               3             0   \n",
              "17428           1         3             3               3             3   \n",
              "17429           1         2             2               3             1   \n",
              "17430           1         7             8               7             0   \n",
              "17431           1         5             5               0             3   \n",
              "\n",
              "       DIAS_DOSE2  DIAS_DOSE1  \n",
              "0              61         141  \n",
              "1             263         286  \n",
              "2             102         214  \n",
              "3               0           0  \n",
              "4             116         200  \n",
              "...           ...         ...  \n",
              "17427           0           0  \n",
              "17428         511         536  \n",
              "17429         532         572  \n",
              "17430         575         597  \n",
              "17431         606         634  \n",
              "\n",
              "[17432 rows x 40 columns]"
            ],
            "text/html": [
              "\n",
              "\n",
              "  <div id=\"df-ed9866ed-b626-430f-b177-4b6e111a28f9\">\n",
              "    <div class=\"colab-df-container\">\n",
              "      <div>\n",
              "<style scoped>\n",
              "    .dataframe tbody tr th:only-of-type {\n",
              "        vertical-align: middle;\n",
              "    }\n",
              "\n",
              "    .dataframe tbody tr th {\n",
              "        vertical-align: top;\n",
              "    }\n",
              "\n",
              "    .dataframe thead th {\n",
              "        text-align: right;\n",
              "    }\n",
              "</style>\n",
              "<table border=\"1\" class=\"dataframe\">\n",
              "  <thead>\n",
              "    <tr style=\"text-align: right;\">\n",
              "      <th></th>\n",
              "      <th>CS_SEXO</th>\n",
              "      <th>NU_IDADE_N</th>\n",
              "      <th>CS_GESTANT</th>\n",
              "      <th>NOSOCOMIAL</th>\n",
              "      <th>FEBRE</th>\n",
              "      <th>TOSSE</th>\n",
              "      <th>GARGANTA</th>\n",
              "      <th>DISPNEIA</th>\n",
              "      <th>DESC_RESP</th>\n",
              "      <th>SATURACAO</th>\n",
              "      <th>...</th>\n",
              "      <th>PERD_PALA</th>\n",
              "      <th>TOMO_RES</th>\n",
              "      <th>RES_AN</th>\n",
              "      <th>VACINA_COV</th>\n",
              "      <th>QTD_DIAS</th>\n",
              "      <th>DIAS_INTERNA</th>\n",
              "      <th>SINT_ATE_NOTIF</th>\n",
              "      <th>PCR_EVOLUCAO</th>\n",
              "      <th>DIAS_DOSE2</th>\n",
              "      <th>DIAS_DOSE1</th>\n",
              "    </tr>\n",
              "  </thead>\n",
              "  <tbody>\n",
              "    <tr>\n",
              "      <th>0</th>\n",
              "      <td>2</td>\n",
              "      <td>28</td>\n",
              "      <td>5</td>\n",
              "      <td>2</td>\n",
              "      <td>1</td>\n",
              "      <td>1</td>\n",
              "      <td>2</td>\n",
              "      <td>2</td>\n",
              "      <td>2</td>\n",
              "      <td>2</td>\n",
              "      <td>...</td>\n",
              "      <td>2</td>\n",
              "      <td>6</td>\n",
              "      <td>4</td>\n",
              "      <td>1</td>\n",
              "      <td>1</td>\n",
              "      <td>1</td>\n",
              "      <td>2</td>\n",
              "      <td>3</td>\n",
              "      <td>61</td>\n",
              "      <td>141</td>\n",
              "    </tr>\n",
              "    <tr>\n",
              "      <th>1</th>\n",
              "      <td>1</td>\n",
              "      <td>72</td>\n",
              "      <td>6</td>\n",
              "      <td>2</td>\n",
              "      <td>6</td>\n",
              "      <td>6</td>\n",
              "      <td>1</td>\n",
              "      <td>6</td>\n",
              "      <td>6</td>\n",
              "      <td>1</td>\n",
              "      <td>...</td>\n",
              "      <td>1</td>\n",
              "      <td>6</td>\n",
              "      <td>1</td>\n",
              "      <td>1</td>\n",
              "      <td>18</td>\n",
              "      <td>18</td>\n",
              "      <td>2</td>\n",
              "      <td>0</td>\n",
              "      <td>263</td>\n",
              "      <td>286</td>\n",
              "    </tr>\n",
              "    <tr>\n",
              "      <th>2</th>\n",
              "      <td>2</td>\n",
              "      <td>50</td>\n",
              "      <td>5</td>\n",
              "      <td>2</td>\n",
              "      <td>2</td>\n",
              "      <td>1</td>\n",
              "      <td>1</td>\n",
              "      <td>1</td>\n",
              "      <td>1</td>\n",
              "      <td>2</td>\n",
              "      <td>...</td>\n",
              "      <td>1</td>\n",
              "      <td>6</td>\n",
              "      <td>5</td>\n",
              "      <td>1</td>\n",
              "      <td>3</td>\n",
              "      <td>2</td>\n",
              "      <td>3</td>\n",
              "      <td>0</td>\n",
              "      <td>102</td>\n",
              "      <td>214</td>\n",
              "    </tr>\n",
              "    <tr>\n",
              "      <th>3</th>\n",
              "      <td>1</td>\n",
              "      <td>59</td>\n",
              "      <td>6</td>\n",
              "      <td>2</td>\n",
              "      <td>1</td>\n",
              "      <td>1</td>\n",
              "      <td>2</td>\n",
              "      <td>1</td>\n",
              "      <td>1</td>\n",
              "      <td>1</td>\n",
              "      <td>...</td>\n",
              "      <td>2</td>\n",
              "      <td>6</td>\n",
              "      <td>6</td>\n",
              "      <td>2</td>\n",
              "      <td>19</td>\n",
              "      <td>19</td>\n",
              "      <td>13</td>\n",
              "      <td>17</td>\n",
              "      <td>0</td>\n",
              "      <td>0</td>\n",
              "    </tr>\n",
              "    <tr>\n",
              "      <th>4</th>\n",
              "      <td>2</td>\n",
              "      <td>43</td>\n",
              "      <td>5</td>\n",
              "      <td>2</td>\n",
              "      <td>2</td>\n",
              "      <td>1</td>\n",
              "      <td>1</td>\n",
              "      <td>2</td>\n",
              "      <td>2</td>\n",
              "      <td>2</td>\n",
              "      <td>...</td>\n",
              "      <td>2</td>\n",
              "      <td>1</td>\n",
              "      <td>4</td>\n",
              "      <td>1</td>\n",
              "      <td>3</td>\n",
              "      <td>3</td>\n",
              "      <td>0</td>\n",
              "      <td>0</td>\n",
              "      <td>116</td>\n",
              "      <td>200</td>\n",
              "    </tr>\n",
              "    <tr>\n",
              "      <th>...</th>\n",
              "      <td>...</td>\n",
              "      <td>...</td>\n",
              "      <td>...</td>\n",
              "      <td>...</td>\n",
              "      <td>...</td>\n",
              "      <td>...</td>\n",
              "      <td>...</td>\n",
              "      <td>...</td>\n",
              "      <td>...</td>\n",
              "      <td>...</td>\n",
              "      <td>...</td>\n",
              "      <td>...</td>\n",
              "      <td>...</td>\n",
              "      <td>...</td>\n",
              "      <td>...</td>\n",
              "      <td>...</td>\n",
              "      <td>...</td>\n",
              "      <td>...</td>\n",
              "      <td>...</td>\n",
              "      <td>...</td>\n",
              "      <td>...</td>\n",
              "    </tr>\n",
              "    <tr>\n",
              "      <th>17427</th>\n",
              "      <td>1</td>\n",
              "      <td>27</td>\n",
              "      <td>6</td>\n",
              "      <td>2</td>\n",
              "      <td>1</td>\n",
              "      <td>1</td>\n",
              "      <td>2</td>\n",
              "      <td>1</td>\n",
              "      <td>1</td>\n",
              "      <td>2</td>\n",
              "      <td>...</td>\n",
              "      <td>2</td>\n",
              "      <td>6</td>\n",
              "      <td>1</td>\n",
              "      <td>2</td>\n",
              "      <td>0</td>\n",
              "      <td>1</td>\n",
              "      <td>3</td>\n",
              "      <td>0</td>\n",
              "      <td>0</td>\n",
              "      <td>0</td>\n",
              "    </tr>\n",
              "    <tr>\n",
              "      <th>17428</th>\n",
              "      <td>2</td>\n",
              "      <td>87</td>\n",
              "      <td>5</td>\n",
              "      <td>2</td>\n",
              "      <td>1</td>\n",
              "      <td>1</td>\n",
              "      <td>2</td>\n",
              "      <td>1</td>\n",
              "      <td>1</td>\n",
              "      <td>1</td>\n",
              "      <td>...</td>\n",
              "      <td>6</td>\n",
              "      <td>6</td>\n",
              "      <td>4</td>\n",
              "      <td>1</td>\n",
              "      <td>3</td>\n",
              "      <td>3</td>\n",
              "      <td>3</td>\n",
              "      <td>3</td>\n",
              "      <td>511</td>\n",
              "      <td>536</td>\n",
              "    </tr>\n",
              "    <tr>\n",
              "      <th>17429</th>\n",
              "      <td>2</td>\n",
              "      <td>92</td>\n",
              "      <td>6</td>\n",
              "      <td>2</td>\n",
              "      <td>1</td>\n",
              "      <td>1</td>\n",
              "      <td>1</td>\n",
              "      <td>2</td>\n",
              "      <td>2</td>\n",
              "      <td>2</td>\n",
              "      <td>...</td>\n",
              "      <td>1</td>\n",
              "      <td>6</td>\n",
              "      <td>5</td>\n",
              "      <td>1</td>\n",
              "      <td>2</td>\n",
              "      <td>2</td>\n",
              "      <td>3</td>\n",
              "      <td>1</td>\n",
              "      <td>532</td>\n",
              "      <td>572</td>\n",
              "    </tr>\n",
              "    <tr>\n",
              "      <th>17430</th>\n",
              "      <td>1</td>\n",
              "      <td>76</td>\n",
              "      <td>6</td>\n",
              "      <td>2</td>\n",
              "      <td>1</td>\n",
              "      <td>2</td>\n",
              "      <td>2</td>\n",
              "      <td>1</td>\n",
              "      <td>1</td>\n",
              "      <td>1</td>\n",
              "      <td>...</td>\n",
              "      <td>6</td>\n",
              "      <td>1</td>\n",
              "      <td>4</td>\n",
              "      <td>1</td>\n",
              "      <td>7</td>\n",
              "      <td>8</td>\n",
              "      <td>7</td>\n",
              "      <td>0</td>\n",
              "      <td>575</td>\n",
              "      <td>597</td>\n",
              "    </tr>\n",
              "    <tr>\n",
              "      <th>17431</th>\n",
              "      <td>2</td>\n",
              "      <td>67</td>\n",
              "      <td>5</td>\n",
              "      <td>2</td>\n",
              "      <td>2</td>\n",
              "      <td>2</td>\n",
              "      <td>2</td>\n",
              "      <td>1</td>\n",
              "      <td>1</td>\n",
              "      <td>1</td>\n",
              "      <td>...</td>\n",
              "      <td>2</td>\n",
              "      <td>6</td>\n",
              "      <td>5</td>\n",
              "      <td>1</td>\n",
              "      <td>5</td>\n",
              "      <td>5</td>\n",
              "      <td>0</td>\n",
              "      <td>3</td>\n",
              "      <td>606</td>\n",
              "      <td>634</td>\n",
              "    </tr>\n",
              "  </tbody>\n",
              "</table>\n",
              "<p>17432 rows × 40 columns</p>\n",
              "</div>\n",
              "      <button class=\"colab-df-convert\" onclick=\"convertToInteractive('df-ed9866ed-b626-430f-b177-4b6e111a28f9')\"\n",
              "              title=\"Convert this dataframe to an interactive table.\"\n",
              "              style=\"display:none;\">\n",
              "\n",
              "  <svg xmlns=\"http://www.w3.org/2000/svg\" height=\"24px\"viewBox=\"0 0 24 24\"\n",
              "       width=\"24px\">\n",
              "    <path d=\"M0 0h24v24H0V0z\" fill=\"none\"/>\n",
              "    <path d=\"M18.56 5.44l.94 2.06.94-2.06 2.06-.94-2.06-.94-.94-2.06-.94 2.06-2.06.94zm-11 1L8.5 8.5l.94-2.06 2.06-.94-2.06-.94L8.5 2.5l-.94 2.06-2.06.94zm10 10l.94 2.06.94-2.06 2.06-.94-2.06-.94-.94-2.06-.94 2.06-2.06.94z\"/><path d=\"M17.41 7.96l-1.37-1.37c-.4-.4-.92-.59-1.43-.59-.52 0-1.04.2-1.43.59L10.3 9.45l-7.72 7.72c-.78.78-.78 2.05 0 2.83L4 21.41c.39.39.9.59 1.41.59.51 0 1.02-.2 1.41-.59l7.78-7.78 2.81-2.81c.8-.78.8-2.07 0-2.86zM5.41 20L4 18.59l7.72-7.72 1.47 1.35L5.41 20z\"/>\n",
              "  </svg>\n",
              "      </button>\n",
              "\n",
              "\n",
              "\n",
              "    <div id=\"df-a893490f-21c6-4d06-a6cc-d8a0f75f4bd3\">\n",
              "      <button class=\"colab-df-quickchart\" onclick=\"quickchart('df-a893490f-21c6-4d06-a6cc-d8a0f75f4bd3')\"\n",
              "              title=\"Suggest charts.\"\n",
              "              style=\"display:none;\">\n",
              "\n",
              "<svg xmlns=\"http://www.w3.org/2000/svg\" height=\"24px\"viewBox=\"0 0 24 24\"\n",
              "     width=\"24px\">\n",
              "    <g>\n",
              "        <path d=\"M19 3H5c-1.1 0-2 .9-2 2v14c0 1.1.9 2 2 2h14c1.1 0 2-.9 2-2V5c0-1.1-.9-2-2-2zM9 17H7v-7h2v7zm4 0h-2V7h2v10zm4 0h-2v-4h2v4z\"/>\n",
              "    </g>\n",
              "</svg>\n",
              "      </button>\n",
              "    </div>\n",
              "\n",
              "<style>\n",
              "  .colab-df-quickchart {\n",
              "    background-color: #E8F0FE;\n",
              "    border: none;\n",
              "    border-radius: 50%;\n",
              "    cursor: pointer;\n",
              "    display: none;\n",
              "    fill: #1967D2;\n",
              "    height: 32px;\n",
              "    padding: 0 0 0 0;\n",
              "    width: 32px;\n",
              "  }\n",
              "\n",
              "  .colab-df-quickchart:hover {\n",
              "    background-color: #E2EBFA;\n",
              "    box-shadow: 0px 1px 2px rgba(60, 64, 67, 0.3), 0px 1px 3px 1px rgba(60, 64, 67, 0.15);\n",
              "    fill: #174EA6;\n",
              "  }\n",
              "\n",
              "  [theme=dark] .colab-df-quickchart {\n",
              "    background-color: #3B4455;\n",
              "    fill: #D2E3FC;\n",
              "  }\n",
              "\n",
              "  [theme=dark] .colab-df-quickchart:hover {\n",
              "    background-color: #434B5C;\n",
              "    box-shadow: 0px 1px 3px 1px rgba(0, 0, 0, 0.15);\n",
              "    filter: drop-shadow(0px 1px 2px rgba(0, 0, 0, 0.3));\n",
              "    fill: #FFFFFF;\n",
              "  }\n",
              "</style>\n",
              "\n",
              "    <script>\n",
              "      async function quickchart(key) {\n",
              "        const containerElement = document.querySelector('#' + key);\n",
              "        const charts = await google.colab.kernel.invokeFunction(\n",
              "            'suggestCharts', [key], {});\n",
              "      }\n",
              "    </script>\n",
              "\n",
              "      <script>\n",
              "\n",
              "function displayQuickchartButton(domScope) {\n",
              "  let quickchartButtonEl =\n",
              "    domScope.querySelector('#df-a893490f-21c6-4d06-a6cc-d8a0f75f4bd3 button.colab-df-quickchart');\n",
              "  quickchartButtonEl.style.display =\n",
              "    google.colab.kernel.accessAllowed ? 'block' : 'none';\n",
              "}\n",
              "\n",
              "        displayQuickchartButton(document);\n",
              "      </script>\n",
              "      <style>\n",
              "    .colab-df-container {\n",
              "      display:flex;\n",
              "      flex-wrap:wrap;\n",
              "      gap: 12px;\n",
              "    }\n",
              "\n",
              "    .colab-df-convert {\n",
              "      background-color: #E8F0FE;\n",
              "      border: none;\n",
              "      border-radius: 50%;\n",
              "      cursor: pointer;\n",
              "      display: none;\n",
              "      fill: #1967D2;\n",
              "      height: 32px;\n",
              "      padding: 0 0 0 0;\n",
              "      width: 32px;\n",
              "    }\n",
              "\n",
              "    .colab-df-convert:hover {\n",
              "      background-color: #E2EBFA;\n",
              "      box-shadow: 0px 1px 2px rgba(60, 64, 67, 0.3), 0px 1px 3px 1px rgba(60, 64, 67, 0.15);\n",
              "      fill: #174EA6;\n",
              "    }\n",
              "\n",
              "    [theme=dark] .colab-df-convert {\n",
              "      background-color: #3B4455;\n",
              "      fill: #D2E3FC;\n",
              "    }\n",
              "\n",
              "    [theme=dark] .colab-df-convert:hover {\n",
              "      background-color: #434B5C;\n",
              "      box-shadow: 0px 1px 3px 1px rgba(0, 0, 0, 0.15);\n",
              "      filter: drop-shadow(0px 1px 2px rgba(0, 0, 0, 0.3));\n",
              "      fill: #FFFFFF;\n",
              "    }\n",
              "  </style>\n",
              "\n",
              "      <script>\n",
              "        const buttonEl =\n",
              "          document.querySelector('#df-ed9866ed-b626-430f-b177-4b6e111a28f9 button.colab-df-convert');\n",
              "        buttonEl.style.display =\n",
              "          google.colab.kernel.accessAllowed ? 'block' : 'none';\n",
              "\n",
              "        async function convertToInteractive(key) {\n",
              "          const element = document.querySelector('#df-ed9866ed-b626-430f-b177-4b6e111a28f9');\n",
              "          const dataTable =\n",
              "            await google.colab.kernel.invokeFunction('convertToInteractive',\n",
              "                                                     [key], {});\n",
              "          if (!dataTable) return;\n",
              "\n",
              "          const docLinkHtml = 'Like what you see? Visit the ' +\n",
              "            '<a target=\"_blank\" href=https://colab.research.google.com/notebooks/data_table.ipynb>data table notebook</a>'\n",
              "            + ' to learn more about interactive tables.';\n",
              "          element.innerHTML = '';\n",
              "          dataTable['output_type'] = 'display_data';\n",
              "          await google.colab.output.renderOutput(dataTable, element);\n",
              "          const docLink = document.createElement('div');\n",
              "          docLink.innerHTML = docLinkHtml;\n",
              "          element.appendChild(docLink);\n",
              "        }\n",
              "      </script>\n",
              "    </div>\n",
              "  </div>\n"
            ]
          },
          "metadata": {},
          "execution_count": 198
        }
      ]
    },
    {
      "cell_type": "code",
      "source": [
        "# Normalização\n",
        "atributosNormalizados = StandardScaler().fit_transform(atributos)"
      ],
      "metadata": {
        "id": "fN7gT8eXd3p3"
      },
      "execution_count": null,
      "outputs": []
    },
    {
      "cell_type": "code",
      "source": [
        "atributosNormalizados"
      ],
      "metadata": {
        "colab": {
          "base_uri": "https://localhost:8080/"
        },
        "id": "_Dudvfoad35r",
        "outputId": "c5d6f7a5-f63f-49de-94e4-79e598006f0e"
      },
      "execution_count": null,
      "outputs": [
        {
          "output_type": "execute_result",
          "data": {
            "text/plain": [
              "array([[ 0.99542122, -1.24214463, -0.71867654, ..., -0.19781279,\n",
              "        -0.02995595, -0.75664128],\n",
              "       [-1.00459984,  0.44322882,  0.65787213, ..., -0.47798552,\n",
              "        -0.00699514, -0.05333584],\n",
              "       [ 0.99542122, -0.3994579 , -0.71867654, ..., -0.47798552,\n",
              "        -0.02529559, -0.40256337],\n",
              "       ...,\n",
              "       [ 0.99542122,  1.20930765,  0.65787213, ..., -0.38459461,\n",
              "         0.02358139,  1.3338735 ],\n",
              "       [-1.00459984,  0.59644458,  0.65787213, ..., -0.47798552,\n",
              "         0.02846909,  1.45513306],\n",
              "       [ 0.99542122,  0.25170911, -0.71867654, ..., -0.19781279,\n",
              "         0.03199278,  1.6345972 ]])"
            ]
          },
          "metadata": {},
          "execution_count": 200
        }
      ]
    },
    {
      "cell_type": "markdown",
      "source": [
        "# SMOTE 85%"
      ],
      "metadata": {
        "id": "1ZoM6lDcZfsT"
      }
    },
    {
      "cell_type": "code",
      "source": [
        "np.bincount(rotulos)"
      ],
      "metadata": {
        "colab": {
          "base_uri": "https://localhost:8080/"
        },
        "id": "xBClrzEP7IHg",
        "outputId": "5df56a60-7f9c-4899-bdde-21d86d1989fd"
      },
      "execution_count": null,
      "outputs": [
        {
          "output_type": "execute_result",
          "data": {
            "text/plain": [
              "array([13521,  3911])"
            ]
          },
          "metadata": {},
          "execution_count": 201
        }
      ]
    },
    {
      "cell_type": "code",
      "source": [
        "# instância\n",
        "smt = SMOTE(sampling_strategy=0.85)"
      ],
      "metadata": {
        "id": "jzM4q9ROZiP7"
      },
      "execution_count": null,
      "outputs": []
    },
    {
      "cell_type": "code",
      "source": [
        "# Balanceia os dados\n",
        "atributosBalanceados, rotulosBalanceados = smt.fit_resample(atributosNormalizados, rotulos)"
      ],
      "metadata": {
        "id": "8Q37YoBq8hK-"
      },
      "execution_count": null,
      "outputs": []
    },
    {
      "cell_type": "code",
      "source": [
        "np.bincount(rotulosBalanceados)"
      ],
      "metadata": {
        "colab": {
          "base_uri": "https://localhost:8080/"
        },
        "id": "u0sTPVmDeE6U",
        "outputId": "eca5ba4d-d17f-48a5-8775-5621389604bf"
      },
      "execution_count": null,
      "outputs": [
        {
          "output_type": "execute_result",
          "data": {
            "text/plain": [
              "array([13521, 11492])"
            ]
          },
          "metadata": {},
          "execution_count": 204
        }
      ]
    },
    {
      "cell_type": "code",
      "source": [
        "grafico = sns.countplot(x=rotulosBalanceados)"
      ],
      "metadata": {
        "colab": {
          "base_uri": "https://localhost:8080/"
        },
        "id": "ZepIzP_K9FOy",
        "outputId": "a096963d-2dd1-4cd9-f1e8-5cde94457284"
      },
      "execution_count": null,
      "outputs": [
        {
          "output_type": "display_data",
          "data": {
            "text/plain": [
              "<Figure size 640x480 with 1 Axes>"
            ],
            "image/png": "[encoded data removed]"
          },
          "metadata": {}
        }
      ]
    },
    {
      "cell_type": "markdown",
      "source": [
        "# Gerando Dataset"
      ],
      "metadata": {
        "id": "vpGh7SwM5bKu"
      }
    },
    {
      "cell_type": "code",
      "source": [
        "atributosBalanceados"
      ],
      "metadata": {
        "colab": {
          "base_uri": "https://localhost:8080/"
        },
        "id": "1SEaw_ct9Naq",
        "outputId": "4f8bc057-cbdd-462b-b6e7-cd48675621c0"
      },
      "execution_count": null,
      "outputs": [
        {
          "output_type": "execute_result",
          "data": {
            "text/plain": [
              "array([[ 0.99542122, -1.24214463, -0.71867654, ..., -0.19781279,\n",
              "        -0.02995595, -0.75664128],\n",
              "       [-1.00459984,  0.44322882,  0.65787213, ..., -0.47798552,\n",
              "        -0.00699514, -0.05333584],\n",
              "       [ 0.99542122, -0.3994579 , -0.71867654, ..., -0.47798552,\n",
              "        -0.02529559, -0.40256337],\n",
              "       ...,\n",
              "       [ 0.99542122,  0.91234706,  0.65787213, ..., -0.4616165 ,\n",
              "         0.01398743,  0.88057889],\n",
              "       [-1.00459984,  0.50901119,  0.65787213, ..., -0.02092882,\n",
              "        -0.0196491 , -0.64208932],\n",
              "       [-1.00459984,  0.87874884,  0.65787213, ..., -0.47798552,\n",
              "        -0.00274469,  0.10645921]])"
            ]
          },
          "metadata": {},
          "execution_count": 206
        }
      ]
    },
    {
      "cell_type": "code",
      "source": [
        "datasetBalanceado = pd.DataFrame(atributosBalanceados, columns=atributos.columns)"
      ],
      "metadata": {
        "id": "IokD-yyS9P-9"
      },
      "execution_count": null,
      "outputs": []
    },
    {
      "cell_type": "code",
      "source": [
        "datasetBalanceado['EVOLUCAO'] = rotulosBalanceados"
      ],
      "metadata": {
        "id": "fUxSqkBy9Y2a"
      },
      "execution_count": null,
      "outputs": []
    },
    {
      "cell_type": "code",
      "source": [
        "datasetBalanceado"
      ],
      "metadata": {
        "colab": {
          "base_uri": "https://localhost:8080/",
          "height": 487
        },
        "id": "Ue8iCBYxCtEK",
        "outputId": "97dcc422-a948-48c2-ff8b-f0042c3277ee"
      },
      "execution_count": null,
      "outputs": [
        {
          "output_type": "execute_result",
          "data": {
            "text/plain": [
              "        CS_SEXO  NU_IDADE_N  CS_GESTANT  NOSOCOMIAL     FEBRE     TOSSE  \\\n",
              "0      0.995421   -1.242145   -0.718677   -0.291673 -0.699049 -0.561770   \n",
              "1     -1.004600    0.443229    0.657872   -0.291673  2.173339  2.492745   \n",
              "2      0.995421   -0.399458   -0.718677   -0.291673 -0.124571 -0.561770   \n",
              "3     -1.004600   -0.054722    0.657872   -0.291673 -0.699049 -0.561770   \n",
              "4      0.995421   -0.667585   -0.718677   -0.291673 -0.124571 -0.561770   \n",
              "...         ...         ...         ...         ...       ...       ...   \n",
              "25008 -1.004600    0.712640    0.657872   -0.291673 -0.124571 -0.123948   \n",
              "25009  0.995421    1.065482   -0.718677   -0.291673 -0.124571 -0.089189   \n",
              "25010  0.995421    0.912347    0.657872   -0.291673 -0.699049  0.049133   \n",
              "25011 -1.004600    0.509011    0.657872    3.139125  0.686408 -0.561770   \n",
              "25012 -1.004600    0.878749    0.657872   -0.291673 -0.169803  0.049133   \n",
              "\n",
              "       GARGANTA  DISPNEIA  DESC_RESP  SATURACAO  ...  TOMO_RES    RES_AN  \\\n",
              "0     -0.427354 -0.039069  -0.201868  -0.085837  ...  0.545826  0.553550   \n",
              "1     -0.968870  2.321590   1.968317  -0.664007  ...  0.545826 -1.105958   \n",
              "2     -0.968870 -0.629234  -0.744414  -0.085837  ...  0.545826  1.106720   \n",
              "3     -0.427354 -0.629234  -0.744414  -0.664007  ...  0.545826  1.659889   \n",
              "4     -0.968870 -0.039069  -0.201868  -0.085837  ... -2.106320  0.553550   \n",
              "...         ...       ...        ...        ...  ...       ...       ...   \n",
              "25008 -0.427354 -0.629234  -0.201868  -0.085837  ...  0.545826  0.553550   \n",
              "25009 -0.427354 -0.495607  -0.201868  -0.533096  ... -2.106320  0.553550   \n",
              "25010 -0.873956 -0.629234  -0.744414  -0.562669  ...  0.545826 -1.105958   \n",
              "25011  0.337094  2.321590   1.968317   2.226844  ... -2.106320  1.106720   \n",
              "25012 -0.427354 -0.629234  -0.744414  -0.664007  ...  0.545826 -1.105958   \n",
              "\n",
              "       VACINA_COV  QTD_DIAS  DIAS_INTERNA  SINT_ATE_NOTIF  PCR_EVOLUCAO  \\\n",
              "0       -0.409720 -0.444636     -0.568138       -0.344578     -0.197813   \n",
              "1       -0.409720  0.268908      0.656730       -0.344578     -0.477986   \n",
              "2       -0.409720 -0.360690     -0.496087       -0.303805     -0.477986   \n",
              "3        0.956430  0.310881      0.728781        0.103916      1.109660   \n",
              "4       -0.409720 -0.360690     -0.424036       -0.426122     -0.477986   \n",
              "...           ...       ...           ...             ...           ...   \n",
              "25008   -0.409720 -0.391474     -0.476881        0.273805      0.043453   \n",
              "25009   -0.409720 -0.221308     -0.296247       -0.352268     -0.125568   \n",
              "25010   -0.409720 -0.306170     -0.271026       -0.358870     -0.461616   \n",
              "25011    0.249224  0.012621      0.326137       -0.220821     -0.020929   \n",
              "25012   -0.409720 -0.486609     -0.507433        0.203761     -0.477986   \n",
              "\n",
              "       DIAS_DOSE2  DIAS_DOSE1  EVOLUCAO  \n",
              "0       -0.029956   -0.756641         0  \n",
              "1       -0.006995   -0.053336         0  \n",
              "2       -0.025296   -0.402563         0  \n",
              "3       -0.036890   -1.440545         1  \n",
              "4       -0.023704   -0.470469         0  \n",
              "...           ...         ...       ...  \n",
              "25008    0.002818    0.602445         1  \n",
              "25009   -0.001490    0.427673         1  \n",
              "25010    0.013987    0.880579         1  \n",
              "25011   -0.019649   -0.642089         1  \n",
              "25012   -0.002745    0.106459         1  \n",
              "\n",
              "[25013 rows x 41 columns]"
            ],
            "text/html": [
              "\n",
              "\n",
              "  <div id=\"df-3e629254-0a32-4be5-b40d-0e2b362fbedd\">\n",
              "    <div class=\"colab-df-container\">\n",
              "      <div>\n",
              "<style scoped>\n",
              "    .dataframe tbody tr th:only-of-type {\n",
              "        vertical-align: middle;\n",
              "    }\n",
              "\n",
              "    .dataframe tbody tr th {\n",
              "        vertical-align: top;\n",
              "    }\n",
              "\n",
              "    .dataframe thead th {\n",
              "        text-align: right;\n",
              "    }\n",
              "</style>\n",
              "<table border=\"1\" class=\"dataframe\">\n",
              "  <thead>\n",
              "    <tr style=\"text-align: right;\">\n",
              "      <th></th>\n",
              "      <th>CS_SEXO</th>\n",
              "      <th>NU_IDADE_N</th>\n",
              "      <th>CS_GESTANT</th>\n",
              "      <th>NOSOCOMIAL</th>\n",
              "      <th>FEBRE</th>\n",
              "      <th>TOSSE</th>\n",
              "      <th>GARGANTA</th>\n",
              "      <th>DISPNEIA</th>\n",
              "      <th>DESC_RESP</th>\n",
              "      <th>SATURACAO</th>\n",
              "      <th>...</th>\n",
              "      <th>TOMO_RES</th>\n",
              "      <th>RES_AN</th>\n",
              "      <th>VACINA_COV</th>\n",
              "      <th>QTD_DIAS</th>\n",
              "      <th>DIAS_INTERNA</th>\n",
              "      <th>SINT_ATE_NOTIF</th>\n",
              "      <th>PCR_EVOLUCAO</th>\n",
              "      <th>DIAS_DOSE2</th>\n",
              "      <th>DIAS_DOSE1</th>\n",
              "      <th>EVOLUCAO</th>\n",
              "    </tr>\n",
              "  </thead>\n",
              "  <tbody>\n",
              "    <tr>\n",
              "      <th>0</th>\n",
              "      <td>0.995421</td>\n",
              "      <td>-1.242145</td>\n",
              "      <td>-0.718677</td>\n",
              "      <td>-0.291673</td>\n",
              "      <td>-0.699049</td>\n",
              "      <td>-0.561770</td>\n",
              "      <td>-0.427354</td>\n",
              "      <td>-0.039069</td>\n",
              "      <td>-0.201868</td>\n",
              "      <td>-0.085837</td>\n",
              "      <td>...</td>\n",
              "      <td>0.545826</td>\n",
              "      <td>0.553550</td>\n",
              "      <td>-0.409720</td>\n",
              "      <td>-0.444636</td>\n",
              "      <td>-0.568138</td>\n",
              "      <td>-0.344578</td>\n",
              "      <td>-0.197813</td>\n",
              "      <td>-0.029956</td>\n",
              "      <td>-0.756641</td>\n",
              "      <td>0</td>\n",
              "    </tr>\n",
              "    <tr>\n",
              "      <th>1</th>\n",
              "      <td>-1.004600</td>\n",
              "      <td>0.443229</td>\n",
              "      <td>0.657872</td>\n",
              "      <td>-0.291673</td>\n",
              "      <td>2.173339</td>\n",
              "      <td>2.492745</td>\n",
              "      <td>-0.968870</td>\n",
              "      <td>2.321590</td>\n",
              "      <td>1.968317</td>\n",
              "      <td>-0.664007</td>\n",
              "      <td>...</td>\n",
              "      <td>0.545826</td>\n",
              "      <td>-1.105958</td>\n",
              "      <td>-0.409720</td>\n",
              "      <td>0.268908</td>\n",
              "      <td>0.656730</td>\n",
              "      <td>-0.344578</td>\n",
              "      <td>-0.477986</td>\n",
              "      <td>-0.006995</td>\n",
              "      <td>-0.053336</td>\n",
              "      <td>0</td>\n",
              "    </tr>\n",
              "    <tr>\n",
              "      <th>2</th>\n",
              "      <td>0.995421</td>\n",
              "      <td>-0.399458</td>\n",
              "      <td>-0.718677</td>\n",
              "      <td>-0.291673</td>\n",
              "      <td>-0.124571</td>\n",
              "      <td>-0.561770</td>\n",
              "      <td>-0.968870</td>\n",
              "      <td>-0.629234</td>\n",
              "      <td>-0.744414</td>\n",
              "      <td>-0.085837</td>\n",
              "      <td>...</td>\n",
              "      <td>0.545826</td>\n",
              "      <td>1.106720</td>\n",
              "      <td>-0.409720</td>\n",
              "      <td>-0.360690</td>\n",
              "      <td>-0.496087</td>\n",
              "      <td>-0.303805</td>\n",
              "      <td>-0.477986</td>\n",
              "      <td>-0.025296</td>\n",
              "      <td>-0.402563</td>\n",
              "      <td>0</td>\n",
              "    </tr>\n",
              "    <tr>\n",
              "      <th>3</th>\n",
              "      <td>-1.004600</td>\n",
              "      <td>-0.054722</td>\n",
              "      <td>0.657872</td>\n",
              "      <td>-0.291673</td>\n",
              "      <td>-0.699049</td>\n",
              "      <td>-0.561770</td>\n",
              "      <td>-0.427354</td>\n",
              "      <td>-0.629234</td>\n",
              "      <td>-0.744414</td>\n",
              "      <td>-0.664007</td>\n",
              "      <td>...</td>\n",
              "      <td>0.545826</td>\n",
              "      <td>1.659889</td>\n",
              "      <td>0.956430</td>\n",
              "      <td>0.310881</td>\n",
              "      <td>0.728781</td>\n",
              "      <td>0.103916</td>\n",
              "      <td>1.109660</td>\n",
              "      <td>-0.036890</td>\n",
              "      <td>-1.440545</td>\n",
              "      <td>1</td>\n",
              "    </tr>\n",
              "    <tr>\n",
              "      <th>4</th>\n",
              "      <td>0.995421</td>\n",
              "      <td>-0.667585</td>\n",
              "      <td>-0.718677</td>\n",
              "      <td>-0.291673</td>\n",
              "      <td>-0.124571</td>\n",
              "      <td>-0.561770</td>\n",
              "      <td>-0.968870</td>\n",
              "      <td>-0.039069</td>\n",
              "      <td>-0.201868</td>\n",
              "      <td>-0.085837</td>\n",
              "      <td>...</td>\n",
              "      <td>-2.106320</td>\n",
              "      <td>0.553550</td>\n",
              "      <td>-0.409720</td>\n",
              "      <td>-0.360690</td>\n",
              "      <td>-0.424036</td>\n",
              "      <td>-0.426122</td>\n",
              "      <td>-0.477986</td>\n",
              "      <td>-0.023704</td>\n",
              "      <td>-0.470469</td>\n",
              "      <td>0</td>\n",
              "    </tr>\n",
              "    <tr>\n",
              "      <th>...</th>\n",
              "      <td>...</td>\n",
              "      <td>...</td>\n",
              "      <td>...</td>\n",
              "      <td>...</td>\n",
              "      <td>...</td>\n",
              "      <td>...</td>\n",
              "      <td>...</td>\n",
              "      <td>...</td>\n",
              "      <td>...</td>\n",
              "      <td>...</td>\n",
              "      <td>...</td>\n",
              "      <td>...</td>\n",
              "      <td>...</td>\n",
              "      <td>...</td>\n",
              "      <td>...</td>\n",
              "      <td>...</td>\n",
              "      <td>...</td>\n",
              "      <td>...</td>\n",
              "      <td>...</td>\n",
              "      <td>...</td>\n",
              "      <td>...</td>\n",
              "    </tr>\n",
              "    <tr>\n",
              "      <th>25008</th>\n",
              "      <td>-1.004600</td>\n",
              "      <td>0.712640</td>\n",
              "      <td>0.657872</td>\n",
              "      <td>-0.291673</td>\n",
              "      <td>-0.124571</td>\n",
              "      <td>-0.123948</td>\n",
              "      <td>-0.427354</td>\n",
              "      <td>-0.629234</td>\n",
              "      <td>-0.201868</td>\n",
              "      <td>-0.085837</td>\n",
              "      <td>...</td>\n",
              "      <td>0.545826</td>\n",
              "      <td>0.553550</td>\n",
              "      <td>-0.409720</td>\n",
              "      <td>-0.391474</td>\n",
              "      <td>-0.476881</td>\n",
              "      <td>0.273805</td>\n",
              "      <td>0.043453</td>\n",
              "      <td>0.002818</td>\n",
              "      <td>0.602445</td>\n",
              "      <td>1</td>\n",
              "    </tr>\n",
              "    <tr>\n",
              "      <th>25009</th>\n",
              "      <td>0.995421</td>\n",
              "      <td>1.065482</td>\n",
              "      <td>-0.718677</td>\n",
              "      <td>-0.291673</td>\n",
              "      <td>-0.124571</td>\n",
              "      <td>-0.089189</td>\n",
              "      <td>-0.427354</td>\n",
              "      <td>-0.495607</td>\n",
              "      <td>-0.201868</td>\n",
              "      <td>-0.533096</td>\n",
              "      <td>...</td>\n",
              "      <td>-2.106320</td>\n",
              "      <td>0.553550</td>\n",
              "      <td>-0.409720</td>\n",
              "      <td>-0.221308</td>\n",
              "      <td>-0.296247</td>\n",
              "      <td>-0.352268</td>\n",
              "      <td>-0.125568</td>\n",
              "      <td>-0.001490</td>\n",
              "      <td>0.427673</td>\n",
              "      <td>1</td>\n",
              "    </tr>\n",
              "    <tr>\n",
              "      <th>25010</th>\n",
              "      <td>0.995421</td>\n",
              "      <td>0.912347</td>\n",
              "      <td>0.657872</td>\n",
              "      <td>-0.291673</td>\n",
              "      <td>-0.699049</td>\n",
              "      <td>0.049133</td>\n",
              "      <td>-0.873956</td>\n",
              "      <td>-0.629234</td>\n",
              "      <td>-0.744414</td>\n",
              "      <td>-0.562669</td>\n",
              "      <td>...</td>\n",
              "      <td>0.545826</td>\n",
              "      <td>-1.105958</td>\n",
              "      <td>-0.409720</td>\n",
              "      <td>-0.306170</td>\n",
              "      <td>-0.271026</td>\n",
              "      <td>-0.358870</td>\n",
              "      <td>-0.461616</td>\n",
              "      <td>0.013987</td>\n",
              "      <td>0.880579</td>\n",
              "      <td>1</td>\n",
              "    </tr>\n",
              "    <tr>\n",
              "      <th>25011</th>\n",
              "      <td>-1.004600</td>\n",
              "      <td>0.509011</td>\n",
              "      <td>0.657872</td>\n",
              "      <td>3.139125</td>\n",
              "      <td>0.686408</td>\n",
              "      <td>-0.561770</td>\n",
              "      <td>0.337094</td>\n",
              "      <td>2.321590</td>\n",
              "      <td>1.968317</td>\n",
              "      <td>2.226844</td>\n",
              "      <td>...</td>\n",
              "      <td>-2.106320</td>\n",
              "      <td>1.106720</td>\n",
              "      <td>0.249224</td>\n",
              "      <td>0.012621</td>\n",
              "      <td>0.326137</td>\n",
              "      <td>-0.220821</td>\n",
              "      <td>-0.020929</td>\n",
              "      <td>-0.019649</td>\n",
              "      <td>-0.642089</td>\n",
              "      <td>1</td>\n",
              "    </tr>\n",
              "    <tr>\n",
              "      <th>25012</th>\n",
              "      <td>-1.004600</td>\n",
              "      <td>0.878749</td>\n",
              "      <td>0.657872</td>\n",
              "      <td>-0.291673</td>\n",
              "      <td>-0.169803</td>\n",
              "      <td>0.049133</td>\n",
              "      <td>-0.427354</td>\n",
              "      <td>-0.629234</td>\n",
              "      <td>-0.744414</td>\n",
              "      <td>-0.664007</td>\n",
              "      <td>...</td>\n",
              "      <td>0.545826</td>\n",
              "      <td>-1.105958</td>\n",
              "      <td>-0.409720</td>\n",
              "      <td>-0.486609</td>\n",
              "      <td>-0.507433</td>\n",
              "      <td>0.203761</td>\n",
              "      <td>-0.477986</td>\n",
              "      <td>-0.002745</td>\n",
              "      <td>0.106459</td>\n",
              "      <td>1</td>\n",
              "    </tr>\n",
              "  </tbody>\n",
              "</table>\n",
              "<p>25013 rows × 41 columns</p>\n",
              "</div>\n",
              "      <button class=\"colab-df-convert\" onclick=\"convertToInteractive('df-3e629254-0a32-4be5-b40d-0e2b362fbedd')\"\n",
              "              title=\"Convert this dataframe to an interactive table.\"\n",
              "              style=\"display:none;\">\n",
              "\n",
              "  <svg xmlns=\"http://www.w3.org/2000/svg\" height=\"24px\"viewBox=\"0 0 24 24\"\n",
              "       width=\"24px\">\n",
              "    <path d=\"M0 0h24v24H0V0z\" fill=\"none\"/>\n",
              "    <path d=\"M18.56 5.44l.94 2.06.94-2.06 2.06-.94-2.06-.94-.94-2.06-.94 2.06-2.06.94zm-11 1L8.5 8.5l.94-2.06 2.06-.94-2.06-.94L8.5 2.5l-.94 2.06-2.06.94zm10 10l.94 2.06.94-2.06 2.06-.94-2.06-.94-.94-2.06-.94 2.06-2.06.94z\"/><path d=\"M17.41 7.96l-1.37-1.37c-.4-.4-.92-.59-1.43-.59-.52 0-1.04.2-1.43.59L10.3 9.45l-7.72 7.72c-.78.78-.78 2.05 0 2.83L4 21.41c.39.39.9.59 1.41.59.51 0 1.02-.2 1.41-.59l7.78-7.78 2.81-2.81c.8-.78.8-2.07 0-2.86zM5.41 20L4 18.59l7.72-7.72 1.47 1.35L5.41 20z\"/>\n",
              "  </svg>\n",
              "      </button>\n",
              "\n",
              "\n",
              "\n",
              "    <div id=\"df-83eae2ef-7a84-4429-972d-1b68b9b3d5a0\">\n",
              "      <button class=\"colab-df-quickchart\" onclick=\"quickchart('df-83eae2ef-7a84-4429-972d-1b68b9b3d5a0')\"\n",
              "              title=\"Suggest charts.\"\n",
              "              style=\"display:none;\">\n",
              "\n",
              "<svg xmlns=\"http://www.w3.org/2000/svg\" height=\"24px\"viewBox=\"0 0 24 24\"\n",
              "     width=\"24px\">\n",
              "    <g>\n",
              "        <path d=\"M19 3H5c-1.1 0-2 .9-2 2v14c0 1.1.9 2 2 2h14c1.1 0 2-.9 2-2V5c0-1.1-.9-2-2-2zM9 17H7v-7h2v7zm4 0h-2V7h2v10zm4 0h-2v-4h2v4z\"/>\n",
              "    </g>\n",
              "</svg>\n",
              "      </button>\n",
              "    </div>\n",
              "\n",
              "<style>\n",
              "  .colab-df-quickchart {\n",
              "    background-color: #E8F0FE;\n",
              "    border: none;\n",
              "    border-radius: 50%;\n",
              "    cursor: pointer;\n",
              "    display: none;\n",
              "    fill: #1967D2;\n",
              "    height: 32px;\n",
              "    padding: 0 0 0 0;\n",
              "    width: 32px;\n",
              "  }\n",
              "\n",
              "  .colab-df-quickchart:hover {\n",
              "    background-color: #E2EBFA;\n",
              "    box-shadow: 0px 1px 2px rgba(60, 64, 67, 0.3), 0px 1px 3px 1px rgba(60, 64, 67, 0.15);\n",
              "    fill: #174EA6;\n",
              "  }\n",
              "\n",
              "  [theme=dark] .colab-df-quickchart {\n",
              "    background-color: #3B4455;\n",
              "    fill: #D2E3FC;\n",
              "  }\n",
              "\n",
              "  [theme=dark] .colab-df-quickchart:hover {\n",
              "    background-color: #434B5C;\n",
              "    box-shadow: 0px 1px 3px 1px rgba(0, 0, 0, 0.15);\n",
              "    filter: drop-shadow(0px 1px 2px rgba(0, 0, 0, 0.3));\n",
              "    fill: #FFFFFF;\n",
              "  }\n",
              "</style>\n",
              "\n",
              "    <script>\n",
              "      async function quickchart(key) {\n",
              "        const containerElement = document.querySelector('#' + key);\n",
              "        const charts = await google.colab.kernel.invokeFunction(\n",
              "            'suggestCharts', [key], {});\n",
              "      }\n",
              "    </script>\n",
              "\n",
              "      <script>\n",
              "\n",
              "function displayQuickchartButton(domScope) {\n",
              "  let quickchartButtonEl =\n",
              "    domScope.querySelector('#df-83eae2ef-7a84-4429-972d-1b68b9b3d5a0 button.colab-df-quickchart');\n",
              "  quickchartButtonEl.style.display =\n",
              "    google.colab.kernel.accessAllowed ? 'block' : 'none';\n",
              "}\n",
              "\n",
              "        displayQuickchartButton(document);\n",
              "      </script>\n",
              "      <style>\n",
              "    .colab-df-container {\n",
              "      display:flex;\n",
              "      flex-wrap:wrap;\n",
              "      gap: 12px;\n",
              "    }\n",
              "\n",
              "    .colab-df-convert {\n",
              "      background-color: #E8F0FE;\n",
              "      border: none;\n",
              "      border-radius: 50%;\n",
              "      cursor: pointer;\n",
              "      display: none;\n",
              "      fill: #1967D2;\n",
              "      height: 32px;\n",
              "      padding: 0 0 0 0;\n",
              "      width: 32px;\n",
              "    }\n",
              "\n",
              "    .colab-df-convert:hover {\n",
              "      background-color: #E2EBFA;\n",
              "      box-shadow: 0px 1px 2px rgba(60, 64, 67, 0.3), 0px 1px 3px 1px rgba(60, 64, 67, 0.15);\n",
              "      fill: #174EA6;\n",
              "    }\n",
              "\n",
              "    [theme=dark] .colab-df-convert {\n",
              "      background-color: #3B4455;\n",
              "      fill: #D2E3FC;\n",
              "    }\n",
              "\n",
              "    [theme=dark] .colab-df-convert:hover {\n",
              "      background-color: #434B5C;\n",
              "      box-shadow: 0px 1px 3px 1px rgba(0, 0, 0, 0.15);\n",
              "      filter: drop-shadow(0px 1px 2px rgba(0, 0, 0, 0.3));\n",
              "      fill: #FFFFFF;\n",
              "    }\n",
              "  </style>\n",
              "\n",
              "      <script>\n",
              "        const buttonEl =\n",
              "          document.querySelector('#df-3e629254-0a32-4be5-b40d-0e2b362fbedd button.colab-df-convert');\n",
              "        buttonEl.style.display =\n",
              "          google.colab.kernel.accessAllowed ? 'block' : 'none';\n",
              "\n",
              "        async function convertToInteractive(key) {\n",
              "          const element = document.querySelector('#df-3e629254-0a32-4be5-b40d-0e2b362fbedd');\n",
              "          const dataTable =\n",
              "            await google.colab.kernel.invokeFunction('convertToInteractive',\n",
              "                                                     [key], {});\n",
              "          if (!dataTable) return;\n",
              "\n",
              "          const docLinkHtml = 'Like what you see? Visit the ' +\n",
              "            '<a target=\"_blank\" href=https://colab.research.google.com/notebooks/data_table.ipynb>data table notebook</a>'\n",
              "            + ' to learn more about interactive tables.';\n",
              "          element.innerHTML = '';\n",
              "          dataTable['output_type'] = 'display_data';\n",
              "          await google.colab.output.renderOutput(dataTable, element);\n",
              "          const docLink = document.createElement('div');\n",
              "          docLink.innerHTML = docLinkHtml;\n",
              "          element.appendChild(docLink);\n",
              "        }\n",
              "      </script>\n",
              "    </div>\n",
              "  </div>\n"
            ]
          },
          "metadata": {},
          "execution_count": 209
        }
      ]
    },
    {
      "cell_type": "code",
      "source": [
        "# Criando um novo dataset\n",
        "#datasetBalanceado.to_csv('dataset_SMOTE85_Scaler.csv', index=False)"
      ],
      "metadata": {
        "id": "cc01UHPcEbx_"
      },
      "execution_count": null,
      "outputs": []
    },
    {
      "cell_type": "markdown",
      "source": [
        "# Classificação"
      ],
      "metadata": {
        "id": "VcK2oS1p7rw3"
      }
    },
    {
      "cell_type": "code",
      "source": [
        "# Dividindo o dataset em conjunto de treino e teste\n",
        "train, test, train_labels, test_labels = train_test_split(\n",
        "    atributosBalanceados, rotulosBalanceados,test_size = 0.33, random_state = 42,\n",
        "    stratify=rotulosBalanceados)"
      ],
      "metadata": {
        "id": "FEa3kkQaDLIN"
      },
      "execution_count": null,
      "outputs": []
    },
    {
      "cell_type": "code",
      "source": [
        "# Inicializando classificador\n",
        "ada = AdaBoostClassifier(estimator = DecisionTreeClassifier(), learning_rate = 1.0, n_estimators = 100)"
      ],
      "metadata": {
        "id": "DLZ9173cDdBz"
      },
      "execution_count": null,
      "outputs": []
    },
    {
      "cell_type": "code",
      "source": [
        "# treinando\n",
        "model = ada.fit(train, train_labels)"
      ],
      "metadata": {
        "id": "DRXUpvDZDenY"
      },
      "execution_count": null,
      "outputs": []
    },
    {
      "cell_type": "code",
      "source": [
        "# Previsões\n",
        "preds = ada.predict(test)\n",
        "preds"
      ],
      "metadata": {
        "colab": {
          "base_uri": "https://localhost:8080/"
        },
        "id": "c2phzfvSDe1h",
        "outputId": "e8d03868-3f25-432e-ba6e-0dedd9b45879"
      },
      "execution_count": null,
      "outputs": [
        {
          "output_type": "execute_result",
          "data": {
            "text/plain": [
              "array([0, 0, 1, ..., 0, 0, 1])"
            ]
          },
          "metadata": {},
          "execution_count": 214
        }
      ]
    },
    {
      "cell_type": "code",
      "source": [
        "# Avaliando acurácia\n",
        "print(accuracy_score(test_labels, preds))"
      ],
      "metadata": {
        "colab": {
          "base_uri": "https://localhost:8080/"
        },
        "id": "0lV_IKbvDiSk",
        "outputId": "12c799a0-8ea7-4757-d91f-583c89417bf2"
      },
      "execution_count": null,
      "outputs": [
        {
          "output_type": "stream",
          "name": "stdout",
          "text": [
            "0.8431253785584494\n"
          ]
        }
      ]
    },
    {
      "cell_type": "code",
      "source": [
        "# F1-score\n",
        "print(f1_score(test_labels, preds))"
      ],
      "metadata": {
        "colab": {
          "base_uri": "https://localhost:8080/"
        },
        "id": "tlNy1A6ZDiVO",
        "outputId": "5ebbc27b-82e4-4568-8a46-e5bcc42024a0"
      },
      "execution_count": null,
      "outputs": [
        {
          "output_type": "stream",
          "name": "stdout",
          "text": [
            "0.830962015402689\n"
          ]
        }
      ]
    },
    {
      "cell_type": "code",
      "source": [
        "# Analisando\n",
        "print(classification_report(test_labels, preds))"
      ],
      "metadata": {
        "colab": {
          "base_uri": "https://localhost:8080/"
        },
        "id": "D73xk6X6DiYn",
        "outputId": "68458565-b899-4d7a-deff-05c478995b17"
      },
      "execution_count": null,
      "outputs": [
        {
          "output_type": "stream",
          "name": "stdout",
          "text": [
            "              precision    recall  f1-score   support\n",
            "\n",
            "           0       0.86      0.85      0.85      4462\n",
            "           1       0.82      0.84      0.83      3793\n",
            "\n",
            "    accuracy                           0.84      8255\n",
            "   macro avg       0.84      0.84      0.84      8255\n",
            "weighted avg       0.84      0.84      0.84      8255\n",
            "\n"
          ]
        }
      ]
    },
    {
      "cell_type": "code",
      "source": [
        "# Avaliando modelo com valor curva ROC\n",
        "testeroc = RocCurveDisplay.from_estimator(ada, atributosBalanceados, rotulosBalanceados)\n",
        "plt.show()"
      ],
      "metadata": {
        "colab": {
          "base_uri": "https://localhost:8080/"
        },
        "id": "lnU4YC9VDm_X",
        "outputId": "208f81de-f3b3-48bb-aec8-dfa696bda339"
      },
      "execution_count": null,
      "outputs": [
        {
          "output_type": "display_data",
          "data": {
            "text/plain": [
              "<Figure size 640x480 with 1 Axes>"
            ],
            "image/png": "[encoded data removed]"
          },
          "metadata": {}
        }
      ]
    },
    {
      "cell_type": "code",
      "source": [
        "# Matriz de correlação\n",
        "matriz_correlacao = pd.crosstab(test_labels, preds, rownames=['Real'],\n",
        "                                colnames=['Predito'])\n",
        "# Plotar mapa de calor\n",
        "sns.heatmap(matriz_correlacao, annot=True, cmap='Blues', fmt='d')\n",
        "plt.title('Matriz de Correlação')\n",
        "plt.show()"
      ],
      "metadata": {
        "colab": {
          "base_uri": "https://localhost:8080/",
          "height": 472
        },
        "id": "xt5qYzznDmxt",
        "outputId": "5acf6591-ee01-46dc-b28a-b2ce078b36c2"
      },
      "execution_count": null,
      "outputs": [
        {
          "output_type": "display_data",
          "data": {
            "text/plain": [
              "<Figure size 640x480 with 2 Axes>"
            ],
            "image/png": "[encoded data removed]"
          },
          "metadata": {}
        }
      ]
    },
    {
      "cell_type": "markdown",
      "source": [
        "# GridSearchCV"
      ],
      "metadata": {
        "id": "DauRoIgX9Ga-"
      }
    },
    {
      "cell_type": "code",
      "source": [
        "'''from sklearn.model_selection import GridSearchCV\n",
        "\n",
        "# Definir o modelo que deseja otimizar (por exemplo, AdaBoostClassifier)\n",
        "model = AdaBoostClassifier()\n",
        "\n",
        "# Definir os parâmetros que deseja otimizar para o modelo\n",
        "parameters = {\n",
        "    'n_estimators': [50, 100, 150],\n",
        "    'learning_rate': [0.5, 1.0, 1.5],\n",
        "    'estimator': [DecisionTreeClassifier(), LogisticRegression(max_iter=1000)],\n",
        "}\n",
        "\n",
        "# Criar o objeto GridSearchCV com o modelo e os parâmetros definidos\n",
        "grid_search = GridSearchCV(model, parameters)\n",
        "\n",
        "# Executar a busca em grade usando o conjunto de treinamento e etiquetas de treinamento\n",
        "grid_search.fit(train, train_labels)\n",
        "\n",
        "# Melhores parâmetros encontrados\n",
        "best_params = grid_search.best_params_\n",
        "best_params'''"
      ],
      "metadata": {
        "id": "7OR4zIe7AX_v",
        "colab": {
          "base_uri": "https://localhost:8080/"
        },
        "outputId": "d931f718-c23f-4476-9b56-e34a6949825e"
      },
      "execution_count": null,
      "outputs": [
        {
          "output_type": "execute_result",
          "data": {
            "text/plain": [
              "\"from sklearn.model_selection import GridSearchCV\\n\\n# Definir o modelo que deseja otimizar (por exemplo, AdaBoostClassifier)\\nmodel = AdaBoostClassifier()\\n\\n# Definir os parâmetros que deseja otimizar para o modelo\\nparameters = {\\n    'n_estimators': [50, 100, 150],\\n    'learning_rate': [0.5, 1.0, 1.5],\\n    'estimator': [DecisionTreeClassifier(), LogisticRegression(max_iter=1000)],\\n}\\n\\n# Criar o objeto GridSearchCV com o modelo e os parâmetros definidos\\ngrid_search = GridSearchCV(model, parameters)\\n\\n# Executar a busca em grade usando o conjunto de treinamento e etiquetas de treinamento\\ngrid_search.fit(train, train_labels)\\n\\n# Melhores parâmetros encontrados\\nbest_params = grid_search.best_params_\\nbest_params\""
            ],
            "application/vnd.google.colaboratory.intrinsic+json": {
              "type": "string"
            }
          },
          "metadata": {},
          "execution_count": 220
        }
      ]
    }
  ]
}