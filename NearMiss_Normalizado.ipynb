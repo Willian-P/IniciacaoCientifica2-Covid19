{
  "nbformat": 4,
  "nbformat_minor": 0,
  "metadata": {
    "colab": {
      "provenance": [],
      "collapsed_sections": [
        "gAc0zNIAqUEr",
        "wKyC10bMrUKI",
        "cJVtFTDMvOLk",
        "yhyPfXz1v2a0",
        "_MGwotqdwL-k",
        "yjjJUiZpwrvu",
        "gHkOrHKMxQse",
        "lR8RJSAt4DN9",
        "LLIGQIS94qMe",
        "vpGh7SwM5bKu",
        "UB5jC4Oz57FL"
      ],
      "authorship_tag": "ABX9TyP6PSHKSZ6/2k3caDIt0/LE"
    },
    "kernelspec": {
      "name": "python3",
      "display_name": "Python 3"
    },
    "language_info": {
      "name": "python"
    }
  },
  "cells": [
    {
      "cell_type": "markdown",
      "source": [
        "# Dataset NearMiss **Normalizado**"
      ],
      "metadata": {
        "id": "gAc0zNIAqUEr"
      }
    },
    {
      "cell_type": "code",
      "execution_count": null,
      "metadata": {
        "id": "2CAx4VSvpn7z"
      },
      "outputs": [],
      "source": [
        "# Importações de Bibliotecas\n",
        "import pandas as pd\n",
        "import numpy as np\n",
        "import sklearn\n",
        "import math\n",
        "\n",
        "# Datas\n",
        "from datetime import datetime, timedelta\n",
        "\n",
        "# Gráficos\n",
        "import matplotlib.pyplot as plt\n",
        "import seaborn as sns\n",
        "\n",
        "# Balanceamento\n",
        "from imblearn.under_sampling import NearMiss\n",
        "# from imblearn.over_sampling import SMOTE\n",
        "\n",
        "# Divisão de dados\n",
        "from sklearn.model_selection import train_test_split\n",
        "\n",
        "# Normalização\n",
        "from sklearn.preprocessing import StandardScaler\n",
        "\n",
        "# Classificador\n",
        "from sklearn.ensemble import AdaBoostClassifier\n",
        "from sklearn.linear_model import LogisticRegression\n",
        "\n",
        "# Métricas\n",
        "from sklearn.metrics import accuracy_score, classification_report, RocCurveDisplay, f1_score"
      ]
    },
    {
      "cell_type": "code",
      "source": [
        "# Local do Dataset\n",
        "url = \"https://s3.sa-east-1.amazonaws.com/ckan.saude.gov.br/SRAG/2022/INFLUD22-23-01-2023.csv\""
      ],
      "metadata": {
        "id": "wE1JPqAKqr5M"
      },
      "execution_count": null,
      "outputs": []
    },
    {
      "cell_type": "code",
      "source": [
        "# Carregando Dataset\n",
        "data = pd.read_csv(url, sep=';', na_filter = True)\n",
        "print(f\"{len(data)} linhas lidas\")"
      ],
      "metadata": {
        "colab": {
          "base_uri": "https://localhost:8080/"
        },
        "id": "lBJwvOL6rFtM",
        "outputId": "6b75a3af-0bf4-4ac0-f9bb-932678d2353a"
      },
      "execution_count": null,
      "outputs": [
        {
          "output_type": "stream",
          "name": "stderr",
          "text": [
            "<ipython-input-105-5503c4e8948e>:2: DtypeWarning: Columns (15,59,61,62,63,91,93,105,107,120,122,143) have mixed types. Specify dtype option on import or set low_memory=False.\n",
            "  data = pd.read_csv(url, sep=';', na_filter = True)\n"
          ]
        },
        {
          "output_type": "stream",
          "name": "stdout",
          "text": [
            "561242 linhas lidas\n"
          ]
        }
      ]
    },
    {
      "cell_type": "code",
      "source": [
        "# Formato do Dataset\n",
        "data.shape"
      ],
      "metadata": {
        "colab": {
          "base_uri": "https://localhost:8080/"
        },
        "id": "xTFzAGgorHa0",
        "outputId": "a6d25e52-e875-4cd5-993e-89d7a1631b5f"
      },
      "execution_count": null,
      "outputs": [
        {
          "output_type": "execute_result",
          "data": {
            "text/plain": [
              "(561242, 166)"
            ]
          },
          "metadata": {},
          "execution_count": 106
        }
      ]
    },
    {
      "cell_type": "markdown",
      "source": [
        "# Delimitando Dataset"
      ],
      "metadata": {
        "id": "wKyC10bMrUKI"
      }
    },
    {
      "cell_type": "markdown",
      "source": [
        "Este dataset é composto por notificações realacionadas as Síndromes Respiratórias Agudas Graves SRAGs no Brasil no ano de 2022"
      ],
      "metadata": {
        "id": "DY2Pg9EhrOhG"
      }
    },
    {
      "cell_type": "code",
      "source": [
        "# Delimitando apenas para notificações de Covid-19\n",
        "data = data[data['CLASSI_FIN'] == 5]\n",
        "data.shape"
      ],
      "metadata": {
        "colab": {
          "base_uri": "https://localhost:8080/"
        },
        "id": "rB4xjcegrHiW",
        "outputId": "04382f60-76a7-416d-d47e-60f377cdeb06"
      },
      "execution_count": null,
      "outputs": [
        {
          "output_type": "execute_result",
          "data": {
            "text/plain": [
              "(235891, 166)"
            ]
          },
          "metadata": {},
          "execution_count": 107
        }
      ]
    },
    {
      "cell_type": "code",
      "source": [
        "# Deixando apenas com notificações do Paraná\n",
        "data = data[data['SG_UF_NOT'] == 'PR']\n",
        "data.shape"
      ],
      "metadata": {
        "colab": {
          "base_uri": "https://localhost:8080/"
        },
        "id": "9guxBCopsQyg",
        "outputId": "4b06cd2d-5c4d-4e48-a02d-3cee7a2f34d9"
      },
      "execution_count": null,
      "outputs": [
        {
          "output_type": "execute_result",
          "data": {
            "text/plain": [
              "(19002, 166)"
            ]
          },
          "metadata": {},
          "execution_count": 108
        }
      ]
    },
    {
      "cell_type": "code",
      "source": [
        "# Removendo instâncias com 3 e 9, pois equivalem, respectivamente a \"óbito por outras causas\" e \"ignorado\"\n",
        "data = data[(data['EVOLUCAO'] == 1) | (data['EVOLUCAO'] == 2)]\n",
        "\n",
        "# Atualizando o target 'EVOLUCAO' para 0 e 1\n",
        "data['EVOLUCAO'] = data['EVOLUCAO'].map({1: 0, 2: 1})\n",
        "data.shape"
      ],
      "metadata": {
        "colab": {
          "base_uri": "https://localhost:8080/"
        },
        "id": "DaXxBeA1uyW0",
        "outputId": "01321818-4b8d-4efe-c7d8-bacdc1e03c01"
      },
      "execution_count": null,
      "outputs": [
        {
          "output_type": "stream",
          "name": "stderr",
          "text": [
            "<ipython-input-109-da8d121ee4c8>:5: SettingWithCopyWarning: \n",
            "A value is trying to be set on a copy of a slice from a DataFrame.\n",
            "Try using .loc[row_indexer,col_indexer] = value instead\n",
            "\n",
            "See the caveats in the documentation: https://pandas.pydata.org/pandas-docs/stable/user_guide/indexing.html#returning-a-view-versus-a-copy\n",
            "  data['EVOLUCAO'] = data['EVOLUCAO'].map({1: 0, 2: 1})\n"
          ]
        },
        {
          "output_type": "execute_result",
          "data": {
            "text/plain": [
              "(17699, 166)"
            ]
          },
          "metadata": {},
          "execution_count": 109
        }
      ]
    },
    {
      "cell_type": "markdown",
      "source": [
        "# Eliminação Manual de Atributos"
      ],
      "metadata": {
        "id": "cJVtFTDMvOLk"
      }
    },
    {
      "cell_type": "code",
      "source": [
        "# Dados redundantes após a delimitação\n",
        "data.drop(['CLASSI_FIN', 'SG_UF_NOT'], axis=1, inplace=True)\n",
        "data.shape"
      ],
      "metadata": {
        "colab": {
          "base_uri": "https://localhost:8080/"
        },
        "id": "cwKxvEPCvXcd",
        "outputId": "f8c8d13e-88f3-4782-ad25-96afc86d3344"
      },
      "execution_count": null,
      "outputs": [
        {
          "output_type": "stream",
          "name": "stderr",
          "text": [
            "<ipython-input-110-282e3f1eb280>:2: SettingWithCopyWarning: \n",
            "A value is trying to be set on a copy of a slice from a DataFrame\n",
            "\n",
            "See the caveats in the documentation: https://pandas.pydata.org/pandas-docs/stable/user_guide/indexing.html#returning-a-view-versus-a-copy\n",
            "  data.drop(['CLASSI_FIN', 'SG_UF_NOT'], axis=1, inplace=True)\n"
          ]
        },
        {
          "output_type": "execute_result",
          "data": {
            "text/plain": [
              "(17699, 164)"
            ]
          },
          "metadata": {},
          "execution_count": 110
        }
      ]
    },
    {
      "cell_type": "code",
      "source": [
        "# Retirando atributos categorizadas como Campos Internos\n",
        "data.drop([\"SEM_NOT\", \"SEM_PRI\", \"ID_REGIONA\", \"CO_REGIONA\", \"ID_RG_RESI\",\n",
        "           \"CO_RG_RESI\", \"FNT_IN_COV\", \"ID_RG_INTE\", \"CO_RG_INTE\", \"DT_DIGITA\"],\n",
        "          axis=1, inplace=True)\n",
        "data.shape"
      ],
      "metadata": {
        "colab": {
          "base_uri": "https://localhost:8080/"
        },
        "id": "UmkyCdD5vezX",
        "outputId": "95febbbb-d406-489b-9edb-d41522b3c89b"
      },
      "execution_count": null,
      "outputs": [
        {
          "output_type": "stream",
          "name": "stderr",
          "text": [
            "<ipython-input-111-3026bbd4e268>:2: SettingWithCopyWarning: \n",
            "A value is trying to be set on a copy of a slice from a DataFrame\n",
            "\n",
            "See the caveats in the documentation: https://pandas.pydata.org/pandas-docs/stable/user_guide/indexing.html#returning-a-view-versus-a-copy\n",
            "  data.drop([\"SEM_NOT\", \"SEM_PRI\", \"ID_REGIONA\", \"CO_REGIONA\", \"ID_RG_RESI\",\n"
          ]
        },
        {
          "output_type": "execute_result",
          "data": {
            "text/plain": [
              "(17699, 154)"
            ]
          },
          "metadata": {},
          "execution_count": 111
        }
      ]
    },
    {
      "cell_type": "code",
      "source": [
        "# Atributos Relacionados a localização\n",
        "data.drop([\"ID_MUNICIP\", \"CO_MUN_NOT\", \"ID_UNIDADE\", \"CO_UNI_NOT\", \"ID_PAIS\",\n",
        "           \"CO_PAIS\", \"SG_UF\", \"ID_MN_RESI\", \"CO_MUN_RES\", \"CS_ZONA\", \"ESTRANG\",\n",
        "           \"SG_UF_INTE\", \"ID_MN_INTE\", \"CO_MU_INTE\"], axis=1, inplace=True)\n",
        "data.shape"
      ],
      "metadata": {
        "colab": {
          "base_uri": "https://localhost:8080/"
        },
        "id": "MP_uM7kgve2N",
        "outputId": "1ea40c3a-fa27-45e4-a2c8-f0b96a32d019"
      },
      "execution_count": null,
      "outputs": [
        {
          "output_type": "stream",
          "name": "stderr",
          "text": [
            "<ipython-input-112-132b8bb13a71>:2: SettingWithCopyWarning: \n",
            "A value is trying to be set on a copy of a slice from a DataFrame\n",
            "\n",
            "See the caveats in the documentation: https://pandas.pydata.org/pandas-docs/stable/user_guide/indexing.html#returning-a-view-versus-a-copy\n",
            "  data.drop([\"ID_MUNICIP\", \"CO_MUN_NOT\", \"ID_UNIDADE\", \"CO_UNI_NOT\", \"ID_PAIS\",\n"
          ]
        },
        {
          "output_type": "execute_result",
          "data": {
            "text/plain": [
              "(17699, 140)"
            ]
          },
          "metadata": {},
          "execution_count": 112
        }
      ]
    },
    {
      "cell_type": "code",
      "source": [
        "# Redundância na idade\n",
        "data.drop([\"DT_NASC\", \"TP_IDADE\", \"COD_IDADE\"], axis=1, inplace=True)\n",
        "data.shape"
      ],
      "metadata": {
        "colab": {
          "base_uri": "https://localhost:8080/"
        },
        "id": "vMeQcJT0vlQJ",
        "outputId": "d033b6f5-ba7c-489b-e226-44006ba5e67a"
      },
      "execution_count": null,
      "outputs": [
        {
          "output_type": "execute_result",
          "data": {
            "text/plain": [
              "(17699, 137)"
            ]
          },
          "metadata": {},
          "execution_count": 113
        }
      ]
    },
    {
      "cell_type": "code",
      "source": [
        "# Dados relacionados a informações da vacina\n",
        "data.drop([\"LOTE_1_COV\", \"LOTE_2_COV\",\"LOTE_REF\", \"FAB_COV_1\", \"FAB_COV_2\",\n",
        "           \"FAB_COVREF\", \"LAB_PR_COV\"], axis=1, inplace=True)\n",
        "data.shape"
      ],
      "metadata": {
        "colab": {
          "base_uri": "https://localhost:8080/"
        },
        "id": "ajlNAGJKvmmB",
        "outputId": "75cc9ae2-4daa-4062-c1f5-1f0243700347"
      },
      "execution_count": null,
      "outputs": [
        {
          "output_type": "execute_result",
          "data": {
            "text/plain": [
              "(17699, 130)"
            ]
          },
          "metadata": {},
          "execution_count": 114
        }
      ]
    },
    {
      "cell_type": "code",
      "source": [
        "# Atributos que não constam no dicionário de dados\n",
        "data.drop([\"HISTO_VGM\", \"PCR_SARS2\"], axis=1, inplace=True)\n",
        "data.shape"
      ],
      "metadata": {
        "colab": {
          "base_uri": "https://localhost:8080/"
        },
        "id": "Q40jd46Bvn48",
        "outputId": "2f6f414d-3cd2-4a09-e046-c043e94237be"
      },
      "execution_count": null,
      "outputs": [
        {
          "output_type": "execute_result",
          "data": {
            "text/plain": [
              "(17699, 128)"
            ]
          },
          "metadata": {},
          "execution_count": 115
        }
      ]
    },
    {
      "cell_type": "code",
      "source": [
        "# datas administrativas\n",
        "data.drop([\"DT_ENCERRA\", \"DT_COLETA\"], axis=1, inplace=True)\n",
        "data.shape"
      ],
      "metadata": {
        "colab": {
          "base_uri": "https://localhost:8080/"
        },
        "id": "k46F_1hLvpOC",
        "outputId": "2c0317c5-41da-4ca7-ac29-d1d2c8126416"
      },
      "execution_count": null,
      "outputs": [
        {
          "output_type": "execute_result",
          "data": {
            "text/plain": [
              "(17699, 126)"
            ]
          },
          "metadata": {},
          "execution_count": 116
        }
      ]
    },
    {
      "cell_type": "code",
      "source": [
        "# Outras colunas\n",
        "data.drop([\"AVE_SUINO\", \"CS_RACA\"], axis=1, inplace=True)\n",
        "data.shape"
      ],
      "metadata": {
        "colab": {
          "base_uri": "https://localhost:8080/"
        },
        "id": "rofQ3t9xvqks",
        "outputId": "839fda08-5205-4f60-cd85-deb534eddebf"
      },
      "execution_count": null,
      "outputs": [
        {
          "output_type": "execute_result",
          "data": {
            "text/plain": [
              "(17699, 124)"
            ]
          },
          "metadata": {},
          "execution_count": 117
        }
      ]
    },
    {
      "cell_type": "code",
      "source": [
        "data.info()"
      ],
      "metadata": {
        "colab": {
          "base_uri": "https://localhost:8080/"
        },
        "id": "uGfTZnanvyPI",
        "outputId": "74a3fcff-c96f-4f2d-ef89-0a321a484638"
      },
      "execution_count": null,
      "outputs": [
        {
          "output_type": "stream",
          "name": "stdout",
          "text": [
            "<class 'pandas.core.frame.DataFrame'>\n",
            "Int64Index: 17699 entries, 32 to 561154\n",
            "Columns: 124 entries, DT_NOTIFIC to DOSE_REF\n",
            "dtypes: float64(81), int64(4), object(39)\n",
            "memory usage: 16.9+ MB\n"
          ]
        }
      ]
    },
    {
      "cell_type": "markdown",
      "source": [
        "# Tratamento de Valores Ignorados"
      ],
      "metadata": {
        "id": "yhyPfXz1v2a0"
      }
    },
    {
      "cell_type": "code",
      "source": [
        "# Alteração dos valores 9 (ignorados) para NaN\n",
        "for column in data:\n",
        "  if ((data[column].dtypes != 'object') and\n",
        "   (column != 'NU_IDADE_N')) or (column == 'CS_SEXO'):\n",
        "    data[column] = data[column].apply(lambda x: np.nan if x == 9 else x)"
      ],
      "metadata": {
        "id": "DvOyUbLAv6Bg"
      },
      "execution_count": null,
      "outputs": []
    },
    {
      "cell_type": "markdown",
      "source": [
        "# Filtro 50%"
      ],
      "metadata": {
        "id": "_MGwotqdwL-k"
      }
    },
    {
      "cell_type": "markdown",
      "source": [
        "Filtro de 50% em linhas e colunas, prezando pela qualidade e não quantidade de dados."
      ],
      "metadata": {
        "id": "p-R3HIMBwRKW"
      }
    },
    {
      "cell_type": "code",
      "source": [
        "# Limiar de procentagem de dados faltantes\n",
        "threshold = 0.5\n",
        "\n",
        "# Calcula a porcentagem de dados faltantes em cada coluna\n",
        "porcentagem_nan = data.isnull().sum() / len(data)\n",
        "\n",
        "# Filtra as colunas que têm mais de 50% dos dados faltantes\n",
        "colunas_remocao = porcentagem_nan[porcentagem_nan > threshold].index\n",
        "\n",
        "# Remoção das colunas\n",
        "data = data.drop(colunas_remocao, axis=1)\n",
        "\n",
        "print(f'{len(colunas_remocao)} colunas foram removidas')\n",
        "print(data.shape)"
      ],
      "metadata": {
        "colab": {
          "base_uri": "https://localhost:8080/"
        },
        "id": "5MV2H4Q9wOEY",
        "outputId": "d65f1c8a-24f7-48fd-bfaa-cf66263db87e"
      },
      "execution_count": null,
      "outputs": [
        {
          "output_type": "stream",
          "name": "stdout",
          "text": [
            "82 colunas foram removidas\n",
            "(17699, 42)\n"
          ]
        }
      ]
    },
    {
      "cell_type": "code",
      "source": [
        "data.info()"
      ],
      "metadata": {
        "colab": {
          "base_uri": "https://localhost:8080/"
        },
        "id": "r2GdphQWwXqQ",
        "outputId": "cdcd14c1-dfc4-411c-e3d7-bfccaacd464e"
      },
      "execution_count": null,
      "outputs": [
        {
          "output_type": "stream",
          "name": "stdout",
          "text": [
            "<class 'pandas.core.frame.DataFrame'>\n",
            "Int64Index: 17699 entries, 32 to 561154\n",
            "Data columns (total 42 columns):\n",
            " #   Column      Non-Null Count  Dtype  \n",
            "---  ------      --------------  -----  \n",
            " 0   DT_NOTIFIC  17699 non-null  object \n",
            " 1   DT_SIN_PRI  17699 non-null  object \n",
            " 2   CS_SEXO     17699 non-null  object \n",
            " 3   NU_IDADE_N  17699 non-null  int64  \n",
            " 4   CS_GESTANT  17444 non-null  float64\n",
            " 5   NOSOCOMIAL  16050 non-null  float64\n",
            " 6   FEBRE       14589 non-null  float64\n",
            " 7   TOSSE       15203 non-null  float64\n",
            " 8   GARGANTA    13245 non-null  float64\n",
            " 9   DISPNEIA    14895 non-null  float64\n",
            " 10  DESC_RESP   14042 non-null  float64\n",
            " 11  SATURACAO   14704 non-null  float64\n",
            " 12  DIARREIA    12727 non-null  float64\n",
            " 13  VOMITO      12720 non-null  float64\n",
            " 14  OUTRO_SIN   12936 non-null  float64\n",
            " 15  FATOR_RISC  17699 non-null  int64  \n",
            " 16  CARDIOPATI  9805 non-null   float64\n",
            " 17  DIABETES    9129 non-null   float64\n",
            " 18  OUT_MORBI   9683 non-null   float64\n",
            " 19  ANTIVIRAL   15008 non-null  float64\n",
            " 20  HOSPITAL    17598 non-null  float64\n",
            " 21  DT_INTERNA  17160 non-null  object \n",
            " 22  UTI         16849 non-null  float64\n",
            " 23  SUPORT_VEN  16875 non-null  float64\n",
            " 24  RAIOX_RES   11129 non-null  float64\n",
            " 25  AMOSTRA     17294 non-null  float64\n",
            " 26  TP_AMOSTRA  16833 non-null  float64\n",
            " 27  PCR_RESUL   16780 non-null  float64\n",
            " 28  DT_PCR      11124 non-null  object \n",
            " 29  POS_PCROUT  10088 non-null  float64\n",
            " 30  CRITERIO    17363 non-null  float64\n",
            " 31  EVOLUCAO    17699 non-null  int64  \n",
            " 32  DT_EVOLUCA  17542 non-null  object \n",
            " 33  DOR_ABD     12549 non-null  float64\n",
            " 34  FADIGA      12869 non-null  float64\n",
            " 35  PERD_OLFT   12389 non-null  float64\n",
            " 36  PERD_PALA   12357 non-null  float64\n",
            " 37  TOMO_RES    9981 non-null   float64\n",
            " 38  RES_AN      17153 non-null  float64\n",
            " 39  VACINA_COV  17355 non-null  float64\n",
            " 40  DOSE_1_COV  12965 non-null  object \n",
            " 41  DOSE_2_COV  12287 non-null  object \n",
            "dtypes: float64(31), int64(3), object(8)\n",
            "memory usage: 5.8+ MB\n"
          ]
        }
      ]
    },
    {
      "cell_type": "code",
      "source": [
        "# Reinicia o index de cada instância\n",
        "data = data.reset_index(drop=True)"
      ],
      "metadata": {
        "id": "KoRrUEUGwbaa"
      },
      "execution_count": null,
      "outputs": []
    },
    {
      "cell_type": "code",
      "source": [
        "# Limiar de procentagem de dados faltantes\n",
        "threshold = 0.5\n",
        "\n",
        "# Calcula a porcentagem de dados faltantes em cada linha\n",
        "porcentagem_nan = data.isnull().sum(axis=1) / data.shape[1]\n",
        "\n",
        "# Filtra as linhas que têm mais de 50% dos dados faltantes\n",
        "linhas_remocao = porcentagem_nan[porcentagem_nan > threshold].index\n",
        "\n",
        "# Remove as linhas\n",
        "data = data.drop(linhas_remocao, axis=0)\n",
        "\n",
        "print(f'{len(linhas_remocao)} linhas foram removidas')\n",
        "print(data.shape)"
      ],
      "metadata": {
        "colab": {
          "base_uri": "https://localhost:8080/"
        },
        "id": "E63vmmW1wjYP",
        "outputId": "765a071d-bf68-4179-8e51-c32fbab1fd35"
      },
      "execution_count": null,
      "outputs": [
        {
          "output_type": "stream",
          "name": "stdout",
          "text": [
            "267 linhas foram removidas\n",
            "(17432, 42)\n"
          ]
        }
      ]
    },
    {
      "cell_type": "code",
      "source": [
        "# Reinicia o index de cada instância\n",
        "data = data.reset_index(drop=True)"
      ],
      "metadata": {
        "id": "OaTar_euwpXa"
      },
      "execution_count": null,
      "outputs": []
    },
    {
      "cell_type": "markdown",
      "source": [
        "# Preenchimento de valores NaN do tipo float"
      ],
      "metadata": {
        "id": "yjjJUiZpwrvu"
      }
    },
    {
      "cell_type": "code",
      "source": [
        "# Dados faltantes\n",
        "faltantes = data.isnull().sum()\n",
        "faltantes"
      ],
      "metadata": {
        "colab": {
          "base_uri": "https://localhost:8080/"
        },
        "id": "Yw8ikTh9wyE-",
        "outputId": "9b25ecea-4b1f-4cda-bade-866fd4370ab3"
      },
      "execution_count": null,
      "outputs": [
        {
          "output_type": "execute_result",
          "data": {
            "text/plain": [
              "DT_NOTIFIC       0\n",
              "DT_SIN_PRI       0\n",
              "CS_SEXO          0\n",
              "NU_IDADE_N       0\n",
              "CS_GESTANT     249\n",
              "NOSOCOMIAL    1582\n",
              "FEBRE         2871\n",
              "TOSSE         2271\n",
              "GARGANTA      4203\n",
              "DISPNEIA      2564\n",
              "DESC_RESP     3406\n",
              "SATURACAO     2756\n",
              "DIARREIA      4712\n",
              "VOMITO        4714\n",
              "OUTRO_SIN     4522\n",
              "FATOR_RISC       0\n",
              "CARDIOPATI    7639\n",
              "DIABETES      8314\n",
              "OUT_MORBI     7762\n",
              "ANTIVIRAL     2580\n",
              "HOSPITAL        73\n",
              "DT_INTERNA     486\n",
              "UTI            777\n",
              "SUPORT_VEN     607\n",
              "RAIOX_RES     6310\n",
              "AMOSTRA        360\n",
              "TP_AMOSTRA     809\n",
              "PCR_RESUL      722\n",
              "DT_PCR        6336\n",
              "POS_PCROUT    7362\n",
              "CRITERIO       331\n",
              "EVOLUCAO         0\n",
              "DT_EVOLUCA     137\n",
              "DOR_ABD       4883\n",
              "FADIGA        4567\n",
              "PERD_OLFT     5043\n",
              "PERD_PALA     5075\n",
              "TOMO_RES      7470\n",
              "RES_AN         523\n",
              "VACINA_COV     284\n",
              "DOSE_1_COV    4601\n",
              "DOSE_2_COV    5264\n",
              "dtype: int64"
            ]
          },
          "metadata": {},
          "execution_count": 125
        }
      ]
    },
    {
      "cell_type": "markdown",
      "source": [
        "Todos os NaN serão substituidos pelo valor da mediana daquele atributo."
      ],
      "metadata": {
        "id": "khSJlyy0w7Oo"
      }
    },
    {
      "cell_type": "code",
      "source": [
        "# Seleciona as colunas do tipo float\n",
        "colunas_float = data.select_dtypes(include='float64').columns\n",
        "\n",
        "# Substitui os valores NaN pela mediana de cada coluna\n",
        "data[colunas_float] = data[colunas_float].fillna(data[colunas_float].median().iloc[0])"
      ],
      "metadata": {
        "id": "gBDAF35Zw0yQ"
      },
      "execution_count": null,
      "outputs": []
    },
    {
      "cell_type": "code",
      "source": [
        "# Dados faltantes\n",
        "faltantes = data.isnull().sum()\n",
        "faltantes"
      ],
      "metadata": {
        "colab": {
          "base_uri": "https://localhost:8080/"
        },
        "id": "-zdzVkTWw00x",
        "outputId": "85bcd611-facb-4ceb-a460-2929bb2e4c76"
      },
      "execution_count": null,
      "outputs": [
        {
          "output_type": "execute_result",
          "data": {
            "text/plain": [
              "DT_NOTIFIC       0\n",
              "DT_SIN_PRI       0\n",
              "CS_SEXO          0\n",
              "NU_IDADE_N       0\n",
              "CS_GESTANT       0\n",
              "NOSOCOMIAL       0\n",
              "FEBRE            0\n",
              "TOSSE            0\n",
              "GARGANTA         0\n",
              "DISPNEIA         0\n",
              "DESC_RESP        0\n",
              "SATURACAO        0\n",
              "DIARREIA         0\n",
              "VOMITO           0\n",
              "OUTRO_SIN        0\n",
              "FATOR_RISC       0\n",
              "CARDIOPATI       0\n",
              "DIABETES         0\n",
              "OUT_MORBI        0\n",
              "ANTIVIRAL        0\n",
              "HOSPITAL         0\n",
              "DT_INTERNA     486\n",
              "UTI              0\n",
              "SUPORT_VEN       0\n",
              "RAIOX_RES        0\n",
              "AMOSTRA          0\n",
              "TP_AMOSTRA       0\n",
              "PCR_RESUL        0\n",
              "DT_PCR        6336\n",
              "POS_PCROUT       0\n",
              "CRITERIO         0\n",
              "EVOLUCAO         0\n",
              "DT_EVOLUCA     137\n",
              "DOR_ABD          0\n",
              "FADIGA           0\n",
              "PERD_OLFT        0\n",
              "PERD_PALA        0\n",
              "TOMO_RES         0\n",
              "RES_AN           0\n",
              "VACINA_COV       0\n",
              "DOSE_1_COV    4601\n",
              "DOSE_2_COV    5264\n",
              "dtype: int64"
            ]
          },
          "metadata": {},
          "execution_count": 127
        }
      ]
    },
    {
      "cell_type": "markdown",
      "source": [
        "# Tratando Datas"
      ],
      "metadata": {
        "id": "gHkOrHKMxQse"
      }
    },
    {
      "cell_type": "markdown",
      "source": [
        "Criação de uma coluna chamada \"QTD_DIAS\" que é resultante da relação entre data da Notificação do paciente até a Evolução."
      ],
      "metadata": {
        "id": "-qm8oLyKxVya"
      }
    },
    {
      "cell_type": "markdown",
      "source": [
        "*DT_NOTIFIC com DT_EVOLUCA*"
      ],
      "metadata": {
        "id": "7QHiPYlbMnEs"
      }
    },
    {
      "cell_type": "code",
      "source": [
        "# QTD_DIAS armazena a quantidade de dias desde a notificação até a evolução.\n",
        "data['QTD_DIAS'] = ''"
      ],
      "metadata": {
        "id": "vQ7Dgahcw038"
      },
      "execution_count": null,
      "outputs": []
    },
    {
      "cell_type": "code",
      "source": [
        "# Calcula o intervalo de dias entre duas datas\n",
        "def calcular_qtd_dias(row):\n",
        "  if pd.isna(row['DT_EVOLUCA']):\n",
        "    return np.nan\n",
        "  else:\n",
        "    data1 = datetime.strptime(row['DT_NOTIFIC'], '%d/%m/%Y')\n",
        "    data2 = datetime.strptime(row['DT_EVOLUCA'], '%d/%m/%Y')\n",
        "    dias = abs((data2 - data1).days)\n",
        "    return dias\n",
        "\n",
        "# Chama a função e atribui o resultado à coluna 'QTD_DIAS'\n",
        "data['QTD_DIAS'] = data.apply(calcular_qtd_dias, axis=1)"
      ],
      "metadata": {
        "id": "H1xKl65fxcjM"
      },
      "execution_count": null,
      "outputs": []
    },
    {
      "cell_type": "code",
      "source": [
        "data[['DT_NOTIFIC', 'DT_EVOLUCA', 'QTD_DIAS']]"
      ],
      "metadata": {
        "colab": {
          "base_uri": "https://localhost:8080/"
        },
        "id": "x8BN6BGXxcmW",
        "outputId": "6bc861e3-1367-4588-a1c6-179aed9e9657"
      },
      "execution_count": null,
      "outputs": [
        {
          "output_type": "execute_result",
          "data": {
            "text/plain": [
              "       DT_NOTIFIC  DT_EVOLUCA  QTD_DIAS\n",
              "0      05/01/2022  06/01/2022       1.0\n",
              "1      07/01/2022  25/01/2022      18.0\n",
              "2      10/01/2022  13/01/2022       3.0\n",
              "3      19/01/2022  07/02/2022      19.0\n",
              "4      10/01/2022  13/01/2022       3.0\n",
              "...           ...         ...       ...\n",
              "17427  29/06/2022  29/06/2022       0.0\n",
              "17428  09/08/2022  12/08/2022       3.0\n",
              "17429  30/08/2022  01/09/2022       2.0\n",
              "17430  10/11/2022  17/11/2022       7.0\n",
              "17431  24/12/2022  29/12/2022       5.0\n",
              "\n",
              "[17432 rows x 3 columns]"
            ],
            "text/html": [
              "\n",
              "\n",
              "  <div id=\"df-caf0ff7b-4f90-4964-b61a-5a7e96a47dda\">\n",
              "    <div class=\"colab-df-container\">\n",
              "      <div>\n",
              "<style scoped>\n",
              "    .dataframe tbody tr th:only-of-type {\n",
              "        vertical-align: middle;\n",
              "    }\n",
              "\n",
              "    .dataframe tbody tr th {\n",
              "        vertical-align: top;\n",
              "    }\n",
              "\n",
              "    .dataframe thead th {\n",
              "        text-align: right;\n",
              "    }\n",
              "</style>\n",
              "<table border=\"1\" class=\"dataframe\">\n",
              "  <thead>\n",
              "    <tr style=\"text-align: right;\">\n",
              "      <th></th>\n",
              "      <th>DT_NOTIFIC</th>\n",
              "      <th>DT_EVOLUCA</th>\n",
              "      <th>QTD_DIAS</th>\n",
              "    </tr>\n",
              "  </thead>\n",
              "  <tbody>\n",
              "    <tr>\n",
              "      <th>0</th>\n",
              "      <td>05/01/2022</td>\n",
              "      <td>06/01/2022</td>\n",
              "      <td>1.0</td>\n",
              "    </tr>\n",
              "    <tr>\n",
              "      <th>1</th>\n",
              "      <td>07/01/2022</td>\n",
              "      <td>25/01/2022</td>\n",
              "      <td>18.0</td>\n",
              "    </tr>\n",
              "    <tr>\n",
              "      <th>2</th>\n",
              "      <td>10/01/2022</td>\n",
              "      <td>13/01/2022</td>\n",
              "      <td>3.0</td>\n",
              "    </tr>\n",
              "    <tr>\n",
              "      <th>3</th>\n",
              "      <td>19/01/2022</td>\n",
              "      <td>07/02/2022</td>\n",
              "      <td>19.0</td>\n",
              "    </tr>\n",
              "    <tr>\n",
              "      <th>4</th>\n",
              "      <td>10/01/2022</td>\n",
              "      <td>13/01/2022</td>\n",
              "      <td>3.0</td>\n",
              "    </tr>\n",
              "    <tr>\n",
              "      <th>...</th>\n",
              "      <td>...</td>\n",
              "      <td>...</td>\n",
              "      <td>...</td>\n",
              "    </tr>\n",
              "    <tr>\n",
              "      <th>17427</th>\n",
              "      <td>29/06/2022</td>\n",
              "      <td>29/06/2022</td>\n",
              "      <td>0.0</td>\n",
              "    </tr>\n",
              "    <tr>\n",
              "      <th>17428</th>\n",
              "      <td>09/08/2022</td>\n",
              "      <td>12/08/2022</td>\n",
              "      <td>3.0</td>\n",
              "    </tr>\n",
              "    <tr>\n",
              "      <th>17429</th>\n",
              "      <td>30/08/2022</td>\n",
              "      <td>01/09/2022</td>\n",
              "      <td>2.0</td>\n",
              "    </tr>\n",
              "    <tr>\n",
              "      <th>17430</th>\n",
              "      <td>10/11/2022</td>\n",
              "      <td>17/11/2022</td>\n",
              "      <td>7.0</td>\n",
              "    </tr>\n",
              "    <tr>\n",
              "      <th>17431</th>\n",
              "      <td>24/12/2022</td>\n",
              "      <td>29/12/2022</td>\n",
              "      <td>5.0</td>\n",
              "    </tr>\n",
              "  </tbody>\n",
              "</table>\n",
              "<p>17432 rows × 3 columns</p>\n",
              "</div>\n",
              "      <button class=\"colab-df-convert\" onclick=\"convertToInteractive('df-caf0ff7b-4f90-4964-b61a-5a7e96a47dda')\"\n",
              "              title=\"Convert this dataframe to an interactive table.\"\n",
              "              style=\"display:none;\">\n",
              "\n",
              "  <svg xmlns=\"http://www.w3.org/2000/svg\" height=\"24px\"viewBox=\"0 0 24 24\"\n",
              "       width=\"24px\">\n",
              "    <path d=\"M0 0h24v24H0V0z\" fill=\"none\"/>\n",
              "    <path d=\"M18.56 5.44l.94 2.06.94-2.06 2.06-.94-2.06-.94-.94-2.06-.94 2.06-2.06.94zm-11 1L8.5 8.5l.94-2.06 2.06-.94-2.06-.94L8.5 2.5l-.94 2.06-2.06.94zm10 10l.94 2.06.94-2.06 2.06-.94-2.06-.94-.94-2.06-.94 2.06-2.06.94z\"/><path d=\"M17.41 7.96l-1.37-1.37c-.4-.4-.92-.59-1.43-.59-.52 0-1.04.2-1.43.59L10.3 9.45l-7.72 7.72c-.78.78-.78 2.05 0 2.83L4 21.41c.39.39.9.59 1.41.59.51 0 1.02-.2 1.41-.59l7.78-7.78 2.81-2.81c.8-.78.8-2.07 0-2.86zM5.41 20L4 18.59l7.72-7.72 1.47 1.35L5.41 20z\"/>\n",
              "  </svg>\n",
              "      </button>\n",
              "\n",
              "\n",
              "\n",
              "    <div id=\"df-9eea4eb7-dd6d-4312-961d-fdb6d8bf4da3\">\n",
              "      <button class=\"colab-df-quickchart\" onclick=\"quickchart('df-9eea4eb7-dd6d-4312-961d-fdb6d8bf4da3')\"\n",
              "              title=\"Suggest charts.\"\n",
              "              style=\"display:none;\">\n",
              "\n",
              "<svg xmlns=\"http://www.w3.org/2000/svg\" height=\"24px\"viewBox=\"0 0 24 24\"\n",
              "     width=\"24px\">\n",
              "    <g>\n",
              "        <path d=\"M19 3H5c-1.1 0-2 .9-2 2v14c0 1.1.9 2 2 2h14c1.1 0 2-.9 2-2V5c0-1.1-.9-2-2-2zM9 17H7v-7h2v7zm4 0h-2V7h2v10zm4 0h-2v-4h2v4z\"/>\n",
              "    </g>\n",
              "</svg>\n",
              "      </button>\n",
              "    </div>\n",
              "\n",
              "<style>\n",
              "  .colab-df-quickchart {\n",
              "    background-color: #E8F0FE;\n",
              "    border: none;\n",
              "    border-radius: 50%;\n",
              "    cursor: pointer;\n",
              "    display: none;\n",
              "    fill: #1967D2;\n",
              "    height: 32px;\n",
              "    padding: 0 0 0 0;\n",
              "    width: 32px;\n",
              "  }\n",
              "\n",
              "  .colab-df-quickchart:hover {\n",
              "    background-color: #E2EBFA;\n",
              "    box-shadow: 0px 1px 2px rgba(60, 64, 67, 0.3), 0px 1px 3px 1px rgba(60, 64, 67, 0.15);\n",
              "    fill: #174EA6;\n",
              "  }\n",
              "\n",
              "  [theme=dark] .colab-df-quickchart {\n",
              "    background-color: #3B4455;\n",
              "    fill: #D2E3FC;\n",
              "  }\n",
              "\n",
              "  [theme=dark] .colab-df-quickchart:hover {\n",
              "    background-color: #434B5C;\n",
              "    box-shadow: 0px 1px 3px 1px rgba(0, 0, 0, 0.15);\n",
              "    filter: drop-shadow(0px 1px 2px rgba(0, 0, 0, 0.3));\n",
              "    fill: #FFFFFF;\n",
              "  }\n",
              "</style>\n",
              "\n",
              "    <script>\n",
              "      async function quickchart(key) {\n",
              "        const containerElement = document.querySelector('#' + key);\n",
              "        const charts = await google.colab.kernel.invokeFunction(\n",
              "            'suggestCharts', [key], {});\n",
              "      }\n",
              "    </script>\n",
              "\n",
              "      <script>\n",
              "\n",
              "function displayQuickchartButton(domScope) {\n",
              "  let quickchartButtonEl =\n",
              "    domScope.querySelector('#df-9eea4eb7-dd6d-4312-961d-fdb6d8bf4da3 button.colab-df-quickchart');\n",
              "  quickchartButtonEl.style.display =\n",
              "    google.colab.kernel.accessAllowed ? 'block' : 'none';\n",
              "}\n",
              "\n",
              "        displayQuickchartButton(document);\n",
              "      </script>\n",
              "      <style>\n",
              "    .colab-df-container {\n",
              "      display:flex;\n",
              "      flex-wrap:wrap;\n",
              "      gap: 12px;\n",
              "    }\n",
              "\n",
              "    .colab-df-convert {\n",
              "      background-color: #E8F0FE;\n",
              "      border: none;\n",
              "      border-radius: 50%;\n",
              "      cursor: pointer;\n",
              "      display: none;\n",
              "      fill: #1967D2;\n",
              "      height: 32px;\n",
              "      padding: 0 0 0 0;\n",
              "      width: 32px;\n",
              "    }\n",
              "\n",
              "    .colab-df-convert:hover {\n",
              "      background-color: #E2EBFA;\n",
              "      box-shadow: 0px 1px 2px rgba(60, 64, 67, 0.3), 0px 1px 3px 1px rgba(60, 64, 67, 0.15);\n",
              "      fill: #174EA6;\n",
              "    }\n",
              "\n",
              "    [theme=dark] .colab-df-convert {\n",
              "      background-color: #3B4455;\n",
              "      fill: #D2E3FC;\n",
              "    }\n",
              "\n",
              "    [theme=dark] .colab-df-convert:hover {\n",
              "      background-color: #434B5C;\n",
              "      box-shadow: 0px 1px 3px 1px rgba(0, 0, 0, 0.15);\n",
              "      filter: drop-shadow(0px 1px 2px rgba(0, 0, 0, 0.3));\n",
              "      fill: #FFFFFF;\n",
              "    }\n",
              "  </style>\n",
              "\n",
              "      <script>\n",
              "        const buttonEl =\n",
              "          document.querySelector('#df-caf0ff7b-4f90-4964-b61a-5a7e96a47dda button.colab-df-convert');\n",
              "        buttonEl.style.display =\n",
              "          google.colab.kernel.accessAllowed ? 'block' : 'none';\n",
              "\n",
              "        async function convertToInteractive(key) {\n",
              "          const element = document.querySelector('#df-caf0ff7b-4f90-4964-b61a-5a7e96a47dda');\n",
              "          const dataTable =\n",
              "            await google.colab.kernel.invokeFunction('convertToInteractive',\n",
              "                                                     [key], {});\n",
              "          if (!dataTable) return;\n",
              "\n",
              "          const docLinkHtml = 'Like what you see? Visit the ' +\n",
              "            '<a target=\"_blank\" href=https://colab.research.google.com/notebooks/data_table.ipynb>data table notebook</a>'\n",
              "            + ' to learn more about interactive tables.';\n",
              "          element.innerHTML = '';\n",
              "          dataTable['output_type'] = 'display_data';\n",
              "          await google.colab.output.renderOutput(dataTable, element);\n",
              "          const docLink = document.createElement('div');\n",
              "          docLink.innerHTML = docLinkHtml;\n",
              "          element.appendChild(docLink);\n",
              "        }\n",
              "      </script>\n",
              "    </div>\n",
              "  </div>\n"
            ]
          },
          "metadata": {},
          "execution_count": 130
        }
      ]
    },
    {
      "cell_type": "code",
      "source": [
        "data['QTD_DIAS'].info()"
      ],
      "metadata": {
        "colab": {
          "base_uri": "https://localhost:8080/"
        },
        "id": "7TK3nH9oxco5",
        "outputId": "d50b0f3f-bf1b-4ab4-8d77-3e55b4f9d602"
      },
      "execution_count": null,
      "outputs": [
        {
          "output_type": "stream",
          "name": "stdout",
          "text": [
            "<class 'pandas.core.series.Series'>\n",
            "RangeIndex: 17432 entries, 0 to 17431\n",
            "Series name: QTD_DIAS\n",
            "Non-Null Count  Dtype  \n",
            "--------------  -----  \n",
            "17295 non-null  float64\n",
            "dtypes: float64(1)\n",
            "memory usage: 136.3 KB\n"
          ]
        }
      ]
    },
    {
      "cell_type": "code",
      "source": [
        "# Calcula a mediana de 'QTD_DIAS'\n",
        "data['QTD_DIAS'].median()"
      ],
      "metadata": {
        "colab": {
          "base_uri": "https://localhost:8080/"
        },
        "id": "zIRzdYRdxcr5",
        "outputId": "07cc46cc-c4c3-4546-ce8d-b58728f684e9"
      },
      "execution_count": null,
      "outputs": [
        {
          "output_type": "execute_result",
          "data": {
            "text/plain": [
              "5.0"
            ]
          },
          "metadata": {},
          "execution_count": 132
        }
      ]
    },
    {
      "cell_type": "code",
      "source": [
        "# Conta os valores NaN em 'QTD_DIAS'\n",
        "data['QTD_DIAS'].isnull().sum()"
      ],
      "metadata": {
        "colab": {
          "base_uri": "https://localhost:8080/"
        },
        "id": "p8rDJBgsxcua",
        "outputId": "589d4766-fdd2-4363-ef72-13bcb763fa13"
      },
      "execution_count": null,
      "outputs": [
        {
          "output_type": "execute_result",
          "data": {
            "text/plain": [
              "137"
            ]
          },
          "metadata": {},
          "execution_count": 133
        }
      ]
    },
    {
      "cell_type": "code",
      "source": [
        "# Preenche valores NaN com a mediana\n",
        "data['QTD_DIAS'].fillna(data['QTD_DIAS'].median(), inplace=True)"
      ],
      "metadata": {
        "id": "nBA5MhPTw06y"
      },
      "execution_count": null,
      "outputs": []
    },
    {
      "cell_type": "code",
      "source": [
        "# Converte o tipo de dados de float para int\n",
        "data['QTD_DIAS'] = data['QTD_DIAS'].astype(int)"
      ],
      "metadata": {
        "id": "7VNHz0NuxyS0"
      },
      "execution_count": null,
      "outputs": []
    },
    {
      "cell_type": "code",
      "source": [
        "data['QTD_DIAS'].info()"
      ],
      "metadata": {
        "colab": {
          "base_uri": "https://localhost:8080/"
        },
        "id": "Vh2fKQfpxyYK",
        "outputId": "79949055-1f29-409c-8f32-caa40fd9fcca"
      },
      "execution_count": null,
      "outputs": [
        {
          "output_type": "stream",
          "name": "stdout",
          "text": [
            "<class 'pandas.core.series.Series'>\n",
            "RangeIndex: 17432 entries, 0 to 17431\n",
            "Series name: QTD_DIAS\n",
            "Non-Null Count  Dtype\n",
            "--------------  -----\n",
            "17432 non-null  int64\n",
            "dtypes: int64(1)\n",
            "memory usage: 136.3 KB\n"
          ]
        }
      ]
    },
    {
      "cell_type": "markdown",
      "source": [
        "Criação de uma coluna chamada \"DIAS_INTERNA\" que representa a quantidade de dias que um paciente ficou hospitalizado."
      ],
      "metadata": {
        "id": "XDiss8pwx5cQ"
      }
    },
    {
      "cell_type": "markdown",
      "source": [
        "*DT_INTERNA com DT_EVOLUCA*"
      ],
      "metadata": {
        "id": "6Ymso8ATM5x4"
      }
    },
    {
      "cell_type": "code",
      "source": [
        "# DIAS_INTERNA armazena a quantidade de dias internado desde a data de internação\n",
        "# até a evolução.\n",
        "data['DIAS_INTERNA'] = ''"
      ],
      "metadata": {
        "id": "XZ_jlRenxybK"
      },
      "execution_count": null,
      "outputs": []
    },
    {
      "cell_type": "code",
      "source": [
        "# Calcula o intervalo de dias entre duas datas\n",
        "def calc_dias_interna(row):\n",
        "  if row['HOSPITAL'] == 1:\n",
        "    if pd.isna(row['DT_INTERNA']) or pd.isna(row['DT_EVOLUCA']):\n",
        "      return np.nan\n",
        "    else:\n",
        "      data1 = datetime.strptime(row['DT_INTERNA'], '%d/%m/%Y')\n",
        "      data2 = datetime.strptime(row['DT_EVOLUCA'], '%d/%m/%Y')\n",
        "      return abs((data2 - data1).days)\n",
        "  else:\n",
        "    return 0\n",
        "\n",
        "# Chama a função e atribui o resultado à coluna 'DIAS_INTERNA'\n",
        "data['DIAS_INTERNA'] = data.apply(calc_dias_interna, axis=1)"
      ],
      "metadata": {
        "id": "sgiIPH4pxyd2"
      },
      "execution_count": null,
      "outputs": []
    },
    {
      "cell_type": "code",
      "source": [
        "data[['DT_INTERNA', 'DT_EVOLUCA', 'DIAS_INTERNA']]"
      ],
      "metadata": {
        "colab": {
          "base_uri": "https://localhost:8080/"
        },
        "id": "kkSsAeuYxyg2",
        "outputId": "428394d8-d4d7-4fbc-b2fb-e70385cb515a"
      },
      "execution_count": null,
      "outputs": [
        {
          "output_type": "execute_result",
          "data": {
            "text/plain": [
              "       DT_INTERNA  DT_EVOLUCA  DIAS_INTERNA\n",
              "0      05/01/2022  06/01/2022           1.0\n",
              "1      07/01/2022  25/01/2022          18.0\n",
              "2      11/01/2022  13/01/2022           2.0\n",
              "3      19/01/2022  07/02/2022          19.0\n",
              "4      10/01/2022  13/01/2022           3.0\n",
              "...           ...         ...           ...\n",
              "17427  28/06/2022  29/06/2022           1.0\n",
              "17428  09/08/2022  12/08/2022           3.0\n",
              "17429  30/08/2022  01/09/2022           2.0\n",
              "17430  09/11/2022  17/11/2022           8.0\n",
              "17431  24/12/2022  29/12/2022           5.0\n",
              "\n",
              "[17432 rows x 3 columns]"
            ],
            "text/html": [
              "\n",
              "\n",
              "  <div id=\"df-e58e5b34-be24-4193-a4f8-6033dbf0392e\">\n",
              "    <div class=\"colab-df-container\">\n",
              "      <div>\n",
              "<style scoped>\n",
              "    .dataframe tbody tr th:only-of-type {\n",
              "        vertical-align: middle;\n",
              "    }\n",
              "\n",
              "    .dataframe tbody tr th {\n",
              "        vertical-align: top;\n",
              "    }\n",
              "\n",
              "    .dataframe thead th {\n",
              "        text-align: right;\n",
              "    }\n",
              "</style>\n",
              "<table border=\"1\" class=\"dataframe\">\n",
              "  <thead>\n",
              "    <tr style=\"text-align: right;\">\n",
              "      <th></th>\n",
              "      <th>DT_INTERNA</th>\n",
              "      <th>DT_EVOLUCA</th>\n",
              "      <th>DIAS_INTERNA</th>\n",
              "    </tr>\n",
              "  </thead>\n",
              "  <tbody>\n",
              "    <tr>\n",
              "      <th>0</th>\n",
              "      <td>05/01/2022</td>\n",
              "      <td>06/01/2022</td>\n",
              "      <td>1.0</td>\n",
              "    </tr>\n",
              "    <tr>\n",
              "      <th>1</th>\n",
              "      <td>07/01/2022</td>\n",
              "      <td>25/01/2022</td>\n",
              "      <td>18.0</td>\n",
              "    </tr>\n",
              "    <tr>\n",
              "      <th>2</th>\n",
              "      <td>11/01/2022</td>\n",
              "      <td>13/01/2022</td>\n",
              "      <td>2.0</td>\n",
              "    </tr>\n",
              "    <tr>\n",
              "      <th>3</th>\n",
              "      <td>19/01/2022</td>\n",
              "      <td>07/02/2022</td>\n",
              "      <td>19.0</td>\n",
              "    </tr>\n",
              "    <tr>\n",
              "      <th>4</th>\n",
              "      <td>10/01/2022</td>\n",
              "      <td>13/01/2022</td>\n",
              "      <td>3.0</td>\n",
              "    </tr>\n",
              "    <tr>\n",
              "      <th>...</th>\n",
              "      <td>...</td>\n",
              "      <td>...</td>\n",
              "      <td>...</td>\n",
              "    </tr>\n",
              "    <tr>\n",
              "      <th>17427</th>\n",
              "      <td>28/06/2022</td>\n",
              "      <td>29/06/2022</td>\n",
              "      <td>1.0</td>\n",
              "    </tr>\n",
              "    <tr>\n",
              "      <th>17428</th>\n",
              "      <td>09/08/2022</td>\n",
              "      <td>12/08/2022</td>\n",
              "      <td>3.0</td>\n",
              "    </tr>\n",
              "    <tr>\n",
              "      <th>17429</th>\n",
              "      <td>30/08/2022</td>\n",
              "      <td>01/09/2022</td>\n",
              "      <td>2.0</td>\n",
              "    </tr>\n",
              "    <tr>\n",
              "      <th>17430</th>\n",
              "      <td>09/11/2022</td>\n",
              "      <td>17/11/2022</td>\n",
              "      <td>8.0</td>\n",
              "    </tr>\n",
              "    <tr>\n",
              "      <th>17431</th>\n",
              "      <td>24/12/2022</td>\n",
              "      <td>29/12/2022</td>\n",
              "      <td>5.0</td>\n",
              "    </tr>\n",
              "  </tbody>\n",
              "</table>\n",
              "<p>17432 rows × 3 columns</p>\n",
              "</div>\n",
              "      <button class=\"colab-df-convert\" onclick=\"convertToInteractive('df-e58e5b34-be24-4193-a4f8-6033dbf0392e')\"\n",
              "              title=\"Convert this dataframe to an interactive table.\"\n",
              "              style=\"display:none;\">\n",
              "\n",
              "  <svg xmlns=\"http://www.w3.org/2000/svg\" height=\"24px\"viewBox=\"0 0 24 24\"\n",
              "       width=\"24px\">\n",
              "    <path d=\"M0 0h24v24H0V0z\" fill=\"none\"/>\n",
              "    <path d=\"M18.56 5.44l.94 2.06.94-2.06 2.06-.94-2.06-.94-.94-2.06-.94 2.06-2.06.94zm-11 1L8.5 8.5l.94-2.06 2.06-.94-2.06-.94L8.5 2.5l-.94 2.06-2.06.94zm10 10l.94 2.06.94-2.06 2.06-.94-2.06-.94-.94-2.06-.94 2.06-2.06.94z\"/><path d=\"M17.41 7.96l-1.37-1.37c-.4-.4-.92-.59-1.43-.59-.52 0-1.04.2-1.43.59L10.3 9.45l-7.72 7.72c-.78.78-.78 2.05 0 2.83L4 21.41c.39.39.9.59 1.41.59.51 0 1.02-.2 1.41-.59l7.78-7.78 2.81-2.81c.8-.78.8-2.07 0-2.86zM5.41 20L4 18.59l7.72-7.72 1.47 1.35L5.41 20z\"/>\n",
              "  </svg>\n",
              "      </button>\n",
              "\n",
              "\n",
              "\n",
              "    <div id=\"df-6f842bb8-bdab-43b1-a716-a86259fc6090\">\n",
              "      <button class=\"colab-df-quickchart\" onclick=\"quickchart('df-6f842bb8-bdab-43b1-a716-a86259fc6090')\"\n",
              "              title=\"Suggest charts.\"\n",
              "              style=\"display:none;\">\n",
              "\n",
              "<svg xmlns=\"http://www.w3.org/2000/svg\" height=\"24px\"viewBox=\"0 0 24 24\"\n",
              "     width=\"24px\">\n",
              "    <g>\n",
              "        <path d=\"M19 3H5c-1.1 0-2 .9-2 2v14c0 1.1.9 2 2 2h14c1.1 0 2-.9 2-2V5c0-1.1-.9-2-2-2zM9 17H7v-7h2v7zm4 0h-2V7h2v10zm4 0h-2v-4h2v4z\"/>\n",
              "    </g>\n",
              "</svg>\n",
              "      </button>\n",
              "    </div>\n",
              "\n",
              "<style>\n",
              "  .colab-df-quickchart {\n",
              "    background-color: #E8F0FE;\n",
              "    border: none;\n",
              "    border-radius: 50%;\n",
              "    cursor: pointer;\n",
              "    display: none;\n",
              "    fill: #1967D2;\n",
              "    height: 32px;\n",
              "    padding: 0 0 0 0;\n",
              "    width: 32px;\n",
              "  }\n",
              "\n",
              "  .colab-df-quickchart:hover {\n",
              "    background-color: #E2EBFA;\n",
              "    box-shadow: 0px 1px 2px rgba(60, 64, 67, 0.3), 0px 1px 3px 1px rgba(60, 64, 67, 0.15);\n",
              "    fill: #174EA6;\n",
              "  }\n",
              "\n",
              "  [theme=dark] .colab-df-quickchart {\n",
              "    background-color: #3B4455;\n",
              "    fill: #D2E3FC;\n",
              "  }\n",
              "\n",
              "  [theme=dark] .colab-df-quickchart:hover {\n",
              "    background-color: #434B5C;\n",
              "    box-shadow: 0px 1px 3px 1px rgba(0, 0, 0, 0.15);\n",
              "    filter: drop-shadow(0px 1px 2px rgba(0, 0, 0, 0.3));\n",
              "    fill: #FFFFFF;\n",
              "  }\n",
              "</style>\n",
              "\n",
              "    <script>\n",
              "      async function quickchart(key) {\n",
              "        const containerElement = document.querySelector('#' + key);\n",
              "        const charts = await google.colab.kernel.invokeFunction(\n",
              "            'suggestCharts', [key], {});\n",
              "      }\n",
              "    </script>\n",
              "\n",
              "      <script>\n",
              "\n",
              "function displayQuickchartButton(domScope) {\n",
              "  let quickchartButtonEl =\n",
              "    domScope.querySelector('#df-6f842bb8-bdab-43b1-a716-a86259fc6090 button.colab-df-quickchart');\n",
              "  quickchartButtonEl.style.display =\n",
              "    google.colab.kernel.accessAllowed ? 'block' : 'none';\n",
              "}\n",
              "\n",
              "        displayQuickchartButton(document);\n",
              "      </script>\n",
              "      <style>\n",
              "    .colab-df-container {\n",
              "      display:flex;\n",
              "      flex-wrap:wrap;\n",
              "      gap: 12px;\n",
              "    }\n",
              "\n",
              "    .colab-df-convert {\n",
              "      background-color: #E8F0FE;\n",
              "      border: none;\n",
              "      border-radius: 50%;\n",
              "      cursor: pointer;\n",
              "      display: none;\n",
              "      fill: #1967D2;\n",
              "      height: 32px;\n",
              "      padding: 0 0 0 0;\n",
              "      width: 32px;\n",
              "    }\n",
              "\n",
              "    .colab-df-convert:hover {\n",
              "      background-color: #E2EBFA;\n",
              "      box-shadow: 0px 1px 2px rgba(60, 64, 67, 0.3), 0px 1px 3px 1px rgba(60, 64, 67, 0.15);\n",
              "      fill: #174EA6;\n",
              "    }\n",
              "\n",
              "    [theme=dark] .colab-df-convert {\n",
              "      background-color: #3B4455;\n",
              "      fill: #D2E3FC;\n",
              "    }\n",
              "\n",
              "    [theme=dark] .colab-df-convert:hover {\n",
              "      background-color: #434B5C;\n",
              "      box-shadow: 0px 1px 3px 1px rgba(0, 0, 0, 0.15);\n",
              "      filter: drop-shadow(0px 1px 2px rgba(0, 0, 0, 0.3));\n",
              "      fill: #FFFFFF;\n",
              "    }\n",
              "  </style>\n",
              "\n",
              "      <script>\n",
              "        const buttonEl =\n",
              "          document.querySelector('#df-e58e5b34-be24-4193-a4f8-6033dbf0392e button.colab-df-convert');\n",
              "        buttonEl.style.display =\n",
              "          google.colab.kernel.accessAllowed ? 'block' : 'none';\n",
              "\n",
              "        async function convertToInteractive(key) {\n",
              "          const element = document.querySelector('#df-e58e5b34-be24-4193-a4f8-6033dbf0392e');\n",
              "          const dataTable =\n",
              "            await google.colab.kernel.invokeFunction('convertToInteractive',\n",
              "                                                     [key], {});\n",
              "          if (!dataTable) return;\n",
              "\n",
              "          const docLinkHtml = 'Like what you see? Visit the ' +\n",
              "            '<a target=\"_blank\" href=https://colab.research.google.com/notebooks/data_table.ipynb>data table notebook</a>'\n",
              "            + ' to learn more about interactive tables.';\n",
              "          element.innerHTML = '';\n",
              "          dataTable['output_type'] = 'display_data';\n",
              "          await google.colab.output.renderOutput(dataTable, element);\n",
              "          const docLink = document.createElement('div');\n",
              "          docLink.innerHTML = docLinkHtml;\n",
              "          element.appendChild(docLink);\n",
              "        }\n",
              "      </script>\n",
              "    </div>\n",
              "  </div>\n"
            ]
          },
          "metadata": {},
          "execution_count": 139
        }
      ]
    },
    {
      "cell_type": "code",
      "source": [
        "data['DIAS_INTERNA'].info()"
      ],
      "metadata": {
        "colab": {
          "base_uri": "https://localhost:8080/"
        },
        "id": "zlAGuibAxyko",
        "outputId": "c5beaf09-2160-44c6-be48-0d5b93cc64b8"
      },
      "execution_count": null,
      "outputs": [
        {
          "output_type": "stream",
          "name": "stdout",
          "text": [
            "<class 'pandas.core.series.Series'>\n",
            "RangeIndex: 17432 entries, 0 to 17431\n",
            "Series name: DIAS_INTERNA\n",
            "Non-Null Count  Dtype  \n",
            "--------------  -----  \n",
            "17255 non-null  float64\n",
            "dtypes: float64(1)\n",
            "memory usage: 136.3 KB\n"
          ]
        }
      ]
    },
    {
      "cell_type": "code",
      "source": [
        "# Calcula a mediana de 'DIAS_INTERNA'\n",
        "data['DIAS_INTERNA'].median()"
      ],
      "metadata": {
        "colab": {
          "base_uri": "https://localhost:8080/"
        },
        "id": "GOmGuTVsxyoQ",
        "outputId": "fc748701-2da0-424b-899c-9a6dc3631986"
      },
      "execution_count": null,
      "outputs": [
        {
          "output_type": "execute_result",
          "data": {
            "text/plain": [
              "5.0"
            ]
          },
          "metadata": {},
          "execution_count": 141
        }
      ]
    },
    {
      "cell_type": "code",
      "source": [
        "# Conta os valores NaN em 'DIAS_INTERNA'\n",
        "data['DIAS_INTERNA'].isnull().sum()"
      ],
      "metadata": {
        "colab": {
          "base_uri": "https://localhost:8080/"
        },
        "id": "g2dow9WGyPxB",
        "outputId": "5adb9174-79f2-4125-f58c-d3eb078f5883"
      },
      "execution_count": null,
      "outputs": [
        {
          "output_type": "execute_result",
          "data": {
            "text/plain": [
              "177"
            ]
          },
          "metadata": {},
          "execution_count": 142
        }
      ]
    },
    {
      "cell_type": "code",
      "source": [
        "# Preenche valores NaN com a mediana\n",
        "data['DIAS_INTERNA'].fillna(data['DIAS_INTERNA'].median(), inplace=True)"
      ],
      "metadata": {
        "id": "bwvZBrdmyPuq"
      },
      "execution_count": null,
      "outputs": []
    },
    {
      "cell_type": "code",
      "source": [
        "# Converte o tipo de dados de float para int\n",
        "data['DIAS_INTERNA'] = data['DIAS_INTERNA'].astype(int)"
      ],
      "metadata": {
        "id": "yaT9aerlyPr0"
      },
      "execution_count": null,
      "outputs": []
    },
    {
      "cell_type": "code",
      "source": [
        "data['DIAS_INTERNA'].info()"
      ],
      "metadata": {
        "colab": {
          "base_uri": "https://localhost:8080/"
        },
        "id": "n4jltrGYyPo0",
        "outputId": "0f3d3365-f047-4179-b3f2-6701d352a77a"
      },
      "execution_count": null,
      "outputs": [
        {
          "output_type": "stream",
          "name": "stdout",
          "text": [
            "<class 'pandas.core.series.Series'>\n",
            "RangeIndex: 17432 entries, 0 to 17431\n",
            "Series name: DIAS_INTERNA\n",
            "Non-Null Count  Dtype\n",
            "--------------  -----\n",
            "17432 non-null  int64\n",
            "dtypes: int64(1)\n",
            "memory usage: 136.3 KB\n"
          ]
        }
      ]
    },
    {
      "cell_type": "code",
      "source": [
        "data[['DT_INTERNA', 'DT_EVOLUCA', 'DT_SIN_PRI', 'DT_NOTIFIC', 'DT_PCR']]"
      ],
      "metadata": {
        "colab": {
          "base_uri": "https://localhost:8080/"
        },
        "id": "_WgxLIVgyPl9",
        "outputId": "602bf981-ae04-40f0-c606-23548fd8b00d"
      },
      "execution_count": null,
      "outputs": [
        {
          "output_type": "execute_result",
          "data": {
            "text/plain": [
              "       DT_INTERNA  DT_EVOLUCA  DT_SIN_PRI  DT_NOTIFIC      DT_PCR\n",
              "0      05/01/2022  06/01/2022  03/01/2022  05/01/2022  09/01/2022\n",
              "1      07/01/2022  25/01/2022  05/01/2022  07/01/2022         NaN\n",
              "2      11/01/2022  13/01/2022  07/01/2022  10/01/2022  13/01/2022\n",
              "3      19/01/2022  07/02/2022  06/01/2022  19/01/2022  21/01/2022\n",
              "4      10/01/2022  13/01/2022  10/01/2022  10/01/2022  13/01/2022\n",
              "...           ...         ...         ...         ...         ...\n",
              "17427  28/06/2022  29/06/2022  26/06/2022  29/06/2022         NaN\n",
              "17428  09/08/2022  12/08/2022  06/08/2022  09/08/2022  15/08/2022\n",
              "17429  30/08/2022  01/09/2022  27/08/2022  30/08/2022  02/09/2022\n",
              "17430  09/11/2022  17/11/2022  03/11/2022  10/11/2022  17/11/2022\n",
              "17431  24/12/2022  29/12/2022  24/12/2022  24/12/2022  26/12/2022\n",
              "\n",
              "[17432 rows x 5 columns]"
            ],
            "text/html": [
              "\n",
              "\n",
              "  <div id=\"df-5562d67d-0fd5-44af-b9fe-b1b9d33e4fc4\">\n",
              "    <div class=\"colab-df-container\">\n",
              "      <div>\n",
              "<style scoped>\n",
              "    .dataframe tbody tr th:only-of-type {\n",
              "        vertical-align: middle;\n",
              "    }\n",
              "\n",
              "    .dataframe tbody tr th {\n",
              "        vertical-align: top;\n",
              "    }\n",
              "\n",
              "    .dataframe thead th {\n",
              "        text-align: right;\n",
              "    }\n",
              "</style>\n",
              "<table border=\"1\" class=\"dataframe\">\n",
              "  <thead>\n",
              "    <tr style=\"text-align: right;\">\n",
              "      <th></th>\n",
              "      <th>DT_INTERNA</th>\n",
              "      <th>DT_EVOLUCA</th>\n",
              "      <th>DT_SIN_PRI</th>\n",
              "      <th>DT_NOTIFIC</th>\n",
              "      <th>DT_PCR</th>\n",
              "    </tr>\n",
              "  </thead>\n",
              "  <tbody>\n",
              "    <tr>\n",
              "      <th>0</th>\n",
              "      <td>05/01/2022</td>\n",
              "      <td>06/01/2022</td>\n",
              "      <td>03/01/2022</td>\n",
              "      <td>05/01/2022</td>\n",
              "      <td>09/01/2022</td>\n",
              "    </tr>\n",
              "    <tr>\n",
              "      <th>1</th>\n",
              "      <td>07/01/2022</td>\n",
              "      <td>25/01/2022</td>\n",
              "      <td>05/01/2022</td>\n",
              "      <td>07/01/2022</td>\n",
              "      <td>NaN</td>\n",
              "    </tr>\n",
              "    <tr>\n",
              "      <th>2</th>\n",
              "      <td>11/01/2022</td>\n",
              "      <td>13/01/2022</td>\n",
              "      <td>07/01/2022</td>\n",
              "      <td>10/01/2022</td>\n",
              "      <td>13/01/2022</td>\n",
              "    </tr>\n",
              "    <tr>\n",
              "      <th>3</th>\n",
              "      <td>19/01/2022</td>\n",
              "      <td>07/02/2022</td>\n",
              "      <td>06/01/2022</td>\n",
              "      <td>19/01/2022</td>\n",
              "      <td>21/01/2022</td>\n",
              "    </tr>\n",
              "    <tr>\n",
              "      <th>4</th>\n",
              "      <td>10/01/2022</td>\n",
              "      <td>13/01/2022</td>\n",
              "      <td>10/01/2022</td>\n",
              "      <td>10/01/2022</td>\n",
              "      <td>13/01/2022</td>\n",
              "    </tr>\n",
              "    <tr>\n",
              "      <th>...</th>\n",
              "      <td>...</td>\n",
              "      <td>...</td>\n",
              "      <td>...</td>\n",
              "      <td>...</td>\n",
              "      <td>...</td>\n",
              "    </tr>\n",
              "    <tr>\n",
              "      <th>17427</th>\n",
              "      <td>28/06/2022</td>\n",
              "      <td>29/06/2022</td>\n",
              "      <td>26/06/2022</td>\n",
              "      <td>29/06/2022</td>\n",
              "      <td>NaN</td>\n",
              "    </tr>\n",
              "    <tr>\n",
              "      <th>17428</th>\n",
              "      <td>09/08/2022</td>\n",
              "      <td>12/08/2022</td>\n",
              "      <td>06/08/2022</td>\n",
              "      <td>09/08/2022</td>\n",
              "      <td>15/08/2022</td>\n",
              "    </tr>\n",
              "    <tr>\n",
              "      <th>17429</th>\n",
              "      <td>30/08/2022</td>\n",
              "      <td>01/09/2022</td>\n",
              "      <td>27/08/2022</td>\n",
              "      <td>30/08/2022</td>\n",
              "      <td>02/09/2022</td>\n",
              "    </tr>\n",
              "    <tr>\n",
              "      <th>17430</th>\n",
              "      <td>09/11/2022</td>\n",
              "      <td>17/11/2022</td>\n",
              "      <td>03/11/2022</td>\n",
              "      <td>10/11/2022</td>\n",
              "      <td>17/11/2022</td>\n",
              "    </tr>\n",
              "    <tr>\n",
              "      <th>17431</th>\n",
              "      <td>24/12/2022</td>\n",
              "      <td>29/12/2022</td>\n",
              "      <td>24/12/2022</td>\n",
              "      <td>24/12/2022</td>\n",
              "      <td>26/12/2022</td>\n",
              "    </tr>\n",
              "  </tbody>\n",
              "</table>\n",
              "<p>17432 rows × 5 columns</p>\n",
              "</div>\n",
              "      <button class=\"colab-df-convert\" onclick=\"convertToInteractive('df-5562d67d-0fd5-44af-b9fe-b1b9d33e4fc4')\"\n",
              "              title=\"Convert this dataframe to an interactive table.\"\n",
              "              style=\"display:none;\">\n",
              "\n",
              "  <svg xmlns=\"http://www.w3.org/2000/svg\" height=\"24px\"viewBox=\"0 0 24 24\"\n",
              "       width=\"24px\">\n",
              "    <path d=\"M0 0h24v24H0V0z\" fill=\"none\"/>\n",
              "    <path d=\"M18.56 5.44l.94 2.06.94-2.06 2.06-.94-2.06-.94-.94-2.06-.94 2.06-2.06.94zm-11 1L8.5 8.5l.94-2.06 2.06-.94-2.06-.94L8.5 2.5l-.94 2.06-2.06.94zm10 10l.94 2.06.94-2.06 2.06-.94-2.06-.94-.94-2.06-.94 2.06-2.06.94z\"/><path d=\"M17.41 7.96l-1.37-1.37c-.4-.4-.92-.59-1.43-.59-.52 0-1.04.2-1.43.59L10.3 9.45l-7.72 7.72c-.78.78-.78 2.05 0 2.83L4 21.41c.39.39.9.59 1.41.59.51 0 1.02-.2 1.41-.59l7.78-7.78 2.81-2.81c.8-.78.8-2.07 0-2.86zM5.41 20L4 18.59l7.72-7.72 1.47 1.35L5.41 20z\"/>\n",
              "  </svg>\n",
              "      </button>\n",
              "\n",
              "\n",
              "\n",
              "    <div id=\"df-3c67fa25-95e8-42af-8c18-917e61a3b669\">\n",
              "      <button class=\"colab-df-quickchart\" onclick=\"quickchart('df-3c67fa25-95e8-42af-8c18-917e61a3b669')\"\n",
              "              title=\"Suggest charts.\"\n",
              "              style=\"display:none;\">\n",
              "\n",
              "<svg xmlns=\"http://www.w3.org/2000/svg\" height=\"24px\"viewBox=\"0 0 24 24\"\n",
              "     width=\"24px\">\n",
              "    <g>\n",
              "        <path d=\"M19 3H5c-1.1 0-2 .9-2 2v14c0 1.1.9 2 2 2h14c1.1 0 2-.9 2-2V5c0-1.1-.9-2-2-2zM9 17H7v-7h2v7zm4 0h-2V7h2v10zm4 0h-2v-4h2v4z\"/>\n",
              "    </g>\n",
              "</svg>\n",
              "      </button>\n",
              "    </div>\n",
              "\n",
              "<style>\n",
              "  .colab-df-quickchart {\n",
              "    background-color: #E8F0FE;\n",
              "    border: none;\n",
              "    border-radius: 50%;\n",
              "    cursor: pointer;\n",
              "    display: none;\n",
              "    fill: #1967D2;\n",
              "    height: 32px;\n",
              "    padding: 0 0 0 0;\n",
              "    width: 32px;\n",
              "  }\n",
              "\n",
              "  .colab-df-quickchart:hover {\n",
              "    background-color: #E2EBFA;\n",
              "    box-shadow: 0px 1px 2px rgba(60, 64, 67, 0.3), 0px 1px 3px 1px rgba(60, 64, 67, 0.15);\n",
              "    fill: #174EA6;\n",
              "  }\n",
              "\n",
              "  [theme=dark] .colab-df-quickchart {\n",
              "    background-color: #3B4455;\n",
              "    fill: #D2E3FC;\n",
              "  }\n",
              "\n",
              "  [theme=dark] .colab-df-quickchart:hover {\n",
              "    background-color: #434B5C;\n",
              "    box-shadow: 0px 1px 3px 1px rgba(0, 0, 0, 0.15);\n",
              "    filter: drop-shadow(0px 1px 2px rgba(0, 0, 0, 0.3));\n",
              "    fill: #FFFFFF;\n",
              "  }\n",
              "</style>\n",
              "\n",
              "    <script>\n",
              "      async function quickchart(key) {\n",
              "        const containerElement = document.querySelector('#' + key);\n",
              "        const charts = await google.colab.kernel.invokeFunction(\n",
              "            'suggestCharts', [key], {});\n",
              "      }\n",
              "    </script>\n",
              "\n",
              "      <script>\n",
              "\n",
              "function displayQuickchartButton(domScope) {\n",
              "  let quickchartButtonEl =\n",
              "    domScope.querySelector('#df-3c67fa25-95e8-42af-8c18-917e61a3b669 button.colab-df-quickchart');\n",
              "  quickchartButtonEl.style.display =\n",
              "    google.colab.kernel.accessAllowed ? 'block' : 'none';\n",
              "}\n",
              "\n",
              "        displayQuickchartButton(document);\n",
              "      </script>\n",
              "      <style>\n",
              "    .colab-df-container {\n",
              "      display:flex;\n",
              "      flex-wrap:wrap;\n",
              "      gap: 12px;\n",
              "    }\n",
              "\n",
              "    .colab-df-convert {\n",
              "      background-color: #E8F0FE;\n",
              "      border: none;\n",
              "      border-radius: 50%;\n",
              "      cursor: pointer;\n",
              "      display: none;\n",
              "      fill: #1967D2;\n",
              "      height: 32px;\n",
              "      padding: 0 0 0 0;\n",
              "      width: 32px;\n",
              "    }\n",
              "\n",
              "    .colab-df-convert:hover {\n",
              "      background-color: #E2EBFA;\n",
              "      box-shadow: 0px 1px 2px rgba(60, 64, 67, 0.3), 0px 1px 3px 1px rgba(60, 64, 67, 0.15);\n",
              "      fill: #174EA6;\n",
              "    }\n",
              "\n",
              "    [theme=dark] .colab-df-convert {\n",
              "      background-color: #3B4455;\n",
              "      fill: #D2E3FC;\n",
              "    }\n",
              "\n",
              "    [theme=dark] .colab-df-convert:hover {\n",
              "      background-color: #434B5C;\n",
              "      box-shadow: 0px 1px 3px 1px rgba(0, 0, 0, 0.15);\n",
              "      filter: drop-shadow(0px 1px 2px rgba(0, 0, 0, 0.3));\n",
              "      fill: #FFFFFF;\n",
              "    }\n",
              "  </style>\n",
              "\n",
              "      <script>\n",
              "        const buttonEl =\n",
              "          document.querySelector('#df-5562d67d-0fd5-44af-b9fe-b1b9d33e4fc4 button.colab-df-convert');\n",
              "        buttonEl.style.display =\n",
              "          google.colab.kernel.accessAllowed ? 'block' : 'none';\n",
              "\n",
              "        async function convertToInteractive(key) {\n",
              "          const element = document.querySelector('#df-5562d67d-0fd5-44af-b9fe-b1b9d33e4fc4');\n",
              "          const dataTable =\n",
              "            await google.colab.kernel.invokeFunction('convertToInteractive',\n",
              "                                                     [key], {});\n",
              "          if (!dataTable) return;\n",
              "\n",
              "          const docLinkHtml = 'Like what you see? Visit the ' +\n",
              "            '<a target=\"_blank\" href=https://colab.research.google.com/notebooks/data_table.ipynb>data table notebook</a>'\n",
              "            + ' to learn more about interactive tables.';\n",
              "          element.innerHTML = '';\n",
              "          dataTable['output_type'] = 'display_data';\n",
              "          await google.colab.output.renderOutput(dataTable, element);\n",
              "          const docLink = document.createElement('div');\n",
              "          docLink.innerHTML = docLinkHtml;\n",
              "          element.appendChild(docLink);\n",
              "        }\n",
              "      </script>\n",
              "    </div>\n",
              "  </div>\n"
            ]
          },
          "metadata": {},
          "execution_count": 146
        }
      ]
    },
    {
      "cell_type": "markdown",
      "source": [
        "Criação de uma coluna \"SINT_ATE_NOTIF\" que representa a quantidade de dias entre os primeiros sintomas do paciente até a notificação."
      ],
      "metadata": {
        "id": "HEl4IjDVPghG"
      }
    },
    {
      "cell_type": "markdown",
      "source": [
        "*DT_SIN_PRI com DT_NOTIFIC*"
      ],
      "metadata": {
        "id": "6vbSAhumRIzB"
      }
    },
    {
      "cell_type": "code",
      "source": [
        "data['SINT_ATE_NOTIF'] = ''"
      ],
      "metadata": {
        "id": "Es1VVyieyPi-"
      },
      "execution_count": null,
      "outputs": []
    },
    {
      "cell_type": "code",
      "source": [
        "# Calcula o intervalo de dias entre duas datas\n",
        "def calc_dias_sintomas(row):\n",
        "  data1 = datetime.strptime(row['DT_SIN_PRI'], '%d/%m/%Y')\n",
        "  data2 = datetime.strptime(row['DT_NOTIFIC'], '%d/%m/%Y')\n",
        "  return abs((data2 - data1).days)\n",
        "\n",
        "# Chama a função e atribui o resultado à coluna 'SINT_ATE_NOTIF'\n",
        "data['SINT_ATE_NOTIF'] = data.apply(calc_dias_sintomas, axis=1)"
      ],
      "metadata": {
        "id": "K6vDAsjryPgC"
      },
      "execution_count": null,
      "outputs": []
    },
    {
      "cell_type": "code",
      "source": [
        "data[['DT_SIN_PRI', 'DT_NOTIFIC', 'SINT_ATE_NOTIF']]"
      ],
      "metadata": {
        "colab": {
          "base_uri": "https://localhost:8080/"
        },
        "id": "tc7NyzQAyPc0",
        "outputId": "d7c76cba-95ab-4435-ac1e-61db51602ab3"
      },
      "execution_count": null,
      "outputs": [
        {
          "output_type": "execute_result",
          "data": {
            "text/plain": [
              "       DT_SIN_PRI  DT_NOTIFIC  SINT_ATE_NOTIF\n",
              "0      03/01/2022  05/01/2022               2\n",
              "1      05/01/2022  07/01/2022               2\n",
              "2      07/01/2022  10/01/2022               3\n",
              "3      06/01/2022  19/01/2022              13\n",
              "4      10/01/2022  10/01/2022               0\n",
              "...           ...         ...             ...\n",
              "17427  26/06/2022  29/06/2022               3\n",
              "17428  06/08/2022  09/08/2022               3\n",
              "17429  27/08/2022  30/08/2022               3\n",
              "17430  03/11/2022  10/11/2022               7\n",
              "17431  24/12/2022  24/12/2022               0\n",
              "\n",
              "[17432 rows x 3 columns]"
            ],
            "text/html": [
              "\n",
              "\n",
              "  <div id=\"df-2495608d-06d8-41a4-b2d4-21a8acfbf8f9\">\n",
              "    <div class=\"colab-df-container\">\n",
              "      <div>\n",
              "<style scoped>\n",
              "    .dataframe tbody tr th:only-of-type {\n",
              "        vertical-align: middle;\n",
              "    }\n",
              "\n",
              "    .dataframe tbody tr th {\n",
              "        vertical-align: top;\n",
              "    }\n",
              "\n",
              "    .dataframe thead th {\n",
              "        text-align: right;\n",
              "    }\n",
              "</style>\n",
              "<table border=\"1\" class=\"dataframe\">\n",
              "  <thead>\n",
              "    <tr style=\"text-align: right;\">\n",
              "      <th></th>\n",
              "      <th>DT_SIN_PRI</th>\n",
              "      <th>DT_NOTIFIC</th>\n",
              "      <th>SINT_ATE_NOTIF</th>\n",
              "    </tr>\n",
              "  </thead>\n",
              "  <tbody>\n",
              "    <tr>\n",
              "      <th>0</th>\n",
              "      <td>03/01/2022</td>\n",
              "      <td>05/01/2022</td>\n",
              "      <td>2</td>\n",
              "    </tr>\n",
              "    <tr>\n",
              "      <th>1</th>\n",
              "      <td>05/01/2022</td>\n",
              "      <td>07/01/2022</td>\n",
              "      <td>2</td>\n",
              "    </tr>\n",
              "    <tr>\n",
              "      <th>2</th>\n",
              "      <td>07/01/2022</td>\n",
              "      <td>10/01/2022</td>\n",
              "      <td>3</td>\n",
              "    </tr>\n",
              "    <tr>\n",
              "      <th>3</th>\n",
              "      <td>06/01/2022</td>\n",
              "      <td>19/01/2022</td>\n",
              "      <td>13</td>\n",
              "    </tr>\n",
              "    <tr>\n",
              "      <th>4</th>\n",
              "      <td>10/01/2022</td>\n",
              "      <td>10/01/2022</td>\n",
              "      <td>0</td>\n",
              "    </tr>\n",
              "    <tr>\n",
              "      <th>...</th>\n",
              "      <td>...</td>\n",
              "      <td>...</td>\n",
              "      <td>...</td>\n",
              "    </tr>\n",
              "    <tr>\n",
              "      <th>17427</th>\n",
              "      <td>26/06/2022</td>\n",
              "      <td>29/06/2022</td>\n",
              "      <td>3</td>\n",
              "    </tr>\n",
              "    <tr>\n",
              "      <th>17428</th>\n",
              "      <td>06/08/2022</td>\n",
              "      <td>09/08/2022</td>\n",
              "      <td>3</td>\n",
              "    </tr>\n",
              "    <tr>\n",
              "      <th>17429</th>\n",
              "      <td>27/08/2022</td>\n",
              "      <td>30/08/2022</td>\n",
              "      <td>3</td>\n",
              "    </tr>\n",
              "    <tr>\n",
              "      <th>17430</th>\n",
              "      <td>03/11/2022</td>\n",
              "      <td>10/11/2022</td>\n",
              "      <td>7</td>\n",
              "    </tr>\n",
              "    <tr>\n",
              "      <th>17431</th>\n",
              "      <td>24/12/2022</td>\n",
              "      <td>24/12/2022</td>\n",
              "      <td>0</td>\n",
              "    </tr>\n",
              "  </tbody>\n",
              "</table>\n",
              "<p>17432 rows × 3 columns</p>\n",
              "</div>\n",
              "      <button class=\"colab-df-convert\" onclick=\"convertToInteractive('df-2495608d-06d8-41a4-b2d4-21a8acfbf8f9')\"\n",
              "              title=\"Convert this dataframe to an interactive table.\"\n",
              "              style=\"display:none;\">\n",
              "\n",
              "  <svg xmlns=\"http://www.w3.org/2000/svg\" height=\"24px\"viewBox=\"0 0 24 24\"\n",
              "       width=\"24px\">\n",
              "    <path d=\"M0 0h24v24H0V0z\" fill=\"none\"/>\n",
              "    <path d=\"M18.56 5.44l.94 2.06.94-2.06 2.06-.94-2.06-.94-.94-2.06-.94 2.06-2.06.94zm-11 1L8.5 8.5l.94-2.06 2.06-.94-2.06-.94L8.5 2.5l-.94 2.06-2.06.94zm10 10l.94 2.06.94-2.06 2.06-.94-2.06-.94-.94-2.06-.94 2.06-2.06.94z\"/><path d=\"M17.41 7.96l-1.37-1.37c-.4-.4-.92-.59-1.43-.59-.52 0-1.04.2-1.43.59L10.3 9.45l-7.72 7.72c-.78.78-.78 2.05 0 2.83L4 21.41c.39.39.9.59 1.41.59.51 0 1.02-.2 1.41-.59l7.78-7.78 2.81-2.81c.8-.78.8-2.07 0-2.86zM5.41 20L4 18.59l7.72-7.72 1.47 1.35L5.41 20z\"/>\n",
              "  </svg>\n",
              "      </button>\n",
              "\n",
              "\n",
              "\n",
              "    <div id=\"df-ebeb3611-2505-48f9-9f63-84253a8b395a\">\n",
              "      <button class=\"colab-df-quickchart\" onclick=\"quickchart('df-ebeb3611-2505-48f9-9f63-84253a8b395a')\"\n",
              "              title=\"Suggest charts.\"\n",
              "              style=\"display:none;\">\n",
              "\n",
              "<svg xmlns=\"http://www.w3.org/2000/svg\" height=\"24px\"viewBox=\"0 0 24 24\"\n",
              "     width=\"24px\">\n",
              "    <g>\n",
              "        <path d=\"M19 3H5c-1.1 0-2 .9-2 2v14c0 1.1.9 2 2 2h14c1.1 0 2-.9 2-2V5c0-1.1-.9-2-2-2zM9 17H7v-7h2v7zm4 0h-2V7h2v10zm4 0h-2v-4h2v4z\"/>\n",
              "    </g>\n",
              "</svg>\n",
              "      </button>\n",
              "    </div>\n",
              "\n",
              "<style>\n",
              "  .colab-df-quickchart {\n",
              "    background-color: #E8F0FE;\n",
              "    border: none;\n",
              "    border-radius: 50%;\n",
              "    cursor: pointer;\n",
              "    display: none;\n",
              "    fill: #1967D2;\n",
              "    height: 32px;\n",
              "    padding: 0 0 0 0;\n",
              "    width: 32px;\n",
              "  }\n",
              "\n",
              "  .colab-df-quickchart:hover {\n",
              "    background-color: #E2EBFA;\n",
              "    box-shadow: 0px 1px 2px rgba(60, 64, 67, 0.3), 0px 1px 3px 1px rgba(60, 64, 67, 0.15);\n",
              "    fill: #174EA6;\n",
              "  }\n",
              "\n",
              "  [theme=dark] .colab-df-quickchart {\n",
              "    background-color: #3B4455;\n",
              "    fill: #D2E3FC;\n",
              "  }\n",
              "\n",
              "  [theme=dark] .colab-df-quickchart:hover {\n",
              "    background-color: #434B5C;\n",
              "    box-shadow: 0px 1px 3px 1px rgba(0, 0, 0, 0.15);\n",
              "    filter: drop-shadow(0px 1px 2px rgba(0, 0, 0, 0.3));\n",
              "    fill: #FFFFFF;\n",
              "  }\n",
              "</style>\n",
              "\n",
              "    <script>\n",
              "      async function quickchart(key) {\n",
              "        const containerElement = document.querySelector('#' + key);\n",
              "        const charts = await google.colab.kernel.invokeFunction(\n",
              "            'suggestCharts', [key], {});\n",
              "      }\n",
              "    </script>\n",
              "\n",
              "      <script>\n",
              "\n",
              "function displayQuickchartButton(domScope) {\n",
              "  let quickchartButtonEl =\n",
              "    domScope.querySelector('#df-ebeb3611-2505-48f9-9f63-84253a8b395a button.colab-df-quickchart');\n",
              "  quickchartButtonEl.style.display =\n",
              "    google.colab.kernel.accessAllowed ? 'block' : 'none';\n",
              "}\n",
              "\n",
              "        displayQuickchartButton(document);\n",
              "      </script>\n",
              "      <style>\n",
              "    .colab-df-container {\n",
              "      display:flex;\n",
              "      flex-wrap:wrap;\n",
              "      gap: 12px;\n",
              "    }\n",
              "\n",
              "    .colab-df-convert {\n",
              "      background-color: #E8F0FE;\n",
              "      border: none;\n",
              "      border-radius: 50%;\n",
              "      cursor: pointer;\n",
              "      display: none;\n",
              "      fill: #1967D2;\n",
              "      height: 32px;\n",
              "      padding: 0 0 0 0;\n",
              "      width: 32px;\n",
              "    }\n",
              "\n",
              "    .colab-df-convert:hover {\n",
              "      background-color: #E2EBFA;\n",
              "      box-shadow: 0px 1px 2px rgba(60, 64, 67, 0.3), 0px 1px 3px 1px rgba(60, 64, 67, 0.15);\n",
              "      fill: #174EA6;\n",
              "    }\n",
              "\n",
              "    [theme=dark] .colab-df-convert {\n",
              "      background-color: #3B4455;\n",
              "      fill: #D2E3FC;\n",
              "    }\n",
              "\n",
              "    [theme=dark] .colab-df-convert:hover {\n",
              "      background-color: #434B5C;\n",
              "      box-shadow: 0px 1px 3px 1px rgba(0, 0, 0, 0.15);\n",
              "      filter: drop-shadow(0px 1px 2px rgba(0, 0, 0, 0.3));\n",
              "      fill: #FFFFFF;\n",
              "    }\n",
              "  </style>\n",
              "\n",
              "      <script>\n",
              "        const buttonEl =\n",
              "          document.querySelector('#df-2495608d-06d8-41a4-b2d4-21a8acfbf8f9 button.colab-df-convert');\n",
              "        buttonEl.style.display =\n",
              "          google.colab.kernel.accessAllowed ? 'block' : 'none';\n",
              "\n",
              "        async function convertToInteractive(key) {\n",
              "          const element = document.querySelector('#df-2495608d-06d8-41a4-b2d4-21a8acfbf8f9');\n",
              "          const dataTable =\n",
              "            await google.colab.kernel.invokeFunction('convertToInteractive',\n",
              "                                                     [key], {});\n",
              "          if (!dataTable) return;\n",
              "\n",
              "          const docLinkHtml = 'Like what you see? Visit the ' +\n",
              "            '<a target=\"_blank\" href=https://colab.research.google.com/notebooks/data_table.ipynb>data table notebook</a>'\n",
              "            + ' to learn more about interactive tables.';\n",
              "          element.innerHTML = '';\n",
              "          dataTable['output_type'] = 'display_data';\n",
              "          await google.colab.output.renderOutput(dataTable, element);\n",
              "          const docLink = document.createElement('div');\n",
              "          docLink.innerHTML = docLinkHtml;\n",
              "          element.appendChild(docLink);\n",
              "        }\n",
              "      </script>\n",
              "    </div>\n",
              "  </div>\n"
            ]
          },
          "metadata": {},
          "execution_count": 149
        }
      ]
    },
    {
      "cell_type": "code",
      "source": [
        "data['SINT_ATE_NOTIF'].info()"
      ],
      "metadata": {
        "colab": {
          "base_uri": "https://localhost:8080/"
        },
        "id": "h08RPxkTyPaH",
        "outputId": "1e8c2e91-c371-412f-d78f-97ed13c97176"
      },
      "execution_count": null,
      "outputs": [
        {
          "output_type": "stream",
          "name": "stdout",
          "text": [
            "<class 'pandas.core.series.Series'>\n",
            "RangeIndex: 17432 entries, 0 to 17431\n",
            "Series name: SINT_ATE_NOTIF\n",
            "Non-Null Count  Dtype\n",
            "--------------  -----\n",
            "17432 non-null  int64\n",
            "dtypes: int64(1)\n",
            "memory usage: 136.3 KB\n"
          ]
        }
      ]
    },
    {
      "cell_type": "markdown",
      "source": [
        "Criação da coluna \"PCR_EVOLUCAO\" que calcula a diferença de dias entre a data do PCR e a data da evolução."
      ],
      "metadata": {
        "id": "1-u5dclISwAv"
      }
    },
    {
      "cell_type": "markdown",
      "source": [
        "*DT_PCR com DT_EVOLUCA*"
      ],
      "metadata": {
        "id": "N-1vOmXvSwAv"
      }
    },
    {
      "cell_type": "code",
      "source": [
        "data['PCR_EVOLUCAO'] = ''"
      ],
      "metadata": {
        "id": "-BT4t8gAyPXR"
      },
      "execution_count": null,
      "outputs": []
    },
    {
      "cell_type": "code",
      "source": [
        "# Calcula a diferença de dias entre duas datas\n",
        "def calc_pcr_evo(row):\n",
        "  if row['PCR_RESUL'] != 4:\n",
        "    if pd.isna(row['DT_PCR']) or pd.isna(row['DT_EVOLUCA']):\n",
        "      return np.nan\n",
        "    else:\n",
        "      data1 = datetime.strptime(row['DT_PCR'], '%d/%m/%Y')\n",
        "      data2 = datetime.strptime(row['DT_EVOLUCA'], '%d/%m/%Y')\n",
        "      return abs((data2 - data1).days)\n",
        "  else:\n",
        "    return 0\n",
        "\n",
        "# Chama a função e atribui o resultado à coluna 'PCR_EVOLUCAO'\n",
        "data['PCR_EVOLUCAO'] = data.apply(calc_pcr_evo, axis=1)"
      ],
      "metadata": {
        "id": "vkei31aPyPT0"
      },
      "execution_count": null,
      "outputs": []
    },
    {
      "cell_type": "code",
      "source": [
        "data[['DT_PCR', 'DT_EVOLUCA', 'PCR_EVOLUCAO']]"
      ],
      "metadata": {
        "colab": {
          "base_uri": "https://localhost:8080/"
        },
        "id": "-HJ36ev2yPQ-",
        "outputId": "e5670a9d-8bb8-4b4c-9f1c-f53649df168c"
      },
      "execution_count": null,
      "outputs": [
        {
          "output_type": "execute_result",
          "data": {
            "text/plain": [
              "           DT_PCR  DT_EVOLUCA  PCR_EVOLUCAO\n",
              "0      09/01/2022  06/01/2022           3.0\n",
              "1             NaN  25/01/2022           0.0\n",
              "2      13/01/2022  13/01/2022           0.0\n",
              "3      21/01/2022  07/02/2022          17.0\n",
              "4      13/01/2022  13/01/2022           0.0\n",
              "...           ...         ...           ...\n",
              "17427         NaN  29/06/2022           0.0\n",
              "17428  15/08/2022  12/08/2022           3.0\n",
              "17429  02/09/2022  01/09/2022           1.0\n",
              "17430  17/11/2022  17/11/2022           0.0\n",
              "17431  26/12/2022  29/12/2022           3.0\n",
              "\n",
              "[17432 rows x 3 columns]"
            ],
            "text/html": [
              "\n",
              "\n",
              "  <div id=\"df-623bc32a-39fe-4141-ae56-8838d3cfc8a0\">\n",
              "    <div class=\"colab-df-container\">\n",
              "      <div>\n",
              "<style scoped>\n",
              "    .dataframe tbody tr th:only-of-type {\n",
              "        vertical-align: middle;\n",
              "    }\n",
              "\n",
              "    .dataframe tbody tr th {\n",
              "        vertical-align: top;\n",
              "    }\n",
              "\n",
              "    .dataframe thead th {\n",
              "        text-align: right;\n",
              "    }\n",
              "</style>\n",
              "<table border=\"1\" class=\"dataframe\">\n",
              "  <thead>\n",
              "    <tr style=\"text-align: right;\">\n",
              "      <th></th>\n",
              "      <th>DT_PCR</th>\n",
              "      <th>DT_EVOLUCA</th>\n",
              "      <th>PCR_EVOLUCAO</th>\n",
              "    </tr>\n",
              "  </thead>\n",
              "  <tbody>\n",
              "    <tr>\n",
              "      <th>0</th>\n",
              "      <td>09/01/2022</td>\n",
              "      <td>06/01/2022</td>\n",
              "      <td>3.0</td>\n",
              "    </tr>\n",
              "    <tr>\n",
              "      <th>1</th>\n",
              "      <td>NaN</td>\n",
              "      <td>25/01/2022</td>\n",
              "      <td>0.0</td>\n",
              "    </tr>\n",
              "    <tr>\n",
              "      <th>2</th>\n",
              "      <td>13/01/2022</td>\n",
              "      <td>13/01/2022</td>\n",
              "      <td>0.0</td>\n",
              "    </tr>\n",
              "    <tr>\n",
              "      <th>3</th>\n",
              "      <td>21/01/2022</td>\n",
              "      <td>07/02/2022</td>\n",
              "      <td>17.0</td>\n",
              "    </tr>\n",
              "    <tr>\n",
              "      <th>4</th>\n",
              "      <td>13/01/2022</td>\n",
              "      <td>13/01/2022</td>\n",
              "      <td>0.0</td>\n",
              "    </tr>\n",
              "    <tr>\n",
              "      <th>...</th>\n",
              "      <td>...</td>\n",
              "      <td>...</td>\n",
              "      <td>...</td>\n",
              "    </tr>\n",
              "    <tr>\n",
              "      <th>17427</th>\n",
              "      <td>NaN</td>\n",
              "      <td>29/06/2022</td>\n",
              "      <td>0.0</td>\n",
              "    </tr>\n",
              "    <tr>\n",
              "      <th>17428</th>\n",
              "      <td>15/08/2022</td>\n",
              "      <td>12/08/2022</td>\n",
              "      <td>3.0</td>\n",
              "    </tr>\n",
              "    <tr>\n",
              "      <th>17429</th>\n",
              "      <td>02/09/2022</td>\n",
              "      <td>01/09/2022</td>\n",
              "      <td>1.0</td>\n",
              "    </tr>\n",
              "    <tr>\n",
              "      <th>17430</th>\n",
              "      <td>17/11/2022</td>\n",
              "      <td>17/11/2022</td>\n",
              "      <td>0.0</td>\n",
              "    </tr>\n",
              "    <tr>\n",
              "      <th>17431</th>\n",
              "      <td>26/12/2022</td>\n",
              "      <td>29/12/2022</td>\n",
              "      <td>3.0</td>\n",
              "    </tr>\n",
              "  </tbody>\n",
              "</table>\n",
              "<p>17432 rows × 3 columns</p>\n",
              "</div>\n",
              "      <button class=\"colab-df-convert\" onclick=\"convertToInteractive('df-623bc32a-39fe-4141-ae56-8838d3cfc8a0')\"\n",
              "              title=\"Convert this dataframe to an interactive table.\"\n",
              "              style=\"display:none;\">\n",
              "\n",
              "  <svg xmlns=\"http://www.w3.org/2000/svg\" height=\"24px\"viewBox=\"0 0 24 24\"\n",
              "       width=\"24px\">\n",
              "    <path d=\"M0 0h24v24H0V0z\" fill=\"none\"/>\n",
              "    <path d=\"M18.56 5.44l.94 2.06.94-2.06 2.06-.94-2.06-.94-.94-2.06-.94 2.06-2.06.94zm-11 1L8.5 8.5l.94-2.06 2.06-.94-2.06-.94L8.5 2.5l-.94 2.06-2.06.94zm10 10l.94 2.06.94-2.06 2.06-.94-2.06-.94-.94-2.06-.94 2.06-2.06.94z\"/><path d=\"M17.41 7.96l-1.37-1.37c-.4-.4-.92-.59-1.43-.59-.52 0-1.04.2-1.43.59L10.3 9.45l-7.72 7.72c-.78.78-.78 2.05 0 2.83L4 21.41c.39.39.9.59 1.41.59.51 0 1.02-.2 1.41-.59l7.78-7.78 2.81-2.81c.8-.78.8-2.07 0-2.86zM5.41 20L4 18.59l7.72-7.72 1.47 1.35L5.41 20z\"/>\n",
              "  </svg>\n",
              "      </button>\n",
              "\n",
              "\n",
              "\n",
              "    <div id=\"df-e4451208-3628-4594-86cc-14be2dcfd9a8\">\n",
              "      <button class=\"colab-df-quickchart\" onclick=\"quickchart('df-e4451208-3628-4594-86cc-14be2dcfd9a8')\"\n",
              "              title=\"Suggest charts.\"\n",
              "              style=\"display:none;\">\n",
              "\n",
              "<svg xmlns=\"http://www.w3.org/2000/svg\" height=\"24px\"viewBox=\"0 0 24 24\"\n",
              "     width=\"24px\">\n",
              "    <g>\n",
              "        <path d=\"M19 3H5c-1.1 0-2 .9-2 2v14c0 1.1.9 2 2 2h14c1.1 0 2-.9 2-2V5c0-1.1-.9-2-2-2zM9 17H7v-7h2v7zm4 0h-2V7h2v10zm4 0h-2v-4h2v4z\"/>\n",
              "    </g>\n",
              "</svg>\n",
              "      </button>\n",
              "    </div>\n",
              "\n",
              "<style>\n",
              "  .colab-df-quickchart {\n",
              "    background-color: #E8F0FE;\n",
              "    border: none;\n",
              "    border-radius: 50%;\n",
              "    cursor: pointer;\n",
              "    display: none;\n",
              "    fill: #1967D2;\n",
              "    height: 32px;\n",
              "    padding: 0 0 0 0;\n",
              "    width: 32px;\n",
              "  }\n",
              "\n",
              "  .colab-df-quickchart:hover {\n",
              "    background-color: #E2EBFA;\n",
              "    box-shadow: 0px 1px 2px rgba(60, 64, 67, 0.3), 0px 1px 3px 1px rgba(60, 64, 67, 0.15);\n",
              "    fill: #174EA6;\n",
              "  }\n",
              "\n",
              "  [theme=dark] .colab-df-quickchart {\n",
              "    background-color: #3B4455;\n",
              "    fill: #D2E3FC;\n",
              "  }\n",
              "\n",
              "  [theme=dark] .colab-df-quickchart:hover {\n",
              "    background-color: #434B5C;\n",
              "    box-shadow: 0px 1px 3px 1px rgba(0, 0, 0, 0.15);\n",
              "    filter: drop-shadow(0px 1px 2px rgba(0, 0, 0, 0.3));\n",
              "    fill: #FFFFFF;\n",
              "  }\n",
              "</style>\n",
              "\n",
              "    <script>\n",
              "      async function quickchart(key) {\n",
              "        const containerElement = document.querySelector('#' + key);\n",
              "        const charts = await google.colab.kernel.invokeFunction(\n",
              "            'suggestCharts', [key], {});\n",
              "      }\n",
              "    </script>\n",
              "\n",
              "      <script>\n",
              "\n",
              "function displayQuickchartButton(domScope) {\n",
              "  let quickchartButtonEl =\n",
              "    domScope.querySelector('#df-e4451208-3628-4594-86cc-14be2dcfd9a8 button.colab-df-quickchart');\n",
              "  quickchartButtonEl.style.display =\n",
              "    google.colab.kernel.accessAllowed ? 'block' : 'none';\n",
              "}\n",
              "\n",
              "        displayQuickchartButton(document);\n",
              "      </script>\n",
              "      <style>\n",
              "    .colab-df-container {\n",
              "      display:flex;\n",
              "      flex-wrap:wrap;\n",
              "      gap: 12px;\n",
              "    }\n",
              "\n",
              "    .colab-df-convert {\n",
              "      background-color: #E8F0FE;\n",
              "      border: none;\n",
              "      border-radius: 50%;\n",
              "      cursor: pointer;\n",
              "      display: none;\n",
              "      fill: #1967D2;\n",
              "      height: 32px;\n",
              "      padding: 0 0 0 0;\n",
              "      width: 32px;\n",
              "    }\n",
              "\n",
              "    .colab-df-convert:hover {\n",
              "      background-color: #E2EBFA;\n",
              "      box-shadow: 0px 1px 2px rgba(60, 64, 67, 0.3), 0px 1px 3px 1px rgba(60, 64, 67, 0.15);\n",
              "      fill: #174EA6;\n",
              "    }\n",
              "\n",
              "    [theme=dark] .colab-df-convert {\n",
              "      background-color: #3B4455;\n",
              "      fill: #D2E3FC;\n",
              "    }\n",
              "\n",
              "    [theme=dark] .colab-df-convert:hover {\n",
              "      background-color: #434B5C;\n",
              "      box-shadow: 0px 1px 3px 1px rgba(0, 0, 0, 0.15);\n",
              "      filter: drop-shadow(0px 1px 2px rgba(0, 0, 0, 0.3));\n",
              "      fill: #FFFFFF;\n",
              "    }\n",
              "  </style>\n",
              "\n",
              "      <script>\n",
              "        const buttonEl =\n",
              "          document.querySelector('#df-623bc32a-39fe-4141-ae56-8838d3cfc8a0 button.colab-df-convert');\n",
              "        buttonEl.style.display =\n",
              "          google.colab.kernel.accessAllowed ? 'block' : 'none';\n",
              "\n",
              "        async function convertToInteractive(key) {\n",
              "          const element = document.querySelector('#df-623bc32a-39fe-4141-ae56-8838d3cfc8a0');\n",
              "          const dataTable =\n",
              "            await google.colab.kernel.invokeFunction('convertToInteractive',\n",
              "                                                     [key], {});\n",
              "          if (!dataTable) return;\n",
              "\n",
              "          const docLinkHtml = 'Like what you see? Visit the ' +\n",
              "            '<a target=\"_blank\" href=https://colab.research.google.com/notebooks/data_table.ipynb>data table notebook</a>'\n",
              "            + ' to learn more about interactive tables.';\n",
              "          element.innerHTML = '';\n",
              "          dataTable['output_type'] = 'display_data';\n",
              "          await google.colab.output.renderOutput(dataTable, element);\n",
              "          const docLink = document.createElement('div');\n",
              "          docLink.innerHTML = docLinkHtml;\n",
              "          element.appendChild(docLink);\n",
              "        }\n",
              "      </script>\n",
              "    </div>\n",
              "  </div>\n"
            ]
          },
          "metadata": {},
          "execution_count": 153
        }
      ]
    },
    {
      "cell_type": "code",
      "source": [
        "data['PCR_EVOLUCAO'].info()"
      ],
      "metadata": {
        "colab": {
          "base_uri": "https://localhost:8080/"
        },
        "id": "z68sa1aUyPOI",
        "outputId": "cc896be9-74ff-49ca-dc44-624f0a3284e9"
      },
      "execution_count": null,
      "outputs": [
        {
          "output_type": "stream",
          "name": "stdout",
          "text": [
            "<class 'pandas.core.series.Series'>\n",
            "RangeIndex: 17432 entries, 0 to 17431\n",
            "Series name: PCR_EVOLUCAO\n",
            "Non-Null Count  Dtype  \n",
            "--------------  -----  \n",
            "15486 non-null  float64\n",
            "dtypes: float64(1)\n",
            "memory usage: 136.3 KB\n"
          ]
        }
      ]
    },
    {
      "cell_type": "code",
      "source": [
        "# Calcula a mediana de 'PCR_EVOLUCAO'\n",
        "data['PCR_EVOLUCAO'].median()"
      ],
      "metadata": {
        "colab": {
          "base_uri": "https://localhost:8080/"
        },
        "id": "HWxL9bOdyPLS",
        "outputId": "66e76810-20d6-4720-e429-b02247351370"
      },
      "execution_count": null,
      "outputs": [
        {
          "output_type": "execute_result",
          "data": {
            "text/plain": [
              "2.0"
            ]
          },
          "metadata": {},
          "execution_count": 155
        }
      ]
    },
    {
      "cell_type": "code",
      "source": [
        "# Conta os valores NaN em 'PCR_EVOLUCAO'\n",
        "data['PCR_EVOLUCAO'].isnull().sum()"
      ],
      "metadata": {
        "colab": {
          "base_uri": "https://localhost:8080/"
        },
        "id": "fHX3PeLcyPIc",
        "outputId": "dcecdfba-843b-4e10-a6e0-79f17c661362"
      },
      "execution_count": null,
      "outputs": [
        {
          "output_type": "execute_result",
          "data": {
            "text/plain": [
              "1946"
            ]
          },
          "metadata": {},
          "execution_count": 156
        }
      ]
    },
    {
      "cell_type": "code",
      "source": [
        "# Preenche valores NaN com a mediana\n",
        "data['PCR_EVOLUCAO'].fillna(data['PCR_EVOLUCAO'].median(), inplace=True)"
      ],
      "metadata": {
        "id": "FOqGSQE0yPCe"
      },
      "execution_count": null,
      "outputs": []
    },
    {
      "cell_type": "code",
      "source": [
        "# Converte o tipo de dados de float para int\n",
        "data['PCR_EVOLUCAO'] = data['PCR_EVOLUCAO'].astype(int)"
      ],
      "metadata": {
        "id": "TihvztPiyO_8"
      },
      "execution_count": null,
      "outputs": []
    },
    {
      "cell_type": "code",
      "source": [
        "data['PCR_EVOLUCAO'].info()"
      ],
      "metadata": {
        "colab": {
          "base_uri": "https://localhost:8080/"
        },
        "id": "Tc6jhGKhy65U",
        "outputId": "768c62ff-19ad-4042-f462-fb04331158f7"
      },
      "execution_count": null,
      "outputs": [
        {
          "output_type": "stream",
          "name": "stdout",
          "text": [
            "<class 'pandas.core.series.Series'>\n",
            "RangeIndex: 17432 entries, 0 to 17431\n",
            "Series name: PCR_EVOLUCAO\n",
            "Non-Null Count  Dtype\n",
            "--------------  -----\n",
            "17432 non-null  int64\n",
            "dtypes: int64(1)\n",
            "memory usage: 136.3 KB\n"
          ]
        }
      ]
    },
    {
      "cell_type": "markdown",
      "source": [
        "SEGUNDA DOSE\n",
        "\n",
        "Criação da coluna \"DIAS_DOSE2\" que calcula a quantidade de dias da data da segunda dose até a notificação."
      ],
      "metadata": {
        "id": "y2Il2TahUNy6"
      }
    },
    {
      "cell_type": "markdown",
      "source": [
        "*DOSE_2_COV com DT_NOTIFIC*"
      ],
      "metadata": {
        "id": "MfRtoGK1UNy_"
      }
    },
    {
      "cell_type": "code",
      "source": [
        "data['DIAS_DOSE2'] = ''"
      ],
      "metadata": {
        "id": "XoqavVsEy9jc"
      },
      "execution_count": null,
      "outputs": []
    },
    {
      "cell_type": "code",
      "source": [
        "# Calcula o intervalo de dias entre duas datas\n",
        "def vac_segunda_dose(row):\n",
        "  if row['VACINA_COV'] == 1:\n",
        "    if pd.isna(row['DOSE_2_COV']):\n",
        "      return np.nan\n",
        "    else:\n",
        "      data1 = datetime.strptime(row['DOSE_2_COV'], '%d/%m/%Y')\n",
        "      data2 = datetime.strptime(row['DT_NOTIFIC'], '%d/%m/%Y')\n",
        "      return abs((data2 - data1).days)\n",
        "  else:\n",
        "    return 0\n",
        "\n",
        "# Chama a função e atribui o resultado à coluna 'DIAS_DOSE2'\n",
        "data['DIAS_DOSE2'] = data.apply(vac_segunda_dose, axis=1)"
      ],
      "metadata": {
        "id": "-CA3sXyPy9nF"
      },
      "execution_count": null,
      "outputs": []
    },
    {
      "cell_type": "code",
      "source": [
        "data[['DOSE_1_COV','DOSE_2_COV', 'DT_NOTIFIC', 'DIAS_DOSE2']]"
      ],
      "metadata": {
        "colab": {
          "base_uri": "https://localhost:8080/"
        },
        "id": "DVevhHdgy9qZ",
        "outputId": "d14ce741-cdfc-4522-d72f-f63839ff7fdf"
      },
      "execution_count": null,
      "outputs": [
        {
          "output_type": "execute_result",
          "data": {
            "text/plain": [
              "       DOSE_1_COV  DOSE_2_COV  DT_NOTIFIC  DIAS_DOSE2\n",
              "0      17/08/2021  05/11/2021  05/01/2022        61.0\n",
              "1      27/03/2021  19/04/2021  07/01/2022       263.0\n",
              "2      10/06/2021  30/09/2021  10/01/2022       102.0\n",
              "3             NaN         NaN  19/01/2022         0.0\n",
              "4      24/06/2021  16/09/2021  10/01/2022       116.0\n",
              "...           ...         ...         ...         ...\n",
              "17427         NaN         NaN  29/06/2022         0.0\n",
              "17428  19/02/2021  16/03/2021  09/08/2022       511.0\n",
              "17429         NaN  16/03/2021  30/08/2022       532.0\n",
              "17430  23/03/2021  14/04/2021  10/11/2022       575.0\n",
              "17431  30/03/2021  27/04/2021  24/12/2022       606.0\n",
              "\n",
              "[17432 rows x 4 columns]"
            ],
            "text/html": [
              "\n",
              "\n",
              "  <div id=\"df-0969af7a-daff-41cc-8004-51c2fd3379a1\">\n",
              "    <div class=\"colab-df-container\">\n",
              "      <div>\n",
              "<style scoped>\n",
              "    .dataframe tbody tr th:only-of-type {\n",
              "        vertical-align: middle;\n",
              "    }\n",
              "\n",
              "    .dataframe tbody tr th {\n",
              "        vertical-align: top;\n",
              "    }\n",
              "\n",
              "    .dataframe thead th {\n",
              "        text-align: right;\n",
              "    }\n",
              "</style>\n",
              "<table border=\"1\" class=\"dataframe\">\n",
              "  <thead>\n",
              "    <tr style=\"text-align: right;\">\n",
              "      <th></th>\n",
              "      <th>DOSE_1_COV</th>\n",
              "      <th>DOSE_2_COV</th>\n",
              "      <th>DT_NOTIFIC</th>\n",
              "      <th>DIAS_DOSE2</th>\n",
              "    </tr>\n",
              "  </thead>\n",
              "  <tbody>\n",
              "    <tr>\n",
              "      <th>0</th>\n",
              "      <td>17/08/2021</td>\n",
              "      <td>05/11/2021</td>\n",
              "      <td>05/01/2022</td>\n",
              "      <td>61.0</td>\n",
              "    </tr>\n",
              "    <tr>\n",
              "      <th>1</th>\n",
              "      <td>27/03/2021</td>\n",
              "      <td>19/04/2021</td>\n",
              "      <td>07/01/2022</td>\n",
              "      <td>263.0</td>\n",
              "    </tr>\n",
              "    <tr>\n",
              "      <th>2</th>\n",
              "      <td>10/06/2021</td>\n",
              "      <td>30/09/2021</td>\n",
              "      <td>10/01/2022</td>\n",
              "      <td>102.0</td>\n",
              "    </tr>\n",
              "    <tr>\n",
              "      <th>3</th>\n",
              "      <td>NaN</td>\n",
              "      <td>NaN</td>\n",
              "      <td>19/01/2022</td>\n",
              "      <td>0.0</td>\n",
              "    </tr>\n",
              "    <tr>\n",
              "      <th>4</th>\n",
              "      <td>24/06/2021</td>\n",
              "      <td>16/09/2021</td>\n",
              "      <td>10/01/2022</td>\n",
              "      <td>116.0</td>\n",
              "    </tr>\n",
              "    <tr>\n",
              "      <th>...</th>\n",
              "      <td>...</td>\n",
              "      <td>...</td>\n",
              "      <td>...</td>\n",
              "      <td>...</td>\n",
              "    </tr>\n",
              "    <tr>\n",
              "      <th>17427</th>\n",
              "      <td>NaN</td>\n",
              "      <td>NaN</td>\n",
              "      <td>29/06/2022</td>\n",
              "      <td>0.0</td>\n",
              "    </tr>\n",
              "    <tr>\n",
              "      <th>17428</th>\n",
              "      <td>19/02/2021</td>\n",
              "      <td>16/03/2021</td>\n",
              "      <td>09/08/2022</td>\n",
              "      <td>511.0</td>\n",
              "    </tr>\n",
              "    <tr>\n",
              "      <th>17429</th>\n",
              "      <td>NaN</td>\n",
              "      <td>16/03/2021</td>\n",
              "      <td>30/08/2022</td>\n",
              "      <td>532.0</td>\n",
              "    </tr>\n",
              "    <tr>\n",
              "      <th>17430</th>\n",
              "      <td>23/03/2021</td>\n",
              "      <td>14/04/2021</td>\n",
              "      <td>10/11/2022</td>\n",
              "      <td>575.0</td>\n",
              "    </tr>\n",
              "    <tr>\n",
              "      <th>17431</th>\n",
              "      <td>30/03/2021</td>\n",
              "      <td>27/04/2021</td>\n",
              "      <td>24/12/2022</td>\n",
              "      <td>606.0</td>\n",
              "    </tr>\n",
              "  </tbody>\n",
              "</table>\n",
              "<p>17432 rows × 4 columns</p>\n",
              "</div>\n",
              "      <button class=\"colab-df-convert\" onclick=\"convertToInteractive('df-0969af7a-daff-41cc-8004-51c2fd3379a1')\"\n",
              "              title=\"Convert this dataframe to an interactive table.\"\n",
              "              style=\"display:none;\">\n",
              "\n",
              "  <svg xmlns=\"http://www.w3.org/2000/svg\" height=\"24px\"viewBox=\"0 0 24 24\"\n",
              "       width=\"24px\">\n",
              "    <path d=\"M0 0h24v24H0V0z\" fill=\"none\"/>\n",
              "    <path d=\"M18.56 5.44l.94 2.06.94-2.06 2.06-.94-2.06-.94-.94-2.06-.94 2.06-2.06.94zm-11 1L8.5 8.5l.94-2.06 2.06-.94-2.06-.94L8.5 2.5l-.94 2.06-2.06.94zm10 10l.94 2.06.94-2.06 2.06-.94-2.06-.94-.94-2.06-.94 2.06-2.06.94z\"/><path d=\"M17.41 7.96l-1.37-1.37c-.4-.4-.92-.59-1.43-.59-.52 0-1.04.2-1.43.59L10.3 9.45l-7.72 7.72c-.78.78-.78 2.05 0 2.83L4 21.41c.39.39.9.59 1.41.59.51 0 1.02-.2 1.41-.59l7.78-7.78 2.81-2.81c.8-.78.8-2.07 0-2.86zM5.41 20L4 18.59l7.72-7.72 1.47 1.35L5.41 20z\"/>\n",
              "  </svg>\n",
              "      </button>\n",
              "\n",
              "\n",
              "\n",
              "    <div id=\"df-be66ebe9-bb50-4b1b-9fce-e7b13c1dc417\">\n",
              "      <button class=\"colab-df-quickchart\" onclick=\"quickchart('df-be66ebe9-bb50-4b1b-9fce-e7b13c1dc417')\"\n",
              "              title=\"Suggest charts.\"\n",
              "              style=\"display:none;\">\n",
              "\n",
              "<svg xmlns=\"http://www.w3.org/2000/svg\" height=\"24px\"viewBox=\"0 0 24 24\"\n",
              "     width=\"24px\">\n",
              "    <g>\n",
              "        <path d=\"M19 3H5c-1.1 0-2 .9-2 2v14c0 1.1.9 2 2 2h14c1.1 0 2-.9 2-2V5c0-1.1-.9-2-2-2zM9 17H7v-7h2v7zm4 0h-2V7h2v10zm4 0h-2v-4h2v4z\"/>\n",
              "    </g>\n",
              "</svg>\n",
              "      </button>\n",
              "    </div>\n",
              "\n",
              "<style>\n",
              "  .colab-df-quickchart {\n",
              "    background-color: #E8F0FE;\n",
              "    border: none;\n",
              "    border-radius: 50%;\n",
              "    cursor: pointer;\n",
              "    display: none;\n",
              "    fill: #1967D2;\n",
              "    height: 32px;\n",
              "    padding: 0 0 0 0;\n",
              "    width: 32px;\n",
              "  }\n",
              "\n",
              "  .colab-df-quickchart:hover {\n",
              "    background-color: #E2EBFA;\n",
              "    box-shadow: 0px 1px 2px rgba(60, 64, 67, 0.3), 0px 1px 3px 1px rgba(60, 64, 67, 0.15);\n",
              "    fill: #174EA6;\n",
              "  }\n",
              "\n",
              "  [theme=dark] .colab-df-quickchart {\n",
              "    background-color: #3B4455;\n",
              "    fill: #D2E3FC;\n",
              "  }\n",
              "\n",
              "  [theme=dark] .colab-df-quickchart:hover {\n",
              "    background-color: #434B5C;\n",
              "    box-shadow: 0px 1px 3px 1px rgba(0, 0, 0, 0.15);\n",
              "    filter: drop-shadow(0px 1px 2px rgba(0, 0, 0, 0.3));\n",
              "    fill: #FFFFFF;\n",
              "  }\n",
              "</style>\n",
              "\n",
              "    <script>\n",
              "      async function quickchart(key) {\n",
              "        const containerElement = document.querySelector('#' + key);\n",
              "        const charts = await google.colab.kernel.invokeFunction(\n",
              "            'suggestCharts', [key], {});\n",
              "      }\n",
              "    </script>\n",
              "\n",
              "      <script>\n",
              "\n",
              "function displayQuickchartButton(domScope) {\n",
              "  let quickchartButtonEl =\n",
              "    domScope.querySelector('#df-be66ebe9-bb50-4b1b-9fce-e7b13c1dc417 button.colab-df-quickchart');\n",
              "  quickchartButtonEl.style.display =\n",
              "    google.colab.kernel.accessAllowed ? 'block' : 'none';\n",
              "}\n",
              "\n",
              "        displayQuickchartButton(document);\n",
              "      </script>\n",
              "      <style>\n",
              "    .colab-df-container {\n",
              "      display:flex;\n",
              "      flex-wrap:wrap;\n",
              "      gap: 12px;\n",
              "    }\n",
              "\n",
              "    .colab-df-convert {\n",
              "      background-color: #E8F0FE;\n",
              "      border: none;\n",
              "      border-radius: 50%;\n",
              "      cursor: pointer;\n",
              "      display: none;\n",
              "      fill: #1967D2;\n",
              "      height: 32px;\n",
              "      padding: 0 0 0 0;\n",
              "      width: 32px;\n",
              "    }\n",
              "\n",
              "    .colab-df-convert:hover {\n",
              "      background-color: #E2EBFA;\n",
              "      box-shadow: 0px 1px 2px rgba(60, 64, 67, 0.3), 0px 1px 3px 1px rgba(60, 64, 67, 0.15);\n",
              "      fill: #174EA6;\n",
              "    }\n",
              "\n",
              "    [theme=dark] .colab-df-convert {\n",
              "      background-color: #3B4455;\n",
              "      fill: #D2E3FC;\n",
              "    }\n",
              "\n",
              "    [theme=dark] .colab-df-convert:hover {\n",
              "      background-color: #434B5C;\n",
              "      box-shadow: 0px 1px 3px 1px rgba(0, 0, 0, 0.15);\n",
              "      filter: drop-shadow(0px 1px 2px rgba(0, 0, 0, 0.3));\n",
              "      fill: #FFFFFF;\n",
              "    }\n",
              "  </style>\n",
              "\n",
              "      <script>\n",
              "        const buttonEl =\n",
              "          document.querySelector('#df-0969af7a-daff-41cc-8004-51c2fd3379a1 button.colab-df-convert');\n",
              "        buttonEl.style.display =\n",
              "          google.colab.kernel.accessAllowed ? 'block' : 'none';\n",
              "\n",
              "        async function convertToInteractive(key) {\n",
              "          const element = document.querySelector('#df-0969af7a-daff-41cc-8004-51c2fd3379a1');\n",
              "          const dataTable =\n",
              "            await google.colab.kernel.invokeFunction('convertToInteractive',\n",
              "                                                     [key], {});\n",
              "          if (!dataTable) return;\n",
              "\n",
              "          const docLinkHtml = 'Like what you see? Visit the ' +\n",
              "            '<a target=\"_blank\" href=https://colab.research.google.com/notebooks/data_table.ipynb>data table notebook</a>'\n",
              "            + ' to learn more about interactive tables.';\n",
              "          element.innerHTML = '';\n",
              "          dataTable['output_type'] = 'display_data';\n",
              "          await google.colab.output.renderOutput(dataTable, element);\n",
              "          const docLink = document.createElement('div');\n",
              "          docLink.innerHTML = docLinkHtml;\n",
              "          element.appendChild(docLink);\n",
              "        }\n",
              "      </script>\n",
              "    </div>\n",
              "  </div>\n"
            ]
          },
          "metadata": {},
          "execution_count": 162
        }
      ]
    },
    {
      "cell_type": "code",
      "source": [
        "data['DIAS_DOSE2'].info()"
      ],
      "metadata": {
        "colab": {
          "base_uri": "https://localhost:8080/"
        },
        "id": "HfUrdM26y9tc",
        "outputId": "5c8bc32b-0992-47e9-92dc-016d3ac83a90"
      },
      "execution_count": null,
      "outputs": [
        {
          "output_type": "stream",
          "name": "stdout",
          "text": [
            "<class 'pandas.core.series.Series'>\n",
            "RangeIndex: 17432 entries, 0 to 17431\n",
            "Series name: DIAS_DOSE2\n",
            "Non-Null Count  Dtype  \n",
            "--------------  -----  \n",
            "16254 non-null  float64\n",
            "dtypes: float64(1)\n",
            "memory usage: 136.3 KB\n"
          ]
        }
      ]
    },
    {
      "cell_type": "code",
      "source": [
        "# Calcula a mediana\n",
        "data['DIAS_DOSE2'].median()"
      ],
      "metadata": {
        "colab": {
          "base_uri": "https://localhost:8080/"
        },
        "id": "tTLFAVgay9xA",
        "outputId": "285f1715-d69d-4959-ed20-47453fc99722"
      },
      "execution_count": null,
      "outputs": [
        {
          "output_type": "execute_result",
          "data": {
            "text/plain": [
              "280.0"
            ]
          },
          "metadata": {},
          "execution_count": 164
        }
      ]
    },
    {
      "cell_type": "code",
      "source": [
        "# Conta os valores NaN\n",
        "data['DIAS_DOSE2'].isnull().sum()"
      ],
      "metadata": {
        "colab": {
          "base_uri": "https://localhost:8080/"
        },
        "id": "Rmh3yB3Uy90U",
        "outputId": "171a90e6-049b-4a52-ee3f-98d5dfa37fae"
      },
      "execution_count": null,
      "outputs": [
        {
          "output_type": "execute_result",
          "data": {
            "text/plain": [
              "1178"
            ]
          },
          "metadata": {},
          "execution_count": 165
        }
      ]
    },
    {
      "cell_type": "code",
      "source": [
        "# Preenche valores NaN com a mediana\n",
        "data['DIAS_DOSE2'].fillna(data['DIAS_DOSE2'].median(), inplace=True)\n",
        "\n",
        "# Converte o tipo de dados de float para int\n",
        "data['DIAS_DOSE2'] = data['DIAS_DOSE2'].astype(int)"
      ],
      "metadata": {
        "id": "TOhjp547y93g"
      },
      "execution_count": null,
      "outputs": []
    },
    {
      "cell_type": "code",
      "source": [
        "data['DIAS_DOSE2'].info()"
      ],
      "metadata": {
        "colab": {
          "base_uri": "https://localhost:8080/"
        },
        "id": "Ll1Scjr1y97J",
        "outputId": "3fcdb848-250c-4fd5-b8e3-88c573477bf9"
      },
      "execution_count": null,
      "outputs": [
        {
          "output_type": "stream",
          "name": "stdout",
          "text": [
            "<class 'pandas.core.series.Series'>\n",
            "RangeIndex: 17432 entries, 0 to 17431\n",
            "Series name: DIAS_DOSE2\n",
            "Non-Null Count  Dtype\n",
            "--------------  -----\n",
            "17432 non-null  int64\n",
            "dtypes: int64(1)\n",
            "memory usage: 136.3 KB\n"
          ]
        }
      ]
    },
    {
      "cell_type": "markdown",
      "source": [
        "PRIMEIRA DOSE"
      ],
      "metadata": {
        "id": "Jys3bE1Xi-eS"
      }
    },
    {
      "cell_type": "code",
      "source": [
        "# Instância 17429\n",
        "data[['DOSE_1_COV','DOSE_2_COV', 'DT_NOTIFIC', 'DIAS_DOSE2']]"
      ],
      "metadata": {
        "colab": {
          "base_uri": "https://localhost:8080/"
        },
        "id": "OOZK6bWyy-Cp",
        "outputId": "0a95a760-20c9-462f-c87d-3f42075d6fe9"
      },
      "execution_count": null,
      "outputs": [
        {
          "output_type": "execute_result",
          "data": {
            "text/plain": [
              "       DOSE_1_COV  DOSE_2_COV  DT_NOTIFIC  DIAS_DOSE2\n",
              "0      17/08/2021  05/11/2021  05/01/2022          61\n",
              "1      27/03/2021  19/04/2021  07/01/2022         263\n",
              "2      10/06/2021  30/09/2021  10/01/2022         102\n",
              "3             NaN         NaN  19/01/2022           0\n",
              "4      24/06/2021  16/09/2021  10/01/2022         116\n",
              "...           ...         ...         ...         ...\n",
              "17427         NaN         NaN  29/06/2022           0\n",
              "17428  19/02/2021  16/03/2021  09/08/2022         511\n",
              "17429         NaN  16/03/2021  30/08/2022         532\n",
              "17430  23/03/2021  14/04/2021  10/11/2022         575\n",
              "17431  30/03/2021  27/04/2021  24/12/2022         606\n",
              "\n",
              "[17432 rows x 4 columns]"
            ],
            "text/html": [
              "\n",
              "\n",
              "  <div id=\"df-586dc3d2-2282-404e-96f8-c857abb14fa1\">\n",
              "    <div class=\"colab-df-container\">\n",
              "      <div>\n",
              "<style scoped>\n",
              "    .dataframe tbody tr th:only-of-type {\n",
              "        vertical-align: middle;\n",
              "    }\n",
              "\n",
              "    .dataframe tbody tr th {\n",
              "        vertical-align: top;\n",
              "    }\n",
              "\n",
              "    .dataframe thead th {\n",
              "        text-align: right;\n",
              "    }\n",
              "</style>\n",
              "<table border=\"1\" class=\"dataframe\">\n",
              "  <thead>\n",
              "    <tr style=\"text-align: right;\">\n",
              "      <th></th>\n",
              "      <th>DOSE_1_COV</th>\n",
              "      <th>DOSE_2_COV</th>\n",
              "      <th>DT_NOTIFIC</th>\n",
              "      <th>DIAS_DOSE2</th>\n",
              "    </tr>\n",
              "  </thead>\n",
              "  <tbody>\n",
              "    <tr>\n",
              "      <th>0</th>\n",
              "      <td>17/08/2021</td>\n",
              "      <td>05/11/2021</td>\n",
              "      <td>05/01/2022</td>\n",
              "      <td>61</td>\n",
              "    </tr>\n",
              "    <tr>\n",
              "      <th>1</th>\n",
              "      <td>27/03/2021</td>\n",
              "      <td>19/04/2021</td>\n",
              "      <td>07/01/2022</td>\n",
              "      <td>263</td>\n",
              "    </tr>\n",
              "    <tr>\n",
              "      <th>2</th>\n",
              "      <td>10/06/2021</td>\n",
              "      <td>30/09/2021</td>\n",
              "      <td>10/01/2022</td>\n",
              "      <td>102</td>\n",
              "    </tr>\n",
              "    <tr>\n",
              "      <th>3</th>\n",
              "      <td>NaN</td>\n",
              "      <td>NaN</td>\n",
              "      <td>19/01/2022</td>\n",
              "      <td>0</td>\n",
              "    </tr>\n",
              "    <tr>\n",
              "      <th>4</th>\n",
              "      <td>24/06/2021</td>\n",
              "      <td>16/09/2021</td>\n",
              "      <td>10/01/2022</td>\n",
              "      <td>116</td>\n",
              "    </tr>\n",
              "    <tr>\n",
              "      <th>...</th>\n",
              "      <td>...</td>\n",
              "      <td>...</td>\n",
              "      <td>...</td>\n",
              "      <td>...</td>\n",
              "    </tr>\n",
              "    <tr>\n",
              "      <th>17427</th>\n",
              "      <td>NaN</td>\n",
              "      <td>NaN</td>\n",
              "      <td>29/06/2022</td>\n",
              "      <td>0</td>\n",
              "    </tr>\n",
              "    <tr>\n",
              "      <th>17428</th>\n",
              "      <td>19/02/2021</td>\n",
              "      <td>16/03/2021</td>\n",
              "      <td>09/08/2022</td>\n",
              "      <td>511</td>\n",
              "    </tr>\n",
              "    <tr>\n",
              "      <th>17429</th>\n",
              "      <td>NaN</td>\n",
              "      <td>16/03/2021</td>\n",
              "      <td>30/08/2022</td>\n",
              "      <td>532</td>\n",
              "    </tr>\n",
              "    <tr>\n",
              "      <th>17430</th>\n",
              "      <td>23/03/2021</td>\n",
              "      <td>14/04/2021</td>\n",
              "      <td>10/11/2022</td>\n",
              "      <td>575</td>\n",
              "    </tr>\n",
              "    <tr>\n",
              "      <th>17431</th>\n",
              "      <td>30/03/2021</td>\n",
              "      <td>27/04/2021</td>\n",
              "      <td>24/12/2022</td>\n",
              "      <td>606</td>\n",
              "    </tr>\n",
              "  </tbody>\n",
              "</table>\n",
              "<p>17432 rows × 4 columns</p>\n",
              "</div>\n",
              "      <button class=\"colab-df-convert\" onclick=\"convertToInteractive('df-586dc3d2-2282-404e-96f8-c857abb14fa1')\"\n",
              "              title=\"Convert this dataframe to an interactive table.\"\n",
              "              style=\"display:none;\">\n",
              "\n",
              "  <svg xmlns=\"http://www.w3.org/2000/svg\" height=\"24px\"viewBox=\"0 0 24 24\"\n",
              "       width=\"24px\">\n",
              "    <path d=\"M0 0h24v24H0V0z\" fill=\"none\"/>\n",
              "    <path d=\"M18.56 5.44l.94 2.06.94-2.06 2.06-.94-2.06-.94-.94-2.06-.94 2.06-2.06.94zm-11 1L8.5 8.5l.94-2.06 2.06-.94-2.06-.94L8.5 2.5l-.94 2.06-2.06.94zm10 10l.94 2.06.94-2.06 2.06-.94-2.06-.94-.94-2.06-.94 2.06-2.06.94z\"/><path d=\"M17.41 7.96l-1.37-1.37c-.4-.4-.92-.59-1.43-.59-.52 0-1.04.2-1.43.59L10.3 9.45l-7.72 7.72c-.78.78-.78 2.05 0 2.83L4 21.41c.39.39.9.59 1.41.59.51 0 1.02-.2 1.41-.59l7.78-7.78 2.81-2.81c.8-.78.8-2.07 0-2.86zM5.41 20L4 18.59l7.72-7.72 1.47 1.35L5.41 20z\"/>\n",
              "  </svg>\n",
              "      </button>\n",
              "\n",
              "\n",
              "\n",
              "    <div id=\"df-b9e8dc62-5781-4e4f-86f5-5154f358c93a\">\n",
              "      <button class=\"colab-df-quickchart\" onclick=\"quickchart('df-b9e8dc62-5781-4e4f-86f5-5154f358c93a')\"\n",
              "              title=\"Suggest charts.\"\n",
              "              style=\"display:none;\">\n",
              "\n",
              "<svg xmlns=\"http://www.w3.org/2000/svg\" height=\"24px\"viewBox=\"0 0 24 24\"\n",
              "     width=\"24px\">\n",
              "    <g>\n",
              "        <path d=\"M19 3H5c-1.1 0-2 .9-2 2v14c0 1.1.9 2 2 2h14c1.1 0 2-.9 2-2V5c0-1.1-.9-2-2-2zM9 17H7v-7h2v7zm4 0h-2V7h2v10zm4 0h-2v-4h2v4z\"/>\n",
              "    </g>\n",
              "</svg>\n",
              "      </button>\n",
              "    </div>\n",
              "\n",
              "<style>\n",
              "  .colab-df-quickchart {\n",
              "    background-color: #E8F0FE;\n",
              "    border: none;\n",
              "    border-radius: 50%;\n",
              "    cursor: pointer;\n",
              "    display: none;\n",
              "    fill: #1967D2;\n",
              "    height: 32px;\n",
              "    padding: 0 0 0 0;\n",
              "    width: 32px;\n",
              "  }\n",
              "\n",
              "  .colab-df-quickchart:hover {\n",
              "    background-color: #E2EBFA;\n",
              "    box-shadow: 0px 1px 2px rgba(60, 64, 67, 0.3), 0px 1px 3px 1px rgba(60, 64, 67, 0.15);\n",
              "    fill: #174EA6;\n",
              "  }\n",
              "\n",
              "  [theme=dark] .colab-df-quickchart {\n",
              "    background-color: #3B4455;\n",
              "    fill: #D2E3FC;\n",
              "  }\n",
              "\n",
              "  [theme=dark] .colab-df-quickchart:hover {\n",
              "    background-color: #434B5C;\n",
              "    box-shadow: 0px 1px 3px 1px rgba(0, 0, 0, 0.15);\n",
              "    filter: drop-shadow(0px 1px 2px rgba(0, 0, 0, 0.3));\n",
              "    fill: #FFFFFF;\n",
              "  }\n",
              "</style>\n",
              "\n",
              "    <script>\n",
              "      async function quickchart(key) {\n",
              "        const containerElement = document.querySelector('#' + key);\n",
              "        const charts = await google.colab.kernel.invokeFunction(\n",
              "            'suggestCharts', [key], {});\n",
              "      }\n",
              "    </script>\n",
              "\n",
              "      <script>\n",
              "\n",
              "function displayQuickchartButton(domScope) {\n",
              "  let quickchartButtonEl =\n",
              "    domScope.querySelector('#df-b9e8dc62-5781-4e4f-86f5-5154f358c93a button.colab-df-quickchart');\n",
              "  quickchartButtonEl.style.display =\n",
              "    google.colab.kernel.accessAllowed ? 'block' : 'none';\n",
              "}\n",
              "\n",
              "        displayQuickchartButton(document);\n",
              "      </script>\n",
              "      <style>\n",
              "    .colab-df-container {\n",
              "      display:flex;\n",
              "      flex-wrap:wrap;\n",
              "      gap: 12px;\n",
              "    }\n",
              "\n",
              "    .colab-df-convert {\n",
              "      background-color: #E8F0FE;\n",
              "      border: none;\n",
              "      border-radius: 50%;\n",
              "      cursor: pointer;\n",
              "      display: none;\n",
              "      fill: #1967D2;\n",
              "      height: 32px;\n",
              "      padding: 0 0 0 0;\n",
              "      width: 32px;\n",
              "    }\n",
              "\n",
              "    .colab-df-convert:hover {\n",
              "      background-color: #E2EBFA;\n",
              "      box-shadow: 0px 1px 2px rgba(60, 64, 67, 0.3), 0px 1px 3px 1px rgba(60, 64, 67, 0.15);\n",
              "      fill: #174EA6;\n",
              "    }\n",
              "\n",
              "    [theme=dark] .colab-df-convert {\n",
              "      background-color: #3B4455;\n",
              "      fill: #D2E3FC;\n",
              "    }\n",
              "\n",
              "    [theme=dark] .colab-df-convert:hover {\n",
              "      background-color: #434B5C;\n",
              "      box-shadow: 0px 1px 3px 1px rgba(0, 0, 0, 0.15);\n",
              "      filter: drop-shadow(0px 1px 2px rgba(0, 0, 0, 0.3));\n",
              "      fill: #FFFFFF;\n",
              "    }\n",
              "  </style>\n",
              "\n",
              "      <script>\n",
              "        const buttonEl =\n",
              "          document.querySelector('#df-586dc3d2-2282-404e-96f8-c857abb14fa1 button.colab-df-convert');\n",
              "        buttonEl.style.display =\n",
              "          google.colab.kernel.accessAllowed ? 'block' : 'none';\n",
              "\n",
              "        async function convertToInteractive(key) {\n",
              "          const element = document.querySelector('#df-586dc3d2-2282-404e-96f8-c857abb14fa1');\n",
              "          const dataTable =\n",
              "            await google.colab.kernel.invokeFunction('convertToInteractive',\n",
              "                                                     [key], {});\n",
              "          if (!dataTable) return;\n",
              "\n",
              "          const docLinkHtml = 'Like what you see? Visit the ' +\n",
              "            '<a target=\"_blank\" href=https://colab.research.google.com/notebooks/data_table.ipynb>data table notebook</a>'\n",
              "            + ' to learn more about interactive tables.';\n",
              "          element.innerHTML = '';\n",
              "          dataTable['output_type'] = 'display_data';\n",
              "          await google.colab.output.renderOutput(dataTable, element);\n",
              "          const docLink = document.createElement('div');\n",
              "          docLink.innerHTML = docLinkHtml;\n",
              "          element.appendChild(docLink);\n",
              "        }\n",
              "      </script>\n",
              "    </div>\n",
              "  </div>\n"
            ]
          },
          "metadata": {},
          "execution_count": 168
        }
      ]
    },
    {
      "cell_type": "markdown",
      "source": [
        "Preenchimento dos dados\n",
        "\n",
        "O simples preenchimento com a moda deixará alguns dados incoerentes, pois existem instâncias que possuem NaN no valor da data da primeira dose e possui a data da segunda dose. Com isso, pode ocorrer instâncias onde os dias da segunda dose serem mais distantes que os dias da primeira dose, causando incoerência.\n",
        "\n",
        "Dessa forma, uma nova coluna será criada para extrair a moda da diferença dos dias entre a segunda e a primeira dose."
      ],
      "metadata": {
        "id": "qAYmv5M4zyS4"
      }
    },
    {
      "cell_type": "code",
      "source": [
        "# Criação de uma coluna par armazenar a quantidade de dias entre a primeira e segunda dose\n",
        "data['INTERVALO_VACINAS'] = ''"
      ],
      "metadata": {
        "id": "gQ2ESYXny-H_"
      },
      "execution_count": null,
      "outputs": []
    },
    {
      "cell_type": "code",
      "source": [
        "# Calcula o intervalo entre vacinas\n",
        "def calc_interval_vac(row):\n",
        "  if pd.isna(row['DOSE_2_COV']) or pd.isna(row['DOSE_1_COV']):\n",
        "    return np.nan\n",
        "  else:\n",
        "    data1 = datetime.strptime(row['DOSE_2_COV'], '%d/%m/%Y')\n",
        "    data2 = datetime.strptime(row['DOSE_1_COV'], '%d/%m/%Y')\n",
        "    return abs((data2 - data1).days)\n",
        "\n",
        "# Chama a função e atribui o resultado à coluna 'INTERVALO_VACINAS'\n",
        "data['INTERVALO_VACINAS'] = data.apply(calc_interval_vac, axis=1)"
      ],
      "metadata": {
        "id": "mSoNPehyy-K1"
      },
      "execution_count": null,
      "outputs": []
    },
    {
      "cell_type": "code",
      "source": [
        "data[['DOSE_1_COV','DOSE_2_COV', 'INTERVALO_VACINAS']]"
      ],
      "metadata": {
        "colab": {
          "base_uri": "https://localhost:8080/"
        },
        "id": "BCnoqRo8y-OJ",
        "outputId": "dbd47726-a98d-4541-d72d-34ff68619d59"
      },
      "execution_count": null,
      "outputs": [
        {
          "output_type": "execute_result",
          "data": {
            "text/plain": [
              "       DOSE_1_COV  DOSE_2_COV  INTERVALO_VACINAS\n",
              "0      17/08/2021  05/11/2021               80.0\n",
              "1      27/03/2021  19/04/2021               23.0\n",
              "2      10/06/2021  30/09/2021              112.0\n",
              "3             NaN         NaN                NaN\n",
              "4      24/06/2021  16/09/2021               84.0\n",
              "...           ...         ...                ...\n",
              "17427         NaN         NaN                NaN\n",
              "17428  19/02/2021  16/03/2021               25.0\n",
              "17429         NaN  16/03/2021                NaN\n",
              "17430  23/03/2021  14/04/2021               22.0\n",
              "17431  30/03/2021  27/04/2021               28.0\n",
              "\n",
              "[17432 rows x 3 columns]"
            ],
            "text/html": [
              "\n",
              "\n",
              "  <div id=\"df-cf6c9023-6041-4a1a-a2f9-a286e726616f\">\n",
              "    <div class=\"colab-df-container\">\n",
              "      <div>\n",
              "<style scoped>\n",
              "    .dataframe tbody tr th:only-of-type {\n",
              "        vertical-align: middle;\n",
              "    }\n",
              "\n",
              "    .dataframe tbody tr th {\n",
              "        vertical-align: top;\n",
              "    }\n",
              "\n",
              "    .dataframe thead th {\n",
              "        text-align: right;\n",
              "    }\n",
              "</style>\n",
              "<table border=\"1\" class=\"dataframe\">\n",
              "  <thead>\n",
              "    <tr style=\"text-align: right;\">\n",
              "      <th></th>\n",
              "      <th>DOSE_1_COV</th>\n",
              "      <th>DOSE_2_COV</th>\n",
              "      <th>INTERVALO_VACINAS</th>\n",
              "    </tr>\n",
              "  </thead>\n",
              "  <tbody>\n",
              "    <tr>\n",
              "      <th>0</th>\n",
              "      <td>17/08/2021</td>\n",
              "      <td>05/11/2021</td>\n",
              "      <td>80.0</td>\n",
              "    </tr>\n",
              "    <tr>\n",
              "      <th>1</th>\n",
              "      <td>27/03/2021</td>\n",
              "      <td>19/04/2021</td>\n",
              "      <td>23.0</td>\n",
              "    </tr>\n",
              "    <tr>\n",
              "      <th>2</th>\n",
              "      <td>10/06/2021</td>\n",
              "      <td>30/09/2021</td>\n",
              "      <td>112.0</td>\n",
              "    </tr>\n",
              "    <tr>\n",
              "      <th>3</th>\n",
              "      <td>NaN</td>\n",
              "      <td>NaN</td>\n",
              "      <td>NaN</td>\n",
              "    </tr>\n",
              "    <tr>\n",
              "      <th>4</th>\n",
              "      <td>24/06/2021</td>\n",
              "      <td>16/09/2021</td>\n",
              "      <td>84.0</td>\n",
              "    </tr>\n",
              "    <tr>\n",
              "      <th>...</th>\n",
              "      <td>...</td>\n",
              "      <td>...</td>\n",
              "      <td>...</td>\n",
              "    </tr>\n",
              "    <tr>\n",
              "      <th>17427</th>\n",
              "      <td>NaN</td>\n",
              "      <td>NaN</td>\n",
              "      <td>NaN</td>\n",
              "    </tr>\n",
              "    <tr>\n",
              "      <th>17428</th>\n",
              "      <td>19/02/2021</td>\n",
              "      <td>16/03/2021</td>\n",
              "      <td>25.0</td>\n",
              "    </tr>\n",
              "    <tr>\n",
              "      <th>17429</th>\n",
              "      <td>NaN</td>\n",
              "      <td>16/03/2021</td>\n",
              "      <td>NaN</td>\n",
              "    </tr>\n",
              "    <tr>\n",
              "      <th>17430</th>\n",
              "      <td>23/03/2021</td>\n",
              "      <td>14/04/2021</td>\n",
              "      <td>22.0</td>\n",
              "    </tr>\n",
              "    <tr>\n",
              "      <th>17431</th>\n",
              "      <td>30/03/2021</td>\n",
              "      <td>27/04/2021</td>\n",
              "      <td>28.0</td>\n",
              "    </tr>\n",
              "  </tbody>\n",
              "</table>\n",
              "<p>17432 rows × 3 columns</p>\n",
              "</div>\n",
              "      <button class=\"colab-df-convert\" onclick=\"convertToInteractive('df-cf6c9023-6041-4a1a-a2f9-a286e726616f')\"\n",
              "              title=\"Convert this dataframe to an interactive table.\"\n",
              "              style=\"display:none;\">\n",
              "\n",
              "  <svg xmlns=\"http://www.w3.org/2000/svg\" height=\"24px\"viewBox=\"0 0 24 24\"\n",
              "       width=\"24px\">\n",
              "    <path d=\"M0 0h24v24H0V0z\" fill=\"none\"/>\n",
              "    <path d=\"M18.56 5.44l.94 2.06.94-2.06 2.06-.94-2.06-.94-.94-2.06-.94 2.06-2.06.94zm-11 1L8.5 8.5l.94-2.06 2.06-.94-2.06-.94L8.5 2.5l-.94 2.06-2.06.94zm10 10l.94 2.06.94-2.06 2.06-.94-2.06-.94-.94-2.06-.94 2.06-2.06.94z\"/><path d=\"M17.41 7.96l-1.37-1.37c-.4-.4-.92-.59-1.43-.59-.52 0-1.04.2-1.43.59L10.3 9.45l-7.72 7.72c-.78.78-.78 2.05 0 2.83L4 21.41c.39.39.9.59 1.41.59.51 0 1.02-.2 1.41-.59l7.78-7.78 2.81-2.81c.8-.78.8-2.07 0-2.86zM5.41 20L4 18.59l7.72-7.72 1.47 1.35L5.41 20z\"/>\n",
              "  </svg>\n",
              "      </button>\n",
              "\n",
              "\n",
              "\n",
              "    <div id=\"df-8738012f-e5e2-4969-91e6-15aacf175edc\">\n",
              "      <button class=\"colab-df-quickchart\" onclick=\"quickchart('df-8738012f-e5e2-4969-91e6-15aacf175edc')\"\n",
              "              title=\"Suggest charts.\"\n",
              "              style=\"display:none;\">\n",
              "\n",
              "<svg xmlns=\"http://www.w3.org/2000/svg\" height=\"24px\"viewBox=\"0 0 24 24\"\n",
              "     width=\"24px\">\n",
              "    <g>\n",
              "        <path d=\"M19 3H5c-1.1 0-2 .9-2 2v14c0 1.1.9 2 2 2h14c1.1 0 2-.9 2-2V5c0-1.1-.9-2-2-2zM9 17H7v-7h2v7zm4 0h-2V7h2v10zm4 0h-2v-4h2v4z\"/>\n",
              "    </g>\n",
              "</svg>\n",
              "      </button>\n",
              "    </div>\n",
              "\n",
              "<style>\n",
              "  .colab-df-quickchart {\n",
              "    background-color: #E8F0FE;\n",
              "    border: none;\n",
              "    border-radius: 50%;\n",
              "    cursor: pointer;\n",
              "    display: none;\n",
              "    fill: #1967D2;\n",
              "    height: 32px;\n",
              "    padding: 0 0 0 0;\n",
              "    width: 32px;\n",
              "  }\n",
              "\n",
              "  .colab-df-quickchart:hover {\n",
              "    background-color: #E2EBFA;\n",
              "    box-shadow: 0px 1px 2px rgba(60, 64, 67, 0.3), 0px 1px 3px 1px rgba(60, 64, 67, 0.15);\n",
              "    fill: #174EA6;\n",
              "  }\n",
              "\n",
              "  [theme=dark] .colab-df-quickchart {\n",
              "    background-color: #3B4455;\n",
              "    fill: #D2E3FC;\n",
              "  }\n",
              "\n",
              "  [theme=dark] .colab-df-quickchart:hover {\n",
              "    background-color: #434B5C;\n",
              "    box-shadow: 0px 1px 3px 1px rgba(0, 0, 0, 0.15);\n",
              "    filter: drop-shadow(0px 1px 2px rgba(0, 0, 0, 0.3));\n",
              "    fill: #FFFFFF;\n",
              "  }\n",
              "</style>\n",
              "\n",
              "    <script>\n",
              "      async function quickchart(key) {\n",
              "        const containerElement = document.querySelector('#' + key);\n",
              "        const charts = await google.colab.kernel.invokeFunction(\n",
              "            'suggestCharts', [key], {});\n",
              "      }\n",
              "    </script>\n",
              "\n",
              "      <script>\n",
              "\n",
              "function displayQuickchartButton(domScope) {\n",
              "  let quickchartButtonEl =\n",
              "    domScope.querySelector('#df-8738012f-e5e2-4969-91e6-15aacf175edc button.colab-df-quickchart');\n",
              "  quickchartButtonEl.style.display =\n",
              "    google.colab.kernel.accessAllowed ? 'block' : 'none';\n",
              "}\n",
              "\n",
              "        displayQuickchartButton(document);\n",
              "      </script>\n",
              "      <style>\n",
              "    .colab-df-container {\n",
              "      display:flex;\n",
              "      flex-wrap:wrap;\n",
              "      gap: 12px;\n",
              "    }\n",
              "\n",
              "    .colab-df-convert {\n",
              "      background-color: #E8F0FE;\n",
              "      border: none;\n",
              "      border-radius: 50%;\n",
              "      cursor: pointer;\n",
              "      display: none;\n",
              "      fill: #1967D2;\n",
              "      height: 32px;\n",
              "      padding: 0 0 0 0;\n",
              "      width: 32px;\n",
              "    }\n",
              "\n",
              "    .colab-df-convert:hover {\n",
              "      background-color: #E2EBFA;\n",
              "      box-shadow: 0px 1px 2px rgba(60, 64, 67, 0.3), 0px 1px 3px 1px rgba(60, 64, 67, 0.15);\n",
              "      fill: #174EA6;\n",
              "    }\n",
              "\n",
              "    [theme=dark] .colab-df-convert {\n",
              "      background-color: #3B4455;\n",
              "      fill: #D2E3FC;\n",
              "    }\n",
              "\n",
              "    [theme=dark] .colab-df-convert:hover {\n",
              "      background-color: #434B5C;\n",
              "      box-shadow: 0px 1px 3px 1px rgba(0, 0, 0, 0.15);\n",
              "      filter: drop-shadow(0px 1px 2px rgba(0, 0, 0, 0.3));\n",
              "      fill: #FFFFFF;\n",
              "    }\n",
              "  </style>\n",
              "\n",
              "      <script>\n",
              "        const buttonEl =\n",
              "          document.querySelector('#df-cf6c9023-6041-4a1a-a2f9-a286e726616f button.colab-df-convert');\n",
              "        buttonEl.style.display =\n",
              "          google.colab.kernel.accessAllowed ? 'block' : 'none';\n",
              "\n",
              "        async function convertToInteractive(key) {\n",
              "          const element = document.querySelector('#df-cf6c9023-6041-4a1a-a2f9-a286e726616f');\n",
              "          const dataTable =\n",
              "            await google.colab.kernel.invokeFunction('convertToInteractive',\n",
              "                                                     [key], {});\n",
              "          if (!dataTable) return;\n",
              "\n",
              "          const docLinkHtml = 'Like what you see? Visit the ' +\n",
              "            '<a target=\"_blank\" href=https://colab.research.google.com/notebooks/data_table.ipynb>data table notebook</a>'\n",
              "            + ' to learn more about interactive tables.';\n",
              "          element.innerHTML = '';\n",
              "          dataTable['output_type'] = 'display_data';\n",
              "          await google.colab.output.renderOutput(dataTable, element);\n",
              "          const docLink = document.createElement('div');\n",
              "          docLink.innerHTML = docLinkHtml;\n",
              "          element.appendChild(docLink);\n",
              "        }\n",
              "      </script>\n",
              "    </div>\n",
              "  </div>\n"
            ]
          },
          "metadata": {},
          "execution_count": 171
        }
      ]
    },
    {
      "cell_type": "code",
      "source": [
        "# Calcula mediana\n",
        "mediana_intervalo = data['INTERVALO_VACINAS'].median()\n",
        "mediana_intervalo"
      ],
      "metadata": {
        "colab": {
          "base_uri": "https://localhost:8080/"
        },
        "id": "3s6idcBJy-RJ",
        "outputId": "0dc11ca4-4e81-48f5-a7d7-6e3e0500b191"
      },
      "execution_count": null,
      "outputs": [
        {
          "output_type": "execute_result",
          "data": {
            "text/plain": [
              "40.0"
            ]
          },
          "metadata": {},
          "execution_count": 172
        }
      ]
    },
    {
      "cell_type": "code",
      "source": [
        "# Remove coluna\n",
        "data.drop(['INTERVALO_VACINAS'], axis=1, inplace=True)"
      ],
      "metadata": {
        "id": "N-OktibIy-UT"
      },
      "execution_count": null,
      "outputs": []
    },
    {
      "cell_type": "code",
      "source": [
        "# Armazena a quantidade de dias da primeira dose até a notificação\n",
        "data['DIAS_DOSE1'] = ''"
      ],
      "metadata": {
        "id": "pFyDfQZ1y-Xo"
      },
      "execution_count": null,
      "outputs": []
    },
    {
      "cell_type": "code",
      "source": [
        "# Calcula a quantidade de dias da primeira dose até a notificação\n",
        "def calc_dias_vac(row):\n",
        "  if row['VACINA_COV'] != 1:\n",
        "    return 0\n",
        "\n",
        "  if pd.isna(row['DOSE_1_COV']) and pd.isna(row['DOSE_2_COV']):\n",
        "    return np.nan\n",
        "\n",
        "  if pd.isna(row['DOSE_1_COV']):\n",
        "    dataDose2 = datetime.strptime(row['DOSE_2_COV'], '%d/%m/%Y')\n",
        "    data1 = dataDose2 - timedelta(days=mediana_intervalo)\n",
        "  else:\n",
        "    data1 = datetime.strptime(row['DOSE_1_COV'], '%d/%m/%Y')\n",
        "\n",
        "  data2 = datetime.strptime(row['DT_NOTIFIC'], '%d/%m/%Y')\n",
        "  return abs((data2 - data1).days)\n",
        "\n",
        "# Chama a função e atribui o resultado à coluna 'DIAS_DOSE1'\n",
        "data['DIAS_DOSE1'] = data.apply(calc_dias_vac, axis=1)"
      ],
      "metadata": {
        "id": "pq9gybRAy-an"
      },
      "execution_count": null,
      "outputs": []
    },
    {
      "cell_type": "code",
      "source": [
        "data[['DOSE_1_COV','DOSE_2_COV', 'DT_NOTIFIC', 'DIAS_DOSE1', 'DIAS_DOSE2']]"
      ],
      "metadata": {
        "colab": {
          "base_uri": "https://localhost:8080/"
        },
        "id": "k54PBFRky-dx",
        "outputId": "f84c59ca-dc4a-40ea-ba6c-87feac8e2ca2"
      },
      "execution_count": null,
      "outputs": [
        {
          "output_type": "execute_result",
          "data": {
            "text/plain": [
              "       DOSE_1_COV  DOSE_2_COV  DT_NOTIFIC  DIAS_DOSE1  DIAS_DOSE2\n",
              "0      17/08/2021  05/11/2021  05/01/2022       141.0          61\n",
              "1      27/03/2021  19/04/2021  07/01/2022       286.0         263\n",
              "2      10/06/2021  30/09/2021  10/01/2022       214.0         102\n",
              "3             NaN         NaN  19/01/2022         0.0           0\n",
              "4      24/06/2021  16/09/2021  10/01/2022       200.0         116\n",
              "...           ...         ...         ...         ...         ...\n",
              "17427         NaN         NaN  29/06/2022         0.0           0\n",
              "17428  19/02/2021  16/03/2021  09/08/2022       536.0         511\n",
              "17429         NaN  16/03/2021  30/08/2022       572.0         532\n",
              "17430  23/03/2021  14/04/2021  10/11/2022       597.0         575\n",
              "17431  30/03/2021  27/04/2021  24/12/2022       634.0         606\n",
              "\n",
              "[17432 rows x 5 columns]"
            ],
            "text/html": [
              "\n",
              "\n",
              "  <div id=\"df-bdb09140-1a05-48b5-87a6-4732b675933b\">\n",
              "    <div class=\"colab-df-container\">\n",
              "      <div>\n",
              "<style scoped>\n",
              "    .dataframe tbody tr th:only-of-type {\n",
              "        vertical-align: middle;\n",
              "    }\n",
              "\n",
              "    .dataframe tbody tr th {\n",
              "        vertical-align: top;\n",
              "    }\n",
              "\n",
              "    .dataframe thead th {\n",
              "        text-align: right;\n",
              "    }\n",
              "</style>\n",
              "<table border=\"1\" class=\"dataframe\">\n",
              "  <thead>\n",
              "    <tr style=\"text-align: right;\">\n",
              "      <th></th>\n",
              "      <th>DOSE_1_COV</th>\n",
              "      <th>DOSE_2_COV</th>\n",
              "      <th>DT_NOTIFIC</th>\n",
              "      <th>DIAS_DOSE1</th>\n",
              "      <th>DIAS_DOSE2</th>\n",
              "    </tr>\n",
              "  </thead>\n",
              "  <tbody>\n",
              "    <tr>\n",
              "      <th>0</th>\n",
              "      <td>17/08/2021</td>\n",
              "      <td>05/11/2021</td>\n",
              "      <td>05/01/2022</td>\n",
              "      <td>141.0</td>\n",
              "      <td>61</td>\n",
              "    </tr>\n",
              "    <tr>\n",
              "      <th>1</th>\n",
              "      <td>27/03/2021</td>\n",
              "      <td>19/04/2021</td>\n",
              "      <td>07/01/2022</td>\n",
              "      <td>286.0</td>\n",
              "      <td>263</td>\n",
              "    </tr>\n",
              "    <tr>\n",
              "      <th>2</th>\n",
              "      <td>10/06/2021</td>\n",
              "      <td>30/09/2021</td>\n",
              "      <td>10/01/2022</td>\n",
              "      <td>214.0</td>\n",
              "      <td>102</td>\n",
              "    </tr>\n",
              "    <tr>\n",
              "      <th>3</th>\n",
              "      <td>NaN</td>\n",
              "      <td>NaN</td>\n",
              "      <td>19/01/2022</td>\n",
              "      <td>0.0</td>\n",
              "      <td>0</td>\n",
              "    </tr>\n",
              "    <tr>\n",
              "      <th>4</th>\n",
              "      <td>24/06/2021</td>\n",
              "      <td>16/09/2021</td>\n",
              "      <td>10/01/2022</td>\n",
              "      <td>200.0</td>\n",
              "      <td>116</td>\n",
              "    </tr>\n",
              "    <tr>\n",
              "      <th>...</th>\n",
              "      <td>...</td>\n",
              "      <td>...</td>\n",
              "      <td>...</td>\n",
              "      <td>...</td>\n",
              "      <td>...</td>\n",
              "    </tr>\n",
              "    <tr>\n",
              "      <th>17427</th>\n",
              "      <td>NaN</td>\n",
              "      <td>NaN</td>\n",
              "      <td>29/06/2022</td>\n",
              "      <td>0.0</td>\n",
              "      <td>0</td>\n",
              "    </tr>\n",
              "    <tr>\n",
              "      <th>17428</th>\n",
              "      <td>19/02/2021</td>\n",
              "      <td>16/03/2021</td>\n",
              "      <td>09/08/2022</td>\n",
              "      <td>536.0</td>\n",
              "      <td>511</td>\n",
              "    </tr>\n",
              "    <tr>\n",
              "      <th>17429</th>\n",
              "      <td>NaN</td>\n",
              "      <td>16/03/2021</td>\n",
              "      <td>30/08/2022</td>\n",
              "      <td>572.0</td>\n",
              "      <td>532</td>\n",
              "    </tr>\n",
              "    <tr>\n",
              "      <th>17430</th>\n",
              "      <td>23/03/2021</td>\n",
              "      <td>14/04/2021</td>\n",
              "      <td>10/11/2022</td>\n",
              "      <td>597.0</td>\n",
              "      <td>575</td>\n",
              "    </tr>\n",
              "    <tr>\n",
              "      <th>17431</th>\n",
              "      <td>30/03/2021</td>\n",
              "      <td>27/04/2021</td>\n",
              "      <td>24/12/2022</td>\n",
              "      <td>634.0</td>\n",
              "      <td>606</td>\n",
              "    </tr>\n",
              "  </tbody>\n",
              "</table>\n",
              "<p>17432 rows × 5 columns</p>\n",
              "</div>\n",
              "      <button class=\"colab-df-convert\" onclick=\"convertToInteractive('df-bdb09140-1a05-48b5-87a6-4732b675933b')\"\n",
              "              title=\"Convert this dataframe to an interactive table.\"\n",
              "              style=\"display:none;\">\n",
              "\n",
              "  <svg xmlns=\"http://www.w3.org/2000/svg\" height=\"24px\"viewBox=\"0 0 24 24\"\n",
              "       width=\"24px\">\n",
              "    <path d=\"M0 0h24v24H0V0z\" fill=\"none\"/>\n",
              "    <path d=\"M18.56 5.44l.94 2.06.94-2.06 2.06-.94-2.06-.94-.94-2.06-.94 2.06-2.06.94zm-11 1L8.5 8.5l.94-2.06 2.06-.94-2.06-.94L8.5 2.5l-.94 2.06-2.06.94zm10 10l.94 2.06.94-2.06 2.06-.94-2.06-.94-.94-2.06-.94 2.06-2.06.94z\"/><path d=\"M17.41 7.96l-1.37-1.37c-.4-.4-.92-.59-1.43-.59-.52 0-1.04.2-1.43.59L10.3 9.45l-7.72 7.72c-.78.78-.78 2.05 0 2.83L4 21.41c.39.39.9.59 1.41.59.51 0 1.02-.2 1.41-.59l7.78-7.78 2.81-2.81c.8-.78.8-2.07 0-2.86zM5.41 20L4 18.59l7.72-7.72 1.47 1.35L5.41 20z\"/>\n",
              "  </svg>\n",
              "      </button>\n",
              "\n",
              "\n",
              "\n",
              "    <div id=\"df-f889be31-5e59-4ce0-84c0-ca0474b7ba48\">\n",
              "      <button class=\"colab-df-quickchart\" onclick=\"quickchart('df-f889be31-5e59-4ce0-84c0-ca0474b7ba48')\"\n",
              "              title=\"Suggest charts.\"\n",
              "              style=\"display:none;\">\n",
              "\n",
              "<svg xmlns=\"http://www.w3.org/2000/svg\" height=\"24px\"viewBox=\"0 0 24 24\"\n",
              "     width=\"24px\">\n",
              "    <g>\n",
              "        <path d=\"M19 3H5c-1.1 0-2 .9-2 2v14c0 1.1.9 2 2 2h14c1.1 0 2-.9 2-2V5c0-1.1-.9-2-2-2zM9 17H7v-7h2v7zm4 0h-2V7h2v10zm4 0h-2v-4h2v4z\"/>\n",
              "    </g>\n",
              "</svg>\n",
              "      </button>\n",
              "    </div>\n",
              "\n",
              "<style>\n",
              "  .colab-df-quickchart {\n",
              "    background-color: #E8F0FE;\n",
              "    border: none;\n",
              "    border-radius: 50%;\n",
              "    cursor: pointer;\n",
              "    display: none;\n",
              "    fill: #1967D2;\n",
              "    height: 32px;\n",
              "    padding: 0 0 0 0;\n",
              "    width: 32px;\n",
              "  }\n",
              "\n",
              "  .colab-df-quickchart:hover {\n",
              "    background-color: #E2EBFA;\n",
              "    box-shadow: 0px 1px 2px rgba(60, 64, 67, 0.3), 0px 1px 3px 1px rgba(60, 64, 67, 0.15);\n",
              "    fill: #174EA6;\n",
              "  }\n",
              "\n",
              "  [theme=dark] .colab-df-quickchart {\n",
              "    background-color: #3B4455;\n",
              "    fill: #D2E3FC;\n",
              "  }\n",
              "\n",
              "  [theme=dark] .colab-df-quickchart:hover {\n",
              "    background-color: #434B5C;\n",
              "    box-shadow: 0px 1px 3px 1px rgba(0, 0, 0, 0.15);\n",
              "    filter: drop-shadow(0px 1px 2px rgba(0, 0, 0, 0.3));\n",
              "    fill: #FFFFFF;\n",
              "  }\n",
              "</style>\n",
              "\n",
              "    <script>\n",
              "      async function quickchart(key) {\n",
              "        const containerElement = document.querySelector('#' + key);\n",
              "        const charts = await google.colab.kernel.invokeFunction(\n",
              "            'suggestCharts', [key], {});\n",
              "      }\n",
              "    </script>\n",
              "\n",
              "      <script>\n",
              "\n",
              "function displayQuickchartButton(domScope) {\n",
              "  let quickchartButtonEl =\n",
              "    domScope.querySelector('#df-f889be31-5e59-4ce0-84c0-ca0474b7ba48 button.colab-df-quickchart');\n",
              "  quickchartButtonEl.style.display =\n",
              "    google.colab.kernel.accessAllowed ? 'block' : 'none';\n",
              "}\n",
              "\n",
              "        displayQuickchartButton(document);\n",
              "      </script>\n",
              "      <style>\n",
              "    .colab-df-container {\n",
              "      display:flex;\n",
              "      flex-wrap:wrap;\n",
              "      gap: 12px;\n",
              "    }\n",
              "\n",
              "    .colab-df-convert {\n",
              "      background-color: #E8F0FE;\n",
              "      border: none;\n",
              "      border-radius: 50%;\n",
              "      cursor: pointer;\n",
              "      display: none;\n",
              "      fill: #1967D2;\n",
              "      height: 32px;\n",
              "      padding: 0 0 0 0;\n",
              "      width: 32px;\n",
              "    }\n",
              "\n",
              "    .colab-df-convert:hover {\n",
              "      background-color: #E2EBFA;\n",
              "      box-shadow: 0px 1px 2px rgba(60, 64, 67, 0.3), 0px 1px 3px 1px rgba(60, 64, 67, 0.15);\n",
              "      fill: #174EA6;\n",
              "    }\n",
              "\n",
              "    [theme=dark] .colab-df-convert {\n",
              "      background-color: #3B4455;\n",
              "      fill: #D2E3FC;\n",
              "    }\n",
              "\n",
              "    [theme=dark] .colab-df-convert:hover {\n",
              "      background-color: #434B5C;\n",
              "      box-shadow: 0px 1px 3px 1px rgba(0, 0, 0, 0.15);\n",
              "      filter: drop-shadow(0px 1px 2px rgba(0, 0, 0, 0.3));\n",
              "      fill: #FFFFFF;\n",
              "    }\n",
              "  </style>\n",
              "\n",
              "      <script>\n",
              "        const buttonEl =\n",
              "          document.querySelector('#df-bdb09140-1a05-48b5-87a6-4732b675933b button.colab-df-convert');\n",
              "        buttonEl.style.display =\n",
              "          google.colab.kernel.accessAllowed ? 'block' : 'none';\n",
              "\n",
              "        async function convertToInteractive(key) {\n",
              "          const element = document.querySelector('#df-bdb09140-1a05-48b5-87a6-4732b675933b');\n",
              "          const dataTable =\n",
              "            await google.colab.kernel.invokeFunction('convertToInteractive',\n",
              "                                                     [key], {});\n",
              "          if (!dataTable) return;\n",
              "\n",
              "          const docLinkHtml = 'Like what you see? Visit the ' +\n",
              "            '<a target=\"_blank\" href=https://colab.research.google.com/notebooks/data_table.ipynb>data table notebook</a>'\n",
              "            + ' to learn more about interactive tables.';\n",
              "          element.innerHTML = '';\n",
              "          dataTable['output_type'] = 'display_data';\n",
              "          await google.colab.output.renderOutput(dataTable, element);\n",
              "          const docLink = document.createElement('div');\n",
              "          docLink.innerHTML = docLinkHtml;\n",
              "          element.appendChild(docLink);\n",
              "        }\n",
              "      </script>\n",
              "    </div>\n",
              "  </div>\n"
            ]
          },
          "metadata": {},
          "execution_count": 176
        }
      ]
    },
    {
      "cell_type": "code",
      "source": [
        "# Conta os valores NaN\n",
        "data['DIAS_DOSE1'].isnull().sum()"
      ],
      "metadata": {
        "colab": {
          "base_uri": "https://localhost:8080/"
        },
        "id": "SSEHXgCny-g7",
        "outputId": "0ef7e92d-0417-4d60-8e69-bd6ff973eb36"
      },
      "execution_count": null,
      "outputs": [
        {
          "output_type": "execute_result",
          "data": {
            "text/plain": [
              "392"
            ]
          },
          "metadata": {},
          "execution_count": 177
        }
      ]
    },
    {
      "cell_type": "code",
      "source": [
        "# Calcula a mediana\n",
        "data['DIAS_DOSE1'].median()"
      ],
      "metadata": {
        "colab": {
          "base_uri": "https://localhost:8080/"
        },
        "id": "lJDVYE0Xy-j8",
        "outputId": "5f22f113-c1c1-4104-9513-b8cb609cb07b"
      },
      "execution_count": null,
      "outputs": [
        {
          "output_type": "execute_result",
          "data": {
            "text/plain": [
              "323.5"
            ]
          },
          "metadata": {},
          "execution_count": 178
        }
      ]
    },
    {
      "cell_type": "code",
      "source": [
        "# Preenche valores NaN com a moda mediana\n",
        "data['DIAS_DOSE1'].fillna(data['DIAS_DOSE1'].median(), inplace=True)\n",
        "\n",
        "# Converte o tipo de dados de float para int\n",
        "data['DIAS_DOSE1'] = data['DIAS_DOSE1'].astype(int)"
      ],
      "metadata": {
        "id": "dy-YVegay-nE"
      },
      "execution_count": null,
      "outputs": []
    },
    {
      "cell_type": "code",
      "source": [
        "data['DIAS_DOSE1'].info()"
      ],
      "metadata": {
        "colab": {
          "base_uri": "https://localhost:8080/"
        },
        "id": "Hn87Qpb_y-qY",
        "outputId": "0f2edeb1-a15a-4cb1-bf6c-77fc4727b404"
      },
      "execution_count": null,
      "outputs": [
        {
          "output_type": "stream",
          "name": "stdout",
          "text": [
            "<class 'pandas.core.series.Series'>\n",
            "RangeIndex: 17432 entries, 0 to 17431\n",
            "Series name: DIAS_DOSE1\n",
            "Non-Null Count  Dtype\n",
            "--------------  -----\n",
            "17432 non-null  int64\n",
            "dtypes: int64(1)\n",
            "memory usage: 136.3 KB\n"
          ]
        }
      ]
    },
    {
      "cell_type": "code",
      "source": [
        "data[['DOSE_1_COV','DOSE_2_COV', 'DT_NOTIFIC', 'DIAS_DOSE1','DIAS_DOSE2']]"
      ],
      "metadata": {
        "colab": {
          "base_uri": "https://localhost:8080/"
        },
        "id": "KWaQ4LGFy-tj",
        "outputId": "9a6f7e0c-c258-4059-f422-7f6dc5020e4e"
      },
      "execution_count": null,
      "outputs": [
        {
          "output_type": "execute_result",
          "data": {
            "text/plain": [
              "       DOSE_1_COV  DOSE_2_COV  DT_NOTIFIC  DIAS_DOSE1  DIAS_DOSE2\n",
              "0      17/08/2021  05/11/2021  05/01/2022         141          61\n",
              "1      27/03/2021  19/04/2021  07/01/2022         286         263\n",
              "2      10/06/2021  30/09/2021  10/01/2022         214         102\n",
              "3             NaN         NaN  19/01/2022           0           0\n",
              "4      24/06/2021  16/09/2021  10/01/2022         200         116\n",
              "...           ...         ...         ...         ...         ...\n",
              "17427         NaN         NaN  29/06/2022           0           0\n",
              "17428  19/02/2021  16/03/2021  09/08/2022         536         511\n",
              "17429         NaN  16/03/2021  30/08/2022         572         532\n",
              "17430  23/03/2021  14/04/2021  10/11/2022         597         575\n",
              "17431  30/03/2021  27/04/2021  24/12/2022         634         606\n",
              "\n",
              "[17432 rows x 5 columns]"
            ],
            "text/html": [
              "\n",
              "\n",
              "  <div id=\"df-25dc404a-64ec-47ed-87b1-135449bcb157\">\n",
              "    <div class=\"colab-df-container\">\n",
              "      <div>\n",
              "<style scoped>\n",
              "    .dataframe tbody tr th:only-of-type {\n",
              "        vertical-align: middle;\n",
              "    }\n",
              "\n",
              "    .dataframe tbody tr th {\n",
              "        vertical-align: top;\n",
              "    }\n",
              "\n",
              "    .dataframe thead th {\n",
              "        text-align: right;\n",
              "    }\n",
              "</style>\n",
              "<table border=\"1\" class=\"dataframe\">\n",
              "  <thead>\n",
              "    <tr style=\"text-align: right;\">\n",
              "      <th></th>\n",
              "      <th>DOSE_1_COV</th>\n",
              "      <th>DOSE_2_COV</th>\n",
              "      <th>DT_NOTIFIC</th>\n",
              "      <th>DIAS_DOSE1</th>\n",
              "      <th>DIAS_DOSE2</th>\n",
              "    </tr>\n",
              "  </thead>\n",
              "  <tbody>\n",
              "    <tr>\n",
              "      <th>0</th>\n",
              "      <td>17/08/2021</td>\n",
              "      <td>05/11/2021</td>\n",
              "      <td>05/01/2022</td>\n",
              "      <td>141</td>\n",
              "      <td>61</td>\n",
              "    </tr>\n",
              "    <tr>\n",
              "      <th>1</th>\n",
              "      <td>27/03/2021</td>\n",
              "      <td>19/04/2021</td>\n",
              "      <td>07/01/2022</td>\n",
              "      <td>286</td>\n",
              "      <td>263</td>\n",
              "    </tr>\n",
              "    <tr>\n",
              "      <th>2</th>\n",
              "      <td>10/06/2021</td>\n",
              "      <td>30/09/2021</td>\n",
              "      <td>10/01/2022</td>\n",
              "      <td>214</td>\n",
              "      <td>102</td>\n",
              "    </tr>\n",
              "    <tr>\n",
              "      <th>3</th>\n",
              "      <td>NaN</td>\n",
              "      <td>NaN</td>\n",
              "      <td>19/01/2022</td>\n",
              "      <td>0</td>\n",
              "      <td>0</td>\n",
              "    </tr>\n",
              "    <tr>\n",
              "      <th>4</th>\n",
              "      <td>24/06/2021</td>\n",
              "      <td>16/09/2021</td>\n",
              "      <td>10/01/2022</td>\n",
              "      <td>200</td>\n",
              "      <td>116</td>\n",
              "    </tr>\n",
              "    <tr>\n",
              "      <th>...</th>\n",
              "      <td>...</td>\n",
              "      <td>...</td>\n",
              "      <td>...</td>\n",
              "      <td>...</td>\n",
              "      <td>...</td>\n",
              "    </tr>\n",
              "    <tr>\n",
              "      <th>17427</th>\n",
              "      <td>NaN</td>\n",
              "      <td>NaN</td>\n",
              "      <td>29/06/2022</td>\n",
              "      <td>0</td>\n",
              "      <td>0</td>\n",
              "    </tr>\n",
              "    <tr>\n",
              "      <th>17428</th>\n",
              "      <td>19/02/2021</td>\n",
              "      <td>16/03/2021</td>\n",
              "      <td>09/08/2022</td>\n",
              "      <td>536</td>\n",
              "      <td>511</td>\n",
              "    </tr>\n",
              "    <tr>\n",
              "      <th>17429</th>\n",
              "      <td>NaN</td>\n",
              "      <td>16/03/2021</td>\n",
              "      <td>30/08/2022</td>\n",
              "      <td>572</td>\n",
              "      <td>532</td>\n",
              "    </tr>\n",
              "    <tr>\n",
              "      <th>17430</th>\n",
              "      <td>23/03/2021</td>\n",
              "      <td>14/04/2021</td>\n",
              "      <td>10/11/2022</td>\n",
              "      <td>597</td>\n",
              "      <td>575</td>\n",
              "    </tr>\n",
              "    <tr>\n",
              "      <th>17431</th>\n",
              "      <td>30/03/2021</td>\n",
              "      <td>27/04/2021</td>\n",
              "      <td>24/12/2022</td>\n",
              "      <td>634</td>\n",
              "      <td>606</td>\n",
              "    </tr>\n",
              "  </tbody>\n",
              "</table>\n",
              "<p>17432 rows × 5 columns</p>\n",
              "</div>\n",
              "      <button class=\"colab-df-convert\" onclick=\"convertToInteractive('df-25dc404a-64ec-47ed-87b1-135449bcb157')\"\n",
              "              title=\"Convert this dataframe to an interactive table.\"\n",
              "              style=\"display:none;\">\n",
              "\n",
              "  <svg xmlns=\"http://www.w3.org/2000/svg\" height=\"24px\"viewBox=\"0 0 24 24\"\n",
              "       width=\"24px\">\n",
              "    <path d=\"M0 0h24v24H0V0z\" fill=\"none\"/>\n",
              "    <path d=\"M18.56 5.44l.94 2.06.94-2.06 2.06-.94-2.06-.94-.94-2.06-.94 2.06-2.06.94zm-11 1L8.5 8.5l.94-2.06 2.06-.94-2.06-.94L8.5 2.5l-.94 2.06-2.06.94zm10 10l.94 2.06.94-2.06 2.06-.94-2.06-.94-.94-2.06-.94 2.06-2.06.94z\"/><path d=\"M17.41 7.96l-1.37-1.37c-.4-.4-.92-.59-1.43-.59-.52 0-1.04.2-1.43.59L10.3 9.45l-7.72 7.72c-.78.78-.78 2.05 0 2.83L4 21.41c.39.39.9.59 1.41.59.51 0 1.02-.2 1.41-.59l7.78-7.78 2.81-2.81c.8-.78.8-2.07 0-2.86zM5.41 20L4 18.59l7.72-7.72 1.47 1.35L5.41 20z\"/>\n",
              "  </svg>\n",
              "      </button>\n",
              "\n",
              "\n",
              "\n",
              "    <div id=\"df-a3f65914-e4df-43ab-aabc-bbe1e200479b\">\n",
              "      <button class=\"colab-df-quickchart\" onclick=\"quickchart('df-a3f65914-e4df-43ab-aabc-bbe1e200479b')\"\n",
              "              title=\"Suggest charts.\"\n",
              "              style=\"display:none;\">\n",
              "\n",
              "<svg xmlns=\"http://www.w3.org/2000/svg\" height=\"24px\"viewBox=\"0 0 24 24\"\n",
              "     width=\"24px\">\n",
              "    <g>\n",
              "        <path d=\"M19 3H5c-1.1 0-2 .9-2 2v14c0 1.1.9 2 2 2h14c1.1 0 2-.9 2-2V5c0-1.1-.9-2-2-2zM9 17H7v-7h2v7zm4 0h-2V7h2v10zm4 0h-2v-4h2v4z\"/>\n",
              "    </g>\n",
              "</svg>\n",
              "      </button>\n",
              "    </div>\n",
              "\n",
              "<style>\n",
              "  .colab-df-quickchart {\n",
              "    background-color: #E8F0FE;\n",
              "    border: none;\n",
              "    border-radius: 50%;\n",
              "    cursor: pointer;\n",
              "    display: none;\n",
              "    fill: #1967D2;\n",
              "    height: 32px;\n",
              "    padding: 0 0 0 0;\n",
              "    width: 32px;\n",
              "  }\n",
              "\n",
              "  .colab-df-quickchart:hover {\n",
              "    background-color: #E2EBFA;\n",
              "    box-shadow: 0px 1px 2px rgba(60, 64, 67, 0.3), 0px 1px 3px 1px rgba(60, 64, 67, 0.15);\n",
              "    fill: #174EA6;\n",
              "  }\n",
              "\n",
              "  [theme=dark] .colab-df-quickchart {\n",
              "    background-color: #3B4455;\n",
              "    fill: #D2E3FC;\n",
              "  }\n",
              "\n",
              "  [theme=dark] .colab-df-quickchart:hover {\n",
              "    background-color: #434B5C;\n",
              "    box-shadow: 0px 1px 3px 1px rgba(0, 0, 0, 0.15);\n",
              "    filter: drop-shadow(0px 1px 2px rgba(0, 0, 0, 0.3));\n",
              "    fill: #FFFFFF;\n",
              "  }\n",
              "</style>\n",
              "\n",
              "    <script>\n",
              "      async function quickchart(key) {\n",
              "        const containerElement = document.querySelector('#' + key);\n",
              "        const charts = await google.colab.kernel.invokeFunction(\n",
              "            'suggestCharts', [key], {});\n",
              "      }\n",
              "    </script>\n",
              "\n",
              "      <script>\n",
              "\n",
              "function displayQuickchartButton(domScope) {\n",
              "  let quickchartButtonEl =\n",
              "    domScope.querySelector('#df-a3f65914-e4df-43ab-aabc-bbe1e200479b button.colab-df-quickchart');\n",
              "  quickchartButtonEl.style.display =\n",
              "    google.colab.kernel.accessAllowed ? 'block' : 'none';\n",
              "}\n",
              "\n",
              "        displayQuickchartButton(document);\n",
              "      </script>\n",
              "      <style>\n",
              "    .colab-df-container {\n",
              "      display:flex;\n",
              "      flex-wrap:wrap;\n",
              "      gap: 12px;\n",
              "    }\n",
              "\n",
              "    .colab-df-convert {\n",
              "      background-color: #E8F0FE;\n",
              "      border: none;\n",
              "      border-radius: 50%;\n",
              "      cursor: pointer;\n",
              "      display: none;\n",
              "      fill: #1967D2;\n",
              "      height: 32px;\n",
              "      padding: 0 0 0 0;\n",
              "      width: 32px;\n",
              "    }\n",
              "\n",
              "    .colab-df-convert:hover {\n",
              "      background-color: #E2EBFA;\n",
              "      box-shadow: 0px 1px 2px rgba(60, 64, 67, 0.3), 0px 1px 3px 1px rgba(60, 64, 67, 0.15);\n",
              "      fill: #174EA6;\n",
              "    }\n",
              "\n",
              "    [theme=dark] .colab-df-convert {\n",
              "      background-color: #3B4455;\n",
              "      fill: #D2E3FC;\n",
              "    }\n",
              "\n",
              "    [theme=dark] .colab-df-convert:hover {\n",
              "      background-color: #434B5C;\n",
              "      box-shadow: 0px 1px 3px 1px rgba(0, 0, 0, 0.15);\n",
              "      filter: drop-shadow(0px 1px 2px rgba(0, 0, 0, 0.3));\n",
              "      fill: #FFFFFF;\n",
              "    }\n",
              "  </style>\n",
              "\n",
              "      <script>\n",
              "        const buttonEl =\n",
              "          document.querySelector('#df-25dc404a-64ec-47ed-87b1-135449bcb157 button.colab-df-convert');\n",
              "        buttonEl.style.display =\n",
              "          google.colab.kernel.accessAllowed ? 'block' : 'none';\n",
              "\n",
              "        async function convertToInteractive(key) {\n",
              "          const element = document.querySelector('#df-25dc404a-64ec-47ed-87b1-135449bcb157');\n",
              "          const dataTable =\n",
              "            await google.colab.kernel.invokeFunction('convertToInteractive',\n",
              "                                                     [key], {});\n",
              "          if (!dataTable) return;\n",
              "\n",
              "          const docLinkHtml = 'Like what you see? Visit the ' +\n",
              "            '<a target=\"_blank\" href=https://colab.research.google.com/notebooks/data_table.ipynb>data table notebook</a>'\n",
              "            + ' to learn more about interactive tables.';\n",
              "          element.innerHTML = '';\n",
              "          dataTable['output_type'] = 'display_data';\n",
              "          await google.colab.output.renderOutput(dataTable, element);\n",
              "          const docLink = document.createElement('div');\n",
              "          docLink.innerHTML = docLinkHtml;\n",
              "          element.appendChild(docLink);\n",
              "        }\n",
              "      </script>\n",
              "    </div>\n",
              "  </div>\n"
            ]
          },
          "metadata": {},
          "execution_count": 181
        }
      ]
    },
    {
      "cell_type": "code",
      "source": [
        "data.info()"
      ],
      "metadata": {
        "colab": {
          "base_uri": "https://localhost:8080/"
        },
        "id": "_kLht80Ly-wt",
        "outputId": "bf4906f6-d3e7-4a9b-d9a4-824facfd093f"
      },
      "execution_count": null,
      "outputs": [
        {
          "output_type": "stream",
          "name": "stdout",
          "text": [
            "<class 'pandas.core.frame.DataFrame'>\n",
            "RangeIndex: 17432 entries, 0 to 17431\n",
            "Data columns (total 48 columns):\n",
            " #   Column          Non-Null Count  Dtype  \n",
            "---  ------          --------------  -----  \n",
            " 0   DT_NOTIFIC      17432 non-null  object \n",
            " 1   DT_SIN_PRI      17432 non-null  object \n",
            " 2   CS_SEXO         17432 non-null  object \n",
            " 3   NU_IDADE_N      17432 non-null  int64  \n",
            " 4   CS_GESTANT      17432 non-null  float64\n",
            " 5   NOSOCOMIAL      17432 non-null  float64\n",
            " 6   FEBRE           17432 non-null  float64\n",
            " 7   TOSSE           17432 non-null  float64\n",
            " 8   GARGANTA        17432 non-null  float64\n",
            " 9   DISPNEIA        17432 non-null  float64\n",
            " 10  DESC_RESP       17432 non-null  float64\n",
            " 11  SATURACAO       17432 non-null  float64\n",
            " 12  DIARREIA        17432 non-null  float64\n",
            " 13  VOMITO          17432 non-null  float64\n",
            " 14  OUTRO_SIN       17432 non-null  float64\n",
            " 15  FATOR_RISC      17432 non-null  int64  \n",
            " 16  CARDIOPATI      17432 non-null  float64\n",
            " 17  DIABETES        17432 non-null  float64\n",
            " 18  OUT_MORBI       17432 non-null  float64\n",
            " 19  ANTIVIRAL       17432 non-null  float64\n",
            " 20  HOSPITAL        17432 non-null  float64\n",
            " 21  DT_INTERNA      16946 non-null  object \n",
            " 22  UTI             17432 non-null  float64\n",
            " 23  SUPORT_VEN      17432 non-null  float64\n",
            " 24  RAIOX_RES       17432 non-null  float64\n",
            " 25  AMOSTRA         17432 non-null  float64\n",
            " 26  TP_AMOSTRA      17432 non-null  float64\n",
            " 27  PCR_RESUL       17432 non-null  float64\n",
            " 28  DT_PCR          11096 non-null  object \n",
            " 29  POS_PCROUT      17432 non-null  float64\n",
            " 30  CRITERIO        17432 non-null  float64\n",
            " 31  EVOLUCAO        17432 non-null  int64  \n",
            " 32  DT_EVOLUCA      17295 non-null  object \n",
            " 33  DOR_ABD         17432 non-null  float64\n",
            " 34  FADIGA          17432 non-null  float64\n",
            " 35  PERD_OLFT       17432 non-null  float64\n",
            " 36  PERD_PALA       17432 non-null  float64\n",
            " 37  TOMO_RES        17432 non-null  float64\n",
            " 38  RES_AN          17432 non-null  float64\n",
            " 39  VACINA_COV      17432 non-null  float64\n",
            " 40  DOSE_1_COV      12831 non-null  object \n",
            " 41  DOSE_2_COV      12168 non-null  object \n",
            " 42  QTD_DIAS        17432 non-null  int64  \n",
            " 43  DIAS_INTERNA    17432 non-null  int64  \n",
            " 44  SINT_ATE_NOTIF  17432 non-null  int64  \n",
            " 45  PCR_EVOLUCAO    17432 non-null  int64  \n",
            " 46  DIAS_DOSE2      17432 non-null  int64  \n",
            " 47  DIAS_DOSE1      17432 non-null  int64  \n",
            "dtypes: float64(31), int64(9), object(8)\n",
            "memory usage: 6.4+ MB\n"
          ]
        }
      ]
    },
    {
      "cell_type": "code",
      "source": [
        "# Remove os atributos com datas\n",
        "data.drop(['DT_NOTIFIC', 'DT_SIN_PRI', 'DT_INTERNA', 'DT_PCR', 'DT_EVOLUCA', 'DOSE_1_COV', 'DOSE_2_COV'], axis = 1, inplace = True)\n",
        "data.shape"
      ],
      "metadata": {
        "colab": {
          "base_uri": "https://localhost:8080/"
        },
        "id": "Pkw5erOY3--9",
        "outputId": "cd025171-2d65-470b-e3e0-311eaee79a79"
      },
      "execution_count": null,
      "outputs": [
        {
          "output_type": "execute_result",
          "data": {
            "text/plain": [
              "(17432, 41)"
            ]
          },
          "metadata": {},
          "execution_count": 183
        }
      ]
    },
    {
      "cell_type": "markdown",
      "source": [
        "# Conversão do tipo de dado"
      ],
      "metadata": {
        "id": "lR8RJSAt4DN9"
      }
    },
    {
      "cell_type": "markdown",
      "source": [
        "Alterando o atributo \"CS_SEXO\" de object para int"
      ],
      "metadata": {
        "id": "soLf-re3oSx_"
      }
    },
    {
      "cell_type": "code",
      "source": [
        "# Teste Objects\n",
        "for i, row in data.iterrows():\n",
        "  if row['CS_SEXO'] == 'M':\n",
        "    data.at[i, 'CS_SEXO'] = 1\n",
        "  if row['CS_SEXO'] == 'F':\n",
        "    data.at[i, 'CS_SEXO'] = 2\n",
        "\n",
        "# Convertendo object -> int\n",
        "data['CS_SEXO'] = data['CS_SEXO'].astype(int)\n",
        "\n",
        "data['CS_SEXO'].info()"
      ],
      "metadata": {
        "colab": {
          "base_uri": "https://localhost:8080/"
        },
        "id": "uqVdxhbr4IBG",
        "outputId": "8543daa4-ab2b-4d20-9f55-86be1628f0c9"
      },
      "execution_count": null,
      "outputs": [
        {
          "output_type": "stream",
          "name": "stdout",
          "text": [
            "<class 'pandas.core.series.Series'>\n",
            "RangeIndex: 17432 entries, 0 to 17431\n",
            "Series name: CS_SEXO\n",
            "Non-Null Count  Dtype\n",
            "--------------  -----\n",
            "17432 non-null  int64\n",
            "dtypes: int64(1)\n",
            "memory usage: 136.3 KB\n"
          ]
        }
      ]
    },
    {
      "cell_type": "code",
      "source": [
        "# Convertendo float -> int\n",
        "for column in data:\n",
        "  if data[column].dtypes == 'float64':\n",
        "    data[column] = data[column].astype(int)\n",
        "\n",
        "data.info()"
      ],
      "metadata": {
        "colab": {
          "base_uri": "https://localhost:8080/"
        },
        "id": "aAvkFrkJ4Nju",
        "outputId": "d7cfccd4-c0c2-40ff-b2f6-76888a64dd90"
      },
      "execution_count": null,
      "outputs": [
        {
          "output_type": "stream",
          "name": "stdout",
          "text": [
            "<class 'pandas.core.frame.DataFrame'>\n",
            "RangeIndex: 17432 entries, 0 to 17431\n",
            "Data columns (total 41 columns):\n",
            " #   Column          Non-Null Count  Dtype\n",
            "---  ------          --------------  -----\n",
            " 0   CS_SEXO         17432 non-null  int64\n",
            " 1   NU_IDADE_N      17432 non-null  int64\n",
            " 2   CS_GESTANT      17432 non-null  int64\n",
            " 3   NOSOCOMIAL      17432 non-null  int64\n",
            " 4   FEBRE           17432 non-null  int64\n",
            " 5   TOSSE           17432 non-null  int64\n",
            " 6   GARGANTA        17432 non-null  int64\n",
            " 7   DISPNEIA        17432 non-null  int64\n",
            " 8   DESC_RESP       17432 non-null  int64\n",
            " 9   SATURACAO       17432 non-null  int64\n",
            " 10  DIARREIA        17432 non-null  int64\n",
            " 11  VOMITO          17432 non-null  int64\n",
            " 12  OUTRO_SIN       17432 non-null  int64\n",
            " 13  FATOR_RISC      17432 non-null  int64\n",
            " 14  CARDIOPATI      17432 non-null  int64\n",
            " 15  DIABETES        17432 non-null  int64\n",
            " 16  OUT_MORBI       17432 non-null  int64\n",
            " 17  ANTIVIRAL       17432 non-null  int64\n",
            " 18  HOSPITAL        17432 non-null  int64\n",
            " 19  UTI             17432 non-null  int64\n",
            " 20  SUPORT_VEN      17432 non-null  int64\n",
            " 21  RAIOX_RES       17432 non-null  int64\n",
            " 22  AMOSTRA         17432 non-null  int64\n",
            " 23  TP_AMOSTRA      17432 non-null  int64\n",
            " 24  PCR_RESUL       17432 non-null  int64\n",
            " 25  POS_PCROUT      17432 non-null  int64\n",
            " 26  CRITERIO        17432 non-null  int64\n",
            " 27  EVOLUCAO        17432 non-null  int64\n",
            " 28  DOR_ABD         17432 non-null  int64\n",
            " 29  FADIGA          17432 non-null  int64\n",
            " 30  PERD_OLFT       17432 non-null  int64\n",
            " 31  PERD_PALA       17432 non-null  int64\n",
            " 32  TOMO_RES        17432 non-null  int64\n",
            " 33  RES_AN          17432 non-null  int64\n",
            " 34  VACINA_COV      17432 non-null  int64\n",
            " 35  QTD_DIAS        17432 non-null  int64\n",
            " 36  DIAS_INTERNA    17432 non-null  int64\n",
            " 37  SINT_ATE_NOTIF  17432 non-null  int64\n",
            " 38  PCR_EVOLUCAO    17432 non-null  int64\n",
            " 39  DIAS_DOSE2      17432 non-null  int64\n",
            " 40  DIAS_DOSE1      17432 non-null  int64\n",
            "dtypes: int64(41)\n",
            "memory usage: 5.5 MB\n"
          ]
        }
      ]
    },
    {
      "cell_type": "code",
      "source": [
        "data.shape"
      ],
      "metadata": {
        "colab": {
          "base_uri": "https://localhost:8080/"
        },
        "id": "_mMG1son4Nm4",
        "outputId": "3e972d7c-08a3-4e99-8fe7-13aa28a425ab"
      },
      "execution_count": null,
      "outputs": [
        {
          "output_type": "execute_result",
          "data": {
            "text/plain": [
              "(17432, 41)"
            ]
          },
          "metadata": {},
          "execution_count": 186
        }
      ]
    },
    {
      "cell_type": "code",
      "source": [
        "data.head()"
      ],
      "metadata": {
        "colab": {
          "base_uri": "https://localhost:8080/"
        },
        "id": "edVb_bUv4NqC",
        "outputId": "acd82354-2104-483a-ddc4-d07f6d3f39e8"
      },
      "execution_count": null,
      "outputs": [
        {
          "output_type": "execute_result",
          "data": {
            "text/plain": [
              "   CS_SEXO  NU_IDADE_N  CS_GESTANT  NOSOCOMIAL  FEBRE  TOSSE  GARGANTA  \\\n",
              "0        2          28           5           2      1      1         2   \n",
              "1        1          72           6           2      6      6         1   \n",
              "2        2          50           5           2      2      1         1   \n",
              "3        1          59           6           2      1      1         2   \n",
              "4        2          43           5           2      2      1         1   \n",
              "\n",
              "   DISPNEIA  DESC_RESP  SATURACAO  ...  PERD_PALA  TOMO_RES  RES_AN  \\\n",
              "0         2          2          2  ...          2         6       4   \n",
              "1         6          6          1  ...          1         6       1   \n",
              "2         1          1          2  ...          1         6       5   \n",
              "3         1          1          1  ...          2         6       6   \n",
              "4         2          2          2  ...          2         1       4   \n",
              "\n",
              "   VACINA_COV  QTD_DIAS  DIAS_INTERNA  SINT_ATE_NOTIF  PCR_EVOLUCAO  \\\n",
              "0           1         1             1               2             3   \n",
              "1           1        18            18               2             0   \n",
              "2           1         3             2               3             0   \n",
              "3           2        19            19              13            17   \n",
              "4           1         3             3               0             0   \n",
              "\n",
              "   DIAS_DOSE2  DIAS_DOSE1  \n",
              "0          61         141  \n",
              "1         263         286  \n",
              "2         102         214  \n",
              "3           0           0  \n",
              "4         116         200  \n",
              "\n",
              "[5 rows x 41 columns]"
            ],
            "text/html": [
              "\n",
              "\n",
              "  <div id=\"df-e681b5de-a337-40e2-b162-97e2bceca3fc\">\n",
              "    <div class=\"colab-df-container\">\n",
              "      <div>\n",
              "<style scoped>\n",
              "    .dataframe tbody tr th:only-of-type {\n",
              "        vertical-align: middle;\n",
              "    }\n",
              "\n",
              "    .dataframe tbody tr th {\n",
              "        vertical-align: top;\n",
              "    }\n",
              "\n",
              "    .dataframe thead th {\n",
              "        text-align: right;\n",
              "    }\n",
              "</style>\n",
              "<table border=\"1\" class=\"dataframe\">\n",
              "  <thead>\n",
              "    <tr style=\"text-align: right;\">\n",
              "      <th></th>\n",
              "      <th>CS_SEXO</th>\n",
              "      <th>NU_IDADE_N</th>\n",
              "      <th>CS_GESTANT</th>\n",
              "      <th>NOSOCOMIAL</th>\n",
              "      <th>FEBRE</th>\n",
              "      <th>TOSSE</th>\n",
              "      <th>GARGANTA</th>\n",
              "      <th>DISPNEIA</th>\n",
              "      <th>DESC_RESP</th>\n",
              "      <th>SATURACAO</th>\n",
              "      <th>...</th>\n",
              "      <th>PERD_PALA</th>\n",
              "      <th>TOMO_RES</th>\n",
              "      <th>RES_AN</th>\n",
              "      <th>VACINA_COV</th>\n",
              "      <th>QTD_DIAS</th>\n",
              "      <th>DIAS_INTERNA</th>\n",
              "      <th>SINT_ATE_NOTIF</th>\n",
              "      <th>PCR_EVOLUCAO</th>\n",
              "      <th>DIAS_DOSE2</th>\n",
              "      <th>DIAS_DOSE1</th>\n",
              "    </tr>\n",
              "  </thead>\n",
              "  <tbody>\n",
              "    <tr>\n",
              "      <th>0</th>\n",
              "      <td>2</td>\n",
              "      <td>28</td>\n",
              "      <td>5</td>\n",
              "      <td>2</td>\n",
              "      <td>1</td>\n",
              "      <td>1</td>\n",
              "      <td>2</td>\n",
              "      <td>2</td>\n",
              "      <td>2</td>\n",
              "      <td>2</td>\n",
              "      <td>...</td>\n",
              "      <td>2</td>\n",
              "      <td>6</td>\n",
              "      <td>4</td>\n",
              "      <td>1</td>\n",
              "      <td>1</td>\n",
              "      <td>1</td>\n",
              "      <td>2</td>\n",
              "      <td>3</td>\n",
              "      <td>61</td>\n",
              "      <td>141</td>\n",
              "    </tr>\n",
              "    <tr>\n",
              "      <th>1</th>\n",
              "      <td>1</td>\n",
              "      <td>72</td>\n",
              "      <td>6</td>\n",
              "      <td>2</td>\n",
              "      <td>6</td>\n",
              "      <td>6</td>\n",
              "      <td>1</td>\n",
              "      <td>6</td>\n",
              "      <td>6</td>\n",
              "      <td>1</td>\n",
              "      <td>...</td>\n",
              "      <td>1</td>\n",
              "      <td>6</td>\n",
              "      <td>1</td>\n",
              "      <td>1</td>\n",
              "      <td>18</td>\n",
              "      <td>18</td>\n",
              "      <td>2</td>\n",
              "      <td>0</td>\n",
              "      <td>263</td>\n",
              "      <td>286</td>\n",
              "    </tr>\n",
              "    <tr>\n",
              "      <th>2</th>\n",
              "      <td>2</td>\n",
              "      <td>50</td>\n",
              "      <td>5</td>\n",
              "      <td>2</td>\n",
              "      <td>2</td>\n",
              "      <td>1</td>\n",
              "      <td>1</td>\n",
              "      <td>1</td>\n",
              "      <td>1</td>\n",
              "      <td>2</td>\n",
              "      <td>...</td>\n",
              "      <td>1</td>\n",
              "      <td>6</td>\n",
              "      <td>5</td>\n",
              "      <td>1</td>\n",
              "      <td>3</td>\n",
              "      <td>2</td>\n",
              "      <td>3</td>\n",
              "      <td>0</td>\n",
              "      <td>102</td>\n",
              "      <td>214</td>\n",
              "    </tr>\n",
              "    <tr>\n",
              "      <th>3</th>\n",
              "      <td>1</td>\n",
              "      <td>59</td>\n",
              "      <td>6</td>\n",
              "      <td>2</td>\n",
              "      <td>1</td>\n",
              "      <td>1</td>\n",
              "      <td>2</td>\n",
              "      <td>1</td>\n",
              "      <td>1</td>\n",
              "      <td>1</td>\n",
              "      <td>...</td>\n",
              "      <td>2</td>\n",
              "      <td>6</td>\n",
              "      <td>6</td>\n",
              "      <td>2</td>\n",
              "      <td>19</td>\n",
              "      <td>19</td>\n",
              "      <td>13</td>\n",
              "      <td>17</td>\n",
              "      <td>0</td>\n",
              "      <td>0</td>\n",
              "    </tr>\n",
              "    <tr>\n",
              "      <th>4</th>\n",
              "      <td>2</td>\n",
              "      <td>43</td>\n",
              "      <td>5</td>\n",
              "      <td>2</td>\n",
              "      <td>2</td>\n",
              "      <td>1</td>\n",
              "      <td>1</td>\n",
              "      <td>2</td>\n",
              "      <td>2</td>\n",
              "      <td>2</td>\n",
              "      <td>...</td>\n",
              "      <td>2</td>\n",
              "      <td>1</td>\n",
              "      <td>4</td>\n",
              "      <td>1</td>\n",
              "      <td>3</td>\n",
              "      <td>3</td>\n",
              "      <td>0</td>\n",
              "      <td>0</td>\n",
              "      <td>116</td>\n",
              "      <td>200</td>\n",
              "    </tr>\n",
              "  </tbody>\n",
              "</table>\n",
              "<p>5 rows × 41 columns</p>\n",
              "</div>\n",
              "      <button class=\"colab-df-convert\" onclick=\"convertToInteractive('df-e681b5de-a337-40e2-b162-97e2bceca3fc')\"\n",
              "              title=\"Convert this dataframe to an interactive table.\"\n",
              "              style=\"display:none;\">\n",
              "\n",
              "  <svg xmlns=\"http://www.w3.org/2000/svg\" height=\"24px\"viewBox=\"0 0 24 24\"\n",
              "       width=\"24px\">\n",
              "    <path d=\"M0 0h24v24H0V0z\" fill=\"none\"/>\n",
              "    <path d=\"M18.56 5.44l.94 2.06.94-2.06 2.06-.94-2.06-.94-.94-2.06-.94 2.06-2.06.94zm-11 1L8.5 8.5l.94-2.06 2.06-.94-2.06-.94L8.5 2.5l-.94 2.06-2.06.94zm10 10l.94 2.06.94-2.06 2.06-.94-2.06-.94-.94-2.06-.94 2.06-2.06.94z\"/><path d=\"M17.41 7.96l-1.37-1.37c-.4-.4-.92-.59-1.43-.59-.52 0-1.04.2-1.43.59L10.3 9.45l-7.72 7.72c-.78.78-.78 2.05 0 2.83L4 21.41c.39.39.9.59 1.41.59.51 0 1.02-.2 1.41-.59l7.78-7.78 2.81-2.81c.8-.78.8-2.07 0-2.86zM5.41 20L4 18.59l7.72-7.72 1.47 1.35L5.41 20z\"/>\n",
              "  </svg>\n",
              "      </button>\n",
              "\n",
              "\n",
              "\n",
              "    <div id=\"df-06c8d693-9a6d-49d5-bfb7-3fa2d3ea97c9\">\n",
              "      <button class=\"colab-df-quickchart\" onclick=\"quickchart('df-06c8d693-9a6d-49d5-bfb7-3fa2d3ea97c9')\"\n",
              "              title=\"Suggest charts.\"\n",
              "              style=\"display:none;\">\n",
              "\n",
              "<svg xmlns=\"http://www.w3.org/2000/svg\" height=\"24px\"viewBox=\"0 0 24 24\"\n",
              "     width=\"24px\">\n",
              "    <g>\n",
              "        <path d=\"M19 3H5c-1.1 0-2 .9-2 2v14c0 1.1.9 2 2 2h14c1.1 0 2-.9 2-2V5c0-1.1-.9-2-2-2zM9 17H7v-7h2v7zm4 0h-2V7h2v10zm4 0h-2v-4h2v4z\"/>\n",
              "    </g>\n",
              "</svg>\n",
              "      </button>\n",
              "    </div>\n",
              "\n",
              "<style>\n",
              "  .colab-df-quickchart {\n",
              "    background-color: #E8F0FE;\n",
              "    border: none;\n",
              "    border-radius: 50%;\n",
              "    cursor: pointer;\n",
              "    display: none;\n",
              "    fill: #1967D2;\n",
              "    height: 32px;\n",
              "    padding: 0 0 0 0;\n",
              "    width: 32px;\n",
              "  }\n",
              "\n",
              "  .colab-df-quickchart:hover {\n",
              "    background-color: #E2EBFA;\n",
              "    box-shadow: 0px 1px 2px rgba(60, 64, 67, 0.3), 0px 1px 3px 1px rgba(60, 64, 67, 0.15);\n",
              "    fill: #174EA6;\n",
              "  }\n",
              "\n",
              "  [theme=dark] .colab-df-quickchart {\n",
              "    background-color: #3B4455;\n",
              "    fill: #D2E3FC;\n",
              "  }\n",
              "\n",
              "  [theme=dark] .colab-df-quickchart:hover {\n",
              "    background-color: #434B5C;\n",
              "    box-shadow: 0px 1px 3px 1px rgba(0, 0, 0, 0.15);\n",
              "    filter: drop-shadow(0px 1px 2px rgba(0, 0, 0, 0.3));\n",
              "    fill: #FFFFFF;\n",
              "  }\n",
              "</style>\n",
              "\n",
              "    <script>\n",
              "      async function quickchart(key) {\n",
              "        const containerElement = document.querySelector('#' + key);\n",
              "        const charts = await google.colab.kernel.invokeFunction(\n",
              "            'suggestCharts', [key], {});\n",
              "      }\n",
              "    </script>\n",
              "\n",
              "      <script>\n",
              "\n",
              "function displayQuickchartButton(domScope) {\n",
              "  let quickchartButtonEl =\n",
              "    domScope.querySelector('#df-06c8d693-9a6d-49d5-bfb7-3fa2d3ea97c9 button.colab-df-quickchart');\n",
              "  quickchartButtonEl.style.display =\n",
              "    google.colab.kernel.accessAllowed ? 'block' : 'none';\n",
              "}\n",
              "\n",
              "        displayQuickchartButton(document);\n",
              "      </script>\n",
              "      <style>\n",
              "    .colab-df-container {\n",
              "      display:flex;\n",
              "      flex-wrap:wrap;\n",
              "      gap: 12px;\n",
              "    }\n",
              "\n",
              "    .colab-df-convert {\n",
              "      background-color: #E8F0FE;\n",
              "      border: none;\n",
              "      border-radius: 50%;\n",
              "      cursor: pointer;\n",
              "      display: none;\n",
              "      fill: #1967D2;\n",
              "      height: 32px;\n",
              "      padding: 0 0 0 0;\n",
              "      width: 32px;\n",
              "    }\n",
              "\n",
              "    .colab-df-convert:hover {\n",
              "      background-color: #E2EBFA;\n",
              "      box-shadow: 0px 1px 2px rgba(60, 64, 67, 0.3), 0px 1px 3px 1px rgba(60, 64, 67, 0.15);\n",
              "      fill: #174EA6;\n",
              "    }\n",
              "\n",
              "    [theme=dark] .colab-df-convert {\n",
              "      background-color: #3B4455;\n",
              "      fill: #D2E3FC;\n",
              "    }\n",
              "\n",
              "    [theme=dark] .colab-df-convert:hover {\n",
              "      background-color: #434B5C;\n",
              "      box-shadow: 0px 1px 3px 1px rgba(0, 0, 0, 0.15);\n",
              "      filter: drop-shadow(0px 1px 2px rgba(0, 0, 0, 0.3));\n",
              "      fill: #FFFFFF;\n",
              "    }\n",
              "  </style>\n",
              "\n",
              "      <script>\n",
              "        const buttonEl =\n",
              "          document.querySelector('#df-e681b5de-a337-40e2-b162-97e2bceca3fc button.colab-df-convert');\n",
              "        buttonEl.style.display =\n",
              "          google.colab.kernel.accessAllowed ? 'block' : 'none';\n",
              "\n",
              "        async function convertToInteractive(key) {\n",
              "          const element = document.querySelector('#df-e681b5de-a337-40e2-b162-97e2bceca3fc');\n",
              "          const dataTable =\n",
              "            await google.colab.kernel.invokeFunction('convertToInteractive',\n",
              "                                                     [key], {});\n",
              "          if (!dataTable) return;\n",
              "\n",
              "          const docLinkHtml = 'Like what you see? Visit the ' +\n",
              "            '<a target=\"_blank\" href=https://colab.research.google.com/notebooks/data_table.ipynb>data table notebook</a>'\n",
              "            + ' to learn more about interactive tables.';\n",
              "          element.innerHTML = '';\n",
              "          dataTable['output_type'] = 'display_data';\n",
              "          await google.colab.output.renderOutput(dataTable, element);\n",
              "          const docLink = document.createElement('div');\n",
              "          docLink.innerHTML = docLinkHtml;\n",
              "          element.appendChild(docLink);\n",
              "        }\n",
              "      </script>\n",
              "    </div>\n",
              "  </div>\n"
            ]
          },
          "metadata": {},
          "execution_count": 187
        }
      ]
    },
    {
      "cell_type": "markdown",
      "source": [
        "# Análise do valor alvo"
      ],
      "metadata": {
        "id": "LLIGQIS94qMe"
      }
    },
    {
      "cell_type": "code",
      "source": [
        "target_count = data['EVOLUCAO'].value_counts()\n",
        "recuperado_count = target_count[0]\n",
        "obito_count = target_count[1]\n",
        "proportion = round(recuperado_count / obito_count, 2)\n",
        "\n",
        "# Plotar gráfico de barras\n",
        "plt.bar(['RECUPERADO', 'ÓBITO'], [recuperado_count, obito_count])\n",
        "plt.title('Distribuição das evoluções dos casos de Covid-19')\n",
        "plt.xlabel('Evolução')\n",
        "plt.ylabel('Casos')\n",
        "\n",
        "# Adicionar rótulo com a contagem de casos em cada barra\n",
        "for i, count in enumerate([recuperado_count, obito_count]):\n",
        "    plt.text(i, count + 100, str(count), ha='center')\n",
        "\n",
        "# Adicionar rótulo com a proporção\n",
        "plt.text(0.5, max(recuperado_count, obito_count) + 200, f'Proporção de {proportion} para 1', ha='center')\n",
        "\n",
        "plt.show()"
      ],
      "metadata": {
        "colab": {
          "base_uri": "https://localhost:8080/"
        },
        "id": "nQgRdWf84zHm",
        "outputId": "1f85ead1-e6e7-4a29-f348-102950667141"
      },
      "execution_count": null,
      "outputs": [
        {
          "output_type": "display_data",
          "data": {
            "text/plain": [
              "<Figure size 640x480 with 1 Axes>"
            ],
            "image/png": "[encoded data removed]"
          },
          "metadata": {}
        }
      ]
    },
    {
      "cell_type": "markdown",
      "source": [
        "# Gerando Dataset"
      ],
      "metadata": {
        "id": "vpGh7SwM5bKu"
      }
    },
    {
      "cell_type": "code",
      "source": [
        "# Criando um novo dataset\n",
        "#data.to_csv('covid19_PR_2022_NearMiss_Normalizado.csv', index=False)"
      ],
      "metadata": {
        "id": "DM8RDQ4N5fTM"
      },
      "execution_count": null,
      "outputs": []
    },
    {
      "cell_type": "markdown",
      "source": [
        "# Normalização"
      ],
      "metadata": {
        "id": "UB5jC4Oz57FL"
      }
    },
    {
      "cell_type": "code",
      "source": [
        "# Separando o dataset entre atributos e rótulos\n",
        "atributos = data.drop(columns = 'EVOLUCAO')\n",
        "rotulos = data['EVOLUCAO']"
      ],
      "metadata": {
        "id": "Wx1mlycR6A_r"
      },
      "execution_count": null,
      "outputs": []
    },
    {
      "cell_type": "code",
      "source": [
        "atributos"
      ],
      "metadata": {
        "colab": {
          "base_uri": "https://localhost:8080/"
        },
        "id": "EoK1eOP9d3HK",
        "outputId": "91d3f995-5c5e-405f-b8f0-65ba16db1f41"
      },
      "execution_count": null,
      "outputs": [
        {
          "output_type": "execute_result",
          "data": {
            "text/plain": [
              "       CS_SEXO  NU_IDADE_N  CS_GESTANT  NOSOCOMIAL  FEBRE  TOSSE  GARGANTA  \\\n",
              "0            2          28           5           2      1      1         2   \n",
              "1            1          72           6           2      6      6         1   \n",
              "2            2          50           5           2      2      1         1   \n",
              "3            1          59           6           2      1      1         2   \n",
              "4            2          43           5           2      2      1         1   \n",
              "...        ...         ...         ...         ...    ...    ...       ...   \n",
              "17427        1          27           6           2      1      1         2   \n",
              "17428        2          87           5           2      1      1         2   \n",
              "17429        2          92           6           2      1      1         1   \n",
              "17430        1          76           6           2      1      2         2   \n",
              "17431        2          67           5           2      2      2         2   \n",
              "\n",
              "       DISPNEIA  DESC_RESP  SATURACAO  ...  PERD_PALA  TOMO_RES  RES_AN  \\\n",
              "0             2          2          2  ...          2         6       4   \n",
              "1             6          6          1  ...          1         6       1   \n",
              "2             1          1          2  ...          1         6       5   \n",
              "3             1          1          1  ...          2         6       6   \n",
              "4             2          2          2  ...          2         1       4   \n",
              "...         ...        ...        ...  ...        ...       ...     ...   \n",
              "17427         1          1          2  ...          2         6       1   \n",
              "17428         1          1          1  ...          6         6       4   \n",
              "17429         2          2          2  ...          1         6       5   \n",
              "17430         1          1          1  ...          6         1       4   \n",
              "17431         1          1          1  ...          2         6       5   \n",
              "\n",
              "       VACINA_COV  QTD_DIAS  DIAS_INTERNA  SINT_ATE_NOTIF  PCR_EVOLUCAO  \\\n",
              "0               1         1             1               2             3   \n",
              "1               1        18            18               2             0   \n",
              "2               1         3             2               3             0   \n",
              "3               2        19            19              13            17   \n",
              "4               1         3             3               0             0   \n",
              "...           ...       ...           ...             ...           ...   \n",
              "17427           2         0             1               3             0   \n",
              "17428           1         3             3               3             3   \n",
              "17429           1         2             2               3             1   \n",
              "17430           1         7             8               7             0   \n",
              "17431           1         5             5               0             3   \n",
              "\n",
              "       DIAS_DOSE2  DIAS_DOSE1  \n",
              "0              61         141  \n",
              "1             263         286  \n",
              "2             102         214  \n",
              "3               0           0  \n",
              "4             116         200  \n",
              "...           ...         ...  \n",
              "17427           0           0  \n",
              "17428         511         536  \n",
              "17429         532         572  \n",
              "17430         575         597  \n",
              "17431         606         634  \n",
              "\n",
              "[17432 rows x 40 columns]"
            ],
            "text/html": [
              "\n",
              "\n",
              "  <div id=\"df-ee26c4f9-636b-4164-9e35-d506d34002f7\">\n",
              "    <div class=\"colab-df-container\">\n",
              "      <div>\n",
              "<style scoped>\n",
              "    .dataframe tbody tr th:only-of-type {\n",
              "        vertical-align: middle;\n",
              "    }\n",
              "\n",
              "    .dataframe tbody tr th {\n",
              "        vertical-align: top;\n",
              "    }\n",
              "\n",
              "    .dataframe thead th {\n",
              "        text-align: right;\n",
              "    }\n",
              "</style>\n",
              "<table border=\"1\" class=\"dataframe\">\n",
              "  <thead>\n",
              "    <tr style=\"text-align: right;\">\n",
              "      <th></th>\n",
              "      <th>CS_SEXO</th>\n",
              "      <th>NU_IDADE_N</th>\n",
              "      <th>CS_GESTANT</th>\n",
              "      <th>NOSOCOMIAL</th>\n",
              "      <th>FEBRE</th>\n",
              "      <th>TOSSE</th>\n",
              "      <th>GARGANTA</th>\n",
              "      <th>DISPNEIA</th>\n",
              "      <th>DESC_RESP</th>\n",
              "      <th>SATURACAO</th>\n",
              "      <th>...</th>\n",
              "      <th>PERD_PALA</th>\n",
              "      <th>TOMO_RES</th>\n",
              "      <th>RES_AN</th>\n",
              "      <th>VACINA_COV</th>\n",
              "      <th>QTD_DIAS</th>\n",
              "      <th>DIAS_INTERNA</th>\n",
              "      <th>SINT_ATE_NOTIF</th>\n",
              "      <th>PCR_EVOLUCAO</th>\n",
              "      <th>DIAS_DOSE2</th>\n",
              "      <th>DIAS_DOSE1</th>\n",
              "    </tr>\n",
              "  </thead>\n",
              "  <tbody>\n",
              "    <tr>\n",
              "      <th>0</th>\n",
              "      <td>2</td>\n",
              "      <td>28</td>\n",
              "      <td>5</td>\n",
              "      <td>2</td>\n",
              "      <td>1</td>\n",
              "      <td>1</td>\n",
              "      <td>2</td>\n",
              "      <td>2</td>\n",
              "      <td>2</td>\n",
              "      <td>2</td>\n",
              "      <td>...</td>\n",
              "      <td>2</td>\n",
              "      <td>6</td>\n",
              "      <td>4</td>\n",
              "      <td>1</td>\n",
              "      <td>1</td>\n",
              "      <td>1</td>\n",
              "      <td>2</td>\n",
              "      <td>3</td>\n",
              "      <td>61</td>\n",
              "      <td>141</td>\n",
              "    </tr>\n",
              "    <tr>\n",
              "      <th>1</th>\n",
              "      <td>1</td>\n",
              "      <td>72</td>\n",
              "      <td>6</td>\n",
              "      <td>2</td>\n",
              "      <td>6</td>\n",
              "      <td>6</td>\n",
              "      <td>1</td>\n",
              "      <td>6</td>\n",
              "      <td>6</td>\n",
              "      <td>1</td>\n",
              "      <td>...</td>\n",
              "      <td>1</td>\n",
              "      <td>6</td>\n",
              "      <td>1</td>\n",
              "      <td>1</td>\n",
              "      <td>18</td>\n",
              "      <td>18</td>\n",
              "      <td>2</td>\n",
              "      <td>0</td>\n",
              "      <td>263</td>\n",
              "      <td>286</td>\n",
              "    </tr>\n",
              "    <tr>\n",
              "      <th>2</th>\n",
              "      <td>2</td>\n",
              "      <td>50</td>\n",
              "      <td>5</td>\n",
              "      <td>2</td>\n",
              "      <td>2</td>\n",
              "      <td>1</td>\n",
              "      <td>1</td>\n",
              "      <td>1</td>\n",
              "      <td>1</td>\n",
              "      <td>2</td>\n",
              "      <td>...</td>\n",
              "      <td>1</td>\n",
              "      <td>6</td>\n",
              "      <td>5</td>\n",
              "      <td>1</td>\n",
              "      <td>3</td>\n",
              "      <td>2</td>\n",
              "      <td>3</td>\n",
              "      <td>0</td>\n",
              "      <td>102</td>\n",
              "      <td>214</td>\n",
              "    </tr>\n",
              "    <tr>\n",
              "      <th>3</th>\n",
              "      <td>1</td>\n",
              "      <td>59</td>\n",
              "      <td>6</td>\n",
              "      <td>2</td>\n",
              "      <td>1</td>\n",
              "      <td>1</td>\n",
              "      <td>2</td>\n",
              "      <td>1</td>\n",
              "      <td>1</td>\n",
              "      <td>1</td>\n",
              "      <td>...</td>\n",
              "      <td>2</td>\n",
              "      <td>6</td>\n",
              "      <td>6</td>\n",
              "      <td>2</td>\n",
              "      <td>19</td>\n",
              "      <td>19</td>\n",
              "      <td>13</td>\n",
              "      <td>17</td>\n",
              "      <td>0</td>\n",
              "      <td>0</td>\n",
              "    </tr>\n",
              "    <tr>\n",
              "      <th>4</th>\n",
              "      <td>2</td>\n",
              "      <td>43</td>\n",
              "      <td>5</td>\n",
              "      <td>2</td>\n",
              "      <td>2</td>\n",
              "      <td>1</td>\n",
              "      <td>1</td>\n",
              "      <td>2</td>\n",
              "      <td>2</td>\n",
              "      <td>2</td>\n",
              "      <td>...</td>\n",
              "      <td>2</td>\n",
              "      <td>1</td>\n",
              "      <td>4</td>\n",
              "      <td>1</td>\n",
              "      <td>3</td>\n",
              "      <td>3</td>\n",
              "      <td>0</td>\n",
              "      <td>0</td>\n",
              "      <td>116</td>\n",
              "      <td>200</td>\n",
              "    </tr>\n",
              "    <tr>\n",
              "      <th>...</th>\n",
              "      <td>...</td>\n",
              "      <td>...</td>\n",
              "      <td>...</td>\n",
              "      <td>...</td>\n",
              "      <td>...</td>\n",
              "      <td>...</td>\n",
              "      <td>...</td>\n",
              "      <td>...</td>\n",
              "      <td>...</td>\n",
              "      <td>...</td>\n",
              "      <td>...</td>\n",
              "      <td>...</td>\n",
              "      <td>...</td>\n",
              "      <td>...</td>\n",
              "      <td>...</td>\n",
              "      <td>...</td>\n",
              "      <td>...</td>\n",
              "      <td>...</td>\n",
              "      <td>...</td>\n",
              "      <td>...</td>\n",
              "      <td>...</td>\n",
              "    </tr>\n",
              "    <tr>\n",
              "      <th>17427</th>\n",
              "      <td>1</td>\n",
              "      <td>27</td>\n",
              "      <td>6</td>\n",
              "      <td>2</td>\n",
              "      <td>1</td>\n",
              "      <td>1</td>\n",
              "      <td>2</td>\n",
              "      <td>1</td>\n",
              "      <td>1</td>\n",
              "      <td>2</td>\n",
              "      <td>...</td>\n",
              "      <td>2</td>\n",
              "      <td>6</td>\n",
              "      <td>1</td>\n",
              "      <td>2</td>\n",
              "      <td>0</td>\n",
              "      <td>1</td>\n",
              "      <td>3</td>\n",
              "      <td>0</td>\n",
              "      <td>0</td>\n",
              "      <td>0</td>\n",
              "    </tr>\n",
              "    <tr>\n",
              "      <th>17428</th>\n",
              "      <td>2</td>\n",
              "      <td>87</td>\n",
              "      <td>5</td>\n",
              "      <td>2</td>\n",
              "      <td>1</td>\n",
              "      <td>1</td>\n",
              "      <td>2</td>\n",
              "      <td>1</td>\n",
              "      <td>1</td>\n",
              "      <td>1</td>\n",
              "      <td>...</td>\n",
              "      <td>6</td>\n",
              "      <td>6</td>\n",
              "      <td>4</td>\n",
              "      <td>1</td>\n",
              "      <td>3</td>\n",
              "      <td>3</td>\n",
              "      <td>3</td>\n",
              "      <td>3</td>\n",
              "      <td>511</td>\n",
              "      <td>536</td>\n",
              "    </tr>\n",
              "    <tr>\n",
              "      <th>17429</th>\n",
              "      <td>2</td>\n",
              "      <td>92</td>\n",
              "      <td>6</td>\n",
              "      <td>2</td>\n",
              "      <td>1</td>\n",
              "      <td>1</td>\n",
              "      <td>1</td>\n",
              "      <td>2</td>\n",
              "      <td>2</td>\n",
              "      <td>2</td>\n",
              "      <td>...</td>\n",
              "      <td>1</td>\n",
              "      <td>6</td>\n",
              "      <td>5</td>\n",
              "      <td>1</td>\n",
              "      <td>2</td>\n",
              "      <td>2</td>\n",
              "      <td>3</td>\n",
              "      <td>1</td>\n",
              "      <td>532</td>\n",
              "      <td>572</td>\n",
              "    </tr>\n",
              "    <tr>\n",
              "      <th>17430</th>\n",
              "      <td>1</td>\n",
              "      <td>76</td>\n",
              "      <td>6</td>\n",
              "      <td>2</td>\n",
              "      <td>1</td>\n",
              "      <td>2</td>\n",
              "      <td>2</td>\n",
              "      <td>1</td>\n",
              "      <td>1</td>\n",
              "      <td>1</td>\n",
              "      <td>...</td>\n",
              "      <td>6</td>\n",
              "      <td>1</td>\n",
              "      <td>4</td>\n",
              "      <td>1</td>\n",
              "      <td>7</td>\n",
              "      <td>8</td>\n",
              "      <td>7</td>\n",
              "      <td>0</td>\n",
              "      <td>575</td>\n",
              "      <td>597</td>\n",
              "    </tr>\n",
              "    <tr>\n",
              "      <th>17431</th>\n",
              "      <td>2</td>\n",
              "      <td>67</td>\n",
              "      <td>5</td>\n",
              "      <td>2</td>\n",
              "      <td>2</td>\n",
              "      <td>2</td>\n",
              "      <td>2</td>\n",
              "      <td>1</td>\n",
              "      <td>1</td>\n",
              "      <td>1</td>\n",
              "      <td>...</td>\n",
              "      <td>2</td>\n",
              "      <td>6</td>\n",
              "      <td>5</td>\n",
              "      <td>1</td>\n",
              "      <td>5</td>\n",
              "      <td>5</td>\n",
              "      <td>0</td>\n",
              "      <td>3</td>\n",
              "      <td>606</td>\n",
              "      <td>634</td>\n",
              "    </tr>\n",
              "  </tbody>\n",
              "</table>\n",
              "<p>17432 rows × 40 columns</p>\n",
              "</div>\n",
              "      <button class=\"colab-df-convert\" onclick=\"convertToInteractive('df-ee26c4f9-636b-4164-9e35-d506d34002f7')\"\n",
              "              title=\"Convert this dataframe to an interactive table.\"\n",
              "              style=\"display:none;\">\n",
              "\n",
              "  <svg xmlns=\"http://www.w3.org/2000/svg\" height=\"24px\"viewBox=\"0 0 24 24\"\n",
              "       width=\"24px\">\n",
              "    <path d=\"M0 0h24v24H0V0z\" fill=\"none\"/>\n",
              "    <path d=\"M18.56 5.44l.94 2.06.94-2.06 2.06-.94-2.06-.94-.94-2.06-.94 2.06-2.06.94zm-11 1L8.5 8.5l.94-2.06 2.06-.94-2.06-.94L8.5 2.5l-.94 2.06-2.06.94zm10 10l.94 2.06.94-2.06 2.06-.94-2.06-.94-.94-2.06-.94 2.06-2.06.94z\"/><path d=\"M17.41 7.96l-1.37-1.37c-.4-.4-.92-.59-1.43-.59-.52 0-1.04.2-1.43.59L10.3 9.45l-7.72 7.72c-.78.78-.78 2.05 0 2.83L4 21.41c.39.39.9.59 1.41.59.51 0 1.02-.2 1.41-.59l7.78-7.78 2.81-2.81c.8-.78.8-2.07 0-2.86zM5.41 20L4 18.59l7.72-7.72 1.47 1.35L5.41 20z\"/>\n",
              "  </svg>\n",
              "      </button>\n",
              "\n",
              "\n",
              "\n",
              "    <div id=\"df-b34e2ceb-6c4f-40e9-bbb6-0a03a8ff7b4d\">\n",
              "      <button class=\"colab-df-quickchart\" onclick=\"quickchart('df-b34e2ceb-6c4f-40e9-bbb6-0a03a8ff7b4d')\"\n",
              "              title=\"Suggest charts.\"\n",
              "              style=\"display:none;\">\n",
              "\n",
              "<svg xmlns=\"http://www.w3.org/2000/svg\" height=\"24px\"viewBox=\"0 0 24 24\"\n",
              "     width=\"24px\">\n",
              "    <g>\n",
              "        <path d=\"M19 3H5c-1.1 0-2 .9-2 2v14c0 1.1.9 2 2 2h14c1.1 0 2-.9 2-2V5c0-1.1-.9-2-2-2zM9 17H7v-7h2v7zm4 0h-2V7h2v10zm4 0h-2v-4h2v4z\"/>\n",
              "    </g>\n",
              "</svg>\n",
              "      </button>\n",
              "    </div>\n",
              "\n",
              "<style>\n",
              "  .colab-df-quickchart {\n",
              "    background-color: #E8F0FE;\n",
              "    border: none;\n",
              "    border-radius: 50%;\n",
              "    cursor: pointer;\n",
              "    display: none;\n",
              "    fill: #1967D2;\n",
              "    height: 32px;\n",
              "    padding: 0 0 0 0;\n",
              "    width: 32px;\n",
              "  }\n",
              "\n",
              "  .colab-df-quickchart:hover {\n",
              "    background-color: #E2EBFA;\n",
              "    box-shadow: 0px 1px 2px rgba(60, 64, 67, 0.3), 0px 1px 3px 1px rgba(60, 64, 67, 0.15);\n",
              "    fill: #174EA6;\n",
              "  }\n",
              "\n",
              "  [theme=dark] .colab-df-quickchart {\n",
              "    background-color: #3B4455;\n",
              "    fill: #D2E3FC;\n",
              "  }\n",
              "\n",
              "  [theme=dark] .colab-df-quickchart:hover {\n",
              "    background-color: #434B5C;\n",
              "    box-shadow: 0px 1px 3px 1px rgba(0, 0, 0, 0.15);\n",
              "    filter: drop-shadow(0px 1px 2px rgba(0, 0, 0, 0.3));\n",
              "    fill: #FFFFFF;\n",
              "  }\n",
              "</style>\n",
              "\n",
              "    <script>\n",
              "      async function quickchart(key) {\n",
              "        const containerElement = document.querySelector('#' + key);\n",
              "        const charts = await google.colab.kernel.invokeFunction(\n",
              "            'suggestCharts', [key], {});\n",
              "      }\n",
              "    </script>\n",
              "\n",
              "      <script>\n",
              "\n",
              "function displayQuickchartButton(domScope) {\n",
              "  let quickchartButtonEl =\n",
              "    domScope.querySelector('#df-b34e2ceb-6c4f-40e9-bbb6-0a03a8ff7b4d button.colab-df-quickchart');\n",
              "  quickchartButtonEl.style.display =\n",
              "    google.colab.kernel.accessAllowed ? 'block' : 'none';\n",
              "}\n",
              "\n",
              "        displayQuickchartButton(document);\n",
              "      </script>\n",
              "      <style>\n",
              "    .colab-df-container {\n",
              "      display:flex;\n",
              "      flex-wrap:wrap;\n",
              "      gap: 12px;\n",
              "    }\n",
              "\n",
              "    .colab-df-convert {\n",
              "      background-color: #E8F0FE;\n",
              "      border: none;\n",
              "      border-radius: 50%;\n",
              "      cursor: pointer;\n",
              "      display: none;\n",
              "      fill: #1967D2;\n",
              "      height: 32px;\n",
              "      padding: 0 0 0 0;\n",
              "      width: 32px;\n",
              "    }\n",
              "\n",
              "    .colab-df-convert:hover {\n",
              "      background-color: #E2EBFA;\n",
              "      box-shadow: 0px 1px 2px rgba(60, 64, 67, 0.3), 0px 1px 3px 1px rgba(60, 64, 67, 0.15);\n",
              "      fill: #174EA6;\n",
              "    }\n",
              "\n",
              "    [theme=dark] .colab-df-convert {\n",
              "      background-color: #3B4455;\n",
              "      fill: #D2E3FC;\n",
              "    }\n",
              "\n",
              "    [theme=dark] .colab-df-convert:hover {\n",
              "      background-color: #434B5C;\n",
              "      box-shadow: 0px 1px 3px 1px rgba(0, 0, 0, 0.15);\n",
              "      filter: drop-shadow(0px 1px 2px rgba(0, 0, 0, 0.3));\n",
              "      fill: #FFFFFF;\n",
              "    }\n",
              "  </style>\n",
              "\n",
              "      <script>\n",
              "        const buttonEl =\n",
              "          document.querySelector('#df-ee26c4f9-636b-4164-9e35-d506d34002f7 button.colab-df-convert');\n",
              "        buttonEl.style.display =\n",
              "          google.colab.kernel.accessAllowed ? 'block' : 'none';\n",
              "\n",
              "        async function convertToInteractive(key) {\n",
              "          const element = document.querySelector('#df-ee26c4f9-636b-4164-9e35-d506d34002f7');\n",
              "          const dataTable =\n",
              "            await google.colab.kernel.invokeFunction('convertToInteractive',\n",
              "                                                     [key], {});\n",
              "          if (!dataTable) return;\n",
              "\n",
              "          const docLinkHtml = 'Like what you see? Visit the ' +\n",
              "            '<a target=\"_blank\" href=https://colab.research.google.com/notebooks/data_table.ipynb>data table notebook</a>'\n",
              "            + ' to learn more about interactive tables.';\n",
              "          element.innerHTML = '';\n",
              "          dataTable['output_type'] = 'display_data';\n",
              "          await google.colab.output.renderOutput(dataTable, element);\n",
              "          const docLink = document.createElement('div');\n",
              "          docLink.innerHTML = docLinkHtml;\n",
              "          element.appendChild(docLink);\n",
              "        }\n",
              "      </script>\n",
              "    </div>\n",
              "  </div>\n"
            ]
          },
          "metadata": {},
          "execution_count": 191
        }
      ]
    },
    {
      "cell_type": "code",
      "source": [
        "atributos = StandardScaler().fit_transform(atributos)"
      ],
      "metadata": {
        "id": "fN7gT8eXd3p3"
      },
      "execution_count": null,
      "outputs": []
    },
    {
      "cell_type": "code",
      "source": [
        "atributos"
      ],
      "metadata": {
        "colab": {
          "base_uri": "https://localhost:8080/"
        },
        "id": "_Dudvfoad35r",
        "outputId": "2b297250-b45e-4ece-cad7-2853ada1384c"
      },
      "execution_count": null,
      "outputs": [
        {
          "output_type": "execute_result",
          "data": {
            "text/plain": [
              "array([[ 0.99542122, -1.24214463, -0.71867654, ..., -0.19781279,\n",
              "        -0.02995595, -0.75664128],\n",
              "       [-1.00459984,  0.44322882,  0.65787213, ..., -0.47798552,\n",
              "        -0.00699514, -0.05333584],\n",
              "       [ 0.99542122, -0.3994579 , -0.71867654, ..., -0.47798552,\n",
              "        -0.02529559, -0.40256337],\n",
              "       ...,\n",
              "       [ 0.99542122,  1.20930765,  0.65787213, ..., -0.38459461,\n",
              "         0.02358139,  1.3338735 ],\n",
              "       [-1.00459984,  0.59644458,  0.65787213, ..., -0.47798552,\n",
              "         0.02846909,  1.45513306],\n",
              "       [ 0.99542122,  0.25170911, -0.71867654, ..., -0.19781279,\n",
              "         0.03199278,  1.6345972 ]])"
            ]
          },
          "metadata": {},
          "execution_count": 193
        }
      ]
    },
    {
      "cell_type": "markdown",
      "source": [
        "# NearMiss"
      ],
      "metadata": {
        "id": "1ZoM6lDcZfsT"
      }
    },
    {
      "cell_type": "code",
      "source": [
        "np.bincount(rotulos)"
      ],
      "metadata": {
        "colab": {
          "base_uri": "https://localhost:8080/"
        },
        "id": "xBClrzEP7IHg",
        "outputId": "be80e3b8-0ceb-4353-be22-024cb01f1f3a"
      },
      "execution_count": null,
      "outputs": [
        {
          "output_type": "execute_result",
          "data": {
            "text/plain": [
              "array([13521,  3911])"
            ]
          },
          "metadata": {},
          "execution_count": 194
        }
      ]
    },
    {
      "cell_type": "code",
      "source": [
        "# instância\n",
        "nr = NearMiss()"
      ],
      "metadata": {
        "id": "jzM4q9ROZiP7"
      },
      "execution_count": null,
      "outputs": []
    },
    {
      "cell_type": "code",
      "source": [
        "# Balanceia os dados\n",
        "atributos, rotulos = nr.fit_resample(atributos, rotulos)"
      ],
      "metadata": {
        "id": "WDanmvY6ZmXL"
      },
      "execution_count": null,
      "outputs": []
    },
    {
      "cell_type": "code",
      "source": [
        "aux = sns.countplot(x=rotulos)"
      ],
      "metadata": {
        "colab": {
          "base_uri": "https://localhost:8080/"
        },
        "id": "c4VTaDvLeRY3",
        "outputId": "09abbb8a-028f-47b5-d160-4a2abf71719f"
      },
      "execution_count": null,
      "outputs": [
        {
          "output_type": "display_data",
          "data": {
            "text/plain": [
              "<Figure size 640x480 with 1 Axes>"
            ],
            "image/png": "[encoded data removed]"
          },
          "metadata": {}
        }
      ]
    },
    {
      "cell_type": "code",
      "source": [
        "np.bincount(rotulos)"
      ],
      "metadata": {
        "colab": {
          "base_uri": "https://localhost:8080/"
        },
        "id": "u0sTPVmDeE6U",
        "outputId": "a5f65526-f19d-4e45-c54d-85bb2d75a726"
      },
      "execution_count": null,
      "outputs": [
        {
          "output_type": "execute_result",
          "data": {
            "text/plain": [
              "array([3911, 3911])"
            ]
          },
          "metadata": {},
          "execution_count": 198
        }
      ]
    },
    {
      "cell_type": "code",
      "source": [
        "# Dividindo o dataset em conjunto de treino e teste\n",
        "train, test, train_labels, test_labels = train_test_split(\n",
        "    atributos, rotulos,test_size = 0.33, random_state = 42, stratify=rotulos)"
      ],
      "metadata": {
        "id": "R7dHDowleX0Z"
      },
      "execution_count": null,
      "outputs": []
    },
    {
      "cell_type": "markdown",
      "source": [
        "# Classificação"
      ],
      "metadata": {
        "id": "VcK2oS1p7rw3"
      }
    },
    {
      "cell_type": "code",
      "source": [
        "# Inicializando classificador\n",
        "ada = AdaBoostClassifier(estimator = LogisticRegression(max_iter=1000), learning_rate = 1.5, n_estimators = 150)"
      ],
      "metadata": {
        "id": "7T0fFkHW7yry"
      },
      "execution_count": null,
      "outputs": []
    },
    {
      "cell_type": "code",
      "source": [
        "# treinando\n",
        "model = ada.fit(train, train_labels)"
      ],
      "metadata": {
        "id": "NmihB6bJ733C"
      },
      "execution_count": null,
      "outputs": []
    },
    {
      "cell_type": "code",
      "source": [
        "# Previsões\n",
        "preds = ada.predict(test)\n",
        "preds"
      ],
      "metadata": {
        "colab": {
          "base_uri": "https://localhost:8080/"
        },
        "id": "0615Ga0K75PS",
        "outputId": "3ac848e3-68a4-4ae0-80f5-89cee50eccfe"
      },
      "execution_count": null,
      "outputs": [
        {
          "output_type": "execute_result",
          "data": {
            "text/plain": [
              "array([1, 1, 0, ..., 1, 1, 0])"
            ]
          },
          "metadata": {},
          "execution_count": 202
        }
      ]
    },
    {
      "cell_type": "code",
      "source": [
        "# Avaliando acurácia\n",
        "print(accuracy_score(test_labels, preds))"
      ],
      "metadata": {
        "colab": {
          "base_uri": "https://localhost:8080/"
        },
        "id": "g6nmGJn_76jn",
        "outputId": "db096e04-fe6f-43e2-e4d3-c40e5d3c6767"
      },
      "execution_count": null,
      "outputs": [
        {
          "output_type": "stream",
          "name": "stdout",
          "text": [
            "0.8009295120061968\n"
          ]
        }
      ]
    },
    {
      "cell_type": "code",
      "source": [
        "# F1-score\n",
        "print(f1_score(test_labels, preds))"
      ],
      "metadata": {
        "colab": {
          "base_uri": "https://localhost:8080/"
        },
        "id": "6_y8-8Y9uzc-",
        "outputId": "c7189520-2405-403a-a176-663f1d90db68"
      },
      "execution_count": null,
      "outputs": [
        {
          "output_type": "stream",
          "name": "stdout",
          "text": [
            "0.7874276261373035\n"
          ]
        }
      ]
    },
    {
      "cell_type": "code",
      "source": [
        "# Analisando\n",
        "print(classification_report(test_labels, preds))"
      ],
      "metadata": {
        "colab": {
          "base_uri": "https://localhost:8080/"
        },
        "id": "K6Siw5z978ja",
        "outputId": "ef9fc47e-3eba-459a-a35d-a392dac25a9c"
      },
      "execution_count": null,
      "outputs": [
        {
          "output_type": "stream",
          "name": "stdout",
          "text": [
            "              precision    recall  f1-score   support\n",
            "\n",
            "           0       0.77      0.86      0.81      1291\n",
            "           1       0.84      0.74      0.79      1291\n",
            "\n",
            "    accuracy                           0.80      2582\n",
            "   macro avg       0.81      0.80      0.80      2582\n",
            "weighted avg       0.81      0.80      0.80      2582\n",
            "\n"
          ]
        }
      ]
    },
    {
      "cell_type": "code",
      "source": [
        "# Avaliando modelo com valor curva ROC\n",
        "testeroc = RocCurveDisplay.from_estimator(ada, atributos, rotulos)\n",
        "plt.show()"
      ],
      "metadata": {
        "colab": {
          "base_uri": "https://localhost:8080/"
        },
        "id": "5hb3tiOE8Adt",
        "outputId": "b0fe80a9-d697-40b5-d9d6-bfcbe6091646"
      },
      "execution_count": null,
      "outputs": [
        {
          "output_type": "display_data",
          "data": {
            "text/plain": [
              "<Figure size 640x480 with 1 Axes>"
            ],
            "image/png": "[encoded data removed]"
          },
          "metadata": {}
        }
      ]
    },
    {
      "cell_type": "code",
      "source": [
        "# Matriz de correlação\n",
        "matriz_correlacao = pd.crosstab(test_labels, preds, rownames=['Real'],\n",
        "                                colnames=['Predito'])\n",
        "# Plotar mapa de calor\n",
        "sns.heatmap(matriz_correlacao, annot=True, cmap='Blues', fmt='d')\n",
        "plt.title('Matriz de Correlação')\n",
        "plt.show()"
      ],
      "metadata": {
        "colab": {
          "base_uri": "https://localhost:8080/"
        },
        "id": "P2lYqtQr8CVr",
        "outputId": "62ed3529-7040-4fd6-a92d-8504249c12f4"
      },
      "execution_count": null,
      "outputs": [
        {
          "output_type": "display_data",
          "data": {
            "text/plain": [
              "<Figure size 640x480 with 2 Axes>"
            ],
            "image/png": "[encoded data removed]"
          },
          "metadata": {}
        }
      ]
    },
    {
      "cell_type": "markdown",
      "source": [
        "# GridSearchCV"
      ],
      "metadata": {
        "id": "DauRoIgX9Ga-"
      }
    },
    {
      "cell_type": "code",
      "source": [
        "'''from sklearn.ensemble import AdaBoostClassifier\n",
        "from sklearn.model_selection import GridSearchCV\n",
        "from sklearn.tree import DecisionTreeClassifier\n",
        "from sklearn.linear_model import LogisticRegression\n",
        "\n",
        "# Definir o modelo que deseja otimizar (por exemplo, AdaBoostClassifier)\n",
        "model = AdaBoostClassifier()\n",
        "\n",
        "# Definir os parâmetros que deseja otimizar para o modelo\n",
        "parameters = {\n",
        "    'n_estimators': [50, 100, 150],\n",
        "    'learning_rate': [0.5, 1.0, 1.5],\n",
        "    'estimator': [DecisionTreeClassifier(), LogisticRegression()],\n",
        "}\n",
        "\n",
        "# Criar o objeto GridSearchCV com o modelo e os parâmetros definidos\n",
        "grid_search = GridSearchCV(model, parameters)\n",
        "\n",
        "# Executar a busca em grade usando o conjunto de treinamento e etiquetas de treinamento\n",
        "grid_search.fit(train, train_labels)\n",
        "\n",
        "# Melhores parâmetros encontrados\n",
        "best_params = grid_search.best_params_\n",
        "best_params'''"
      ],
      "metadata": {
        "id": "7OR4zIe7AX_v",
        "colab": {
          "base_uri": "https://localhost:8080/",
          "height": 174
        },
        "outputId": "42f9cfc5-9388-49a8-c9ca-f4e1529d8048"
      },
      "execution_count": null,
      "outputs": [
        {
          "output_type": "execute_result",
          "data": {
            "text/plain": [
              "\"from sklearn.ensemble import AdaBoostClassifier\\nfrom sklearn.model_selection import GridSearchCV\\nfrom sklearn.tree import DecisionTreeClassifier\\nfrom sklearn.linear_model import LogisticRegression\\n\\n# Definir o modelo que deseja otimizar (por exemplo, AdaBoostClassifier)\\nmodel = AdaBoostClassifier()\\n\\n# Definir os parâmetros que deseja otimizar para o modelo\\nparameters = {\\n    'n_estimators': [50, 100, 150],\\n    'learning_rate': [0.5, 1.0, 1.5],\\n    'estimator': [DecisionTreeClassifier(), LogisticRegression()],\\n}\\n\\n# Criar o objeto GridSearchCV com o modelo e os parâmetros definidos\\ngrid_search = GridSearchCV(model, parameters)\\n\\n# Executar a busca em grade usando o conjunto de treinamento e etiquetas de treinamento\\ngrid_search.fit(train, train_labels)\\n\\n# Melhores parâmetros encontrados\\nbest_params = grid_search.best_params_\\nbest_params\""
            ],
            "application/vnd.google.colaboratory.intrinsic+json": {
              "type": "string"
            }
          },
          "metadata": {},
          "execution_count": 105
        }
      ]
    }
  ]
}