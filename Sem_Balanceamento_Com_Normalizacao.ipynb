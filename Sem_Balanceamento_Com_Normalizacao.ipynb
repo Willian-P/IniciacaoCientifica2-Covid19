{
  "nbformat": 4,
  "nbformat_minor": 0,
  "metadata": {
    "colab": {
      "provenance": [],
      "collapsed_sections": [
        "gAc0zNIAqUEr",
        "wKyC10bMrUKI",
        "cJVtFTDMvOLk",
        "yhyPfXz1v2a0",
        "_MGwotqdwL-k",
        "yjjJUiZpwrvu",
        "gHkOrHKMxQse",
        "lR8RJSAt4DN9",
        "LLIGQIS94qMe",
        "UB5jC4Oz57FL",
        "jCI2BJWOVAwH"
      ],
      "authorship_tag": "ABX9TyM33dN3r3v00nuT65WqmDB9"
    },
    "kernelspec": {
      "name": "python3",
      "display_name": "Python 3"
    },
    "language_info": {
      "name": "python"
    }
  },
  "cells": [
    {
      "cell_type": "markdown",
      "source": [
        "# Dataset desbalanceado e **Normalizado**"
      ],
      "metadata": {
        "id": "gAc0zNIAqUEr"
      }
    },
    {
      "cell_type": "code",
      "execution_count": null,
      "metadata": {
        "id": "2CAx4VSvpn7z"
      },
      "outputs": [],
      "source": [
        "# Importações de Bibliotecas\n",
        "import pandas as pd\n",
        "import numpy as np\n",
        "import sklearn\n",
        "import math\n",
        "\n",
        "# Datas\n",
        "from datetime import datetime, timedelta\n",
        "\n",
        "# Gráficos\n",
        "import matplotlib.pyplot as plt\n",
        "import seaborn as sns\n",
        "\n",
        "# Balanceamento\n",
        "# from imblearn.under_sampling import NearMiss\n",
        "# from imblearn.over_sampling import SMOTE\n",
        "\n",
        "# Divisão de dados\n",
        "from sklearn.model_selection import train_test_split\n",
        "\n",
        "# Normalização\n",
        "from sklearn.preprocessing import StandardScaler\n",
        "\n",
        "# Classificadores\n",
        "from sklearn.ensemble import AdaBoostClassifier\n",
        "from sklearn.linear_model import LogisticRegression\n",
        "\n",
        "# Métricas\n",
        "from sklearn.metrics import accuracy_score, classification_report, RocCurveDisplay, f1_score"
      ]
    },
    {
      "cell_type": "code",
      "source": [
        "# Local do Dataset\n",
        "url = \"https://s3.sa-east-1.amazonaws.com/ckan.saude.gov.br/SRAG/2022/INFLUD22-23-01-2023.csv\""
      ],
      "metadata": {
        "id": "wE1JPqAKqr5M"
      },
      "execution_count": null,
      "outputs": []
    },
    {
      "cell_type": "code",
      "source": [
        "# Carregando Dataset\n",
        "data = pd.read_csv(url, sep=';', na_filter = True)\n",
        "print(f\"{len(data)} linhas lidas\")"
      ],
      "metadata": {
        "colab": {
          "base_uri": "https://localhost:8080/"
        },
        "id": "lBJwvOL6rFtM",
        "outputId": "b732b8b4-7284-45fc-f6f0-a907ebbc2a3d"
      },
      "execution_count": null,
      "outputs": [
        {
          "output_type": "stream",
          "name": "stderr",
          "text": [
            "<ipython-input-3-5503c4e8948e>:2: DtypeWarning: Columns (15,59,61,62,63,91,93,105,107,120,122,143) have mixed types. Specify dtype option on import or set low_memory=False.\n",
            "  data = pd.read_csv(url, sep=';', na_filter = True)\n"
          ]
        },
        {
          "output_type": "stream",
          "name": "stdout",
          "text": [
            "561242 linhas lidas\n"
          ]
        }
      ]
    },
    {
      "cell_type": "code",
      "source": [
        "# Formato do Dataset\n",
        "data.shape"
      ],
      "metadata": {
        "colab": {
          "base_uri": "https://localhost:8080/"
        },
        "id": "xTFzAGgorHa0",
        "outputId": "4e3bc231-3706-4ca8-deb9-bc792ec11fe4"
      },
      "execution_count": null,
      "outputs": [
        {
          "output_type": "execute_result",
          "data": {
            "text/plain": [
              "(561242, 166)"
            ]
          },
          "metadata": {},
          "execution_count": 4
        }
      ]
    },
    {
      "cell_type": "markdown",
      "source": [
        "# Delimitando Dataset"
      ],
      "metadata": {
        "id": "wKyC10bMrUKI"
      }
    },
    {
      "cell_type": "markdown",
      "source": [
        "Este dataset é composto por notificações realacionadas as Síndromes Respiratórias Agudas Graves SRAGs no Brasil no ano de 2022"
      ],
      "metadata": {
        "id": "DY2Pg9EhrOhG"
      }
    },
    {
      "cell_type": "code",
      "source": [
        "# Delimitando apenas para notificações de Covid-19\n",
        "data = data[data['CLASSI_FIN'] == 5]\n",
        "data.shape"
      ],
      "metadata": {
        "colab": {
          "base_uri": "https://localhost:8080/"
        },
        "id": "rB4xjcegrHiW",
        "outputId": "c2b38a4b-a676-439c-ee07-40b1ae624ab6"
      },
      "execution_count": null,
      "outputs": [
        {
          "output_type": "execute_result",
          "data": {
            "text/plain": [
              "(235891, 166)"
            ]
          },
          "metadata": {},
          "execution_count": 5
        }
      ]
    },
    {
      "cell_type": "code",
      "source": [
        "# Deixando apenas com notificações do Paraná\n",
        "data = data[data['SG_UF_NOT'] == 'PR']\n",
        "data.shape"
      ],
      "metadata": {
        "colab": {
          "base_uri": "https://localhost:8080/"
        },
        "id": "9guxBCopsQyg",
        "outputId": "cbe6076e-8127-46d8-a7b7-5193fe7f5d33"
      },
      "execution_count": null,
      "outputs": [
        {
          "output_type": "execute_result",
          "data": {
            "text/plain": [
              "(19002, 166)"
            ]
          },
          "metadata": {},
          "execution_count": 6
        }
      ]
    },
    {
      "cell_type": "code",
      "source": [
        "# Removendo instâncias com 3 e 9, pois equivalem, respectivamente a \"óbito por outras causas\" e \"ignorado\"\n",
        "data = data[(data['EVOLUCAO'] == 1) | (data['EVOLUCAO'] == 2)]\n",
        "\n",
        "# Atualizando o target 'EVOLUCAO' para 0 e 1\n",
        "data['EVOLUCAO'] = data['EVOLUCAO'].map({1: 0, 2: 1})\n",
        "data.shape"
      ],
      "metadata": {
        "colab": {
          "base_uri": "https://localhost:8080/"
        },
        "id": "DaXxBeA1uyW0",
        "outputId": "13fc142b-73c6-4fca-cd4d-b51878ee9eec"
      },
      "execution_count": null,
      "outputs": [
        {
          "output_type": "stream",
          "name": "stderr",
          "text": [
            "<ipython-input-7-da8d121ee4c8>:5: SettingWithCopyWarning: \n",
            "A value is trying to be set on a copy of a slice from a DataFrame.\n",
            "Try using .loc[row_indexer,col_indexer] = value instead\n",
            "\n",
            "See the caveats in the documentation: https://pandas.pydata.org/pandas-docs/stable/user_guide/indexing.html#returning-a-view-versus-a-copy\n",
            "  data['EVOLUCAO'] = data['EVOLUCAO'].map({1: 0, 2: 1})\n"
          ]
        },
        {
          "output_type": "execute_result",
          "data": {
            "text/plain": [
              "(17699, 166)"
            ]
          },
          "metadata": {},
          "execution_count": 7
        }
      ]
    },
    {
      "cell_type": "markdown",
      "source": [
        "# Eliminação Manual de Atributos"
      ],
      "metadata": {
        "id": "cJVtFTDMvOLk"
      }
    },
    {
      "cell_type": "code",
      "source": [
        "# Dados redundantes após a delimitação\n",
        "data.drop(['CLASSI_FIN', 'SG_UF_NOT'], axis=1, inplace=True)\n",
        "data.shape"
      ],
      "metadata": {
        "colab": {
          "base_uri": "https://localhost:8080/"
        },
        "id": "cwKxvEPCvXcd",
        "outputId": "748b47b7-53c1-4b6b-875c-da47ad975ded"
      },
      "execution_count": null,
      "outputs": [
        {
          "output_type": "stream",
          "name": "stderr",
          "text": [
            "<ipython-input-8-282e3f1eb280>:2: SettingWithCopyWarning: \n",
            "A value is trying to be set on a copy of a slice from a DataFrame\n",
            "\n",
            "See the caveats in the documentation: https://pandas.pydata.org/pandas-docs/stable/user_guide/indexing.html#returning-a-view-versus-a-copy\n",
            "  data.drop(['CLASSI_FIN', 'SG_UF_NOT'], axis=1, inplace=True)\n"
          ]
        },
        {
          "output_type": "execute_result",
          "data": {
            "text/plain": [
              "(17699, 164)"
            ]
          },
          "metadata": {},
          "execution_count": 8
        }
      ]
    },
    {
      "cell_type": "code",
      "source": [
        "# Retirando atributos categorizadas como Campos Internos\n",
        "data.drop([\"SEM_NOT\", \"SEM_PRI\", \"ID_REGIONA\", \"CO_REGIONA\", \"ID_RG_RESI\",\n",
        "           \"CO_RG_RESI\", \"FNT_IN_COV\", \"ID_RG_INTE\", \"CO_RG_INTE\", \"DT_DIGITA\"],\n",
        "          axis=1, inplace=True)\n",
        "data.shape"
      ],
      "metadata": {
        "colab": {
          "base_uri": "https://localhost:8080/"
        },
        "id": "UmkyCdD5vezX",
        "outputId": "e6d61924-86fe-4cc5-9e17-dfb479c14214"
      },
      "execution_count": null,
      "outputs": [
        {
          "output_type": "execute_result",
          "data": {
            "text/plain": [
              "(17699, 154)"
            ]
          },
          "metadata": {},
          "execution_count": 9
        }
      ]
    },
    {
      "cell_type": "code",
      "source": [
        "# Atributos Relacionados a localização\n",
        "data.drop([\"ID_MUNICIP\", \"CO_MUN_NOT\", \"ID_UNIDADE\", \"CO_UNI_NOT\", \"ID_PAIS\",\n",
        "           \"CO_PAIS\", \"SG_UF\", \"ID_MN_RESI\", \"CO_MUN_RES\", \"CS_ZONA\", \"ESTRANG\",\n",
        "           \"SG_UF_INTE\", \"ID_MN_INTE\", \"CO_MU_INTE\"], axis=1, inplace=True)\n",
        "data.shape"
      ],
      "metadata": {
        "colab": {
          "base_uri": "https://localhost:8080/"
        },
        "id": "MP_uM7kgve2N",
        "outputId": "815c330e-0702-43f4-fecf-83a494facc68"
      },
      "execution_count": null,
      "outputs": [
        {
          "output_type": "execute_result",
          "data": {
            "text/plain": [
              "(17699, 140)"
            ]
          },
          "metadata": {},
          "execution_count": 10
        }
      ]
    },
    {
      "cell_type": "code",
      "source": [
        "# Redundância na idade\n",
        "data.drop([\"DT_NASC\", \"TP_IDADE\", \"COD_IDADE\"], axis=1, inplace=True)\n",
        "data.shape"
      ],
      "metadata": {
        "colab": {
          "base_uri": "https://localhost:8080/"
        },
        "id": "vMeQcJT0vlQJ",
        "outputId": "5869a1f9-b832-4c9c-f126-e5d496dafb0d"
      },
      "execution_count": null,
      "outputs": [
        {
          "output_type": "execute_result",
          "data": {
            "text/plain": [
              "(17699, 137)"
            ]
          },
          "metadata": {},
          "execution_count": 11
        }
      ]
    },
    {
      "cell_type": "code",
      "source": [
        "# Dados relacionados a informações da vacina\n",
        "data.drop([\"LOTE_1_COV\", \"LOTE_2_COV\",\"LOTE_REF\", \"FAB_COV_1\", \"FAB_COV_2\",\n",
        "           \"FAB_COVREF\", \"LAB_PR_COV\"], axis=1, inplace=True)\n",
        "data.shape"
      ],
      "metadata": {
        "colab": {
          "base_uri": "https://localhost:8080/"
        },
        "id": "ajlNAGJKvmmB",
        "outputId": "5d3973b6-e16d-4799-abed-cadf45a5f69a"
      },
      "execution_count": null,
      "outputs": [
        {
          "output_type": "execute_result",
          "data": {
            "text/plain": [
              "(17699, 130)"
            ]
          },
          "metadata": {},
          "execution_count": 12
        }
      ]
    },
    {
      "cell_type": "code",
      "source": [
        "# Atributos que não constam no dicionário de dados\n",
        "data.drop([\"HISTO_VGM\", \"PCR_SARS2\"], axis=1, inplace=True)\n",
        "data.shape"
      ],
      "metadata": {
        "colab": {
          "base_uri": "https://localhost:8080/"
        },
        "id": "Q40jd46Bvn48",
        "outputId": "64aab699-0a4b-448a-e008-61a9dff9fe77"
      },
      "execution_count": null,
      "outputs": [
        {
          "output_type": "execute_result",
          "data": {
            "text/plain": [
              "(17699, 128)"
            ]
          },
          "metadata": {},
          "execution_count": 13
        }
      ]
    },
    {
      "cell_type": "code",
      "source": [
        "# datas administrativas\n",
        "data.drop([\"DT_ENCERRA\", \"DT_COLETA\"], axis=1, inplace=True)\n",
        "data.shape"
      ],
      "metadata": {
        "colab": {
          "base_uri": "https://localhost:8080/"
        },
        "id": "k46F_1hLvpOC",
        "outputId": "9f9ac5ff-1c09-4a52-edce-baa2a2c5fbca"
      },
      "execution_count": null,
      "outputs": [
        {
          "output_type": "execute_result",
          "data": {
            "text/plain": [
              "(17699, 126)"
            ]
          },
          "metadata": {},
          "execution_count": 14
        }
      ]
    },
    {
      "cell_type": "code",
      "source": [
        "# Outras colunas\n",
        "data.drop([\"AVE_SUINO\", \"CS_RACA\"], axis=1, inplace=True)\n",
        "data.shape"
      ],
      "metadata": {
        "colab": {
          "base_uri": "https://localhost:8080/"
        },
        "id": "rofQ3t9xvqks",
        "outputId": "95b057e6-c8c8-42e6-c5e9-7775a6239625"
      },
      "execution_count": null,
      "outputs": [
        {
          "output_type": "execute_result",
          "data": {
            "text/plain": [
              "(17699, 124)"
            ]
          },
          "metadata": {},
          "execution_count": 15
        }
      ]
    },
    {
      "cell_type": "code",
      "source": [
        "data.info()"
      ],
      "metadata": {
        "colab": {
          "base_uri": "https://localhost:8080/"
        },
        "id": "uGfTZnanvyPI",
        "outputId": "acf3d886-7f70-4aa6-c6b8-8f27d1f1ef15"
      },
      "execution_count": null,
      "outputs": [
        {
          "output_type": "stream",
          "name": "stdout",
          "text": [
            "<class 'pandas.core.frame.DataFrame'>\n",
            "Int64Index: 17699 entries, 32 to 561154\n",
            "Columns: 124 entries, DT_NOTIFIC to DOSE_REF\n",
            "dtypes: float64(81), int64(4), object(39)\n",
            "memory usage: 16.9+ MB\n"
          ]
        }
      ]
    },
    {
      "cell_type": "markdown",
      "source": [
        "# Tratamento de Valores Ignorados"
      ],
      "metadata": {
        "id": "yhyPfXz1v2a0"
      }
    },
    {
      "cell_type": "code",
      "source": [
        "# Alteração dos valores 9 (ignorados) para NaN\n",
        "for column in data:\n",
        "  if ((data[column].dtypes != 'object') and\n",
        "   (column != 'NU_IDADE_N')) or (column == 'CS_SEXO'):\n",
        "    data[column] = data[column].apply(lambda x: np.nan if x == 9 else x)"
      ],
      "metadata": {
        "id": "DvOyUbLAv6Bg"
      },
      "execution_count": null,
      "outputs": []
    },
    {
      "cell_type": "markdown",
      "source": [
        "# Filtro 50%"
      ],
      "metadata": {
        "id": "_MGwotqdwL-k"
      }
    },
    {
      "cell_type": "markdown",
      "source": [
        "Filtro de 50% em linhas e colunas, prezando pela qualidade e não quantidade de dados."
      ],
      "metadata": {
        "id": "p-R3HIMBwRKW"
      }
    },
    {
      "cell_type": "code",
      "source": [
        "# Limiar de procentagem de dados faltantes\n",
        "threshold = 0.5\n",
        "\n",
        "# Calcula a porcentagem de dados faltantes em cada coluna\n",
        "porcentagem_nan = data.isnull().sum() / len(data)\n",
        "\n",
        "# Filtra as colunas que têm mais de 50% dos dados faltantes\n",
        "colunas_remocao = porcentagem_nan[porcentagem_nan > threshold].index\n",
        "\n",
        "# Remoção das colunas\n",
        "data = data.drop(colunas_remocao, axis=1)\n",
        "\n",
        "print(f'{len(colunas_remocao)} colunas foram removidas')\n",
        "print(data.shape)"
      ],
      "metadata": {
        "colab": {
          "base_uri": "https://localhost:8080/"
        },
        "id": "5MV2H4Q9wOEY",
        "outputId": "ffc97182-ab3e-4ecc-8e35-74f5b8ce7215"
      },
      "execution_count": null,
      "outputs": [
        {
          "output_type": "stream",
          "name": "stdout",
          "text": [
            "82 colunas foram removidas\n",
            "(17699, 42)\n"
          ]
        }
      ]
    },
    {
      "cell_type": "code",
      "source": [
        "data.info()"
      ],
      "metadata": {
        "colab": {
          "base_uri": "https://localhost:8080/"
        },
        "id": "r2GdphQWwXqQ",
        "outputId": "b754ab94-87af-4054-9884-fc64c4d54813"
      },
      "execution_count": null,
      "outputs": [
        {
          "output_type": "stream",
          "name": "stdout",
          "text": [
            "<class 'pandas.core.frame.DataFrame'>\n",
            "Int64Index: 17699 entries, 32 to 561154\n",
            "Data columns (total 42 columns):\n",
            " #   Column      Non-Null Count  Dtype  \n",
            "---  ------      --------------  -----  \n",
            " 0   DT_NOTIFIC  17699 non-null  object \n",
            " 1   DT_SIN_PRI  17699 non-null  object \n",
            " 2   CS_SEXO     17699 non-null  object \n",
            " 3   NU_IDADE_N  17699 non-null  int64  \n",
            " 4   CS_GESTANT  17444 non-null  float64\n",
            " 5   NOSOCOMIAL  16050 non-null  float64\n",
            " 6   FEBRE       14589 non-null  float64\n",
            " 7   TOSSE       15203 non-null  float64\n",
            " 8   GARGANTA    13245 non-null  float64\n",
            " 9   DISPNEIA    14895 non-null  float64\n",
            " 10  DESC_RESP   14042 non-null  float64\n",
            " 11  SATURACAO   14704 non-null  float64\n",
            " 12  DIARREIA    12727 non-null  float64\n",
            " 13  VOMITO      12720 non-null  float64\n",
            " 14  OUTRO_SIN   12936 non-null  float64\n",
            " 15  FATOR_RISC  17699 non-null  int64  \n",
            " 16  CARDIOPATI  9805 non-null   float64\n",
            " 17  DIABETES    9129 non-null   float64\n",
            " 18  OUT_MORBI   9683 non-null   float64\n",
            " 19  ANTIVIRAL   15008 non-null  float64\n",
            " 20  HOSPITAL    17598 non-null  float64\n",
            " 21  DT_INTERNA  17160 non-null  object \n",
            " 22  UTI         16849 non-null  float64\n",
            " 23  SUPORT_VEN  16875 non-null  float64\n",
            " 24  RAIOX_RES   11129 non-null  float64\n",
            " 25  AMOSTRA     17294 non-null  float64\n",
            " 26  TP_AMOSTRA  16833 non-null  float64\n",
            " 27  PCR_RESUL   16780 non-null  float64\n",
            " 28  DT_PCR      11124 non-null  object \n",
            " 29  POS_PCROUT  10088 non-null  float64\n",
            " 30  CRITERIO    17363 non-null  float64\n",
            " 31  EVOLUCAO    17699 non-null  int64  \n",
            " 32  DT_EVOLUCA  17542 non-null  object \n",
            " 33  DOR_ABD     12549 non-null  float64\n",
            " 34  FADIGA      12869 non-null  float64\n",
            " 35  PERD_OLFT   12389 non-null  float64\n",
            " 36  PERD_PALA   12357 non-null  float64\n",
            " 37  TOMO_RES    9981 non-null   float64\n",
            " 38  RES_AN      17153 non-null  float64\n",
            " 39  VACINA_COV  17355 non-null  float64\n",
            " 40  DOSE_1_COV  12965 non-null  object \n",
            " 41  DOSE_2_COV  12287 non-null  object \n",
            "dtypes: float64(31), int64(3), object(8)\n",
            "memory usage: 5.8+ MB\n"
          ]
        }
      ]
    },
    {
      "cell_type": "code",
      "source": [
        "# Reinicia o index de cada instância\n",
        "data = data.reset_index(drop=True)"
      ],
      "metadata": {
        "id": "KoRrUEUGwbaa"
      },
      "execution_count": null,
      "outputs": []
    },
    {
      "cell_type": "code",
      "source": [
        "# Limiar de procentagem de dados faltantes\n",
        "threshold = 0.5\n",
        "\n",
        "# Calcula a porcentagem de dados faltantes em cada linha\n",
        "porcentagem_nan = data.isnull().sum(axis=1) / data.shape[1]\n",
        "\n",
        "# Filtra as linhas que têm mais de 50% dos dados faltantes\n",
        "linhas_remocao = porcentagem_nan[porcentagem_nan > threshold].index\n",
        "\n",
        "# Remove as linhas\n",
        "data = data.drop(linhas_remocao, axis=0)\n",
        "\n",
        "print(f'{len(linhas_remocao)} linhas foram removidas')\n",
        "print(data.shape)"
      ],
      "metadata": {
        "colab": {
          "base_uri": "https://localhost:8080/"
        },
        "id": "E63vmmW1wjYP",
        "outputId": "3b57ddc9-f25e-4d6d-ea36-6a6e26511eba"
      },
      "execution_count": null,
      "outputs": [
        {
          "output_type": "stream",
          "name": "stdout",
          "text": [
            "267 linhas foram removidas\n",
            "(17432, 42)\n"
          ]
        }
      ]
    },
    {
      "cell_type": "code",
      "source": [
        "# Reinicia o index de cada instância\n",
        "data = data.reset_index(drop=True)"
      ],
      "metadata": {
        "id": "OaTar_euwpXa"
      },
      "execution_count": null,
      "outputs": []
    },
    {
      "cell_type": "markdown",
      "source": [
        "# Preenchimento de valores NaN do tipo float"
      ],
      "metadata": {
        "id": "yjjJUiZpwrvu"
      }
    },
    {
      "cell_type": "code",
      "source": [
        "# Dados faltantes\n",
        "faltantes = data.isnull().sum()\n",
        "faltantes"
      ],
      "metadata": {
        "colab": {
          "base_uri": "https://localhost:8080/"
        },
        "id": "Yw8ikTh9wyE-",
        "outputId": "d3bc3703-a4f5-4f5a-bc3f-ef0bc1378d6c"
      },
      "execution_count": null,
      "outputs": [
        {
          "output_type": "execute_result",
          "data": {
            "text/plain": [
              "DT_NOTIFIC       0\n",
              "DT_SIN_PRI       0\n",
              "CS_SEXO          0\n",
              "NU_IDADE_N       0\n",
              "CS_GESTANT     249\n",
              "NOSOCOMIAL    1582\n",
              "FEBRE         2871\n",
              "TOSSE         2271\n",
              "GARGANTA      4203\n",
              "DISPNEIA      2564\n",
              "DESC_RESP     3406\n",
              "SATURACAO     2756\n",
              "DIARREIA      4712\n",
              "VOMITO        4714\n",
              "OUTRO_SIN     4522\n",
              "FATOR_RISC       0\n",
              "CARDIOPATI    7639\n",
              "DIABETES      8314\n",
              "OUT_MORBI     7762\n",
              "ANTIVIRAL     2580\n",
              "HOSPITAL        73\n",
              "DT_INTERNA     486\n",
              "UTI            777\n",
              "SUPORT_VEN     607\n",
              "RAIOX_RES     6310\n",
              "AMOSTRA        360\n",
              "TP_AMOSTRA     809\n",
              "PCR_RESUL      722\n",
              "DT_PCR        6336\n",
              "POS_PCROUT    7362\n",
              "CRITERIO       331\n",
              "EVOLUCAO         0\n",
              "DT_EVOLUCA     137\n",
              "DOR_ABD       4883\n",
              "FADIGA        4567\n",
              "PERD_OLFT     5043\n",
              "PERD_PALA     5075\n",
              "TOMO_RES      7470\n",
              "RES_AN         523\n",
              "VACINA_COV     284\n",
              "DOSE_1_COV    4601\n",
              "DOSE_2_COV    5264\n",
              "dtype: int64"
            ]
          },
          "metadata": {},
          "execution_count": 23
        }
      ]
    },
    {
      "cell_type": "markdown",
      "source": [
        "Todos os NaN serão substituidos pelo valor da mediana daquele atributo."
      ],
      "metadata": {
        "id": "khSJlyy0w7Oo"
      }
    },
    {
      "cell_type": "code",
      "source": [
        "# Seleciona as colunas do tipo float\n",
        "colunas_float = data.select_dtypes(include='float64').columns\n",
        "\n",
        "# Substitui os valores NaN pela mediana de cada coluna\n",
        "data[colunas_float] = data[colunas_float].fillna(data[colunas_float].median().iloc[0])"
      ],
      "metadata": {
        "id": "gBDAF35Zw0yQ"
      },
      "execution_count": null,
      "outputs": []
    },
    {
      "cell_type": "code",
      "source": [
        "# Dados faltantes\n",
        "faltantes = data.isnull().sum()\n",
        "faltantes"
      ],
      "metadata": {
        "colab": {
          "base_uri": "https://localhost:8080/"
        },
        "id": "-zdzVkTWw00x",
        "outputId": "d172f0bd-0c14-4606-b877-3b55b6055bd5"
      },
      "execution_count": null,
      "outputs": [
        {
          "output_type": "execute_result",
          "data": {
            "text/plain": [
              "DT_NOTIFIC       0\n",
              "DT_SIN_PRI       0\n",
              "CS_SEXO          0\n",
              "NU_IDADE_N       0\n",
              "CS_GESTANT       0\n",
              "NOSOCOMIAL       0\n",
              "FEBRE            0\n",
              "TOSSE            0\n",
              "GARGANTA         0\n",
              "DISPNEIA         0\n",
              "DESC_RESP        0\n",
              "SATURACAO        0\n",
              "DIARREIA         0\n",
              "VOMITO           0\n",
              "OUTRO_SIN        0\n",
              "FATOR_RISC       0\n",
              "CARDIOPATI       0\n",
              "DIABETES         0\n",
              "OUT_MORBI        0\n",
              "ANTIVIRAL        0\n",
              "HOSPITAL         0\n",
              "DT_INTERNA     486\n",
              "UTI              0\n",
              "SUPORT_VEN       0\n",
              "RAIOX_RES        0\n",
              "AMOSTRA          0\n",
              "TP_AMOSTRA       0\n",
              "PCR_RESUL        0\n",
              "DT_PCR        6336\n",
              "POS_PCROUT       0\n",
              "CRITERIO         0\n",
              "EVOLUCAO         0\n",
              "DT_EVOLUCA     137\n",
              "DOR_ABD          0\n",
              "FADIGA           0\n",
              "PERD_OLFT        0\n",
              "PERD_PALA        0\n",
              "TOMO_RES         0\n",
              "RES_AN           0\n",
              "VACINA_COV       0\n",
              "DOSE_1_COV    4601\n",
              "DOSE_2_COV    5264\n",
              "dtype: int64"
            ]
          },
          "metadata": {},
          "execution_count": 25
        }
      ]
    },
    {
      "cell_type": "markdown",
      "source": [
        "# Tratando Datas"
      ],
      "metadata": {
        "id": "gHkOrHKMxQse"
      }
    },
    {
      "cell_type": "markdown",
      "source": [
        "Criação de uma coluna chamada \"QTD_DIAS\" que é resultante da relação entre data da Notificação do paciente até a Evolução."
      ],
      "metadata": {
        "id": "-qm8oLyKxVya"
      }
    },
    {
      "cell_type": "markdown",
      "source": [
        "*DT_NOTIFIC com DT_EVOLUCA*"
      ],
      "metadata": {
        "id": "7QHiPYlbMnEs"
      }
    },
    {
      "cell_type": "code",
      "source": [
        "# QTD_DIAS armazena a quantidade de dias desde a notificação até a evolução.\n",
        "data['QTD_DIAS'] = ''"
      ],
      "metadata": {
        "id": "vQ7Dgahcw038"
      },
      "execution_count": null,
      "outputs": []
    },
    {
      "cell_type": "code",
      "source": [
        "# Calcula o intervalo de dias entre duas datas\n",
        "def calcular_qtd_dias(row):\n",
        "  if pd.isna(row['DT_EVOLUCA']):\n",
        "    return np.nan\n",
        "  else:\n",
        "    data1 = datetime.strptime(row['DT_NOTIFIC'], '%d/%m/%Y')\n",
        "    data2 = datetime.strptime(row['DT_EVOLUCA'], '%d/%m/%Y')\n",
        "    dias = abs((data2 - data1).days)\n",
        "    return dias\n",
        "\n",
        "# Chama a função e atribui o resultado à coluna 'QTD_DIAS'\n",
        "data['QTD_DIAS'] = data.apply(calcular_qtd_dias, axis=1)"
      ],
      "metadata": {
        "id": "H1xKl65fxcjM"
      },
      "execution_count": null,
      "outputs": []
    },
    {
      "cell_type": "code",
      "source": [
        "data[['DT_NOTIFIC', 'DT_EVOLUCA', 'QTD_DIAS']]"
      ],
      "metadata": {
        "colab": {
          "base_uri": "https://localhost:8080/"
        },
        "id": "x8BN6BGXxcmW",
        "outputId": "98685a87-2ada-43b0-83fc-362e22fc057f"
      },
      "execution_count": null,
      "outputs": [
        {
          "output_type": "execute_result",
          "data": {
            "text/plain": [
              "       DT_NOTIFIC  DT_EVOLUCA  QTD_DIAS\n",
              "0      05/01/2022  06/01/2022       1.0\n",
              "1      07/01/2022  25/01/2022      18.0\n",
              "2      10/01/2022  13/01/2022       3.0\n",
              "3      19/01/2022  07/02/2022      19.0\n",
              "4      10/01/2022  13/01/2022       3.0\n",
              "...           ...         ...       ...\n",
              "17427  29/06/2022  29/06/2022       0.0\n",
              "17428  09/08/2022  12/08/2022       3.0\n",
              "17429  30/08/2022  01/09/2022       2.0\n",
              "17430  10/11/2022  17/11/2022       7.0\n",
              "17431  24/12/2022  29/12/2022       5.0\n",
              "\n",
              "[17432 rows x 3 columns]"
            ],
            "text/html": [
              "\n",
              "\n",
              "  <div id=\"df-07f3e192-b78d-4be1-846e-318ec842cf2b\">\n",
              "    <div class=\"colab-df-container\">\n",
              "      <div>\n",
              "<style scoped>\n",
              "    .dataframe tbody tr th:only-of-type {\n",
              "        vertical-align: middle;\n",
              "    }\n",
              "\n",
              "    .dataframe tbody tr th {\n",
              "        vertical-align: top;\n",
              "    }\n",
              "\n",
              "    .dataframe thead th {\n",
              "        text-align: right;\n",
              "    }\n",
              "</style>\n",
              "<table border=\"1\" class=\"dataframe\">\n",
              "  <thead>\n",
              "    <tr style=\"text-align: right;\">\n",
              "      <th></th>\n",
              "      <th>DT_NOTIFIC</th>\n",
              "      <th>DT_EVOLUCA</th>\n",
              "      <th>QTD_DIAS</th>\n",
              "    </tr>\n",
              "  </thead>\n",
              "  <tbody>\n",
              "    <tr>\n",
              "      <th>0</th>\n",
              "      <td>05/01/2022</td>\n",
              "      <td>06/01/2022</td>\n",
              "      <td>1.0</td>\n",
              "    </tr>\n",
              "    <tr>\n",
              "      <th>1</th>\n",
              "      <td>07/01/2022</td>\n",
              "      <td>25/01/2022</td>\n",
              "      <td>18.0</td>\n",
              "    </tr>\n",
              "    <tr>\n",
              "      <th>2</th>\n",
              "      <td>10/01/2022</td>\n",
              "      <td>13/01/2022</td>\n",
              "      <td>3.0</td>\n",
              "    </tr>\n",
              "    <tr>\n",
              "      <th>3</th>\n",
              "      <td>19/01/2022</td>\n",
              "      <td>07/02/2022</td>\n",
              "      <td>19.0</td>\n",
              "    </tr>\n",
              "    <tr>\n",
              "      <th>4</th>\n",
              "      <td>10/01/2022</td>\n",
              "      <td>13/01/2022</td>\n",
              "      <td>3.0</td>\n",
              "    </tr>\n",
              "    <tr>\n",
              "      <th>...</th>\n",
              "      <td>...</td>\n",
              "      <td>...</td>\n",
              "      <td>...</td>\n",
              "    </tr>\n",
              "    <tr>\n",
              "      <th>17427</th>\n",
              "      <td>29/06/2022</td>\n",
              "      <td>29/06/2022</td>\n",
              "      <td>0.0</td>\n",
              "    </tr>\n",
              "    <tr>\n",
              "      <th>17428</th>\n",
              "      <td>09/08/2022</td>\n",
              "      <td>12/08/2022</td>\n",
              "      <td>3.0</td>\n",
              "    </tr>\n",
              "    <tr>\n",
              "      <th>17429</th>\n",
              "      <td>30/08/2022</td>\n",
              "      <td>01/09/2022</td>\n",
              "      <td>2.0</td>\n",
              "    </tr>\n",
              "    <tr>\n",
              "      <th>17430</th>\n",
              "      <td>10/11/2022</td>\n",
              "      <td>17/11/2022</td>\n",
              "      <td>7.0</td>\n",
              "    </tr>\n",
              "    <tr>\n",
              "      <th>17431</th>\n",
              "      <td>24/12/2022</td>\n",
              "      <td>29/12/2022</td>\n",
              "      <td>5.0</td>\n",
              "    </tr>\n",
              "  </tbody>\n",
              "</table>\n",
              "<p>17432 rows × 3 columns</p>\n",
              "</div>\n",
              "      <button class=\"colab-df-convert\" onclick=\"convertToInteractive('df-07f3e192-b78d-4be1-846e-318ec842cf2b')\"\n",
              "              title=\"Convert this dataframe to an interactive table.\"\n",
              "              style=\"display:none;\">\n",
              "\n",
              "  <svg xmlns=\"http://www.w3.org/2000/svg\" height=\"24px\"viewBox=\"0 0 24 24\"\n",
              "       width=\"24px\">\n",
              "    <path d=\"M0 0h24v24H0V0z\" fill=\"none\"/>\n",
              "    <path d=\"M18.56 5.44l.94 2.06.94-2.06 2.06-.94-2.06-.94-.94-2.06-.94 2.06-2.06.94zm-11 1L8.5 8.5l.94-2.06 2.06-.94-2.06-.94L8.5 2.5l-.94 2.06-2.06.94zm10 10l.94 2.06.94-2.06 2.06-.94-2.06-.94-.94-2.06-.94 2.06-2.06.94z\"/><path d=\"M17.41 7.96l-1.37-1.37c-.4-.4-.92-.59-1.43-.59-.52 0-1.04.2-1.43.59L10.3 9.45l-7.72 7.72c-.78.78-.78 2.05 0 2.83L4 21.41c.39.39.9.59 1.41.59.51 0 1.02-.2 1.41-.59l7.78-7.78 2.81-2.81c.8-.78.8-2.07 0-2.86zM5.41 20L4 18.59l7.72-7.72 1.47 1.35L5.41 20z\"/>\n",
              "  </svg>\n",
              "      </button>\n",
              "\n",
              "\n",
              "\n",
              "    <div id=\"df-86cfa5ac-c3fe-49f2-b2af-9c90da6b5d20\">\n",
              "      <button class=\"colab-df-quickchart\" onclick=\"quickchart('df-86cfa5ac-c3fe-49f2-b2af-9c90da6b5d20')\"\n",
              "              title=\"Suggest charts.\"\n",
              "              style=\"display:none;\">\n",
              "\n",
              "<svg xmlns=\"http://www.w3.org/2000/svg\" height=\"24px\"viewBox=\"0 0 24 24\"\n",
              "     width=\"24px\">\n",
              "    <g>\n",
              "        <path d=\"M19 3H5c-1.1 0-2 .9-2 2v14c0 1.1.9 2 2 2h14c1.1 0 2-.9 2-2V5c0-1.1-.9-2-2-2zM9 17H7v-7h2v7zm4 0h-2V7h2v10zm4 0h-2v-4h2v4z\"/>\n",
              "    </g>\n",
              "</svg>\n",
              "      </button>\n",
              "    </div>\n",
              "\n",
              "<style>\n",
              "  .colab-df-quickchart {\n",
              "    background-color: #E8F0FE;\n",
              "    border: none;\n",
              "    border-radius: 50%;\n",
              "    cursor: pointer;\n",
              "    display: none;\n",
              "    fill: #1967D2;\n",
              "    height: 32px;\n",
              "    padding: 0 0 0 0;\n",
              "    width: 32px;\n",
              "  }\n",
              "\n",
              "  .colab-df-quickchart:hover {\n",
              "    background-color: #E2EBFA;\n",
              "    box-shadow: 0px 1px 2px rgba(60, 64, 67, 0.3), 0px 1px 3px 1px rgba(60, 64, 67, 0.15);\n",
              "    fill: #174EA6;\n",
              "  }\n",
              "\n",
              "  [theme=dark] .colab-df-quickchart {\n",
              "    background-color: #3B4455;\n",
              "    fill: #D2E3FC;\n",
              "  }\n",
              "\n",
              "  [theme=dark] .colab-df-quickchart:hover {\n",
              "    background-color: #434B5C;\n",
              "    box-shadow: 0px 1px 3px 1px rgba(0, 0, 0, 0.15);\n",
              "    filter: drop-shadow(0px 1px 2px rgba(0, 0, 0, 0.3));\n",
              "    fill: #FFFFFF;\n",
              "  }\n",
              "</style>\n",
              "\n",
              "    <script>\n",
              "      async function quickchart(key) {\n",
              "        const containerElement = document.querySelector('#' + key);\n",
              "        const charts = await google.colab.kernel.invokeFunction(\n",
              "            'suggestCharts', [key], {});\n",
              "      }\n",
              "    </script>\n",
              "\n",
              "      <script>\n",
              "\n",
              "function displayQuickchartButton(domScope) {\n",
              "  let quickchartButtonEl =\n",
              "    domScope.querySelector('#df-86cfa5ac-c3fe-49f2-b2af-9c90da6b5d20 button.colab-df-quickchart');\n",
              "  quickchartButtonEl.style.display =\n",
              "    google.colab.kernel.accessAllowed ? 'block' : 'none';\n",
              "}\n",
              "\n",
              "        displayQuickchartButton(document);\n",
              "      </script>\n",
              "      <style>\n",
              "    .colab-df-container {\n",
              "      display:flex;\n",
              "      flex-wrap:wrap;\n",
              "      gap: 12px;\n",
              "    }\n",
              "\n",
              "    .colab-df-convert {\n",
              "      background-color: #E8F0FE;\n",
              "      border: none;\n",
              "      border-radius: 50%;\n",
              "      cursor: pointer;\n",
              "      display: none;\n",
              "      fill: #1967D2;\n",
              "      height: 32px;\n",
              "      padding: 0 0 0 0;\n",
              "      width: 32px;\n",
              "    }\n",
              "\n",
              "    .colab-df-convert:hover {\n",
              "      background-color: #E2EBFA;\n",
              "      box-shadow: 0px 1px 2px rgba(60, 64, 67, 0.3), 0px 1px 3px 1px rgba(60, 64, 67, 0.15);\n",
              "      fill: #174EA6;\n",
              "    }\n",
              "\n",
              "    [theme=dark] .colab-df-convert {\n",
              "      background-color: #3B4455;\n",
              "      fill: #D2E3FC;\n",
              "    }\n",
              "\n",
              "    [theme=dark] .colab-df-convert:hover {\n",
              "      background-color: #434B5C;\n",
              "      box-shadow: 0px 1px 3px 1px rgba(0, 0, 0, 0.15);\n",
              "      filter: drop-shadow(0px 1px 2px rgba(0, 0, 0, 0.3));\n",
              "      fill: #FFFFFF;\n",
              "    }\n",
              "  </style>\n",
              "\n",
              "      <script>\n",
              "        const buttonEl =\n",
              "          document.querySelector('#df-07f3e192-b78d-4be1-846e-318ec842cf2b button.colab-df-convert');\n",
              "        buttonEl.style.display =\n",
              "          google.colab.kernel.accessAllowed ? 'block' : 'none';\n",
              "\n",
              "        async function convertToInteractive(key) {\n",
              "          const element = document.querySelector('#df-07f3e192-b78d-4be1-846e-318ec842cf2b');\n",
              "          const dataTable =\n",
              "            await google.colab.kernel.invokeFunction('convertToInteractive',\n",
              "                                                     [key], {});\n",
              "          if (!dataTable) return;\n",
              "\n",
              "          const docLinkHtml = 'Like what you see? Visit the ' +\n",
              "            '<a target=\"_blank\" href=https://colab.research.google.com/notebooks/data_table.ipynb>data table notebook</a>'\n",
              "            + ' to learn more about interactive tables.';\n",
              "          element.innerHTML = '';\n",
              "          dataTable['output_type'] = 'display_data';\n",
              "          await google.colab.output.renderOutput(dataTable, element);\n",
              "          const docLink = document.createElement('div');\n",
              "          docLink.innerHTML = docLinkHtml;\n",
              "          element.appendChild(docLink);\n",
              "        }\n",
              "      </script>\n",
              "    </div>\n",
              "  </div>\n"
            ]
          },
          "metadata": {},
          "execution_count": 28
        }
      ]
    },
    {
      "cell_type": "code",
      "source": [
        "data['QTD_DIAS'].info()"
      ],
      "metadata": {
        "colab": {
          "base_uri": "https://localhost:8080/"
        },
        "id": "7TK3nH9oxco5",
        "outputId": "063ba48e-c0a6-46e0-ced9-744240835b44"
      },
      "execution_count": null,
      "outputs": [
        {
          "output_type": "stream",
          "name": "stdout",
          "text": [
            "<class 'pandas.core.series.Series'>\n",
            "RangeIndex: 17432 entries, 0 to 17431\n",
            "Series name: QTD_DIAS\n",
            "Non-Null Count  Dtype  \n",
            "--------------  -----  \n",
            "17295 non-null  float64\n",
            "dtypes: float64(1)\n",
            "memory usage: 136.3 KB\n"
          ]
        }
      ]
    },
    {
      "cell_type": "code",
      "source": [
        "# Calcula a mediana de 'QTD_DIAS'\n",
        "data['QTD_DIAS'].median()"
      ],
      "metadata": {
        "colab": {
          "base_uri": "https://localhost:8080/"
        },
        "id": "zIRzdYRdxcr5",
        "outputId": "0ad7e1a5-2b99-43fc-c227-1aba357e2c9e"
      },
      "execution_count": null,
      "outputs": [
        {
          "output_type": "execute_result",
          "data": {
            "text/plain": [
              "5.0"
            ]
          },
          "metadata": {},
          "execution_count": 30
        }
      ]
    },
    {
      "cell_type": "code",
      "source": [
        "# Conta os valores NaN em 'QTD_DIAS'\n",
        "data['QTD_DIAS'].isnull().sum()"
      ],
      "metadata": {
        "colab": {
          "base_uri": "https://localhost:8080/"
        },
        "id": "p8rDJBgsxcua",
        "outputId": "76ea1048-dabc-4e6a-d01d-54f0420ee671"
      },
      "execution_count": null,
      "outputs": [
        {
          "output_type": "execute_result",
          "data": {
            "text/plain": [
              "137"
            ]
          },
          "metadata": {},
          "execution_count": 31
        }
      ]
    },
    {
      "cell_type": "code",
      "source": [
        "# Preenche valores NaN com a mediana\n",
        "data['QTD_DIAS'].fillna(data['QTD_DIAS'].median(), inplace=True)"
      ],
      "metadata": {
        "id": "nBA5MhPTw06y"
      },
      "execution_count": null,
      "outputs": []
    },
    {
      "cell_type": "code",
      "source": [
        "# Converte o tipo de dados de float para int\n",
        "data['QTD_DIAS'] = data['QTD_DIAS'].astype(int)"
      ],
      "metadata": {
        "id": "7VNHz0NuxyS0"
      },
      "execution_count": null,
      "outputs": []
    },
    {
      "cell_type": "code",
      "source": [
        "data['QTD_DIAS'].info()"
      ],
      "metadata": {
        "colab": {
          "base_uri": "https://localhost:8080/"
        },
        "id": "Vh2fKQfpxyYK",
        "outputId": "b8a0c71c-7029-4be8-dc72-b7bd8c661ea8"
      },
      "execution_count": null,
      "outputs": [
        {
          "output_type": "stream",
          "name": "stdout",
          "text": [
            "<class 'pandas.core.series.Series'>\n",
            "RangeIndex: 17432 entries, 0 to 17431\n",
            "Series name: QTD_DIAS\n",
            "Non-Null Count  Dtype\n",
            "--------------  -----\n",
            "17432 non-null  int64\n",
            "dtypes: int64(1)\n",
            "memory usage: 136.3 KB\n"
          ]
        }
      ]
    },
    {
      "cell_type": "markdown",
      "source": [
        "Criação de uma coluna chamada \"DIAS_INTERNA\" que representa a quantidade de dias que um paciente ficou hospitalizado."
      ],
      "metadata": {
        "id": "XDiss8pwx5cQ"
      }
    },
    {
      "cell_type": "markdown",
      "source": [
        "*DT_INTERNA com DT_EVOLUCA*"
      ],
      "metadata": {
        "id": "6Ymso8ATM5x4"
      }
    },
    {
      "cell_type": "code",
      "source": [
        "# DIAS_INTERNA armazena a quantidade de dias internado desde a data de internação\n",
        "# até a evolução.\n",
        "data['DIAS_INTERNA'] = ''"
      ],
      "metadata": {
        "id": "XZ_jlRenxybK"
      },
      "execution_count": null,
      "outputs": []
    },
    {
      "cell_type": "code",
      "source": [
        "# Calcula o intervalo de dias entre duas datas\n",
        "def calc_dias_interna(row):\n",
        "  if row['HOSPITAL'] == 1:\n",
        "    if pd.isna(row['DT_INTERNA']) or pd.isna(row['DT_EVOLUCA']):\n",
        "      return np.nan\n",
        "    else:\n",
        "      data1 = datetime.strptime(row['DT_INTERNA'], '%d/%m/%Y')\n",
        "      data2 = datetime.strptime(row['DT_EVOLUCA'], '%d/%m/%Y')\n",
        "      return abs((data2 - data1).days)\n",
        "  else:\n",
        "    return 0\n",
        "\n",
        "# Chama a função e atribui o resultado à coluna 'DIAS_INTERNA'\n",
        "data['DIAS_INTERNA'] = data.apply(calc_dias_interna, axis=1)"
      ],
      "metadata": {
        "id": "sgiIPH4pxyd2"
      },
      "execution_count": null,
      "outputs": []
    },
    {
      "cell_type": "code",
      "source": [
        "data[['DT_INTERNA', 'DT_EVOLUCA', 'DIAS_INTERNA']]"
      ],
      "metadata": {
        "colab": {
          "base_uri": "https://localhost:8080/"
        },
        "id": "kkSsAeuYxyg2",
        "outputId": "0ebcec35-f40e-44c0-e727-fd8c7f7992f1"
      },
      "execution_count": null,
      "outputs": [
        {
          "output_type": "execute_result",
          "data": {
            "text/plain": [
              "       DT_INTERNA  DT_EVOLUCA  DIAS_INTERNA\n",
              "0      05/01/2022  06/01/2022           1.0\n",
              "1      07/01/2022  25/01/2022          18.0\n",
              "2      11/01/2022  13/01/2022           2.0\n",
              "3      19/01/2022  07/02/2022          19.0\n",
              "4      10/01/2022  13/01/2022           3.0\n",
              "...           ...         ...           ...\n",
              "17427  28/06/2022  29/06/2022           1.0\n",
              "17428  09/08/2022  12/08/2022           3.0\n",
              "17429  30/08/2022  01/09/2022           2.0\n",
              "17430  09/11/2022  17/11/2022           8.0\n",
              "17431  24/12/2022  29/12/2022           5.0\n",
              "\n",
              "[17432 rows x 3 columns]"
            ],
            "text/html": [
              "\n",
              "\n",
              "  <div id=\"df-d980e00a-6293-445e-a6d2-9817fad78783\">\n",
              "    <div class=\"colab-df-container\">\n",
              "      <div>\n",
              "<style scoped>\n",
              "    .dataframe tbody tr th:only-of-type {\n",
              "        vertical-align: middle;\n",
              "    }\n",
              "\n",
              "    .dataframe tbody tr th {\n",
              "        vertical-align: top;\n",
              "    }\n",
              "\n",
              "    .dataframe thead th {\n",
              "        text-align: right;\n",
              "    }\n",
              "</style>\n",
              "<table border=\"1\" class=\"dataframe\">\n",
              "  <thead>\n",
              "    <tr style=\"text-align: right;\">\n",
              "      <th></th>\n",
              "      <th>DT_INTERNA</th>\n",
              "      <th>DT_EVOLUCA</th>\n",
              "      <th>DIAS_INTERNA</th>\n",
              "    </tr>\n",
              "  </thead>\n",
              "  <tbody>\n",
              "    <tr>\n",
              "      <th>0</th>\n",
              "      <td>05/01/2022</td>\n",
              "      <td>06/01/2022</td>\n",
              "      <td>1.0</td>\n",
              "    </tr>\n",
              "    <tr>\n",
              "      <th>1</th>\n",
              "      <td>07/01/2022</td>\n",
              "      <td>25/01/2022</td>\n",
              "      <td>18.0</td>\n",
              "    </tr>\n",
              "    <tr>\n",
              "      <th>2</th>\n",
              "      <td>11/01/2022</td>\n",
              "      <td>13/01/2022</td>\n",
              "      <td>2.0</td>\n",
              "    </tr>\n",
              "    <tr>\n",
              "      <th>3</th>\n",
              "      <td>19/01/2022</td>\n",
              "      <td>07/02/2022</td>\n",
              "      <td>19.0</td>\n",
              "    </tr>\n",
              "    <tr>\n",
              "      <th>4</th>\n",
              "      <td>10/01/2022</td>\n",
              "      <td>13/01/2022</td>\n",
              "      <td>3.0</td>\n",
              "    </tr>\n",
              "    <tr>\n",
              "      <th>...</th>\n",
              "      <td>...</td>\n",
              "      <td>...</td>\n",
              "      <td>...</td>\n",
              "    </tr>\n",
              "    <tr>\n",
              "      <th>17427</th>\n",
              "      <td>28/06/2022</td>\n",
              "      <td>29/06/2022</td>\n",
              "      <td>1.0</td>\n",
              "    </tr>\n",
              "    <tr>\n",
              "      <th>17428</th>\n",
              "      <td>09/08/2022</td>\n",
              "      <td>12/08/2022</td>\n",
              "      <td>3.0</td>\n",
              "    </tr>\n",
              "    <tr>\n",
              "      <th>17429</th>\n",
              "      <td>30/08/2022</td>\n",
              "      <td>01/09/2022</td>\n",
              "      <td>2.0</td>\n",
              "    </tr>\n",
              "    <tr>\n",
              "      <th>17430</th>\n",
              "      <td>09/11/2022</td>\n",
              "      <td>17/11/2022</td>\n",
              "      <td>8.0</td>\n",
              "    </tr>\n",
              "    <tr>\n",
              "      <th>17431</th>\n",
              "      <td>24/12/2022</td>\n",
              "      <td>29/12/2022</td>\n",
              "      <td>5.0</td>\n",
              "    </tr>\n",
              "  </tbody>\n",
              "</table>\n",
              "<p>17432 rows × 3 columns</p>\n",
              "</div>\n",
              "      <button class=\"colab-df-convert\" onclick=\"convertToInteractive('df-d980e00a-6293-445e-a6d2-9817fad78783')\"\n",
              "              title=\"Convert this dataframe to an interactive table.\"\n",
              "              style=\"display:none;\">\n",
              "\n",
              "  <svg xmlns=\"http://www.w3.org/2000/svg\" height=\"24px\"viewBox=\"0 0 24 24\"\n",
              "       width=\"24px\">\n",
              "    <path d=\"M0 0h24v24H0V0z\" fill=\"none\"/>\n",
              "    <path d=\"M18.56 5.44l.94 2.06.94-2.06 2.06-.94-2.06-.94-.94-2.06-.94 2.06-2.06.94zm-11 1L8.5 8.5l.94-2.06 2.06-.94-2.06-.94L8.5 2.5l-.94 2.06-2.06.94zm10 10l.94 2.06.94-2.06 2.06-.94-2.06-.94-.94-2.06-.94 2.06-2.06.94z\"/><path d=\"M17.41 7.96l-1.37-1.37c-.4-.4-.92-.59-1.43-.59-.52 0-1.04.2-1.43.59L10.3 9.45l-7.72 7.72c-.78.78-.78 2.05 0 2.83L4 21.41c.39.39.9.59 1.41.59.51 0 1.02-.2 1.41-.59l7.78-7.78 2.81-2.81c.8-.78.8-2.07 0-2.86zM5.41 20L4 18.59l7.72-7.72 1.47 1.35L5.41 20z\"/>\n",
              "  </svg>\n",
              "      </button>\n",
              "\n",
              "\n",
              "\n",
              "    <div id=\"df-d319cb0a-a28a-4d29-9467-2e243af08cb9\">\n",
              "      <button class=\"colab-df-quickchart\" onclick=\"quickchart('df-d319cb0a-a28a-4d29-9467-2e243af08cb9')\"\n",
              "              title=\"Suggest charts.\"\n",
              "              style=\"display:none;\">\n",
              "\n",
              "<svg xmlns=\"http://www.w3.org/2000/svg\" height=\"24px\"viewBox=\"0 0 24 24\"\n",
              "     width=\"24px\">\n",
              "    <g>\n",
              "        <path d=\"M19 3H5c-1.1 0-2 .9-2 2v14c0 1.1.9 2 2 2h14c1.1 0 2-.9 2-2V5c0-1.1-.9-2-2-2zM9 17H7v-7h2v7zm4 0h-2V7h2v10zm4 0h-2v-4h2v4z\"/>\n",
              "    </g>\n",
              "</svg>\n",
              "      </button>\n",
              "    </div>\n",
              "\n",
              "<style>\n",
              "  .colab-df-quickchart {\n",
              "    background-color: #E8F0FE;\n",
              "    border: none;\n",
              "    border-radius: 50%;\n",
              "    cursor: pointer;\n",
              "    display: none;\n",
              "    fill: #1967D2;\n",
              "    height: 32px;\n",
              "    padding: 0 0 0 0;\n",
              "    width: 32px;\n",
              "  }\n",
              "\n",
              "  .colab-df-quickchart:hover {\n",
              "    background-color: #E2EBFA;\n",
              "    box-shadow: 0px 1px 2px rgba(60, 64, 67, 0.3), 0px 1px 3px 1px rgba(60, 64, 67, 0.15);\n",
              "    fill: #174EA6;\n",
              "  }\n",
              "\n",
              "  [theme=dark] .colab-df-quickchart {\n",
              "    background-color: #3B4455;\n",
              "    fill: #D2E3FC;\n",
              "  }\n",
              "\n",
              "  [theme=dark] .colab-df-quickchart:hover {\n",
              "    background-color: #434B5C;\n",
              "    box-shadow: 0px 1px 3px 1px rgba(0, 0, 0, 0.15);\n",
              "    filter: drop-shadow(0px 1px 2px rgba(0, 0, 0, 0.3));\n",
              "    fill: #FFFFFF;\n",
              "  }\n",
              "</style>\n",
              "\n",
              "    <script>\n",
              "      async function quickchart(key) {\n",
              "        const containerElement = document.querySelector('#' + key);\n",
              "        const charts = await google.colab.kernel.invokeFunction(\n",
              "            'suggestCharts', [key], {});\n",
              "      }\n",
              "    </script>\n",
              "\n",
              "      <script>\n",
              "\n",
              "function displayQuickchartButton(domScope) {\n",
              "  let quickchartButtonEl =\n",
              "    domScope.querySelector('#df-d319cb0a-a28a-4d29-9467-2e243af08cb9 button.colab-df-quickchart');\n",
              "  quickchartButtonEl.style.display =\n",
              "    google.colab.kernel.accessAllowed ? 'block' : 'none';\n",
              "}\n",
              "\n",
              "        displayQuickchartButton(document);\n",
              "      </script>\n",
              "      <style>\n",
              "    .colab-df-container {\n",
              "      display:flex;\n",
              "      flex-wrap:wrap;\n",
              "      gap: 12px;\n",
              "    }\n",
              "\n",
              "    .colab-df-convert {\n",
              "      background-color: #E8F0FE;\n",
              "      border: none;\n",
              "      border-radius: 50%;\n",
              "      cursor: pointer;\n",
              "      display: none;\n",
              "      fill: #1967D2;\n",
              "      height: 32px;\n",
              "      padding: 0 0 0 0;\n",
              "      width: 32px;\n",
              "    }\n",
              "\n",
              "    .colab-df-convert:hover {\n",
              "      background-color: #E2EBFA;\n",
              "      box-shadow: 0px 1px 2px rgba(60, 64, 67, 0.3), 0px 1px 3px 1px rgba(60, 64, 67, 0.15);\n",
              "      fill: #174EA6;\n",
              "    }\n",
              "\n",
              "    [theme=dark] .colab-df-convert {\n",
              "      background-color: #3B4455;\n",
              "      fill: #D2E3FC;\n",
              "    }\n",
              "\n",
              "    [theme=dark] .colab-df-convert:hover {\n",
              "      background-color: #434B5C;\n",
              "      box-shadow: 0px 1px 3px 1px rgba(0, 0, 0, 0.15);\n",
              "      filter: drop-shadow(0px 1px 2px rgba(0, 0, 0, 0.3));\n",
              "      fill: #FFFFFF;\n",
              "    }\n",
              "  </style>\n",
              "\n",
              "      <script>\n",
              "        const buttonEl =\n",
              "          document.querySelector('#df-d980e00a-6293-445e-a6d2-9817fad78783 button.colab-df-convert');\n",
              "        buttonEl.style.display =\n",
              "          google.colab.kernel.accessAllowed ? 'block' : 'none';\n",
              "\n",
              "        async function convertToInteractive(key) {\n",
              "          const element = document.querySelector('#df-d980e00a-6293-445e-a6d2-9817fad78783');\n",
              "          const dataTable =\n",
              "            await google.colab.kernel.invokeFunction('convertToInteractive',\n",
              "                                                     [key], {});\n",
              "          if (!dataTable) return;\n",
              "\n",
              "          const docLinkHtml = 'Like what you see? Visit the ' +\n",
              "            '<a target=\"_blank\" href=https://colab.research.google.com/notebooks/data_table.ipynb>data table notebook</a>'\n",
              "            + ' to learn more about interactive tables.';\n",
              "          element.innerHTML = '';\n",
              "          dataTable['output_type'] = 'display_data';\n",
              "          await google.colab.output.renderOutput(dataTable, element);\n",
              "          const docLink = document.createElement('div');\n",
              "          docLink.innerHTML = docLinkHtml;\n",
              "          element.appendChild(docLink);\n",
              "        }\n",
              "      </script>\n",
              "    </div>\n",
              "  </div>\n"
            ]
          },
          "metadata": {},
          "execution_count": 37
        }
      ]
    },
    {
      "cell_type": "code",
      "source": [
        "data['DIAS_INTERNA'].info()"
      ],
      "metadata": {
        "colab": {
          "base_uri": "https://localhost:8080/"
        },
        "id": "zlAGuibAxyko",
        "outputId": "b3bd15e6-0d93-4f5b-90c5-3d29f645966d"
      },
      "execution_count": null,
      "outputs": [
        {
          "output_type": "stream",
          "name": "stdout",
          "text": [
            "<class 'pandas.core.series.Series'>\n",
            "RangeIndex: 17432 entries, 0 to 17431\n",
            "Series name: DIAS_INTERNA\n",
            "Non-Null Count  Dtype  \n",
            "--------------  -----  \n",
            "17255 non-null  float64\n",
            "dtypes: float64(1)\n",
            "memory usage: 136.3 KB\n"
          ]
        }
      ]
    },
    {
      "cell_type": "code",
      "source": [
        "# Calcula a mediana de 'DIAS_INTERNA'\n",
        "data['DIAS_INTERNA'].median()"
      ],
      "metadata": {
        "colab": {
          "base_uri": "https://localhost:8080/"
        },
        "id": "GOmGuTVsxyoQ",
        "outputId": "bd0f5ca6-355f-405b-f584-6f3141e601da"
      },
      "execution_count": null,
      "outputs": [
        {
          "output_type": "execute_result",
          "data": {
            "text/plain": [
              "5.0"
            ]
          },
          "metadata": {},
          "execution_count": 39
        }
      ]
    },
    {
      "cell_type": "code",
      "source": [
        "# Conta os valores NaN em 'DIAS_INTERNA'\n",
        "data['DIAS_INTERNA'].isnull().sum()"
      ],
      "metadata": {
        "colab": {
          "base_uri": "https://localhost:8080/"
        },
        "id": "g2dow9WGyPxB",
        "outputId": "f1271673-a9b2-4121-cddb-fc511e115d03"
      },
      "execution_count": null,
      "outputs": [
        {
          "output_type": "execute_result",
          "data": {
            "text/plain": [
              "177"
            ]
          },
          "metadata": {},
          "execution_count": 40
        }
      ]
    },
    {
      "cell_type": "code",
      "source": [
        "# Preenche valores NaN com a mediana\n",
        "data['DIAS_INTERNA'].fillna(data['DIAS_INTERNA'].median(), inplace=True)"
      ],
      "metadata": {
        "id": "bwvZBrdmyPuq"
      },
      "execution_count": null,
      "outputs": []
    },
    {
      "cell_type": "code",
      "source": [
        "# Converte o tipo de dados de float para int\n",
        "data['DIAS_INTERNA'] = data['DIAS_INTERNA'].astype(int)"
      ],
      "metadata": {
        "id": "yaT9aerlyPr0"
      },
      "execution_count": null,
      "outputs": []
    },
    {
      "cell_type": "code",
      "source": [
        "data['DIAS_INTERNA'].info()"
      ],
      "metadata": {
        "colab": {
          "base_uri": "https://localhost:8080/"
        },
        "id": "n4jltrGYyPo0",
        "outputId": "571e6615-2fd9-4ee1-d29f-46067d9981f1"
      },
      "execution_count": null,
      "outputs": [
        {
          "output_type": "stream",
          "name": "stdout",
          "text": [
            "<class 'pandas.core.series.Series'>\n",
            "RangeIndex: 17432 entries, 0 to 17431\n",
            "Series name: DIAS_INTERNA\n",
            "Non-Null Count  Dtype\n",
            "--------------  -----\n",
            "17432 non-null  int64\n",
            "dtypes: int64(1)\n",
            "memory usage: 136.3 KB\n"
          ]
        }
      ]
    },
    {
      "cell_type": "code",
      "source": [
        "data[['DT_INTERNA', 'DT_EVOLUCA', 'DT_SIN_PRI', 'DT_NOTIFIC', 'DT_PCR']]"
      ],
      "metadata": {
        "colab": {
          "base_uri": "https://localhost:8080/"
        },
        "id": "_WgxLIVgyPl9",
        "outputId": "11642f56-d804-4bf5-8852-856388bcb3c3"
      },
      "execution_count": null,
      "outputs": [
        {
          "output_type": "execute_result",
          "data": {
            "text/plain": [
              "       DT_INTERNA  DT_EVOLUCA  DT_SIN_PRI  DT_NOTIFIC      DT_PCR\n",
              "0      05/01/2022  06/01/2022  03/01/2022  05/01/2022  09/01/2022\n",
              "1      07/01/2022  25/01/2022  05/01/2022  07/01/2022         NaN\n",
              "2      11/01/2022  13/01/2022  07/01/2022  10/01/2022  13/01/2022\n",
              "3      19/01/2022  07/02/2022  06/01/2022  19/01/2022  21/01/2022\n",
              "4      10/01/2022  13/01/2022  10/01/2022  10/01/2022  13/01/2022\n",
              "...           ...         ...         ...         ...         ...\n",
              "17427  28/06/2022  29/06/2022  26/06/2022  29/06/2022         NaN\n",
              "17428  09/08/2022  12/08/2022  06/08/2022  09/08/2022  15/08/2022\n",
              "17429  30/08/2022  01/09/2022  27/08/2022  30/08/2022  02/09/2022\n",
              "17430  09/11/2022  17/11/2022  03/11/2022  10/11/2022  17/11/2022\n",
              "17431  24/12/2022  29/12/2022  24/12/2022  24/12/2022  26/12/2022\n",
              "\n",
              "[17432 rows x 5 columns]"
            ],
            "text/html": [
              "\n",
              "\n",
              "  <div id=\"df-857c55f9-143e-40ed-bcc3-65e6cab67f3f\">\n",
              "    <div class=\"colab-df-container\">\n",
              "      <div>\n",
              "<style scoped>\n",
              "    .dataframe tbody tr th:only-of-type {\n",
              "        vertical-align: middle;\n",
              "    }\n",
              "\n",
              "    .dataframe tbody tr th {\n",
              "        vertical-align: top;\n",
              "    }\n",
              "\n",
              "    .dataframe thead th {\n",
              "        text-align: right;\n",
              "    }\n",
              "</style>\n",
              "<table border=\"1\" class=\"dataframe\">\n",
              "  <thead>\n",
              "    <tr style=\"text-align: right;\">\n",
              "      <th></th>\n",
              "      <th>DT_INTERNA</th>\n",
              "      <th>DT_EVOLUCA</th>\n",
              "      <th>DT_SIN_PRI</th>\n",
              "      <th>DT_NOTIFIC</th>\n",
              "      <th>DT_PCR</th>\n",
              "    </tr>\n",
              "  </thead>\n",
              "  <tbody>\n",
              "    <tr>\n",
              "      <th>0</th>\n",
              "      <td>05/01/2022</td>\n",
              "      <td>06/01/2022</td>\n",
              "      <td>03/01/2022</td>\n",
              "      <td>05/01/2022</td>\n",
              "      <td>09/01/2022</td>\n",
              "    </tr>\n",
              "    <tr>\n",
              "      <th>1</th>\n",
              "      <td>07/01/2022</td>\n",
              "      <td>25/01/2022</td>\n",
              "      <td>05/01/2022</td>\n",
              "      <td>07/01/2022</td>\n",
              "      <td>NaN</td>\n",
              "    </tr>\n",
              "    <tr>\n",
              "      <th>2</th>\n",
              "      <td>11/01/2022</td>\n",
              "      <td>13/01/2022</td>\n",
              "      <td>07/01/2022</td>\n",
              "      <td>10/01/2022</td>\n",
              "      <td>13/01/2022</td>\n",
              "    </tr>\n",
              "    <tr>\n",
              "      <th>3</th>\n",
              "      <td>19/01/2022</td>\n",
              "      <td>07/02/2022</td>\n",
              "      <td>06/01/2022</td>\n",
              "      <td>19/01/2022</td>\n",
              "      <td>21/01/2022</td>\n",
              "    </tr>\n",
              "    <tr>\n",
              "      <th>4</th>\n",
              "      <td>10/01/2022</td>\n",
              "      <td>13/01/2022</td>\n",
              "      <td>10/01/2022</td>\n",
              "      <td>10/01/2022</td>\n",
              "      <td>13/01/2022</td>\n",
              "    </tr>\n",
              "    <tr>\n",
              "      <th>...</th>\n",
              "      <td>...</td>\n",
              "      <td>...</td>\n",
              "      <td>...</td>\n",
              "      <td>...</td>\n",
              "      <td>...</td>\n",
              "    </tr>\n",
              "    <tr>\n",
              "      <th>17427</th>\n",
              "      <td>28/06/2022</td>\n",
              "      <td>29/06/2022</td>\n",
              "      <td>26/06/2022</td>\n",
              "      <td>29/06/2022</td>\n",
              "      <td>NaN</td>\n",
              "    </tr>\n",
              "    <tr>\n",
              "      <th>17428</th>\n",
              "      <td>09/08/2022</td>\n",
              "      <td>12/08/2022</td>\n",
              "      <td>06/08/2022</td>\n",
              "      <td>09/08/2022</td>\n",
              "      <td>15/08/2022</td>\n",
              "    </tr>\n",
              "    <tr>\n",
              "      <th>17429</th>\n",
              "      <td>30/08/2022</td>\n",
              "      <td>01/09/2022</td>\n",
              "      <td>27/08/2022</td>\n",
              "      <td>30/08/2022</td>\n",
              "      <td>02/09/2022</td>\n",
              "    </tr>\n",
              "    <tr>\n",
              "      <th>17430</th>\n",
              "      <td>09/11/2022</td>\n",
              "      <td>17/11/2022</td>\n",
              "      <td>03/11/2022</td>\n",
              "      <td>10/11/2022</td>\n",
              "      <td>17/11/2022</td>\n",
              "    </tr>\n",
              "    <tr>\n",
              "      <th>17431</th>\n",
              "      <td>24/12/2022</td>\n",
              "      <td>29/12/2022</td>\n",
              "      <td>24/12/2022</td>\n",
              "      <td>24/12/2022</td>\n",
              "      <td>26/12/2022</td>\n",
              "    </tr>\n",
              "  </tbody>\n",
              "</table>\n",
              "<p>17432 rows × 5 columns</p>\n",
              "</div>\n",
              "      <button class=\"colab-df-convert\" onclick=\"convertToInteractive('df-857c55f9-143e-40ed-bcc3-65e6cab67f3f')\"\n",
              "              title=\"Convert this dataframe to an interactive table.\"\n",
              "              style=\"display:none;\">\n",
              "\n",
              "  <svg xmlns=\"http://www.w3.org/2000/svg\" height=\"24px\"viewBox=\"0 0 24 24\"\n",
              "       width=\"24px\">\n",
              "    <path d=\"M0 0h24v24H0V0z\" fill=\"none\"/>\n",
              "    <path d=\"M18.56 5.44l.94 2.06.94-2.06 2.06-.94-2.06-.94-.94-2.06-.94 2.06-2.06.94zm-11 1L8.5 8.5l.94-2.06 2.06-.94-2.06-.94L8.5 2.5l-.94 2.06-2.06.94zm10 10l.94 2.06.94-2.06 2.06-.94-2.06-.94-.94-2.06-.94 2.06-2.06.94z\"/><path d=\"M17.41 7.96l-1.37-1.37c-.4-.4-.92-.59-1.43-.59-.52 0-1.04.2-1.43.59L10.3 9.45l-7.72 7.72c-.78.78-.78 2.05 0 2.83L4 21.41c.39.39.9.59 1.41.59.51 0 1.02-.2 1.41-.59l7.78-7.78 2.81-2.81c.8-.78.8-2.07 0-2.86zM5.41 20L4 18.59l7.72-7.72 1.47 1.35L5.41 20z\"/>\n",
              "  </svg>\n",
              "      </button>\n",
              "\n",
              "\n",
              "\n",
              "    <div id=\"df-9ee44956-675b-4d54-af6c-413118441bfd\">\n",
              "      <button class=\"colab-df-quickchart\" onclick=\"quickchart('df-9ee44956-675b-4d54-af6c-413118441bfd')\"\n",
              "              title=\"Suggest charts.\"\n",
              "              style=\"display:none;\">\n",
              "\n",
              "<svg xmlns=\"http://www.w3.org/2000/svg\" height=\"24px\"viewBox=\"0 0 24 24\"\n",
              "     width=\"24px\">\n",
              "    <g>\n",
              "        <path d=\"M19 3H5c-1.1 0-2 .9-2 2v14c0 1.1.9 2 2 2h14c1.1 0 2-.9 2-2V5c0-1.1-.9-2-2-2zM9 17H7v-7h2v7zm4 0h-2V7h2v10zm4 0h-2v-4h2v4z\"/>\n",
              "    </g>\n",
              "</svg>\n",
              "      </button>\n",
              "    </div>\n",
              "\n",
              "<style>\n",
              "  .colab-df-quickchart {\n",
              "    background-color: #E8F0FE;\n",
              "    border: none;\n",
              "    border-radius: 50%;\n",
              "    cursor: pointer;\n",
              "    display: none;\n",
              "    fill: #1967D2;\n",
              "    height: 32px;\n",
              "    padding: 0 0 0 0;\n",
              "    width: 32px;\n",
              "  }\n",
              "\n",
              "  .colab-df-quickchart:hover {\n",
              "    background-color: #E2EBFA;\n",
              "    box-shadow: 0px 1px 2px rgba(60, 64, 67, 0.3), 0px 1px 3px 1px rgba(60, 64, 67, 0.15);\n",
              "    fill: #174EA6;\n",
              "  }\n",
              "\n",
              "  [theme=dark] .colab-df-quickchart {\n",
              "    background-color: #3B4455;\n",
              "    fill: #D2E3FC;\n",
              "  }\n",
              "\n",
              "  [theme=dark] .colab-df-quickchart:hover {\n",
              "    background-color: #434B5C;\n",
              "    box-shadow: 0px 1px 3px 1px rgba(0, 0, 0, 0.15);\n",
              "    filter: drop-shadow(0px 1px 2px rgba(0, 0, 0, 0.3));\n",
              "    fill: #FFFFFF;\n",
              "  }\n",
              "</style>\n",
              "\n",
              "    <script>\n",
              "      async function quickchart(key) {\n",
              "        const containerElement = document.querySelector('#' + key);\n",
              "        const charts = await google.colab.kernel.invokeFunction(\n",
              "            'suggestCharts', [key], {});\n",
              "      }\n",
              "    </script>\n",
              "\n",
              "      <script>\n",
              "\n",
              "function displayQuickchartButton(domScope) {\n",
              "  let quickchartButtonEl =\n",
              "    domScope.querySelector('#df-9ee44956-675b-4d54-af6c-413118441bfd button.colab-df-quickchart');\n",
              "  quickchartButtonEl.style.display =\n",
              "    google.colab.kernel.accessAllowed ? 'block' : 'none';\n",
              "}\n",
              "\n",
              "        displayQuickchartButton(document);\n",
              "      </script>\n",
              "      <style>\n",
              "    .colab-df-container {\n",
              "      display:flex;\n",
              "      flex-wrap:wrap;\n",
              "      gap: 12px;\n",
              "    }\n",
              "\n",
              "    .colab-df-convert {\n",
              "      background-color: #E8F0FE;\n",
              "      border: none;\n",
              "      border-radius: 50%;\n",
              "      cursor: pointer;\n",
              "      display: none;\n",
              "      fill: #1967D2;\n",
              "      height: 32px;\n",
              "      padding: 0 0 0 0;\n",
              "      width: 32px;\n",
              "    }\n",
              "\n",
              "    .colab-df-convert:hover {\n",
              "      background-color: #E2EBFA;\n",
              "      box-shadow: 0px 1px 2px rgba(60, 64, 67, 0.3), 0px 1px 3px 1px rgba(60, 64, 67, 0.15);\n",
              "      fill: #174EA6;\n",
              "    }\n",
              "\n",
              "    [theme=dark] .colab-df-convert {\n",
              "      background-color: #3B4455;\n",
              "      fill: #D2E3FC;\n",
              "    }\n",
              "\n",
              "    [theme=dark] .colab-df-convert:hover {\n",
              "      background-color: #434B5C;\n",
              "      box-shadow: 0px 1px 3px 1px rgba(0, 0, 0, 0.15);\n",
              "      filter: drop-shadow(0px 1px 2px rgba(0, 0, 0, 0.3));\n",
              "      fill: #FFFFFF;\n",
              "    }\n",
              "  </style>\n",
              "\n",
              "      <script>\n",
              "        const buttonEl =\n",
              "          document.querySelector('#df-857c55f9-143e-40ed-bcc3-65e6cab67f3f button.colab-df-convert');\n",
              "        buttonEl.style.display =\n",
              "          google.colab.kernel.accessAllowed ? 'block' : 'none';\n",
              "\n",
              "        async function convertToInteractive(key) {\n",
              "          const element = document.querySelector('#df-857c55f9-143e-40ed-bcc3-65e6cab67f3f');\n",
              "          const dataTable =\n",
              "            await google.colab.kernel.invokeFunction('convertToInteractive',\n",
              "                                                     [key], {});\n",
              "          if (!dataTable) return;\n",
              "\n",
              "          const docLinkHtml = 'Like what you see? Visit the ' +\n",
              "            '<a target=\"_blank\" href=https://colab.research.google.com/notebooks/data_table.ipynb>data table notebook</a>'\n",
              "            + ' to learn more about interactive tables.';\n",
              "          element.innerHTML = '';\n",
              "          dataTable['output_type'] = 'display_data';\n",
              "          await google.colab.output.renderOutput(dataTable, element);\n",
              "          const docLink = document.createElement('div');\n",
              "          docLink.innerHTML = docLinkHtml;\n",
              "          element.appendChild(docLink);\n",
              "        }\n",
              "      </script>\n",
              "    </div>\n",
              "  </div>\n"
            ]
          },
          "metadata": {},
          "execution_count": 44
        }
      ]
    },
    {
      "cell_type": "markdown",
      "source": [
        "Criação de uma coluna \"SINT_ATE_NOTIF\" que representa a quantidade de dias entre os primeiros sintomas do paciente até a notificação."
      ],
      "metadata": {
        "id": "HEl4IjDVPghG"
      }
    },
    {
      "cell_type": "markdown",
      "source": [
        "*DT_SIN_PRI com DT_NOTIFIC*"
      ],
      "metadata": {
        "id": "6vbSAhumRIzB"
      }
    },
    {
      "cell_type": "code",
      "source": [
        "data['SINT_ATE_NOTIF'] = ''"
      ],
      "metadata": {
        "id": "Es1VVyieyPi-"
      },
      "execution_count": null,
      "outputs": []
    },
    {
      "cell_type": "code",
      "source": [
        "# Calcula o intervalo de dias entre duas datas\n",
        "def calc_dias_sintomas(row):\n",
        "  data1 = datetime.strptime(row['DT_SIN_PRI'], '%d/%m/%Y')\n",
        "  data2 = datetime.strptime(row['DT_NOTIFIC'], '%d/%m/%Y')\n",
        "  return abs((data2 - data1).days)\n",
        "\n",
        "# Chama a função e atribui o resultado à coluna 'SINT_ATE_NOTIF'\n",
        "data['SINT_ATE_NOTIF'] = data.apply(calc_dias_sintomas, axis=1)"
      ],
      "metadata": {
        "id": "K6vDAsjryPgC"
      },
      "execution_count": null,
      "outputs": []
    },
    {
      "cell_type": "code",
      "source": [
        "data[['DT_SIN_PRI', 'DT_NOTIFIC', 'SINT_ATE_NOTIF']]"
      ],
      "metadata": {
        "colab": {
          "base_uri": "https://localhost:8080/"
        },
        "id": "tc7NyzQAyPc0",
        "outputId": "9a44beed-712d-45f1-f56c-f5a32f92afdf"
      },
      "execution_count": null,
      "outputs": [
        {
          "output_type": "execute_result",
          "data": {
            "text/plain": [
              "       DT_SIN_PRI  DT_NOTIFIC  SINT_ATE_NOTIF\n",
              "0      03/01/2022  05/01/2022               2\n",
              "1      05/01/2022  07/01/2022               2\n",
              "2      07/01/2022  10/01/2022               3\n",
              "3      06/01/2022  19/01/2022              13\n",
              "4      10/01/2022  10/01/2022               0\n",
              "...           ...         ...             ...\n",
              "17427  26/06/2022  29/06/2022               3\n",
              "17428  06/08/2022  09/08/2022               3\n",
              "17429  27/08/2022  30/08/2022               3\n",
              "17430  03/11/2022  10/11/2022               7\n",
              "17431  24/12/2022  24/12/2022               0\n",
              "\n",
              "[17432 rows x 3 columns]"
            ],
            "text/html": [
              "\n",
              "\n",
              "  <div id=\"df-5dfedf95-fc2c-4473-b891-7cc6d7dcf2e7\">\n",
              "    <div class=\"colab-df-container\">\n",
              "      <div>\n",
              "<style scoped>\n",
              "    .dataframe tbody tr th:only-of-type {\n",
              "        vertical-align: middle;\n",
              "    }\n",
              "\n",
              "    .dataframe tbody tr th {\n",
              "        vertical-align: top;\n",
              "    }\n",
              "\n",
              "    .dataframe thead th {\n",
              "        text-align: right;\n",
              "    }\n",
              "</style>\n",
              "<table border=\"1\" class=\"dataframe\">\n",
              "  <thead>\n",
              "    <tr style=\"text-align: right;\">\n",
              "      <th></th>\n",
              "      <th>DT_SIN_PRI</th>\n",
              "      <th>DT_NOTIFIC</th>\n",
              "      <th>SINT_ATE_NOTIF</th>\n",
              "    </tr>\n",
              "  </thead>\n",
              "  <tbody>\n",
              "    <tr>\n",
              "      <th>0</th>\n",
              "      <td>03/01/2022</td>\n",
              "      <td>05/01/2022</td>\n",
              "      <td>2</td>\n",
              "    </tr>\n",
              "    <tr>\n",
              "      <th>1</th>\n",
              "      <td>05/01/2022</td>\n",
              "      <td>07/01/2022</td>\n",
              "      <td>2</td>\n",
              "    </tr>\n",
              "    <tr>\n",
              "      <th>2</th>\n",
              "      <td>07/01/2022</td>\n",
              "      <td>10/01/2022</td>\n",
              "      <td>3</td>\n",
              "    </tr>\n",
              "    <tr>\n",
              "      <th>3</th>\n",
              "      <td>06/01/2022</td>\n",
              "      <td>19/01/2022</td>\n",
              "      <td>13</td>\n",
              "    </tr>\n",
              "    <tr>\n",
              "      <th>4</th>\n",
              "      <td>10/01/2022</td>\n",
              "      <td>10/01/2022</td>\n",
              "      <td>0</td>\n",
              "    </tr>\n",
              "    <tr>\n",
              "      <th>...</th>\n",
              "      <td>...</td>\n",
              "      <td>...</td>\n",
              "      <td>...</td>\n",
              "    </tr>\n",
              "    <tr>\n",
              "      <th>17427</th>\n",
              "      <td>26/06/2022</td>\n",
              "      <td>29/06/2022</td>\n",
              "      <td>3</td>\n",
              "    </tr>\n",
              "    <tr>\n",
              "      <th>17428</th>\n",
              "      <td>06/08/2022</td>\n",
              "      <td>09/08/2022</td>\n",
              "      <td>3</td>\n",
              "    </tr>\n",
              "    <tr>\n",
              "      <th>17429</th>\n",
              "      <td>27/08/2022</td>\n",
              "      <td>30/08/2022</td>\n",
              "      <td>3</td>\n",
              "    </tr>\n",
              "    <tr>\n",
              "      <th>17430</th>\n",
              "      <td>03/11/2022</td>\n",
              "      <td>10/11/2022</td>\n",
              "      <td>7</td>\n",
              "    </tr>\n",
              "    <tr>\n",
              "      <th>17431</th>\n",
              "      <td>24/12/2022</td>\n",
              "      <td>24/12/2022</td>\n",
              "      <td>0</td>\n",
              "    </tr>\n",
              "  </tbody>\n",
              "</table>\n",
              "<p>17432 rows × 3 columns</p>\n",
              "</div>\n",
              "      <button class=\"colab-df-convert\" onclick=\"convertToInteractive('df-5dfedf95-fc2c-4473-b891-7cc6d7dcf2e7')\"\n",
              "              title=\"Convert this dataframe to an interactive table.\"\n",
              "              style=\"display:none;\">\n",
              "\n",
              "  <svg xmlns=\"http://www.w3.org/2000/svg\" height=\"24px\"viewBox=\"0 0 24 24\"\n",
              "       width=\"24px\">\n",
              "    <path d=\"M0 0h24v24H0V0z\" fill=\"none\"/>\n",
              "    <path d=\"M18.56 5.44l.94 2.06.94-2.06 2.06-.94-2.06-.94-.94-2.06-.94 2.06-2.06.94zm-11 1L8.5 8.5l.94-2.06 2.06-.94-2.06-.94L8.5 2.5l-.94 2.06-2.06.94zm10 10l.94 2.06.94-2.06 2.06-.94-2.06-.94-.94-2.06-.94 2.06-2.06.94z\"/><path d=\"M17.41 7.96l-1.37-1.37c-.4-.4-.92-.59-1.43-.59-.52 0-1.04.2-1.43.59L10.3 9.45l-7.72 7.72c-.78.78-.78 2.05 0 2.83L4 21.41c.39.39.9.59 1.41.59.51 0 1.02-.2 1.41-.59l7.78-7.78 2.81-2.81c.8-.78.8-2.07 0-2.86zM5.41 20L4 18.59l7.72-7.72 1.47 1.35L5.41 20z\"/>\n",
              "  </svg>\n",
              "      </button>\n",
              "\n",
              "\n",
              "\n",
              "    <div id=\"df-a2d3fdc3-e672-474c-8668-9b186a1fb4a4\">\n",
              "      <button class=\"colab-df-quickchart\" onclick=\"quickchart('df-a2d3fdc3-e672-474c-8668-9b186a1fb4a4')\"\n",
              "              title=\"Suggest charts.\"\n",
              "              style=\"display:none;\">\n",
              "\n",
              "<svg xmlns=\"http://www.w3.org/2000/svg\" height=\"24px\"viewBox=\"0 0 24 24\"\n",
              "     width=\"24px\">\n",
              "    <g>\n",
              "        <path d=\"M19 3H5c-1.1 0-2 .9-2 2v14c0 1.1.9 2 2 2h14c1.1 0 2-.9 2-2V5c0-1.1-.9-2-2-2zM9 17H7v-7h2v7zm4 0h-2V7h2v10zm4 0h-2v-4h2v4z\"/>\n",
              "    </g>\n",
              "</svg>\n",
              "      </button>\n",
              "    </div>\n",
              "\n",
              "<style>\n",
              "  .colab-df-quickchart {\n",
              "    background-color: #E8F0FE;\n",
              "    border: none;\n",
              "    border-radius: 50%;\n",
              "    cursor: pointer;\n",
              "    display: none;\n",
              "    fill: #1967D2;\n",
              "    height: 32px;\n",
              "    padding: 0 0 0 0;\n",
              "    width: 32px;\n",
              "  }\n",
              "\n",
              "  .colab-df-quickchart:hover {\n",
              "    background-color: #E2EBFA;\n",
              "    box-shadow: 0px 1px 2px rgba(60, 64, 67, 0.3), 0px 1px 3px 1px rgba(60, 64, 67, 0.15);\n",
              "    fill: #174EA6;\n",
              "  }\n",
              "\n",
              "  [theme=dark] .colab-df-quickchart {\n",
              "    background-color: #3B4455;\n",
              "    fill: #D2E3FC;\n",
              "  }\n",
              "\n",
              "  [theme=dark] .colab-df-quickchart:hover {\n",
              "    background-color: #434B5C;\n",
              "    box-shadow: 0px 1px 3px 1px rgba(0, 0, 0, 0.15);\n",
              "    filter: drop-shadow(0px 1px 2px rgba(0, 0, 0, 0.3));\n",
              "    fill: #FFFFFF;\n",
              "  }\n",
              "</style>\n",
              "\n",
              "    <script>\n",
              "      async function quickchart(key) {\n",
              "        const containerElement = document.querySelector('#' + key);\n",
              "        const charts = await google.colab.kernel.invokeFunction(\n",
              "            'suggestCharts', [key], {});\n",
              "      }\n",
              "    </script>\n",
              "\n",
              "      <script>\n",
              "\n",
              "function displayQuickchartButton(domScope) {\n",
              "  let quickchartButtonEl =\n",
              "    domScope.querySelector('#df-a2d3fdc3-e672-474c-8668-9b186a1fb4a4 button.colab-df-quickchart');\n",
              "  quickchartButtonEl.style.display =\n",
              "    google.colab.kernel.accessAllowed ? 'block' : 'none';\n",
              "}\n",
              "\n",
              "        displayQuickchartButton(document);\n",
              "      </script>\n",
              "      <style>\n",
              "    .colab-df-container {\n",
              "      display:flex;\n",
              "      flex-wrap:wrap;\n",
              "      gap: 12px;\n",
              "    }\n",
              "\n",
              "    .colab-df-convert {\n",
              "      background-color: #E8F0FE;\n",
              "      border: none;\n",
              "      border-radius: 50%;\n",
              "      cursor: pointer;\n",
              "      display: none;\n",
              "      fill: #1967D2;\n",
              "      height: 32px;\n",
              "      padding: 0 0 0 0;\n",
              "      width: 32px;\n",
              "    }\n",
              "\n",
              "    .colab-df-convert:hover {\n",
              "      background-color: #E2EBFA;\n",
              "      box-shadow: 0px 1px 2px rgba(60, 64, 67, 0.3), 0px 1px 3px 1px rgba(60, 64, 67, 0.15);\n",
              "      fill: #174EA6;\n",
              "    }\n",
              "\n",
              "    [theme=dark] .colab-df-convert {\n",
              "      background-color: #3B4455;\n",
              "      fill: #D2E3FC;\n",
              "    }\n",
              "\n",
              "    [theme=dark] .colab-df-convert:hover {\n",
              "      background-color: #434B5C;\n",
              "      box-shadow: 0px 1px 3px 1px rgba(0, 0, 0, 0.15);\n",
              "      filter: drop-shadow(0px 1px 2px rgba(0, 0, 0, 0.3));\n",
              "      fill: #FFFFFF;\n",
              "    }\n",
              "  </style>\n",
              "\n",
              "      <script>\n",
              "        const buttonEl =\n",
              "          document.querySelector('#df-5dfedf95-fc2c-4473-b891-7cc6d7dcf2e7 button.colab-df-convert');\n",
              "        buttonEl.style.display =\n",
              "          google.colab.kernel.accessAllowed ? 'block' : 'none';\n",
              "\n",
              "        async function convertToInteractive(key) {\n",
              "          const element = document.querySelector('#df-5dfedf95-fc2c-4473-b891-7cc6d7dcf2e7');\n",
              "          const dataTable =\n",
              "            await google.colab.kernel.invokeFunction('convertToInteractive',\n",
              "                                                     [key], {});\n",
              "          if (!dataTable) return;\n",
              "\n",
              "          const docLinkHtml = 'Like what you see? Visit the ' +\n",
              "            '<a target=\"_blank\" href=https://colab.research.google.com/notebooks/data_table.ipynb>data table notebook</a>'\n",
              "            + ' to learn more about interactive tables.';\n",
              "          element.innerHTML = '';\n",
              "          dataTable['output_type'] = 'display_data';\n",
              "          await google.colab.output.renderOutput(dataTable, element);\n",
              "          const docLink = document.createElement('div');\n",
              "          docLink.innerHTML = docLinkHtml;\n",
              "          element.appendChild(docLink);\n",
              "        }\n",
              "      </script>\n",
              "    </div>\n",
              "  </div>\n"
            ]
          },
          "metadata": {},
          "execution_count": 47
        }
      ]
    },
    {
      "cell_type": "code",
      "source": [
        "data['SINT_ATE_NOTIF'].info()"
      ],
      "metadata": {
        "colab": {
          "base_uri": "https://localhost:8080/"
        },
        "id": "h08RPxkTyPaH",
        "outputId": "39afc9f8-ddc2-46c2-ab9e-ce2f86f91c2c"
      },
      "execution_count": null,
      "outputs": [
        {
          "output_type": "stream",
          "name": "stdout",
          "text": [
            "<class 'pandas.core.series.Series'>\n",
            "RangeIndex: 17432 entries, 0 to 17431\n",
            "Series name: SINT_ATE_NOTIF\n",
            "Non-Null Count  Dtype\n",
            "--------------  -----\n",
            "17432 non-null  int64\n",
            "dtypes: int64(1)\n",
            "memory usage: 136.3 KB\n"
          ]
        }
      ]
    },
    {
      "cell_type": "markdown",
      "source": [
        "Criação da coluna \"PCR_EVOLUCAO\" que calcula a diferença de dias entre a data do PCR e a data da evolução."
      ],
      "metadata": {
        "id": "1-u5dclISwAv"
      }
    },
    {
      "cell_type": "markdown",
      "source": [
        "*DT_PCR com DT_EVOLUCA*"
      ],
      "metadata": {
        "id": "N-1vOmXvSwAv"
      }
    },
    {
      "cell_type": "code",
      "source": [
        "data['PCR_EVOLUCAO'] = ''"
      ],
      "metadata": {
        "id": "-BT4t8gAyPXR"
      },
      "execution_count": null,
      "outputs": []
    },
    {
      "cell_type": "code",
      "source": [
        "# Calcula a diferença de dias entre duas datas\n",
        "def calc_pcr_evo(row):\n",
        "  if row['PCR_RESUL'] != 4:\n",
        "    if pd.isna(row['DT_PCR']) or pd.isna(row['DT_EVOLUCA']):\n",
        "      return np.nan\n",
        "    else:\n",
        "      data1 = datetime.strptime(row['DT_PCR'], '%d/%m/%Y')\n",
        "      data2 = datetime.strptime(row['DT_EVOLUCA'], '%d/%m/%Y')\n",
        "      return abs((data2 - data1).days)\n",
        "  else:\n",
        "    return 0\n",
        "\n",
        "# Chama a função e atribui o resultado à coluna 'PCR_EVOLUCAO'\n",
        "data['PCR_EVOLUCAO'] = data.apply(calc_pcr_evo, axis=1)"
      ],
      "metadata": {
        "id": "vkei31aPyPT0"
      },
      "execution_count": null,
      "outputs": []
    },
    {
      "cell_type": "code",
      "source": [
        "data[['DT_PCR', 'DT_EVOLUCA', 'PCR_EVOLUCAO']]"
      ],
      "metadata": {
        "colab": {
          "base_uri": "https://localhost:8080/"
        },
        "id": "-HJ36ev2yPQ-",
        "outputId": "7913aa30-8ac5-41c1-9251-28401ad69f4d"
      },
      "execution_count": null,
      "outputs": [
        {
          "output_type": "execute_result",
          "data": {
            "text/plain": [
              "           DT_PCR  DT_EVOLUCA  PCR_EVOLUCAO\n",
              "0      09/01/2022  06/01/2022           3.0\n",
              "1             NaN  25/01/2022           0.0\n",
              "2      13/01/2022  13/01/2022           0.0\n",
              "3      21/01/2022  07/02/2022          17.0\n",
              "4      13/01/2022  13/01/2022           0.0\n",
              "...           ...         ...           ...\n",
              "17427         NaN  29/06/2022           0.0\n",
              "17428  15/08/2022  12/08/2022           3.0\n",
              "17429  02/09/2022  01/09/2022           1.0\n",
              "17430  17/11/2022  17/11/2022           0.0\n",
              "17431  26/12/2022  29/12/2022           3.0\n",
              "\n",
              "[17432 rows x 3 columns]"
            ],
            "text/html": [
              "\n",
              "\n",
              "  <div id=\"df-060f029b-9f96-46d5-83a6-b88f0dcf0ede\">\n",
              "    <div class=\"colab-df-container\">\n",
              "      <div>\n",
              "<style scoped>\n",
              "    .dataframe tbody tr th:only-of-type {\n",
              "        vertical-align: middle;\n",
              "    }\n",
              "\n",
              "    .dataframe tbody tr th {\n",
              "        vertical-align: top;\n",
              "    }\n",
              "\n",
              "    .dataframe thead th {\n",
              "        text-align: right;\n",
              "    }\n",
              "</style>\n",
              "<table border=\"1\" class=\"dataframe\">\n",
              "  <thead>\n",
              "    <tr style=\"text-align: right;\">\n",
              "      <th></th>\n",
              "      <th>DT_PCR</th>\n",
              "      <th>DT_EVOLUCA</th>\n",
              "      <th>PCR_EVOLUCAO</th>\n",
              "    </tr>\n",
              "  </thead>\n",
              "  <tbody>\n",
              "    <tr>\n",
              "      <th>0</th>\n",
              "      <td>09/01/2022</td>\n",
              "      <td>06/01/2022</td>\n",
              "      <td>3.0</td>\n",
              "    </tr>\n",
              "    <tr>\n",
              "      <th>1</th>\n",
              "      <td>NaN</td>\n",
              "      <td>25/01/2022</td>\n",
              "      <td>0.0</td>\n",
              "    </tr>\n",
              "    <tr>\n",
              "      <th>2</th>\n",
              "      <td>13/01/2022</td>\n",
              "      <td>13/01/2022</td>\n",
              "      <td>0.0</td>\n",
              "    </tr>\n",
              "    <tr>\n",
              "      <th>3</th>\n",
              "      <td>21/01/2022</td>\n",
              "      <td>07/02/2022</td>\n",
              "      <td>17.0</td>\n",
              "    </tr>\n",
              "    <tr>\n",
              "      <th>4</th>\n",
              "      <td>13/01/2022</td>\n",
              "      <td>13/01/2022</td>\n",
              "      <td>0.0</td>\n",
              "    </tr>\n",
              "    <tr>\n",
              "      <th>...</th>\n",
              "      <td>...</td>\n",
              "      <td>...</td>\n",
              "      <td>...</td>\n",
              "    </tr>\n",
              "    <tr>\n",
              "      <th>17427</th>\n",
              "      <td>NaN</td>\n",
              "      <td>29/06/2022</td>\n",
              "      <td>0.0</td>\n",
              "    </tr>\n",
              "    <tr>\n",
              "      <th>17428</th>\n",
              "      <td>15/08/2022</td>\n",
              "      <td>12/08/2022</td>\n",
              "      <td>3.0</td>\n",
              "    </tr>\n",
              "    <tr>\n",
              "      <th>17429</th>\n",
              "      <td>02/09/2022</td>\n",
              "      <td>01/09/2022</td>\n",
              "      <td>1.0</td>\n",
              "    </tr>\n",
              "    <tr>\n",
              "      <th>17430</th>\n",
              "      <td>17/11/2022</td>\n",
              "      <td>17/11/2022</td>\n",
              "      <td>0.0</td>\n",
              "    </tr>\n",
              "    <tr>\n",
              "      <th>17431</th>\n",
              "      <td>26/12/2022</td>\n",
              "      <td>29/12/2022</td>\n",
              "      <td>3.0</td>\n",
              "    </tr>\n",
              "  </tbody>\n",
              "</table>\n",
              "<p>17432 rows × 3 columns</p>\n",
              "</div>\n",
              "      <button class=\"colab-df-convert\" onclick=\"convertToInteractive('df-060f029b-9f96-46d5-83a6-b88f0dcf0ede')\"\n",
              "              title=\"Convert this dataframe to an interactive table.\"\n",
              "              style=\"display:none;\">\n",
              "\n",
              "  <svg xmlns=\"http://www.w3.org/2000/svg\" height=\"24px\"viewBox=\"0 0 24 24\"\n",
              "       width=\"24px\">\n",
              "    <path d=\"M0 0h24v24H0V0z\" fill=\"none\"/>\n",
              "    <path d=\"M18.56 5.44l.94 2.06.94-2.06 2.06-.94-2.06-.94-.94-2.06-.94 2.06-2.06.94zm-11 1L8.5 8.5l.94-2.06 2.06-.94-2.06-.94L8.5 2.5l-.94 2.06-2.06.94zm10 10l.94 2.06.94-2.06 2.06-.94-2.06-.94-.94-2.06-.94 2.06-2.06.94z\"/><path d=\"M17.41 7.96l-1.37-1.37c-.4-.4-.92-.59-1.43-.59-.52 0-1.04.2-1.43.59L10.3 9.45l-7.72 7.72c-.78.78-.78 2.05 0 2.83L4 21.41c.39.39.9.59 1.41.59.51 0 1.02-.2 1.41-.59l7.78-7.78 2.81-2.81c.8-.78.8-2.07 0-2.86zM5.41 20L4 18.59l7.72-7.72 1.47 1.35L5.41 20z\"/>\n",
              "  </svg>\n",
              "      </button>\n",
              "\n",
              "\n",
              "\n",
              "    <div id=\"df-40ff5f43-33a8-40e9-b1a3-db81ba818302\">\n",
              "      <button class=\"colab-df-quickchart\" onclick=\"quickchart('df-40ff5f43-33a8-40e9-b1a3-db81ba818302')\"\n",
              "              title=\"Suggest charts.\"\n",
              "              style=\"display:none;\">\n",
              "\n",
              "<svg xmlns=\"http://www.w3.org/2000/svg\" height=\"24px\"viewBox=\"0 0 24 24\"\n",
              "     width=\"24px\">\n",
              "    <g>\n",
              "        <path d=\"M19 3H5c-1.1 0-2 .9-2 2v14c0 1.1.9 2 2 2h14c1.1 0 2-.9 2-2V5c0-1.1-.9-2-2-2zM9 17H7v-7h2v7zm4 0h-2V7h2v10zm4 0h-2v-4h2v4z\"/>\n",
              "    </g>\n",
              "</svg>\n",
              "      </button>\n",
              "    </div>\n",
              "\n",
              "<style>\n",
              "  .colab-df-quickchart {\n",
              "    background-color: #E8F0FE;\n",
              "    border: none;\n",
              "    border-radius: 50%;\n",
              "    cursor: pointer;\n",
              "    display: none;\n",
              "    fill: #1967D2;\n",
              "    height: 32px;\n",
              "    padding: 0 0 0 0;\n",
              "    width: 32px;\n",
              "  }\n",
              "\n",
              "  .colab-df-quickchart:hover {\n",
              "    background-color: #E2EBFA;\n",
              "    box-shadow: 0px 1px 2px rgba(60, 64, 67, 0.3), 0px 1px 3px 1px rgba(60, 64, 67, 0.15);\n",
              "    fill: #174EA6;\n",
              "  }\n",
              "\n",
              "  [theme=dark] .colab-df-quickchart {\n",
              "    background-color: #3B4455;\n",
              "    fill: #D2E3FC;\n",
              "  }\n",
              "\n",
              "  [theme=dark] .colab-df-quickchart:hover {\n",
              "    background-color: #434B5C;\n",
              "    box-shadow: 0px 1px 3px 1px rgba(0, 0, 0, 0.15);\n",
              "    filter: drop-shadow(0px 1px 2px rgba(0, 0, 0, 0.3));\n",
              "    fill: #FFFFFF;\n",
              "  }\n",
              "</style>\n",
              "\n",
              "    <script>\n",
              "      async function quickchart(key) {\n",
              "        const containerElement = document.querySelector('#' + key);\n",
              "        const charts = await google.colab.kernel.invokeFunction(\n",
              "            'suggestCharts', [key], {});\n",
              "      }\n",
              "    </script>\n",
              "\n",
              "      <script>\n",
              "\n",
              "function displayQuickchartButton(domScope) {\n",
              "  let quickchartButtonEl =\n",
              "    domScope.querySelector('#df-40ff5f43-33a8-40e9-b1a3-db81ba818302 button.colab-df-quickchart');\n",
              "  quickchartButtonEl.style.display =\n",
              "    google.colab.kernel.accessAllowed ? 'block' : 'none';\n",
              "}\n",
              "\n",
              "        displayQuickchartButton(document);\n",
              "      </script>\n",
              "      <style>\n",
              "    .colab-df-container {\n",
              "      display:flex;\n",
              "      flex-wrap:wrap;\n",
              "      gap: 12px;\n",
              "    }\n",
              "\n",
              "    .colab-df-convert {\n",
              "      background-color: #E8F0FE;\n",
              "      border: none;\n",
              "      border-radius: 50%;\n",
              "      cursor: pointer;\n",
              "      display: none;\n",
              "      fill: #1967D2;\n",
              "      height: 32px;\n",
              "      padding: 0 0 0 0;\n",
              "      width: 32px;\n",
              "    }\n",
              "\n",
              "    .colab-df-convert:hover {\n",
              "      background-color: #E2EBFA;\n",
              "      box-shadow: 0px 1px 2px rgba(60, 64, 67, 0.3), 0px 1px 3px 1px rgba(60, 64, 67, 0.15);\n",
              "      fill: #174EA6;\n",
              "    }\n",
              "\n",
              "    [theme=dark] .colab-df-convert {\n",
              "      background-color: #3B4455;\n",
              "      fill: #D2E3FC;\n",
              "    }\n",
              "\n",
              "    [theme=dark] .colab-df-convert:hover {\n",
              "      background-color: #434B5C;\n",
              "      box-shadow: 0px 1px 3px 1px rgba(0, 0, 0, 0.15);\n",
              "      filter: drop-shadow(0px 1px 2px rgba(0, 0, 0, 0.3));\n",
              "      fill: #FFFFFF;\n",
              "    }\n",
              "  </style>\n",
              "\n",
              "      <script>\n",
              "        const buttonEl =\n",
              "          document.querySelector('#df-060f029b-9f96-46d5-83a6-b88f0dcf0ede button.colab-df-convert');\n",
              "        buttonEl.style.display =\n",
              "          google.colab.kernel.accessAllowed ? 'block' : 'none';\n",
              "\n",
              "        async function convertToInteractive(key) {\n",
              "          const element = document.querySelector('#df-060f029b-9f96-46d5-83a6-b88f0dcf0ede');\n",
              "          const dataTable =\n",
              "            await google.colab.kernel.invokeFunction('convertToInteractive',\n",
              "                                                     [key], {});\n",
              "          if (!dataTable) return;\n",
              "\n",
              "          const docLinkHtml = 'Like what you see? Visit the ' +\n",
              "            '<a target=\"_blank\" href=https://colab.research.google.com/notebooks/data_table.ipynb>data table notebook</a>'\n",
              "            + ' to learn more about interactive tables.';\n",
              "          element.innerHTML = '';\n",
              "          dataTable['output_type'] = 'display_data';\n",
              "          await google.colab.output.renderOutput(dataTable, element);\n",
              "          const docLink = document.createElement('div');\n",
              "          docLink.innerHTML = docLinkHtml;\n",
              "          element.appendChild(docLink);\n",
              "        }\n",
              "      </script>\n",
              "    </div>\n",
              "  </div>\n"
            ]
          },
          "metadata": {},
          "execution_count": 51
        }
      ]
    },
    {
      "cell_type": "code",
      "source": [
        "data['PCR_EVOLUCAO'].info()"
      ],
      "metadata": {
        "colab": {
          "base_uri": "https://localhost:8080/"
        },
        "id": "z68sa1aUyPOI",
        "outputId": "54dbe9f6-0724-4965-c936-548ce601246d"
      },
      "execution_count": null,
      "outputs": [
        {
          "output_type": "stream",
          "name": "stdout",
          "text": [
            "<class 'pandas.core.series.Series'>\n",
            "RangeIndex: 17432 entries, 0 to 17431\n",
            "Series name: PCR_EVOLUCAO\n",
            "Non-Null Count  Dtype  \n",
            "--------------  -----  \n",
            "15486 non-null  float64\n",
            "dtypes: float64(1)\n",
            "memory usage: 136.3 KB\n"
          ]
        }
      ]
    },
    {
      "cell_type": "code",
      "source": [
        "# Calcula a mediana de 'PCR_EVOLUCAO'\n",
        "data['PCR_EVOLUCAO'].median()"
      ],
      "metadata": {
        "colab": {
          "base_uri": "https://localhost:8080/"
        },
        "id": "HWxL9bOdyPLS",
        "outputId": "336d0c5f-aa62-4206-82c5-31370bac0412"
      },
      "execution_count": null,
      "outputs": [
        {
          "output_type": "execute_result",
          "data": {
            "text/plain": [
              "2.0"
            ]
          },
          "metadata": {},
          "execution_count": 53
        }
      ]
    },
    {
      "cell_type": "code",
      "source": [
        "# Conta os valores NaN em 'PCR_EVOLUCAO'\n",
        "data['PCR_EVOLUCAO'].isnull().sum()"
      ],
      "metadata": {
        "colab": {
          "base_uri": "https://localhost:8080/"
        },
        "id": "fHX3PeLcyPIc",
        "outputId": "3925aec6-ebc0-4902-af69-a818c1a1b836"
      },
      "execution_count": null,
      "outputs": [
        {
          "output_type": "execute_result",
          "data": {
            "text/plain": [
              "1946"
            ]
          },
          "metadata": {},
          "execution_count": 54
        }
      ]
    },
    {
      "cell_type": "code",
      "source": [
        "# Preenche valores NaN com a mediana\n",
        "data['PCR_EVOLUCAO'].fillna(data['PCR_EVOLUCAO'].median(), inplace=True)"
      ],
      "metadata": {
        "id": "FOqGSQE0yPCe"
      },
      "execution_count": null,
      "outputs": []
    },
    {
      "cell_type": "code",
      "source": [
        "# Converte o tipo de dados de float para int\n",
        "data['PCR_EVOLUCAO'] = data['PCR_EVOLUCAO'].astype(int)"
      ],
      "metadata": {
        "id": "TihvztPiyO_8"
      },
      "execution_count": null,
      "outputs": []
    },
    {
      "cell_type": "code",
      "source": [
        "data['PCR_EVOLUCAO'].info()"
      ],
      "metadata": {
        "colab": {
          "base_uri": "https://localhost:8080/"
        },
        "id": "Tc6jhGKhy65U",
        "outputId": "f959a3eb-fe47-42c4-a07e-573e087c761c"
      },
      "execution_count": null,
      "outputs": [
        {
          "output_type": "stream",
          "name": "stdout",
          "text": [
            "<class 'pandas.core.series.Series'>\n",
            "RangeIndex: 17432 entries, 0 to 17431\n",
            "Series name: PCR_EVOLUCAO\n",
            "Non-Null Count  Dtype\n",
            "--------------  -----\n",
            "17432 non-null  int64\n",
            "dtypes: int64(1)\n",
            "memory usage: 136.3 KB\n"
          ]
        }
      ]
    },
    {
      "cell_type": "markdown",
      "source": [
        "SEGUNDA DOSE\n",
        "\n",
        "Criação da coluna \"DIAS_DOSE2\" que calcula a quantidade de dias da data da segunda dose até a notificação."
      ],
      "metadata": {
        "id": "y2Il2TahUNy6"
      }
    },
    {
      "cell_type": "markdown",
      "source": [
        "*DOSE_2_COV com DT_NOTIFIC*"
      ],
      "metadata": {
        "id": "MfRtoGK1UNy_"
      }
    },
    {
      "cell_type": "code",
      "source": [
        "data['DIAS_DOSE2'] = ''"
      ],
      "metadata": {
        "id": "XoqavVsEy9jc"
      },
      "execution_count": null,
      "outputs": []
    },
    {
      "cell_type": "code",
      "source": [
        "# Calcula o intervalo de dias entre duas datas\n",
        "def vac_segunda_dose(row):\n",
        "  if row['VACINA_COV'] == 1:\n",
        "    if pd.isna(row['DOSE_2_COV']):\n",
        "      return np.nan\n",
        "    else:\n",
        "      data1 = datetime.strptime(row['DOSE_2_COV'], '%d/%m/%Y')\n",
        "      data2 = datetime.strptime(row['DT_NOTIFIC'], '%d/%m/%Y')\n",
        "      return abs((data2 - data1).days)\n",
        "  else:\n",
        "    return 0\n",
        "\n",
        "# Chama a função e atribui o resultado à coluna 'DIAS_DOSE2'\n",
        "data['DIAS_DOSE2'] = data.apply(vac_segunda_dose, axis=1)"
      ],
      "metadata": {
        "id": "-CA3sXyPy9nF"
      },
      "execution_count": null,
      "outputs": []
    },
    {
      "cell_type": "code",
      "source": [
        "data[['DOSE_1_COV','DOSE_2_COV', 'DT_NOTIFIC', 'DIAS_DOSE2']]"
      ],
      "metadata": {
        "colab": {
          "base_uri": "https://localhost:8080/"
        },
        "id": "DVevhHdgy9qZ",
        "outputId": "a699454c-7e79-49a1-d20d-e8b898a95555"
      },
      "execution_count": null,
      "outputs": [
        {
          "output_type": "execute_result",
          "data": {
            "text/plain": [
              "       DOSE_1_COV  DOSE_2_COV  DT_NOTIFIC  DIAS_DOSE2\n",
              "0      17/08/2021  05/11/2021  05/01/2022        61.0\n",
              "1      27/03/2021  19/04/2021  07/01/2022       263.0\n",
              "2      10/06/2021  30/09/2021  10/01/2022       102.0\n",
              "3             NaN         NaN  19/01/2022         0.0\n",
              "4      24/06/2021  16/09/2021  10/01/2022       116.0\n",
              "...           ...         ...         ...         ...\n",
              "17427         NaN         NaN  29/06/2022         0.0\n",
              "17428  19/02/2021  16/03/2021  09/08/2022       511.0\n",
              "17429         NaN  16/03/2021  30/08/2022       532.0\n",
              "17430  23/03/2021  14/04/2021  10/11/2022       575.0\n",
              "17431  30/03/2021  27/04/2021  24/12/2022       606.0\n",
              "\n",
              "[17432 rows x 4 columns]"
            ],
            "text/html": [
              "\n",
              "\n",
              "  <div id=\"df-72b860cc-d7b4-45ff-9fda-a3759466e0e1\">\n",
              "    <div class=\"colab-df-container\">\n",
              "      <div>\n",
              "<style scoped>\n",
              "    .dataframe tbody tr th:only-of-type {\n",
              "        vertical-align: middle;\n",
              "    }\n",
              "\n",
              "    .dataframe tbody tr th {\n",
              "        vertical-align: top;\n",
              "    }\n",
              "\n",
              "    .dataframe thead th {\n",
              "        text-align: right;\n",
              "    }\n",
              "</style>\n",
              "<table border=\"1\" class=\"dataframe\">\n",
              "  <thead>\n",
              "    <tr style=\"text-align: right;\">\n",
              "      <th></th>\n",
              "      <th>DOSE_1_COV</th>\n",
              "      <th>DOSE_2_COV</th>\n",
              "      <th>DT_NOTIFIC</th>\n",
              "      <th>DIAS_DOSE2</th>\n",
              "    </tr>\n",
              "  </thead>\n",
              "  <tbody>\n",
              "    <tr>\n",
              "      <th>0</th>\n",
              "      <td>17/08/2021</td>\n",
              "      <td>05/11/2021</td>\n",
              "      <td>05/01/2022</td>\n",
              "      <td>61.0</td>\n",
              "    </tr>\n",
              "    <tr>\n",
              "      <th>1</th>\n",
              "      <td>27/03/2021</td>\n",
              "      <td>19/04/2021</td>\n",
              "      <td>07/01/2022</td>\n",
              "      <td>263.0</td>\n",
              "    </tr>\n",
              "    <tr>\n",
              "      <th>2</th>\n",
              "      <td>10/06/2021</td>\n",
              "      <td>30/09/2021</td>\n",
              "      <td>10/01/2022</td>\n",
              "      <td>102.0</td>\n",
              "    </tr>\n",
              "    <tr>\n",
              "      <th>3</th>\n",
              "      <td>NaN</td>\n",
              "      <td>NaN</td>\n",
              "      <td>19/01/2022</td>\n",
              "      <td>0.0</td>\n",
              "    </tr>\n",
              "    <tr>\n",
              "      <th>4</th>\n",
              "      <td>24/06/2021</td>\n",
              "      <td>16/09/2021</td>\n",
              "      <td>10/01/2022</td>\n",
              "      <td>116.0</td>\n",
              "    </tr>\n",
              "    <tr>\n",
              "      <th>...</th>\n",
              "      <td>...</td>\n",
              "      <td>...</td>\n",
              "      <td>...</td>\n",
              "      <td>...</td>\n",
              "    </tr>\n",
              "    <tr>\n",
              "      <th>17427</th>\n",
              "      <td>NaN</td>\n",
              "      <td>NaN</td>\n",
              "      <td>29/06/2022</td>\n",
              "      <td>0.0</td>\n",
              "    </tr>\n",
              "    <tr>\n",
              "      <th>17428</th>\n",
              "      <td>19/02/2021</td>\n",
              "      <td>16/03/2021</td>\n",
              "      <td>09/08/2022</td>\n",
              "      <td>511.0</td>\n",
              "    </tr>\n",
              "    <tr>\n",
              "      <th>17429</th>\n",
              "      <td>NaN</td>\n",
              "      <td>16/03/2021</td>\n",
              "      <td>30/08/2022</td>\n",
              "      <td>532.0</td>\n",
              "    </tr>\n",
              "    <tr>\n",
              "      <th>17430</th>\n",
              "      <td>23/03/2021</td>\n",
              "      <td>14/04/2021</td>\n",
              "      <td>10/11/2022</td>\n",
              "      <td>575.0</td>\n",
              "    </tr>\n",
              "    <tr>\n",
              "      <th>17431</th>\n",
              "      <td>30/03/2021</td>\n",
              "      <td>27/04/2021</td>\n",
              "      <td>24/12/2022</td>\n",
              "      <td>606.0</td>\n",
              "    </tr>\n",
              "  </tbody>\n",
              "</table>\n",
              "<p>17432 rows × 4 columns</p>\n",
              "</div>\n",
              "      <button class=\"colab-df-convert\" onclick=\"convertToInteractive('df-72b860cc-d7b4-45ff-9fda-a3759466e0e1')\"\n",
              "              title=\"Convert this dataframe to an interactive table.\"\n",
              "              style=\"display:none;\">\n",
              "\n",
              "  <svg xmlns=\"http://www.w3.org/2000/svg\" height=\"24px\"viewBox=\"0 0 24 24\"\n",
              "       width=\"24px\">\n",
              "    <path d=\"M0 0h24v24H0V0z\" fill=\"none\"/>\n",
              "    <path d=\"M18.56 5.44l.94 2.06.94-2.06 2.06-.94-2.06-.94-.94-2.06-.94 2.06-2.06.94zm-11 1L8.5 8.5l.94-2.06 2.06-.94-2.06-.94L8.5 2.5l-.94 2.06-2.06.94zm10 10l.94 2.06.94-2.06 2.06-.94-2.06-.94-.94-2.06-.94 2.06-2.06.94z\"/><path d=\"M17.41 7.96l-1.37-1.37c-.4-.4-.92-.59-1.43-.59-.52 0-1.04.2-1.43.59L10.3 9.45l-7.72 7.72c-.78.78-.78 2.05 0 2.83L4 21.41c.39.39.9.59 1.41.59.51 0 1.02-.2 1.41-.59l7.78-7.78 2.81-2.81c.8-.78.8-2.07 0-2.86zM5.41 20L4 18.59l7.72-7.72 1.47 1.35L5.41 20z\"/>\n",
              "  </svg>\n",
              "      </button>\n",
              "\n",
              "\n",
              "\n",
              "    <div id=\"df-12d42878-4965-46f1-82d2-404f38aaf47c\">\n",
              "      <button class=\"colab-df-quickchart\" onclick=\"quickchart('df-12d42878-4965-46f1-82d2-404f38aaf47c')\"\n",
              "              title=\"Suggest charts.\"\n",
              "              style=\"display:none;\">\n",
              "\n",
              "<svg xmlns=\"http://www.w3.org/2000/svg\" height=\"24px\"viewBox=\"0 0 24 24\"\n",
              "     width=\"24px\">\n",
              "    <g>\n",
              "        <path d=\"M19 3H5c-1.1 0-2 .9-2 2v14c0 1.1.9 2 2 2h14c1.1 0 2-.9 2-2V5c0-1.1-.9-2-2-2zM9 17H7v-7h2v7zm4 0h-2V7h2v10zm4 0h-2v-4h2v4z\"/>\n",
              "    </g>\n",
              "</svg>\n",
              "      </button>\n",
              "    </div>\n",
              "\n",
              "<style>\n",
              "  .colab-df-quickchart {\n",
              "    background-color: #E8F0FE;\n",
              "    border: none;\n",
              "    border-radius: 50%;\n",
              "    cursor: pointer;\n",
              "    display: none;\n",
              "    fill: #1967D2;\n",
              "    height: 32px;\n",
              "    padding: 0 0 0 0;\n",
              "    width: 32px;\n",
              "  }\n",
              "\n",
              "  .colab-df-quickchart:hover {\n",
              "    background-color: #E2EBFA;\n",
              "    box-shadow: 0px 1px 2px rgba(60, 64, 67, 0.3), 0px 1px 3px 1px rgba(60, 64, 67, 0.15);\n",
              "    fill: #174EA6;\n",
              "  }\n",
              "\n",
              "  [theme=dark] .colab-df-quickchart {\n",
              "    background-color: #3B4455;\n",
              "    fill: #D2E3FC;\n",
              "  }\n",
              "\n",
              "  [theme=dark] .colab-df-quickchart:hover {\n",
              "    background-color: #434B5C;\n",
              "    box-shadow: 0px 1px 3px 1px rgba(0, 0, 0, 0.15);\n",
              "    filter: drop-shadow(0px 1px 2px rgba(0, 0, 0, 0.3));\n",
              "    fill: #FFFFFF;\n",
              "  }\n",
              "</style>\n",
              "\n",
              "    <script>\n",
              "      async function quickchart(key) {\n",
              "        const containerElement = document.querySelector('#' + key);\n",
              "        const charts = await google.colab.kernel.invokeFunction(\n",
              "            'suggestCharts', [key], {});\n",
              "      }\n",
              "    </script>\n",
              "\n",
              "      <script>\n",
              "\n",
              "function displayQuickchartButton(domScope) {\n",
              "  let quickchartButtonEl =\n",
              "    domScope.querySelector('#df-12d42878-4965-46f1-82d2-404f38aaf47c button.colab-df-quickchart');\n",
              "  quickchartButtonEl.style.display =\n",
              "    google.colab.kernel.accessAllowed ? 'block' : 'none';\n",
              "}\n",
              "\n",
              "        displayQuickchartButton(document);\n",
              "      </script>\n",
              "      <style>\n",
              "    .colab-df-container {\n",
              "      display:flex;\n",
              "      flex-wrap:wrap;\n",
              "      gap: 12px;\n",
              "    }\n",
              "\n",
              "    .colab-df-convert {\n",
              "      background-color: #E8F0FE;\n",
              "      border: none;\n",
              "      border-radius: 50%;\n",
              "      cursor: pointer;\n",
              "      display: none;\n",
              "      fill: #1967D2;\n",
              "      height: 32px;\n",
              "      padding: 0 0 0 0;\n",
              "      width: 32px;\n",
              "    }\n",
              "\n",
              "    .colab-df-convert:hover {\n",
              "      background-color: #E2EBFA;\n",
              "      box-shadow: 0px 1px 2px rgba(60, 64, 67, 0.3), 0px 1px 3px 1px rgba(60, 64, 67, 0.15);\n",
              "      fill: #174EA6;\n",
              "    }\n",
              "\n",
              "    [theme=dark] .colab-df-convert {\n",
              "      background-color: #3B4455;\n",
              "      fill: #D2E3FC;\n",
              "    }\n",
              "\n",
              "    [theme=dark] .colab-df-convert:hover {\n",
              "      background-color: #434B5C;\n",
              "      box-shadow: 0px 1px 3px 1px rgba(0, 0, 0, 0.15);\n",
              "      filter: drop-shadow(0px 1px 2px rgba(0, 0, 0, 0.3));\n",
              "      fill: #FFFFFF;\n",
              "    }\n",
              "  </style>\n",
              "\n",
              "      <script>\n",
              "        const buttonEl =\n",
              "          document.querySelector('#df-72b860cc-d7b4-45ff-9fda-a3759466e0e1 button.colab-df-convert');\n",
              "        buttonEl.style.display =\n",
              "          google.colab.kernel.accessAllowed ? 'block' : 'none';\n",
              "\n",
              "        async function convertToInteractive(key) {\n",
              "          const element = document.querySelector('#df-72b860cc-d7b4-45ff-9fda-a3759466e0e1');\n",
              "          const dataTable =\n",
              "            await google.colab.kernel.invokeFunction('convertToInteractive',\n",
              "                                                     [key], {});\n",
              "          if (!dataTable) return;\n",
              "\n",
              "          const docLinkHtml = 'Like what you see? Visit the ' +\n",
              "            '<a target=\"_blank\" href=https://colab.research.google.com/notebooks/data_table.ipynb>data table notebook</a>'\n",
              "            + ' to learn more about interactive tables.';\n",
              "          element.innerHTML = '';\n",
              "          dataTable['output_type'] = 'display_data';\n",
              "          await google.colab.output.renderOutput(dataTable, element);\n",
              "          const docLink = document.createElement('div');\n",
              "          docLink.innerHTML = docLinkHtml;\n",
              "          element.appendChild(docLink);\n",
              "        }\n",
              "      </script>\n",
              "    </div>\n",
              "  </div>\n"
            ]
          },
          "metadata": {},
          "execution_count": 60
        }
      ]
    },
    {
      "cell_type": "code",
      "source": [
        "data['DIAS_DOSE2'].info()"
      ],
      "metadata": {
        "colab": {
          "base_uri": "https://localhost:8080/"
        },
        "id": "HfUrdM26y9tc",
        "outputId": "142a87cb-3503-4296-d0ca-c896bdb212cf"
      },
      "execution_count": null,
      "outputs": [
        {
          "output_type": "stream",
          "name": "stdout",
          "text": [
            "<class 'pandas.core.series.Series'>\n",
            "RangeIndex: 17432 entries, 0 to 17431\n",
            "Series name: DIAS_DOSE2\n",
            "Non-Null Count  Dtype  \n",
            "--------------  -----  \n",
            "16254 non-null  float64\n",
            "dtypes: float64(1)\n",
            "memory usage: 136.3 KB\n"
          ]
        }
      ]
    },
    {
      "cell_type": "code",
      "source": [
        "# Calcula a mediana\n",
        "data['DIAS_DOSE2'].median()"
      ],
      "metadata": {
        "colab": {
          "base_uri": "https://localhost:8080/"
        },
        "id": "tTLFAVgay9xA",
        "outputId": "5ac52165-7da0-4cd1-df1b-c93df0ef24e6"
      },
      "execution_count": null,
      "outputs": [
        {
          "output_type": "execute_result",
          "data": {
            "text/plain": [
              "280.0"
            ]
          },
          "metadata": {},
          "execution_count": 62
        }
      ]
    },
    {
      "cell_type": "code",
      "source": [
        "# Conta os valores NaN\n",
        "data['DIAS_DOSE2'].isnull().sum()"
      ],
      "metadata": {
        "colab": {
          "base_uri": "https://localhost:8080/"
        },
        "id": "Rmh3yB3Uy90U",
        "outputId": "0113abb0-7c4e-49b3-f5be-d720913ef890"
      },
      "execution_count": null,
      "outputs": [
        {
          "output_type": "execute_result",
          "data": {
            "text/plain": [
              "1178"
            ]
          },
          "metadata": {},
          "execution_count": 63
        }
      ]
    },
    {
      "cell_type": "code",
      "source": [
        "# Preenche valores NaN com a mediana\n",
        "data['DIAS_DOSE2'].fillna(data['DIAS_DOSE2'].median(), inplace=True)\n",
        "\n",
        "# Converte o tipo de dados de float para int\n",
        "data['DIAS_DOSE2'] = data['DIAS_DOSE2'].astype(int)"
      ],
      "metadata": {
        "id": "TOhjp547y93g"
      },
      "execution_count": null,
      "outputs": []
    },
    {
      "cell_type": "code",
      "source": [
        "data['DIAS_DOSE2'].info()"
      ],
      "metadata": {
        "colab": {
          "base_uri": "https://localhost:8080/"
        },
        "id": "Ll1Scjr1y97J",
        "outputId": "d4209139-332d-4c93-fa39-ebed38072236"
      },
      "execution_count": null,
      "outputs": [
        {
          "output_type": "stream",
          "name": "stdout",
          "text": [
            "<class 'pandas.core.series.Series'>\n",
            "RangeIndex: 17432 entries, 0 to 17431\n",
            "Series name: DIAS_DOSE2\n",
            "Non-Null Count  Dtype\n",
            "--------------  -----\n",
            "17432 non-null  int64\n",
            "dtypes: int64(1)\n",
            "memory usage: 136.3 KB\n"
          ]
        }
      ]
    },
    {
      "cell_type": "markdown",
      "source": [
        "PRIMEIRA DOSE"
      ],
      "metadata": {
        "id": "Jys3bE1Xi-eS"
      }
    },
    {
      "cell_type": "code",
      "source": [
        "# Instância 17429\n",
        "data[['DOSE_1_COV','DOSE_2_COV', 'DT_NOTIFIC', 'DIAS_DOSE2']]"
      ],
      "metadata": {
        "colab": {
          "base_uri": "https://localhost:8080/"
        },
        "id": "OOZK6bWyy-Cp",
        "outputId": "9486a13e-5746-4769-d13e-7bd800866722"
      },
      "execution_count": null,
      "outputs": [
        {
          "output_type": "execute_result",
          "data": {
            "text/plain": [
              "       DOSE_1_COV  DOSE_2_COV  DT_NOTIFIC  DIAS_DOSE2\n",
              "0      17/08/2021  05/11/2021  05/01/2022          61\n",
              "1      27/03/2021  19/04/2021  07/01/2022         263\n",
              "2      10/06/2021  30/09/2021  10/01/2022         102\n",
              "3             NaN         NaN  19/01/2022           0\n",
              "4      24/06/2021  16/09/2021  10/01/2022         116\n",
              "...           ...         ...         ...         ...\n",
              "17427         NaN         NaN  29/06/2022           0\n",
              "17428  19/02/2021  16/03/2021  09/08/2022         511\n",
              "17429         NaN  16/03/2021  30/08/2022         532\n",
              "17430  23/03/2021  14/04/2021  10/11/2022         575\n",
              "17431  30/03/2021  27/04/2021  24/12/2022         606\n",
              "\n",
              "[17432 rows x 4 columns]"
            ],
            "text/html": [
              "\n",
              "\n",
              "  <div id=\"df-6c62897b-9bb1-4214-9b01-55c7e4879d55\">\n",
              "    <div class=\"colab-df-container\">\n",
              "      <div>\n",
              "<style scoped>\n",
              "    .dataframe tbody tr th:only-of-type {\n",
              "        vertical-align: middle;\n",
              "    }\n",
              "\n",
              "    .dataframe tbody tr th {\n",
              "        vertical-align: top;\n",
              "    }\n",
              "\n",
              "    .dataframe thead th {\n",
              "        text-align: right;\n",
              "    }\n",
              "</style>\n",
              "<table border=\"1\" class=\"dataframe\">\n",
              "  <thead>\n",
              "    <tr style=\"text-align: right;\">\n",
              "      <th></th>\n",
              "      <th>DOSE_1_COV</th>\n",
              "      <th>DOSE_2_COV</th>\n",
              "      <th>DT_NOTIFIC</th>\n",
              "      <th>DIAS_DOSE2</th>\n",
              "    </tr>\n",
              "  </thead>\n",
              "  <tbody>\n",
              "    <tr>\n",
              "      <th>0</th>\n",
              "      <td>17/08/2021</td>\n",
              "      <td>05/11/2021</td>\n",
              "      <td>05/01/2022</td>\n",
              "      <td>61</td>\n",
              "    </tr>\n",
              "    <tr>\n",
              "      <th>1</th>\n",
              "      <td>27/03/2021</td>\n",
              "      <td>19/04/2021</td>\n",
              "      <td>07/01/2022</td>\n",
              "      <td>263</td>\n",
              "    </tr>\n",
              "    <tr>\n",
              "      <th>2</th>\n",
              "      <td>10/06/2021</td>\n",
              "      <td>30/09/2021</td>\n",
              "      <td>10/01/2022</td>\n",
              "      <td>102</td>\n",
              "    </tr>\n",
              "    <tr>\n",
              "      <th>3</th>\n",
              "      <td>NaN</td>\n",
              "      <td>NaN</td>\n",
              "      <td>19/01/2022</td>\n",
              "      <td>0</td>\n",
              "    </tr>\n",
              "    <tr>\n",
              "      <th>4</th>\n",
              "      <td>24/06/2021</td>\n",
              "      <td>16/09/2021</td>\n",
              "      <td>10/01/2022</td>\n",
              "      <td>116</td>\n",
              "    </tr>\n",
              "    <tr>\n",
              "      <th>...</th>\n",
              "      <td>...</td>\n",
              "      <td>...</td>\n",
              "      <td>...</td>\n",
              "      <td>...</td>\n",
              "    </tr>\n",
              "    <tr>\n",
              "      <th>17427</th>\n",
              "      <td>NaN</td>\n",
              "      <td>NaN</td>\n",
              "      <td>29/06/2022</td>\n",
              "      <td>0</td>\n",
              "    </tr>\n",
              "    <tr>\n",
              "      <th>17428</th>\n",
              "      <td>19/02/2021</td>\n",
              "      <td>16/03/2021</td>\n",
              "      <td>09/08/2022</td>\n",
              "      <td>511</td>\n",
              "    </tr>\n",
              "    <tr>\n",
              "      <th>17429</th>\n",
              "      <td>NaN</td>\n",
              "      <td>16/03/2021</td>\n",
              "      <td>30/08/2022</td>\n",
              "      <td>532</td>\n",
              "    </tr>\n",
              "    <tr>\n",
              "      <th>17430</th>\n",
              "      <td>23/03/2021</td>\n",
              "      <td>14/04/2021</td>\n",
              "      <td>10/11/2022</td>\n",
              "      <td>575</td>\n",
              "    </tr>\n",
              "    <tr>\n",
              "      <th>17431</th>\n",
              "      <td>30/03/2021</td>\n",
              "      <td>27/04/2021</td>\n",
              "      <td>24/12/2022</td>\n",
              "      <td>606</td>\n",
              "    </tr>\n",
              "  </tbody>\n",
              "</table>\n",
              "<p>17432 rows × 4 columns</p>\n",
              "</div>\n",
              "      <button class=\"colab-df-convert\" onclick=\"convertToInteractive('df-6c62897b-9bb1-4214-9b01-55c7e4879d55')\"\n",
              "              title=\"Convert this dataframe to an interactive table.\"\n",
              "              style=\"display:none;\">\n",
              "\n",
              "  <svg xmlns=\"http://www.w3.org/2000/svg\" height=\"24px\"viewBox=\"0 0 24 24\"\n",
              "       width=\"24px\">\n",
              "    <path d=\"M0 0h24v24H0V0z\" fill=\"none\"/>\n",
              "    <path d=\"M18.56 5.44l.94 2.06.94-2.06 2.06-.94-2.06-.94-.94-2.06-.94 2.06-2.06.94zm-11 1L8.5 8.5l.94-2.06 2.06-.94-2.06-.94L8.5 2.5l-.94 2.06-2.06.94zm10 10l.94 2.06.94-2.06 2.06-.94-2.06-.94-.94-2.06-.94 2.06-2.06.94z\"/><path d=\"M17.41 7.96l-1.37-1.37c-.4-.4-.92-.59-1.43-.59-.52 0-1.04.2-1.43.59L10.3 9.45l-7.72 7.72c-.78.78-.78 2.05 0 2.83L4 21.41c.39.39.9.59 1.41.59.51 0 1.02-.2 1.41-.59l7.78-7.78 2.81-2.81c.8-.78.8-2.07 0-2.86zM5.41 20L4 18.59l7.72-7.72 1.47 1.35L5.41 20z\"/>\n",
              "  </svg>\n",
              "      </button>\n",
              "\n",
              "\n",
              "\n",
              "    <div id=\"df-a4d2896b-eec8-423d-86ac-fb381e159e44\">\n",
              "      <button class=\"colab-df-quickchart\" onclick=\"quickchart('df-a4d2896b-eec8-423d-86ac-fb381e159e44')\"\n",
              "              title=\"Suggest charts.\"\n",
              "              style=\"display:none;\">\n",
              "\n",
              "<svg xmlns=\"http://www.w3.org/2000/svg\" height=\"24px\"viewBox=\"0 0 24 24\"\n",
              "     width=\"24px\">\n",
              "    <g>\n",
              "        <path d=\"M19 3H5c-1.1 0-2 .9-2 2v14c0 1.1.9 2 2 2h14c1.1 0 2-.9 2-2V5c0-1.1-.9-2-2-2zM9 17H7v-7h2v7zm4 0h-2V7h2v10zm4 0h-2v-4h2v4z\"/>\n",
              "    </g>\n",
              "</svg>\n",
              "      </button>\n",
              "    </div>\n",
              "\n",
              "<style>\n",
              "  .colab-df-quickchart {\n",
              "    background-color: #E8F0FE;\n",
              "    border: none;\n",
              "    border-radius: 50%;\n",
              "    cursor: pointer;\n",
              "    display: none;\n",
              "    fill: #1967D2;\n",
              "    height: 32px;\n",
              "    padding: 0 0 0 0;\n",
              "    width: 32px;\n",
              "  }\n",
              "\n",
              "  .colab-df-quickchart:hover {\n",
              "    background-color: #E2EBFA;\n",
              "    box-shadow: 0px 1px 2px rgba(60, 64, 67, 0.3), 0px 1px 3px 1px rgba(60, 64, 67, 0.15);\n",
              "    fill: #174EA6;\n",
              "  }\n",
              "\n",
              "  [theme=dark] .colab-df-quickchart {\n",
              "    background-color: #3B4455;\n",
              "    fill: #D2E3FC;\n",
              "  }\n",
              "\n",
              "  [theme=dark] .colab-df-quickchart:hover {\n",
              "    background-color: #434B5C;\n",
              "    box-shadow: 0px 1px 3px 1px rgba(0, 0, 0, 0.15);\n",
              "    filter: drop-shadow(0px 1px 2px rgba(0, 0, 0, 0.3));\n",
              "    fill: #FFFFFF;\n",
              "  }\n",
              "</style>\n",
              "\n",
              "    <script>\n",
              "      async function quickchart(key) {\n",
              "        const containerElement = document.querySelector('#' + key);\n",
              "        const charts = await google.colab.kernel.invokeFunction(\n",
              "            'suggestCharts', [key], {});\n",
              "      }\n",
              "    </script>\n",
              "\n",
              "      <script>\n",
              "\n",
              "function displayQuickchartButton(domScope) {\n",
              "  let quickchartButtonEl =\n",
              "    domScope.querySelector('#df-a4d2896b-eec8-423d-86ac-fb381e159e44 button.colab-df-quickchart');\n",
              "  quickchartButtonEl.style.display =\n",
              "    google.colab.kernel.accessAllowed ? 'block' : 'none';\n",
              "}\n",
              "\n",
              "        displayQuickchartButton(document);\n",
              "      </script>\n",
              "      <style>\n",
              "    .colab-df-container {\n",
              "      display:flex;\n",
              "      flex-wrap:wrap;\n",
              "      gap: 12px;\n",
              "    }\n",
              "\n",
              "    .colab-df-convert {\n",
              "      background-color: #E8F0FE;\n",
              "      border: none;\n",
              "      border-radius: 50%;\n",
              "      cursor: pointer;\n",
              "      display: none;\n",
              "      fill: #1967D2;\n",
              "      height: 32px;\n",
              "      padding: 0 0 0 0;\n",
              "      width: 32px;\n",
              "    }\n",
              "\n",
              "    .colab-df-convert:hover {\n",
              "      background-color: #E2EBFA;\n",
              "      box-shadow: 0px 1px 2px rgba(60, 64, 67, 0.3), 0px 1px 3px 1px rgba(60, 64, 67, 0.15);\n",
              "      fill: #174EA6;\n",
              "    }\n",
              "\n",
              "    [theme=dark] .colab-df-convert {\n",
              "      background-color: #3B4455;\n",
              "      fill: #D2E3FC;\n",
              "    }\n",
              "\n",
              "    [theme=dark] .colab-df-convert:hover {\n",
              "      background-color: #434B5C;\n",
              "      box-shadow: 0px 1px 3px 1px rgba(0, 0, 0, 0.15);\n",
              "      filter: drop-shadow(0px 1px 2px rgba(0, 0, 0, 0.3));\n",
              "      fill: #FFFFFF;\n",
              "    }\n",
              "  </style>\n",
              "\n",
              "      <script>\n",
              "        const buttonEl =\n",
              "          document.querySelector('#df-6c62897b-9bb1-4214-9b01-55c7e4879d55 button.colab-df-convert');\n",
              "        buttonEl.style.display =\n",
              "          google.colab.kernel.accessAllowed ? 'block' : 'none';\n",
              "\n",
              "        async function convertToInteractive(key) {\n",
              "          const element = document.querySelector('#df-6c62897b-9bb1-4214-9b01-55c7e4879d55');\n",
              "          const dataTable =\n",
              "            await google.colab.kernel.invokeFunction('convertToInteractive',\n",
              "                                                     [key], {});\n",
              "          if (!dataTable) return;\n",
              "\n",
              "          const docLinkHtml = 'Like what you see? Visit the ' +\n",
              "            '<a target=\"_blank\" href=https://colab.research.google.com/notebooks/data_table.ipynb>data table notebook</a>'\n",
              "            + ' to learn more about interactive tables.';\n",
              "          element.innerHTML = '';\n",
              "          dataTable['output_type'] = 'display_data';\n",
              "          await google.colab.output.renderOutput(dataTable, element);\n",
              "          const docLink = document.createElement('div');\n",
              "          docLink.innerHTML = docLinkHtml;\n",
              "          element.appendChild(docLink);\n",
              "        }\n",
              "      </script>\n",
              "    </div>\n",
              "  </div>\n"
            ]
          },
          "metadata": {},
          "execution_count": 66
        }
      ]
    },
    {
      "cell_type": "markdown",
      "source": [
        "Preenchimento dos dados\n",
        "\n",
        "O simples preenchimento com a moda deixará alguns dados incoerentes, pois existem instâncias que possuem NaN no valor da data da primeira dose e possui a data da segunda dose. Com isso, pode ocorrer instâncias onde os dias da segunda dose serem mais distantes que os dias da primeira dose, causando incoerência.\n",
        "\n",
        "Dessa forma, uma nova coluna será criada para extrair a moda da diferença dos dias entre a segunda e a primeira dose."
      ],
      "metadata": {
        "id": "qAYmv5M4zyS4"
      }
    },
    {
      "cell_type": "code",
      "source": [
        "# Criação de uma coluna par armazenar a quantidade de dias entre a primeira e segunda dose\n",
        "data['INTERVALO_VACINAS'] = ''"
      ],
      "metadata": {
        "id": "gQ2ESYXny-H_"
      },
      "execution_count": null,
      "outputs": []
    },
    {
      "cell_type": "code",
      "source": [
        "# Calcula o intervalo entre vacinas\n",
        "def calc_interval_vac(row):\n",
        "  if pd.isna(row['DOSE_2_COV']) or pd.isna(row['DOSE_1_COV']):\n",
        "    return np.nan\n",
        "  else:\n",
        "    data1 = datetime.strptime(row['DOSE_2_COV'], '%d/%m/%Y')\n",
        "    data2 = datetime.strptime(row['DOSE_1_COV'], '%d/%m/%Y')\n",
        "    return abs((data2 - data1).days)\n",
        "\n",
        "# Chama a função e atribui o resultado à coluna 'INTERVALO_VACINAS'\n",
        "data['INTERVALO_VACINAS'] = data.apply(calc_interval_vac, axis=1)"
      ],
      "metadata": {
        "id": "mSoNPehyy-K1"
      },
      "execution_count": null,
      "outputs": []
    },
    {
      "cell_type": "code",
      "source": [
        "data[['DOSE_1_COV','DOSE_2_COV', 'INTERVALO_VACINAS']]"
      ],
      "metadata": {
        "colab": {
          "base_uri": "https://localhost:8080/"
        },
        "id": "BCnoqRo8y-OJ",
        "outputId": "f9393350-9ebe-40ba-8428-b4e9a5562394"
      },
      "execution_count": null,
      "outputs": [
        {
          "output_type": "execute_result",
          "data": {
            "text/plain": [
              "       DOSE_1_COV  DOSE_2_COV  INTERVALO_VACINAS\n",
              "0      17/08/2021  05/11/2021               80.0\n",
              "1      27/03/2021  19/04/2021               23.0\n",
              "2      10/06/2021  30/09/2021              112.0\n",
              "3             NaN         NaN                NaN\n",
              "4      24/06/2021  16/09/2021               84.0\n",
              "...           ...         ...                ...\n",
              "17427         NaN         NaN                NaN\n",
              "17428  19/02/2021  16/03/2021               25.0\n",
              "17429         NaN  16/03/2021                NaN\n",
              "17430  23/03/2021  14/04/2021               22.0\n",
              "17431  30/03/2021  27/04/2021               28.0\n",
              "\n",
              "[17432 rows x 3 columns]"
            ],
            "text/html": [
              "\n",
              "\n",
              "  <div id=\"df-ef49ad37-5164-475e-a290-f8cbf3da4c9e\">\n",
              "    <div class=\"colab-df-container\">\n",
              "      <div>\n",
              "<style scoped>\n",
              "    .dataframe tbody tr th:only-of-type {\n",
              "        vertical-align: middle;\n",
              "    }\n",
              "\n",
              "    .dataframe tbody tr th {\n",
              "        vertical-align: top;\n",
              "    }\n",
              "\n",
              "    .dataframe thead th {\n",
              "        text-align: right;\n",
              "    }\n",
              "</style>\n",
              "<table border=\"1\" class=\"dataframe\">\n",
              "  <thead>\n",
              "    <tr style=\"text-align: right;\">\n",
              "      <th></th>\n",
              "      <th>DOSE_1_COV</th>\n",
              "      <th>DOSE_2_COV</th>\n",
              "      <th>INTERVALO_VACINAS</th>\n",
              "    </tr>\n",
              "  </thead>\n",
              "  <tbody>\n",
              "    <tr>\n",
              "      <th>0</th>\n",
              "      <td>17/08/2021</td>\n",
              "      <td>05/11/2021</td>\n",
              "      <td>80.0</td>\n",
              "    </tr>\n",
              "    <tr>\n",
              "      <th>1</th>\n",
              "      <td>27/03/2021</td>\n",
              "      <td>19/04/2021</td>\n",
              "      <td>23.0</td>\n",
              "    </tr>\n",
              "    <tr>\n",
              "      <th>2</th>\n",
              "      <td>10/06/2021</td>\n",
              "      <td>30/09/2021</td>\n",
              "      <td>112.0</td>\n",
              "    </tr>\n",
              "    <tr>\n",
              "      <th>3</th>\n",
              "      <td>NaN</td>\n",
              "      <td>NaN</td>\n",
              "      <td>NaN</td>\n",
              "    </tr>\n",
              "    <tr>\n",
              "      <th>4</th>\n",
              "      <td>24/06/2021</td>\n",
              "      <td>16/09/2021</td>\n",
              "      <td>84.0</td>\n",
              "    </tr>\n",
              "    <tr>\n",
              "      <th>...</th>\n",
              "      <td>...</td>\n",
              "      <td>...</td>\n",
              "      <td>...</td>\n",
              "    </tr>\n",
              "    <tr>\n",
              "      <th>17427</th>\n",
              "      <td>NaN</td>\n",
              "      <td>NaN</td>\n",
              "      <td>NaN</td>\n",
              "    </tr>\n",
              "    <tr>\n",
              "      <th>17428</th>\n",
              "      <td>19/02/2021</td>\n",
              "      <td>16/03/2021</td>\n",
              "      <td>25.0</td>\n",
              "    </tr>\n",
              "    <tr>\n",
              "      <th>17429</th>\n",
              "      <td>NaN</td>\n",
              "      <td>16/03/2021</td>\n",
              "      <td>NaN</td>\n",
              "    </tr>\n",
              "    <tr>\n",
              "      <th>17430</th>\n",
              "      <td>23/03/2021</td>\n",
              "      <td>14/04/2021</td>\n",
              "      <td>22.0</td>\n",
              "    </tr>\n",
              "    <tr>\n",
              "      <th>17431</th>\n",
              "      <td>30/03/2021</td>\n",
              "      <td>27/04/2021</td>\n",
              "      <td>28.0</td>\n",
              "    </tr>\n",
              "  </tbody>\n",
              "</table>\n",
              "<p>17432 rows × 3 columns</p>\n",
              "</div>\n",
              "      <button class=\"colab-df-convert\" onclick=\"convertToInteractive('df-ef49ad37-5164-475e-a290-f8cbf3da4c9e')\"\n",
              "              title=\"Convert this dataframe to an interactive table.\"\n",
              "              style=\"display:none;\">\n",
              "\n",
              "  <svg xmlns=\"http://www.w3.org/2000/svg\" height=\"24px\"viewBox=\"0 0 24 24\"\n",
              "       width=\"24px\">\n",
              "    <path d=\"M0 0h24v24H0V0z\" fill=\"none\"/>\n",
              "    <path d=\"M18.56 5.44l.94 2.06.94-2.06 2.06-.94-2.06-.94-.94-2.06-.94 2.06-2.06.94zm-11 1L8.5 8.5l.94-2.06 2.06-.94-2.06-.94L8.5 2.5l-.94 2.06-2.06.94zm10 10l.94 2.06.94-2.06 2.06-.94-2.06-.94-.94-2.06-.94 2.06-2.06.94z\"/><path d=\"M17.41 7.96l-1.37-1.37c-.4-.4-.92-.59-1.43-.59-.52 0-1.04.2-1.43.59L10.3 9.45l-7.72 7.72c-.78.78-.78 2.05 0 2.83L4 21.41c.39.39.9.59 1.41.59.51 0 1.02-.2 1.41-.59l7.78-7.78 2.81-2.81c.8-.78.8-2.07 0-2.86zM5.41 20L4 18.59l7.72-7.72 1.47 1.35L5.41 20z\"/>\n",
              "  </svg>\n",
              "      </button>\n",
              "\n",
              "\n",
              "\n",
              "    <div id=\"df-2462b7aa-7669-4248-a59c-7e8d02dc8a78\">\n",
              "      <button class=\"colab-df-quickchart\" onclick=\"quickchart('df-2462b7aa-7669-4248-a59c-7e8d02dc8a78')\"\n",
              "              title=\"Suggest charts.\"\n",
              "              style=\"display:none;\">\n",
              "\n",
              "<svg xmlns=\"http://www.w3.org/2000/svg\" height=\"24px\"viewBox=\"0 0 24 24\"\n",
              "     width=\"24px\">\n",
              "    <g>\n",
              "        <path d=\"M19 3H5c-1.1 0-2 .9-2 2v14c0 1.1.9 2 2 2h14c1.1 0 2-.9 2-2V5c0-1.1-.9-2-2-2zM9 17H7v-7h2v7zm4 0h-2V7h2v10zm4 0h-2v-4h2v4z\"/>\n",
              "    </g>\n",
              "</svg>\n",
              "      </button>\n",
              "    </div>\n",
              "\n",
              "<style>\n",
              "  .colab-df-quickchart {\n",
              "    background-color: #E8F0FE;\n",
              "    border: none;\n",
              "    border-radius: 50%;\n",
              "    cursor: pointer;\n",
              "    display: none;\n",
              "    fill: #1967D2;\n",
              "    height: 32px;\n",
              "    padding: 0 0 0 0;\n",
              "    width: 32px;\n",
              "  }\n",
              "\n",
              "  .colab-df-quickchart:hover {\n",
              "    background-color: #E2EBFA;\n",
              "    box-shadow: 0px 1px 2px rgba(60, 64, 67, 0.3), 0px 1px 3px 1px rgba(60, 64, 67, 0.15);\n",
              "    fill: #174EA6;\n",
              "  }\n",
              "\n",
              "  [theme=dark] .colab-df-quickchart {\n",
              "    background-color: #3B4455;\n",
              "    fill: #D2E3FC;\n",
              "  }\n",
              "\n",
              "  [theme=dark] .colab-df-quickchart:hover {\n",
              "    background-color: #434B5C;\n",
              "    box-shadow: 0px 1px 3px 1px rgba(0, 0, 0, 0.15);\n",
              "    filter: drop-shadow(0px 1px 2px rgba(0, 0, 0, 0.3));\n",
              "    fill: #FFFFFF;\n",
              "  }\n",
              "</style>\n",
              "\n",
              "    <script>\n",
              "      async function quickchart(key) {\n",
              "        const containerElement = document.querySelector('#' + key);\n",
              "        const charts = await google.colab.kernel.invokeFunction(\n",
              "            'suggestCharts', [key], {});\n",
              "      }\n",
              "    </script>\n",
              "\n",
              "      <script>\n",
              "\n",
              "function displayQuickchartButton(domScope) {\n",
              "  let quickchartButtonEl =\n",
              "    domScope.querySelector('#df-2462b7aa-7669-4248-a59c-7e8d02dc8a78 button.colab-df-quickchart');\n",
              "  quickchartButtonEl.style.display =\n",
              "    google.colab.kernel.accessAllowed ? 'block' : 'none';\n",
              "}\n",
              "\n",
              "        displayQuickchartButton(document);\n",
              "      </script>\n",
              "      <style>\n",
              "    .colab-df-container {\n",
              "      display:flex;\n",
              "      flex-wrap:wrap;\n",
              "      gap: 12px;\n",
              "    }\n",
              "\n",
              "    .colab-df-convert {\n",
              "      background-color: #E8F0FE;\n",
              "      border: none;\n",
              "      border-radius: 50%;\n",
              "      cursor: pointer;\n",
              "      display: none;\n",
              "      fill: #1967D2;\n",
              "      height: 32px;\n",
              "      padding: 0 0 0 0;\n",
              "      width: 32px;\n",
              "    }\n",
              "\n",
              "    .colab-df-convert:hover {\n",
              "      background-color: #E2EBFA;\n",
              "      box-shadow: 0px 1px 2px rgba(60, 64, 67, 0.3), 0px 1px 3px 1px rgba(60, 64, 67, 0.15);\n",
              "      fill: #174EA6;\n",
              "    }\n",
              "\n",
              "    [theme=dark] .colab-df-convert {\n",
              "      background-color: #3B4455;\n",
              "      fill: #D2E3FC;\n",
              "    }\n",
              "\n",
              "    [theme=dark] .colab-df-convert:hover {\n",
              "      background-color: #434B5C;\n",
              "      box-shadow: 0px 1px 3px 1px rgba(0, 0, 0, 0.15);\n",
              "      filter: drop-shadow(0px 1px 2px rgba(0, 0, 0, 0.3));\n",
              "      fill: #FFFFFF;\n",
              "    }\n",
              "  </style>\n",
              "\n",
              "      <script>\n",
              "        const buttonEl =\n",
              "          document.querySelector('#df-ef49ad37-5164-475e-a290-f8cbf3da4c9e button.colab-df-convert');\n",
              "        buttonEl.style.display =\n",
              "          google.colab.kernel.accessAllowed ? 'block' : 'none';\n",
              "\n",
              "        async function convertToInteractive(key) {\n",
              "          const element = document.querySelector('#df-ef49ad37-5164-475e-a290-f8cbf3da4c9e');\n",
              "          const dataTable =\n",
              "            await google.colab.kernel.invokeFunction('convertToInteractive',\n",
              "                                                     [key], {});\n",
              "          if (!dataTable) return;\n",
              "\n",
              "          const docLinkHtml = 'Like what you see? Visit the ' +\n",
              "            '<a target=\"_blank\" href=https://colab.research.google.com/notebooks/data_table.ipynb>data table notebook</a>'\n",
              "            + ' to learn more about interactive tables.';\n",
              "          element.innerHTML = '';\n",
              "          dataTable['output_type'] = 'display_data';\n",
              "          await google.colab.output.renderOutput(dataTable, element);\n",
              "          const docLink = document.createElement('div');\n",
              "          docLink.innerHTML = docLinkHtml;\n",
              "          element.appendChild(docLink);\n",
              "        }\n",
              "      </script>\n",
              "    </div>\n",
              "  </div>\n"
            ]
          },
          "metadata": {},
          "execution_count": 69
        }
      ]
    },
    {
      "cell_type": "code",
      "source": [
        "# Calcula mediana\n",
        "mediana_intervalo = data['INTERVALO_VACINAS'].median()\n",
        "mediana_intervalo"
      ],
      "metadata": {
        "colab": {
          "base_uri": "https://localhost:8080/"
        },
        "id": "3s6idcBJy-RJ",
        "outputId": "8e5bb7c4-1ec6-45df-eda7-87d984dba3ec"
      },
      "execution_count": null,
      "outputs": [
        {
          "output_type": "execute_result",
          "data": {
            "text/plain": [
              "40.0"
            ]
          },
          "metadata": {},
          "execution_count": 70
        }
      ]
    },
    {
      "cell_type": "code",
      "source": [
        "# Remove coluna\n",
        "data.drop(['INTERVALO_VACINAS'], axis=1, inplace=True)"
      ],
      "metadata": {
        "id": "N-OktibIy-UT"
      },
      "execution_count": null,
      "outputs": []
    },
    {
      "cell_type": "code",
      "source": [
        "# Armazena a quantidade de dias da primeira dose até a notificação\n",
        "data['DIAS_DOSE1'] = ''"
      ],
      "metadata": {
        "id": "pFyDfQZ1y-Xo"
      },
      "execution_count": null,
      "outputs": []
    },
    {
      "cell_type": "code",
      "source": [
        "# Calcula a quantidade de dias da primeira dose até a notificação\n",
        "def calc_dias_vac(row):\n",
        "  if row['VACINA_COV'] != 1:\n",
        "    return 0\n",
        "\n",
        "  if pd.isna(row['DOSE_1_COV']) and pd.isna(row['DOSE_2_COV']):\n",
        "    return np.nan\n",
        "\n",
        "  if pd.isna(row['DOSE_1_COV']):\n",
        "    dataDose2 = datetime.strptime(row['DOSE_2_COV'], '%d/%m/%Y')\n",
        "    data1 = dataDose2 - timedelta(days=mediana_intervalo)\n",
        "  else:\n",
        "    data1 = datetime.strptime(row['DOSE_1_COV'], '%d/%m/%Y')\n",
        "\n",
        "  data2 = datetime.strptime(row['DT_NOTIFIC'], '%d/%m/%Y')\n",
        "  return abs((data2 - data1).days)\n",
        "\n",
        "# Chama a função e atribui o resultado à coluna 'DIAS_DOSE1'\n",
        "data['DIAS_DOSE1'] = data.apply(calc_dias_vac, axis=1)"
      ],
      "metadata": {
        "id": "pq9gybRAy-an"
      },
      "execution_count": null,
      "outputs": []
    },
    {
      "cell_type": "code",
      "source": [
        "data[['DOSE_1_COV','DOSE_2_COV', 'DT_NOTIFIC', 'DIAS_DOSE1', 'DIAS_DOSE2']]"
      ],
      "metadata": {
        "colab": {
          "base_uri": "https://localhost:8080/"
        },
        "id": "k54PBFRky-dx",
        "outputId": "bef44551-89ea-4a29-b5df-4cda3aaae26f"
      },
      "execution_count": null,
      "outputs": [
        {
          "output_type": "execute_result",
          "data": {
            "text/plain": [
              "       DOSE_1_COV  DOSE_2_COV  DT_NOTIFIC  DIAS_DOSE1  DIAS_DOSE2\n",
              "0      17/08/2021  05/11/2021  05/01/2022       141.0          61\n",
              "1      27/03/2021  19/04/2021  07/01/2022       286.0         263\n",
              "2      10/06/2021  30/09/2021  10/01/2022       214.0         102\n",
              "3             NaN         NaN  19/01/2022         0.0           0\n",
              "4      24/06/2021  16/09/2021  10/01/2022       200.0         116\n",
              "...           ...         ...         ...         ...         ...\n",
              "17427         NaN         NaN  29/06/2022         0.0           0\n",
              "17428  19/02/2021  16/03/2021  09/08/2022       536.0         511\n",
              "17429         NaN  16/03/2021  30/08/2022       572.0         532\n",
              "17430  23/03/2021  14/04/2021  10/11/2022       597.0         575\n",
              "17431  30/03/2021  27/04/2021  24/12/2022       634.0         606\n",
              "\n",
              "[17432 rows x 5 columns]"
            ],
            "text/html": [
              "\n",
              "\n",
              "  <div id=\"df-a4f7ed2c-ad24-46ce-8c3d-aa3bcf3e72ed\">\n",
              "    <div class=\"colab-df-container\">\n",
              "      <div>\n",
              "<style scoped>\n",
              "    .dataframe tbody tr th:only-of-type {\n",
              "        vertical-align: middle;\n",
              "    }\n",
              "\n",
              "    .dataframe tbody tr th {\n",
              "        vertical-align: top;\n",
              "    }\n",
              "\n",
              "    .dataframe thead th {\n",
              "        text-align: right;\n",
              "    }\n",
              "</style>\n",
              "<table border=\"1\" class=\"dataframe\">\n",
              "  <thead>\n",
              "    <tr style=\"text-align: right;\">\n",
              "      <th></th>\n",
              "      <th>DOSE_1_COV</th>\n",
              "      <th>DOSE_2_COV</th>\n",
              "      <th>DT_NOTIFIC</th>\n",
              "      <th>DIAS_DOSE1</th>\n",
              "      <th>DIAS_DOSE2</th>\n",
              "    </tr>\n",
              "  </thead>\n",
              "  <tbody>\n",
              "    <tr>\n",
              "      <th>0</th>\n",
              "      <td>17/08/2021</td>\n",
              "      <td>05/11/2021</td>\n",
              "      <td>05/01/2022</td>\n",
              "      <td>141.0</td>\n",
              "      <td>61</td>\n",
              "    </tr>\n",
              "    <tr>\n",
              "      <th>1</th>\n",
              "      <td>27/03/2021</td>\n",
              "      <td>19/04/2021</td>\n",
              "      <td>07/01/2022</td>\n",
              "      <td>286.0</td>\n",
              "      <td>263</td>\n",
              "    </tr>\n",
              "    <tr>\n",
              "      <th>2</th>\n",
              "      <td>10/06/2021</td>\n",
              "      <td>30/09/2021</td>\n",
              "      <td>10/01/2022</td>\n",
              "      <td>214.0</td>\n",
              "      <td>102</td>\n",
              "    </tr>\n",
              "    <tr>\n",
              "      <th>3</th>\n",
              "      <td>NaN</td>\n",
              "      <td>NaN</td>\n",
              "      <td>19/01/2022</td>\n",
              "      <td>0.0</td>\n",
              "      <td>0</td>\n",
              "    </tr>\n",
              "    <tr>\n",
              "      <th>4</th>\n",
              "      <td>24/06/2021</td>\n",
              "      <td>16/09/2021</td>\n",
              "      <td>10/01/2022</td>\n",
              "      <td>200.0</td>\n",
              "      <td>116</td>\n",
              "    </tr>\n",
              "    <tr>\n",
              "      <th>...</th>\n",
              "      <td>...</td>\n",
              "      <td>...</td>\n",
              "      <td>...</td>\n",
              "      <td>...</td>\n",
              "      <td>...</td>\n",
              "    </tr>\n",
              "    <tr>\n",
              "      <th>17427</th>\n",
              "      <td>NaN</td>\n",
              "      <td>NaN</td>\n",
              "      <td>29/06/2022</td>\n",
              "      <td>0.0</td>\n",
              "      <td>0</td>\n",
              "    </tr>\n",
              "    <tr>\n",
              "      <th>17428</th>\n",
              "      <td>19/02/2021</td>\n",
              "      <td>16/03/2021</td>\n",
              "      <td>09/08/2022</td>\n",
              "      <td>536.0</td>\n",
              "      <td>511</td>\n",
              "    </tr>\n",
              "    <tr>\n",
              "      <th>17429</th>\n",
              "      <td>NaN</td>\n",
              "      <td>16/03/2021</td>\n",
              "      <td>30/08/2022</td>\n",
              "      <td>572.0</td>\n",
              "      <td>532</td>\n",
              "    </tr>\n",
              "    <tr>\n",
              "      <th>17430</th>\n",
              "      <td>23/03/2021</td>\n",
              "      <td>14/04/2021</td>\n",
              "      <td>10/11/2022</td>\n",
              "      <td>597.0</td>\n",
              "      <td>575</td>\n",
              "    </tr>\n",
              "    <tr>\n",
              "      <th>17431</th>\n",
              "      <td>30/03/2021</td>\n",
              "      <td>27/04/2021</td>\n",
              "      <td>24/12/2022</td>\n",
              "      <td>634.0</td>\n",
              "      <td>606</td>\n",
              "    </tr>\n",
              "  </tbody>\n",
              "</table>\n",
              "<p>17432 rows × 5 columns</p>\n",
              "</div>\n",
              "      <button class=\"colab-df-convert\" onclick=\"convertToInteractive('df-a4f7ed2c-ad24-46ce-8c3d-aa3bcf3e72ed')\"\n",
              "              title=\"Convert this dataframe to an interactive table.\"\n",
              "              style=\"display:none;\">\n",
              "\n",
              "  <svg xmlns=\"http://www.w3.org/2000/svg\" height=\"24px\"viewBox=\"0 0 24 24\"\n",
              "       width=\"24px\">\n",
              "    <path d=\"M0 0h24v24H0V0z\" fill=\"none\"/>\n",
              "    <path d=\"M18.56 5.44l.94 2.06.94-2.06 2.06-.94-2.06-.94-.94-2.06-.94 2.06-2.06.94zm-11 1L8.5 8.5l.94-2.06 2.06-.94-2.06-.94L8.5 2.5l-.94 2.06-2.06.94zm10 10l.94 2.06.94-2.06 2.06-.94-2.06-.94-.94-2.06-.94 2.06-2.06.94z\"/><path d=\"M17.41 7.96l-1.37-1.37c-.4-.4-.92-.59-1.43-.59-.52 0-1.04.2-1.43.59L10.3 9.45l-7.72 7.72c-.78.78-.78 2.05 0 2.83L4 21.41c.39.39.9.59 1.41.59.51 0 1.02-.2 1.41-.59l7.78-7.78 2.81-2.81c.8-.78.8-2.07 0-2.86zM5.41 20L4 18.59l7.72-7.72 1.47 1.35L5.41 20z\"/>\n",
              "  </svg>\n",
              "      </button>\n",
              "\n",
              "\n",
              "\n",
              "    <div id=\"df-8f4f5148-af25-4339-850f-57497a1f38db\">\n",
              "      <button class=\"colab-df-quickchart\" onclick=\"quickchart('df-8f4f5148-af25-4339-850f-57497a1f38db')\"\n",
              "              title=\"Suggest charts.\"\n",
              "              style=\"display:none;\">\n",
              "\n",
              "<svg xmlns=\"http://www.w3.org/2000/svg\" height=\"24px\"viewBox=\"0 0 24 24\"\n",
              "     width=\"24px\">\n",
              "    <g>\n",
              "        <path d=\"M19 3H5c-1.1 0-2 .9-2 2v14c0 1.1.9 2 2 2h14c1.1 0 2-.9 2-2V5c0-1.1-.9-2-2-2zM9 17H7v-7h2v7zm4 0h-2V7h2v10zm4 0h-2v-4h2v4z\"/>\n",
              "    </g>\n",
              "</svg>\n",
              "      </button>\n",
              "    </div>\n",
              "\n",
              "<style>\n",
              "  .colab-df-quickchart {\n",
              "    background-color: #E8F0FE;\n",
              "    border: none;\n",
              "    border-radius: 50%;\n",
              "    cursor: pointer;\n",
              "    display: none;\n",
              "    fill: #1967D2;\n",
              "    height: 32px;\n",
              "    padding: 0 0 0 0;\n",
              "    width: 32px;\n",
              "  }\n",
              "\n",
              "  .colab-df-quickchart:hover {\n",
              "    background-color: #E2EBFA;\n",
              "    box-shadow: 0px 1px 2px rgba(60, 64, 67, 0.3), 0px 1px 3px 1px rgba(60, 64, 67, 0.15);\n",
              "    fill: #174EA6;\n",
              "  }\n",
              "\n",
              "  [theme=dark] .colab-df-quickchart {\n",
              "    background-color: #3B4455;\n",
              "    fill: #D2E3FC;\n",
              "  }\n",
              "\n",
              "  [theme=dark] .colab-df-quickchart:hover {\n",
              "    background-color: #434B5C;\n",
              "    box-shadow: 0px 1px 3px 1px rgba(0, 0, 0, 0.15);\n",
              "    filter: drop-shadow(0px 1px 2px rgba(0, 0, 0, 0.3));\n",
              "    fill: #FFFFFF;\n",
              "  }\n",
              "</style>\n",
              "\n",
              "    <script>\n",
              "      async function quickchart(key) {\n",
              "        const containerElement = document.querySelector('#' + key);\n",
              "        const charts = await google.colab.kernel.invokeFunction(\n",
              "            'suggestCharts', [key], {});\n",
              "      }\n",
              "    </script>\n",
              "\n",
              "      <script>\n",
              "\n",
              "function displayQuickchartButton(domScope) {\n",
              "  let quickchartButtonEl =\n",
              "    domScope.querySelector('#df-8f4f5148-af25-4339-850f-57497a1f38db button.colab-df-quickchart');\n",
              "  quickchartButtonEl.style.display =\n",
              "    google.colab.kernel.accessAllowed ? 'block' : 'none';\n",
              "}\n",
              "\n",
              "        displayQuickchartButton(document);\n",
              "      </script>\n",
              "      <style>\n",
              "    .colab-df-container {\n",
              "      display:flex;\n",
              "      flex-wrap:wrap;\n",
              "      gap: 12px;\n",
              "    }\n",
              "\n",
              "    .colab-df-convert {\n",
              "      background-color: #E8F0FE;\n",
              "      border: none;\n",
              "      border-radius: 50%;\n",
              "      cursor: pointer;\n",
              "      display: none;\n",
              "      fill: #1967D2;\n",
              "      height: 32px;\n",
              "      padding: 0 0 0 0;\n",
              "      width: 32px;\n",
              "    }\n",
              "\n",
              "    .colab-df-convert:hover {\n",
              "      background-color: #E2EBFA;\n",
              "      box-shadow: 0px 1px 2px rgba(60, 64, 67, 0.3), 0px 1px 3px 1px rgba(60, 64, 67, 0.15);\n",
              "      fill: #174EA6;\n",
              "    }\n",
              "\n",
              "    [theme=dark] .colab-df-convert {\n",
              "      background-color: #3B4455;\n",
              "      fill: #D2E3FC;\n",
              "    }\n",
              "\n",
              "    [theme=dark] .colab-df-convert:hover {\n",
              "      background-color: #434B5C;\n",
              "      box-shadow: 0px 1px 3px 1px rgba(0, 0, 0, 0.15);\n",
              "      filter: drop-shadow(0px 1px 2px rgba(0, 0, 0, 0.3));\n",
              "      fill: #FFFFFF;\n",
              "    }\n",
              "  </style>\n",
              "\n",
              "      <script>\n",
              "        const buttonEl =\n",
              "          document.querySelector('#df-a4f7ed2c-ad24-46ce-8c3d-aa3bcf3e72ed button.colab-df-convert');\n",
              "        buttonEl.style.display =\n",
              "          google.colab.kernel.accessAllowed ? 'block' : 'none';\n",
              "\n",
              "        async function convertToInteractive(key) {\n",
              "          const element = document.querySelector('#df-a4f7ed2c-ad24-46ce-8c3d-aa3bcf3e72ed');\n",
              "          const dataTable =\n",
              "            await google.colab.kernel.invokeFunction('convertToInteractive',\n",
              "                                                     [key], {});\n",
              "          if (!dataTable) return;\n",
              "\n",
              "          const docLinkHtml = 'Like what you see? Visit the ' +\n",
              "            '<a target=\"_blank\" href=https://colab.research.google.com/notebooks/data_table.ipynb>data table notebook</a>'\n",
              "            + ' to learn more about interactive tables.';\n",
              "          element.innerHTML = '';\n",
              "          dataTable['output_type'] = 'display_data';\n",
              "          await google.colab.output.renderOutput(dataTable, element);\n",
              "          const docLink = document.createElement('div');\n",
              "          docLink.innerHTML = docLinkHtml;\n",
              "          element.appendChild(docLink);\n",
              "        }\n",
              "      </script>\n",
              "    </div>\n",
              "  </div>\n"
            ]
          },
          "metadata": {},
          "execution_count": 74
        }
      ]
    },
    {
      "cell_type": "code",
      "source": [
        "# Conta os valores NaN\n",
        "data['DIAS_DOSE1'].isnull().sum()"
      ],
      "metadata": {
        "colab": {
          "base_uri": "https://localhost:8080/"
        },
        "id": "SSEHXgCny-g7",
        "outputId": "558cb43b-0bbd-440a-a291-42eda158f1f9"
      },
      "execution_count": null,
      "outputs": [
        {
          "output_type": "execute_result",
          "data": {
            "text/plain": [
              "392"
            ]
          },
          "metadata": {},
          "execution_count": 75
        }
      ]
    },
    {
      "cell_type": "code",
      "source": [
        "# Calcula a mediana\n",
        "data['DIAS_DOSE1'].median()"
      ],
      "metadata": {
        "colab": {
          "base_uri": "https://localhost:8080/"
        },
        "id": "lJDVYE0Xy-j8",
        "outputId": "ed40b6b1-4cd1-43e6-e4b9-deea36460d47"
      },
      "execution_count": null,
      "outputs": [
        {
          "output_type": "execute_result",
          "data": {
            "text/plain": [
              "323.5"
            ]
          },
          "metadata": {},
          "execution_count": 76
        }
      ]
    },
    {
      "cell_type": "code",
      "source": [
        "# Preenche valores NaN com a moda mediana\n",
        "data['DIAS_DOSE1'].fillna(data['DIAS_DOSE1'].median(), inplace=True)\n",
        "\n",
        "# Converte o tipo de dados de float para int\n",
        "data['DIAS_DOSE1'] = data['DIAS_DOSE1'].astype(int)"
      ],
      "metadata": {
        "id": "dy-YVegay-nE"
      },
      "execution_count": null,
      "outputs": []
    },
    {
      "cell_type": "code",
      "source": [
        "data['DIAS_DOSE1'].info()"
      ],
      "metadata": {
        "colab": {
          "base_uri": "https://localhost:8080/"
        },
        "id": "Hn87Qpb_y-qY",
        "outputId": "1e0dc254-90f7-407d-a209-b104cf9d67cc"
      },
      "execution_count": null,
      "outputs": [
        {
          "output_type": "stream",
          "name": "stdout",
          "text": [
            "<class 'pandas.core.series.Series'>\n",
            "RangeIndex: 17432 entries, 0 to 17431\n",
            "Series name: DIAS_DOSE1\n",
            "Non-Null Count  Dtype\n",
            "--------------  -----\n",
            "17432 non-null  int64\n",
            "dtypes: int64(1)\n",
            "memory usage: 136.3 KB\n"
          ]
        }
      ]
    },
    {
      "cell_type": "code",
      "source": [
        "data[['DOSE_1_COV','DOSE_2_COV', 'DT_NOTIFIC', 'DIAS_DOSE1','DIAS_DOSE2']]"
      ],
      "metadata": {
        "colab": {
          "base_uri": "https://localhost:8080/"
        },
        "id": "KWaQ4LGFy-tj",
        "outputId": "b398078d-1325-44f2-caf8-03632712cb3d"
      },
      "execution_count": null,
      "outputs": [
        {
          "output_type": "execute_result",
          "data": {
            "text/plain": [
              "       DOSE_1_COV  DOSE_2_COV  DT_NOTIFIC  DIAS_DOSE1  DIAS_DOSE2\n",
              "0      17/08/2021  05/11/2021  05/01/2022         141          61\n",
              "1      27/03/2021  19/04/2021  07/01/2022         286         263\n",
              "2      10/06/2021  30/09/2021  10/01/2022         214         102\n",
              "3             NaN         NaN  19/01/2022           0           0\n",
              "4      24/06/2021  16/09/2021  10/01/2022         200         116\n",
              "...           ...         ...         ...         ...         ...\n",
              "17427         NaN         NaN  29/06/2022           0           0\n",
              "17428  19/02/2021  16/03/2021  09/08/2022         536         511\n",
              "17429         NaN  16/03/2021  30/08/2022         572         532\n",
              "17430  23/03/2021  14/04/2021  10/11/2022         597         575\n",
              "17431  30/03/2021  27/04/2021  24/12/2022         634         606\n",
              "\n",
              "[17432 rows x 5 columns]"
            ],
            "text/html": [
              "\n",
              "\n",
              "  <div id=\"df-11e15ad6-5734-47c7-8e9a-16bfd149c0d7\">\n",
              "    <div class=\"colab-df-container\">\n",
              "      <div>\n",
              "<style scoped>\n",
              "    .dataframe tbody tr th:only-of-type {\n",
              "        vertical-align: middle;\n",
              "    }\n",
              "\n",
              "    .dataframe tbody tr th {\n",
              "        vertical-align: top;\n",
              "    }\n",
              "\n",
              "    .dataframe thead th {\n",
              "        text-align: right;\n",
              "    }\n",
              "</style>\n",
              "<table border=\"1\" class=\"dataframe\">\n",
              "  <thead>\n",
              "    <tr style=\"text-align: right;\">\n",
              "      <th></th>\n",
              "      <th>DOSE_1_COV</th>\n",
              "      <th>DOSE_2_COV</th>\n",
              "      <th>DT_NOTIFIC</th>\n",
              "      <th>DIAS_DOSE1</th>\n",
              "      <th>DIAS_DOSE2</th>\n",
              "    </tr>\n",
              "  </thead>\n",
              "  <tbody>\n",
              "    <tr>\n",
              "      <th>0</th>\n",
              "      <td>17/08/2021</td>\n",
              "      <td>05/11/2021</td>\n",
              "      <td>05/01/2022</td>\n",
              "      <td>141</td>\n",
              "      <td>61</td>\n",
              "    </tr>\n",
              "    <tr>\n",
              "      <th>1</th>\n",
              "      <td>27/03/2021</td>\n",
              "      <td>19/04/2021</td>\n",
              "      <td>07/01/2022</td>\n",
              "      <td>286</td>\n",
              "      <td>263</td>\n",
              "    </tr>\n",
              "    <tr>\n",
              "      <th>2</th>\n",
              "      <td>10/06/2021</td>\n",
              "      <td>30/09/2021</td>\n",
              "      <td>10/01/2022</td>\n",
              "      <td>214</td>\n",
              "      <td>102</td>\n",
              "    </tr>\n",
              "    <tr>\n",
              "      <th>3</th>\n",
              "      <td>NaN</td>\n",
              "      <td>NaN</td>\n",
              "      <td>19/01/2022</td>\n",
              "      <td>0</td>\n",
              "      <td>0</td>\n",
              "    </tr>\n",
              "    <tr>\n",
              "      <th>4</th>\n",
              "      <td>24/06/2021</td>\n",
              "      <td>16/09/2021</td>\n",
              "      <td>10/01/2022</td>\n",
              "      <td>200</td>\n",
              "      <td>116</td>\n",
              "    </tr>\n",
              "    <tr>\n",
              "      <th>...</th>\n",
              "      <td>...</td>\n",
              "      <td>...</td>\n",
              "      <td>...</td>\n",
              "      <td>...</td>\n",
              "      <td>...</td>\n",
              "    </tr>\n",
              "    <tr>\n",
              "      <th>17427</th>\n",
              "      <td>NaN</td>\n",
              "      <td>NaN</td>\n",
              "      <td>29/06/2022</td>\n",
              "      <td>0</td>\n",
              "      <td>0</td>\n",
              "    </tr>\n",
              "    <tr>\n",
              "      <th>17428</th>\n",
              "      <td>19/02/2021</td>\n",
              "      <td>16/03/2021</td>\n",
              "      <td>09/08/2022</td>\n",
              "      <td>536</td>\n",
              "      <td>511</td>\n",
              "    </tr>\n",
              "    <tr>\n",
              "      <th>17429</th>\n",
              "      <td>NaN</td>\n",
              "      <td>16/03/2021</td>\n",
              "      <td>30/08/2022</td>\n",
              "      <td>572</td>\n",
              "      <td>532</td>\n",
              "    </tr>\n",
              "    <tr>\n",
              "      <th>17430</th>\n",
              "      <td>23/03/2021</td>\n",
              "      <td>14/04/2021</td>\n",
              "      <td>10/11/2022</td>\n",
              "      <td>597</td>\n",
              "      <td>575</td>\n",
              "    </tr>\n",
              "    <tr>\n",
              "      <th>17431</th>\n",
              "      <td>30/03/2021</td>\n",
              "      <td>27/04/2021</td>\n",
              "      <td>24/12/2022</td>\n",
              "      <td>634</td>\n",
              "      <td>606</td>\n",
              "    </tr>\n",
              "  </tbody>\n",
              "</table>\n",
              "<p>17432 rows × 5 columns</p>\n",
              "</div>\n",
              "      <button class=\"colab-df-convert\" onclick=\"convertToInteractive('df-11e15ad6-5734-47c7-8e9a-16bfd149c0d7')\"\n",
              "              title=\"Convert this dataframe to an interactive table.\"\n",
              "              style=\"display:none;\">\n",
              "\n",
              "  <svg xmlns=\"http://www.w3.org/2000/svg\" height=\"24px\"viewBox=\"0 0 24 24\"\n",
              "       width=\"24px\">\n",
              "    <path d=\"M0 0h24v24H0V0z\" fill=\"none\"/>\n",
              "    <path d=\"M18.56 5.44l.94 2.06.94-2.06 2.06-.94-2.06-.94-.94-2.06-.94 2.06-2.06.94zm-11 1L8.5 8.5l.94-2.06 2.06-.94-2.06-.94L8.5 2.5l-.94 2.06-2.06.94zm10 10l.94 2.06.94-2.06 2.06-.94-2.06-.94-.94-2.06-.94 2.06-2.06.94z\"/><path d=\"M17.41 7.96l-1.37-1.37c-.4-.4-.92-.59-1.43-.59-.52 0-1.04.2-1.43.59L10.3 9.45l-7.72 7.72c-.78.78-.78 2.05 0 2.83L4 21.41c.39.39.9.59 1.41.59.51 0 1.02-.2 1.41-.59l7.78-7.78 2.81-2.81c.8-.78.8-2.07 0-2.86zM5.41 20L4 18.59l7.72-7.72 1.47 1.35L5.41 20z\"/>\n",
              "  </svg>\n",
              "      </button>\n",
              "\n",
              "\n",
              "\n",
              "    <div id=\"df-33f7cb6f-6070-4a86-9b56-e934a6c26395\">\n",
              "      <button class=\"colab-df-quickchart\" onclick=\"quickchart('df-33f7cb6f-6070-4a86-9b56-e934a6c26395')\"\n",
              "              title=\"Suggest charts.\"\n",
              "              style=\"display:none;\">\n",
              "\n",
              "<svg xmlns=\"http://www.w3.org/2000/svg\" height=\"24px\"viewBox=\"0 0 24 24\"\n",
              "     width=\"24px\">\n",
              "    <g>\n",
              "        <path d=\"M19 3H5c-1.1 0-2 .9-2 2v14c0 1.1.9 2 2 2h14c1.1 0 2-.9 2-2V5c0-1.1-.9-2-2-2zM9 17H7v-7h2v7zm4 0h-2V7h2v10zm4 0h-2v-4h2v4z\"/>\n",
              "    </g>\n",
              "</svg>\n",
              "      </button>\n",
              "    </div>\n",
              "\n",
              "<style>\n",
              "  .colab-df-quickchart {\n",
              "    background-color: #E8F0FE;\n",
              "    border: none;\n",
              "    border-radius: 50%;\n",
              "    cursor: pointer;\n",
              "    display: none;\n",
              "    fill: #1967D2;\n",
              "    height: 32px;\n",
              "    padding: 0 0 0 0;\n",
              "    width: 32px;\n",
              "  }\n",
              "\n",
              "  .colab-df-quickchart:hover {\n",
              "    background-color: #E2EBFA;\n",
              "    box-shadow: 0px 1px 2px rgba(60, 64, 67, 0.3), 0px 1px 3px 1px rgba(60, 64, 67, 0.15);\n",
              "    fill: #174EA6;\n",
              "  }\n",
              "\n",
              "  [theme=dark] .colab-df-quickchart {\n",
              "    background-color: #3B4455;\n",
              "    fill: #D2E3FC;\n",
              "  }\n",
              "\n",
              "  [theme=dark] .colab-df-quickchart:hover {\n",
              "    background-color: #434B5C;\n",
              "    box-shadow: 0px 1px 3px 1px rgba(0, 0, 0, 0.15);\n",
              "    filter: drop-shadow(0px 1px 2px rgba(0, 0, 0, 0.3));\n",
              "    fill: #FFFFFF;\n",
              "  }\n",
              "</style>\n",
              "\n",
              "    <script>\n",
              "      async function quickchart(key) {\n",
              "        const containerElement = document.querySelector('#' + key);\n",
              "        const charts = await google.colab.kernel.invokeFunction(\n",
              "            'suggestCharts', [key], {});\n",
              "      }\n",
              "    </script>\n",
              "\n",
              "      <script>\n",
              "\n",
              "function displayQuickchartButton(domScope) {\n",
              "  let quickchartButtonEl =\n",
              "    domScope.querySelector('#df-33f7cb6f-6070-4a86-9b56-e934a6c26395 button.colab-df-quickchart');\n",
              "  quickchartButtonEl.style.display =\n",
              "    google.colab.kernel.accessAllowed ? 'block' : 'none';\n",
              "}\n",
              "\n",
              "        displayQuickchartButton(document);\n",
              "      </script>\n",
              "      <style>\n",
              "    .colab-df-container {\n",
              "      display:flex;\n",
              "      flex-wrap:wrap;\n",
              "      gap: 12px;\n",
              "    }\n",
              "\n",
              "    .colab-df-convert {\n",
              "      background-color: #E8F0FE;\n",
              "      border: none;\n",
              "      border-radius: 50%;\n",
              "      cursor: pointer;\n",
              "      display: none;\n",
              "      fill: #1967D2;\n",
              "      height: 32px;\n",
              "      padding: 0 0 0 0;\n",
              "      width: 32px;\n",
              "    }\n",
              "\n",
              "    .colab-df-convert:hover {\n",
              "      background-color: #E2EBFA;\n",
              "      box-shadow: 0px 1px 2px rgba(60, 64, 67, 0.3), 0px 1px 3px 1px rgba(60, 64, 67, 0.15);\n",
              "      fill: #174EA6;\n",
              "    }\n",
              "\n",
              "    [theme=dark] .colab-df-convert {\n",
              "      background-color: #3B4455;\n",
              "      fill: #D2E3FC;\n",
              "    }\n",
              "\n",
              "    [theme=dark] .colab-df-convert:hover {\n",
              "      background-color: #434B5C;\n",
              "      box-shadow: 0px 1px 3px 1px rgba(0, 0, 0, 0.15);\n",
              "      filter: drop-shadow(0px 1px 2px rgba(0, 0, 0, 0.3));\n",
              "      fill: #FFFFFF;\n",
              "    }\n",
              "  </style>\n",
              "\n",
              "      <script>\n",
              "        const buttonEl =\n",
              "          document.querySelector('#df-11e15ad6-5734-47c7-8e9a-16bfd149c0d7 button.colab-df-convert');\n",
              "        buttonEl.style.display =\n",
              "          google.colab.kernel.accessAllowed ? 'block' : 'none';\n",
              "\n",
              "        async function convertToInteractive(key) {\n",
              "          const element = document.querySelector('#df-11e15ad6-5734-47c7-8e9a-16bfd149c0d7');\n",
              "          const dataTable =\n",
              "            await google.colab.kernel.invokeFunction('convertToInteractive',\n",
              "                                                     [key], {});\n",
              "          if (!dataTable) return;\n",
              "\n",
              "          const docLinkHtml = 'Like what you see? Visit the ' +\n",
              "            '<a target=\"_blank\" href=https://colab.research.google.com/notebooks/data_table.ipynb>data table notebook</a>'\n",
              "            + ' to learn more about interactive tables.';\n",
              "          element.innerHTML = '';\n",
              "          dataTable['output_type'] = 'display_data';\n",
              "          await google.colab.output.renderOutput(dataTable, element);\n",
              "          const docLink = document.createElement('div');\n",
              "          docLink.innerHTML = docLinkHtml;\n",
              "          element.appendChild(docLink);\n",
              "        }\n",
              "      </script>\n",
              "    </div>\n",
              "  </div>\n"
            ]
          },
          "metadata": {},
          "execution_count": 79
        }
      ]
    },
    {
      "cell_type": "code",
      "source": [
        "data.info()"
      ],
      "metadata": {
        "colab": {
          "base_uri": "https://localhost:8080/"
        },
        "id": "_kLht80Ly-wt",
        "outputId": "8ff8a837-b17a-49b2-f374-8bd620f8b367"
      },
      "execution_count": null,
      "outputs": [
        {
          "output_type": "stream",
          "name": "stdout",
          "text": [
            "<class 'pandas.core.frame.DataFrame'>\n",
            "RangeIndex: 17432 entries, 0 to 17431\n",
            "Data columns (total 48 columns):\n",
            " #   Column          Non-Null Count  Dtype  \n",
            "---  ------          --------------  -----  \n",
            " 0   DT_NOTIFIC      17432 non-null  object \n",
            " 1   DT_SIN_PRI      17432 non-null  object \n",
            " 2   CS_SEXO         17432 non-null  object \n",
            " 3   NU_IDADE_N      17432 non-null  int64  \n",
            " 4   CS_GESTANT      17432 non-null  float64\n",
            " 5   NOSOCOMIAL      17432 non-null  float64\n",
            " 6   FEBRE           17432 non-null  float64\n",
            " 7   TOSSE           17432 non-null  float64\n",
            " 8   GARGANTA        17432 non-null  float64\n",
            " 9   DISPNEIA        17432 non-null  float64\n",
            " 10  DESC_RESP       17432 non-null  float64\n",
            " 11  SATURACAO       17432 non-null  float64\n",
            " 12  DIARREIA        17432 non-null  float64\n",
            " 13  VOMITO          17432 non-null  float64\n",
            " 14  OUTRO_SIN       17432 non-null  float64\n",
            " 15  FATOR_RISC      17432 non-null  int64  \n",
            " 16  CARDIOPATI      17432 non-null  float64\n",
            " 17  DIABETES        17432 non-null  float64\n",
            " 18  OUT_MORBI       17432 non-null  float64\n",
            " 19  ANTIVIRAL       17432 non-null  float64\n",
            " 20  HOSPITAL        17432 non-null  float64\n",
            " 21  DT_INTERNA      16946 non-null  object \n",
            " 22  UTI             17432 non-null  float64\n",
            " 23  SUPORT_VEN      17432 non-null  float64\n",
            " 24  RAIOX_RES       17432 non-null  float64\n",
            " 25  AMOSTRA         17432 non-null  float64\n",
            " 26  TP_AMOSTRA      17432 non-null  float64\n",
            " 27  PCR_RESUL       17432 non-null  float64\n",
            " 28  DT_PCR          11096 non-null  object \n",
            " 29  POS_PCROUT      17432 non-null  float64\n",
            " 30  CRITERIO        17432 non-null  float64\n",
            " 31  EVOLUCAO        17432 non-null  int64  \n",
            " 32  DT_EVOLUCA      17295 non-null  object \n",
            " 33  DOR_ABD         17432 non-null  float64\n",
            " 34  FADIGA          17432 non-null  float64\n",
            " 35  PERD_OLFT       17432 non-null  float64\n",
            " 36  PERD_PALA       17432 non-null  float64\n",
            " 37  TOMO_RES        17432 non-null  float64\n",
            " 38  RES_AN          17432 non-null  float64\n",
            " 39  VACINA_COV      17432 non-null  float64\n",
            " 40  DOSE_1_COV      12831 non-null  object \n",
            " 41  DOSE_2_COV      12168 non-null  object \n",
            " 42  QTD_DIAS        17432 non-null  int64  \n",
            " 43  DIAS_INTERNA    17432 non-null  int64  \n",
            " 44  SINT_ATE_NOTIF  17432 non-null  int64  \n",
            " 45  PCR_EVOLUCAO    17432 non-null  int64  \n",
            " 46  DIAS_DOSE2      17432 non-null  int64  \n",
            " 47  DIAS_DOSE1      17432 non-null  int64  \n",
            "dtypes: float64(31), int64(9), object(8)\n",
            "memory usage: 6.4+ MB\n"
          ]
        }
      ]
    },
    {
      "cell_type": "code",
      "source": [
        "# Remove os atributos com datas\n",
        "data.drop(['DT_NOTIFIC', 'DT_SIN_PRI', 'DT_INTERNA', 'DT_PCR', 'DT_EVOLUCA', 'DOSE_1_COV', 'DOSE_2_COV'], axis = 1, inplace = True)\n",
        "data.shape"
      ],
      "metadata": {
        "colab": {
          "base_uri": "https://localhost:8080/"
        },
        "id": "Pkw5erOY3--9",
        "outputId": "70af8564-efca-4ec9-81fc-81b206a0ed6d"
      },
      "execution_count": null,
      "outputs": [
        {
          "output_type": "execute_result",
          "data": {
            "text/plain": [
              "(17432, 41)"
            ]
          },
          "metadata": {},
          "execution_count": 81
        }
      ]
    },
    {
      "cell_type": "markdown",
      "source": [
        "# Conversão do tipo de dado"
      ],
      "metadata": {
        "id": "lR8RJSAt4DN9"
      }
    },
    {
      "cell_type": "markdown",
      "source": [
        "Alterando o atributo \"CS_SEXO\" de object para int"
      ],
      "metadata": {
        "id": "soLf-re3oSx_"
      }
    },
    {
      "cell_type": "code",
      "source": [
        "# Teste Objects\n",
        "for i, row in data.iterrows():\n",
        "  if row['CS_SEXO'] == 'M':\n",
        "    data.at[i, 'CS_SEXO'] = 1\n",
        "  if row['CS_SEXO'] == 'F':\n",
        "    data.at[i, 'CS_SEXO'] = 2\n",
        "\n",
        "# Convertendo object -> int\n",
        "data['CS_SEXO'] = data['CS_SEXO'].astype(int)\n",
        "\n",
        "data['CS_SEXO'].info()"
      ],
      "metadata": {
        "colab": {
          "base_uri": "https://localhost:8080/"
        },
        "id": "uqVdxhbr4IBG",
        "outputId": "2c8f1b47-8c05-4540-dac0-4778e4bcb4e4"
      },
      "execution_count": null,
      "outputs": [
        {
          "output_type": "stream",
          "name": "stdout",
          "text": [
            "<class 'pandas.core.series.Series'>\n",
            "RangeIndex: 17432 entries, 0 to 17431\n",
            "Series name: CS_SEXO\n",
            "Non-Null Count  Dtype\n",
            "--------------  -----\n",
            "17432 non-null  int64\n",
            "dtypes: int64(1)\n",
            "memory usage: 136.3 KB\n"
          ]
        }
      ]
    },
    {
      "cell_type": "code",
      "source": [
        "# Convertendo float -> int\n",
        "for column in data:\n",
        "  if data[column].dtypes == 'float64':\n",
        "    data[column] = data[column].astype(int)\n",
        "\n",
        "data.info()"
      ],
      "metadata": {
        "colab": {
          "base_uri": "https://localhost:8080/"
        },
        "id": "aAvkFrkJ4Nju",
        "outputId": "30e3ae96-5553-4138-a3dc-db1a4d6f6713"
      },
      "execution_count": null,
      "outputs": [
        {
          "output_type": "stream",
          "name": "stdout",
          "text": [
            "<class 'pandas.core.frame.DataFrame'>\n",
            "RangeIndex: 17432 entries, 0 to 17431\n",
            "Data columns (total 41 columns):\n",
            " #   Column          Non-Null Count  Dtype\n",
            "---  ------          --------------  -----\n",
            " 0   CS_SEXO         17432 non-null  int64\n",
            " 1   NU_IDADE_N      17432 non-null  int64\n",
            " 2   CS_GESTANT      17432 non-null  int64\n",
            " 3   NOSOCOMIAL      17432 non-null  int64\n",
            " 4   FEBRE           17432 non-null  int64\n",
            " 5   TOSSE           17432 non-null  int64\n",
            " 6   GARGANTA        17432 non-null  int64\n",
            " 7   DISPNEIA        17432 non-null  int64\n",
            " 8   DESC_RESP       17432 non-null  int64\n",
            " 9   SATURACAO       17432 non-null  int64\n",
            " 10  DIARREIA        17432 non-null  int64\n",
            " 11  VOMITO          17432 non-null  int64\n",
            " 12  OUTRO_SIN       17432 non-null  int64\n",
            " 13  FATOR_RISC      17432 non-null  int64\n",
            " 14  CARDIOPATI      17432 non-null  int64\n",
            " 15  DIABETES        17432 non-null  int64\n",
            " 16  OUT_MORBI       17432 non-null  int64\n",
            " 17  ANTIVIRAL       17432 non-null  int64\n",
            " 18  HOSPITAL        17432 non-null  int64\n",
            " 19  UTI             17432 non-null  int64\n",
            " 20  SUPORT_VEN      17432 non-null  int64\n",
            " 21  RAIOX_RES       17432 non-null  int64\n",
            " 22  AMOSTRA         17432 non-null  int64\n",
            " 23  TP_AMOSTRA      17432 non-null  int64\n",
            " 24  PCR_RESUL       17432 non-null  int64\n",
            " 25  POS_PCROUT      17432 non-null  int64\n",
            " 26  CRITERIO        17432 non-null  int64\n",
            " 27  EVOLUCAO        17432 non-null  int64\n",
            " 28  DOR_ABD         17432 non-null  int64\n",
            " 29  FADIGA          17432 non-null  int64\n",
            " 30  PERD_OLFT       17432 non-null  int64\n",
            " 31  PERD_PALA       17432 non-null  int64\n",
            " 32  TOMO_RES        17432 non-null  int64\n",
            " 33  RES_AN          17432 non-null  int64\n",
            " 34  VACINA_COV      17432 non-null  int64\n",
            " 35  QTD_DIAS        17432 non-null  int64\n",
            " 36  DIAS_INTERNA    17432 non-null  int64\n",
            " 37  SINT_ATE_NOTIF  17432 non-null  int64\n",
            " 38  PCR_EVOLUCAO    17432 non-null  int64\n",
            " 39  DIAS_DOSE2      17432 non-null  int64\n",
            " 40  DIAS_DOSE1      17432 non-null  int64\n",
            "dtypes: int64(41)\n",
            "memory usage: 5.5 MB\n"
          ]
        }
      ]
    },
    {
      "cell_type": "code",
      "source": [
        "data.shape"
      ],
      "metadata": {
        "colab": {
          "base_uri": "https://localhost:8080/"
        },
        "id": "_mMG1son4Nm4",
        "outputId": "be411697-5ff5-4780-a852-f160bd2766ad"
      },
      "execution_count": null,
      "outputs": [
        {
          "output_type": "execute_result",
          "data": {
            "text/plain": [
              "(17432, 41)"
            ]
          },
          "metadata": {},
          "execution_count": 84
        }
      ]
    },
    {
      "cell_type": "code",
      "source": [
        "data.head()"
      ],
      "metadata": {
        "colab": {
          "base_uri": "https://localhost:8080/"
        },
        "id": "edVb_bUv4NqC",
        "outputId": "caa17718-b568-4603-cc77-4f4a71864404"
      },
      "execution_count": null,
      "outputs": [
        {
          "output_type": "execute_result",
          "data": {
            "text/plain": [
              "   CS_SEXO  NU_IDADE_N  CS_GESTANT  NOSOCOMIAL  FEBRE  TOSSE  GARGANTA  \\\n",
              "0        2          28           5           2      1      1         2   \n",
              "1        1          72           6           2      6      6         1   \n",
              "2        2          50           5           2      2      1         1   \n",
              "3        1          59           6           2      1      1         2   \n",
              "4        2          43           5           2      2      1         1   \n",
              "\n",
              "   DISPNEIA  DESC_RESP  SATURACAO  ...  PERD_PALA  TOMO_RES  RES_AN  \\\n",
              "0         2          2          2  ...          2         6       4   \n",
              "1         6          6          1  ...          1         6       1   \n",
              "2         1          1          2  ...          1         6       5   \n",
              "3         1          1          1  ...          2         6       6   \n",
              "4         2          2          2  ...          2         1       4   \n",
              "\n",
              "   VACINA_COV  QTD_DIAS  DIAS_INTERNA  SINT_ATE_NOTIF  PCR_EVOLUCAO  \\\n",
              "0           1         1             1               2             3   \n",
              "1           1        18            18               2             0   \n",
              "2           1         3             2               3             0   \n",
              "3           2        19            19              13            17   \n",
              "4           1         3             3               0             0   \n",
              "\n",
              "   DIAS_DOSE2  DIAS_DOSE1  \n",
              "0          61         141  \n",
              "1         263         286  \n",
              "2         102         214  \n",
              "3           0           0  \n",
              "4         116         200  \n",
              "\n",
              "[5 rows x 41 columns]"
            ],
            "text/html": [
              "\n",
              "\n",
              "  <div id=\"df-7df3e229-7fa3-4a63-adc4-d04cf3fc9184\">\n",
              "    <div class=\"colab-df-container\">\n",
              "      <div>\n",
              "<style scoped>\n",
              "    .dataframe tbody tr th:only-of-type {\n",
              "        vertical-align: middle;\n",
              "    }\n",
              "\n",
              "    .dataframe tbody tr th {\n",
              "        vertical-align: top;\n",
              "    }\n",
              "\n",
              "    .dataframe thead th {\n",
              "        text-align: right;\n",
              "    }\n",
              "</style>\n",
              "<table border=\"1\" class=\"dataframe\">\n",
              "  <thead>\n",
              "    <tr style=\"text-align: right;\">\n",
              "      <th></th>\n",
              "      <th>CS_SEXO</th>\n",
              "      <th>NU_IDADE_N</th>\n",
              "      <th>CS_GESTANT</th>\n",
              "      <th>NOSOCOMIAL</th>\n",
              "      <th>FEBRE</th>\n",
              "      <th>TOSSE</th>\n",
              "      <th>GARGANTA</th>\n",
              "      <th>DISPNEIA</th>\n",
              "      <th>DESC_RESP</th>\n",
              "      <th>SATURACAO</th>\n",
              "      <th>...</th>\n",
              "      <th>PERD_PALA</th>\n",
              "      <th>TOMO_RES</th>\n",
              "      <th>RES_AN</th>\n",
              "      <th>VACINA_COV</th>\n",
              "      <th>QTD_DIAS</th>\n",
              "      <th>DIAS_INTERNA</th>\n",
              "      <th>SINT_ATE_NOTIF</th>\n",
              "      <th>PCR_EVOLUCAO</th>\n",
              "      <th>DIAS_DOSE2</th>\n",
              "      <th>DIAS_DOSE1</th>\n",
              "    </tr>\n",
              "  </thead>\n",
              "  <tbody>\n",
              "    <tr>\n",
              "      <th>0</th>\n",
              "      <td>2</td>\n",
              "      <td>28</td>\n",
              "      <td>5</td>\n",
              "      <td>2</td>\n",
              "      <td>1</td>\n",
              "      <td>1</td>\n",
              "      <td>2</td>\n",
              "      <td>2</td>\n",
              "      <td>2</td>\n",
              "      <td>2</td>\n",
              "      <td>...</td>\n",
              "      <td>2</td>\n",
              "      <td>6</td>\n",
              "      <td>4</td>\n",
              "      <td>1</td>\n",
              "      <td>1</td>\n",
              "      <td>1</td>\n",
              "      <td>2</td>\n",
              "      <td>3</td>\n",
              "      <td>61</td>\n",
              "      <td>141</td>\n",
              "    </tr>\n",
              "    <tr>\n",
              "      <th>1</th>\n",
              "      <td>1</td>\n",
              "      <td>72</td>\n",
              "      <td>6</td>\n",
              "      <td>2</td>\n",
              "      <td>6</td>\n",
              "      <td>6</td>\n",
              "      <td>1</td>\n",
              "      <td>6</td>\n",
              "      <td>6</td>\n",
              "      <td>1</td>\n",
              "      <td>...</td>\n",
              "      <td>1</td>\n",
              "      <td>6</td>\n",
              "      <td>1</td>\n",
              "      <td>1</td>\n",
              "      <td>18</td>\n",
              "      <td>18</td>\n",
              "      <td>2</td>\n",
              "      <td>0</td>\n",
              "      <td>263</td>\n",
              "      <td>286</td>\n",
              "    </tr>\n",
              "    <tr>\n",
              "      <th>2</th>\n",
              "      <td>2</td>\n",
              "      <td>50</td>\n",
              "      <td>5</td>\n",
              "      <td>2</td>\n",
              "      <td>2</td>\n",
              "      <td>1</td>\n",
              "      <td>1</td>\n",
              "      <td>1</td>\n",
              "      <td>1</td>\n",
              "      <td>2</td>\n",
              "      <td>...</td>\n",
              "      <td>1</td>\n",
              "      <td>6</td>\n",
              "      <td>5</td>\n",
              "      <td>1</td>\n",
              "      <td>3</td>\n",
              "      <td>2</td>\n",
              "      <td>3</td>\n",
              "      <td>0</td>\n",
              "      <td>102</td>\n",
              "      <td>214</td>\n",
              "    </tr>\n",
              "    <tr>\n",
              "      <th>3</th>\n",
              "      <td>1</td>\n",
              "      <td>59</td>\n",
              "      <td>6</td>\n",
              "      <td>2</td>\n",
              "      <td>1</td>\n",
              "      <td>1</td>\n",
              "      <td>2</td>\n",
              "      <td>1</td>\n",
              "      <td>1</td>\n",
              "      <td>1</td>\n",
              "      <td>...</td>\n",
              "      <td>2</td>\n",
              "      <td>6</td>\n",
              "      <td>6</td>\n",
              "      <td>2</td>\n",
              "      <td>19</td>\n",
              "      <td>19</td>\n",
              "      <td>13</td>\n",
              "      <td>17</td>\n",
              "      <td>0</td>\n",
              "      <td>0</td>\n",
              "    </tr>\n",
              "    <tr>\n",
              "      <th>4</th>\n",
              "      <td>2</td>\n",
              "      <td>43</td>\n",
              "      <td>5</td>\n",
              "      <td>2</td>\n",
              "      <td>2</td>\n",
              "      <td>1</td>\n",
              "      <td>1</td>\n",
              "      <td>2</td>\n",
              "      <td>2</td>\n",
              "      <td>2</td>\n",
              "      <td>...</td>\n",
              "      <td>2</td>\n",
              "      <td>1</td>\n",
              "      <td>4</td>\n",
              "      <td>1</td>\n",
              "      <td>3</td>\n",
              "      <td>3</td>\n",
              "      <td>0</td>\n",
              "      <td>0</td>\n",
              "      <td>116</td>\n",
              "      <td>200</td>\n",
              "    </tr>\n",
              "  </tbody>\n",
              "</table>\n",
              "<p>5 rows × 41 columns</p>\n",
              "</div>\n",
              "      <button class=\"colab-df-convert\" onclick=\"convertToInteractive('df-7df3e229-7fa3-4a63-adc4-d04cf3fc9184')\"\n",
              "              title=\"Convert this dataframe to an interactive table.\"\n",
              "              style=\"display:none;\">\n",
              "\n",
              "  <svg xmlns=\"http://www.w3.org/2000/svg\" height=\"24px\"viewBox=\"0 0 24 24\"\n",
              "       width=\"24px\">\n",
              "    <path d=\"M0 0h24v24H0V0z\" fill=\"none\"/>\n",
              "    <path d=\"M18.56 5.44l.94 2.06.94-2.06 2.06-.94-2.06-.94-.94-2.06-.94 2.06-2.06.94zm-11 1L8.5 8.5l.94-2.06 2.06-.94-2.06-.94L8.5 2.5l-.94 2.06-2.06.94zm10 10l.94 2.06.94-2.06 2.06-.94-2.06-.94-.94-2.06-.94 2.06-2.06.94z\"/><path d=\"M17.41 7.96l-1.37-1.37c-.4-.4-.92-.59-1.43-.59-.52 0-1.04.2-1.43.59L10.3 9.45l-7.72 7.72c-.78.78-.78 2.05 0 2.83L4 21.41c.39.39.9.59 1.41.59.51 0 1.02-.2 1.41-.59l7.78-7.78 2.81-2.81c.8-.78.8-2.07 0-2.86zM5.41 20L4 18.59l7.72-7.72 1.47 1.35L5.41 20z\"/>\n",
              "  </svg>\n",
              "      </button>\n",
              "\n",
              "\n",
              "\n",
              "    <div id=\"df-bdf8d2a2-c58b-49b8-9bfa-375115f19def\">\n",
              "      <button class=\"colab-df-quickchart\" onclick=\"quickchart('df-bdf8d2a2-c58b-49b8-9bfa-375115f19def')\"\n",
              "              title=\"Suggest charts.\"\n",
              "              style=\"display:none;\">\n",
              "\n",
              "<svg xmlns=\"http://www.w3.org/2000/svg\" height=\"24px\"viewBox=\"0 0 24 24\"\n",
              "     width=\"24px\">\n",
              "    <g>\n",
              "        <path d=\"M19 3H5c-1.1 0-2 .9-2 2v14c0 1.1.9 2 2 2h14c1.1 0 2-.9 2-2V5c0-1.1-.9-2-2-2zM9 17H7v-7h2v7zm4 0h-2V7h2v10zm4 0h-2v-4h2v4z\"/>\n",
              "    </g>\n",
              "</svg>\n",
              "      </button>\n",
              "    </div>\n",
              "\n",
              "<style>\n",
              "  .colab-df-quickchart {\n",
              "    background-color: #E8F0FE;\n",
              "    border: none;\n",
              "    border-radius: 50%;\n",
              "    cursor: pointer;\n",
              "    display: none;\n",
              "    fill: #1967D2;\n",
              "    height: 32px;\n",
              "    padding: 0 0 0 0;\n",
              "    width: 32px;\n",
              "  }\n",
              "\n",
              "  .colab-df-quickchart:hover {\n",
              "    background-color: #E2EBFA;\n",
              "    box-shadow: 0px 1px 2px rgba(60, 64, 67, 0.3), 0px 1px 3px 1px rgba(60, 64, 67, 0.15);\n",
              "    fill: #174EA6;\n",
              "  }\n",
              "\n",
              "  [theme=dark] .colab-df-quickchart {\n",
              "    background-color: #3B4455;\n",
              "    fill: #D2E3FC;\n",
              "  }\n",
              "\n",
              "  [theme=dark] .colab-df-quickchart:hover {\n",
              "    background-color: #434B5C;\n",
              "    box-shadow: 0px 1px 3px 1px rgba(0, 0, 0, 0.15);\n",
              "    filter: drop-shadow(0px 1px 2px rgba(0, 0, 0, 0.3));\n",
              "    fill: #FFFFFF;\n",
              "  }\n",
              "</style>\n",
              "\n",
              "    <script>\n",
              "      async function quickchart(key) {\n",
              "        const containerElement = document.querySelector('#' + key);\n",
              "        const charts = await google.colab.kernel.invokeFunction(\n",
              "            'suggestCharts', [key], {});\n",
              "      }\n",
              "    </script>\n",
              "\n",
              "      <script>\n",
              "\n",
              "function displayQuickchartButton(domScope) {\n",
              "  let quickchartButtonEl =\n",
              "    domScope.querySelector('#df-bdf8d2a2-c58b-49b8-9bfa-375115f19def button.colab-df-quickchart');\n",
              "  quickchartButtonEl.style.display =\n",
              "    google.colab.kernel.accessAllowed ? 'block' : 'none';\n",
              "}\n",
              "\n",
              "        displayQuickchartButton(document);\n",
              "      </script>\n",
              "      <style>\n",
              "    .colab-df-container {\n",
              "      display:flex;\n",
              "      flex-wrap:wrap;\n",
              "      gap: 12px;\n",
              "    }\n",
              "\n",
              "    .colab-df-convert {\n",
              "      background-color: #E8F0FE;\n",
              "      border: none;\n",
              "      border-radius: 50%;\n",
              "      cursor: pointer;\n",
              "      display: none;\n",
              "      fill: #1967D2;\n",
              "      height: 32px;\n",
              "      padding: 0 0 0 0;\n",
              "      width: 32px;\n",
              "    }\n",
              "\n",
              "    .colab-df-convert:hover {\n",
              "      background-color: #E2EBFA;\n",
              "      box-shadow: 0px 1px 2px rgba(60, 64, 67, 0.3), 0px 1px 3px 1px rgba(60, 64, 67, 0.15);\n",
              "      fill: #174EA6;\n",
              "    }\n",
              "\n",
              "    [theme=dark] .colab-df-convert {\n",
              "      background-color: #3B4455;\n",
              "      fill: #D2E3FC;\n",
              "    }\n",
              "\n",
              "    [theme=dark] .colab-df-convert:hover {\n",
              "      background-color: #434B5C;\n",
              "      box-shadow: 0px 1px 3px 1px rgba(0, 0, 0, 0.15);\n",
              "      filter: drop-shadow(0px 1px 2px rgba(0, 0, 0, 0.3));\n",
              "      fill: #FFFFFF;\n",
              "    }\n",
              "  </style>\n",
              "\n",
              "      <script>\n",
              "        const buttonEl =\n",
              "          document.querySelector('#df-7df3e229-7fa3-4a63-adc4-d04cf3fc9184 button.colab-df-convert');\n",
              "        buttonEl.style.display =\n",
              "          google.colab.kernel.accessAllowed ? 'block' : 'none';\n",
              "\n",
              "        async function convertToInteractive(key) {\n",
              "          const element = document.querySelector('#df-7df3e229-7fa3-4a63-adc4-d04cf3fc9184');\n",
              "          const dataTable =\n",
              "            await google.colab.kernel.invokeFunction('convertToInteractive',\n",
              "                                                     [key], {});\n",
              "          if (!dataTable) return;\n",
              "\n",
              "          const docLinkHtml = 'Like what you see? Visit the ' +\n",
              "            '<a target=\"_blank\" href=https://colab.research.google.com/notebooks/data_table.ipynb>data table notebook</a>'\n",
              "            + ' to learn more about interactive tables.';\n",
              "          element.innerHTML = '';\n",
              "          dataTable['output_type'] = 'display_data';\n",
              "          await google.colab.output.renderOutput(dataTable, element);\n",
              "          const docLink = document.createElement('div');\n",
              "          docLink.innerHTML = docLinkHtml;\n",
              "          element.appendChild(docLink);\n",
              "        }\n",
              "      </script>\n",
              "    </div>\n",
              "  </div>\n"
            ]
          },
          "metadata": {},
          "execution_count": 85
        }
      ]
    },
    {
      "cell_type": "markdown",
      "source": [
        "# Análise do valor alvo"
      ],
      "metadata": {
        "id": "LLIGQIS94qMe"
      }
    },
    {
      "cell_type": "code",
      "source": [
        "target_count = data['EVOLUCAO'].value_counts()\n",
        "recuperado_count = target_count[0]\n",
        "obito_count = target_count[1]\n",
        "proportion = round(recuperado_count / obito_count, 2)\n",
        "\n",
        "# Plotar gráfico de barras\n",
        "plt.bar(['RECUPERADO', 'ÓBITO'], [recuperado_count, obito_count])\n",
        "plt.title('Distribuição das evoluções dos casos de Covid-19')\n",
        "plt.xlabel('Evolução')\n",
        "plt.ylabel('Casos')\n",
        "\n",
        "# Adicionar rótulo com a contagem de casos em cada barra\n",
        "for i, count in enumerate([recuperado_count, obito_count]):\n",
        "    plt.text(i, count + 100, str(count), ha='center')\n",
        "\n",
        "# Adicionar rótulo com a proporção\n",
        "plt.text(0.5, max(recuperado_count, obito_count) + 200, f'Proporção de {proportion} para 1', ha='center')\n",
        "\n",
        "plt.show()"
      ],
      "metadata": {
        "colab": {
          "base_uri": "https://localhost:8080/"
        },
        "id": "nQgRdWf84zHm",
        "outputId": "c3128b67-27f0-4be6-ea6e-cab8da096470"
      },
      "execution_count": null,
      "outputs": [
        {
          "output_type": "display_data",
          "data": {
            "text/plain": [
              "<Figure size 640x480 with 1 Axes>"
            ],
            "image/png": "[encoded data removed]"
          },
          "metadata": {}
        }
      ]
    },
    {
      "cell_type": "markdown",
      "source": [
        "# Normalização"
      ],
      "metadata": {
        "id": "UB5jC4Oz57FL"
      }
    },
    {
      "cell_type": "markdown",
      "source": [
        "Separando o dataset entre atributos e rótulos"
      ],
      "metadata": {
        "id": "uzJakxCVe0Tu"
      }
    },
    {
      "cell_type": "code",
      "source": [
        "atributos = data.drop(columns = 'EVOLUCAO')\n",
        "rotulos = data['EVOLUCAO']"
      ],
      "metadata": {
        "id": "Wx1mlycR6A_r"
      },
      "execution_count": null,
      "outputs": []
    },
    {
      "cell_type": "code",
      "source": [
        "atributos"
      ],
      "metadata": {
        "colab": {
          "base_uri": "https://localhost:8080/"
        },
        "id": "8wzgxESJUjXg",
        "outputId": "05042f1e-9e7e-4012-811f-97fc1cae3766"
      },
      "execution_count": null,
      "outputs": [
        {
          "output_type": "execute_result",
          "data": {
            "text/plain": [
              "       CS_SEXO  NU_IDADE_N  CS_GESTANT  NOSOCOMIAL  FEBRE  TOSSE  GARGANTA  \\\n",
              "0            2          28           5           2      1      1         2   \n",
              "1            1          72           6           2      6      6         1   \n",
              "2            2          50           5           2      2      1         1   \n",
              "3            1          59           6           2      1      1         2   \n",
              "4            2          43           5           2      2      1         1   \n",
              "...        ...         ...         ...         ...    ...    ...       ...   \n",
              "17427        1          27           6           2      1      1         2   \n",
              "17428        2          87           5           2      1      1         2   \n",
              "17429        2          92           6           2      1      1         1   \n",
              "17430        1          76           6           2      1      2         2   \n",
              "17431        2          67           5           2      2      2         2   \n",
              "\n",
              "       DISPNEIA  DESC_RESP  SATURACAO  ...  PERD_PALA  TOMO_RES  RES_AN  \\\n",
              "0             2          2          2  ...          2         6       4   \n",
              "1             6          6          1  ...          1         6       1   \n",
              "2             1          1          2  ...          1         6       5   \n",
              "3             1          1          1  ...          2         6       6   \n",
              "4             2          2          2  ...          2         1       4   \n",
              "...         ...        ...        ...  ...        ...       ...     ...   \n",
              "17427         1          1          2  ...          2         6       1   \n",
              "17428         1          1          1  ...          6         6       4   \n",
              "17429         2          2          2  ...          1         6       5   \n",
              "17430         1          1          1  ...          6         1       4   \n",
              "17431         1          1          1  ...          2         6       5   \n",
              "\n",
              "       VACINA_COV  QTD_DIAS  DIAS_INTERNA  SINT_ATE_NOTIF  PCR_EVOLUCAO  \\\n",
              "0               1         1             1               2             3   \n",
              "1               1        18            18               2             0   \n",
              "2               1         3             2               3             0   \n",
              "3               2        19            19              13            17   \n",
              "4               1         3             3               0             0   \n",
              "...           ...       ...           ...             ...           ...   \n",
              "17427           2         0             1               3             0   \n",
              "17428           1         3             3               3             3   \n",
              "17429           1         2             2               3             1   \n",
              "17430           1         7             8               7             0   \n",
              "17431           1         5             5               0             3   \n",
              "\n",
              "       DIAS_DOSE2  DIAS_DOSE1  \n",
              "0              61         141  \n",
              "1             263         286  \n",
              "2             102         214  \n",
              "3               0           0  \n",
              "4             116         200  \n",
              "...           ...         ...  \n",
              "17427           0           0  \n",
              "17428         511         536  \n",
              "17429         532         572  \n",
              "17430         575         597  \n",
              "17431         606         634  \n",
              "\n",
              "[17432 rows x 40 columns]"
            ],
            "text/html": [
              "\n",
              "\n",
              "  <div id=\"df-a154edb2-b4e9-47c5-ab29-2376792e64ff\">\n",
              "    <div class=\"colab-df-container\">\n",
              "      <div>\n",
              "<style scoped>\n",
              "    .dataframe tbody tr th:only-of-type {\n",
              "        vertical-align: middle;\n",
              "    }\n",
              "\n",
              "    .dataframe tbody tr th {\n",
              "        vertical-align: top;\n",
              "    }\n",
              "\n",
              "    .dataframe thead th {\n",
              "        text-align: right;\n",
              "    }\n",
              "</style>\n",
              "<table border=\"1\" class=\"dataframe\">\n",
              "  <thead>\n",
              "    <tr style=\"text-align: right;\">\n",
              "      <th></th>\n",
              "      <th>CS_SEXO</th>\n",
              "      <th>NU_IDADE_N</th>\n",
              "      <th>CS_GESTANT</th>\n",
              "      <th>NOSOCOMIAL</th>\n",
              "      <th>FEBRE</th>\n",
              "      <th>TOSSE</th>\n",
              "      <th>GARGANTA</th>\n",
              "      <th>DISPNEIA</th>\n",
              "      <th>DESC_RESP</th>\n",
              "      <th>SATURACAO</th>\n",
              "      <th>...</th>\n",
              "      <th>PERD_PALA</th>\n",
              "      <th>TOMO_RES</th>\n",
              "      <th>RES_AN</th>\n",
              "      <th>VACINA_COV</th>\n",
              "      <th>QTD_DIAS</th>\n",
              "      <th>DIAS_INTERNA</th>\n",
              "      <th>SINT_ATE_NOTIF</th>\n",
              "      <th>PCR_EVOLUCAO</th>\n",
              "      <th>DIAS_DOSE2</th>\n",
              "      <th>DIAS_DOSE1</th>\n",
              "    </tr>\n",
              "  </thead>\n",
              "  <tbody>\n",
              "    <tr>\n",
              "      <th>0</th>\n",
              "      <td>2</td>\n",
              "      <td>28</td>\n",
              "      <td>5</td>\n",
              "      <td>2</td>\n",
              "      <td>1</td>\n",
              "      <td>1</td>\n",
              "      <td>2</td>\n",
              "      <td>2</td>\n",
              "      <td>2</td>\n",
              "      <td>2</td>\n",
              "      <td>...</td>\n",
              "      <td>2</td>\n",
              "      <td>6</td>\n",
              "      <td>4</td>\n",
              "      <td>1</td>\n",
              "      <td>1</td>\n",
              "      <td>1</td>\n",
              "      <td>2</td>\n",
              "      <td>3</td>\n",
              "      <td>61</td>\n",
              "      <td>141</td>\n",
              "    </tr>\n",
              "    <tr>\n",
              "      <th>1</th>\n",
              "      <td>1</td>\n",
              "      <td>72</td>\n",
              "      <td>6</td>\n",
              "      <td>2</td>\n",
              "      <td>6</td>\n",
              "      <td>6</td>\n",
              "      <td>1</td>\n",
              "      <td>6</td>\n",
              "      <td>6</td>\n",
              "      <td>1</td>\n",
              "      <td>...</td>\n",
              "      <td>1</td>\n",
              "      <td>6</td>\n",
              "      <td>1</td>\n",
              "      <td>1</td>\n",
              "      <td>18</td>\n",
              "      <td>18</td>\n",
              "      <td>2</td>\n",
              "      <td>0</td>\n",
              "      <td>263</td>\n",
              "      <td>286</td>\n",
              "    </tr>\n",
              "    <tr>\n",
              "      <th>2</th>\n",
              "      <td>2</td>\n",
              "      <td>50</td>\n",
              "      <td>5</td>\n",
              "      <td>2</td>\n",
              "      <td>2</td>\n",
              "      <td>1</td>\n",
              "      <td>1</td>\n",
              "      <td>1</td>\n",
              "      <td>1</td>\n",
              "      <td>2</td>\n",
              "      <td>...</td>\n",
              "      <td>1</td>\n",
              "      <td>6</td>\n",
              "      <td>5</td>\n",
              "      <td>1</td>\n",
              "      <td>3</td>\n",
              "      <td>2</td>\n",
              "      <td>3</td>\n",
              "      <td>0</td>\n",
              "      <td>102</td>\n",
              "      <td>214</td>\n",
              "    </tr>\n",
              "    <tr>\n",
              "      <th>3</th>\n",
              "      <td>1</td>\n",
              "      <td>59</td>\n",
              "      <td>6</td>\n",
              "      <td>2</td>\n",
              "      <td>1</td>\n",
              "      <td>1</td>\n",
              "      <td>2</td>\n",
              "      <td>1</td>\n",
              "      <td>1</td>\n",
              "      <td>1</td>\n",
              "      <td>...</td>\n",
              "      <td>2</td>\n",
              "      <td>6</td>\n",
              "      <td>6</td>\n",
              "      <td>2</td>\n",
              "      <td>19</td>\n",
              "      <td>19</td>\n",
              "      <td>13</td>\n",
              "      <td>17</td>\n",
              "      <td>0</td>\n",
              "      <td>0</td>\n",
              "    </tr>\n",
              "    <tr>\n",
              "      <th>4</th>\n",
              "      <td>2</td>\n",
              "      <td>43</td>\n",
              "      <td>5</td>\n",
              "      <td>2</td>\n",
              "      <td>2</td>\n",
              "      <td>1</td>\n",
              "      <td>1</td>\n",
              "      <td>2</td>\n",
              "      <td>2</td>\n",
              "      <td>2</td>\n",
              "      <td>...</td>\n",
              "      <td>2</td>\n",
              "      <td>1</td>\n",
              "      <td>4</td>\n",
              "      <td>1</td>\n",
              "      <td>3</td>\n",
              "      <td>3</td>\n",
              "      <td>0</td>\n",
              "      <td>0</td>\n",
              "      <td>116</td>\n",
              "      <td>200</td>\n",
              "    </tr>\n",
              "    <tr>\n",
              "      <th>...</th>\n",
              "      <td>...</td>\n",
              "      <td>...</td>\n",
              "      <td>...</td>\n",
              "      <td>...</td>\n",
              "      <td>...</td>\n",
              "      <td>...</td>\n",
              "      <td>...</td>\n",
              "      <td>...</td>\n",
              "      <td>...</td>\n",
              "      <td>...</td>\n",
              "      <td>...</td>\n",
              "      <td>...</td>\n",
              "      <td>...</td>\n",
              "      <td>...</td>\n",
              "      <td>...</td>\n",
              "      <td>...</td>\n",
              "      <td>...</td>\n",
              "      <td>...</td>\n",
              "      <td>...</td>\n",
              "      <td>...</td>\n",
              "      <td>...</td>\n",
              "    </tr>\n",
              "    <tr>\n",
              "      <th>17427</th>\n",
              "      <td>1</td>\n",
              "      <td>27</td>\n",
              "      <td>6</td>\n",
              "      <td>2</td>\n",
              "      <td>1</td>\n",
              "      <td>1</td>\n",
              "      <td>2</td>\n",
              "      <td>1</td>\n",
              "      <td>1</td>\n",
              "      <td>2</td>\n",
              "      <td>...</td>\n",
              "      <td>2</td>\n",
              "      <td>6</td>\n",
              "      <td>1</td>\n",
              "      <td>2</td>\n",
              "      <td>0</td>\n",
              "      <td>1</td>\n",
              "      <td>3</td>\n",
              "      <td>0</td>\n",
              "      <td>0</td>\n",
              "      <td>0</td>\n",
              "    </tr>\n",
              "    <tr>\n",
              "      <th>17428</th>\n",
              "      <td>2</td>\n",
              "      <td>87</td>\n",
              "      <td>5</td>\n",
              "      <td>2</td>\n",
              "      <td>1</td>\n",
              "      <td>1</td>\n",
              "      <td>2</td>\n",
              "      <td>1</td>\n",
              "      <td>1</td>\n",
              "      <td>1</td>\n",
              "      <td>...</td>\n",
              "      <td>6</td>\n",
              "      <td>6</td>\n",
              "      <td>4</td>\n",
              "      <td>1</td>\n",
              "      <td>3</td>\n",
              "      <td>3</td>\n",
              "      <td>3</td>\n",
              "      <td>3</td>\n",
              "      <td>511</td>\n",
              "      <td>536</td>\n",
              "    </tr>\n",
              "    <tr>\n",
              "      <th>17429</th>\n",
              "      <td>2</td>\n",
              "      <td>92</td>\n",
              "      <td>6</td>\n",
              "      <td>2</td>\n",
              "      <td>1</td>\n",
              "      <td>1</td>\n",
              "      <td>1</td>\n",
              "      <td>2</td>\n",
              "      <td>2</td>\n",
              "      <td>2</td>\n",
              "      <td>...</td>\n",
              "      <td>1</td>\n",
              "      <td>6</td>\n",
              "      <td>5</td>\n",
              "      <td>1</td>\n",
              "      <td>2</td>\n",
              "      <td>2</td>\n",
              "      <td>3</td>\n",
              "      <td>1</td>\n",
              "      <td>532</td>\n",
              "      <td>572</td>\n",
              "    </tr>\n",
              "    <tr>\n",
              "      <th>17430</th>\n",
              "      <td>1</td>\n",
              "      <td>76</td>\n",
              "      <td>6</td>\n",
              "      <td>2</td>\n",
              "      <td>1</td>\n",
              "      <td>2</td>\n",
              "      <td>2</td>\n",
              "      <td>1</td>\n",
              "      <td>1</td>\n",
              "      <td>1</td>\n",
              "      <td>...</td>\n",
              "      <td>6</td>\n",
              "      <td>1</td>\n",
              "      <td>4</td>\n",
              "      <td>1</td>\n",
              "      <td>7</td>\n",
              "      <td>8</td>\n",
              "      <td>7</td>\n",
              "      <td>0</td>\n",
              "      <td>575</td>\n",
              "      <td>597</td>\n",
              "    </tr>\n",
              "    <tr>\n",
              "      <th>17431</th>\n",
              "      <td>2</td>\n",
              "      <td>67</td>\n",
              "      <td>5</td>\n",
              "      <td>2</td>\n",
              "      <td>2</td>\n",
              "      <td>2</td>\n",
              "      <td>2</td>\n",
              "      <td>1</td>\n",
              "      <td>1</td>\n",
              "      <td>1</td>\n",
              "      <td>...</td>\n",
              "      <td>2</td>\n",
              "      <td>6</td>\n",
              "      <td>5</td>\n",
              "      <td>1</td>\n",
              "      <td>5</td>\n",
              "      <td>5</td>\n",
              "      <td>0</td>\n",
              "      <td>3</td>\n",
              "      <td>606</td>\n",
              "      <td>634</td>\n",
              "    </tr>\n",
              "  </tbody>\n",
              "</table>\n",
              "<p>17432 rows × 40 columns</p>\n",
              "</div>\n",
              "      <button class=\"colab-df-convert\" onclick=\"convertToInteractive('df-a154edb2-b4e9-47c5-ab29-2376792e64ff')\"\n",
              "              title=\"Convert this dataframe to an interactive table.\"\n",
              "              style=\"display:none;\">\n",
              "\n",
              "  <svg xmlns=\"http://www.w3.org/2000/svg\" height=\"24px\"viewBox=\"0 0 24 24\"\n",
              "       width=\"24px\">\n",
              "    <path d=\"M0 0h24v24H0V0z\" fill=\"none\"/>\n",
              "    <path d=\"M18.56 5.44l.94 2.06.94-2.06 2.06-.94-2.06-.94-.94-2.06-.94 2.06-2.06.94zm-11 1L8.5 8.5l.94-2.06 2.06-.94-2.06-.94L8.5 2.5l-.94 2.06-2.06.94zm10 10l.94 2.06.94-2.06 2.06-.94-2.06-.94-.94-2.06-.94 2.06-2.06.94z\"/><path d=\"M17.41 7.96l-1.37-1.37c-.4-.4-.92-.59-1.43-.59-.52 0-1.04.2-1.43.59L10.3 9.45l-7.72 7.72c-.78.78-.78 2.05 0 2.83L4 21.41c.39.39.9.59 1.41.59.51 0 1.02-.2 1.41-.59l7.78-7.78 2.81-2.81c.8-.78.8-2.07 0-2.86zM5.41 20L4 18.59l7.72-7.72 1.47 1.35L5.41 20z\"/>\n",
              "  </svg>\n",
              "      </button>\n",
              "\n",
              "\n",
              "\n",
              "    <div id=\"df-592d97c6-515c-4c0e-9f78-2087c772301a\">\n",
              "      <button class=\"colab-df-quickchart\" onclick=\"quickchart('df-592d97c6-515c-4c0e-9f78-2087c772301a')\"\n",
              "              title=\"Suggest charts.\"\n",
              "              style=\"display:none;\">\n",
              "\n",
              "<svg xmlns=\"http://www.w3.org/2000/svg\" height=\"24px\"viewBox=\"0 0 24 24\"\n",
              "     width=\"24px\">\n",
              "    <g>\n",
              "        <path d=\"M19 3H5c-1.1 0-2 .9-2 2v14c0 1.1.9 2 2 2h14c1.1 0 2-.9 2-2V5c0-1.1-.9-2-2-2zM9 17H7v-7h2v7zm4 0h-2V7h2v10zm4 0h-2v-4h2v4z\"/>\n",
              "    </g>\n",
              "</svg>\n",
              "      </button>\n",
              "    </div>\n",
              "\n",
              "<style>\n",
              "  .colab-df-quickchart {\n",
              "    background-color: #E8F0FE;\n",
              "    border: none;\n",
              "    border-radius: 50%;\n",
              "    cursor: pointer;\n",
              "    display: none;\n",
              "    fill: #1967D2;\n",
              "    height: 32px;\n",
              "    padding: 0 0 0 0;\n",
              "    width: 32px;\n",
              "  }\n",
              "\n",
              "  .colab-df-quickchart:hover {\n",
              "    background-color: #E2EBFA;\n",
              "    box-shadow: 0px 1px 2px rgba(60, 64, 67, 0.3), 0px 1px 3px 1px rgba(60, 64, 67, 0.15);\n",
              "    fill: #174EA6;\n",
              "  }\n",
              "\n",
              "  [theme=dark] .colab-df-quickchart {\n",
              "    background-color: #3B4455;\n",
              "    fill: #D2E3FC;\n",
              "  }\n",
              "\n",
              "  [theme=dark] .colab-df-quickchart:hover {\n",
              "    background-color: #434B5C;\n",
              "    box-shadow: 0px 1px 3px 1px rgba(0, 0, 0, 0.15);\n",
              "    filter: drop-shadow(0px 1px 2px rgba(0, 0, 0, 0.3));\n",
              "    fill: #FFFFFF;\n",
              "  }\n",
              "</style>\n",
              "\n",
              "    <script>\n",
              "      async function quickchart(key) {\n",
              "        const containerElement = document.querySelector('#' + key);\n",
              "        const charts = await google.colab.kernel.invokeFunction(\n",
              "            'suggestCharts', [key], {});\n",
              "      }\n",
              "    </script>\n",
              "\n",
              "      <script>\n",
              "\n",
              "function displayQuickchartButton(domScope) {\n",
              "  let quickchartButtonEl =\n",
              "    domScope.querySelector('#df-592d97c6-515c-4c0e-9f78-2087c772301a button.colab-df-quickchart');\n",
              "  quickchartButtonEl.style.display =\n",
              "    google.colab.kernel.accessAllowed ? 'block' : 'none';\n",
              "}\n",
              "\n",
              "        displayQuickchartButton(document);\n",
              "      </script>\n",
              "      <style>\n",
              "    .colab-df-container {\n",
              "      display:flex;\n",
              "      flex-wrap:wrap;\n",
              "      gap: 12px;\n",
              "    }\n",
              "\n",
              "    .colab-df-convert {\n",
              "      background-color: #E8F0FE;\n",
              "      border: none;\n",
              "      border-radius: 50%;\n",
              "      cursor: pointer;\n",
              "      display: none;\n",
              "      fill: #1967D2;\n",
              "      height: 32px;\n",
              "      padding: 0 0 0 0;\n",
              "      width: 32px;\n",
              "    }\n",
              "\n",
              "    .colab-df-convert:hover {\n",
              "      background-color: #E2EBFA;\n",
              "      box-shadow: 0px 1px 2px rgba(60, 64, 67, 0.3), 0px 1px 3px 1px rgba(60, 64, 67, 0.15);\n",
              "      fill: #174EA6;\n",
              "    }\n",
              "\n",
              "    [theme=dark] .colab-df-convert {\n",
              "      background-color: #3B4455;\n",
              "      fill: #D2E3FC;\n",
              "    }\n",
              "\n",
              "    [theme=dark] .colab-df-convert:hover {\n",
              "      background-color: #434B5C;\n",
              "      box-shadow: 0px 1px 3px 1px rgba(0, 0, 0, 0.15);\n",
              "      filter: drop-shadow(0px 1px 2px rgba(0, 0, 0, 0.3));\n",
              "      fill: #FFFFFF;\n",
              "    }\n",
              "  </style>\n",
              "\n",
              "      <script>\n",
              "        const buttonEl =\n",
              "          document.querySelector('#df-a154edb2-b4e9-47c5-ab29-2376792e64ff button.colab-df-convert');\n",
              "        buttonEl.style.display =\n",
              "          google.colab.kernel.accessAllowed ? 'block' : 'none';\n",
              "\n",
              "        async function convertToInteractive(key) {\n",
              "          const element = document.querySelector('#df-a154edb2-b4e9-47c5-ab29-2376792e64ff');\n",
              "          const dataTable =\n",
              "            await google.colab.kernel.invokeFunction('convertToInteractive',\n",
              "                                                     [key], {});\n",
              "          if (!dataTable) return;\n",
              "\n",
              "          const docLinkHtml = 'Like what you see? Visit the ' +\n",
              "            '<a target=\"_blank\" href=https://colab.research.google.com/notebooks/data_table.ipynb>data table notebook</a>'\n",
              "            + ' to learn more about interactive tables.';\n",
              "          element.innerHTML = '';\n",
              "          dataTable['output_type'] = 'display_data';\n",
              "          await google.colab.output.renderOutput(dataTable, element);\n",
              "          const docLink = document.createElement('div');\n",
              "          docLink.innerHTML = docLinkHtml;\n",
              "          element.appendChild(docLink);\n",
              "        }\n",
              "      </script>\n",
              "    </div>\n",
              "  </div>\n"
            ]
          },
          "metadata": {},
          "execution_count": 88
        }
      ]
    },
    {
      "cell_type": "code",
      "source": [
        "atributosNormalizados = StandardScaler().fit_transform(atributos)"
      ],
      "metadata": {
        "id": "c1LPgzoATS9R"
      },
      "execution_count": null,
      "outputs": []
    },
    {
      "cell_type": "code",
      "source": [
        "atributosNormalizados"
      ],
      "metadata": {
        "colab": {
          "base_uri": "https://localhost:8080/"
        },
        "id": "TnNk0UsaTosZ",
        "outputId": "4c1bff50-63b3-4f36-f9dd-eae481dd21b1"
      },
      "execution_count": null,
      "outputs": [
        {
          "output_type": "execute_result",
          "data": {
            "text/plain": [
              "array([[ 0.99542122, -1.24214463, -0.71867654, ..., -0.19781279,\n",
              "        -0.02995595, -0.75664128],\n",
              "       [-1.00459984,  0.44322882,  0.65787213, ..., -0.47798552,\n",
              "        -0.00699514, -0.05333584],\n",
              "       [ 0.99542122, -0.3994579 , -0.71867654, ..., -0.47798552,\n",
              "        -0.02529559, -0.40256337],\n",
              "       ...,\n",
              "       [ 0.99542122,  1.20930765,  0.65787213, ..., -0.38459461,\n",
              "         0.02358139,  1.3338735 ],\n",
              "       [-1.00459984,  0.59644458,  0.65787213, ..., -0.47798552,\n",
              "         0.02846909,  1.45513306],\n",
              "       [ 0.99542122,  0.25170911, -0.71867654, ..., -0.19781279,\n",
              "         0.03199278,  1.6345972 ]])"
            ]
          },
          "metadata": {},
          "execution_count": 90
        }
      ]
    },
    {
      "cell_type": "code",
      "source": [
        "np.bincount(rotulos)"
      ],
      "metadata": {
        "colab": {
          "base_uri": "https://localhost:8080/"
        },
        "id": "xBClrzEP7IHg",
        "outputId": "39726dfa-b00a-4966-d27f-e8639bd1d6be"
      },
      "execution_count": null,
      "outputs": [
        {
          "output_type": "execute_result",
          "data": {
            "text/plain": [
              "array([13521,  3911])"
            ]
          },
          "metadata": {},
          "execution_count": 91
        }
      ]
    },
    {
      "cell_type": "markdown",
      "source": [
        "# Gerando Dataset"
      ],
      "metadata": {
        "id": "vpGh7SwM5bKu"
      }
    },
    {
      "cell_type": "code",
      "source": [
        "datasetNormalizado = pd.DataFrame(atributosNormalizados, columns=atributos.columns)"
      ],
      "metadata": {
        "id": "P7EA_9ld5n9d"
      },
      "execution_count": null,
      "outputs": []
    },
    {
      "cell_type": "code",
      "source": [
        "datasetNormalizado['EVOLUCAO'] = rotulos"
      ],
      "metadata": {
        "id": "YrRcmArZ5osN"
      },
      "execution_count": null,
      "outputs": []
    },
    {
      "cell_type": "code",
      "source": [
        "datasetNormalizado"
      ],
      "metadata": {
        "colab": {
          "base_uri": "https://localhost:8080/",
          "height": 487
        },
        "id": "HdCVyQNY5ozR",
        "outputId": "02a763f9-1d21-4722-a751-d364a4083159"
      },
      "execution_count": null,
      "outputs": [
        {
          "output_type": "execute_result",
          "data": {
            "text/plain": [
              "        CS_SEXO  NU_IDADE_N  CS_GESTANT  NOSOCOMIAL     FEBRE     TOSSE  \\\n",
              "0      0.995421   -1.242145   -0.718677   -0.291673 -0.699049 -0.561770   \n",
              "1     -1.004600    0.443229    0.657872   -0.291673  2.173339  2.492745   \n",
              "2      0.995421   -0.399458   -0.718677   -0.291673 -0.124571 -0.561770   \n",
              "3     -1.004600   -0.054722    0.657872   -0.291673 -0.699049 -0.561770   \n",
              "4      0.995421   -0.667585   -0.718677   -0.291673 -0.124571 -0.561770   \n",
              "...         ...         ...         ...         ...       ...       ...   \n",
              "17427 -1.004600   -1.280449    0.657872   -0.291673 -0.699049 -0.561770   \n",
              "17428  0.995421    1.017788   -0.718677   -0.291673 -0.699049 -0.561770   \n",
              "17429  0.995421    1.209308    0.657872   -0.291673 -0.699049 -0.561770   \n",
              "17430 -1.004600    0.596445    0.657872   -0.291673 -0.699049  0.049133   \n",
              "17431  0.995421    0.251709   -0.718677   -0.291673 -0.124571  0.049133   \n",
              "\n",
              "       GARGANTA  DISPNEIA  DESC_RESP  SATURACAO  ...  TOMO_RES    RES_AN  \\\n",
              "0     -0.427354 -0.039069  -0.201868  -0.085837  ...  0.545826  0.553550   \n",
              "1     -0.968870  2.321590   1.968317  -0.664007  ...  0.545826 -1.105958   \n",
              "2     -0.968870 -0.629234  -0.744414  -0.085837  ...  0.545826  1.106720   \n",
              "3     -0.427354 -0.629234  -0.744414  -0.664007  ...  0.545826  1.659889   \n",
              "4     -0.968870 -0.039069  -0.201868  -0.085837  ... -2.106320  0.553550   \n",
              "...         ...       ...        ...        ...  ...       ...       ...   \n",
              "17427 -0.427354 -0.629234  -0.744414  -0.085837  ...  0.545826 -1.105958   \n",
              "17428 -0.427354 -0.629234  -0.744414  -0.664007  ...  0.545826  0.553550   \n",
              "17429 -0.968870 -0.039069  -0.201868  -0.085837  ...  0.545826  1.106720   \n",
              "17430 -0.427354 -0.629234  -0.744414  -0.664007  ... -2.106320  0.553550   \n",
              "17431 -0.427354 -0.629234  -0.744414  -0.664007  ...  0.545826  1.106720   \n",
              "\n",
              "       VACINA_COV  QTD_DIAS  DIAS_INTERNA  SINT_ATE_NOTIF  PCR_EVOLUCAO  \\\n",
              "0        -0.40972 -0.444636     -0.568138       -0.344578     -0.197813   \n",
              "1        -0.40972  0.268908      0.656730       -0.344578     -0.477986   \n",
              "2        -0.40972 -0.360690     -0.496087       -0.303805     -0.477986   \n",
              "3         0.95643  0.310881      0.728781        0.103916      1.109660   \n",
              "4        -0.40972 -0.360690     -0.424036       -0.426122     -0.477986   \n",
              "...           ...       ...           ...             ...           ...   \n",
              "17427     0.95643 -0.486609     -0.568138       -0.303805     -0.477986   \n",
              "17428    -0.40972 -0.360690     -0.424036       -0.303805     -0.197813   \n",
              "17429    -0.40972 -0.402663     -0.496087       -0.303805     -0.384595   \n",
              "17430    -0.40972 -0.192797     -0.063780       -0.140717     -0.477986   \n",
              "17431    -0.40972 -0.276743     -0.279934       -0.426122     -0.197813   \n",
              "\n",
              "       DIAS_DOSE2  DIAS_DOSE1  EVOLUCAO  \n",
              "0       -0.029956   -0.756641         0  \n",
              "1       -0.006995   -0.053336         0  \n",
              "2       -0.025296   -0.402563         0  \n",
              "3       -0.036890   -1.440545         1  \n",
              "4       -0.023704   -0.470469         0  \n",
              "...           ...         ...       ...  \n",
              "17427   -0.036890   -1.440545         0  \n",
              "17428    0.021194    1.159260         0  \n",
              "17429    0.023581    1.333874         0  \n",
              "17430    0.028469    1.455133         1  \n",
              "17431    0.031993    1.634597         0  \n",
              "\n",
              "[17432 rows x 41 columns]"
            ],
            "text/html": [
              "\n",
              "\n",
              "  <div id=\"df-4fd95142-d4ce-4ff4-a7cd-3a52214e3cb9\">\n",
              "    <div class=\"colab-df-container\">\n",
              "      <div>\n",
              "<style scoped>\n",
              "    .dataframe tbody tr th:only-of-type {\n",
              "        vertical-align: middle;\n",
              "    }\n",
              "\n",
              "    .dataframe tbody tr th {\n",
              "        vertical-align: top;\n",
              "    }\n",
              "\n",
              "    .dataframe thead th {\n",
              "        text-align: right;\n",
              "    }\n",
              "</style>\n",
              "<table border=\"1\" class=\"dataframe\">\n",
              "  <thead>\n",
              "    <tr style=\"text-align: right;\">\n",
              "      <th></th>\n",
              "      <th>CS_SEXO</th>\n",
              "      <th>NU_IDADE_N</th>\n",
              "      <th>CS_GESTANT</th>\n",
              "      <th>NOSOCOMIAL</th>\n",
              "      <th>FEBRE</th>\n",
              "      <th>TOSSE</th>\n",
              "      <th>GARGANTA</th>\n",
              "      <th>DISPNEIA</th>\n",
              "      <th>DESC_RESP</th>\n",
              "      <th>SATURACAO</th>\n",
              "      <th>...</th>\n",
              "      <th>TOMO_RES</th>\n",
              "      <th>RES_AN</th>\n",
              "      <th>VACINA_COV</th>\n",
              "      <th>QTD_DIAS</th>\n",
              "      <th>DIAS_INTERNA</th>\n",
              "      <th>SINT_ATE_NOTIF</th>\n",
              "      <th>PCR_EVOLUCAO</th>\n",
              "      <th>DIAS_DOSE2</th>\n",
              "      <th>DIAS_DOSE1</th>\n",
              "      <th>EVOLUCAO</th>\n",
              "    </tr>\n",
              "  </thead>\n",
              "  <tbody>\n",
              "    <tr>\n",
              "      <th>0</th>\n",
              "      <td>0.995421</td>\n",
              "      <td>-1.242145</td>\n",
              "      <td>-0.718677</td>\n",
              "      <td>-0.291673</td>\n",
              "      <td>-0.699049</td>\n",
              "      <td>-0.561770</td>\n",
              "      <td>-0.427354</td>\n",
              "      <td>-0.039069</td>\n",
              "      <td>-0.201868</td>\n",
              "      <td>-0.085837</td>\n",
              "      <td>...</td>\n",
              "      <td>0.545826</td>\n",
              "      <td>0.553550</td>\n",
              "      <td>-0.40972</td>\n",
              "      <td>-0.444636</td>\n",
              "      <td>-0.568138</td>\n",
              "      <td>-0.344578</td>\n",
              "      <td>-0.197813</td>\n",
              "      <td>-0.029956</td>\n",
              "      <td>-0.756641</td>\n",
              "      <td>0</td>\n",
              "    </tr>\n",
              "    <tr>\n",
              "      <th>1</th>\n",
              "      <td>-1.004600</td>\n",
              "      <td>0.443229</td>\n",
              "      <td>0.657872</td>\n",
              "      <td>-0.291673</td>\n",
              "      <td>2.173339</td>\n",
              "      <td>2.492745</td>\n",
              "      <td>-0.968870</td>\n",
              "      <td>2.321590</td>\n",
              "      <td>1.968317</td>\n",
              "      <td>-0.664007</td>\n",
              "      <td>...</td>\n",
              "      <td>0.545826</td>\n",
              "      <td>-1.105958</td>\n",
              "      <td>-0.40972</td>\n",
              "      <td>0.268908</td>\n",
              "      <td>0.656730</td>\n",
              "      <td>-0.344578</td>\n",
              "      <td>-0.477986</td>\n",
              "      <td>-0.006995</td>\n",
              "      <td>-0.053336</td>\n",
              "      <td>0</td>\n",
              "    </tr>\n",
              "    <tr>\n",
              "      <th>2</th>\n",
              "      <td>0.995421</td>\n",
              "      <td>-0.399458</td>\n",
              "      <td>-0.718677</td>\n",
              "      <td>-0.291673</td>\n",
              "      <td>-0.124571</td>\n",
              "      <td>-0.561770</td>\n",
              "      <td>-0.968870</td>\n",
              "      <td>-0.629234</td>\n",
              "      <td>-0.744414</td>\n",
              "      <td>-0.085837</td>\n",
              "      <td>...</td>\n",
              "      <td>0.545826</td>\n",
              "      <td>1.106720</td>\n",
              "      <td>-0.40972</td>\n",
              "      <td>-0.360690</td>\n",
              "      <td>-0.496087</td>\n",
              "      <td>-0.303805</td>\n",
              "      <td>-0.477986</td>\n",
              "      <td>-0.025296</td>\n",
              "      <td>-0.402563</td>\n",
              "      <td>0</td>\n",
              "    </tr>\n",
              "    <tr>\n",
              "      <th>3</th>\n",
              "      <td>-1.004600</td>\n",
              "      <td>-0.054722</td>\n",
              "      <td>0.657872</td>\n",
              "      <td>-0.291673</td>\n",
              "      <td>-0.699049</td>\n",
              "      <td>-0.561770</td>\n",
              "      <td>-0.427354</td>\n",
              "      <td>-0.629234</td>\n",
              "      <td>-0.744414</td>\n",
              "      <td>-0.664007</td>\n",
              "      <td>...</td>\n",
              "      <td>0.545826</td>\n",
              "      <td>1.659889</td>\n",
              "      <td>0.95643</td>\n",
              "      <td>0.310881</td>\n",
              "      <td>0.728781</td>\n",
              "      <td>0.103916</td>\n",
              "      <td>1.109660</td>\n",
              "      <td>-0.036890</td>\n",
              "      <td>-1.440545</td>\n",
              "      <td>1</td>\n",
              "    </tr>\n",
              "    <tr>\n",
              "      <th>4</th>\n",
              "      <td>0.995421</td>\n",
              "      <td>-0.667585</td>\n",
              "      <td>-0.718677</td>\n",
              "      <td>-0.291673</td>\n",
              "      <td>-0.124571</td>\n",
              "      <td>-0.561770</td>\n",
              "      <td>-0.968870</td>\n",
              "      <td>-0.039069</td>\n",
              "      <td>-0.201868</td>\n",
              "      <td>-0.085837</td>\n",
              "      <td>...</td>\n",
              "      <td>-2.106320</td>\n",
              "      <td>0.553550</td>\n",
              "      <td>-0.40972</td>\n",
              "      <td>-0.360690</td>\n",
              "      <td>-0.424036</td>\n",
              "      <td>-0.426122</td>\n",
              "      <td>-0.477986</td>\n",
              "      <td>-0.023704</td>\n",
              "      <td>-0.470469</td>\n",
              "      <td>0</td>\n",
              "    </tr>\n",
              "    <tr>\n",
              "      <th>...</th>\n",
              "      <td>...</td>\n",
              "      <td>...</td>\n",
              "      <td>...</td>\n",
              "      <td>...</td>\n",
              "      <td>...</td>\n",
              "      <td>...</td>\n",
              "      <td>...</td>\n",
              "      <td>...</td>\n",
              "      <td>...</td>\n",
              "      <td>...</td>\n",
              "      <td>...</td>\n",
              "      <td>...</td>\n",
              "      <td>...</td>\n",
              "      <td>...</td>\n",
              "      <td>...</td>\n",
              "      <td>...</td>\n",
              "      <td>...</td>\n",
              "      <td>...</td>\n",
              "      <td>...</td>\n",
              "      <td>...</td>\n",
              "      <td>...</td>\n",
              "    </tr>\n",
              "    <tr>\n",
              "      <th>17427</th>\n",
              "      <td>-1.004600</td>\n",
              "      <td>-1.280449</td>\n",
              "      <td>0.657872</td>\n",
              "      <td>-0.291673</td>\n",
              "      <td>-0.699049</td>\n",
              "      <td>-0.561770</td>\n",
              "      <td>-0.427354</td>\n",
              "      <td>-0.629234</td>\n",
              "      <td>-0.744414</td>\n",
              "      <td>-0.085837</td>\n",
              "      <td>...</td>\n",
              "      <td>0.545826</td>\n",
              "      <td>-1.105958</td>\n",
              "      <td>0.95643</td>\n",
              "      <td>-0.486609</td>\n",
              "      <td>-0.568138</td>\n",
              "      <td>-0.303805</td>\n",
              "      <td>-0.477986</td>\n",
              "      <td>-0.036890</td>\n",
              "      <td>-1.440545</td>\n",
              "      <td>0</td>\n",
              "    </tr>\n",
              "    <tr>\n",
              "      <th>17428</th>\n",
              "      <td>0.995421</td>\n",
              "      <td>1.017788</td>\n",
              "      <td>-0.718677</td>\n",
              "      <td>-0.291673</td>\n",
              "      <td>-0.699049</td>\n",
              "      <td>-0.561770</td>\n",
              "      <td>-0.427354</td>\n",
              "      <td>-0.629234</td>\n",
              "      <td>-0.744414</td>\n",
              "      <td>-0.664007</td>\n",
              "      <td>...</td>\n",
              "      <td>0.545826</td>\n",
              "      <td>0.553550</td>\n",
              "      <td>-0.40972</td>\n",
              "      <td>-0.360690</td>\n",
              "      <td>-0.424036</td>\n",
              "      <td>-0.303805</td>\n",
              "      <td>-0.197813</td>\n",
              "      <td>0.021194</td>\n",
              "      <td>1.159260</td>\n",
              "      <td>0</td>\n",
              "    </tr>\n",
              "    <tr>\n",
              "      <th>17429</th>\n",
              "      <td>0.995421</td>\n",
              "      <td>1.209308</td>\n",
              "      <td>0.657872</td>\n",
              "      <td>-0.291673</td>\n",
              "      <td>-0.699049</td>\n",
              "      <td>-0.561770</td>\n",
              "      <td>-0.968870</td>\n",
              "      <td>-0.039069</td>\n",
              "      <td>-0.201868</td>\n",
              "      <td>-0.085837</td>\n",
              "      <td>...</td>\n",
              "      <td>0.545826</td>\n",
              "      <td>1.106720</td>\n",
              "      <td>-0.40972</td>\n",
              "      <td>-0.402663</td>\n",
              "      <td>-0.496087</td>\n",
              "      <td>-0.303805</td>\n",
              "      <td>-0.384595</td>\n",
              "      <td>0.023581</td>\n",
              "      <td>1.333874</td>\n",
              "      <td>0</td>\n",
              "    </tr>\n",
              "    <tr>\n",
              "      <th>17430</th>\n",
              "      <td>-1.004600</td>\n",
              "      <td>0.596445</td>\n",
              "      <td>0.657872</td>\n",
              "      <td>-0.291673</td>\n",
              "      <td>-0.699049</td>\n",
              "      <td>0.049133</td>\n",
              "      <td>-0.427354</td>\n",
              "      <td>-0.629234</td>\n",
              "      <td>-0.744414</td>\n",
              "      <td>-0.664007</td>\n",
              "      <td>...</td>\n",
              "      <td>-2.106320</td>\n",
              "      <td>0.553550</td>\n",
              "      <td>-0.40972</td>\n",
              "      <td>-0.192797</td>\n",
              "      <td>-0.063780</td>\n",
              "      <td>-0.140717</td>\n",
              "      <td>-0.477986</td>\n",
              "      <td>0.028469</td>\n",
              "      <td>1.455133</td>\n",
              "      <td>1</td>\n",
              "    </tr>\n",
              "    <tr>\n",
              "      <th>17431</th>\n",
              "      <td>0.995421</td>\n",
              "      <td>0.251709</td>\n",
              "      <td>-0.718677</td>\n",
              "      <td>-0.291673</td>\n",
              "      <td>-0.124571</td>\n",
              "      <td>0.049133</td>\n",
              "      <td>-0.427354</td>\n",
              "      <td>-0.629234</td>\n",
              "      <td>-0.744414</td>\n",
              "      <td>-0.664007</td>\n",
              "      <td>...</td>\n",
              "      <td>0.545826</td>\n",
              "      <td>1.106720</td>\n",
              "      <td>-0.40972</td>\n",
              "      <td>-0.276743</td>\n",
              "      <td>-0.279934</td>\n",
              "      <td>-0.426122</td>\n",
              "      <td>-0.197813</td>\n",
              "      <td>0.031993</td>\n",
              "      <td>1.634597</td>\n",
              "      <td>0</td>\n",
              "    </tr>\n",
              "  </tbody>\n",
              "</table>\n",
              "<p>17432 rows × 41 columns</p>\n",
              "</div>\n",
              "      <button class=\"colab-df-convert\" onclick=\"convertToInteractive('df-4fd95142-d4ce-4ff4-a7cd-3a52214e3cb9')\"\n",
              "              title=\"Convert this dataframe to an interactive table.\"\n",
              "              style=\"display:none;\">\n",
              "\n",
              "  <svg xmlns=\"http://www.w3.org/2000/svg\" height=\"24px\"viewBox=\"0 0 24 24\"\n",
              "       width=\"24px\">\n",
              "    <path d=\"M0 0h24v24H0V0z\" fill=\"none\"/>\n",
              "    <path d=\"M18.56 5.44l.94 2.06.94-2.06 2.06-.94-2.06-.94-.94-2.06-.94 2.06-2.06.94zm-11 1L8.5 8.5l.94-2.06 2.06-.94-2.06-.94L8.5 2.5l-.94 2.06-2.06.94zm10 10l.94 2.06.94-2.06 2.06-.94-2.06-.94-.94-2.06-.94 2.06-2.06.94z\"/><path d=\"M17.41 7.96l-1.37-1.37c-.4-.4-.92-.59-1.43-.59-.52 0-1.04.2-1.43.59L10.3 9.45l-7.72 7.72c-.78.78-.78 2.05 0 2.83L4 21.41c.39.39.9.59 1.41.59.51 0 1.02-.2 1.41-.59l7.78-7.78 2.81-2.81c.8-.78.8-2.07 0-2.86zM5.41 20L4 18.59l7.72-7.72 1.47 1.35L5.41 20z\"/>\n",
              "  </svg>\n",
              "      </button>\n",
              "\n",
              "\n",
              "\n",
              "    <div id=\"df-b3890019-152e-4400-8cc1-49e402c31bac\">\n",
              "      <button class=\"colab-df-quickchart\" onclick=\"quickchart('df-b3890019-152e-4400-8cc1-49e402c31bac')\"\n",
              "              title=\"Suggest charts.\"\n",
              "              style=\"display:none;\">\n",
              "\n",
              "<svg xmlns=\"http://www.w3.org/2000/svg\" height=\"24px\"viewBox=\"0 0 24 24\"\n",
              "     width=\"24px\">\n",
              "    <g>\n",
              "        <path d=\"M19 3H5c-1.1 0-2 .9-2 2v14c0 1.1.9 2 2 2h14c1.1 0 2-.9 2-2V5c0-1.1-.9-2-2-2zM9 17H7v-7h2v7zm4 0h-2V7h2v10zm4 0h-2v-4h2v4z\"/>\n",
              "    </g>\n",
              "</svg>\n",
              "      </button>\n",
              "    </div>\n",
              "\n",
              "<style>\n",
              "  .colab-df-quickchart {\n",
              "    background-color: #E8F0FE;\n",
              "    border: none;\n",
              "    border-radius: 50%;\n",
              "    cursor: pointer;\n",
              "    display: none;\n",
              "    fill: #1967D2;\n",
              "    height: 32px;\n",
              "    padding: 0 0 0 0;\n",
              "    width: 32px;\n",
              "  }\n",
              "\n",
              "  .colab-df-quickchart:hover {\n",
              "    background-color: #E2EBFA;\n",
              "    box-shadow: 0px 1px 2px rgba(60, 64, 67, 0.3), 0px 1px 3px 1px rgba(60, 64, 67, 0.15);\n",
              "    fill: #174EA6;\n",
              "  }\n",
              "\n",
              "  [theme=dark] .colab-df-quickchart {\n",
              "    background-color: #3B4455;\n",
              "    fill: #D2E3FC;\n",
              "  }\n",
              "\n",
              "  [theme=dark] .colab-df-quickchart:hover {\n",
              "    background-color: #434B5C;\n",
              "    box-shadow: 0px 1px 3px 1px rgba(0, 0, 0, 0.15);\n",
              "    filter: drop-shadow(0px 1px 2px rgba(0, 0, 0, 0.3));\n",
              "    fill: #FFFFFF;\n",
              "  }\n",
              "</style>\n",
              "\n",
              "    <script>\n",
              "      async function quickchart(key) {\n",
              "        const containerElement = document.querySelector('#' + key);\n",
              "        const charts = await google.colab.kernel.invokeFunction(\n",
              "            'suggestCharts', [key], {});\n",
              "      }\n",
              "    </script>\n",
              "\n",
              "      <script>\n",
              "\n",
              "function displayQuickchartButton(domScope) {\n",
              "  let quickchartButtonEl =\n",
              "    domScope.querySelector('#df-b3890019-152e-4400-8cc1-49e402c31bac button.colab-df-quickchart');\n",
              "  quickchartButtonEl.style.display =\n",
              "    google.colab.kernel.accessAllowed ? 'block' : 'none';\n",
              "}\n",
              "\n",
              "        displayQuickchartButton(document);\n",
              "      </script>\n",
              "      <style>\n",
              "    .colab-df-container {\n",
              "      display:flex;\n",
              "      flex-wrap:wrap;\n",
              "      gap: 12px;\n",
              "    }\n",
              "\n",
              "    .colab-df-convert {\n",
              "      background-color: #E8F0FE;\n",
              "      border: none;\n",
              "      border-radius: 50%;\n",
              "      cursor: pointer;\n",
              "      display: none;\n",
              "      fill: #1967D2;\n",
              "      height: 32px;\n",
              "      padding: 0 0 0 0;\n",
              "      width: 32px;\n",
              "    }\n",
              "\n",
              "    .colab-df-convert:hover {\n",
              "      background-color: #E2EBFA;\n",
              "      box-shadow: 0px 1px 2px rgba(60, 64, 67, 0.3), 0px 1px 3px 1px rgba(60, 64, 67, 0.15);\n",
              "      fill: #174EA6;\n",
              "    }\n",
              "\n",
              "    [theme=dark] .colab-df-convert {\n",
              "      background-color: #3B4455;\n",
              "      fill: #D2E3FC;\n",
              "    }\n",
              "\n",
              "    [theme=dark] .colab-df-convert:hover {\n",
              "      background-color: #434B5C;\n",
              "      box-shadow: 0px 1px 3px 1px rgba(0, 0, 0, 0.15);\n",
              "      filter: drop-shadow(0px 1px 2px rgba(0, 0, 0, 0.3));\n",
              "      fill: #FFFFFF;\n",
              "    }\n",
              "  </style>\n",
              "\n",
              "      <script>\n",
              "        const buttonEl =\n",
              "          document.querySelector('#df-4fd95142-d4ce-4ff4-a7cd-3a52214e3cb9 button.colab-df-convert');\n",
              "        buttonEl.style.display =\n",
              "          google.colab.kernel.accessAllowed ? 'block' : 'none';\n",
              "\n",
              "        async function convertToInteractive(key) {\n",
              "          const element = document.querySelector('#df-4fd95142-d4ce-4ff4-a7cd-3a52214e3cb9');\n",
              "          const dataTable =\n",
              "            await google.colab.kernel.invokeFunction('convertToInteractive',\n",
              "                                                     [key], {});\n",
              "          if (!dataTable) return;\n",
              "\n",
              "          const docLinkHtml = 'Like what you see? Visit the ' +\n",
              "            '<a target=\"_blank\" href=https://colab.research.google.com/notebooks/data_table.ipynb>data table notebook</a>'\n",
              "            + ' to learn more about interactive tables.';\n",
              "          element.innerHTML = '';\n",
              "          dataTable['output_type'] = 'display_data';\n",
              "          await google.colab.output.renderOutput(dataTable, element);\n",
              "          const docLink = document.createElement('div');\n",
              "          docLink.innerHTML = docLinkHtml;\n",
              "          element.appendChild(docLink);\n",
              "        }\n",
              "      </script>\n",
              "    </div>\n",
              "  </div>\n"
            ]
          },
          "metadata": {},
          "execution_count": 94
        }
      ]
    },
    {
      "cell_type": "code",
      "source": [
        "# Criando um novo dataset\n",
        "# datasetNormalizado.to_csv('dataset_Desbalanceado_Scaler.csv', index=False)"
      ],
      "metadata": {
        "id": "DM8RDQ4N5fTM"
      },
      "execution_count": null,
      "outputs": []
    },
    {
      "cell_type": "markdown",
      "source": [
        "# Classificação"
      ],
      "metadata": {
        "id": "mkzumYhSUq_5"
      }
    },
    {
      "cell_type": "code",
      "source": [
        "# Dividindo o dataset em conjunto de treino e teste\n",
        "train, test, train_labels, test_labels = train_test_split(\n",
        "    atributosNormalizados, rotulos,test_size = 0.33, random_state = 42, stratify=rotulos)"
      ],
      "metadata": {
        "id": "o_lMudz77O3Y"
      },
      "execution_count": null,
      "outputs": []
    },
    {
      "cell_type": "code",
      "source": [
        "# Inicializando classificador\n",
        "ada = AdaBoostClassifier(estimator = LogisticRegression(max_iter=1000), learning_rate = 0.5, n_estimators = 100)"
      ],
      "metadata": {
        "id": "B8AGrJsTUtZ0"
      },
      "execution_count": null,
      "outputs": []
    },
    {
      "cell_type": "code",
      "source": [
        "# treinando\n",
        "model = ada.fit(train, train_labels)"
      ],
      "metadata": {
        "id": "ys_xUz2wUthh"
      },
      "execution_count": null,
      "outputs": []
    },
    {
      "cell_type": "code",
      "source": [
        "# Previsões\n",
        "preds = ada.predict(test)\n",
        "preds"
      ],
      "metadata": {
        "colab": {
          "base_uri": "https://localhost:8080/"
        },
        "id": "2mKmk9EUUtlT",
        "outputId": "ccf3217f-e69e-47ad-a6f0-c6208f3a0f30"
      },
      "execution_count": null,
      "outputs": [
        {
          "output_type": "execute_result",
          "data": {
            "text/plain": [
              "array([0, 0, 0, ..., 0, 0, 0])"
            ]
          },
          "metadata": {},
          "execution_count": 99
        }
      ]
    },
    {
      "cell_type": "code",
      "source": [
        "# Avaliando acurácia\n",
        "print(accuracy_score(test_labels, preds))"
      ],
      "metadata": {
        "id": "ZkOoKYZi7O9W",
        "colab": {
          "base_uri": "https://localhost:8080/"
        },
        "outputId": "fb926621-4fab-4dac-bf4e-ceb89874923b"
      },
      "execution_count": null,
      "outputs": [
        {
          "output_type": "stream",
          "name": "stdout",
          "text": [
            "0.7957587345732661\n"
          ]
        }
      ]
    },
    {
      "cell_type": "code",
      "source": [
        "# F1-score\n",
        "print(f1_score(test_labels, preds))"
      ],
      "metadata": {
        "colab": {
          "base_uri": "https://localhost:8080/"
        },
        "id": "De2JO6t5rDcT",
        "outputId": "b5d54ee3-eeea-4815-bc2c-d56a1095e922"
      },
      "execution_count": null,
      "outputs": [
        {
          "output_type": "stream",
          "name": "stdout",
          "text": [
            "0.3281875357347055\n"
          ]
        }
      ]
    },
    {
      "cell_type": "code",
      "source": [
        "# Analisando\n",
        "print(classification_report(test_labels, preds))"
      ],
      "metadata": {
        "colab": {
          "base_uri": "https://localhost:8080/"
        },
        "id": "uCiLmsXVWNKp",
        "outputId": "42e72200-9ea8-445c-c042-57e916ef88f8"
      },
      "execution_count": null,
      "outputs": [
        {
          "output_type": "stream",
          "name": "stdout",
          "text": [
            "              precision    recall  f1-score   support\n",
            "\n",
            "           0       0.81      0.96      0.88      4462\n",
            "           1       0.63      0.22      0.33      1291\n",
            "\n",
            "    accuracy                           0.80      5753\n",
            "   macro avg       0.72      0.59      0.60      5753\n",
            "weighted avg       0.77      0.80      0.76      5753\n",
            "\n"
          ]
        }
      ]
    },
    {
      "cell_type": "code",
      "source": [
        "# Avaliando modelo com valor curva ROC\n",
        "testeroc = RocCurveDisplay.from_estimator(ada, atributosNormalizados, rotulos)\n",
        "plt.show()"
      ],
      "metadata": {
        "colab": {
          "base_uri": "https://localhost:8080/",
          "height": 449
        },
        "id": "w5iTSo7WWNGt",
        "outputId": "e0af1d5a-0529-46f0-c8e0-b20f0417da80"
      },
      "execution_count": null,
      "outputs": [
        {
          "output_type": "display_data",
          "data": {
            "text/plain": [
              "<Figure size 640x480 with 1 Axes>"
            ],
            "image/png": "[encoded data removed]"
          },
          "metadata": {}
        }
      ]
    },
    {
      "cell_type": "code",
      "source": [
        "from google.colab import drive\n",
        "drive.mount('/content/drive')"
      ],
      "metadata": {
        "colab": {
          "base_uri": "https://localhost:8080/"
        },
        "id": "kqynP6Ud6Aku",
        "outputId": "73d8de37-1bfe-4d97-c8f1-2c6604f928ab"
      },
      "execution_count": null,
      "outputs": [
        {
          "output_type": "stream",
          "name": "stdout",
          "text": [
            "Drive already mounted at /content/drive; to attempt to forcibly remount, call drive.mount(\"/content/drive\", force_remount=True).\n"
          ]
        }
      ]
    },
    {
      "cell_type": "code",
      "source": [
        "# Matriz de correlação\n",
        "matriz_correlacao = pd.crosstab(test_labels, preds, rownames=['Real'],\n",
        "                                colnames=['Predito'])\n",
        "# Plotar mapa de calor\n",
        "sns.heatmap(matriz_correlacao, annot=True, cmap='Blues', fmt='d')\n",
        "plt.title('Matriz de Correlação')\n",
        "plt.show()"
      ],
      "metadata": {
        "colab": {
          "base_uri": "https://localhost:8080/",
          "height": 472
        },
        "id": "qrdipFvDWNAR",
        "outputId": "504af2f5-3d0f-4069-9c6a-e3a4ea02c926"
      },
      "execution_count": null,
      "outputs": [
        {
          "output_type": "display_data",
          "data": {
            "text/plain": [
              "<Figure size 640x480 with 2 Axes>"
            ],
            "image/png": "[encoded data removed]"
          },
          "metadata": {}
        }
      ]
    },
    {
      "cell_type": "markdown",
      "source": [
        "# GridSearchCV"
      ],
      "metadata": {
        "id": "jCI2BJWOVAwH"
      }
    },
    {
      "cell_type": "code",
      "source": [
        "'''from sklearn.ensemble import AdaBoostClassifier\n",
        "from sklearn.model_selection import GridSearchCV\n",
        "from sklearn.tree import DecisionTreeClassifier\n",
        "from sklearn.linear_model import LogisticRegression\n",
        "\n",
        "# Definir o modelo que deseja otimizar (por exemplo, AdaBoostClassifier)\n",
        "model = AdaBoostClassifier()\n",
        "\n",
        "# Definir os parâmetros que deseja otimizar para o modelo\n",
        "parameters = {\n",
        "    'n_estimators': [50, 100, 150],\n",
        "    'learning_rate': [0.5, 1.0, 1.5],\n",
        "    'estimator': [DecisionTreeClassifier(), LogisticRegression()],\n",
        "}\n",
        "\n",
        "# Criar o objeto GridSearchCV com o modelo e os parâmetros definidos\n",
        "grid_search = GridSearchCV(model, parameters)\n",
        "\n",
        "# Executar a busca em grade usando o conjunto de treinamento e etiquetas de treinamento\n",
        "grid_search.fit(train, train_labels)\n",
        "\n",
        "# Melhores parâmetros encontrados\n",
        "best_params = grid_search.best_params_'''"
      ],
      "metadata": {
        "id": "K-GX1MBg7PAr",
        "colab": {
          "base_uri": "https://localhost:8080/"
        },
        "outputId": "567ef117-fdaf-4891-c531-482f4e916ccf"
      },
      "execution_count": null,
      "outputs": [
        {
          "output_type": "execute_result",
          "data": {
            "text/plain": [
              "\"from sklearn.ensemble import AdaBoostClassifier\\nfrom sklearn.model_selection import GridSearchCV\\nfrom sklearn.tree import DecisionTreeClassifier\\nfrom sklearn.linear_model import LogisticRegression\\n\\n# Definir o modelo que deseja otimizar (por exemplo, AdaBoostClassifier)\\nmodel = AdaBoostClassifier()\\n\\n# Definir os parâmetros que deseja otimizar para o modelo\\nparameters = {\\n    'n_estimators': [50, 100, 150],\\n    'learning_rate': [0.5, 1.0, 1.5],\\n    'estimator': [DecisionTreeClassifier(), LogisticRegression()],\\n}\\n\\n# Criar o objeto GridSearchCV com o modelo e os parâmetros definidos\\ngrid_search = GridSearchCV(model, parameters)\\n\\n# Executar a busca em grade usando o conjunto de treinamento e etiquetas de treinamento\\ngrid_search.fit(train, train_labels)\\n\\n# Melhores parâmetros encontrados\\nbest_params = grid_search.best_params_\""
            ],
            "application/vnd.google.colaboratory.intrinsic+json": {
              "type": "string"
            }
          },
          "metadata": {},
          "execution_count": 106
        }
      ]
    },
    {
      "cell_type": "code",
      "source": [
        "#best_params"
      ],
      "metadata": {
        "id": "-MM19U7U7PDq"
      },
      "execution_count": null,
      "outputs": []
    }
  ]
}